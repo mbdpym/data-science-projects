{
 "cells": [
  {
   "cell_type": "markdown",
   "metadata": {},
   "source": [
    "# Tarefa 03\n",
    "\n",
    "- Leia os enunciados com atenção\n",
    "- Saiba que pode haver mais de uma resposta correta\n",
    "- Insira novas células de código sempre que achar necessário\n",
    "- Em caso de dúvidas, procure os Tutores\n",
    "- Divirta-se :)"
   ]
  },
  {
   "cell_type": "code",
   "execution_count": 2,
   "metadata": {
    "ExecuteTime": {
     "end_time": "2024-01-01T01:37:59.453734800Z",
     "start_time": "2024-01-01T01:37:58.938470500Z"
    }
   },
   "outputs": [],
   "source": [
    "import pandas as pd\n",
    "import requests\n",
    "from urllib.parse import quote"
   ]
  },
  {
   "cell_type": "markdown",
   "metadata": {},
   "source": [
    "####  1) Lendo de APIs\n",
    "Vimos em aula como carregar dados públicos do governo através de um API (*Application Programming Interface*). No exemplo de aula, baixamos os dados de pedidos de verificação de limites (PVL) realizados por estados, e selecionamos apenas aqueles referentes ao estado de São Paulo.\n",
    "\n",
    "1. Repita os mesmos passos feitos em aula, mas selecione os PVLs realizados por municípios no estado do Rio de Janeiro.\n",
    "2. Quais são os três *status* das solicitações mais frequentes na base? Quais são suas frequências?\n",
    "3. Construa uma nova variável que contenha o ano do **status**. Observe que ```data_status``` vem como tipo *object* no **DataFrame**. Dica: você pode usar o método ```.str``` para transformar o tipo da variável em string, em seguida um método como [**slice()**](https://pandas.pydata.org/docs/reference/api/pandas.Series.str.slice.html) ou [**split()**](https://pandas.pydata.org/pandas-docs/stable/reference/api/pandas.Series.str.split.html).\n",
    "4. Indique a frequência de cada ano do campo construído no item (3)."
   ]
  },
  {
   "cell_type": "markdown",
   "source": [
    "* https://apidatalake.tesouro.gov.br/ords/sadipem/tt/pvl?uf=RJ&tipo_interessado=Estado"
   ],
   "metadata": {
    "collapsed": false
   }
  },
  {
   "cell_type": "code",
   "execution_count": 11,
   "metadata": {
    "ExecuteTime": {
     "end_time": "2023-12-31T19:26:41.873881200Z",
     "start_time": "2023-12-31T19:26:41.456279900Z"
    }
   },
   "outputs": [
    {
     "data": {
      "text/plain": "200"
     },
     "execution_count": 11,
     "metadata": {},
     "output_type": "execute_result"
    }
   ],
   "source": [
    "# 1) Seu código aqui\n",
    "url = 'https://apidatalake.tesouro.gov.br/ords/sadipem/tt/pvl?uf=RJ&tipo_interessado=Munic%c3%adpio'\n",
    "\n",
    "r = requests.get(url)\n",
    "data_json = r.json()\n",
    "r.status_code"
   ]
  },
  {
   "cell_type": "code",
   "outputs": [
    {
     "data": {
      "text/plain": "   id_pleito tipo_interessado          interessado  cod_ibge  uf  \\\n0       5290        Município    Casimiro de Abreu   3301306  RJ   \n1      61009        Município       Rio das Flores   3304508  RJ   \n2      66228        Município  São Pedro da Aldeia   3305208  RJ   \n3       6363        Município            Rio Claro   3304409  RJ   \n4       7907        Município             Mesquita   3302858  RJ   \n\n                num_pvl                          status          num_processo  \\\n0                  None                        Deferido  17944.000078/2014-81   \n1  PVL02.007214/2022-19  Arquivado por decurso de prazo  17944.103071/2022-20   \n2  PVL02.003177/2023-42               Deferido (PVL-IF)                  None   \n3                  None                    Regularizado  17944.000328/2008-34   \n4                  None                        Deferido  17944.000675/2010-81   \n\n         data_protocolo                tipo_operacao  \\\n0  2014-11-28T02:00:00Z  Operação contratual interna   \n1  2022-08-12T18:48:50Z  Operação contratual interna   \n2                  None  Operação contratual interna   \n3  2011-06-01T03:00:00Z  Operação contratual interna   \n4  2010-09-06T03:00:00Z  Operação contratual interna   \n\n                                          finalidade  \\\n0  PAC 2 - Pró-Transporte - Pavimentação e Qualif...   \n1                                     Infraestrutura   \n2                                     Infraestrutura   \n3         Regularização de Dívida - Energia Elétrica   \n4                                              PNAFM   \n\n                       tipo_credor                                credor  \\\n0  Instituição Financeira Nacional               Caixa Econômica Federal   \n1  Instituição Financeira Nacional               Caixa Econômica Federal   \n2  Instituição Financeira Nacional                   Banco do Brasil S/A   \n3              Empresa Não Estatal  Light - Serviços de Eletricidade S/A   \n4  Instituição Financeira Nacional               Caixa Econômica Federal   \n\n  moeda        valor  pvl_assoc_divida  pvl_contradado_credor data_status  \n0  Real  15024627.28                 1                      0  12/12/2014  \n1  Real   6000000.00                 0                      0  10/02/2023  \n2  Real   5500000.00                 0                      0  12/09/2023  \n3  Real   6733230.99                 0                      0  22/07/2011  \n4  Real   5106563.00                 1                      0  20/09/2010  ",
      "text/html": "<div>\n<style scoped>\n    .dataframe tbody tr th:only-of-type {\n        vertical-align: middle;\n    }\n\n    .dataframe tbody tr th {\n        vertical-align: top;\n    }\n\n    .dataframe thead th {\n        text-align: right;\n    }\n</style>\n<table border=\"1\" class=\"dataframe\">\n  <thead>\n    <tr style=\"text-align: right;\">\n      <th></th>\n      <th>id_pleito</th>\n      <th>tipo_interessado</th>\n      <th>interessado</th>\n      <th>cod_ibge</th>\n      <th>uf</th>\n      <th>num_pvl</th>\n      <th>status</th>\n      <th>num_processo</th>\n      <th>data_protocolo</th>\n      <th>tipo_operacao</th>\n      <th>finalidade</th>\n      <th>tipo_credor</th>\n      <th>credor</th>\n      <th>moeda</th>\n      <th>valor</th>\n      <th>pvl_assoc_divida</th>\n      <th>pvl_contradado_credor</th>\n      <th>data_status</th>\n    </tr>\n  </thead>\n  <tbody>\n    <tr>\n      <th>0</th>\n      <td>5290</td>\n      <td>Município</td>\n      <td>Casimiro de Abreu</td>\n      <td>3301306</td>\n      <td>RJ</td>\n      <td>None</td>\n      <td>Deferido</td>\n      <td>17944.000078/2014-81</td>\n      <td>2014-11-28T02:00:00Z</td>\n      <td>Operação contratual interna</td>\n      <td>PAC 2 - Pró-Transporte - Pavimentação e Qualif...</td>\n      <td>Instituição Financeira Nacional</td>\n      <td>Caixa Econômica Federal</td>\n      <td>Real</td>\n      <td>15024627.28</td>\n      <td>1</td>\n      <td>0</td>\n      <td>12/12/2014</td>\n    </tr>\n    <tr>\n      <th>1</th>\n      <td>61009</td>\n      <td>Município</td>\n      <td>Rio das Flores</td>\n      <td>3304508</td>\n      <td>RJ</td>\n      <td>PVL02.007214/2022-19</td>\n      <td>Arquivado por decurso de prazo</td>\n      <td>17944.103071/2022-20</td>\n      <td>2022-08-12T18:48:50Z</td>\n      <td>Operação contratual interna</td>\n      <td>Infraestrutura</td>\n      <td>Instituição Financeira Nacional</td>\n      <td>Caixa Econômica Federal</td>\n      <td>Real</td>\n      <td>6000000.00</td>\n      <td>0</td>\n      <td>0</td>\n      <td>10/02/2023</td>\n    </tr>\n    <tr>\n      <th>2</th>\n      <td>66228</td>\n      <td>Município</td>\n      <td>São Pedro da Aldeia</td>\n      <td>3305208</td>\n      <td>RJ</td>\n      <td>PVL02.003177/2023-42</td>\n      <td>Deferido (PVL-IF)</td>\n      <td>None</td>\n      <td>None</td>\n      <td>Operação contratual interna</td>\n      <td>Infraestrutura</td>\n      <td>Instituição Financeira Nacional</td>\n      <td>Banco do Brasil S/A</td>\n      <td>Real</td>\n      <td>5500000.00</td>\n      <td>0</td>\n      <td>0</td>\n      <td>12/09/2023</td>\n    </tr>\n    <tr>\n      <th>3</th>\n      <td>6363</td>\n      <td>Município</td>\n      <td>Rio Claro</td>\n      <td>3304409</td>\n      <td>RJ</td>\n      <td>None</td>\n      <td>Regularizado</td>\n      <td>17944.000328/2008-34</td>\n      <td>2011-06-01T03:00:00Z</td>\n      <td>Operação contratual interna</td>\n      <td>Regularização de Dívida - Energia Elétrica</td>\n      <td>Empresa Não Estatal</td>\n      <td>Light - Serviços de Eletricidade S/A</td>\n      <td>Real</td>\n      <td>6733230.99</td>\n      <td>0</td>\n      <td>0</td>\n      <td>22/07/2011</td>\n    </tr>\n    <tr>\n      <th>4</th>\n      <td>7907</td>\n      <td>Município</td>\n      <td>Mesquita</td>\n      <td>3302858</td>\n      <td>RJ</td>\n      <td>None</td>\n      <td>Deferido</td>\n      <td>17944.000675/2010-81</td>\n      <td>2010-09-06T03:00:00Z</td>\n      <td>Operação contratual interna</td>\n      <td>PNAFM</td>\n      <td>Instituição Financeira Nacional</td>\n      <td>Caixa Econômica Federal</td>\n      <td>Real</td>\n      <td>5106563.00</td>\n      <td>1</td>\n      <td>0</td>\n      <td>20/09/2010</td>\n    </tr>\n  </tbody>\n</table>\n</div>"
     },
     "execution_count": 12,
     "metadata": {},
     "output_type": "execute_result"
    }
   ],
   "source": [
    "df = pd.DataFrame(data_json['items'])\n",
    "df.head(5)"
   ],
   "metadata": {
    "collapsed": false,
    "ExecuteTime": {
     "end_time": "2023-12-31T19:26:43.657084Z",
     "start_time": "2023-12-31T19:26:43.645031900Z"
    }
   },
   "execution_count": 12
  },
  {
   "cell_type": "code",
   "execution_count": 13,
   "metadata": {
    "ExecuteTime": {
     "end_time": "2023-12-31T19:26:49.615542Z",
     "start_time": "2023-12-31T19:26:49.607759800Z"
    }
   },
   "outputs": [
    {
     "data": {
      "text/plain": "status\nDeferido                                                 105\nArquivado                                                 53\nRegularizado                                              26\nArquivado por decurso de prazo                            24\nDeferido (PVL-IF)                                         24\nEncaminhado à PGFN com manifestação técnica favorável     14\nArquivado a pedido                                         7\nEm retificação pelo interessado                            3\nArquivado a pedido (PVL-IF)                                1\nArquivado pela STN                                         1\nEm análise                                                 1\nName: count, dtype: int64"
     },
     "execution_count": 13,
     "metadata": {},
     "output_type": "execute_result"
    }
   ],
   "source": [
    "# 2) Seu código aqui\n",
    "\n",
    "df['status'].value_counts()\n",
    "#resposta: Deferido, Arquivado e Regularizado com 105, 53 e 26 incidências"
   ]
  },
  {
   "cell_type": "code",
   "execution_count": 14,
   "metadata": {
    "ExecuteTime": {
     "end_time": "2023-12-31T19:27:54.137957Z",
     "start_time": "2023-12-31T19:27:54.125201800Z"
    }
   },
   "outputs": [
    {
     "data": {
      "text/plain": "0      2014\n1      2023\n2      2023\n3      2011\n4      2010\n       ... \n254    2014\n255    2019\n256    2019\n257    2017\n258    2007\nName: ano_status, Length: 259, dtype: object"
     },
     "execution_count": 14,
     "metadata": {},
     "output_type": "execute_result"
    }
   ],
   "source": [
    "# 3) Seu código aqui\n",
    "\n",
    "df['data_status'].astype(str)\n",
    "\n",
    "df['ano_status'] = df['data_status'].str.slice(-4)\n",
    "df['ano_status']"
   ]
  },
  {
   "cell_type": "code",
   "outputs": [
    {
     "data": {
      "text/plain": "ano_status\n2008    37\n2007    29\n2023    29\n2014    20\n2010    19\n2019    16\n2020    15\n2013    15\n2012    13\n2022    11\n2011    10\n2009     9\n2015     8\n2017     5\n2021     5\n2002     4\n2016     4\n2018     4\n2006     4\n2003     1\n2004     1\nName: count, dtype: int64"
     },
     "execution_count": 15,
     "metadata": {},
     "output_type": "execute_result"
    }
   ],
   "source": [
    "# 4)\n",
    "df['ano_status'].value_counts()"
   ],
   "metadata": {
    "collapsed": false,
    "ExecuteTime": {
     "end_time": "2023-12-31T19:28:08.781212700Z",
     "start_time": "2023-12-31T19:28:08.768647300Z"
    }
   },
   "execution_count": 15
  },
  {
   "cell_type": "markdown",
   "metadata": {},
   "source": [
    "####  2) Melhorando a interação com o API\n",
    "Observe dois URLs de consultas diferentes, por exemplo o URL utilizado em aula, e o URL feito no exercício anterior. Compare-os e observe as diferenças.\n",
    "\n",
    "1. Faça uma função em Python que recebe como argumento o UF da consulta e o tipo de interessado (```'Estado'```ou ```Município```), e que devolve os dados da consulta no formato *DataFrame*.\n",
    "2. Quantas solicitações para o Estado podem ser consultadas para Minas Gerais com *status* em 'Arquivado por decurso de prazo' estão registradas?\n",
    "3. Qual é o município da Bahia com mais solicitações deferidas?\n",
    "4. Salve um arquivo .csv com os dados de solicitações da Bahia, com interessado = 'Estado'"
   ]
  },
  {
   "cell_type": "code",
   "execution_count": 3,
   "metadata": {
    "ExecuteTime": {
     "end_time": "2024-01-01T01:38:02.634977900Z",
     "start_time": "2024-01-01T01:38:02.630473300Z"
    }
   },
   "outputs": [],
   "source": [
    "#1) Seu código aqui\n",
    "\n",
    "def query_sadipem(uf = str, tipo_interessado = str):\n",
    "\n",
    "    # Definindo variações da palavra município para que digitar sem acento também funcione, assim como uma opção padrão\n",
    "    tipo_interessado_variations = ['município', 'estado']\n",
    "\n",
    "    if tipo_interessado.lower() not in tipo_interessado_variations:\n",
    "        tipo_interessado = 'município'\n",
    "    #usando função quote do urrlib.parse para resolver de forma elegante a codificação do i com acento da palavra 'município' que pode causar problemas na URL\n",
    "    tipo_interessado_encoded = quote(tipo_interessado)\n",
    "    \n",
    "    #definição de variáveis\n",
    "    url = f'https://apidatalake.tesouro.gov.br/ords/sadipem/tt/pvl?uf={uf.upper()}&tipo_interessado={tipo_interessado_encoded.capitalize()}'\n",
    "    \n",
    "    #puxando dados da url\n",
    "    r = requests.get(url)\n",
    "    \n",
    "    #preparando json para manipulação\n",
    "    data_json = r.json()\n",
    "    \n",
    "    #criação do DataFrame e exibição do mesmo\n",
    "    if r.status_code == 200:\n",
    "        df = pd.DataFrame(data_json['items'])\n",
    "        print(url)\n",
    "        return df\n",
    "    else:\n",
    "        print(f'Erro: Código {r.status_code}')"
   ]
  },
  {
   "cell_type": "code",
   "execution_count": 5,
   "metadata": {
    "ExecuteTime": {
     "end_time": "2024-01-01T01:38:10.452919500Z",
     "start_time": "2024-01-01T01:38:10.034435100Z"
    }
   },
   "outputs": [
    {
     "name": "stdout",
     "output_type": "stream",
     "text": [
      "https://apidatalake.tesouro.gov.br/ords/sadipem/tt/pvl?uf=MG&tipo_interessado=Estado\n"
     ]
    },
    {
     "data": {
      "text/plain": "    id_pleito tipo_interessado   interessado  cod_ibge  uf  \\\n0        4926           Estado  Minas Gerais        31  MG   \n1        7280           Estado  Minas Gerais        31  MG   \n2        7435           Estado  Minas Gerais        31  MG   \n3       10338           Estado  Minas Gerais        31  MG   \n4        5828           Estado  Minas Gerais        31  MG   \n5       13618           Estado  Minas Gerais        31  MG   \n6       11054           Estado  Minas Gerais        31  MG   \n7       20534           Estado  Minas Gerais        31  MG   \n8       11328           Estado  Minas Gerais        31  MG   \n9       22379           Estado  Minas Gerais        31  MG   \n10      13672           Estado  Minas Gerais        31  MG   \n11      13695           Estado  Minas Gerais        31  MG   \n12      13587           Estado  Minas Gerais        31  MG   \n13      20458           Estado  Minas Gerais        31  MG   \n14       9197           Estado  Minas Gerais        31  MG   \n15      22380           Estado  Minas Gerais        31  MG   \n16      13447           Estado  Minas Gerais        31  MG   \n17      13595           Estado  Minas Gerais        31  MG   \n18       5582           Estado  Minas Gerais        31  MG   \n19      27063           Estado  Minas Gerais        31  MG   \n20       7002           Estado  Minas Gerais        31  MG   \n21      10265           Estado  Minas Gerais        31  MG   \n22       5967           Estado  Minas Gerais        31  MG   \n23      13549           Estado  Minas Gerais        31  MG   \n24       7419           Estado  Minas Gerais        31  MG   \n25       8255           Estado  Minas Gerais        31  MG   \n26      10294           Estado  Minas Gerais        31  MG   \n27       6917           Estado  Minas Gerais        31  MG   \n28      11132           Estado  Minas Gerais        31  MG   \n29      13275           Estado  Minas Gerais        31  MG   \n30       6811           Estado  Minas Gerais        31  MG   \n31      13602           Estado  Minas Gerais        31  MG   \n32      11571           Estado  Minas Gerais        31  MG   \n33      10011           Estado  Minas Gerais        31  MG   \n34      13641           Estado  Minas Gerais        31  MG   \n35       7032           Estado  Minas Gerais        31  MG   \n36      12286           Estado  Minas Gerais        31  MG   \n37      11696           Estado  Minas Gerais        31  MG   \n38       7023           Estado  Minas Gerais        31  MG   \n39      13441           Estado  Minas Gerais        31  MG   \n\n                 num_pvl                                             status  \\\n0                   None                                          Arquivado   \n1                   None                                           Deferido   \n2                   None  Encaminhado à PGFN com manifestação técnica fa...   \n3                   None  Encaminhado à PGFN com manifestação técnica fa...   \n4                   None  Encaminhado à PGFN com manifestação técnica fa...   \n5                   None  Encaminhado à PGFN com manifestação técnica fa...   \n6                   None  Encaminhado à PGFN com manifestação técnica fa...   \n7   00000.000000/2017-69                     Arquivado por decurso de prazo   \n8                   None  Encaminhado à PGFN com manifestação técnica fa...   \n9   00000.000000/2031-08                                 Arquivado pela STN   \n10                  None  Encaminhado à PGFN com manifestação técnica fa...   \n11                  None                                          Arquivado   \n12                  None  Encaminhado à PGFN com manifestação técnica fa...   \n13  00000.000000/2020-68                                 Arquivado a pedido   \n14                  None  Encaminhado à PGFN com manifestação técnica fa...   \n15  00000.000000/2031-07                                 Arquivado pela STN   \n16                  None  Encaminhado à PGFN com manifestação técnica fa...   \n17                  None                                         Indeferido   \n18                  None                                 Arquivado a pedido   \n19  PVL02.002572/2017-60                                 Arquivado pela STN   \n20                  None  Encaminhado à PGFN com manifestação técnica fa...   \n21                  None                                 Arquivado a pedido   \n22                  None                                           Deferido   \n23                  None                                           Deferido   \n24                  None                                           Deferido   \n25                  None  Encaminhado à PGFN com manifestação técnica fa...   \n26                  None  Encaminhado à PGFN com manifestação técnica fa...   \n27                  None  Encaminhado à PGFN com manifestação técnica fa...   \n28                  None  Encaminhado à PGFN com manifestação técnica fa...   \n29                  None                                 Arquivado a pedido   \n30                  None  Encaminhado à PGFN com manifestação técnica fa...   \n31                  None  Encaminhado à PGFN com manifestação técnica fa...   \n32                  None  Encaminhado à PGFN com manifestação técnica fa...   \n33                  None                                           Deferido   \n34                  None                                           Deferido   \n35                  None  Encaminhado à PGFN com manifestação técnica fa...   \n36                  None                                          Arquivado   \n37                  None                                 Arquivado a pedido   \n38                  None  Encaminhado à PGFN com manifestação técnica fa...   \n39                  None                                           Deferido   \n\n            num_processo        data_protocolo  \\\n0   10951.000367/1998-24  1998-05-12T03:00:00Z   \n1   17944.000537/2010-01  2010-06-24T03:00:00Z   \n2   17944.000576/2009-66  2009-05-26T03:00:00Z   \n3   17944.001175/2009-23  2009-09-22T03:00:00Z   \n4   17944.000208/2013-02  2013-07-16T03:00:00Z   \n5   19405.000037/2006-15  2009-02-26T03:00:00Z   \n6   17944.001346/2012-10  2012-10-29T02:00:00Z   \n7   17944.001113/2015-60  2017-07-26T03:00:00Z   \n8   17944.001412/2012-51  2012-12-11T02:00:00Z   \n9   17944.000548/2016-78  2016-12-21T02:00:00Z   \n10  19405.000048/2005-14  2005-12-28T02:00:00Z   \n11  19405.000053/2003-57  2003-08-25T03:00:00Z   \n12  19405.000031/2004-78  2004-11-27T02:00:00Z   \n13  17944.001085/2015-81  2015-11-23T02:00:00Z   \n14  17944.000924/2009-03  2010-03-10T03:00:00Z   \n15  17944.000547/2016-23  2016-12-21T02:00:00Z   \n16  19405.000002/2006-78  2009-02-02T02:00:00Z   \n17  19405.000033/2002-03  2002-05-28T03:00:00Z   \n18  17944.000148/2013-10  2013-04-02T03:00:00Z   \n19  17944.103474/2017-10  2020-06-10T13:12:13Z   \n20  17944.000477/2010-18  2010-05-24T03:00:00Z   \n21  17944.001157/2013-28  2014-04-17T03:00:00Z   \n22  17944.000246/2011-95  2011-05-02T03:00:00Z   \n23  19405.000023/2006-93  2006-05-19T03:00:00Z   \n24  17944.000571/2012-39  2012-06-18T03:00:00Z   \n25  17944.000742/2013-19  2014-02-24T03:00:00Z   \n26  17944.001163/2012-02  2012-10-17T03:00:00Z   \n27  17944.000458/2012-53  2012-07-05T03:00:00Z   \n28  17944.001368/2009-84  2009-11-20T02:00:00Z   \n29  17944.002000/2013-10  2014-04-17T03:00:00Z   \n30  17944.000435/2008-62  2008-03-06T03:00:00Z   \n31  19405.000034/2005-92  2005-10-31T02:00:00Z   \n32  17944.001479/2009-91  2010-03-26T03:00:00Z   \n33  17944.001099/2010-90  2010-08-23T03:00:00Z   \n34  19405.000042/2004-58  2004-11-26T02:00:00Z   \n35  17944.000482/2012-92  2012-10-11T03:00:00Z   \n36  17944.001650/2008-81  2008-12-31T02:00:00Z   \n37  17944.001504/2014-01  2015-04-13T03:00:00Z   \n38  17944.000480/2012-01  2012-10-11T03:00:00Z   \n39  19405.000001/2005-42  2005-08-16T03:00:00Z   \n\n                                        tipo_operacao  \\\n0   Operação contratual externa (com garantia da U...   \n1                         Operação contratual interna   \n2   Operação contratual externa (com garantia da U...   \n3   Operação contratual interna (com garantia da U...   \n4   Operação contratual interna (com garantia da U...   \n5   Operação contratual externa (com garantia da U...   \n6   Operação contratual interna (com garantia da U...   \n7                         Operação contratual interna   \n8   Operação contratual interna (com garantia da U...   \n9   Operação contratual interna (com garantia da U...   \n10  Operação contratual externa (com garantia da U...   \n11  Operação contratual externa (com garantia da U...   \n12  Operação contratual externa (com garantia da U...   \n13  Operação contratual externa (com garantia da U...   \n14  Operação contratual externa (com garantia da U...   \n15  Operação contratual interna (com garantia da U...   \n16  Operação contratual externa (com garantia da U...   \n17                        Operação contratual interna   \n18  Operação contratual externa (com garantia da U...   \n19                        Operação contratual interna   \n20  Operação contratual interna (com garantia da U...   \n21                        Operação contratual interna   \n22                              Concessão de garantia   \n23                        Operação contratual interna   \n24                        Operação contratual interna   \n25  Operação contratual interna (com garantia da U...   \n26  Operação contratual interna (com garantia da U...   \n27  Operação contratual externa (com garantia da U...   \n28  Operação contratual externa (com garantia da U...   \n29  Operação contratual interna (com garantia da U...   \n30  Operação contratual externa (com garantia da U...   \n31  Operação contratual externa (com garantia da U...   \n32  Operação contratual externa (com garantia da U...   \n33                        Operação contratual interna   \n34                        Operação contratual interna   \n35  Operação contratual externa (com garantia da U...   \n36  Operação contratual externa (com garantia da U...   \n37  Operação contratual externa (com garantia da U...   \n38  Operação contratual externa (com garantia da U...   \n39                        Operação contratual interna   \n\n                                           finalidade  \\\n0                                      Infraestrutura   \n1                                      Infraestrutura   \n2                        Fortalecimento Institucional   \n3   PEF - Programa Emergencial de Financiamento do...   \n4                                      Infraestrutura   \n5                                      Multissetorial   \n6                                          Proinveste   \n7                                                PMAE   \n8                                      Multissetorial   \n9                                  Aditivo contratual   \n10                                     Multissetorial   \n11                                     Infraestrutura   \n12                              Desenvolvimento rural   \n13                                     Multissetorial   \n14                                     Infraestrutura   \n15                                 Aditivo contratual   \n16                                     Infraestrutura   \n17                            Renegociação de dívidas   \n18                                     Infraestrutura   \n19                            Renegociação de dívidas   \n20  PEF - Programa Emergencial de Financiamento do...   \n21                                               PMAE   \n22  Concessão de garantia a empresa estatal não de...   \n23                                     Infraestrutura   \n24                                      BNDES Estados   \n25                              Saneamento para Todos   \n26                                     Multissetorial   \n27  Reestruturação e recomposição do principal de ...   \n28                                     Infraestrutura   \n29                                     Infraestrutura   \n30                                     Multissetorial   \n31                                     Infraestrutura   \n32                                     Multissetorial   \n33                                               PMAE   \n34                                     Infraestrutura   \n35  Reestruturação e recomposição do principal de ...   \n36                                     Infraestrutura   \n37                                  Segurança pública   \n38  Reestruturação e recomposição do principal de ...   \n39                                     Infraestrutura   \n\n                             tipo_credor  \\\n0   Instituição Financeira Internacional   \n1        Instituição Financeira Nacional   \n2   Instituição Financeira Internacional   \n3        Instituição Financeira Nacional   \n4        Instituição Financeira Nacional   \n5   Instituição Financeira Internacional   \n6        Instituição Financeira Nacional   \n7        Instituição Financeira Nacional   \n8        Instituição Financeira Nacional   \n9        Instituição Financeira Nacional   \n10  Instituição Financeira Internacional   \n11  Instituição Financeira Internacional   \n12  Instituição Financeira Internacional   \n13  Instituição Financeira Internacional   \n14  Instituição Financeira Internacional   \n15       Instituição Financeira Nacional   \n16  Instituição Financeira Internacional   \n17       Instituição Financeira Nacional   \n18  Instituição Financeira Internacional   \n19                                 União   \n20       Instituição Financeira Nacional   \n21       Instituição Financeira Nacional   \n22  Instituição Financeira Internacional   \n23       Instituição Financeira Nacional   \n24       Instituição Financeira Nacional   \n25       Instituição Financeira Nacional   \n26       Instituição Financeira Nacional   \n27  Instituição Financeira Internacional   \n28  Instituição Financeira Internacional   \n29       Instituição Financeira Nacional   \n30  Instituição Financeira Internacional   \n31  Instituição Financeira Internacional   \n32  Instituição Financeira Internacional   \n33       Instituição Financeira Nacional   \n34       Instituição Financeira Nacional   \n35  Instituição Financeira Internacional   \n36  Instituição Financeira Internacional   \n37  Instituição Financeira Internacional   \n38  Instituição Financeira Internacional   \n39       Instituição Financeira Nacional   \n\n                                               credor          moeda  \\\n0   Banco Internacional para Reconstrução e Desenv...  Dólar dos EUA   \n1   Banco Nacional de Desenvolvimento Econômico e ...           Real   \n2             Banco Interamericano de Desenvolvimento  Dólar dos EUA   \n3                                 Banco do Brasil S/A           Real   \n4                                 Banco do Brasil S/A           Real   \n5             Banco Interamericano de Desenvolvimento  Dólar dos EUA   \n6   Banco Nacional de Desenvolvimento Econômico e ...           Real   \n7   Banco Nacional de Desenvolvimento Econômico e ...           Real   \n8                                 Banco do Brasil S/A           Real   \n9                                 Banco do Brasil S/A           Real   \n10  Banco Internacional para Reconstrução e Desenv...  Dólar dos EUA   \n11  Banco Internacional para Reconstrução e Desenv...  Dólar dos EUA   \n12  Banco Internacional para Reconstrução e Desenv...  Dólar dos EUA   \n13            Banco Interamericano de Desenvolvimento  Dólar dos EUA   \n14            Banco Interamericano de Desenvolvimento  Dólar dos EUA   \n15                                Banco do Brasil S/A           Real   \n16            Banco Interamericano de Desenvolvimento  Dólar dos EUA   \n17  Banco Nacional de Desenvolvimento Econômico e ...           Real   \n18                       Corporação Andina de Fomento  Dólar dos EUA   \n19                                              União           Real   \n20  Banco Nacional de Desenvolvimento Econômico e ...           Real   \n21  Banco Nacional de Desenvolvimento Econômico e ...           Real   \n22                     Kreditanstalt für Wiederaufbau           Euro   \n23                                Banco do Brasil S/A           Iene   \n24  Banco Nacional de Desenvolvimento Econômico e ...           Real   \n25                            Caixa Econômica Federal           Real   \n26                                Banco do Brasil S/A           Real   \n27                                   Credit Suisse AG  Dólar dos EUA   \n28            Banco Interamericano de Desenvolvimento  Dólar dos EUA   \n29  Banco Nacional de Desenvolvimento Econômico e ...           Real   \n30  Banco Internacional para Reconstrução e Desenv...  Dólar dos EUA   \n31            Banco Interamericano de Desenvolvimento  Dólar dos EUA   \n32  Banco Internacional para Reconstrução e Desenv...  Dólar dos EUA   \n33  Banco Nacional de Desenvolvimento Econômico e ...           Real   \n34  Banco Nacional de Desenvolvimento Econômico e ...           Real   \n35  Banco Internacional para Reconstrução e Desenv...  Dólar dos EUA   \n36            Banco Interamericano de Desenvolvimento  Dólar dos EUA   \n37            Banco Interamericano de Desenvolvimento  Dólar dos EUA   \n38                Agência Francesa de Desenvolvimento           Euro   \n39                    Banco do Nordeste do Brasil S/A  Dólar dos EUA   \n\n           valor  pvl_assoc_divida  pvl_contradado_credor data_status  \n0   1.650000e+08                 0                      0  24/07/2002  \n1   3.488900e+07                 1                      0  25/06/2010  \n2   4.000000e+07                 1                      0  10/06/2009  \n3   1.781800e+08                 1                      0  08/10/2009  \n4   1.500000e+09                 1                      0  12/08/2013  \n5   1.000000e+07                 1                      0  12/03/2009  \n6   1.326390e+09                 1                      0  02/01/2013  \n7   7.668000e+06                 0                      0  16/03/2018  \n8   3.653733e+09                 1                      0  03/01/2013  \n9   4.537330e+08                 0                      0  16/10/2017  \n10  1.700000e+08                 1                      0  19/04/2006  \n11  3.500000e+07                 0                      0  20/02/2004  \n12  3.500000e+07                 1                      0  09/12/2004  \n13  5.000000e+07                 0                      0  29/04/2016  \n14  5.000000e+07                 1                      0  01/04/2010  \n15  6.985602e+08                 0                      0  16/10/2017  \n16  1.000000e+07                 1                      0  12/11/2009  \n17  5.377000e+07                 0                      0  03/07/2002  \n18  3.000000e+08                 0                      0  10/04/2013  \n19  9.396517e+10                 0                      0  04/05/2021  \n20  2.672700e+08                 1                      0  17/06/2010  \n21  8.745300e+07                 0                      0  24/04/2014  \n22  1.000000e+08                 0                      0  19/05/2011  \n23  7.250000e+09                 1                      0  29/05/2006  \n24  2.470000e+08                 1                      0  26/06/2012  \n25  4.526420e+08                 1                      1  01/04/2014  \n26  4.697730e+08                 1                      0  02/01/2013  \n27  1.300000e+09                 1                      0  01/11/2012  \n28  1.370000e+08                 1                      0  26/11/2009  \n29  6.000000e+08                 0                      0  24/04/2014  \n30  9.760000e+08                 1                      0  02/07/2008  \n31  5.000000e+07                 1                      0  18/04/2006  \n32  4.610000e+08                 1                      0  01/04/2010  \n33  4.674243e+06                 1                      0  25/08/2010  \n34  5.377000e+07                 1                      0  08/12/2004  \n35  4.500000e+08                 1                      0  15/10/2012  \n36  5.000000e+07                 0                      0  23/01/2009  \n37  7.000000e+07                 0                      0  29/04/2016  \n38  3.000000e+08                 1                      0  16/10/2012  \n39  2.753400e+07                 1                      0  29/08/2005  ",
      "text/html": "<div>\n<style scoped>\n    .dataframe tbody tr th:only-of-type {\n        vertical-align: middle;\n    }\n\n    .dataframe tbody tr th {\n        vertical-align: top;\n    }\n\n    .dataframe thead th {\n        text-align: right;\n    }\n</style>\n<table border=\"1\" class=\"dataframe\">\n  <thead>\n    <tr style=\"text-align: right;\">\n      <th></th>\n      <th>id_pleito</th>\n      <th>tipo_interessado</th>\n      <th>interessado</th>\n      <th>cod_ibge</th>\n      <th>uf</th>\n      <th>num_pvl</th>\n      <th>status</th>\n      <th>num_processo</th>\n      <th>data_protocolo</th>\n      <th>tipo_operacao</th>\n      <th>finalidade</th>\n      <th>tipo_credor</th>\n      <th>credor</th>\n      <th>moeda</th>\n      <th>valor</th>\n      <th>pvl_assoc_divida</th>\n      <th>pvl_contradado_credor</th>\n      <th>data_status</th>\n    </tr>\n  </thead>\n  <tbody>\n    <tr>\n      <th>0</th>\n      <td>4926</td>\n      <td>Estado</td>\n      <td>Minas Gerais</td>\n      <td>31</td>\n      <td>MG</td>\n      <td>None</td>\n      <td>Arquivado</td>\n      <td>10951.000367/1998-24</td>\n      <td>1998-05-12T03:00:00Z</td>\n      <td>Operação contratual externa (com garantia da U...</td>\n      <td>Infraestrutura</td>\n      <td>Instituição Financeira Internacional</td>\n      <td>Banco Internacional para Reconstrução e Desenv...</td>\n      <td>Dólar dos EUA</td>\n      <td>1.650000e+08</td>\n      <td>0</td>\n      <td>0</td>\n      <td>24/07/2002</td>\n    </tr>\n    <tr>\n      <th>1</th>\n      <td>7280</td>\n      <td>Estado</td>\n      <td>Minas Gerais</td>\n      <td>31</td>\n      <td>MG</td>\n      <td>None</td>\n      <td>Deferido</td>\n      <td>17944.000537/2010-01</td>\n      <td>2010-06-24T03:00:00Z</td>\n      <td>Operação contratual interna</td>\n      <td>Infraestrutura</td>\n      <td>Instituição Financeira Nacional</td>\n      <td>Banco Nacional de Desenvolvimento Econômico e ...</td>\n      <td>Real</td>\n      <td>3.488900e+07</td>\n      <td>1</td>\n      <td>0</td>\n      <td>25/06/2010</td>\n    </tr>\n    <tr>\n      <th>2</th>\n      <td>7435</td>\n      <td>Estado</td>\n      <td>Minas Gerais</td>\n      <td>31</td>\n      <td>MG</td>\n      <td>None</td>\n      <td>Encaminhado à PGFN com manifestação técnica fa...</td>\n      <td>17944.000576/2009-66</td>\n      <td>2009-05-26T03:00:00Z</td>\n      <td>Operação contratual externa (com garantia da U...</td>\n      <td>Fortalecimento Institucional</td>\n      <td>Instituição Financeira Internacional</td>\n      <td>Banco Interamericano de Desenvolvimento</td>\n      <td>Dólar dos EUA</td>\n      <td>4.000000e+07</td>\n      <td>1</td>\n      <td>0</td>\n      <td>10/06/2009</td>\n    </tr>\n    <tr>\n      <th>3</th>\n      <td>10338</td>\n      <td>Estado</td>\n      <td>Minas Gerais</td>\n      <td>31</td>\n      <td>MG</td>\n      <td>None</td>\n      <td>Encaminhado à PGFN com manifestação técnica fa...</td>\n      <td>17944.001175/2009-23</td>\n      <td>2009-09-22T03:00:00Z</td>\n      <td>Operação contratual interna (com garantia da U...</td>\n      <td>PEF - Programa Emergencial de Financiamento do...</td>\n      <td>Instituição Financeira Nacional</td>\n      <td>Banco do Brasil S/A</td>\n      <td>Real</td>\n      <td>1.781800e+08</td>\n      <td>1</td>\n      <td>0</td>\n      <td>08/10/2009</td>\n    </tr>\n    <tr>\n      <th>4</th>\n      <td>5828</td>\n      <td>Estado</td>\n      <td>Minas Gerais</td>\n      <td>31</td>\n      <td>MG</td>\n      <td>None</td>\n      <td>Encaminhado à PGFN com manifestação técnica fa...</td>\n      <td>17944.000208/2013-02</td>\n      <td>2013-07-16T03:00:00Z</td>\n      <td>Operação contratual interna (com garantia da U...</td>\n      <td>Infraestrutura</td>\n      <td>Instituição Financeira Nacional</td>\n      <td>Banco do Brasil S/A</td>\n      <td>Real</td>\n      <td>1.500000e+09</td>\n      <td>1</td>\n      <td>0</td>\n      <td>12/08/2013</td>\n    </tr>\n    <tr>\n      <th>5</th>\n      <td>13618</td>\n      <td>Estado</td>\n      <td>Minas Gerais</td>\n      <td>31</td>\n      <td>MG</td>\n      <td>None</td>\n      <td>Encaminhado à PGFN com manifestação técnica fa...</td>\n      <td>19405.000037/2006-15</td>\n      <td>2009-02-26T03:00:00Z</td>\n      <td>Operação contratual externa (com garantia da U...</td>\n      <td>Multissetorial</td>\n      <td>Instituição Financeira Internacional</td>\n      <td>Banco Interamericano de Desenvolvimento</td>\n      <td>Dólar dos EUA</td>\n      <td>1.000000e+07</td>\n      <td>1</td>\n      <td>0</td>\n      <td>12/03/2009</td>\n    </tr>\n    <tr>\n      <th>6</th>\n      <td>11054</td>\n      <td>Estado</td>\n      <td>Minas Gerais</td>\n      <td>31</td>\n      <td>MG</td>\n      <td>None</td>\n      <td>Encaminhado à PGFN com manifestação técnica fa...</td>\n      <td>17944.001346/2012-10</td>\n      <td>2012-10-29T02:00:00Z</td>\n      <td>Operação contratual interna (com garantia da U...</td>\n      <td>Proinveste</td>\n      <td>Instituição Financeira Nacional</td>\n      <td>Banco Nacional de Desenvolvimento Econômico e ...</td>\n      <td>Real</td>\n      <td>1.326390e+09</td>\n      <td>1</td>\n      <td>0</td>\n      <td>02/01/2013</td>\n    </tr>\n    <tr>\n      <th>7</th>\n      <td>20534</td>\n      <td>Estado</td>\n      <td>Minas Gerais</td>\n      <td>31</td>\n      <td>MG</td>\n      <td>00000.000000/2017-69</td>\n      <td>Arquivado por decurso de prazo</td>\n      <td>17944.001113/2015-60</td>\n      <td>2017-07-26T03:00:00Z</td>\n      <td>Operação contratual interna</td>\n      <td>PMAE</td>\n      <td>Instituição Financeira Nacional</td>\n      <td>Banco Nacional de Desenvolvimento Econômico e ...</td>\n      <td>Real</td>\n      <td>7.668000e+06</td>\n      <td>0</td>\n      <td>0</td>\n      <td>16/03/2018</td>\n    </tr>\n    <tr>\n      <th>8</th>\n      <td>11328</td>\n      <td>Estado</td>\n      <td>Minas Gerais</td>\n      <td>31</td>\n      <td>MG</td>\n      <td>None</td>\n      <td>Encaminhado à PGFN com manifestação técnica fa...</td>\n      <td>17944.001412/2012-51</td>\n      <td>2012-12-11T02:00:00Z</td>\n      <td>Operação contratual interna (com garantia da U...</td>\n      <td>Multissetorial</td>\n      <td>Instituição Financeira Nacional</td>\n      <td>Banco do Brasil S/A</td>\n      <td>Real</td>\n      <td>3.653733e+09</td>\n      <td>1</td>\n      <td>0</td>\n      <td>03/01/2013</td>\n    </tr>\n    <tr>\n      <th>9</th>\n      <td>22379</td>\n      <td>Estado</td>\n      <td>Minas Gerais</td>\n      <td>31</td>\n      <td>MG</td>\n      <td>00000.000000/2031-08</td>\n      <td>Arquivado pela STN</td>\n      <td>17944.000548/2016-78</td>\n      <td>2016-12-21T02:00:00Z</td>\n      <td>Operação contratual interna (com garantia da U...</td>\n      <td>Aditivo contratual</td>\n      <td>Instituição Financeira Nacional</td>\n      <td>Banco do Brasil S/A</td>\n      <td>Real</td>\n      <td>4.537330e+08</td>\n      <td>0</td>\n      <td>0</td>\n      <td>16/10/2017</td>\n    </tr>\n    <tr>\n      <th>10</th>\n      <td>13672</td>\n      <td>Estado</td>\n      <td>Minas Gerais</td>\n      <td>31</td>\n      <td>MG</td>\n      <td>None</td>\n      <td>Encaminhado à PGFN com manifestação técnica fa...</td>\n      <td>19405.000048/2005-14</td>\n      <td>2005-12-28T02:00:00Z</td>\n      <td>Operação contratual externa (com garantia da U...</td>\n      <td>Multissetorial</td>\n      <td>Instituição Financeira Internacional</td>\n      <td>Banco Internacional para Reconstrução e Desenv...</td>\n      <td>Dólar dos EUA</td>\n      <td>1.700000e+08</td>\n      <td>1</td>\n      <td>0</td>\n      <td>19/04/2006</td>\n    </tr>\n    <tr>\n      <th>11</th>\n      <td>13695</td>\n      <td>Estado</td>\n      <td>Minas Gerais</td>\n      <td>31</td>\n      <td>MG</td>\n      <td>None</td>\n      <td>Arquivado</td>\n      <td>19405.000053/2003-57</td>\n      <td>2003-08-25T03:00:00Z</td>\n      <td>Operação contratual externa (com garantia da U...</td>\n      <td>Infraestrutura</td>\n      <td>Instituição Financeira Internacional</td>\n      <td>Banco Internacional para Reconstrução e Desenv...</td>\n      <td>Dólar dos EUA</td>\n      <td>3.500000e+07</td>\n      <td>0</td>\n      <td>0</td>\n      <td>20/02/2004</td>\n    </tr>\n    <tr>\n      <th>12</th>\n      <td>13587</td>\n      <td>Estado</td>\n      <td>Minas Gerais</td>\n      <td>31</td>\n      <td>MG</td>\n      <td>None</td>\n      <td>Encaminhado à PGFN com manifestação técnica fa...</td>\n      <td>19405.000031/2004-78</td>\n      <td>2004-11-27T02:00:00Z</td>\n      <td>Operação contratual externa (com garantia da U...</td>\n      <td>Desenvolvimento rural</td>\n      <td>Instituição Financeira Internacional</td>\n      <td>Banco Internacional para Reconstrução e Desenv...</td>\n      <td>Dólar dos EUA</td>\n      <td>3.500000e+07</td>\n      <td>1</td>\n      <td>0</td>\n      <td>09/12/2004</td>\n    </tr>\n    <tr>\n      <th>13</th>\n      <td>20458</td>\n      <td>Estado</td>\n      <td>Minas Gerais</td>\n      <td>31</td>\n      <td>MG</td>\n      <td>00000.000000/2020-68</td>\n      <td>Arquivado a pedido</td>\n      <td>17944.001085/2015-81</td>\n      <td>2015-11-23T02:00:00Z</td>\n      <td>Operação contratual externa (com garantia da U...</td>\n      <td>Multissetorial</td>\n      <td>Instituição Financeira Internacional</td>\n      <td>Banco Interamericano de Desenvolvimento</td>\n      <td>Dólar dos EUA</td>\n      <td>5.000000e+07</td>\n      <td>0</td>\n      <td>0</td>\n      <td>29/04/2016</td>\n    </tr>\n    <tr>\n      <th>14</th>\n      <td>9197</td>\n      <td>Estado</td>\n      <td>Minas Gerais</td>\n      <td>31</td>\n      <td>MG</td>\n      <td>None</td>\n      <td>Encaminhado à PGFN com manifestação técnica fa...</td>\n      <td>17944.000924/2009-03</td>\n      <td>2010-03-10T03:00:00Z</td>\n      <td>Operação contratual externa (com garantia da U...</td>\n      <td>Infraestrutura</td>\n      <td>Instituição Financeira Internacional</td>\n      <td>Banco Interamericano de Desenvolvimento</td>\n      <td>Dólar dos EUA</td>\n      <td>5.000000e+07</td>\n      <td>1</td>\n      <td>0</td>\n      <td>01/04/2010</td>\n    </tr>\n    <tr>\n      <th>15</th>\n      <td>22380</td>\n      <td>Estado</td>\n      <td>Minas Gerais</td>\n      <td>31</td>\n      <td>MG</td>\n      <td>00000.000000/2031-07</td>\n      <td>Arquivado pela STN</td>\n      <td>17944.000547/2016-23</td>\n      <td>2016-12-21T02:00:00Z</td>\n      <td>Operação contratual interna (com garantia da U...</td>\n      <td>Aditivo contratual</td>\n      <td>Instituição Financeira Nacional</td>\n      <td>Banco do Brasil S/A</td>\n      <td>Real</td>\n      <td>6.985602e+08</td>\n      <td>0</td>\n      <td>0</td>\n      <td>16/10/2017</td>\n    </tr>\n    <tr>\n      <th>16</th>\n      <td>13447</td>\n      <td>Estado</td>\n      <td>Minas Gerais</td>\n      <td>31</td>\n      <td>MG</td>\n      <td>None</td>\n      <td>Encaminhado à PGFN com manifestação técnica fa...</td>\n      <td>19405.000002/2006-78</td>\n      <td>2009-02-02T02:00:00Z</td>\n      <td>Operação contratual externa (com garantia da U...</td>\n      <td>Infraestrutura</td>\n      <td>Instituição Financeira Internacional</td>\n      <td>Banco Interamericano de Desenvolvimento</td>\n      <td>Dólar dos EUA</td>\n      <td>1.000000e+07</td>\n      <td>1</td>\n      <td>0</td>\n      <td>12/11/2009</td>\n    </tr>\n    <tr>\n      <th>17</th>\n      <td>13595</td>\n      <td>Estado</td>\n      <td>Minas Gerais</td>\n      <td>31</td>\n      <td>MG</td>\n      <td>None</td>\n      <td>Indeferido</td>\n      <td>19405.000033/2002-03</td>\n      <td>2002-05-28T03:00:00Z</td>\n      <td>Operação contratual interna</td>\n      <td>Renegociação de dívidas</td>\n      <td>Instituição Financeira Nacional</td>\n      <td>Banco Nacional de Desenvolvimento Econômico e ...</td>\n      <td>Real</td>\n      <td>5.377000e+07</td>\n      <td>0</td>\n      <td>0</td>\n      <td>03/07/2002</td>\n    </tr>\n    <tr>\n      <th>18</th>\n      <td>5582</td>\n      <td>Estado</td>\n      <td>Minas Gerais</td>\n      <td>31</td>\n      <td>MG</td>\n      <td>None</td>\n      <td>Arquivado a pedido</td>\n      <td>17944.000148/2013-10</td>\n      <td>2013-04-02T03:00:00Z</td>\n      <td>Operação contratual externa (com garantia da U...</td>\n      <td>Infraestrutura</td>\n      <td>Instituição Financeira Internacional</td>\n      <td>Corporação Andina de Fomento</td>\n      <td>Dólar dos EUA</td>\n      <td>3.000000e+08</td>\n      <td>0</td>\n      <td>0</td>\n      <td>10/04/2013</td>\n    </tr>\n    <tr>\n      <th>19</th>\n      <td>27063</td>\n      <td>Estado</td>\n      <td>Minas Gerais</td>\n      <td>31</td>\n      <td>MG</td>\n      <td>PVL02.002572/2017-60</td>\n      <td>Arquivado pela STN</td>\n      <td>17944.103474/2017-10</td>\n      <td>2020-06-10T13:12:13Z</td>\n      <td>Operação contratual interna</td>\n      <td>Renegociação de dívidas</td>\n      <td>União</td>\n      <td>União</td>\n      <td>Real</td>\n      <td>9.396517e+10</td>\n      <td>0</td>\n      <td>0</td>\n      <td>04/05/2021</td>\n    </tr>\n    <tr>\n      <th>20</th>\n      <td>7002</td>\n      <td>Estado</td>\n      <td>Minas Gerais</td>\n      <td>31</td>\n      <td>MG</td>\n      <td>None</td>\n      <td>Encaminhado à PGFN com manifestação técnica fa...</td>\n      <td>17944.000477/2010-18</td>\n      <td>2010-05-24T03:00:00Z</td>\n      <td>Operação contratual interna (com garantia da U...</td>\n      <td>PEF - Programa Emergencial de Financiamento do...</td>\n      <td>Instituição Financeira Nacional</td>\n      <td>Banco Nacional de Desenvolvimento Econômico e ...</td>\n      <td>Real</td>\n      <td>2.672700e+08</td>\n      <td>1</td>\n      <td>0</td>\n      <td>17/06/2010</td>\n    </tr>\n    <tr>\n      <th>21</th>\n      <td>10265</td>\n      <td>Estado</td>\n      <td>Minas Gerais</td>\n      <td>31</td>\n      <td>MG</td>\n      <td>None</td>\n      <td>Arquivado a pedido</td>\n      <td>17944.001157/2013-28</td>\n      <td>2014-04-17T03:00:00Z</td>\n      <td>Operação contratual interna</td>\n      <td>PMAE</td>\n      <td>Instituição Financeira Nacional</td>\n      <td>Banco Nacional de Desenvolvimento Econômico e ...</td>\n      <td>Real</td>\n      <td>8.745300e+07</td>\n      <td>0</td>\n      <td>0</td>\n      <td>24/04/2014</td>\n    </tr>\n    <tr>\n      <th>22</th>\n      <td>5967</td>\n      <td>Estado</td>\n      <td>Minas Gerais</td>\n      <td>31</td>\n      <td>MG</td>\n      <td>None</td>\n      <td>Deferido</td>\n      <td>17944.000246/2011-95</td>\n      <td>2011-05-02T03:00:00Z</td>\n      <td>Concessão de garantia</td>\n      <td>Concessão de garantia a empresa estatal não de...</td>\n      <td>Instituição Financeira Internacional</td>\n      <td>Kreditanstalt für Wiederaufbau</td>\n      <td>Euro</td>\n      <td>1.000000e+08</td>\n      <td>0</td>\n      <td>0</td>\n      <td>19/05/2011</td>\n    </tr>\n    <tr>\n      <th>23</th>\n      <td>13549</td>\n      <td>Estado</td>\n      <td>Minas Gerais</td>\n      <td>31</td>\n      <td>MG</td>\n      <td>None</td>\n      <td>Deferido</td>\n      <td>19405.000023/2006-93</td>\n      <td>2006-05-19T03:00:00Z</td>\n      <td>Operação contratual interna</td>\n      <td>Infraestrutura</td>\n      <td>Instituição Financeira Nacional</td>\n      <td>Banco do Brasil S/A</td>\n      <td>Iene</td>\n      <td>7.250000e+09</td>\n      <td>1</td>\n      <td>0</td>\n      <td>29/05/2006</td>\n    </tr>\n    <tr>\n      <th>24</th>\n      <td>7419</td>\n      <td>Estado</td>\n      <td>Minas Gerais</td>\n      <td>31</td>\n      <td>MG</td>\n      <td>None</td>\n      <td>Deferido</td>\n      <td>17944.000571/2012-39</td>\n      <td>2012-06-18T03:00:00Z</td>\n      <td>Operação contratual interna</td>\n      <td>BNDES Estados</td>\n      <td>Instituição Financeira Nacional</td>\n      <td>Banco Nacional de Desenvolvimento Econômico e ...</td>\n      <td>Real</td>\n      <td>2.470000e+08</td>\n      <td>1</td>\n      <td>0</td>\n      <td>26/06/2012</td>\n    </tr>\n    <tr>\n      <th>25</th>\n      <td>8255</td>\n      <td>Estado</td>\n      <td>Minas Gerais</td>\n      <td>31</td>\n      <td>MG</td>\n      <td>None</td>\n      <td>Encaminhado à PGFN com manifestação técnica fa...</td>\n      <td>17944.000742/2013-19</td>\n      <td>2014-02-24T03:00:00Z</td>\n      <td>Operação contratual interna (com garantia da U...</td>\n      <td>Saneamento para Todos</td>\n      <td>Instituição Financeira Nacional</td>\n      <td>Caixa Econômica Federal</td>\n      <td>Real</td>\n      <td>4.526420e+08</td>\n      <td>1</td>\n      <td>1</td>\n      <td>01/04/2014</td>\n    </tr>\n    <tr>\n      <th>26</th>\n      <td>10294</td>\n      <td>Estado</td>\n      <td>Minas Gerais</td>\n      <td>31</td>\n      <td>MG</td>\n      <td>None</td>\n      <td>Encaminhado à PGFN com manifestação técnica fa...</td>\n      <td>17944.001163/2012-02</td>\n      <td>2012-10-17T03:00:00Z</td>\n      <td>Operação contratual interna (com garantia da U...</td>\n      <td>Multissetorial</td>\n      <td>Instituição Financeira Nacional</td>\n      <td>Banco do Brasil S/A</td>\n      <td>Real</td>\n      <td>4.697730e+08</td>\n      <td>1</td>\n      <td>0</td>\n      <td>02/01/2013</td>\n    </tr>\n    <tr>\n      <th>27</th>\n      <td>6917</td>\n      <td>Estado</td>\n      <td>Minas Gerais</td>\n      <td>31</td>\n      <td>MG</td>\n      <td>None</td>\n      <td>Encaminhado à PGFN com manifestação técnica fa...</td>\n      <td>17944.000458/2012-53</td>\n      <td>2012-07-05T03:00:00Z</td>\n      <td>Operação contratual externa (com garantia da U...</td>\n      <td>Reestruturação e recomposição do principal de ...</td>\n      <td>Instituição Financeira Internacional</td>\n      <td>Credit Suisse AG</td>\n      <td>Dólar dos EUA</td>\n      <td>1.300000e+09</td>\n      <td>1</td>\n      <td>0</td>\n      <td>01/11/2012</td>\n    </tr>\n    <tr>\n      <th>28</th>\n      <td>11132</td>\n      <td>Estado</td>\n      <td>Minas Gerais</td>\n      <td>31</td>\n      <td>MG</td>\n      <td>None</td>\n      <td>Encaminhado à PGFN com manifestação técnica fa...</td>\n      <td>17944.001368/2009-84</td>\n      <td>2009-11-20T02:00:00Z</td>\n      <td>Operação contratual externa (com garantia da U...</td>\n      <td>Infraestrutura</td>\n      <td>Instituição Financeira Internacional</td>\n      <td>Banco Interamericano de Desenvolvimento</td>\n      <td>Dólar dos EUA</td>\n      <td>1.370000e+08</td>\n      <td>1</td>\n      <td>0</td>\n      <td>26/11/2009</td>\n    </tr>\n    <tr>\n      <th>29</th>\n      <td>13275</td>\n      <td>Estado</td>\n      <td>Minas Gerais</td>\n      <td>31</td>\n      <td>MG</td>\n      <td>None</td>\n      <td>Arquivado a pedido</td>\n      <td>17944.002000/2013-10</td>\n      <td>2014-04-17T03:00:00Z</td>\n      <td>Operação contratual interna (com garantia da U...</td>\n      <td>Infraestrutura</td>\n      <td>Instituição Financeira Nacional</td>\n      <td>Banco Nacional de Desenvolvimento Econômico e ...</td>\n      <td>Real</td>\n      <td>6.000000e+08</td>\n      <td>0</td>\n      <td>0</td>\n      <td>24/04/2014</td>\n    </tr>\n    <tr>\n      <th>30</th>\n      <td>6811</td>\n      <td>Estado</td>\n      <td>Minas Gerais</td>\n      <td>31</td>\n      <td>MG</td>\n      <td>None</td>\n      <td>Encaminhado à PGFN com manifestação técnica fa...</td>\n      <td>17944.000435/2008-62</td>\n      <td>2008-03-06T03:00:00Z</td>\n      <td>Operação contratual externa (com garantia da U...</td>\n      <td>Multissetorial</td>\n      <td>Instituição Financeira Internacional</td>\n      <td>Banco Internacional para Reconstrução e Desenv...</td>\n      <td>Dólar dos EUA</td>\n      <td>9.760000e+08</td>\n      <td>1</td>\n      <td>0</td>\n      <td>02/07/2008</td>\n    </tr>\n    <tr>\n      <th>31</th>\n      <td>13602</td>\n      <td>Estado</td>\n      <td>Minas Gerais</td>\n      <td>31</td>\n      <td>MG</td>\n      <td>None</td>\n      <td>Encaminhado à PGFN com manifestação técnica fa...</td>\n      <td>19405.000034/2005-92</td>\n      <td>2005-10-31T02:00:00Z</td>\n      <td>Operação contratual externa (com garantia da U...</td>\n      <td>Infraestrutura</td>\n      <td>Instituição Financeira Internacional</td>\n      <td>Banco Interamericano de Desenvolvimento</td>\n      <td>Dólar dos EUA</td>\n      <td>5.000000e+07</td>\n      <td>1</td>\n      <td>0</td>\n      <td>18/04/2006</td>\n    </tr>\n    <tr>\n      <th>32</th>\n      <td>11571</td>\n      <td>Estado</td>\n      <td>Minas Gerais</td>\n      <td>31</td>\n      <td>MG</td>\n      <td>None</td>\n      <td>Encaminhado à PGFN com manifestação técnica fa...</td>\n      <td>17944.001479/2009-91</td>\n      <td>2010-03-26T03:00:00Z</td>\n      <td>Operação contratual externa (com garantia da U...</td>\n      <td>Multissetorial</td>\n      <td>Instituição Financeira Internacional</td>\n      <td>Banco Internacional para Reconstrução e Desenv...</td>\n      <td>Dólar dos EUA</td>\n      <td>4.610000e+08</td>\n      <td>1</td>\n      <td>0</td>\n      <td>01/04/2010</td>\n    </tr>\n    <tr>\n      <th>33</th>\n      <td>10011</td>\n      <td>Estado</td>\n      <td>Minas Gerais</td>\n      <td>31</td>\n      <td>MG</td>\n      <td>None</td>\n      <td>Deferido</td>\n      <td>17944.001099/2010-90</td>\n      <td>2010-08-23T03:00:00Z</td>\n      <td>Operação contratual interna</td>\n      <td>PMAE</td>\n      <td>Instituição Financeira Nacional</td>\n      <td>Banco Nacional de Desenvolvimento Econômico e ...</td>\n      <td>Real</td>\n      <td>4.674243e+06</td>\n      <td>1</td>\n      <td>0</td>\n      <td>25/08/2010</td>\n    </tr>\n    <tr>\n      <th>34</th>\n      <td>13641</td>\n      <td>Estado</td>\n      <td>Minas Gerais</td>\n      <td>31</td>\n      <td>MG</td>\n      <td>None</td>\n      <td>Deferido</td>\n      <td>19405.000042/2004-58</td>\n      <td>2004-11-26T02:00:00Z</td>\n      <td>Operação contratual interna</td>\n      <td>Infraestrutura</td>\n      <td>Instituição Financeira Nacional</td>\n      <td>Banco Nacional de Desenvolvimento Econômico e ...</td>\n      <td>Real</td>\n      <td>5.377000e+07</td>\n      <td>1</td>\n      <td>0</td>\n      <td>08/12/2004</td>\n    </tr>\n    <tr>\n      <th>35</th>\n      <td>7032</td>\n      <td>Estado</td>\n      <td>Minas Gerais</td>\n      <td>31</td>\n      <td>MG</td>\n      <td>None</td>\n      <td>Encaminhado à PGFN com manifestação técnica fa...</td>\n      <td>17944.000482/2012-92</td>\n      <td>2012-10-11T03:00:00Z</td>\n      <td>Operação contratual externa (com garantia da U...</td>\n      <td>Reestruturação e recomposição do principal de ...</td>\n      <td>Instituição Financeira Internacional</td>\n      <td>Banco Internacional para Reconstrução e Desenv...</td>\n      <td>Dólar dos EUA</td>\n      <td>4.500000e+08</td>\n      <td>1</td>\n      <td>0</td>\n      <td>15/10/2012</td>\n    </tr>\n    <tr>\n      <th>36</th>\n      <td>12286</td>\n      <td>Estado</td>\n      <td>Minas Gerais</td>\n      <td>31</td>\n      <td>MG</td>\n      <td>None</td>\n      <td>Arquivado</td>\n      <td>17944.001650/2008-81</td>\n      <td>2008-12-31T02:00:00Z</td>\n      <td>Operação contratual externa (com garantia da U...</td>\n      <td>Infraestrutura</td>\n      <td>Instituição Financeira Internacional</td>\n      <td>Banco Interamericano de Desenvolvimento</td>\n      <td>Dólar dos EUA</td>\n      <td>5.000000e+07</td>\n      <td>0</td>\n      <td>0</td>\n      <td>23/01/2009</td>\n    </tr>\n    <tr>\n      <th>37</th>\n      <td>11696</td>\n      <td>Estado</td>\n      <td>Minas Gerais</td>\n      <td>31</td>\n      <td>MG</td>\n      <td>None</td>\n      <td>Arquivado a pedido</td>\n      <td>17944.001504/2014-01</td>\n      <td>2015-04-13T03:00:00Z</td>\n      <td>Operação contratual externa (com garantia da U...</td>\n      <td>Segurança pública</td>\n      <td>Instituição Financeira Internacional</td>\n      <td>Banco Interamericano de Desenvolvimento</td>\n      <td>Dólar dos EUA</td>\n      <td>7.000000e+07</td>\n      <td>0</td>\n      <td>0</td>\n      <td>29/04/2016</td>\n    </tr>\n    <tr>\n      <th>38</th>\n      <td>7023</td>\n      <td>Estado</td>\n      <td>Minas Gerais</td>\n      <td>31</td>\n      <td>MG</td>\n      <td>None</td>\n      <td>Encaminhado à PGFN com manifestação técnica fa...</td>\n      <td>17944.000480/2012-01</td>\n      <td>2012-10-11T03:00:00Z</td>\n      <td>Operação contratual externa (com garantia da U...</td>\n      <td>Reestruturação e recomposição do principal de ...</td>\n      <td>Instituição Financeira Internacional</td>\n      <td>Agência Francesa de Desenvolvimento</td>\n      <td>Euro</td>\n      <td>3.000000e+08</td>\n      <td>1</td>\n      <td>0</td>\n      <td>16/10/2012</td>\n    </tr>\n    <tr>\n      <th>39</th>\n      <td>13441</td>\n      <td>Estado</td>\n      <td>Minas Gerais</td>\n      <td>31</td>\n      <td>MG</td>\n      <td>None</td>\n      <td>Deferido</td>\n      <td>19405.000001/2005-42</td>\n      <td>2005-08-16T03:00:00Z</td>\n      <td>Operação contratual interna</td>\n      <td>Infraestrutura</td>\n      <td>Instituição Financeira Nacional</td>\n      <td>Banco do Nordeste do Brasil S/A</td>\n      <td>Dólar dos EUA</td>\n      <td>2.753400e+07</td>\n      <td>1</td>\n      <td>0</td>\n      <td>29/08/2005</td>\n    </tr>\n  </tbody>\n</table>\n</div>"
     },
     "execution_count": 5,
     "metadata": {},
     "output_type": "execute_result"
    }
   ],
   "source": [
    "# 2) Seu código aqui\n",
    "\n",
    "query_mg = query_sadipem('mg', 'estado')\n",
    "\n",
    "query_mg\n",
    "\n",
    "#resposta: 1"
   ]
  },
  {
   "cell_type": "code",
   "execution_count": 55,
   "metadata": {
    "ExecuteTime": {
     "end_time": "2023-12-31T05:12:54.066718400Z",
     "start_time": "2023-12-31T05:12:53.674494Z"
    }
   },
   "outputs": [
    {
     "data": {
      "text/plain": "interessado\nCamaçari                  19\nLuís Eduardo Magalhães    18\nSalvador                  18\nVitória da Conquista      15\nIrecê                     14\n                          ..\nSerrolândia                1\nCrisópolis                 1\nBarro Alto                 1\nQuijingue                  1\nSanta Brígida              1\nName: count, Length: 297, dtype: int64"
     },
     "execution_count": 55,
     "metadata": {},
     "output_type": "execute_result"
    }
   ],
   "source": [
    "# 3) Seu código aqui\n",
    "\n",
    "query_ba = query_sadipem('ba', 'municipio')\n",
    "query_ba['interessado'].value_counts()\n",
    "\n",
    "#resposta: Camaçari"
   ]
  },
  {
   "cell_type": "code",
   "execution_count": 57,
   "metadata": {
    "ExecuteTime": {
     "end_time": "2023-12-31T05:15:23.486645100Z",
     "start_time": "2023-12-31T05:15:23.090666300Z"
    }
   },
   "outputs": [],
   "source": [
    "# 4) Seu código aqui\n",
    "\n",
    "query_ba = query_sadipem('ba', 'estado')\n",
    "query_ba.to_csv('./output/query_bahia_estado.csv', index= False, sep=';', decimal=',')"
   ]
  }
 ],
 "metadata": {
  "kernelspec": {
   "display_name": "Python 3",
   "language": "python",
   "name": "python3"
  },
  "language_info": {
   "codemirror_mode": {
    "name": "ipython",
    "version": 3
   },
   "file_extension": ".py",
   "mimetype": "text/x-python",
   "name": "python",
   "nbconvert_exporter": "python",
   "pygments_lexer": "ipython3",
   "version": "3.8.5"
  }
 },
 "nbformat": 4,
 "nbformat_minor": 4
}
