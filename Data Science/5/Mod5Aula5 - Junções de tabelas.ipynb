{
 "cells": [
  {
   "cell_type": "markdown",
   "metadata": {},
   "source": [
    "# Índice <a name=\"Contents\"></a>\n",
    "1. [Importando bibliotecas](#import)\n",
    "2. [Merge (left, right, inner, full)](#merge)\n",
    "    1. [Construindo dataframes](#data_1)\n",
    "    2. [Left join 1](#left_1)\n",
    "    3. [Right join 1](#right_1)\n",
    "    4. [Left join 2](#left_2)\n",
    "    5. [Right join 2](#right_2)\n",
    "    6. [Inner join](#inner)\n",
    "    7. [Full outer join](#full)\n",
    "3. [Concat](#concat)\n",
    "    1. [Construindo dataframes](#data_2)\n",
    "    2. [Concat com axis = 0](#axis_0)\n",
    "    3. [Concat com axis = 0 e ignore_index=True](#index_true)\n",
    "    4. [Concat com axis = 1](#axis_1)    \n",
    "4. [Append](#append)\n"
   ]
  },
  {
   "cell_type": "markdown",
   "metadata": {},
   "source": [
    "# 1. Importando bibliotecas <a name=\"import\"></a>\n",
    "\n",
    "<div style=\"text-align: right\"\n",
    "     \n",
    "[Voltar ao índice](#Contents)"
   ]
  },
  {
   "cell_type": "code",
   "execution_count": 1,
   "metadata": {
    "ExecuteTime": {
     "end_time": "2024-01-02T23:44:32.308982700Z",
     "start_time": "2024-01-02T23:44:31.781248Z"
    }
   },
   "outputs": [],
   "source": [
    "import pandas as pd"
   ]
  },
  {
   "cell_type": "markdown",
   "metadata": {},
   "source": [
    "# 2. Merge (left, right, inner, full) <a name=\"merge\"></a>\n",
    "<div style=\"text-align: right\"\n",
    "     \n",
    "[Voltar ao índice](#Contents)"
   ]
  },
  {
   "cell_type": "markdown",
   "metadata": {},
   "source": [
    "## 2.1 Construindo dataframes <a name=\"data_1\"></a>\n",
    "<div style=\"text-align: right\"\n",
    "     \n",
    "[Voltar ao índice](#Contents)"
   ]
  },
  {
   "cell_type": "code",
   "execution_count": 2,
   "metadata": {
    "ExecuteTime": {
     "end_time": "2024-01-02T23:44:58.534271300Z",
     "start_time": "2024-01-02T23:44:58.518249800Z"
    }
   },
   "outputs": [
    {
     "data": {
      "text/plain": "          ID Sexo  Idade  Salario\n0  Cliente_1    M     27     5000\n1  Cliente_2    F     30     7000\n2  Cliente_3    F     24     2700\n3  Cliente_4    M     35     6500",
      "text/html": "<div>\n<style scoped>\n    .dataframe tbody tr th:only-of-type {\n        vertical-align: middle;\n    }\n\n    .dataframe tbody tr th {\n        vertical-align: top;\n    }\n\n    .dataframe thead th {\n        text-align: right;\n    }\n</style>\n<table border=\"1\" class=\"dataframe\">\n  <thead>\n    <tr style=\"text-align: right;\">\n      <th></th>\n      <th>ID</th>\n      <th>Sexo</th>\n      <th>Idade</th>\n      <th>Salario</th>\n    </tr>\n  </thead>\n  <tbody>\n    <tr>\n      <th>0</th>\n      <td>Cliente_1</td>\n      <td>M</td>\n      <td>27</td>\n      <td>5000</td>\n    </tr>\n    <tr>\n      <th>1</th>\n      <td>Cliente_2</td>\n      <td>F</td>\n      <td>30</td>\n      <td>7000</td>\n    </tr>\n    <tr>\n      <th>2</th>\n      <td>Cliente_3</td>\n      <td>F</td>\n      <td>24</td>\n      <td>2700</td>\n    </tr>\n    <tr>\n      <th>3</th>\n      <td>Cliente_4</td>\n      <td>M</td>\n      <td>35</td>\n      <td>6500</td>\n    </tr>\n  </tbody>\n</table>\n</div>"
     },
     "execution_count": 2,
     "metadata": {},
     "output_type": "execute_result"
    }
   ],
   "source": [
    "df1 = pd.DataFrame({\n",
    "    'ID': ['Cliente_1', 'Cliente_2', 'Cliente_3', 'Cliente_4'],\n",
    "    'Sexo': ['M', 'F', 'F', 'M'],\n",
    "    'Idade': [27, 30, 24, 35],\n",
    "    'Salario': [5000, 7000, 2700, 6500]\n",
    "})\n",
    "df1"
   ]
  },
  {
   "cell_type": "code",
   "execution_count": 3,
   "metadata": {
    "scrolled": true,
    "ExecuteTime": {
     "end_time": "2024-01-02T23:47:20.690124900Z",
     "start_time": "2024-01-02T23:47:20.670537400Z"
    }
   },
   "outputs": [
    {
     "data": {
      "text/plain": "          ID  Compras_M1  Compras_M2\n0  Cliente_1           0        1000\n1  Cliente_2         200         800\n2  Cliente_3         300         300\n3  Cliente_4        1000        2000",
      "text/html": "<div>\n<style scoped>\n    .dataframe tbody tr th:only-of-type {\n        vertical-align: middle;\n    }\n\n    .dataframe tbody tr th {\n        vertical-align: top;\n    }\n\n    .dataframe thead th {\n        text-align: right;\n    }\n</style>\n<table border=\"1\" class=\"dataframe\">\n  <thead>\n    <tr style=\"text-align: right;\">\n      <th></th>\n      <th>ID</th>\n      <th>Compras_M1</th>\n      <th>Compras_M2</th>\n    </tr>\n  </thead>\n  <tbody>\n    <tr>\n      <th>0</th>\n      <td>Cliente_1</td>\n      <td>0</td>\n      <td>1000</td>\n    </tr>\n    <tr>\n      <th>1</th>\n      <td>Cliente_2</td>\n      <td>200</td>\n      <td>800</td>\n    </tr>\n    <tr>\n      <th>2</th>\n      <td>Cliente_3</td>\n      <td>300</td>\n      <td>300</td>\n    </tr>\n    <tr>\n      <th>3</th>\n      <td>Cliente_4</td>\n      <td>1000</td>\n      <td>2000</td>\n    </tr>\n  </tbody>\n</table>\n</div>"
     },
     "execution_count": 3,
     "metadata": {},
     "output_type": "execute_result"
    }
   ],
   "source": [
    "df2 = pd.DataFrame({\n",
    "    'ID': ['Cliente_1', 'Cliente_2', 'Cliente_3', 'Cliente_4'],\n",
    "    'Compras_M1': [0, 200, 300, 1000],\n",
    "    'Compras_M2': [1000, 800, 300, 2000]\n",
    "})\n",
    "df2"
   ]
  },
  {
   "cell_type": "markdown",
   "metadata": {},
   "source": [
    "## 2.2 Left join 1 <a name=\"left_1\"></a>\n",
    "<div style=\"text-align: right\"\n",
    "     \n",
    "[Voltar ao índice](#Contents)"
   ]
  },
  {
   "cell_type": "code",
   "execution_count": 4,
   "metadata": {
    "scrolled": true,
    "ExecuteTime": {
     "end_time": "2024-01-02T23:49:12.044247800Z",
     "start_time": "2024-01-02T23:49:12.022652800Z"
    }
   },
   "outputs": [
    {
     "data": {
      "text/plain": "          ID Sexo  Idade  Salario  Compras_M1  Compras_M2\n0  Cliente_1    M     27     5000           0        1000\n1  Cliente_2    F     30     7000         200         800\n2  Cliente_3    F     24     2700         300         300\n3  Cliente_4    M     35     6500        1000        2000",
      "text/html": "<div>\n<style scoped>\n    .dataframe tbody tr th:only-of-type {\n        vertical-align: middle;\n    }\n\n    .dataframe tbody tr th {\n        vertical-align: top;\n    }\n\n    .dataframe thead th {\n        text-align: right;\n    }\n</style>\n<table border=\"1\" class=\"dataframe\">\n  <thead>\n    <tr style=\"text-align: right;\">\n      <th></th>\n      <th>ID</th>\n      <th>Sexo</th>\n      <th>Idade</th>\n      <th>Salario</th>\n      <th>Compras_M1</th>\n      <th>Compras_M2</th>\n    </tr>\n  </thead>\n  <tbody>\n    <tr>\n      <th>0</th>\n      <td>Cliente_1</td>\n      <td>M</td>\n      <td>27</td>\n      <td>5000</td>\n      <td>0</td>\n      <td>1000</td>\n    </tr>\n    <tr>\n      <th>1</th>\n      <td>Cliente_2</td>\n      <td>F</td>\n      <td>30</td>\n      <td>7000</td>\n      <td>200</td>\n      <td>800</td>\n    </tr>\n    <tr>\n      <th>2</th>\n      <td>Cliente_3</td>\n      <td>F</td>\n      <td>24</td>\n      <td>2700</td>\n      <td>300</td>\n      <td>300</td>\n    </tr>\n    <tr>\n      <th>3</th>\n      <td>Cliente_4</td>\n      <td>M</td>\n      <td>35</td>\n      <td>6500</td>\n      <td>1000</td>\n      <td>2000</td>\n    </tr>\n  </tbody>\n</table>\n</div>"
     },
     "execution_count": 4,
     "metadata": {},
     "output_type": "execute_result"
    }
   ],
   "source": [
    "df1.merge(df2, on='ID', how='left')"
   ]
  },
  {
   "cell_type": "markdown",
   "metadata": {},
   "source": [
    "## 2.3 Right join 1 <a name=\"right_1\"></a>\n",
    "<div style=\"text-align: right\"\n",
    "     \n",
    "[Voltar ao índice](#Contents)"
   ]
  },
  {
   "cell_type": "code",
   "execution_count": 5,
   "metadata": {
    "ExecuteTime": {
     "end_time": "2024-01-02T23:49:16.051417900Z",
     "start_time": "2024-01-02T23:49:16.031264200Z"
    }
   },
   "outputs": [
    {
     "data": {
      "text/plain": "          ID Sexo  Idade  Salario  Compras_M1  Compras_M2\n0  Cliente_1    M     27     5000           0        1000\n1  Cliente_2    F     30     7000         200         800\n2  Cliente_3    F     24     2700         300         300\n3  Cliente_4    M     35     6500        1000        2000",
      "text/html": "<div>\n<style scoped>\n    .dataframe tbody tr th:only-of-type {\n        vertical-align: middle;\n    }\n\n    .dataframe tbody tr th {\n        vertical-align: top;\n    }\n\n    .dataframe thead th {\n        text-align: right;\n    }\n</style>\n<table border=\"1\" class=\"dataframe\">\n  <thead>\n    <tr style=\"text-align: right;\">\n      <th></th>\n      <th>ID</th>\n      <th>Sexo</th>\n      <th>Idade</th>\n      <th>Salario</th>\n      <th>Compras_M1</th>\n      <th>Compras_M2</th>\n    </tr>\n  </thead>\n  <tbody>\n    <tr>\n      <th>0</th>\n      <td>Cliente_1</td>\n      <td>M</td>\n      <td>27</td>\n      <td>5000</td>\n      <td>0</td>\n      <td>1000</td>\n    </tr>\n    <tr>\n      <th>1</th>\n      <td>Cliente_2</td>\n      <td>F</td>\n      <td>30</td>\n      <td>7000</td>\n      <td>200</td>\n      <td>800</td>\n    </tr>\n    <tr>\n      <th>2</th>\n      <td>Cliente_3</td>\n      <td>F</td>\n      <td>24</td>\n      <td>2700</td>\n      <td>300</td>\n      <td>300</td>\n    </tr>\n    <tr>\n      <th>3</th>\n      <td>Cliente_4</td>\n      <td>M</td>\n      <td>35</td>\n      <td>6500</td>\n      <td>1000</td>\n      <td>2000</td>\n    </tr>\n  </tbody>\n</table>\n</div>"
     },
     "execution_count": 5,
     "metadata": {},
     "output_type": "execute_result"
    }
   ],
   "source": [
    "df1.merge(df2, on='ID', how='right')"
   ]
  },
  {
   "cell_type": "markdown",
   "metadata": {},
   "source": [
    "## 2.4 Left join 2 <a name=\"left_2\"></a>\n",
    "<div style=\"text-align: right\"\n",
    "     \n",
    "[Voltar ao índice](#Contents)"
   ]
  },
  {
   "cell_type": "code",
   "execution_count": 6,
   "metadata": {
    "scrolled": true,
    "ExecuteTime": {
     "end_time": "2024-01-02T23:50:08.911208500Z",
     "start_time": "2024-01-02T23:50:08.908200900Z"
    }
   },
   "outputs": [
    {
     "data": {
      "text/plain": "          ID  Compras_M1  Compras_M2\n0  Cliente_1           0        1000\n1  Cliente_2         200         800\n2  Cliente_3         300         300",
      "text/html": "<div>\n<style scoped>\n    .dataframe tbody tr th:only-of-type {\n        vertical-align: middle;\n    }\n\n    .dataframe tbody tr th {\n        vertical-align: top;\n    }\n\n    .dataframe thead th {\n        text-align: right;\n    }\n</style>\n<table border=\"1\" class=\"dataframe\">\n  <thead>\n    <tr style=\"text-align: right;\">\n      <th></th>\n      <th>ID</th>\n      <th>Compras_M1</th>\n      <th>Compras_M2</th>\n    </tr>\n  </thead>\n  <tbody>\n    <tr>\n      <th>0</th>\n      <td>Cliente_1</td>\n      <td>0</td>\n      <td>1000</td>\n    </tr>\n    <tr>\n      <th>1</th>\n      <td>Cliente_2</td>\n      <td>200</td>\n      <td>800</td>\n    </tr>\n    <tr>\n      <th>2</th>\n      <td>Cliente_3</td>\n      <td>300</td>\n      <td>300</td>\n    </tr>\n  </tbody>\n</table>\n</div>"
     },
     "execution_count": 6,
     "metadata": {},
     "output_type": "execute_result"
    }
   ],
   "source": [
    "df2_sem4 = df2[df2['ID'] != 'Cliente_4']\n",
    "df2_sem4"
   ]
  },
  {
   "cell_type": "code",
   "execution_count": 7,
   "metadata": {
    "scrolled": true,
    "ExecuteTime": {
     "end_time": "2024-01-02T23:50:15.999462Z",
     "start_time": "2024-01-02T23:50:15.992385Z"
    }
   },
   "outputs": [
    {
     "data": {
      "text/plain": "          ID Sexo  Idade  Salario  Compras_M1  Compras_M2\n0  Cliente_1    M     27     5000         0.0      1000.0\n1  Cliente_2    F     30     7000       200.0       800.0\n2  Cliente_3    F     24     2700       300.0       300.0\n3  Cliente_4    M     35     6500         NaN         NaN",
      "text/html": "<div>\n<style scoped>\n    .dataframe tbody tr th:only-of-type {\n        vertical-align: middle;\n    }\n\n    .dataframe tbody tr th {\n        vertical-align: top;\n    }\n\n    .dataframe thead th {\n        text-align: right;\n    }\n</style>\n<table border=\"1\" class=\"dataframe\">\n  <thead>\n    <tr style=\"text-align: right;\">\n      <th></th>\n      <th>ID</th>\n      <th>Sexo</th>\n      <th>Idade</th>\n      <th>Salario</th>\n      <th>Compras_M1</th>\n      <th>Compras_M2</th>\n    </tr>\n  </thead>\n  <tbody>\n    <tr>\n      <th>0</th>\n      <td>Cliente_1</td>\n      <td>M</td>\n      <td>27</td>\n      <td>5000</td>\n      <td>0.0</td>\n      <td>1000.0</td>\n    </tr>\n    <tr>\n      <th>1</th>\n      <td>Cliente_2</td>\n      <td>F</td>\n      <td>30</td>\n      <td>7000</td>\n      <td>200.0</td>\n      <td>800.0</td>\n    </tr>\n    <tr>\n      <th>2</th>\n      <td>Cliente_3</td>\n      <td>F</td>\n      <td>24</td>\n      <td>2700</td>\n      <td>300.0</td>\n      <td>300.0</td>\n    </tr>\n    <tr>\n      <th>3</th>\n      <td>Cliente_4</td>\n      <td>M</td>\n      <td>35</td>\n      <td>6500</td>\n      <td>NaN</td>\n      <td>NaN</td>\n    </tr>\n  </tbody>\n</table>\n</div>"
     },
     "execution_count": 7,
     "metadata": {},
     "output_type": "execute_result"
    }
   ],
   "source": [
    "df1.merge(df2_sem4, on='ID', how='left')"
   ]
  },
  {
   "cell_type": "markdown",
   "metadata": {},
   "source": [
    "## 2.5 Right join 2<a name=\"right_2\"></a>\n",
    "<div style=\"text-align: right\"\n",
    "     \n",
    "[Voltar ao índice](#Contents)"
   ]
  },
  {
   "cell_type": "code",
   "execution_count": 8,
   "metadata": {
    "ExecuteTime": {
     "end_time": "2024-01-02T23:51:48.147853700Z",
     "start_time": "2024-01-02T23:51:48.142339900Z"
    }
   },
   "outputs": [
    {
     "data": {
      "text/plain": "          ID Sexo  Idade  Salario  Compras_M1  Compras_M2\n0  Cliente_1    M     27     5000           0        1000\n1  Cliente_2    F     30     7000         200         800\n2  Cliente_3    F     24     2700         300         300",
      "text/html": "<div>\n<style scoped>\n    .dataframe tbody tr th:only-of-type {\n        vertical-align: middle;\n    }\n\n    .dataframe tbody tr th {\n        vertical-align: top;\n    }\n\n    .dataframe thead th {\n        text-align: right;\n    }\n</style>\n<table border=\"1\" class=\"dataframe\">\n  <thead>\n    <tr style=\"text-align: right;\">\n      <th></th>\n      <th>ID</th>\n      <th>Sexo</th>\n      <th>Idade</th>\n      <th>Salario</th>\n      <th>Compras_M1</th>\n      <th>Compras_M2</th>\n    </tr>\n  </thead>\n  <tbody>\n    <tr>\n      <th>0</th>\n      <td>Cliente_1</td>\n      <td>M</td>\n      <td>27</td>\n      <td>5000</td>\n      <td>0</td>\n      <td>1000</td>\n    </tr>\n    <tr>\n      <th>1</th>\n      <td>Cliente_2</td>\n      <td>F</td>\n      <td>30</td>\n      <td>7000</td>\n      <td>200</td>\n      <td>800</td>\n    </tr>\n    <tr>\n      <th>2</th>\n      <td>Cliente_3</td>\n      <td>F</td>\n      <td>24</td>\n      <td>2700</td>\n      <td>300</td>\n      <td>300</td>\n    </tr>\n  </tbody>\n</table>\n</div>"
     },
     "execution_count": 8,
     "metadata": {},
     "output_type": "execute_result"
    }
   ],
   "source": [
    "df1.merge(df2_sem4, on='ID', how='right')"
   ]
  },
  {
   "cell_type": "markdown",
   "metadata": {},
   "source": [
    "## 2.6 Inner join<a name=\"inner\"></a>\n",
    "<div style=\"text-align: right\"\n",
    "     \n",
    "[Voltar ao índice](#Contents)"
   ]
  },
  {
   "cell_type": "code",
   "execution_count": 9,
   "metadata": {
    "scrolled": true,
    "ExecuteTime": {
     "end_time": "2024-01-02T23:52:33.687208700Z",
     "start_time": "2024-01-02T23:52:33.665987800Z"
    }
   },
   "outputs": [
    {
     "data": {
      "text/plain": "          ID Sexo  Idade  Salario\n0  Cliente_1    M     27     5000\n1  Cliente_2    F     30     7000\n3  Cliente_4    M     35     6500",
      "text/html": "<div>\n<style scoped>\n    .dataframe tbody tr th:only-of-type {\n        vertical-align: middle;\n    }\n\n    .dataframe tbody tr th {\n        vertical-align: top;\n    }\n\n    .dataframe thead th {\n        text-align: right;\n    }\n</style>\n<table border=\"1\" class=\"dataframe\">\n  <thead>\n    <tr style=\"text-align: right;\">\n      <th></th>\n      <th>ID</th>\n      <th>Sexo</th>\n      <th>Idade</th>\n      <th>Salario</th>\n    </tr>\n  </thead>\n  <tbody>\n    <tr>\n      <th>0</th>\n      <td>Cliente_1</td>\n      <td>M</td>\n      <td>27</td>\n      <td>5000</td>\n    </tr>\n    <tr>\n      <th>1</th>\n      <td>Cliente_2</td>\n      <td>F</td>\n      <td>30</td>\n      <td>7000</td>\n    </tr>\n    <tr>\n      <th>3</th>\n      <td>Cliente_4</td>\n      <td>M</td>\n      <td>35</td>\n      <td>6500</td>\n    </tr>\n  </tbody>\n</table>\n</div>"
     },
     "execution_count": 9,
     "metadata": {},
     "output_type": "execute_result"
    }
   ],
   "source": [
    "df1_sem3 = df1[df1['ID'] != 'Cliente_3']\n",
    "df1_sem3"
   ]
  },
  {
   "cell_type": "code",
   "execution_count": 10,
   "metadata": {
    "ExecuteTime": {
     "end_time": "2024-01-02T23:52:35.762406100Z",
     "start_time": "2024-01-02T23:52:35.753057600Z"
    }
   },
   "outputs": [
    {
     "data": {
      "text/plain": "          ID Sexo  Idade  Salario  Compras_M1  Compras_M2\n0  Cliente_1    M     27     5000           0        1000\n1  Cliente_2    F     30     7000         200         800",
      "text/html": "<div>\n<style scoped>\n    .dataframe tbody tr th:only-of-type {\n        vertical-align: middle;\n    }\n\n    .dataframe tbody tr th {\n        vertical-align: top;\n    }\n\n    .dataframe thead th {\n        text-align: right;\n    }\n</style>\n<table border=\"1\" class=\"dataframe\">\n  <thead>\n    <tr style=\"text-align: right;\">\n      <th></th>\n      <th>ID</th>\n      <th>Sexo</th>\n      <th>Idade</th>\n      <th>Salario</th>\n      <th>Compras_M1</th>\n      <th>Compras_M2</th>\n    </tr>\n  </thead>\n  <tbody>\n    <tr>\n      <th>0</th>\n      <td>Cliente_1</td>\n      <td>M</td>\n      <td>27</td>\n      <td>5000</td>\n      <td>0</td>\n      <td>1000</td>\n    </tr>\n    <tr>\n      <th>1</th>\n      <td>Cliente_2</td>\n      <td>F</td>\n      <td>30</td>\n      <td>7000</td>\n      <td>200</td>\n      <td>800</td>\n    </tr>\n  </tbody>\n</table>\n</div>"
     },
     "execution_count": 10,
     "metadata": {},
     "output_type": "execute_result"
    }
   ],
   "source": [
    "df1_sem3.merge(df2_sem4, on='ID', how='inner')"
   ]
  },
  {
   "cell_type": "markdown",
   "metadata": {},
   "source": [
    "## 2.7 Full outer join <a name=\"full\"></a>\n",
    "<div style=\"text-align: right\"\n",
    "     \n",
    "[Voltar ao índice](#Contents)"
   ]
  },
  {
   "cell_type": "code",
   "execution_count": 11,
   "metadata": {
    "ExecuteTime": {
     "end_time": "2024-01-02T23:53:31.320820100Z",
     "start_time": "2024-01-02T23:53:31.302460900Z"
    }
   },
   "outputs": [
    {
     "data": {
      "text/plain": "          ID Sexo  Idade  Salario  Compras_M1  Compras_M2\n0  Cliente_1    M   27.0   5000.0         0.0      1000.0\n1  Cliente_2    F   30.0   7000.0       200.0       800.0\n2  Cliente_4    M   35.0   6500.0         NaN         NaN\n3  Cliente_3  NaN    NaN      NaN       300.0       300.0",
      "text/html": "<div>\n<style scoped>\n    .dataframe tbody tr th:only-of-type {\n        vertical-align: middle;\n    }\n\n    .dataframe tbody tr th {\n        vertical-align: top;\n    }\n\n    .dataframe thead th {\n        text-align: right;\n    }\n</style>\n<table border=\"1\" class=\"dataframe\">\n  <thead>\n    <tr style=\"text-align: right;\">\n      <th></th>\n      <th>ID</th>\n      <th>Sexo</th>\n      <th>Idade</th>\n      <th>Salario</th>\n      <th>Compras_M1</th>\n      <th>Compras_M2</th>\n    </tr>\n  </thead>\n  <tbody>\n    <tr>\n      <th>0</th>\n      <td>Cliente_1</td>\n      <td>M</td>\n      <td>27.0</td>\n      <td>5000.0</td>\n      <td>0.0</td>\n      <td>1000.0</td>\n    </tr>\n    <tr>\n      <th>1</th>\n      <td>Cliente_2</td>\n      <td>F</td>\n      <td>30.0</td>\n      <td>7000.0</td>\n      <td>200.0</td>\n      <td>800.0</td>\n    </tr>\n    <tr>\n      <th>2</th>\n      <td>Cliente_4</td>\n      <td>M</td>\n      <td>35.0</td>\n      <td>6500.0</td>\n      <td>NaN</td>\n      <td>NaN</td>\n    </tr>\n    <tr>\n      <th>3</th>\n      <td>Cliente_3</td>\n      <td>NaN</td>\n      <td>NaN</td>\n      <td>NaN</td>\n      <td>300.0</td>\n      <td>300.0</td>\n    </tr>\n  </tbody>\n</table>\n</div>"
     },
     "execution_count": 11,
     "metadata": {},
     "output_type": "execute_result"
    }
   ],
   "source": [
    "df1_sem3.merge(df2_sem4, on='ID', how='outer')"
   ]
  },
  {
   "cell_type": "markdown",
   "metadata": {},
   "source": [
    "# 3. Concat <a name=\"concat\"></a>\n",
    "<div style=\"text-align: right\"\n",
    "     \n",
    "[Voltar ao índice](#Contents)"
   ]
  },
  {
   "cell_type": "markdown",
   "metadata": {},
   "source": [
    "## 3.1 Construindo dataframes <a name=\"data_2\"></a>\n",
    "<div style=\"text-align: right\"\n",
    "     \n",
    "[Voltar ao índice](#Contents)"
   ]
  },
  {
   "cell_type": "code",
   "execution_count": 12,
   "metadata": {
    "ExecuteTime": {
     "end_time": "2024-01-02T23:54:55.031717200Z",
     "start_time": "2024-01-02T23:54:55.017146400Z"
    }
   },
   "outputs": [
    {
     "data": {
      "text/plain": "          ID Sexo  Idade\n0  Cliente_1    M     27\n1  Cliente_2    F     30",
      "text/html": "<div>\n<style scoped>\n    .dataframe tbody tr th:only-of-type {\n        vertical-align: middle;\n    }\n\n    .dataframe tbody tr th {\n        vertical-align: top;\n    }\n\n    .dataframe thead th {\n        text-align: right;\n    }\n</style>\n<table border=\"1\" class=\"dataframe\">\n  <thead>\n    <tr style=\"text-align: right;\">\n      <th></th>\n      <th>ID</th>\n      <th>Sexo</th>\n      <th>Idade</th>\n    </tr>\n  </thead>\n  <tbody>\n    <tr>\n      <th>0</th>\n      <td>Cliente_1</td>\n      <td>M</td>\n      <td>27</td>\n    </tr>\n    <tr>\n      <th>1</th>\n      <td>Cliente_2</td>\n      <td>F</td>\n      <td>30</td>\n    </tr>\n  </tbody>\n</table>\n</div>"
     },
     "execution_count": 12,
     "metadata": {},
     "output_type": "execute_result"
    }
   ],
   "source": [
    "df1 = pd.DataFrame({\n",
    "    'ID': ['Cliente_1', 'Cliente_2'],\n",
    "    'Sexo': ['M', 'F'],\n",
    "    'Idade': [27, 30]\n",
    "})\n",
    "df1"
   ]
  },
  {
   "cell_type": "code",
   "execution_count": 13,
   "metadata": {
    "ExecuteTime": {
     "end_time": "2024-01-02T23:54:57.023935600Z",
     "start_time": "2024-01-02T23:54:57.019647Z"
    }
   },
   "outputs": [
    {
     "data": {
      "text/plain": "          ID Sexo  Idade\n0  Cliente_3    F     24\n1  Cliente_4    M     35",
      "text/html": "<div>\n<style scoped>\n    .dataframe tbody tr th:only-of-type {\n        vertical-align: middle;\n    }\n\n    .dataframe tbody tr th {\n        vertical-align: top;\n    }\n\n    .dataframe thead th {\n        text-align: right;\n    }\n</style>\n<table border=\"1\" class=\"dataframe\">\n  <thead>\n    <tr style=\"text-align: right;\">\n      <th></th>\n      <th>ID</th>\n      <th>Sexo</th>\n      <th>Idade</th>\n    </tr>\n  </thead>\n  <tbody>\n    <tr>\n      <th>0</th>\n      <td>Cliente_3</td>\n      <td>F</td>\n      <td>24</td>\n    </tr>\n    <tr>\n      <th>1</th>\n      <td>Cliente_4</td>\n      <td>M</td>\n      <td>35</td>\n    </tr>\n  </tbody>\n</table>\n</div>"
     },
     "execution_count": 13,
     "metadata": {},
     "output_type": "execute_result"
    }
   ],
   "source": [
    "df2 = pd.DataFrame({\n",
    "    'ID': ['Cliente_3', 'Cliente_4'],\n",
    "    'Sexo': ['F', 'M'],\n",
    "    'Idade': [24, 35]\n",
    "})\n",
    "df2"
   ]
  },
  {
   "cell_type": "code",
   "execution_count": 14,
   "metadata": {
    "ExecuteTime": {
     "end_time": "2024-01-02T23:54:59.426940800Z",
     "start_time": "2024-01-02T23:54:59.423997500Z"
    }
   },
   "outputs": [
    {
     "data": {
      "text/plain": "          ID Sexo  Idade\n0  Cliente_5    M     40\n1  Cliente_6    F     50",
      "text/html": "<div>\n<style scoped>\n    .dataframe tbody tr th:only-of-type {\n        vertical-align: middle;\n    }\n\n    .dataframe tbody tr th {\n        vertical-align: top;\n    }\n\n    .dataframe thead th {\n        text-align: right;\n    }\n</style>\n<table border=\"1\" class=\"dataframe\">\n  <thead>\n    <tr style=\"text-align: right;\">\n      <th></th>\n      <th>ID</th>\n      <th>Sexo</th>\n      <th>Idade</th>\n    </tr>\n  </thead>\n  <tbody>\n    <tr>\n      <th>0</th>\n      <td>Cliente_5</td>\n      <td>M</td>\n      <td>40</td>\n    </tr>\n    <tr>\n      <th>1</th>\n      <td>Cliente_6</td>\n      <td>F</td>\n      <td>50</td>\n    </tr>\n  </tbody>\n</table>\n</div>"
     },
     "execution_count": 14,
     "metadata": {},
     "output_type": "execute_result"
    }
   ],
   "source": [
    "df3 = pd.DataFrame({\n",
    "    'ID': ['Cliente_5', 'Cliente_6'],\n",
    "    'Sexo': ['M', 'F'],\n",
    "    'Idade': [40, 50]\n",
    "})\n",
    "df3"
   ]
  },
  {
   "cell_type": "markdown",
   "metadata": {},
   "source": [
    "## 3.2 Concat com ``axis = 0`` <a name=\"axis_0\"></a>\n",
    "<div style=\"text-align: right\"\n",
    "     \n",
    "[Voltar ao índice](#Contents)"
   ]
  },
  {
   "cell_type": "code",
   "execution_count": 15,
   "metadata": {
    "scrolled": true,
    "ExecuteTime": {
     "end_time": "2024-01-02T23:55:13.194534Z",
     "start_time": "2024-01-02T23:55:13.189377700Z"
    }
   },
   "outputs": [
    {
     "data": {
      "text/plain": "          ID Sexo  Idade\n0  Cliente_1    M     27\n1  Cliente_2    F     30\n0  Cliente_3    F     24\n1  Cliente_4    M     35\n0  Cliente_5    M     40\n1  Cliente_6    F     50",
      "text/html": "<div>\n<style scoped>\n    .dataframe tbody tr th:only-of-type {\n        vertical-align: middle;\n    }\n\n    .dataframe tbody tr th {\n        vertical-align: top;\n    }\n\n    .dataframe thead th {\n        text-align: right;\n    }\n</style>\n<table border=\"1\" class=\"dataframe\">\n  <thead>\n    <tr style=\"text-align: right;\">\n      <th></th>\n      <th>ID</th>\n      <th>Sexo</th>\n      <th>Idade</th>\n    </tr>\n  </thead>\n  <tbody>\n    <tr>\n      <th>0</th>\n      <td>Cliente_1</td>\n      <td>M</td>\n      <td>27</td>\n    </tr>\n    <tr>\n      <th>1</th>\n      <td>Cliente_2</td>\n      <td>F</td>\n      <td>30</td>\n    </tr>\n    <tr>\n      <th>0</th>\n      <td>Cliente_3</td>\n      <td>F</td>\n      <td>24</td>\n    </tr>\n    <tr>\n      <th>1</th>\n      <td>Cliente_4</td>\n      <td>M</td>\n      <td>35</td>\n    </tr>\n    <tr>\n      <th>0</th>\n      <td>Cliente_5</td>\n      <td>M</td>\n      <td>40</td>\n    </tr>\n    <tr>\n      <th>1</th>\n      <td>Cliente_6</td>\n      <td>F</td>\n      <td>50</td>\n    </tr>\n  </tbody>\n</table>\n</div>"
     },
     "execution_count": 15,
     "metadata": {},
     "output_type": "execute_result"
    }
   ],
   "source": [
    "pd.concat([df1, df2, df3], axis = 0)"
   ]
  },
  {
   "cell_type": "markdown",
   "metadata": {},
   "source": [
    "## 3.3 Concat com ``axis = 0`` e ``ignore_index=True`` <a name=\"index_true\"></a>\n",
    "<div style=\"text-align: right\"\n",
    "     \n",
    "[Voltar ao índice](#Contents)"
   ]
  },
  {
   "cell_type": "code",
   "execution_count": 16,
   "metadata": {
    "scrolled": true,
    "ExecuteTime": {
     "end_time": "2024-01-02T23:57:35.708284800Z",
     "start_time": "2024-01-02T23:57:35.696318600Z"
    }
   },
   "outputs": [
    {
     "data": {
      "text/plain": "          ID Sexo  Idade\n0  Cliente_1    M     27\n1  Cliente_2    F     30\n2  Cliente_3    F     24\n3  Cliente_4    M     35\n4  Cliente_5    M     40\n5  Cliente_6    F     50",
      "text/html": "<div>\n<style scoped>\n    .dataframe tbody tr th:only-of-type {\n        vertical-align: middle;\n    }\n\n    .dataframe tbody tr th {\n        vertical-align: top;\n    }\n\n    .dataframe thead th {\n        text-align: right;\n    }\n</style>\n<table border=\"1\" class=\"dataframe\">\n  <thead>\n    <tr style=\"text-align: right;\">\n      <th></th>\n      <th>ID</th>\n      <th>Sexo</th>\n      <th>Idade</th>\n    </tr>\n  </thead>\n  <tbody>\n    <tr>\n      <th>0</th>\n      <td>Cliente_1</td>\n      <td>M</td>\n      <td>27</td>\n    </tr>\n    <tr>\n      <th>1</th>\n      <td>Cliente_2</td>\n      <td>F</td>\n      <td>30</td>\n    </tr>\n    <tr>\n      <th>2</th>\n      <td>Cliente_3</td>\n      <td>F</td>\n      <td>24</td>\n    </tr>\n    <tr>\n      <th>3</th>\n      <td>Cliente_4</td>\n      <td>M</td>\n      <td>35</td>\n    </tr>\n    <tr>\n      <th>4</th>\n      <td>Cliente_5</td>\n      <td>M</td>\n      <td>40</td>\n    </tr>\n    <tr>\n      <th>5</th>\n      <td>Cliente_6</td>\n      <td>F</td>\n      <td>50</td>\n    </tr>\n  </tbody>\n</table>\n</div>"
     },
     "execution_count": 16,
     "metadata": {},
     "output_type": "execute_result"
    }
   ],
   "source": [
    "pd.concat([df1, df2, df3], axis = 0, ignore_index=True)"
   ]
  },
  {
   "cell_type": "markdown",
   "metadata": {},
   "source": [
    "## 3.4 Concat com ``axis = 1``  <a name=\"axis_1\"></a>\n",
    "<div style=\"text-align: right\"\n",
    "     \n",
    "[Voltar ao índice](#Contents)"
   ]
  },
  {
   "cell_type": "code",
   "execution_count": 19,
   "metadata": {
    "ExecuteTime": {
     "end_time": "2024-01-03T00:00:53.491333200Z",
     "start_time": "2024-01-03T00:00:53.485160600Z"
    }
   },
   "outputs": [
    {
     "data": {
      "text/plain": "          ID Sexo  Idade         ID Sexo  Idade         ID Sexo  Idade\n0  Cliente_1    M     27  Cliente_3    F     24  Cliente_5    M     40\n1  Cliente_2    F     30  Cliente_4    M     35  Cliente_6    F     50",
      "text/html": "<div>\n<style scoped>\n    .dataframe tbody tr th:only-of-type {\n        vertical-align: middle;\n    }\n\n    .dataframe tbody tr th {\n        vertical-align: top;\n    }\n\n    .dataframe thead th {\n        text-align: right;\n    }\n</style>\n<table border=\"1\" class=\"dataframe\">\n  <thead>\n    <tr style=\"text-align: right;\">\n      <th></th>\n      <th>ID</th>\n      <th>Sexo</th>\n      <th>Idade</th>\n      <th>ID</th>\n      <th>Sexo</th>\n      <th>Idade</th>\n      <th>ID</th>\n      <th>Sexo</th>\n      <th>Idade</th>\n    </tr>\n  </thead>\n  <tbody>\n    <tr>\n      <th>0</th>\n      <td>Cliente_1</td>\n      <td>M</td>\n      <td>27</td>\n      <td>Cliente_3</td>\n      <td>F</td>\n      <td>24</td>\n      <td>Cliente_5</td>\n      <td>M</td>\n      <td>40</td>\n    </tr>\n    <tr>\n      <th>1</th>\n      <td>Cliente_2</td>\n      <td>F</td>\n      <td>30</td>\n      <td>Cliente_4</td>\n      <td>M</td>\n      <td>35</td>\n      <td>Cliente_6</td>\n      <td>F</td>\n      <td>50</td>\n    </tr>\n  </tbody>\n</table>\n</div>"
     },
     "execution_count": 19,
     "metadata": {},
     "output_type": "execute_result"
    }
   ],
   "source": [
    "pd.concat([df1, df2, df3], axis = 1)"
   ]
  },
  {
   "cell_type": "code",
   "execution_count": null,
   "metadata": {},
   "outputs": [],
   "source": []
  },
  {
   "cell_type": "markdown",
   "metadata": {},
   "source": [
    "# 4. Append <a name=\"append\"></a>\n",
    "<div style=\"text-align: right\"\n",
    "     \n",
    "[Voltar ao índice](#Contents)"
   ]
  },
  {
   "cell_type": "code",
   "execution_count": 18,
   "metadata": {
    "ExecuteTime": {
     "end_time": "2024-01-03T00:00:48.777420Z",
     "start_time": "2024-01-03T00:00:48.762741700Z"
    }
   },
   "outputs": [
    {
     "ename": "AttributeError",
     "evalue": "'DataFrame' object has no attribute 'append'",
     "output_type": "error",
     "traceback": [
      "\u001B[1;31m---------------------------------------------------------------------------\u001B[0m",
      "\u001B[1;31mAttributeError\u001B[0m                            Traceback (most recent call last)",
      "\u001B[1;32m~\\AppData\\Local\\Temp\\ipykernel_2160\\4146125872.py\u001B[0m in \u001B[0;36m?\u001B[1;34m()\u001B[0m\n\u001B[1;32m----> 1\u001B[1;33m \u001B[0mdf1\u001B[0m\u001B[1;33m.\u001B[0m\u001B[0mappend\u001B[0m\u001B[1;33m(\u001B[0m\u001B[1;33m[\u001B[0m\u001B[0mdf2\u001B[0m\u001B[1;33m,\u001B[0m \u001B[0mdf3\u001B[0m\u001B[1;33m]\u001B[0m\u001B[1;33m)\u001B[0m\u001B[1;33m\u001B[0m\u001B[1;33m\u001B[0m\u001B[0m\n\u001B[0m",
      "\u001B[1;32m~\\AppData\\Roaming\\Python\\Python311\\site-packages\\pandas\\core\\generic.py\u001B[0m in \u001B[0;36m?\u001B[1;34m(self, name)\u001B[0m\n\u001B[0;32m   6200\u001B[0m             \u001B[1;32mand\u001B[0m \u001B[0mname\u001B[0m \u001B[1;32mnot\u001B[0m \u001B[1;32min\u001B[0m \u001B[0mself\u001B[0m\u001B[1;33m.\u001B[0m\u001B[0m_accessors\u001B[0m\u001B[1;33m\u001B[0m\u001B[1;33m\u001B[0m\u001B[0m\n\u001B[0;32m   6201\u001B[0m             \u001B[1;32mand\u001B[0m \u001B[0mself\u001B[0m\u001B[1;33m.\u001B[0m\u001B[0m_info_axis\u001B[0m\u001B[1;33m.\u001B[0m\u001B[0m_can_hold_identifiers_and_holds_name\u001B[0m\u001B[1;33m(\u001B[0m\u001B[0mname\u001B[0m\u001B[1;33m)\u001B[0m\u001B[1;33m\u001B[0m\u001B[1;33m\u001B[0m\u001B[0m\n\u001B[0;32m   6202\u001B[0m         ):\n\u001B[0;32m   6203\u001B[0m             \u001B[1;32mreturn\u001B[0m \u001B[0mself\u001B[0m\u001B[1;33m[\u001B[0m\u001B[0mname\u001B[0m\u001B[1;33m]\u001B[0m\u001B[1;33m\u001B[0m\u001B[1;33m\u001B[0m\u001B[0m\n\u001B[1;32m-> 6204\u001B[1;33m         \u001B[1;32mreturn\u001B[0m \u001B[0mobject\u001B[0m\u001B[1;33m.\u001B[0m\u001B[0m__getattribute__\u001B[0m\u001B[1;33m(\u001B[0m\u001B[0mself\u001B[0m\u001B[1;33m,\u001B[0m \u001B[0mname\u001B[0m\u001B[1;33m)\u001B[0m\u001B[1;33m\u001B[0m\u001B[1;33m\u001B[0m\u001B[0m\n\u001B[0m",
      "\u001B[1;31mAttributeError\u001B[0m: 'DataFrame' object has no attribute 'append'"
     ]
    }
   ],
   "source": [
    "df1.append([df2, df3])"
   ]
  },
  {
   "cell_type": "code",
   "execution_count": null,
   "metadata": {},
   "outputs": [],
   "source": []
  },
  {
   "cell_type": "code",
   "execution_count": null,
   "metadata": {},
   "outputs": [],
   "source": []
  },
  {
   "cell_type": "code",
   "execution_count": null,
   "metadata": {},
   "outputs": [],
   "source": []
  },
  {
   "cell_type": "code",
   "execution_count": null,
   "metadata": {},
   "outputs": [],
   "source": []
  },
  {
   "cell_type": "code",
   "execution_count": null,
   "metadata": {},
   "outputs": [],
   "source": []
  }
 ],
 "metadata": {
  "kernelspec": {
   "display_name": "Python 3",
   "language": "python",
   "name": "python3"
  },
  "language_info": {
   "codemirror_mode": {
    "name": "ipython",
    "version": 3
   },
   "file_extension": ".py",
   "mimetype": "text/x-python",
   "name": "python",
   "nbconvert_exporter": "python",
   "pygments_lexer": "ipython3",
   "version": "3.8.5"
  },
  "varInspector": {
   "cols": {
    "lenName": 16,
    "lenType": 16,
    "lenVar": 40
   },
   "kernels_config": {
    "python": {
     "delete_cmd_postfix": "",
     "delete_cmd_prefix": "del ",
     "library": "var_list.py",
     "varRefreshCmd": "print(var_dic_list())"
    },
    "r": {
     "delete_cmd_postfix": ") ",
     "delete_cmd_prefix": "rm(",
     "library": "var_list.r",
     "varRefreshCmd": "cat(var_dic_list()) "
    }
   },
   "types_to_exclude": [
    "module",
    "function",
    "builtin_function_or_method",
    "instance",
    "_Feature"
   ],
   "window_display": false
  }
 },
 "nbformat": 4,
 "nbformat_minor": 4
}
