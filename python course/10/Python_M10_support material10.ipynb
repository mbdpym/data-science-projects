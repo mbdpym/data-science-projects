{
 "nbformat": 4,
 "nbformat_minor": 0,
 "metadata": {
  "colab": {
   "provenance": [],
   "toc_visible": true
  },
  "kernelspec": {
   "name": "python3",
   "language": "python",
   "display_name": "Python 3 (ipykernel)"
  }
 },
 "cells": [
  {
   "cell_type": "markdown",
   "metadata": {
    "id": "KJqp9AANOCtf"
   },
   "source": [
    "<img src=\"https://raw.githubusercontent.com/andre-marcos-perez/ebac-course-utils/main/media/logo/newebac_logo_black_half.png\" alt=\"ebac-logo\">\n",
    "\n",
    "---\n",
    "\n",
    "# **Módulo** | Python: Projeto Final\n",
    "Caderno de **Aula**<br>\n",
    "Professor [André Perez](https://www.linkedin.com/in/andremarcosperez/)\n",
    "\n",
    "---"
   ]
  },
  {
   "cell_type": "markdown",
   "metadata": {
    "id": "d9jDtUbDOE1-"
   },
   "source": [
    "# **Tópicos**\n",
    "\n",
    "<ol type=\"1\">\n",
    "  <li>Introdução ao Kaggle;</li>\n",
    "  <li>Exploração de dados;</li>\n",
    "  <li>Transformação e limpeza de dados;</li>\n",
    "  <li>Visualização de dados;</li>\n",
    "  <li>Storytelling.</li>\n",
    "</ol>\n"
   ]
  },
  {
   "cell_type": "markdown",
   "metadata": {
    "id": "SmoHgt-lwkpD"
   },
   "source": [
    "---"
   ]
  },
  {
   "cell_type": "markdown",
   "metadata": {
    "id": "GABI6OW8OfQ2"
   },
   "source": [
    "# **Aulas**"
   ]
  },
  {
   "cell_type": "markdown",
   "metadata": {
    "id": "muD1vxozykSC"
   },
   "source": [
    "## 1\\. Introdução ao Kaggle"
   ]
  },
  {
   "cell_type": "markdown",
   "metadata": {
    "id": "xnsoZc_wI0sl"
   },
   "source": [
    "[Kaggle](https://www.kaggle.com/) é a maior comunidade online de ciência de dados e aprendizado de máquina. A plataforma permite que usuários encontrem e publiquem conjuntos de **dados**, construam e compartilhem **notebooks** (como este do Google Colab) e participem de **competições** (que pagam muito dinheiro as vezes) e desafios de dados."
   ]
  },
  {
   "cell_type": "markdown",
   "metadata": {
    "id": "7BqRKqRGJ0i2"
   },
   "source": [
    "> Vamos publicar nosso notebook de exercícios na plataforma web do Kaggle para que você possa compartilhar tudo o que você aprendeu neste curso e compor o seu portfólio."
   ]
  },
  {
   "cell_type": "markdown",
   "metadata": {
    "id": "4rRCvy_UURrM"
   },
   "source": [
    "## 2\\. Exploração de Dados"
   ]
  },
  {
   "cell_type": "markdown",
   "metadata": {
    "id": "ByX7SUjNKk2K"
   },
   "source": [
    "Vamos explorar dados de crédito presentes neste neste [link](https://raw.githubusercontent.com/andre-marcos-perez/ebac-course-utils/develop/dataset/credito.csv). Os dados estão no formato CSV e contém informações sobre clientes de uma instituição financeira. Em especial, estamos interessados em explicar a segunda coluna, chamada de **default**, que indica se um cliente é adimplente(`default = 0`), ou inadimplente (`default = 1`), ou seja, queremos entender o porque um cliente deixa de honrar com suas dívidas baseado no comportamento de outros atributos, como salário, escolaridade e movimentação financeira. Uma descrição completa dos atributos está abaixo."
   ]
  },
  {
   "cell_type": "markdown",
   "metadata": {
    "id": "34x6dra_9Hjq"
   },
   "source": [
    "> O atributo de interesse (`default`) é conhecido como **variável resposta** ou **variável dependente**, já os demais atributos que buscam explicá-la (`idade`, `salário`, etc.) são conhecidas como **variáveis explicatívas**, **variáveis independentes** ou até **variáveis preditoras**."
   ]
  },
  {
   "cell_type": "markdown",
   "metadata": {
    "id": "Z5Fd0NSVLnwE"
   },
   "source": [
    "\n",
    "\n",
    "| Coluna  | Descrição |\n",
    "| ------- | --------- |\n",
    "| id      | Número da conta |\n",
    "| default | Indica se o cliente é adimplente (0) ou inadimplente (1) |\n",
    "| idade   | --- |\n",
    "| sexo    | --- |\n",
    "| depedentes | --- |\n",
    "| escolaridade | --- |\n",
    "| estado_civil | --- |\n",
    "| salario_anual | Faixa do salario mensal multiplicado por 12 |\n",
    "| tipo_cartao | Categoria do cartao: blue, silver, gold e platinium |\n",
    "| meses_de_relacionamento | Quantidade de meses desde a abertura da conta |\n",
    "| qtd_produtos | Quantidade de produtos contratados |\n",
    "| iteracoes_12m | Quantidade de iteracoes com o cliente no último ano |\n",
    "| meses_inatico_12m | Quantidade de meses que o cliente ficou inativo no último ano |\n",
    "| limite_credito | Valor do limite do cartão de crédito |\n",
    "| valor_transacoes_12m | Soma total do valor das transações no cartão de crédito no último ano |\n",
    "| qtd_transacoes_12m | Quantidade total de transações no cartão de crédito no último ano |\n",
    "\n"
   ]
  },
  {
   "cell_type": "markdown",
   "metadata": {
    "id": "qn84FpdD-Gmk"
   },
   "source": [
    "Vamos começar lendos os dados num dataframe `pandas`."
   ]
  },
  {
   "cell_type": "code",
   "metadata": {
    "id": "2y8zAhgFK1rs",
    "is_executing": true
   },
   "source": [
    "import pandas as pd"
   ],
   "execution_count": null,
   "outputs": []
  },
  {
   "cell_type": "code",
   "metadata": {
    "id": "Oc1o3fzfKdhx",
    "ExecuteTime": {
     "end_time": "2023-12-14T17:21:30.913267700Z",
     "start_time": "2023-12-14T17:21:30.409655700Z"
    }
   },
   "source": [
    "df = pd.read_csv('https://raw.githubusercontent.com/andre-marcos-perez/ebac-course-utils/develop/dataset/credito.csv', na_values='na')"
   ],
   "execution_count": null,
   "outputs": []
  },
  {
   "cell_type": "code",
   "metadata": {
    "id": "QCKDeFk_KtrW",
    "ExecuteTime": {
     "end_time": "2023-12-14T17:21:30.920676100Z",
     "start_time": "2023-12-14T17:21:30.917768800Z"
    },
    "outputId": "f68f728d-d459-412f-a0c2-470b39ed7f18"
   },
   "source": [
    "df.head(n=10)"
   ],
   "execution_count": null,
   "outputs": [
    {
     "data": {
      "text/plain": "          id  default  idade sexo  dependentes         escolaridade  \\\n0  768805383        0     45    M            3         ensino medio   \n1  818770008        0     49    F            5             mestrado   \n2  713982108        0     51    M            3             mestrado   \n3  769911858        0     40    F            4         ensino medio   \n4  709106358        0     40    M            3  sem educacao formal   \n5  713061558        0     44    M            2             mestrado   \n6  810347208        0     51    M            4                  NaN   \n7  818906208        0     32    M            0         ensino medio   \n8  710930508        0     37    M            3  sem educacao formal   \n9  719661558        0     48    M            2             mestrado   \n\n  estado_civil   salario_anual tipo_cartao  meses_de_relacionamento  \\\n0       casado     $60K - $80K        blue                       39   \n1     solteiro  menos que $40K        blue                       44   \n2       casado    $80K - $120K        blue                       36   \n3          NaN  menos que $40K        blue                       34   \n4       casado     $60K - $80K        blue                       21   \n5       casado     $40K - $60K        blue                       36   \n6       casado         $120K +        gold                       46   \n7          NaN     $60K - $80K      silver                       27   \n8     solteiro     $60K - $80K        blue                       36   \n9     solteiro    $80K - $120K        blue                       36   \n\n   qtd_produtos  iteracoes_12m  meses_inativo_12m limite_credito  \\\n0             5              3                  1      12.691,51   \n1             6              2                  1       8.256,96   \n2             4              0                  1       3.418,56   \n3             3              1                  4       3.313,03   \n4             5              0                  1       4.716,22   \n5             3              2                  1       4.010,69   \n6             6              3                  1      34.516,72   \n7             2              2                  2      29.081,49   \n8             5              0                  2      22.352,50   \n9             6              3                  3      11.656,41   \n\n  valor_transacoes_12m  qtd_transacoes_12m  \n0             1.144,90                  42  \n1             1.291,45                  33  \n2             1.887,72                  20  \n3             1.171,56                  20  \n4               816,08                  28  \n5             1.088,07                  24  \n6             1.330,87                  31  \n7             1.538,32                  36  \n8             1.350,14                  24  \n9             1.441,73                  32  ",
      "text/html": "<div>\n<style scoped>\n    .dataframe tbody tr th:only-of-type {\n        vertical-align: middle;\n    }\n\n    .dataframe tbody tr th {\n        vertical-align: top;\n    }\n\n    .dataframe thead th {\n        text-align: right;\n    }\n</style>\n<table border=\"1\" class=\"dataframe\">\n  <thead>\n    <tr style=\"text-align: right;\">\n      <th></th>\n      <th>id</th>\n      <th>default</th>\n      <th>idade</th>\n      <th>sexo</th>\n      <th>dependentes</th>\n      <th>escolaridade</th>\n      <th>estado_civil</th>\n      <th>salario_anual</th>\n      <th>tipo_cartao</th>\n      <th>meses_de_relacionamento</th>\n      <th>qtd_produtos</th>\n      <th>iteracoes_12m</th>\n      <th>meses_inativo_12m</th>\n      <th>limite_credito</th>\n      <th>valor_transacoes_12m</th>\n      <th>qtd_transacoes_12m</th>\n    </tr>\n  </thead>\n  <tbody>\n    <tr>\n      <th>0</th>\n      <td>768805383</td>\n      <td>0</td>\n      <td>45</td>\n      <td>M</td>\n      <td>3</td>\n      <td>ensino medio</td>\n      <td>casado</td>\n      <td>$60K - $80K</td>\n      <td>blue</td>\n      <td>39</td>\n      <td>5</td>\n      <td>3</td>\n      <td>1</td>\n      <td>12.691,51</td>\n      <td>1.144,90</td>\n      <td>42</td>\n    </tr>\n    <tr>\n      <th>1</th>\n      <td>818770008</td>\n      <td>0</td>\n      <td>49</td>\n      <td>F</td>\n      <td>5</td>\n      <td>mestrado</td>\n      <td>solteiro</td>\n      <td>menos que $40K</td>\n      <td>blue</td>\n      <td>44</td>\n      <td>6</td>\n      <td>2</td>\n      <td>1</td>\n      <td>8.256,96</td>\n      <td>1.291,45</td>\n      <td>33</td>\n    </tr>\n    <tr>\n      <th>2</th>\n      <td>713982108</td>\n      <td>0</td>\n      <td>51</td>\n      <td>M</td>\n      <td>3</td>\n      <td>mestrado</td>\n      <td>casado</td>\n      <td>$80K - $120K</td>\n      <td>blue</td>\n      <td>36</td>\n      <td>4</td>\n      <td>0</td>\n      <td>1</td>\n      <td>3.418,56</td>\n      <td>1.887,72</td>\n      <td>20</td>\n    </tr>\n    <tr>\n      <th>3</th>\n      <td>769911858</td>\n      <td>0</td>\n      <td>40</td>\n      <td>F</td>\n      <td>4</td>\n      <td>ensino medio</td>\n      <td>NaN</td>\n      <td>menos que $40K</td>\n      <td>blue</td>\n      <td>34</td>\n      <td>3</td>\n      <td>1</td>\n      <td>4</td>\n      <td>3.313,03</td>\n      <td>1.171,56</td>\n      <td>20</td>\n    </tr>\n    <tr>\n      <th>4</th>\n      <td>709106358</td>\n      <td>0</td>\n      <td>40</td>\n      <td>M</td>\n      <td>3</td>\n      <td>sem educacao formal</td>\n      <td>casado</td>\n      <td>$60K - $80K</td>\n      <td>blue</td>\n      <td>21</td>\n      <td>5</td>\n      <td>0</td>\n      <td>1</td>\n      <td>4.716,22</td>\n      <td>816,08</td>\n      <td>28</td>\n    </tr>\n    <tr>\n      <th>5</th>\n      <td>713061558</td>\n      <td>0</td>\n      <td>44</td>\n      <td>M</td>\n      <td>2</td>\n      <td>mestrado</td>\n      <td>casado</td>\n      <td>$40K - $60K</td>\n      <td>blue</td>\n      <td>36</td>\n      <td>3</td>\n      <td>2</td>\n      <td>1</td>\n      <td>4.010,69</td>\n      <td>1.088,07</td>\n      <td>24</td>\n    </tr>\n    <tr>\n      <th>6</th>\n      <td>810347208</td>\n      <td>0</td>\n      <td>51</td>\n      <td>M</td>\n      <td>4</td>\n      <td>NaN</td>\n      <td>casado</td>\n      <td>$120K +</td>\n      <td>gold</td>\n      <td>46</td>\n      <td>6</td>\n      <td>3</td>\n      <td>1</td>\n      <td>34.516,72</td>\n      <td>1.330,87</td>\n      <td>31</td>\n    </tr>\n    <tr>\n      <th>7</th>\n      <td>818906208</td>\n      <td>0</td>\n      <td>32</td>\n      <td>M</td>\n      <td>0</td>\n      <td>ensino medio</td>\n      <td>NaN</td>\n      <td>$60K - $80K</td>\n      <td>silver</td>\n      <td>27</td>\n      <td>2</td>\n      <td>2</td>\n      <td>2</td>\n      <td>29.081,49</td>\n      <td>1.538,32</td>\n      <td>36</td>\n    </tr>\n    <tr>\n      <th>8</th>\n      <td>710930508</td>\n      <td>0</td>\n      <td>37</td>\n      <td>M</td>\n      <td>3</td>\n      <td>sem educacao formal</td>\n      <td>solteiro</td>\n      <td>$60K - $80K</td>\n      <td>blue</td>\n      <td>36</td>\n      <td>5</td>\n      <td>0</td>\n      <td>2</td>\n      <td>22.352,50</td>\n      <td>1.350,14</td>\n      <td>24</td>\n    </tr>\n    <tr>\n      <th>9</th>\n      <td>719661558</td>\n      <td>0</td>\n      <td>48</td>\n      <td>M</td>\n      <td>2</td>\n      <td>mestrado</td>\n      <td>solteiro</td>\n      <td>$80K - $120K</td>\n      <td>blue</td>\n      <td>36</td>\n      <td>6</td>\n      <td>3</td>\n      <td>3</td>\n      <td>11.656,41</td>\n      <td>1.441,73</td>\n      <td>32</td>\n    </tr>\n  </tbody>\n</table>\n</div>"
     },
     "execution_count": 56,
     "metadata": {},
     "output_type": "execute_result"
    }
   ]
  },
  {
   "cell_type": "markdown",
   "metadata": {
    "id": "r7pm8Ar5-PBS"
   },
   "source": [
    "Com o dados em mãos, vamos conhecer um pouco melhor a estrutura do nosso conjunto de dados."
   ]
  },
  {
   "cell_type": "markdown",
   "metadata": {
    "id": "EuDUXAcU-bWl"
   },
   "source": [
    "### **2.1. Estrutura**"
   ]
  },
  {
   "cell_type": "code",
   "metadata": {
    "id": "TiHtowl0RzDj",
    "ExecuteTime": {
     "end_time": "2023-12-14T17:21:36.740341700Z",
     "start_time": "2023-12-14T17:21:36.734939Z"
    },
    "outputId": "4a84974b-7f6f-4fc6-ab2f-b9d20349c1be"
   },
   "source": [
    "df.shape # retorna uma tupla (qtd linhas, qtd colunas)"
   ],
   "execution_count": null,
   "outputs": [
    {
     "data": {
      "text/plain": "(10127, 16)"
     },
     "execution_count": 57,
     "metadata": {},
     "output_type": "execute_result"
    }
   ]
  },
  {
   "cell_type": "code",
   "metadata": {
    "id": "J1FI7JejBrXN",
    "ExecuteTime": {
     "end_time": "2023-12-14T17:21:37.141708Z",
     "start_time": "2023-12-14T17:21:37.135459400Z"
    },
    "colab": {
     "base_uri": "https://localhost:8080/",
     "height": 179
    },
    "executionInfo": {
     "status": "error",
     "timestamp": 1702590312175,
     "user_tz": 0,
     "elapsed": 0,
     "user": {
      "displayName": "yan moo",
      "userId": "04113058810916085038"
     }
    },
    "outputId": "b0ca22be-9279-432a-80c1-4dd687cb1945"
   },
   "source": [
    "df[df['default'] == 0].shape"
   ],
   "execution_count": 1,
   "outputs": [
    {
     "output_type": "error",
     "ename": "NameError",
     "evalue": "ignored",
     "traceback": [
      "\u001B[0;31m---------------------------------------------------------------------------\u001B[0m",
      "\u001B[0;31mNameError\u001B[0m                                 Traceback (most recent call last)",
      "\u001B[0;32m<ipython-input-1-0a38172ac0d5>\u001B[0m in \u001B[0;36m<cell line: 1>\u001B[0;34m()\u001B[0m\n\u001B[0;32m----> 1\u001B[0;31m \u001B[0mdf\u001B[0m\u001B[0;34m[\u001B[0m\u001B[0mdf\u001B[0m\u001B[0;34m[\u001B[0m\u001B[0;34m'default'\u001B[0m\u001B[0;34m]\u001B[0m \u001B[0;34m==\u001B[0m \u001B[0;36m0\u001B[0m\u001B[0;34m]\u001B[0m\u001B[0;34m.\u001B[0m\u001B[0mshape\u001B[0m\u001B[0;34m\u001B[0m\u001B[0;34m\u001B[0m\u001B[0m\n\u001B[0m",
      "\u001B[0;31mNameError\u001B[0m: name 'df' is not defined"
     ]
    }
   ]
  },
  {
   "cell_type": "code",
   "metadata": {
    "id": "G4RYP6btBriq",
    "ExecuteTime": {
     "end_time": "2023-12-14T17:21:37.412097800Z",
     "start_time": "2023-12-14T17:21:37.405834700Z"
    },
    "outputId": "af74e6d6-84f9-4e62-bf9e-6987926b4e24"
   },
   "source": [
    "df[df['default'] == 1].shape"
   ],
   "execution_count": null,
   "outputs": [
    {
     "data": {
      "text/plain": "(1627, 16)"
     },
     "execution_count": 59,
     "metadata": {},
     "output_type": "execute_result"
    }
   ]
  },
  {
   "cell_type": "code",
   "metadata": {
    "id": "wH_CazQqB0Ju",
    "ExecuteTime": {
     "end_time": "2023-12-14T17:21:37.673713700Z",
     "start_time": "2023-12-14T17:21:37.667363500Z"
    },
    "executionInfo": {
     "status": "aborted",
     "timestamp": 1702590312175,
     "user_tz": 0,
     "elapsed": 0,
     "user": {
      "displayName": "yan moo",
      "userId": "04113058810916085038"
     }
    }
   },
   "source": [
    "qtd_total, _ = df.shape\n",
    "qtd_adimplentes, _ = df[df['default'] == 0].shape\n",
    "qtd_inadimplentes, _ = df[df['default'] == 1].shape"
   ],
   "execution_count": null,
   "outputs": []
  },
  {
   "cell_type": "code",
   "metadata": {
    "id": "oNt0s7YeCb3z",
    "ExecuteTime": {
     "end_time": "2023-12-14T17:21:38.549274400Z",
     "start_time": "2023-12-14T17:21:38.537872Z"
    },
    "outputId": "9ef73660-a5c7-4f37-ac87-22525aa95fe9"
   },
   "source": [
    "print(f\"A proporcão clientes adimplentes é de {round(100 * qtd_adimplentes / qtd_total, 2)}%\")\n",
    "print(f\"A proporcão clientes inadimplentes é de {round(100 * qtd_inadimplentes / qtd_total, 2)}%\")"
   ],
   "execution_count": null,
   "outputs": [
    {
     "name": "stdout",
     "output_type": "stream",
     "text": [
      "A proporcão clientes adimplentes é de 83.93%\n",
      "A proporcão clientes inadimplentes é de 16.07%\n"
     ]
    }
   ]
  },
  {
   "cell_type": "markdown",
   "metadata": {
    "id": "kwey_fNL-dko"
   },
   "source": [
    "### **2.2. Schema**"
   ]
  },
  {
   "cell_type": "code",
   "metadata": {
    "id": "nYYrLXUfHo_3",
    "ExecuteTime": {
     "end_time": "2023-12-14T17:21:39.334611700Z",
     "start_time": "2023-12-14T17:21:39.322209800Z"
    },
    "outputId": "0ac33b82-aa20-48b9-f927-476fb07f50e4"
   },
   "source": [
    "df.head(n=5)"
   ],
   "execution_count": null,
   "outputs": [
    {
     "data": {
      "text/plain": "          id  default  idade sexo  dependentes         escolaridade  \\\n0  768805383        0     45    M            3         ensino medio   \n1  818770008        0     49    F            5             mestrado   \n2  713982108        0     51    M            3             mestrado   \n3  769911858        0     40    F            4         ensino medio   \n4  709106358        0     40    M            3  sem educacao formal   \n\n  estado_civil   salario_anual tipo_cartao  meses_de_relacionamento  \\\n0       casado     $60K - $80K        blue                       39   \n1     solteiro  menos que $40K        blue                       44   \n2       casado    $80K - $120K        blue                       36   \n3          NaN  menos que $40K        blue                       34   \n4       casado     $60K - $80K        blue                       21   \n\n   qtd_produtos  iteracoes_12m  meses_inativo_12m limite_credito  \\\n0             5              3                  1      12.691,51   \n1             6              2                  1       8.256,96   \n2             4              0                  1       3.418,56   \n3             3              1                  4       3.313,03   \n4             5              0                  1       4.716,22   \n\n  valor_transacoes_12m  qtd_transacoes_12m  \n0             1.144,90                  42  \n1             1.291,45                  33  \n2             1.887,72                  20  \n3             1.171,56                  20  \n4               816,08                  28  ",
      "text/html": "<div>\n<style scoped>\n    .dataframe tbody tr th:only-of-type {\n        vertical-align: middle;\n    }\n\n    .dataframe tbody tr th {\n        vertical-align: top;\n    }\n\n    .dataframe thead th {\n        text-align: right;\n    }\n</style>\n<table border=\"1\" class=\"dataframe\">\n  <thead>\n    <tr style=\"text-align: right;\">\n      <th></th>\n      <th>id</th>\n      <th>default</th>\n      <th>idade</th>\n      <th>sexo</th>\n      <th>dependentes</th>\n      <th>escolaridade</th>\n      <th>estado_civil</th>\n      <th>salario_anual</th>\n      <th>tipo_cartao</th>\n      <th>meses_de_relacionamento</th>\n      <th>qtd_produtos</th>\n      <th>iteracoes_12m</th>\n      <th>meses_inativo_12m</th>\n      <th>limite_credito</th>\n      <th>valor_transacoes_12m</th>\n      <th>qtd_transacoes_12m</th>\n    </tr>\n  </thead>\n  <tbody>\n    <tr>\n      <th>0</th>\n      <td>768805383</td>\n      <td>0</td>\n      <td>45</td>\n      <td>M</td>\n      <td>3</td>\n      <td>ensino medio</td>\n      <td>casado</td>\n      <td>$60K - $80K</td>\n      <td>blue</td>\n      <td>39</td>\n      <td>5</td>\n      <td>3</td>\n      <td>1</td>\n      <td>12.691,51</td>\n      <td>1.144,90</td>\n      <td>42</td>\n    </tr>\n    <tr>\n      <th>1</th>\n      <td>818770008</td>\n      <td>0</td>\n      <td>49</td>\n      <td>F</td>\n      <td>5</td>\n      <td>mestrado</td>\n      <td>solteiro</td>\n      <td>menos que $40K</td>\n      <td>blue</td>\n      <td>44</td>\n      <td>6</td>\n      <td>2</td>\n      <td>1</td>\n      <td>8.256,96</td>\n      <td>1.291,45</td>\n      <td>33</td>\n    </tr>\n    <tr>\n      <th>2</th>\n      <td>713982108</td>\n      <td>0</td>\n      <td>51</td>\n      <td>M</td>\n      <td>3</td>\n      <td>mestrado</td>\n      <td>casado</td>\n      <td>$80K - $120K</td>\n      <td>blue</td>\n      <td>36</td>\n      <td>4</td>\n      <td>0</td>\n      <td>1</td>\n      <td>3.418,56</td>\n      <td>1.887,72</td>\n      <td>20</td>\n    </tr>\n    <tr>\n      <th>3</th>\n      <td>769911858</td>\n      <td>0</td>\n      <td>40</td>\n      <td>F</td>\n      <td>4</td>\n      <td>ensino medio</td>\n      <td>NaN</td>\n      <td>menos que $40K</td>\n      <td>blue</td>\n      <td>34</td>\n      <td>3</td>\n      <td>1</td>\n      <td>4</td>\n      <td>3.313,03</td>\n      <td>1.171,56</td>\n      <td>20</td>\n    </tr>\n    <tr>\n      <th>4</th>\n      <td>709106358</td>\n      <td>0</td>\n      <td>40</td>\n      <td>M</td>\n      <td>3</td>\n      <td>sem educacao formal</td>\n      <td>casado</td>\n      <td>$60K - $80K</td>\n      <td>blue</td>\n      <td>21</td>\n      <td>5</td>\n      <td>0</td>\n      <td>1</td>\n      <td>4.716,22</td>\n      <td>816,08</td>\n      <td>28</td>\n    </tr>\n  </tbody>\n</table>\n</div>"
     },
     "execution_count": 62,
     "metadata": {},
     "output_type": "execute_result"
    }
   ]
  },
  {
   "cell_type": "markdown",
   "metadata": {
    "id": "sqxmut5iHPeF"
   },
   "source": [
    " - Colunas e seus respectivos tipos de dados."
   ]
  },
  {
   "cell_type": "code",
   "metadata": {
    "id": "llbDSkrwK8Yy",
    "ExecuteTime": {
     "end_time": "2023-12-14T17:21:39.867155100Z",
     "start_time": "2023-12-14T17:21:39.843802400Z"
    },
    "outputId": "db8868d3-3f71-45bc-c6ee-d0bd24155738"
   },
   "source": [
    "df.dtypes"
   ],
   "execution_count": null,
   "outputs": [
    {
     "data": {
      "text/plain": "id                          int64\ndefault                     int64\nidade                       int64\nsexo                       object\ndependentes                 int64\nescolaridade               object\nestado_civil               object\nsalario_anual              object\ntipo_cartao                object\nmeses_de_relacionamento     int64\nqtd_produtos                int64\niteracoes_12m               int64\nmeses_inativo_12m           int64\nlimite_credito             object\nvalor_transacoes_12m       object\nqtd_transacoes_12m          int64\ndtype: object"
     },
     "execution_count": 63,
     "metadata": {},
     "output_type": "execute_result"
    }
   ]
  },
  {
   "cell_type": "markdown",
   "metadata": {
    "id": "aoW6ljPmHCiB"
   },
   "source": [
    " - Atributos **categóricos**."
   ]
  },
  {
   "cell_type": "code",
   "metadata": {
    "id": "Bk9ruKeCFiEn",
    "ExecuteTime": {
     "end_time": "2023-12-14T17:21:40.232044100Z",
     "start_time": "2023-12-14T17:21:40.215097100Z"
    },
    "outputId": "2fd1489b-57c2-4caf-9ef3-ce0b65569a9a"
   },
   "source": [
    "df.select_dtypes('object').describe().transpose()"
   ],
   "execution_count": null,
   "outputs": [
    {
     "data": {
      "text/plain": "                      count unique             top  freq\nsexo                  10127      2               F  5358\nescolaridade           8608      5        mestrado  3128\nestado_civil           9378      3          casado  4687\nsalario_anual          9015      5  menos que $40K  3561\ntipo_cartao           10127      4            blue  9436\nlimite_credito        10127   9272        1.438,21    11\nvalor_transacoes_12m  10127  10035        3.851,51     3",
      "text/html": "<div>\n<style scoped>\n    .dataframe tbody tr th:only-of-type {\n        vertical-align: middle;\n    }\n\n    .dataframe tbody tr th {\n        vertical-align: top;\n    }\n\n    .dataframe thead th {\n        text-align: right;\n    }\n</style>\n<table border=\"1\" class=\"dataframe\">\n  <thead>\n    <tr style=\"text-align: right;\">\n      <th></th>\n      <th>count</th>\n      <th>unique</th>\n      <th>top</th>\n      <th>freq</th>\n    </tr>\n  </thead>\n  <tbody>\n    <tr>\n      <th>sexo</th>\n      <td>10127</td>\n      <td>2</td>\n      <td>F</td>\n      <td>5358</td>\n    </tr>\n    <tr>\n      <th>escolaridade</th>\n      <td>8608</td>\n      <td>5</td>\n      <td>mestrado</td>\n      <td>3128</td>\n    </tr>\n    <tr>\n      <th>estado_civil</th>\n      <td>9378</td>\n      <td>3</td>\n      <td>casado</td>\n      <td>4687</td>\n    </tr>\n    <tr>\n      <th>salario_anual</th>\n      <td>9015</td>\n      <td>5</td>\n      <td>menos que $40K</td>\n      <td>3561</td>\n    </tr>\n    <tr>\n      <th>tipo_cartao</th>\n      <td>10127</td>\n      <td>4</td>\n      <td>blue</td>\n      <td>9436</td>\n    </tr>\n    <tr>\n      <th>limite_credito</th>\n      <td>10127</td>\n      <td>9272</td>\n      <td>1.438,21</td>\n      <td>11</td>\n    </tr>\n    <tr>\n      <th>valor_transacoes_12m</th>\n      <td>10127</td>\n      <td>10035</td>\n      <td>3.851,51</td>\n      <td>3</td>\n    </tr>\n  </tbody>\n</table>\n</div>"
     },
     "execution_count": 64,
     "metadata": {},
     "output_type": "execute_result"
    }
   ]
  },
  {
   "cell_type": "markdown",
   "metadata": {
    "id": "8mNLjb9qHIWr"
   },
   "source": [
    " - Atributos **numéricos**."
   ]
  },
  {
   "cell_type": "code",
   "metadata": {
    "id": "4JAFUYUfDSSR",
    "ExecuteTime": {
     "end_time": "2023-12-14T17:21:40.638504Z",
     "start_time": "2023-12-14T17:21:40.621652800Z"
    },
    "outputId": "e3f4b2a1-4d05-4058-cb92-ee0d9699e82e"
   },
   "source": [
    "df.drop('id', axis=1).select_dtypes('number').describe().transpose()"
   ],
   "execution_count": null,
   "outputs": [
    {
     "data": {
      "text/plain": "                           count       mean        std   min   25%   50%  \\\ndefault                  10127.0   0.160660   0.367235   0.0   0.0   0.0   \nidade                    10127.0  46.325960   8.016814  26.0  41.0  46.0   \ndependentes              10127.0   2.346203   1.298908   0.0   1.0   2.0   \nmeses_de_relacionamento  10127.0  35.928409   7.986416  13.0  31.0  36.0   \nqtd_produtos             10127.0   3.812580   1.554408   1.0   3.0   4.0   \niteracoes_12m            10127.0   2.455317   1.106225   0.0   2.0   2.0   \nmeses_inativo_12m        10127.0   2.341167   1.010622   0.0   2.0   2.0   \nqtd_transacoes_12m       10127.0  64.858695  23.472570  10.0  45.0  67.0   \n\n                          75%    max  \ndefault                   0.0    1.0  \nidade                    52.0   73.0  \ndependentes               3.0    5.0  \nmeses_de_relacionamento  40.0   56.0  \nqtd_produtos              5.0    6.0  \niteracoes_12m             3.0    6.0  \nmeses_inativo_12m         3.0    6.0  \nqtd_transacoes_12m       81.0  139.0  ",
      "text/html": "<div>\n<style scoped>\n    .dataframe tbody tr th:only-of-type {\n        vertical-align: middle;\n    }\n\n    .dataframe tbody tr th {\n        vertical-align: top;\n    }\n\n    .dataframe thead th {\n        text-align: right;\n    }\n</style>\n<table border=\"1\" class=\"dataframe\">\n  <thead>\n    <tr style=\"text-align: right;\">\n      <th></th>\n      <th>count</th>\n      <th>mean</th>\n      <th>std</th>\n      <th>min</th>\n      <th>25%</th>\n      <th>50%</th>\n      <th>75%</th>\n      <th>max</th>\n    </tr>\n  </thead>\n  <tbody>\n    <tr>\n      <th>default</th>\n      <td>10127.0</td>\n      <td>0.160660</td>\n      <td>0.367235</td>\n      <td>0.0</td>\n      <td>0.0</td>\n      <td>0.0</td>\n      <td>0.0</td>\n      <td>1.0</td>\n    </tr>\n    <tr>\n      <th>idade</th>\n      <td>10127.0</td>\n      <td>46.325960</td>\n      <td>8.016814</td>\n      <td>26.0</td>\n      <td>41.0</td>\n      <td>46.0</td>\n      <td>52.0</td>\n      <td>73.0</td>\n    </tr>\n    <tr>\n      <th>dependentes</th>\n      <td>10127.0</td>\n      <td>2.346203</td>\n      <td>1.298908</td>\n      <td>0.0</td>\n      <td>1.0</td>\n      <td>2.0</td>\n      <td>3.0</td>\n      <td>5.0</td>\n    </tr>\n    <tr>\n      <th>meses_de_relacionamento</th>\n      <td>10127.0</td>\n      <td>35.928409</td>\n      <td>7.986416</td>\n      <td>13.0</td>\n      <td>31.0</td>\n      <td>36.0</td>\n      <td>40.0</td>\n      <td>56.0</td>\n    </tr>\n    <tr>\n      <th>qtd_produtos</th>\n      <td>10127.0</td>\n      <td>3.812580</td>\n      <td>1.554408</td>\n      <td>1.0</td>\n      <td>3.0</td>\n      <td>4.0</td>\n      <td>5.0</td>\n      <td>6.0</td>\n    </tr>\n    <tr>\n      <th>iteracoes_12m</th>\n      <td>10127.0</td>\n      <td>2.455317</td>\n      <td>1.106225</td>\n      <td>0.0</td>\n      <td>2.0</td>\n      <td>2.0</td>\n      <td>3.0</td>\n      <td>6.0</td>\n    </tr>\n    <tr>\n      <th>meses_inativo_12m</th>\n      <td>10127.0</td>\n      <td>2.341167</td>\n      <td>1.010622</td>\n      <td>0.0</td>\n      <td>2.0</td>\n      <td>2.0</td>\n      <td>3.0</td>\n      <td>6.0</td>\n    </tr>\n    <tr>\n      <th>qtd_transacoes_12m</th>\n      <td>10127.0</td>\n      <td>64.858695</td>\n      <td>23.472570</td>\n      <td>10.0</td>\n      <td>45.0</td>\n      <td>67.0</td>\n      <td>81.0</td>\n      <td>139.0</td>\n    </tr>\n  </tbody>\n</table>\n</div>"
     },
     "execution_count": 65,
     "metadata": {},
     "output_type": "execute_result"
    }
   ]
  },
  {
   "cell_type": "markdown",
   "metadata": {
    "id": "7lAUes2dUY3h"
   },
   "source": [
    "### **2.3. Dados faltantes**"
   ]
  },
  {
   "cell_type": "markdown",
   "metadata": {
    "id": "XYnOkpsUHu08"
   },
   "source": [
    "Dados faltantes podem ser:\n",
    "\n",
    " - Vazios (`\"\"`);\n",
    " - Nulos (`None`);\n",
    " - Não disponíveis ou aplicaveis (`na`, `NA`, etc.);\n",
    " - Não numérico (`nan`, `NaN`, `NAN`, etc)."
   ]
  },
  {
   "cell_type": "code",
   "metadata": {
    "id": "8BEHOjzsUnai",
    "ExecuteTime": {
     "end_time": "2023-12-14T17:21:43.127878400Z",
     "start_time": "2023-12-14T17:21:43.118626600Z"
    },
    "outputId": "734f2155-ffaf-43e1-a7ba-a6a7a54c20af"
   },
   "source": [
    "df.head()"
   ],
   "execution_count": null,
   "outputs": [
    {
     "data": {
      "text/plain": "          id  default  idade sexo  dependentes         escolaridade  \\\n0  768805383        0     45    M            3         ensino medio   \n1  818770008        0     49    F            5             mestrado   \n2  713982108        0     51    M            3             mestrado   \n3  769911858        0     40    F            4         ensino medio   \n4  709106358        0     40    M            3  sem educacao formal   \n\n  estado_civil   salario_anual tipo_cartao  meses_de_relacionamento  \\\n0       casado     $60K - $80K        blue                       39   \n1     solteiro  menos que $40K        blue                       44   \n2       casado    $80K - $120K        blue                       36   \n3          NaN  menos que $40K        blue                       34   \n4       casado     $60K - $80K        blue                       21   \n\n   qtd_produtos  iteracoes_12m  meses_inativo_12m limite_credito  \\\n0             5              3                  1      12.691,51   \n1             6              2                  1       8.256,96   \n2             4              0                  1       3.418,56   \n3             3              1                  4       3.313,03   \n4             5              0                  1       4.716,22   \n\n  valor_transacoes_12m  qtd_transacoes_12m  \n0             1.144,90                  42  \n1             1.291,45                  33  \n2             1.887,72                  20  \n3             1.171,56                  20  \n4               816,08                  28  ",
      "text/html": "<div>\n<style scoped>\n    .dataframe tbody tr th:only-of-type {\n        vertical-align: middle;\n    }\n\n    .dataframe tbody tr th {\n        vertical-align: top;\n    }\n\n    .dataframe thead th {\n        text-align: right;\n    }\n</style>\n<table border=\"1\" class=\"dataframe\">\n  <thead>\n    <tr style=\"text-align: right;\">\n      <th></th>\n      <th>id</th>\n      <th>default</th>\n      <th>idade</th>\n      <th>sexo</th>\n      <th>dependentes</th>\n      <th>escolaridade</th>\n      <th>estado_civil</th>\n      <th>salario_anual</th>\n      <th>tipo_cartao</th>\n      <th>meses_de_relacionamento</th>\n      <th>qtd_produtos</th>\n      <th>iteracoes_12m</th>\n      <th>meses_inativo_12m</th>\n      <th>limite_credito</th>\n      <th>valor_transacoes_12m</th>\n      <th>qtd_transacoes_12m</th>\n    </tr>\n  </thead>\n  <tbody>\n    <tr>\n      <th>0</th>\n      <td>768805383</td>\n      <td>0</td>\n      <td>45</td>\n      <td>M</td>\n      <td>3</td>\n      <td>ensino medio</td>\n      <td>casado</td>\n      <td>$60K - $80K</td>\n      <td>blue</td>\n      <td>39</td>\n      <td>5</td>\n      <td>3</td>\n      <td>1</td>\n      <td>12.691,51</td>\n      <td>1.144,90</td>\n      <td>42</td>\n    </tr>\n    <tr>\n      <th>1</th>\n      <td>818770008</td>\n      <td>0</td>\n      <td>49</td>\n      <td>F</td>\n      <td>5</td>\n      <td>mestrado</td>\n      <td>solteiro</td>\n      <td>menos que $40K</td>\n      <td>blue</td>\n      <td>44</td>\n      <td>6</td>\n      <td>2</td>\n      <td>1</td>\n      <td>8.256,96</td>\n      <td>1.291,45</td>\n      <td>33</td>\n    </tr>\n    <tr>\n      <th>2</th>\n      <td>713982108</td>\n      <td>0</td>\n      <td>51</td>\n      <td>M</td>\n      <td>3</td>\n      <td>mestrado</td>\n      <td>casado</td>\n      <td>$80K - $120K</td>\n      <td>blue</td>\n      <td>36</td>\n      <td>4</td>\n      <td>0</td>\n      <td>1</td>\n      <td>3.418,56</td>\n      <td>1.887,72</td>\n      <td>20</td>\n    </tr>\n    <tr>\n      <th>3</th>\n      <td>769911858</td>\n      <td>0</td>\n      <td>40</td>\n      <td>F</td>\n      <td>4</td>\n      <td>ensino medio</td>\n      <td>NaN</td>\n      <td>menos que $40K</td>\n      <td>blue</td>\n      <td>34</td>\n      <td>3</td>\n      <td>1</td>\n      <td>4</td>\n      <td>3.313,03</td>\n      <td>1.171,56</td>\n      <td>20</td>\n    </tr>\n    <tr>\n      <th>4</th>\n      <td>709106358</td>\n      <td>0</td>\n      <td>40</td>\n      <td>M</td>\n      <td>3</td>\n      <td>sem educacao formal</td>\n      <td>casado</td>\n      <td>$60K - $80K</td>\n      <td>blue</td>\n      <td>21</td>\n      <td>5</td>\n      <td>0</td>\n      <td>1</td>\n      <td>4.716,22</td>\n      <td>816,08</td>\n      <td>28</td>\n    </tr>\n  </tbody>\n</table>\n</div>"
     },
     "execution_count": 66,
     "metadata": {},
     "output_type": "execute_result"
    }
   ]
  },
  {
   "cell_type": "markdown",
   "metadata": {
    "id": "GafzLolPK4jy"
   },
   "source": [
    "Podemos verificar quais colunas possuem dados faltantes."
   ]
  },
  {
   "cell_type": "code",
   "metadata": {
    "id": "5dhwXuvgI3iF",
    "ExecuteTime": {
     "end_time": "2023-12-14T17:21:44.911176800Z",
     "start_time": "2023-12-14T17:21:44.903449Z"
    },
    "outputId": "941d9f0f-8318-48dc-adea-580fc330305c"
   },
   "source": [
    "df.isna().any()"
   ],
   "execution_count": null,
   "outputs": [
    {
     "data": {
      "text/plain": "id                         False\ndefault                    False\nidade                      False\nsexo                       False\ndependentes                False\nescolaridade                True\nestado_civil                True\nsalario_anual               True\ntipo_cartao                False\nmeses_de_relacionamento    False\nqtd_produtos               False\niteracoes_12m              False\nmeses_inativo_12m          False\nlimite_credito             False\nvalor_transacoes_12m       False\nqtd_transacoes_12m         False\ndtype: bool"
     },
     "execution_count": 67,
     "metadata": {},
     "output_type": "execute_result"
    }
   ]
  },
  {
   "cell_type": "markdown",
   "metadata": {
    "id": "iHFNmur_JQ0y"
   },
   "source": [
    " - A função abaixo levanta algumas estatisticas sobre as colunas dos dados faltantes."
   ]
  },
  {
   "cell_type": "code",
   "metadata": {
    "id": "UBeAIKidSMl9",
    "ExecuteTime": {
     "end_time": "2023-12-14T17:21:46.782731200Z",
     "start_time": "2023-12-14T17:21:46.775996400Z"
    }
   },
   "source": [
    "def stats_dados_faltantes(df: pd.DataFrame) -> None:\n",
    "\n",
    "  stats_dados_faltantes = []\n",
    "  for col in df.columns:\n",
    "    if df[col].isna().any():\n",
    "      qtd, _ = df[df[col].isna()].shape\n",
    "      total, _ = df.shape\n",
    "      dict_dados_faltantes = {col: {'quantidade': qtd, \"porcentagem\": round(100 * qtd/total, 2), 'total': total}}\n",
    "      stats_dados_faltantes.append(dict_dados_faltantes)\n",
    "\n",
    "  for stat in stats_dados_faltantes:\n",
    "    print(stat)"
   ],
   "execution_count": null,
   "outputs": []
  },
  {
   "cell_type": "code",
   "metadata": {
    "id": "yLcRKYv7Vcfo",
    "ExecuteTime": {
     "end_time": "2023-12-14T17:21:47.694001Z",
     "start_time": "2023-12-14T17:21:47.689538100Z"
    },
    "outputId": "45e981e5-5ebb-4b89-a2d9-22b207540020"
   },
   "source": [
    "stats_dados_faltantes(df=df)"
   ],
   "execution_count": null,
   "outputs": [
    {
     "name": "stdout",
     "output_type": "stream",
     "text": [
      "{'escolaridade': {'quantidade': 1519, 'porcentagem': 15.0, 'total': 10127}}\n",
      "{'estado_civil': {'quantidade': 749, 'porcentagem': 7.4, 'total': 10127}}\n",
      "{'salario_anual': {'quantidade': 1112, 'porcentagem': 10.98, 'total': 10127}}\n"
     ]
    }
   ]
  },
  {
   "cell_type": "code",
   "metadata": {
    "id": "9HgN5wcQUyrE",
    "ExecuteTime": {
     "end_time": "2023-12-14T17:21:48.362547300Z",
     "start_time": "2023-12-14T17:21:48.355942Z"
    },
    "outputId": "71645961-0317-4f9e-e1d3-45a6e7af8833"
   },
   "source": [
    "stats_dados_faltantes(df=df[df['default'] == 0])"
   ],
   "execution_count": null,
   "outputs": [
    {
     "name": "stdout",
     "output_type": "stream",
     "text": [
      "{'escolaridade': {'quantidade': 1263, 'porcentagem': 14.86, 'total': 8500}}\n",
      "{'estado_civil': {'quantidade': 620, 'porcentagem': 7.29, 'total': 8500}}\n",
      "{'salario_anual': {'quantidade': 925, 'porcentagem': 10.88, 'total': 8500}}\n"
     ]
    }
   ]
  },
  {
   "cell_type": "code",
   "metadata": {
    "id": "o9GIwcSCVmjt",
    "ExecuteTime": {
     "end_time": "2023-12-14T17:21:49.148043800Z",
     "start_time": "2023-12-14T17:21:49.140680900Z"
    },
    "outputId": "2b634c0b-06e0-46de-e6e8-d3465611aa1e"
   },
   "source": [
    "stats_dados_faltantes(df=df[df['default'] == 1])"
   ],
   "execution_count": null,
   "outputs": [
    {
     "name": "stdout",
     "output_type": "stream",
     "text": [
      "{'escolaridade': {'quantidade': 256, 'porcentagem': 15.73, 'total': 1627}}\n",
      "{'estado_civil': {'quantidade': 129, 'porcentagem': 7.93, 'total': 1627}}\n",
      "{'salario_anual': {'quantidade': 187, 'porcentagem': 11.49, 'total': 1627}}\n"
     ]
    }
   ]
  },
  {
   "cell_type": "markdown",
   "metadata": {
    "id": "miYvjW9QPKJm"
   },
   "source": [
    "## 3\\. Transformação e limpeza de dados"
   ]
  },
  {
   "cell_type": "markdown",
   "metadata": {
    "id": "_JEcr6OBLjT9"
   },
   "source": [
    "Agora que conhecemos melhor a natureza do nosso conjunto de dados, vamos conduzir uma atividade conhecida como *data wrangling* que consiste na transformação e limpeza dos dados do conjunto para que possam ser melhor analisados. Em especial, vamos remover:\n",
    "\n",
    " - Corrigir o *schema* das nossas colunas;\n",
    " - Remover os dados faltantes."
   ]
  },
  {
   "cell_type": "markdown",
   "metadata": {
    "id": "YqEgik1OXVLR"
   },
   "source": [
    "### **3.1. Correção de schema**"
   ]
  },
  {
   "cell_type": "markdown",
   "metadata": {
    "id": "FWHWpcurMkiX"
   },
   "source": [
    "Na etapa de exploração, notamos que as colunas **limite_credito** e **valor_transacoes_12m** estavam sendo interpretadas como colunas categóricas (`dtype = object`)."
   ]
  },
  {
   "cell_type": "code",
   "metadata": {
    "id": "e_ToeVYcM7X3",
    "ExecuteTime": {
     "end_time": "2023-12-14T17:21:53.771911500Z",
     "start_time": "2023-12-14T17:21:53.766087Z"
    },
    "outputId": "15b9b7f2-aae1-429b-a817-e39e818a9189"
   },
   "source": [
    "df[['limite_credito', 'valor_transacoes_12m']].dtypes"
   ],
   "execution_count": null,
   "outputs": [
    {
     "data": {
      "text/plain": "limite_credito          object\nvalor_transacoes_12m    object\ndtype: object"
     },
     "execution_count": 72,
     "metadata": {},
     "output_type": "execute_result"
    }
   ]
  },
  {
   "cell_type": "code",
   "metadata": {
    "id": "pkG33j5QNGLD",
    "ExecuteTime": {
     "end_time": "2023-12-14T17:21:54.705775700Z",
     "start_time": "2023-12-14T17:21:54.699236600Z"
    },
    "outputId": "18266bba-870b-4c1b-eb22-91c3290620c7"
   },
   "source": [
    "df[['limite_credito', 'valor_transacoes_12m']].head(n=5)"
   ],
   "execution_count": null,
   "outputs": [
    {
     "data": {
      "text/plain": "  limite_credito valor_transacoes_12m\n0      12.691,51             1.144,90\n1       8.256,96             1.291,45\n2       3.418,56             1.887,72\n3       3.313,03             1.171,56\n4       4.716,22               816,08",
      "text/html": "<div>\n<style scoped>\n    .dataframe tbody tr th:only-of-type {\n        vertical-align: middle;\n    }\n\n    .dataframe tbody tr th {\n        vertical-align: top;\n    }\n\n    .dataframe thead th {\n        text-align: right;\n    }\n</style>\n<table border=\"1\" class=\"dataframe\">\n  <thead>\n    <tr style=\"text-align: right;\">\n      <th></th>\n      <th>limite_credito</th>\n      <th>valor_transacoes_12m</th>\n    </tr>\n  </thead>\n  <tbody>\n    <tr>\n      <th>0</th>\n      <td>12.691,51</td>\n      <td>1.144,90</td>\n    </tr>\n    <tr>\n      <th>1</th>\n      <td>8.256,96</td>\n      <td>1.291,45</td>\n    </tr>\n    <tr>\n      <th>2</th>\n      <td>3.418,56</td>\n      <td>1.887,72</td>\n    </tr>\n    <tr>\n      <th>3</th>\n      <td>3.313,03</td>\n      <td>1.171,56</td>\n    </tr>\n    <tr>\n      <th>4</th>\n      <td>4.716,22</td>\n      <td>816,08</td>\n    </tr>\n  </tbody>\n</table>\n</div>"
     },
     "execution_count": 73,
     "metadata": {},
     "output_type": "execute_result"
    }
   ]
  },
  {
   "cell_type": "markdown",
   "metadata": {
    "id": "b2AJxyYXNQhC"
   },
   "source": [
    "Vamos criar uma função `lambda` para limpar os dados. Mas antes, vamos testar sua aplicação através do método funcional `map`:"
   ]
  },
  {
   "cell_type": "code",
   "metadata": {
    "id": "P2cLfCZTOFJD",
    "ExecuteTime": {
     "end_time": "2023-12-14T17:21:56.379259900Z",
     "start_time": "2023-12-14T17:21:56.371663100Z"
    },
    "outputId": "9cb36a6b-9a00-4807-d8c3-3d22ffcddda1"
   },
   "source": [
    "fn = lambda valor: float(valor.replace(\".\", \"\").replace(\",\", \".\"))\n",
    "\n",
    "valores_originais = ['12.691,51', '8.256,96', '3.418,56', '3.313,03', '4.716,22']\n",
    "valores_limpos = list(map(fn, valores_originais))\n",
    "\n",
    "print(valores_originais)\n",
    "print(valores_limpos)"
   ],
   "execution_count": null,
   "outputs": [
    {
     "name": "stdout",
     "output_type": "stream",
     "text": [
      "['12.691,51', '8.256,96', '3.418,56', '3.313,03', '4.716,22']\n",
      "[12691.51, 8256.96, 3418.56, 3313.03, 4716.22]\n"
     ]
    }
   ]
  },
  {
   "cell_type": "markdown",
   "metadata": {
    "id": "oNx_M5ueNfj1"
   },
   "source": [
    "Com a função `lambda` de limpeza pronta, basta aplica-la nas colunas de interesse."
   ]
  },
  {
   "cell_type": "code",
   "metadata": {
    "id": "b1vsc75TN_ZA",
    "ExecuteTime": {
     "end_time": "2023-12-14T17:21:57.892387100Z",
     "start_time": "2023-12-14T17:21:57.885400600Z"
    }
   },
   "source": [
    "df['valor_transacoes_12m'] = df['valor_transacoes_12m'].apply(fn)\n",
    "df['limite_credito'] = df['limite_credito'].apply(fn)"
   ],
   "execution_count": null,
   "outputs": []
  },
  {
   "cell_type": "markdown",
   "metadata": {
    "id": "44lO14qwOaGL"
   },
   "source": [
    "Vamos descrever novamente o *schema*:"
   ]
  },
  {
   "cell_type": "code",
   "metadata": {
    "id": "TOJoEfVxQpz3",
    "ExecuteTime": {
     "end_time": "2023-12-14T17:21:59.149981400Z",
     "start_time": "2023-12-14T17:21:59.142250500Z"
    },
    "outputId": "d6999862-57bc-400e-d8e0-5b4e536a21b1"
   },
   "source": [
    "df.dtypes"
   ],
   "execution_count": null,
   "outputs": [
    {
     "data": {
      "text/plain": "id                           int64\ndefault                      int64\nidade                        int64\nsexo                        object\ndependentes                  int64\nescolaridade                object\nestado_civil                object\nsalario_anual               object\ntipo_cartao                 object\nmeses_de_relacionamento      int64\nqtd_produtos                 int64\niteracoes_12m                int64\nmeses_inativo_12m            int64\nlimite_credito             float64\nvalor_transacoes_12m       float64\nqtd_transacoes_12m           int64\ndtype: object"
     },
     "execution_count": 76,
     "metadata": {},
     "output_type": "execute_result"
    }
   ]
  },
  {
   "cell_type": "markdown",
   "metadata": {
    "id": "Jzst49MBOQux"
   },
   "source": [
    " - Atributos **categóricos**."
   ]
  },
  {
   "cell_type": "code",
   "metadata": {
    "id": "ul2cx2s6OQu5",
    "ExecuteTime": {
     "end_time": "2023-12-14T17:22:00.950416800Z",
     "start_time": "2023-12-14T17:22:00.941439700Z"
    },
    "outputId": "a9e74012-0bc4-4e1a-fe2c-82f432cea317"
   },
   "source": [
    "df.select_dtypes('object').describe().transpose()"
   ],
   "execution_count": null,
   "outputs": [
    {
     "data": {
      "text/plain": "               count unique             top  freq\nsexo           10127      2               F  5358\nescolaridade    8608      5        mestrado  3128\nestado_civil    9378      3          casado  4687\nsalario_anual   9015      5  menos que $40K  3561\ntipo_cartao    10127      4            blue  9436",
      "text/html": "<div>\n<style scoped>\n    .dataframe tbody tr th:only-of-type {\n        vertical-align: middle;\n    }\n\n    .dataframe tbody tr th {\n        vertical-align: top;\n    }\n\n    .dataframe thead th {\n        text-align: right;\n    }\n</style>\n<table border=\"1\" class=\"dataframe\">\n  <thead>\n    <tr style=\"text-align: right;\">\n      <th></th>\n      <th>count</th>\n      <th>unique</th>\n      <th>top</th>\n      <th>freq</th>\n    </tr>\n  </thead>\n  <tbody>\n    <tr>\n      <th>sexo</th>\n      <td>10127</td>\n      <td>2</td>\n      <td>F</td>\n      <td>5358</td>\n    </tr>\n    <tr>\n      <th>escolaridade</th>\n      <td>8608</td>\n      <td>5</td>\n      <td>mestrado</td>\n      <td>3128</td>\n    </tr>\n    <tr>\n      <th>estado_civil</th>\n      <td>9378</td>\n      <td>3</td>\n      <td>casado</td>\n      <td>4687</td>\n    </tr>\n    <tr>\n      <th>salario_anual</th>\n      <td>9015</td>\n      <td>5</td>\n      <td>menos que $40K</td>\n      <td>3561</td>\n    </tr>\n    <tr>\n      <th>tipo_cartao</th>\n      <td>10127</td>\n      <td>4</td>\n      <td>blue</td>\n      <td>9436</td>\n    </tr>\n  </tbody>\n</table>\n</div>"
     },
     "execution_count": 77,
     "metadata": {},
     "output_type": "execute_result"
    }
   ]
  },
  {
   "cell_type": "markdown",
   "metadata": {
    "id": "MOln7J02OQu7"
   },
   "source": [
    " - Atributos **numéricos**."
   ]
  },
  {
   "cell_type": "code",
   "metadata": {
    "id": "wcavrFtIOQu8",
    "ExecuteTime": {
     "end_time": "2023-12-14T17:22:02.882516500Z",
     "start_time": "2023-12-14T17:22:02.866317100Z"
    },
    "outputId": "7c6a5bba-fd54-44c2-99cf-e3615c499a25"
   },
   "source": [
    "df.drop('id', axis=1).select_dtypes('number').describe().transpose()"
   ],
   "execution_count": null,
   "outputs": [
    {
     "data": {
      "text/plain": "                           count         mean          std      min       25%  \\\ndefault                  10127.0     0.160660     0.367235     0.00     0.000   \nidade                    10127.0    46.325960     8.016814    26.00    41.000   \ndependentes              10127.0     2.346203     1.298908     0.00     1.000   \nmeses_de_relacionamento  10127.0    35.928409     7.986416    13.00    31.000   \nqtd_produtos             10127.0     3.812580     1.554408     1.00     3.000   \niteracoes_12m            10127.0     2.455317     1.106225     0.00     2.000   \nmeses_inativo_12m        10127.0     2.341167     1.010622     0.00     2.000   \nlimite_credito           10127.0  8632.440165  9088.788041  1438.00  2555.355   \nvalor_transacoes_12m     10127.0  4404.583047  3397.128078   510.16  2155.825   \nqtd_transacoes_12m       10127.0    64.858695    23.472570    10.00    45.000   \n\n                             50%        75%       max  \ndefault                     0.00      0.000      1.00  \nidade                      46.00     52.000     73.00  \ndependentes                 2.00      3.000      5.00  \nmeses_de_relacionamento    36.00     40.000     56.00  \nqtd_produtos                4.00      5.000      6.00  \niteracoes_12m               2.00      3.000      6.00  \nmeses_inativo_12m           2.00      3.000      6.00  \nlimite_credito           4549.42  11068.175  34516.99  \nvalor_transacoes_12m     3899.59   4741.310  18484.93  \nqtd_transacoes_12m         67.00     81.000    139.00  ",
      "text/html": "<div>\n<style scoped>\n    .dataframe tbody tr th:only-of-type {\n        vertical-align: middle;\n    }\n\n    .dataframe tbody tr th {\n        vertical-align: top;\n    }\n\n    .dataframe thead th {\n        text-align: right;\n    }\n</style>\n<table border=\"1\" class=\"dataframe\">\n  <thead>\n    <tr style=\"text-align: right;\">\n      <th></th>\n      <th>count</th>\n      <th>mean</th>\n      <th>std</th>\n      <th>min</th>\n      <th>25%</th>\n      <th>50%</th>\n      <th>75%</th>\n      <th>max</th>\n    </tr>\n  </thead>\n  <tbody>\n    <tr>\n      <th>default</th>\n      <td>10127.0</td>\n      <td>0.160660</td>\n      <td>0.367235</td>\n      <td>0.00</td>\n      <td>0.000</td>\n      <td>0.00</td>\n      <td>0.000</td>\n      <td>1.00</td>\n    </tr>\n    <tr>\n      <th>idade</th>\n      <td>10127.0</td>\n      <td>46.325960</td>\n      <td>8.016814</td>\n      <td>26.00</td>\n      <td>41.000</td>\n      <td>46.00</td>\n      <td>52.000</td>\n      <td>73.00</td>\n    </tr>\n    <tr>\n      <th>dependentes</th>\n      <td>10127.0</td>\n      <td>2.346203</td>\n      <td>1.298908</td>\n      <td>0.00</td>\n      <td>1.000</td>\n      <td>2.00</td>\n      <td>3.000</td>\n      <td>5.00</td>\n    </tr>\n    <tr>\n      <th>meses_de_relacionamento</th>\n      <td>10127.0</td>\n      <td>35.928409</td>\n      <td>7.986416</td>\n      <td>13.00</td>\n      <td>31.000</td>\n      <td>36.00</td>\n      <td>40.000</td>\n      <td>56.00</td>\n    </tr>\n    <tr>\n      <th>qtd_produtos</th>\n      <td>10127.0</td>\n      <td>3.812580</td>\n      <td>1.554408</td>\n      <td>1.00</td>\n      <td>3.000</td>\n      <td>4.00</td>\n      <td>5.000</td>\n      <td>6.00</td>\n    </tr>\n    <tr>\n      <th>iteracoes_12m</th>\n      <td>10127.0</td>\n      <td>2.455317</td>\n      <td>1.106225</td>\n      <td>0.00</td>\n      <td>2.000</td>\n      <td>2.00</td>\n      <td>3.000</td>\n      <td>6.00</td>\n    </tr>\n    <tr>\n      <th>meses_inativo_12m</th>\n      <td>10127.0</td>\n      <td>2.341167</td>\n      <td>1.010622</td>\n      <td>0.00</td>\n      <td>2.000</td>\n      <td>2.00</td>\n      <td>3.000</td>\n      <td>6.00</td>\n    </tr>\n    <tr>\n      <th>limite_credito</th>\n      <td>10127.0</td>\n      <td>8632.440165</td>\n      <td>9088.788041</td>\n      <td>1438.00</td>\n      <td>2555.355</td>\n      <td>4549.42</td>\n      <td>11068.175</td>\n      <td>34516.99</td>\n    </tr>\n    <tr>\n      <th>valor_transacoes_12m</th>\n      <td>10127.0</td>\n      <td>4404.583047</td>\n      <td>3397.128078</td>\n      <td>510.16</td>\n      <td>2155.825</td>\n      <td>3899.59</td>\n      <td>4741.310</td>\n      <td>18484.93</td>\n    </tr>\n    <tr>\n      <th>qtd_transacoes_12m</th>\n      <td>10127.0</td>\n      <td>64.858695</td>\n      <td>23.472570</td>\n      <td>10.00</td>\n      <td>45.000</td>\n      <td>67.00</td>\n      <td>81.000</td>\n      <td>139.00</td>\n    </tr>\n  </tbody>\n</table>\n</div>"
     },
     "execution_count": 78,
     "metadata": {},
     "output_type": "execute_result"
    }
   ]
  },
  {
   "cell_type": "markdown",
   "metadata": {
    "id": "FfSrJNGPLgaE"
   },
   "source": [
    "### **3.2. Remoção de dados faltantes**"
   ]
  },
  {
   "cell_type": "markdown",
   "metadata": {
    "id": "C9-LfUrxPk26"
   },
   "source": [
    "Como o pandas está ciente do que é um dados faltante, a remoção das linhas problemáticas é trivial."
   ]
  },
  {
   "cell_type": "code",
   "metadata": {
    "id": "PACLJJnsLgak",
    "ExecuteTime": {
     "end_time": "2023-12-14T17:22:05.768778600Z",
     "start_time": "2023-12-14T17:22:05.760576900Z"
    }
   },
   "source": [
    "df.dropna(inplace=True)"
   ],
   "execution_count": null,
   "outputs": []
  },
  {
   "cell_type": "markdown",
   "metadata": {
    "id": "tJhhutM7Phq9"
   },
   "source": [
    "Vamos analisar a estrutura dos dados novamente."
   ]
  },
  {
   "cell_type": "code",
   "metadata": {
    "id": "5Fo7S-COP0Lf",
    "ExecuteTime": {
     "end_time": "2023-12-14T17:22:07.314056700Z",
     "start_time": "2023-12-14T17:22:07.308983100Z"
    },
    "outputId": "6a92dee8-a570-4e7a-cd3b-182cfbde47e5"
   },
   "source": [
    "df.shape"
   ],
   "execution_count": null,
   "outputs": [
    {
     "data": {
      "text/plain": "(7081, 16)"
     },
     "execution_count": 80,
     "metadata": {},
     "output_type": "execute_result"
    }
   ]
  },
  {
   "cell_type": "code",
   "metadata": {
    "id": "jbp-6NaXP0Lh",
    "ExecuteTime": {
     "end_time": "2023-12-14T17:22:07.776603400Z",
     "start_time": "2023-12-14T17:22:07.771398200Z"
    },
    "outputId": "7a03cc5d-128c-4495-fccf-634f6c406313"
   },
   "source": [
    "df[df['default'] == 0].shape"
   ],
   "execution_count": null,
   "outputs": [
    {
     "data": {
      "text/plain": "(5968, 16)"
     },
     "execution_count": 81,
     "metadata": {},
     "output_type": "execute_result"
    }
   ]
  },
  {
   "cell_type": "code",
   "metadata": {
    "id": "XJHQihfUP0Li",
    "ExecuteTime": {
     "end_time": "2023-12-14T17:22:08.239464900Z",
     "start_time": "2023-12-14T17:22:08.234452300Z"
    },
    "outputId": "54d70e46-5a8f-4e7a-baf8-a559fcafc436"
   },
   "source": [
    "df[df['default'] == 1].shape"
   ],
   "execution_count": null,
   "outputs": [
    {
     "data": {
      "text/plain": "(1113, 16)"
     },
     "execution_count": 82,
     "metadata": {},
     "output_type": "execute_result"
    }
   ]
  },
  {
   "cell_type": "code",
   "metadata": {
    "id": "IGFZmtReP0Lk",
    "ExecuteTime": {
     "end_time": "2023-12-14T17:22:08.847842Z",
     "start_time": "2023-12-14T17:22:08.841664700Z"
    }
   },
   "source": [
    "qtd_total_novo, _ = df.shape\n",
    "qtd_adimplentes_novo, _ = df[df['default'] == 0].shape\n",
    "qtd_inadimplentes_novo, _ = df[df['default'] == 1].shape"
   ],
   "execution_count": null,
   "outputs": []
  },
  {
   "cell_type": "code",
   "metadata": {
    "id": "BU35ZXaKP_6h",
    "ExecuteTime": {
     "end_time": "2023-12-14T17:22:09.949413Z",
     "start_time": "2023-12-14T17:22:09.943234900Z"
    },
    "outputId": "fb5d68ce-7abb-429e-b17f-a95c2a26a789"
   },
   "source": [
    "print(f\"A proporcão adimplentes ativos é de {round(100 * qtd_adimplentes / qtd_total, 2)}%\")\n",
    "print(f\"A nova proporcão de clientes adimplentes é de {round(100 * qtd_adimplentes_novo / qtd_total_novo, 2)}%\")\n",
    "print(\"\")\n",
    "print(f\"A proporcão clientes inadimplentes é de {round(100 * qtd_inadimplentes / qtd_total, 2)}%\")\n",
    "print(f\"A nova proporcão de clientes inadimplentes é de {round(100 * qtd_inadimplentes_novo / qtd_total_novo, 2)}%\")"
   ],
   "execution_count": null,
   "outputs": [
    {
     "name": "stdout",
     "output_type": "stream",
     "text": [
      "A proporcão adimplentes ativos é de 83.93%\n",
      "A nova proporcão de clientes adimplentes é de 84.28%\n",
      "\n",
      "A proporcão clientes inadimplentes é de 16.07%\n",
      "A nova proporcão de clientes inadimplentes é de 15.72%\n"
     ]
    }
   ]
  },
  {
   "cell_type": "markdown",
   "metadata": {
    "id": "iJTgUJqpPKJ3"
   },
   "source": [
    "## 4\\. Visualização de dados"
   ]
  },
  {
   "cell_type": "markdown",
   "metadata": {
    "id": "sJpXNT77pPig"
   },
   "source": [
    "Os dados estão prontos, vamos criar diversas visualizações para correlacionar variáveis explicativas com a variável resposta para buscar entender qual fator leva um cliente a inadimplencia. E para isso, vamos sempre comparar a base com todos os clientes com a base de adimplentes e inadimplentes."
   ]
  },
  {
   "cell_type": "markdown",
   "metadata": {
    "id": "36p-sjU3qPnG"
   },
   "source": [
    "Começamos então importando os pacotes de visualização e separando os clientes adimplentes e inadimplentes"
   ]
  },
  {
   "cell_type": "code",
   "metadata": {
    "id": "NkN4P1tGSlFI",
    "ExecuteTime": {
     "end_time": "2023-12-14T17:22:13.248915900Z",
     "start_time": "2023-12-14T17:22:13.244409900Z"
    },
    "executionInfo": {
     "status": "ok",
     "timestamp": 1702593098880,
     "user_tz": 0,
     "elapsed": 1683,
     "user": {
      "displayName": "yan moo",
      "userId": "04113058810916085038"
     }
    }
   },
   "source": [
    "import seaborn as sns\n",
    "import matplotlib.pyplot as plt\n",
    "\n",
    "sns.set_style(\"darkgrid\")"
   ],
   "execution_count": 6,
   "outputs": []
  },
  {
   "cell_type": "code",
   "metadata": {
    "id": "duYfStSTSs4f",
    "ExecuteTime": {
     "end_time": "2023-12-14T17:22:14.236474300Z",
     "start_time": "2023-12-14T17:22:14.225797500Z"
    },
    "colab": {
     "base_uri": "https://localhost:8080/",
     "height": 179
    },
    "executionInfo": {
     "status": "error",
     "timestamp": 1702593100097,
     "user_tz": 0,
     "elapsed": 333,
     "user": {
      "displayName": "yan moo",
      "userId": "04113058810916085038"
     }
    },
    "outputId": "7320187c-a809-4eb6-c9ea-c53e545da96f"
   },
   "source": [
    "df_adimplente = df[df['default'] == 0]"
   ],
   "execution_count": 7,
   "outputs": [
    {
     "output_type": "error",
     "ename": "NameError",
     "evalue": "ignored",
     "traceback": [
      "\u001B[0;31m---------------------------------------------------------------------------\u001B[0m",
      "\u001B[0;31mNameError\u001B[0m                                 Traceback (most recent call last)",
      "\u001B[0;32m<ipython-input-7-6262c0677dff>\u001B[0m in \u001B[0;36m<cell line: 1>\u001B[0;34m()\u001B[0m\n\u001B[0;32m----> 1\u001B[0;31m \u001B[0mdf_adimplente\u001B[0m \u001B[0;34m=\u001B[0m \u001B[0mdf\u001B[0m\u001B[0;34m[\u001B[0m\u001B[0mdf\u001B[0m\u001B[0;34m[\u001B[0m\u001B[0;34m'default'\u001B[0m\u001B[0;34m]\u001B[0m \u001B[0;34m==\u001B[0m \u001B[0;36m0\u001B[0m\u001B[0;34m]\u001B[0m\u001B[0;34m\u001B[0m\u001B[0;34m\u001B[0m\u001B[0m\n\u001B[0m",
      "\u001B[0;31mNameError\u001B[0m: name 'df' is not defined"
     ]
    }
   ]
  },
  {
   "cell_type": "code",
   "metadata": {
    "id": "ldEBuNiiSxVE",
    "ExecuteTime": {
     "end_time": "2023-12-14T17:22:14.894381700Z",
     "start_time": "2023-12-14T17:22:14.886433400Z"
    }
   },
   "source": [
    "df_inadimplente = df[df['default'] == 1]"
   ],
   "execution_count": null,
   "outputs": []
  },
  {
   "cell_type": "markdown",
   "metadata": {
    "id": "u9kFH-ADSEVO"
   },
   "source": [
    "### **4.1. Visualizações categóricas**"
   ]
  },
  {
   "cell_type": "markdown",
   "metadata": {
    "id": "AAKovEBSqSVu"
   },
   "source": [
    "Nesta seção, vamos visualizar a relação entre a variável resposta **default** com os atributos categóricos."
   ]
  },
  {
   "cell_type": "code",
   "metadata": {
    "id": "O2bBTZ2PS85K",
    "ExecuteTime": {
     "end_time": "2023-12-14T17:22:18.821514900Z",
     "start_time": "2023-12-14T17:22:18.813101400Z"
    },
    "outputId": "06900701-a6ad-4d59-8876-45139caec9bd"
   },
   "source": [
    "df.select_dtypes('object').head(n=5)"
   ],
   "execution_count": null,
   "outputs": [
    {
     "data": {
      "text/plain": "  sexo         escolaridade estado_civil   salario_anual tipo_cartao\n0    M         ensino medio       casado     $60K - $80K        blue\n1    F             mestrado     solteiro  menos que $40K        blue\n2    M             mestrado       casado    $80K - $120K        blue\n4    M  sem educacao formal       casado     $60K - $80K        blue\n5    M             mestrado       casado     $40K - $60K        blue",
      "text/html": "<div>\n<style scoped>\n    .dataframe tbody tr th:only-of-type {\n        vertical-align: middle;\n    }\n\n    .dataframe tbody tr th {\n        vertical-align: top;\n    }\n\n    .dataframe thead th {\n        text-align: right;\n    }\n</style>\n<table border=\"1\" class=\"dataframe\">\n  <thead>\n    <tr style=\"text-align: right;\">\n      <th></th>\n      <th>sexo</th>\n      <th>escolaridade</th>\n      <th>estado_civil</th>\n      <th>salario_anual</th>\n      <th>tipo_cartao</th>\n    </tr>\n  </thead>\n  <tbody>\n    <tr>\n      <th>0</th>\n      <td>M</td>\n      <td>ensino medio</td>\n      <td>casado</td>\n      <td>$60K - $80K</td>\n      <td>blue</td>\n    </tr>\n    <tr>\n      <th>1</th>\n      <td>F</td>\n      <td>mestrado</td>\n      <td>solteiro</td>\n      <td>menos que $40K</td>\n      <td>blue</td>\n    </tr>\n    <tr>\n      <th>2</th>\n      <td>M</td>\n      <td>mestrado</td>\n      <td>casado</td>\n      <td>$80K - $120K</td>\n      <td>blue</td>\n    </tr>\n    <tr>\n      <th>4</th>\n      <td>M</td>\n      <td>sem educacao formal</td>\n      <td>casado</td>\n      <td>$60K - $80K</td>\n      <td>blue</td>\n    </tr>\n    <tr>\n      <th>5</th>\n      <td>M</td>\n      <td>mestrado</td>\n      <td>casado</td>\n      <td>$40K - $60K</td>\n      <td>blue</td>\n    </tr>\n  </tbody>\n</table>\n</div>"
     },
     "execution_count": 88,
     "metadata": {},
     "output_type": "execute_result"
    }
   ]
  },
  {
   "cell_type": "markdown",
   "metadata": {
    "id": "v0oeXqxsTO2o"
   },
   "source": [
    " - Escolaridade"
   ]
  },
  {
   "cell_type": "code",
   "metadata": {
    "id": "oJ9rNBPuTT5i",
    "ExecuteTime": {
     "end_time": "2023-12-14T17:22:27.300386200Z",
     "start_time": "2023-12-14T17:22:27.087011100Z"
    }
   },
   "source": [
    "coluna = 'escolaridade'\n",
    "titulos = ['Escolaridade dos Clientes', 'Escolaridade dos Clientes Adimplentes', 'Escolaridade dos Clientes Inadimplentes']\n",
    "\n",
    "eixo = 0\n",
    "max_y = 0\n",
    "max = df.select_dtypes('object').describe()[coluna]['freq'] * 1.1\n",
    "\n",
    "figura, eixos = plt.subplots(1,3, figsize=(20, 5), sharex=True)\n",
    "\n",
    "for dataframe in [df, df_adimplente, df_inadimplente]:\n",
    "\n",
    "  df_to_plot = dataframe[coluna].value_counts().to_frame()\n",
    "  df_to_plot.rename(columns={coluna: 'frequencia_absoluta'}, inplace=True)\n",
    "  df_to_plot[coluna] = df_to_plot.index\n",
    "  df_to_plot.sort_values(by=[coluna], inplace=True)\n",
    "  df_to_plot.sort_values(by=[coluna])\n",
    "\n",
    "  f = sns.barplot(x=df_to_plot[coluna], y=df_to_plot['frequencia_absoluta'], ax=eixos[eixo])\n",
    "  f.set(title=titulos[eixo], xlabel=coluna.capitalize(), ylabel='Frequência Absoluta')\n",
    "  f.set_xticklabels(labels=f.get_xticklabels(), rotation=90)\n",
    "\n",
    "  _, max_y_f = f.get_ylim()\n",
    "  max_y = max_y_f if max_y_f > max_y else max_y\n",
    "  f.set(ylim=(0, max_y))\n",
    "\n",
    "  eixo += 1\n",
    "\n",
    "figura.show()"
   ],
   "execution_count": null,
   "outputs": []
  },
  {
   "cell_type": "markdown",
   "metadata": {
    "id": "0h1s5odlgHbY"
   },
   "source": [
    " - Salário Anual"
   ]
  },
  {
   "cell_type": "code",
   "metadata": {
    "id": "7Lf-X12wgLvJ"
   },
   "source": [
    "coluna = 'salario_anual'\n",
    "titulos = ['Salário Anual dos Clientes', 'Salário Anual dos Clientes Adimplentes', 'Salário Anual dos Clientes Inadimplentes']\n",
    "\n",
    "eixo = 0\n",
    "max_y = 0\n",
    "figura, eixos = plt.subplots(1,3, figsize=(20, 5), sharex=True)\n",
    "\n",
    "for dataframe in [df, df_adimplente, df_inadimplente]:\n",
    "\n",
    "  df_to_plot = dataframe[coluna].value_counts().to_frame()\n",
    "  df_to_plot.rename(columns={coluna: 'frequencia_absoluta'}, inplace=True)\n",
    "  df_to_plot[coluna] = df_to_plot.index\n",
    "  df_to_plot.reset_index(inplace=True, drop=True)\n",
    "  df_to_plot.sort_values(by=[coluna], inplace=True)\n",
    "\n",
    "  f = sns.barplot(x=df_to_plot[coluna], y=df_to_plot['frequencia_absoluta'], ax=eixos[eixo])\n",
    "  f.set(title=titulos[eixo], xlabel=coluna.capitalize(), ylabel='Frequência Absoluta')\n",
    "  f.set_xticklabels(labels=f.get_xticklabels(), rotation=90)\n",
    "  _, max_y_f = f.get_ylim()\n",
    "  max_y = max_y_f if max_y_f > max_y else max_y\n",
    "  f.set(ylim=(0, max_y))\n",
    "  eixo += 1\n",
    "\n",
    "figura.show()"
   ],
   "execution_count": null,
   "outputs": []
  },
  {
   "cell_type": "markdown",
   "metadata": {
    "id": "cBIWU4zISIqR"
   },
   "source": [
    "### **4.2. Visualizações numéricas**"
   ]
  },
  {
   "cell_type": "markdown",
   "metadata": {
    "id": "DWKf-t4iqpFK"
   },
   "source": [
    "Nesta seção, vamos visualizar a relação entre a variável resposta **default** com os atributos numéricos."
   ]
  },
  {
   "cell_type": "code",
   "metadata": {
    "id": "NEEhLdj0qoUd"
   },
   "source": [
    "df.drop(['id', 'default'], axis=1).select_dtypes('number').head(n=5)"
   ],
   "execution_count": null,
   "outputs": []
  },
  {
   "cell_type": "markdown",
   "metadata": {
    "id": "G7YNmSRQq6fp"
   },
   "source": [
    " - Quantidade de Transações nos Últimos 12 Meses"
   ]
  },
  {
   "cell_type": "code",
   "metadata": {
    "id": "A3O0oQ9sq8XQ",
    "colab": {
     "base_uri": "https://localhost:8080/",
     "height": 570
    },
    "executionInfo": {
     "status": "error",
     "timestamp": 1702593346719,
     "user_tz": 0,
     "elapsed": 1034,
     "user": {
      "displayName": "yan moo",
      "userId": "04113058810916085038"
     }
    },
    "outputId": "d34bb0c0-a5be-4538-e9ef-20dad04c895e"
   },
   "source": [
    "coluna = 'qtd_transacoes_12m'\n",
    "titulos = ['Qtd. de Transações no Último Ano', 'Qtd. de Transações no Último Ano de Adimplentes', 'Qtd. de Transações no Último Ano de Inadimplentes']\n",
    "\n",
    "eixo = 0\n",
    "max_y = 0\n",
    "figura, eixos = plt.subplots(1,3, figsize=(20, 5), sharex=True)\n",
    "\n",
    "for dataframe in [df, df_adimplente, df_inadimplente]:\n",
    "\n",
    "  f = sns.histplot(x=coluna, data=dataframe, stat='count', ax=eixos[eixo])\n",
    "  f.set(title=titulos[eixo], xlabel=coluna.capitalize(), ylabel='Frequência Absoluta')\n",
    "\n",
    "  _, max_y_f = f.get_ylim()\n",
    "  max_y = max_y_f if max_y_f > max_y else max_y\n",
    "  f.set(ylim=(0, max_y))\n",
    "\n",
    "  eixo += 1\n",
    "\n",
    "figura.show()"
   ],
   "execution_count": 9,
   "outputs": [
    {
     "output_type": "error",
     "ename": "NameError",
     "evalue": "ignored",
     "traceback": [
      "\u001B[0;31m---------------------------------------------------------------------------\u001B[0m",
      "\u001B[0;31mNameError\u001B[0m                                 Traceback (most recent call last)",
      "\u001B[0;32m<ipython-input-9-25f8dadef5d7>\u001B[0m in \u001B[0;36m<cell line: 8>\u001B[0;34m()\u001B[0m\n\u001B[1;32m      6\u001B[0m \u001B[0mfigura\u001B[0m\u001B[0;34m,\u001B[0m \u001B[0meixos\u001B[0m \u001B[0;34m=\u001B[0m \u001B[0mplt\u001B[0m\u001B[0;34m.\u001B[0m\u001B[0msubplots\u001B[0m\u001B[0;34m(\u001B[0m\u001B[0;36m1\u001B[0m\u001B[0;34m,\u001B[0m\u001B[0;36m3\u001B[0m\u001B[0;34m,\u001B[0m \u001B[0mfigsize\u001B[0m\u001B[0;34m=\u001B[0m\u001B[0;34m(\u001B[0m\u001B[0;36m20\u001B[0m\u001B[0;34m,\u001B[0m \u001B[0;36m5\u001B[0m\u001B[0;34m)\u001B[0m\u001B[0;34m,\u001B[0m \u001B[0msharex\u001B[0m\u001B[0;34m=\u001B[0m\u001B[0;32mTrue\u001B[0m\u001B[0;34m)\u001B[0m\u001B[0;34m\u001B[0m\u001B[0;34m\u001B[0m\u001B[0m\n\u001B[1;32m      7\u001B[0m \u001B[0;34m\u001B[0m\u001B[0m\n\u001B[0;32m----> 8\u001B[0;31m \u001B[0;32mfor\u001B[0m \u001B[0mdataframe\u001B[0m \u001B[0;32min\u001B[0m \u001B[0;34m[\u001B[0m\u001B[0mdf\u001B[0m\u001B[0;34m,\u001B[0m \u001B[0mdf_adimplente\u001B[0m\u001B[0;34m,\u001B[0m \u001B[0mdf_inadimplente\u001B[0m\u001B[0;34m]\u001B[0m\u001B[0;34m:\u001B[0m\u001B[0;34m\u001B[0m\u001B[0;34m\u001B[0m\u001B[0m\n\u001B[0m\u001B[1;32m      9\u001B[0m \u001B[0;34m\u001B[0m\u001B[0m\n\u001B[1;32m     10\u001B[0m   \u001B[0mf\u001B[0m \u001B[0;34m=\u001B[0m \u001B[0msns\u001B[0m\u001B[0;34m.\u001B[0m\u001B[0mhistplot\u001B[0m\u001B[0;34m(\u001B[0m\u001B[0mx\u001B[0m\u001B[0;34m=\u001B[0m\u001B[0mcoluna\u001B[0m\u001B[0;34m,\u001B[0m \u001B[0mdata\u001B[0m\u001B[0;34m=\u001B[0m\u001B[0mdataframe\u001B[0m\u001B[0;34m,\u001B[0m \u001B[0mstat\u001B[0m\u001B[0;34m=\u001B[0m\u001B[0;34m'count'\u001B[0m\u001B[0;34m,\u001B[0m \u001B[0max\u001B[0m\u001B[0;34m=\u001B[0m\u001B[0meixos\u001B[0m\u001B[0;34m[\u001B[0m\u001B[0meixo\u001B[0m\u001B[0;34m]\u001B[0m\u001B[0;34m)\u001B[0m\u001B[0;34m\u001B[0m\u001B[0;34m\u001B[0m\u001B[0m\n",
      "\u001B[0;31mNameError\u001B[0m: name 'df' is not defined"
     ]
    },
    {
     "output_type": "display_data",
     "data": {
      "text/plain": [
       "<Figure size 2000x500 with 3 Axes>"
      ],
      "image/png": "[encoded data removed]"
     },
     "metadata": {}
    }
   ]
  },
  {
   "cell_type": "markdown",
   "metadata": {
    "id": "6YqLIvyXtIuN"
   },
   "source": [
    " - Valor das Transações nos Últimos 12 Meses"
   ]
  },
  {
   "cell_type": "code",
   "metadata": {
    "id": "-tHIbYcetH0J",
    "colab": {
     "base_uri": "https://localhost:8080/",
     "height": 570
    },
    "executionInfo": {
     "status": "error",
     "timestamp": 1702593115714,
     "user_tz": 0,
     "elapsed": 867,
     "user": {
      "displayName": "yan moo",
      "userId": "04113058810916085038"
     }
    },
    "outputId": "81b85613-e117-4ec7-d012-9293f0263f74"
   },
   "source": [
    "coluna = 'valor_transacoes_12m'\n",
    "titulos = ['Valor das Transações no Último Ano', 'Valor das Transações no Último Ano de Adimplentes', 'Valor das Transações no Último Ano de Inadimplentes']\n",
    "\n",
    "eixo = 0\n",
    "max_y = 0\n",
    "figura, eixos = plt.subplots(1,3, figsize=(20, 5), sharex=True)\n",
    "\n",
    "for dataframe in [df, df_adimplente, df_inadimplente]:\n",
    "\n",
    "  f = sns.histplot(x=coluna, data=dataframe, stat='count', ax=eixos[eixo])\n",
    "  f.set(title=titulos[eixo], xlabel=coluna.capitalize(), ylabel='Frequência Absoluta')\n",
    "\n",
    "  _, max_y_f = f.get_ylim()\n",
    "  max_y = max_y_f if max_y_f > max_y else max_y\n",
    "  f.set(ylim=(0, max_y))\n",
    "\n",
    "  eixo += 1\n",
    "\n",
    "figura.show()"
   ],
   "execution_count": 8,
   "outputs": [
    {
     "output_type": "error",
     "ename": "NameError",
     "evalue": "ignored",
     "traceback": [
      "\u001B[0;31m---------------------------------------------------------------------------\u001B[0m",
      "\u001B[0;31mNameError\u001B[0m                                 Traceback (most recent call last)",
      "\u001B[0;32m<ipython-input-8-d2227f51104b>\u001B[0m in \u001B[0;36m<cell line: 8>\u001B[0;34m()\u001B[0m\n\u001B[1;32m      6\u001B[0m \u001B[0mfigura\u001B[0m\u001B[0;34m,\u001B[0m \u001B[0meixos\u001B[0m \u001B[0;34m=\u001B[0m \u001B[0mplt\u001B[0m\u001B[0;34m.\u001B[0m\u001B[0msubplots\u001B[0m\u001B[0;34m(\u001B[0m\u001B[0;36m1\u001B[0m\u001B[0;34m,\u001B[0m\u001B[0;36m3\u001B[0m\u001B[0;34m,\u001B[0m \u001B[0mfigsize\u001B[0m\u001B[0;34m=\u001B[0m\u001B[0;34m(\u001B[0m\u001B[0;36m20\u001B[0m\u001B[0;34m,\u001B[0m \u001B[0;36m5\u001B[0m\u001B[0;34m)\u001B[0m\u001B[0;34m,\u001B[0m \u001B[0msharex\u001B[0m\u001B[0;34m=\u001B[0m\u001B[0;32mTrue\u001B[0m\u001B[0;34m)\u001B[0m\u001B[0;34m\u001B[0m\u001B[0;34m\u001B[0m\u001B[0m\n\u001B[1;32m      7\u001B[0m \u001B[0;34m\u001B[0m\u001B[0m\n\u001B[0;32m----> 8\u001B[0;31m \u001B[0;32mfor\u001B[0m \u001B[0mdataframe\u001B[0m \u001B[0;32min\u001B[0m \u001B[0;34m[\u001B[0m\u001B[0mdf\u001B[0m\u001B[0;34m,\u001B[0m \u001B[0mdf_adimplente\u001B[0m\u001B[0;34m,\u001B[0m \u001B[0mdf_inadimplente\u001B[0m\u001B[0;34m]\u001B[0m\u001B[0;34m:\u001B[0m\u001B[0;34m\u001B[0m\u001B[0;34m\u001B[0m\u001B[0m\n\u001B[0m\u001B[1;32m      9\u001B[0m \u001B[0;34m\u001B[0m\u001B[0m\n\u001B[1;32m     10\u001B[0m   \u001B[0mf\u001B[0m \u001B[0;34m=\u001B[0m \u001B[0msns\u001B[0m\u001B[0;34m.\u001B[0m\u001B[0mhistplot\u001B[0m\u001B[0;34m(\u001B[0m\u001B[0mx\u001B[0m\u001B[0;34m=\u001B[0m\u001B[0mcoluna\u001B[0m\u001B[0;34m,\u001B[0m \u001B[0mdata\u001B[0m\u001B[0;34m=\u001B[0m\u001B[0mdataframe\u001B[0m\u001B[0;34m,\u001B[0m \u001B[0mstat\u001B[0m\u001B[0;34m=\u001B[0m\u001B[0;34m'count'\u001B[0m\u001B[0;34m,\u001B[0m \u001B[0max\u001B[0m\u001B[0;34m=\u001B[0m\u001B[0meixos\u001B[0m\u001B[0;34m[\u001B[0m\u001B[0meixo\u001B[0m\u001B[0;34m]\u001B[0m\u001B[0;34m)\u001B[0m\u001B[0;34m\u001B[0m\u001B[0;34m\u001B[0m\u001B[0m\n",
      "\u001B[0;31mNameError\u001B[0m: name 'df' is not defined"
     ]
    },
    {
     "output_type": "display_data",
     "data": {
      "text/plain": [
       "<Figure size 2000x500 with 3 Axes>"
      ],
      "image/png": "[encoded data removed]"
     },
     "metadata": {}
    }
   ]
  },
  {
   "cell_type": "markdown",
   "metadata": {
    "id": "10ud8vxqzqjI"
   },
   "source": [
    " - Valor de Transações nos Últimos 12 Meses x Quantidade de Transações nos Últimos 12 Meses"
   ]
  },
  {
   "cell_type": "code",
   "metadata": {
    "id": "SjqqF940x-lL",
    "colab": {
     "base_uri": "https://localhost:8080/",
     "height": 251
    },
    "executionInfo": {
     "status": "error",
     "timestamp": 1702593709609,
     "user_tz": 0,
     "elapsed": 300,
     "user": {
      "displayName": "yan moo",
      "userId": "04113058810916085038"
     }
    },
    "outputId": "91114bc9-9172-427a-df94-9a434ad35dc0"
   },
   "source": [
    "f = sns.relplot(x='valor_transacoes_12m', y='qtd_transacoes_12m', data=df, hue='default')\n",
    "_ = f.set(\n",
    "    title='Relação entre Valor e Quantidade de Transações no Último Ano',\n",
    "    xlabel='Valor das Transações no Último Ano',\n",
    "    ylabel='Quantidade das Transações no Último Ano'\n",
    "  )"
   ],
   "execution_count": 10,
   "outputs": [
    {
     "output_type": "error",
     "ename": "NameError",
     "evalue": "ignored",
     "traceback": [
      "\u001B[0;31m---------------------------------------------------------------------------\u001B[0m",
      "\u001B[0;31mNameError\u001B[0m                                 Traceback (most recent call last)",
      "\u001B[0;32m<ipython-input-10-c01a61befaae>\u001B[0m in \u001B[0;36m<cell line: 1>\u001B[0;34m()\u001B[0m\n\u001B[0;32m----> 1\u001B[0;31m \u001B[0mf\u001B[0m \u001B[0;34m=\u001B[0m \u001B[0msns\u001B[0m\u001B[0;34m.\u001B[0m\u001B[0mrelplot\u001B[0m\u001B[0;34m(\u001B[0m\u001B[0mx\u001B[0m\u001B[0;34m=\u001B[0m\u001B[0;34m'valor_transacoes_12m'\u001B[0m\u001B[0;34m,\u001B[0m \u001B[0my\u001B[0m\u001B[0;34m=\u001B[0m\u001B[0;34m'qtd_transacoes_12m'\u001B[0m\u001B[0;34m,\u001B[0m \u001B[0mdata\u001B[0m\u001B[0;34m=\u001B[0m\u001B[0mdf\u001B[0m\u001B[0;34m,\u001B[0m \u001B[0mhue\u001B[0m\u001B[0;34m=\u001B[0m\u001B[0;34m'default'\u001B[0m\u001B[0;34m)\u001B[0m\u001B[0;34m\u001B[0m\u001B[0;34m\u001B[0m\u001B[0m\n\u001B[0m\u001B[1;32m      2\u001B[0m _ = f.set(\n\u001B[1;32m      3\u001B[0m     \u001B[0mtitle\u001B[0m\u001B[0;34m=\u001B[0m\u001B[0;34m'Relação entre Valor e Quantidade de Transações no Último Ano'\u001B[0m\u001B[0;34m,\u001B[0m\u001B[0;34m\u001B[0m\u001B[0;34m\u001B[0m\u001B[0m\n\u001B[1;32m      4\u001B[0m     \u001B[0mxlabel\u001B[0m\u001B[0;34m=\u001B[0m\u001B[0;34m'Valor das Transações no Último Ano'\u001B[0m\u001B[0;34m,\u001B[0m\u001B[0;34m\u001B[0m\u001B[0;34m\u001B[0m\u001B[0m\n\u001B[1;32m      5\u001B[0m     \u001B[0mylabel\u001B[0m\u001B[0;34m=\u001B[0m\u001B[0;34m'Quantidade das Transações no Último Ano'\u001B[0m\u001B[0;34m\u001B[0m\u001B[0;34m\u001B[0m\u001B[0m\n",
      "\u001B[0;31mNameError\u001B[0m: name 'df' is not defined"
     ]
    }
   ]
  },
  {
   "cell_type": "markdown",
   "metadata": {
    "id": "jtCp7A-6PP28"
   },
   "source": [
    "## 5\\. Storytelling"
   ]
  },
  {
   "cell_type": "markdown",
   "metadata": {
    "id": "h9XpS6Vi1DYz"
   },
   "source": [
    "O *storytelling* no contexto de dados é um técnica de apresentação de resultados orientado a dados, ou seja, contar uma história baseada nos *insights* que foram gerados através da análise dos dados. Notebooks como este do Google Colab e os do Kaggle são excelentes ferramentas para conduzir e compartilhar *storytelling* de dados devido a natureza texto-código de suas céluas."
   ]
  },
  {
   "cell_type": "markdown",
   "metadata": {
    "id": "T0H9WWGr17ZI"
   },
   "source": [
    "Para você montar o seu portifólio, eu sugiro a construção de um notebook com a seguinte estrutura (vou disponibiliza-la nos exercícios):\n",
    "\n",
    " 1. Título;\n",
    " 2. Breve descrição do problema;\n",
    " 3. Código de importação de bibliotecas;\n",
    " 4. Código o download/carregamento/geração de dados;\n",
    " 5. Etapa de exploração;\n",
    " 6. Etapa de limpeza e transformação;\n",
    " 7. Etapa de análise (com visualizações);\n",
    " 8. Resumo dos *insights* gerados.\n",
    "\n",
    "Busquei organizar este notebook desta forma. Ademais, os notebooks presentes na plataforma do Kaggle são excelentes exemplos a serem seguidos, em especial os primeiros colocados em competições."
   ]
  },
  {
   "cell_type": "markdown",
   "metadata": {
    "id": "RyRpZU-R3OOy"
   },
   "source": [
    "Para finalizar, algumas dicas:\n",
    "\n",
    " 1. Estruture seu código sempre de acordo com as boas práticas PEP8, assim ele será mais legível para o leitor;\n",
    " 2. Sempre se preocupe com a aparência dos seus gráficos, todos devem ter (no mínimo) título no topo e nos eixos;\n",
    " 3. Use e abuso das células de texto para estruturar seu notebook, siga as mesmas técnicas que eu utilizo nos notebooks do curso para estruturar seu texto."
   ]
  },
  {
   "cell_type": "markdown",
   "metadata": {
    "id": "s4yGtBF2pKG0"
   },
   "source": [
    "____"
   ]
  },
  {
   "cell_type": "markdown",
   "metadata": {
    "id": "rr6WbbcQo0hS"
   },
   "source": [
    "Quando terminar, se possível, entra em contato comigo, eu adoraria ver o seu notebook final pronto! Meu LinkedIn está no topo da página, logo após o logo da EBAC. Espero que você tenha gostado, foi um prazer trabalhar com você!\n",
    "\n",
    "Até a próxima."
   ]
  }
 ]
}
