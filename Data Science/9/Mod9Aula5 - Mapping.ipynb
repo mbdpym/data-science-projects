{
 "cells": [
  {
   "cell_type": "markdown",
   "metadata": {},
   "source": [
    "# 0. Índice <a name=\"Contents\"></a>\n",
    "1. [Importando bibliotecas](#import)\n",
    "2. [Carregando o dataframe](#read)\n",
    "5. [Mapping](#map)\n"
   ]
  },
  {
   "cell_type": "markdown",
   "metadata": {},
   "source": [
    "# 1. Importando bibliotecas <a name=\"import\"></a>\n",
    "\n",
    "<div style=\"text-align: right\"\n",
    "     \n",
    "[Voltar ao índice](#Contents)"
   ]
  },
  {
   "cell_type": "code",
   "execution_count": 1,
   "metadata": {
    "ExecuteTime": {
     "end_time": "2024-01-20T23:41:58.849100900Z",
     "start_time": "2024-01-20T23:41:58.836255600Z"
    }
   },
   "outputs": [],
   "source": [
    "import numpy as np\n",
    "import pandas as pd"
   ]
  },
  {
   "cell_type": "markdown",
   "metadata": {},
   "source": [
    "# 2. Carregando o dataframe SINASC <a name=\"read\"></a>\n",
    "<div style=\"text-align: right\"\n",
    "     \n",
    "[Voltar ao índice](#Contents)"
   ]
  },
  {
   "cell_type": "code",
   "execution_count": 2,
   "metadata": {
    "scrolled": true,
    "ExecuteTime": {
     "end_time": "2024-01-20T23:41:59.031044100Z",
     "start_time": "2024-01-20T23:41:58.839259600Z"
    }
   },
   "outputs": [
    {
     "data": {
      "text/plain": "   ORIGEM   CODESTAB  CODMUNNASC  LOCNASC  IDADEMAE  ESTCIVMAE  \\\n0       1  2679477.0      110001        1        19        5.0   \n1       1  2679477.0      110001        1        29        2.0   \n2       1  2679477.0      110001        1        37        9.0   \n3       1  2516500.0      110001        1        30        5.0   \n4       1  2516500.0      110001        1        30        2.0   \n\n            ESCMAE  CODOCUPMAE  QTDFILVIVO  QTDFILMORT  ...  KOTELCHUCK  \\\n0      8 a 11 anos         NaN         0.0         0.0  ...           5   \n1      8 a 11 anos    999992.0         1.0         0.0  ...           5   \n2      8 a 11 anos    513205.0         2.0         0.0  ...           5   \n3  12 anos ou mais    231205.0         0.0         0.0  ...           4   \n4      8 a 11 anos    999992.0         1.0         0.0  ...           5   \n\n  CONTADOR munResStatus munResTipo               munResNome  munResUf  \\\n0        1        ATIVO      MUNIC    Alta Floresta D'Oeste  Rondônia   \n1        2        ATIVO      MUNIC    Alta Floresta D'Oeste  Rondônia   \n2        3        ATIVO      MUNIC    Alta Floresta D'Oeste  Rondônia   \n3        4        ATIVO      MUNIC  Alto Alegre dos Parecis  Rondônia   \n4        5        ATIVO      MUNIC    Alta Floresta D'Oeste  Rondônia   \n\n   munResLat munResLon  munResAlt  munResArea  \n0  -11.93554 -61.99982      338.0    7067.025  \n1  -11.93554 -61.99982      338.0    7067.025  \n2  -11.93554 -61.99982      338.0    7067.025  \n3  -12.13178 -61.85308      397.0    3958.273  \n4  -11.93554 -61.99982      338.0    7067.025  \n\n[5 rows x 69 columns]",
      "text/html": "<div>\n<style scoped>\n    .dataframe tbody tr th:only-of-type {\n        vertical-align: middle;\n    }\n\n    .dataframe tbody tr th {\n        vertical-align: top;\n    }\n\n    .dataframe thead th {\n        text-align: right;\n    }\n</style>\n<table border=\"1\" class=\"dataframe\">\n  <thead>\n    <tr style=\"text-align: right;\">\n      <th></th>\n      <th>ORIGEM</th>\n      <th>CODESTAB</th>\n      <th>CODMUNNASC</th>\n      <th>LOCNASC</th>\n      <th>IDADEMAE</th>\n      <th>ESTCIVMAE</th>\n      <th>ESCMAE</th>\n      <th>CODOCUPMAE</th>\n      <th>QTDFILVIVO</th>\n      <th>QTDFILMORT</th>\n      <th>...</th>\n      <th>KOTELCHUCK</th>\n      <th>CONTADOR</th>\n      <th>munResStatus</th>\n      <th>munResTipo</th>\n      <th>munResNome</th>\n      <th>munResUf</th>\n      <th>munResLat</th>\n      <th>munResLon</th>\n      <th>munResAlt</th>\n      <th>munResArea</th>\n    </tr>\n  </thead>\n  <tbody>\n    <tr>\n      <th>0</th>\n      <td>1</td>\n      <td>2679477.0</td>\n      <td>110001</td>\n      <td>1</td>\n      <td>19</td>\n      <td>5.0</td>\n      <td>8 a 11 anos</td>\n      <td>NaN</td>\n      <td>0.0</td>\n      <td>0.0</td>\n      <td>...</td>\n      <td>5</td>\n      <td>1</td>\n      <td>ATIVO</td>\n      <td>MUNIC</td>\n      <td>Alta Floresta D'Oeste</td>\n      <td>Rondônia</td>\n      <td>-11.93554</td>\n      <td>-61.99982</td>\n      <td>338.0</td>\n      <td>7067.025</td>\n    </tr>\n    <tr>\n      <th>1</th>\n      <td>1</td>\n      <td>2679477.0</td>\n      <td>110001</td>\n      <td>1</td>\n      <td>29</td>\n      <td>2.0</td>\n      <td>8 a 11 anos</td>\n      <td>999992.0</td>\n      <td>1.0</td>\n      <td>0.0</td>\n      <td>...</td>\n      <td>5</td>\n      <td>2</td>\n      <td>ATIVO</td>\n      <td>MUNIC</td>\n      <td>Alta Floresta D'Oeste</td>\n      <td>Rondônia</td>\n      <td>-11.93554</td>\n      <td>-61.99982</td>\n      <td>338.0</td>\n      <td>7067.025</td>\n    </tr>\n    <tr>\n      <th>2</th>\n      <td>1</td>\n      <td>2679477.0</td>\n      <td>110001</td>\n      <td>1</td>\n      <td>37</td>\n      <td>9.0</td>\n      <td>8 a 11 anos</td>\n      <td>513205.0</td>\n      <td>2.0</td>\n      <td>0.0</td>\n      <td>...</td>\n      <td>5</td>\n      <td>3</td>\n      <td>ATIVO</td>\n      <td>MUNIC</td>\n      <td>Alta Floresta D'Oeste</td>\n      <td>Rondônia</td>\n      <td>-11.93554</td>\n      <td>-61.99982</td>\n      <td>338.0</td>\n      <td>7067.025</td>\n    </tr>\n    <tr>\n      <th>3</th>\n      <td>1</td>\n      <td>2516500.0</td>\n      <td>110001</td>\n      <td>1</td>\n      <td>30</td>\n      <td>5.0</td>\n      <td>12 anos ou mais</td>\n      <td>231205.0</td>\n      <td>0.0</td>\n      <td>0.0</td>\n      <td>...</td>\n      <td>4</td>\n      <td>4</td>\n      <td>ATIVO</td>\n      <td>MUNIC</td>\n      <td>Alto Alegre dos Parecis</td>\n      <td>Rondônia</td>\n      <td>-12.13178</td>\n      <td>-61.85308</td>\n      <td>397.0</td>\n      <td>3958.273</td>\n    </tr>\n    <tr>\n      <th>4</th>\n      <td>1</td>\n      <td>2516500.0</td>\n      <td>110001</td>\n      <td>1</td>\n      <td>30</td>\n      <td>2.0</td>\n      <td>8 a 11 anos</td>\n      <td>999992.0</td>\n      <td>1.0</td>\n      <td>0.0</td>\n      <td>...</td>\n      <td>5</td>\n      <td>5</td>\n      <td>ATIVO</td>\n      <td>MUNIC</td>\n      <td>Alta Floresta D'Oeste</td>\n      <td>Rondônia</td>\n      <td>-11.93554</td>\n      <td>-61.99982</td>\n      <td>338.0</td>\n      <td>7067.025</td>\n    </tr>\n  </tbody>\n</table>\n<p>5 rows × 69 columns</p>\n</div>"
     },
     "execution_count": 2,
     "metadata": {},
     "output_type": "execute_result"
    }
   ],
   "source": [
    "sinasc_raw = pd.read_csv('SINASC_RO_2019.csv')\n",
    "sinasc_raw.head()"
   ]
  },
  {
   "cell_type": "code",
   "execution_count": 3,
   "metadata": {
    "ExecuteTime": {
     "end_time": "2024-01-20T23:42:18.874251300Z",
     "start_time": "2024-01-20T23:42:18.849526500Z"
    }
   },
   "outputs": [
    {
     "data": {
      "text/plain": "            ESCMAE  IDADEMAE  IDADEPAI               munResNome\n0      8 a 11 anos        19      26.0    Alta Floresta D'Oeste\n1      8 a 11 anos        29      24.0    Alta Floresta D'Oeste\n2      8 a 11 anos        37      32.0    Alta Floresta D'Oeste\n3  12 anos ou mais        30      24.0  Alto Alegre dos Parecis\n4      8 a 11 anos        30      27.0    Alta Floresta D'Oeste",
      "text/html": "<div>\n<style scoped>\n    .dataframe tbody tr th:only-of-type {\n        vertical-align: middle;\n    }\n\n    .dataframe tbody tr th {\n        vertical-align: top;\n    }\n\n    .dataframe thead th {\n        text-align: right;\n    }\n</style>\n<table border=\"1\" class=\"dataframe\">\n  <thead>\n    <tr style=\"text-align: right;\">\n      <th></th>\n      <th>ESCMAE</th>\n      <th>IDADEMAE</th>\n      <th>IDADEPAI</th>\n      <th>munResNome</th>\n    </tr>\n  </thead>\n  <tbody>\n    <tr>\n      <th>0</th>\n      <td>8 a 11 anos</td>\n      <td>19</td>\n      <td>26.0</td>\n      <td>Alta Floresta D'Oeste</td>\n    </tr>\n    <tr>\n      <th>1</th>\n      <td>8 a 11 anos</td>\n      <td>29</td>\n      <td>24.0</td>\n      <td>Alta Floresta D'Oeste</td>\n    </tr>\n    <tr>\n      <th>2</th>\n      <td>8 a 11 anos</td>\n      <td>37</td>\n      <td>32.0</td>\n      <td>Alta Floresta D'Oeste</td>\n    </tr>\n    <tr>\n      <th>3</th>\n      <td>12 anos ou mais</td>\n      <td>30</td>\n      <td>24.0</td>\n      <td>Alto Alegre dos Parecis</td>\n    </tr>\n    <tr>\n      <th>4</th>\n      <td>8 a 11 anos</td>\n      <td>30</td>\n      <td>27.0</td>\n      <td>Alta Floresta D'Oeste</td>\n    </tr>\n  </tbody>\n</table>\n</div>"
     },
     "execution_count": 3,
     "metadata": {},
     "output_type": "execute_result"
    }
   ],
   "source": [
    "sinasc_2 = sinasc_raw[['ESCMAE', 'IDADEMAE', 'IDADEPAI','munResNome']]\n",
    "sinasc_2.head()"
   ]
  },
  {
   "cell_type": "markdown",
   "metadata": {},
   "source": [
    "# 3. Mapping <a name=\"map\"></a>\n",
    "<div style=\"text-align: right\"\n",
    "     \n",
    "[Voltar ao índice](#Contents)"
   ]
  },
  {
   "cell_type": "code",
   "execution_count": 5,
   "metadata": {
    "ExecuteTime": {
     "end_time": "2024-01-20T23:45:27.722262400Z",
     "start_time": "2024-01-20T23:45:27.669960600Z"
    }
   },
   "outputs": [
    {
     "data": {
      "text/plain": "                    IDADEMAE  IDADEPAI  \\\nESCMAE                                   \nA - Nenhuma             1263     231.0   \nB - 1 a 7 anos        131787   32237.0   \nC - 8 anos ou mais    563580  202043.0   \n\n                                                           munResNome  \nESCMAE                                                                 \nA - Nenhuma         AriquemesEspigão D'OesteCacoalGuajará-MirimGua...  \nB - 1 a 7 anos      Alta Floresta D'OesteAlta Floresta D'OesteAlta...  \nC - 8 anos ou mais  Alta Floresta D'OesteAlta Floresta D'OesteAlta...  ",
      "text/html": "<div>\n<style scoped>\n    .dataframe tbody tr th:only-of-type {\n        vertical-align: middle;\n    }\n\n    .dataframe tbody tr th {\n        vertical-align: top;\n    }\n\n    .dataframe thead th {\n        text-align: right;\n    }\n</style>\n<table border=\"1\" class=\"dataframe\">\n  <thead>\n    <tr style=\"text-align: right;\">\n      <th></th>\n      <th>IDADEMAE</th>\n      <th>IDADEPAI</th>\n      <th>munResNome</th>\n    </tr>\n    <tr>\n      <th>ESCMAE</th>\n      <th></th>\n      <th></th>\n      <th></th>\n    </tr>\n  </thead>\n  <tbody>\n    <tr>\n      <th>A - Nenhuma</th>\n      <td>1263</td>\n      <td>231.0</td>\n      <td>AriquemesEspigão D'OesteCacoalGuajará-MirimGua...</td>\n    </tr>\n    <tr>\n      <th>B - 1 a 7 anos</th>\n      <td>131787</td>\n      <td>32237.0</td>\n      <td>Alta Floresta D'OesteAlta Floresta D'OesteAlta...</td>\n    </tr>\n    <tr>\n      <th>C - 8 anos ou mais</th>\n      <td>563580</td>\n      <td>202043.0</td>\n      <td>Alta Floresta D'OesteAlta Floresta D'OesteAlta...</td>\n    </tr>\n  </tbody>\n</table>\n</div>"
     },
     "execution_count": 5,
     "metadata": {},
     "output_type": "execute_result"
    }
   ],
   "source": [
    "sinasc_3 = sinasc_2.set_index('ESCMAE')\n",
    "mapping = {\n",
    "    'Nenhuma': 'A - Nenhuma',\n",
    "    '8 a 11 anos': 'C - 8 anos ou mais',\n",
    "    '1 a 3 anos': 'B - 1 a 7 anos',\n",
    "    '12 anos ou mais': 'C - 8 anos ou mais',\n",
    "    '4 a 7 anos': 'B - 1 a 7 anos'\n",
    "}\n",
    "sinasc_3.groupby(mapping).sum()"
   ]
  },
  {
   "cell_type": "code",
   "outputs": [],
   "source": [],
   "metadata": {
    "collapsed": false
   }
  },
  {
   "cell_type": "code",
   "execution_count": 6,
   "metadata": {
    "scrolled": true,
    "ExecuteTime": {
     "end_time": "2024-01-20T23:45:46.201893900Z",
     "start_time": "2024-01-20T23:45:46.183061500Z"
    }
   },
   "outputs": [
    {
     "data": {
      "text/plain": "munResNome\nPorto Velho                  8437\nJi-Paraná                    2182\nAriquemes                    1729\nVilhena                      1590\nCacoal                       1374\nRolim de Moura                927\nJaru                          881\nGuajará-Mirim                 781\nOuro Preto do Oeste           631\nPimenta Bueno                 616\nBuritis                       583\nMachadinho D'Oeste            500\nEspigão D'Oeste               450\nNova Mamoré                   432\nAlta Floresta D'Oeste         367\nSão Miguel do Guaporé         353\nCandeias do Jamari            337\nPresidente Médici             304\nSão Francisco do Guaporé      303\nNova Brasilândia D'Oeste      261\nCerejeiras                    237\nCosta Marques                 233\nAlto Paraíso                  226\nColorado do Oeste             214\nAlvorada D'Oeste              205\nCujubim                       205\nMonte Negro                   199\nUrupá                         170\nSeringueiras                  168\nCampo Novo de Rondônia        166\nMirante da Serra              164\nChupinguaia                   162\nAlto Alegre dos Parecis       154\nCorumbiara                    127\nGovernador Jorge Teixeira     112\nItapuã do Oeste               109\nNova União                    104\nSanta Luzia D'Oeste            99\nNovo Horizonte do Oeste        98\nTheobroma                      97\nVale do Anari                  93\nMinistro Andreazza             84\nVale do Paraíso                81\nCabixi                         80\nCacaulândia                    75\nTeixeirópolis                  64\nSão Felipe D'Oeste             54\nRio Crespo                     50\nParecis                        44\nPrimavera de Rondônia          43\nPimenteiras do Oeste           40\nCastanheiras                   32\nMunicípio ignorado - RO         1\nName: count, dtype: int64"
     },
     "execution_count": 6,
     "metadata": {},
     "output_type": "execute_result"
    }
   ],
   "source": [
    "sinasc_raw.munResNome.value_counts()"
   ]
  },
  {
   "cell_type": "markdown",
   "metadata": {},
   "source": [
    "https://pt.wikipedia.org/wiki/Lista_de_regi%C3%B5es_geogr%C3%A1ficas_intermedi%C3%A1rias_e_imediatas_de_Rond%C3%B4nia"
   ]
  },
  {
   "cell_type": "code",
   "execution_count": null,
   "metadata": {},
   "outputs": [],
   "source": []
  },
  {
   "cell_type": "code",
   "execution_count": 7,
   "metadata": {
    "ExecuteTime": {
     "end_time": "2024-01-20T23:46:54.419223500Z",
     "start_time": "2024-01-20T23:46:54.412716100Z"
    }
   },
   "outputs": [],
   "source": [
    "intermediarias = {\n",
    "    \"Candeias do Jamari\": \"Porto Velho\",\n",
    "    \"Guajará-Mirim\": \"Porto Velho\",\n",
    "    \"Itapuã do Oeste\": \"Porto Velho\",\n",
    "    \"Nova Mamoré\": \"Porto Velho\",\n",
    "    \"Porto Velho\": \"Porto Velho\",\n",
    "    \"Ariquemes\": \"Porto Velho\",\n",
    "    \"Alto Paraíso\": \"Porto Velho\",\n",
    "    \"Ariquemes\": \"Porto Velho\",\n",
    "    \"Buritis\": \"Porto Velho\",\n",
    "    \"Cacaulândia\": \"Porto Velho\",\n",
    "    \"Campo Novo de Rondônia\": \"Porto Velho\",\n",
    "    \"Cujubim\": \"Porto Velho\",\n",
    "    \"Monte Negro\": \"Porto Velho\",\n",
    "    \"Rio Crespo\": \"Porto Velho\",\n",
    "    \"Jaru\": \"Porto Velho\",\n",
    "    \"Governador Jorge Teixeira\": \"Porto Velho\",\n",
    "    \"Machadinho D'Oeste\": \"Porto Velho\",\n",
    "    \"Theobroma\": \"Porto Velho\",\n",
    "    \"Vale do Anari\": \"Porto Velho\",\n",
    "    \"Alvorada D'Oeste\": \"Ji-Paraná\",\n",
    "    \"Costa Marques\": \"Ji-Paraná\",\n",
    "    \"Ji-Paraná\": \"Ji-Paraná\",\n",
    "    \"Mirante da Serra\": \"Ji-Paraná\",\n",
    "    \"Nova União\": \"Ji-Paraná\",\n",
    "    \"Ouro Preto do Oeste\": \"Ji-Paraná\",\n",
    "    \"Presidente Médici\": \"Ji-Paraná\",\n",
    "    \"São Francisco do Guaporé\": \"Ji-Paraná\",\n",
    "    \"São Miguel do Guaporé\": \"Ji-Paraná\",\n",
    "    \"Seringueiras\": \"Ji-Paraná\",\n",
    "    \"Teixeirópolis\": \"Ji-Paraná\",\n",
    "    \"Urupá\": \"Ji-Paraná\",\n",
    "    \"Vale do Paraíso\": \"Ji-Paraná\",\n",
    "    \"Cacoal\": \"Ji-Paraná\",\n",
    "    \"Alta Floresta D'Oeste\": \"Ji-Paraná\",\n",
    "    \"Alto Alegre dos Parecis\": \"Ji-Paraná\",\n",
    "    \"Castanheiras\": \"Ji-Paraná\",\n",
    "    \"Espigão D'Oeste\": \"Ji-Paraná\",\n",
    "    \"Ministro Andreazza\": \"Ji-Paraná\",\n",
    "    \"Nova Brasilândia D'Oeste\": \"Ji-Paraná\",\n",
    "    \"Novo Horizonte do Oeste\": \"Ji-Paraná\",\n",
    "    \"Parecis\": \"Ji-Paraná\",\n",
    "    \"Pimenta Bueno\": \"Ji-Paraná\",\n",
    "    \"Primavera de Rondônia\": \"Ji-Paraná\",\n",
    "    \"Rolim de Moura\": \"Ji-Paraná\",\n",
    "    \"Santa Luzia D'Oeste\": \"Ji-Paraná\",\n",
    "    \"São Felipe D'Oeste\": \"Ji-Paraná\",\n",
    "    \"Vilhena\": \"Ji-Paraná\",\n",
    "    \"Cabixi\": \"Ji-Paraná\",\n",
    "    \"Cerejeiras\": \"Ji-Paraná\",\n",
    "    \"Chupinguaia\": \"Ji-Paraná\",\n",
    "    \"Colorado do Oeste\": \"Ji-Paraná\",\n",
    "    \"Corumbiara\": \"Ji-Paraná\",\n",
    "    \"Pimenteiras do Oeste\": \"Ji-Paraná\"\n",
    "}"
   ]
  },
  {
   "cell_type": "code",
   "execution_count": 11,
   "metadata": {
    "ExecuteTime": {
     "end_time": "2024-01-20T23:49:18.056440600Z",
     "start_time": "2024-01-20T23:49:18.039145100Z"
    }
   },
   "outputs": [
    {
     "ename": "KeyError",
     "evalue": "\"None of ['munResNome'] are in the columns\"",
     "output_type": "error",
     "traceback": [
      "\u001B[1;31m---------------------------------------------------------------------------\u001B[0m",
      "\u001B[1;31mKeyError\u001B[0m                                  Traceback (most recent call last)",
      "\u001B[1;32m~\\AppData\\Local\\Temp\\ipykernel_11804\\3446917373.py\u001B[0m in \u001B[0;36m?\u001B[1;34m()\u001B[0m\n\u001B[1;32m----> 1\u001B[1;33m \u001B[0msinasc_2\u001B[0m \u001B[1;33m=\u001B[0m \u001B[0msinasc_2\u001B[0m\u001B[1;33m.\u001B[0m\u001B[0mset_index\u001B[0m\u001B[1;33m(\u001B[0m\u001B[1;34m'munResNome'\u001B[0m\u001B[1;33m)\u001B[0m\u001B[1;33m\u001B[0m\u001B[1;33m\u001B[0m\u001B[0m\n\u001B[0m",
      "\u001B[1;32m~\\AppData\\Roaming\\Python\\Python311\\site-packages\\pandas\\core\\frame.py\u001B[0m in \u001B[0;36m?\u001B[1;34m(self, keys, drop, append, inplace, verify_integrity)\u001B[0m\n\u001B[0;32m   5866\u001B[0m                     \u001B[1;32mif\u001B[0m \u001B[1;32mnot\u001B[0m \u001B[0mfound\u001B[0m\u001B[1;33m:\u001B[0m\u001B[1;33m\u001B[0m\u001B[1;33m\u001B[0m\u001B[0m\n\u001B[0;32m   5867\u001B[0m                         \u001B[0mmissing\u001B[0m\u001B[1;33m.\u001B[0m\u001B[0mappend\u001B[0m\u001B[1;33m(\u001B[0m\u001B[0mcol\u001B[0m\u001B[1;33m)\u001B[0m\u001B[1;33m\u001B[0m\u001B[1;33m\u001B[0m\u001B[0m\n\u001B[0;32m   5868\u001B[0m \u001B[1;33m\u001B[0m\u001B[0m\n\u001B[0;32m   5869\u001B[0m         \u001B[1;32mif\u001B[0m \u001B[0mmissing\u001B[0m\u001B[1;33m:\u001B[0m\u001B[1;33m\u001B[0m\u001B[1;33m\u001B[0m\u001B[0m\n\u001B[1;32m-> 5870\u001B[1;33m             \u001B[1;32mraise\u001B[0m \u001B[0mKeyError\u001B[0m\u001B[1;33m(\u001B[0m\u001B[1;34mf\"None of {missing} are in the columns\"\u001B[0m\u001B[1;33m)\u001B[0m\u001B[1;33m\u001B[0m\u001B[1;33m\u001B[0m\u001B[0m\n\u001B[0m\u001B[0;32m   5871\u001B[0m \u001B[1;33m\u001B[0m\u001B[0m\n\u001B[0;32m   5872\u001B[0m         \u001B[1;32mif\u001B[0m \u001B[0minplace\u001B[0m\u001B[1;33m:\u001B[0m\u001B[1;33m\u001B[0m\u001B[1;33m\u001B[0m\u001B[0m\n\u001B[0;32m   5873\u001B[0m             \u001B[0mframe\u001B[0m \u001B[1;33m=\u001B[0m \u001B[0mself\u001B[0m\u001B[1;33m\u001B[0m\u001B[1;33m\u001B[0m\u001B[0m\n",
      "\u001B[1;31mKeyError\u001B[0m: \"None of ['munResNome'] are in the columns\""
     ]
    }
   ],
   "source": [
    "sinasc_2 = sinasc_2.set_index('munResNome')"
   ]
  },
  {
   "cell_type": "code",
   "execution_count": 12,
   "metadata": {
    "ExecuteTime": {
     "end_time": "2024-01-20T23:49:21.039279300Z",
     "start_time": "2024-01-20T23:49:21.024931200Z"
    }
   },
   "outputs": [
    {
     "data": {
      "text/plain": "             ESCMAE  IDADEMAE  IDADEPAI\nmunResNome                             \nJi-Paraná     11925     12015      6409\nPorto Velho   14790     15012      1197",
      "text/html": "<div>\n<style scoped>\n    .dataframe tbody tr th:only-of-type {\n        vertical-align: middle;\n    }\n\n    .dataframe tbody tr th {\n        vertical-align: top;\n    }\n\n    .dataframe thead th {\n        text-align: right;\n    }\n</style>\n<table border=\"1\" class=\"dataframe\">\n  <thead>\n    <tr style=\"text-align: right;\">\n      <th></th>\n      <th>ESCMAE</th>\n      <th>IDADEMAE</th>\n      <th>IDADEPAI</th>\n    </tr>\n    <tr>\n      <th>munResNome</th>\n      <th></th>\n      <th></th>\n      <th></th>\n    </tr>\n  </thead>\n  <tbody>\n    <tr>\n      <th>Ji-Paraná</th>\n      <td>11925</td>\n      <td>12015</td>\n      <td>6409</td>\n    </tr>\n    <tr>\n      <th>Porto Velho</th>\n      <td>14790</td>\n      <td>15012</td>\n      <td>1197</td>\n    </tr>\n  </tbody>\n</table>\n</div>"
     },
     "execution_count": 12,
     "metadata": {},
     "output_type": "execute_result"
    }
   ],
   "source": [
    "sinasc_2.groupby(intermediarias).count()"
   ]
  },
  {
   "cell_type": "code",
   "execution_count": 13,
   "metadata": {
    "ExecuteTime": {
     "end_time": "2024-01-20T23:50:33.378670500Z",
     "start_time": "2024-01-20T23:50:33.360511400Z"
    }
   },
   "outputs": [
    {
     "data": {
      "text/plain": "             ESCMAE  IDADEMAE  IDADEPAI\nmunResNome                             \nJi-Paraná     11925     12015      6409\nPorto Velho   14790     15012      1197\nNaN               1         1         1",
      "text/html": "<div>\n<style scoped>\n    .dataframe tbody tr th:only-of-type {\n        vertical-align: middle;\n    }\n\n    .dataframe tbody tr th {\n        vertical-align: top;\n    }\n\n    .dataframe thead th {\n        text-align: right;\n    }\n</style>\n<table border=\"1\" class=\"dataframe\">\n  <thead>\n    <tr style=\"text-align: right;\">\n      <th></th>\n      <th>ESCMAE</th>\n      <th>IDADEMAE</th>\n      <th>IDADEPAI</th>\n    </tr>\n    <tr>\n      <th>munResNome</th>\n      <th></th>\n      <th></th>\n      <th></th>\n    </tr>\n  </thead>\n  <tbody>\n    <tr>\n      <th>Ji-Paraná</th>\n      <td>11925</td>\n      <td>12015</td>\n      <td>6409</td>\n    </tr>\n    <tr>\n      <th>Porto Velho</th>\n      <td>14790</td>\n      <td>15012</td>\n      <td>1197</td>\n    </tr>\n    <tr>\n      <th>NaN</th>\n      <td>1</td>\n      <td>1</td>\n      <td>1</td>\n    </tr>\n  </tbody>\n</table>\n</div>"
     },
     "execution_count": 13,
     "metadata": {},
     "output_type": "execute_result"
    }
   ],
   "source": [
    "sinasc_2.groupby(intermediarias, dropna=False).count()"
   ]
  },
  {
   "cell_type": "code",
   "execution_count": null,
   "metadata": {},
   "outputs": [],
   "source": []
  },
  {
   "cell_type": "code",
   "execution_count": null,
   "metadata": {},
   "outputs": [],
   "source": []
  },
  {
   "cell_type": "code",
   "execution_count": null,
   "metadata": {},
   "outputs": [],
   "source": []
  },
  {
   "cell_type": "code",
   "execution_count": null,
   "metadata": {},
   "outputs": [],
   "source": []
  },
  {
   "cell_type": "code",
   "execution_count": null,
   "metadata": {},
   "outputs": [],
   "source": []
  }
 ],
 "metadata": {
  "kernelspec": {
   "display_name": "Python 3",
   "language": "python",
   "name": "python3"
  },
  "language_info": {
   "codemirror_mode": {
    "name": "ipython",
    "version": 3
   },
   "file_extension": ".py",
   "mimetype": "text/x-python",
   "name": "python",
   "nbconvert_exporter": "python",
   "pygments_lexer": "ipython3",
   "version": "3.8.5"
  },
  "varInspector": {
   "cols": {
    "lenName": 16,
    "lenType": 16,
    "lenVar": 40
   },
   "kernels_config": {
    "python": {
     "delete_cmd_postfix": "",
     "delete_cmd_prefix": "del ",
     "library": "var_list.py",
     "varRefreshCmd": "print(var_dic_list())"
    },
    "r": {
     "delete_cmd_postfix": ") ",
     "delete_cmd_prefix": "rm(",
     "library": "var_list.r",
     "varRefreshCmd": "cat(var_dic_list()) "
    }
   },
   "types_to_exclude": [
    "module",
    "function",
    "builtin_function_or_method",
    "instance",
    "_Feature"
   ],
   "window_display": false
  }
 },
 "nbformat": 4,
 "nbformat_minor": 4
}
