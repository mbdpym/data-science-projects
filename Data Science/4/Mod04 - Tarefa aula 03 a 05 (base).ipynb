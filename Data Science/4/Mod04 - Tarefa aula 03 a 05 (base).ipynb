{
 "cells": [
  {
   "cell_type": "markdown",
   "metadata": {},
   "source": [
    "## Exercício 1: Vestibular\n",
    "\n",
    "Considere que a os dados gerados na célula abaixo contêm o número de acertos de 100 alunos em um vestibular para um curso de exatas, divididas pelos respectivos assuntos. Considere que cada assunto possui um número de questões conforme a tabela abaixo:\n",
    "\n",
    "| assunto | número de questões |\n",
    "|:---:|:---:|\n",
    "| Matemática | 24 |\n",
    "| Português | 18 |\n",
    "| Geografia | 8 |\n",
    "| Inglês | 8 |\n",
    "| História | 8 |\n",
    "| Física | 12 |\n",
    "| Química | 12 |\n",
    "\n",
    "Usando os comandos de operações com DataFrames que você aprendeu na Aula 03, calcule:\n",
    "\n",
    "1. (operações com escalar) Calcule o percentual de acerto dos alunos por assunto.  \n",
    "2. (operações entre *DataFrames) Calcule o total de acertos de cada aluno.  \n",
    "3. Calcule o porcentual geral de cada aluno.  \n",
    "4. Suponha que a nota de corte para a segunda fase seja 45. Quantos alunos tiveram nota maior que 45?  "
   ]
  },
  {
   "cell_type": "code",
   "execution_count": 30,
   "metadata": {
    "ExecuteTime": {
     "end_time": "2023-12-28T05:58:09.906279600Z",
     "start_time": "2023-12-28T05:58:09.899747600Z"
    }
   },
   "outputs": [],
   "source": [
    "import pandas as pd\n",
    "import numpy as np\n",
    "\n",
    "np.random.seed(42)\n",
    "df_mat = pd.DataFrame(np.random.randint(24, size=(100, 1)), columns=['Qt_acertos_mat'])\n",
    "\n",
    "df_por = pd.DataFrame(np.random.randint(18, size=(100, 1)), columns=['Qt_acertos_por'])\n",
    "\n",
    "df_geo = pd.DataFrame(np.random.randint(8, size=(100, 1)), columns=['Qt_acertos_geo'])\n",
    "\n",
    "df_ing = pd.DataFrame(np.random.randint(8, size=(100, 1)), columns=['Qt_acertos_ing'])\n",
    "\n",
    "df_his = pd.DataFrame(np.random.randint(8, size=(100, 1)), columns=['Qt_acertos_his'])\n",
    "\n",
    "df_fis = pd.DataFrame(np.random.randint(12, size=(100, 1)), columns=['Qt_acertos_fis'])\n",
    "\n",
    "df_qui = pd.DataFrame(np.random.randint(12, size=(100, 1)), columns=['Qt_acertos_qui'])"
   ]
  },
  {
   "cell_type": "code",
   "execution_count": 31,
   "metadata": {
    "ExecuteTime": {
     "end_time": "2023-12-28T05:58:12.728926800Z",
     "start_time": "2023-12-28T05:58:12.724728200Z"
    }
   },
   "outputs": [],
   "source": [
    "# 1) Seu código aqui\n",
    "\n",
    "pc_mat = df_mat / 24\n",
    "pc_por = df_por / 18\n",
    "pc_geo = df_geo /  8\n",
    "pc_ing = df_ing /  8\n",
    "pc_his = df_his /  8\n",
    "pc_fis = df_fis /  8\n",
    "pc_qui = df_qui /  8"
   ]
  },
  {
   "cell_type": "code",
   "execution_count": 40,
   "metadata": {
    "ExecuteTime": {
     "end_time": "2023-12-28T06:04:10.122767900Z",
     "start_time": "2023-12-28T06:04:10.115322600Z"
    }
   },
   "outputs": [
    {
     "data": {
      "text/plain": "0     35\n1     48\n2     50\n3     32\n4     30\n      ..\n95    34\n96    27\n97    40\n98    40\n99    42\nName: Qt_acertos, Length: 100, dtype: int64"
     },
     "execution_count": 40,
     "metadata": {},
     "output_type": "execute_result"
    }
   ],
   "source": [
    "# 2) Seu código aqui\n",
    "total = pd.concat([df_mat, df_por, df_geo, df_ing, df_his, df_fis, df_qui], axis=1)\n",
    "total['Qt_acertos'] = total.sum(axis=1)\n",
    "total['Qt_acertos']"
   ]
  },
  {
   "cell_type": "code",
   "execution_count": 34,
   "metadata": {
    "ExecuteTime": {
     "end_time": "2023-12-28T06:00:44.312319100Z",
     "start_time": "2023-12-28T06:00:44.306541400Z"
    }
   },
   "outputs": [
    {
     "data": {
      "text/plain": "0     0.35\n1     0.48\n2     0.50\n3     0.32\n4     0.30\n      ... \n95    0.34\n96    0.27\n97    0.40\n98    0.40\n99    0.42\nLength: 100, dtype: float64"
     },
     "execution_count": 34,
     "metadata": {},
     "output_type": "execute_result"
    }
   ],
   "source": [
    "# 3) Seu código aqui\n",
    "total/100"
   ]
  },
  {
   "cell_type": "code",
   "execution_count": 93,
   "metadata": {
    "ExecuteTime": {
     "end_time": "2023-12-28T22:27:17.458189400Z",
     "start_time": "2023-12-28T22:27:17.443046500Z"
    }
   },
   "outputs": [
    {
     "data": {
      "text/plain": "31"
     },
     "execution_count": 93,
     "metadata": {},
     "output_type": "execute_result"
    }
   ],
   "source": [
    "# 4) Seu código aqui\n",
    "aprovados = total[total['Qt_acertos'] > 45]\n",
    "aprovados['Qt_acertos'].count()"
   ]
  },
  {
   "cell_type": "markdown",
   "metadata": {},
   "source": [
    "## 2) Vestibular II\n",
    "\n",
    "Ainda sobre o mesmo banco de dados:\n",
    "\n",
    "1. Neste vestibular, quem 'zera' em matemática, física ou química está desqualificado. Monte um novo *DataFrame* com os alunos desqualificados por este critério.\n",
    "2. Quantos são esses alunos?\n",
    "3. Qual a média desses alunos em história e geografia?\n",
    "4. Monte um *DataFrame* com os alunos que passaram para a segunda fase. Repare que estes alunos não podem ter sido desqualificados."
   ]
  },
  {
   "cell_type": "code",
   "execution_count": 46,
   "metadata": {
    "ExecuteTime": {
     "end_time": "2023-12-28T06:06:40.995932900Z",
     "start_time": "2023-12-28T06:06:40.989503500Z"
    }
   },
   "outputs": [
    {
     "data": {
      "text/plain": "    Qt_acertos_mat  Qt_acertos_fis  Qt_acertos_qui\n3               10               0               8\n6                6               0               4\n10              10               7               0\n12              20               0               3\n14               7               4               0\n20              23               2               0\n25               0               4               8\n26              11               0               0\n27              21               3               0\n33              14               6               0\n35              11               0              11\n49               8               0               8\n56               7               0               8\n65               1               0               6\n66               5               0              10\n72              11               0               9\n73               1               0              11\n74               9               7               0\n84              15               0               4\n89              23               9               0\n92              14               8               0\n94               0               3               8\n98               0              10              11",
      "text/html": "<div>\n<style scoped>\n    .dataframe tbody tr th:only-of-type {\n        vertical-align: middle;\n    }\n\n    .dataframe tbody tr th {\n        vertical-align: top;\n    }\n\n    .dataframe thead th {\n        text-align: right;\n    }\n</style>\n<table border=\"1\" class=\"dataframe\">\n  <thead>\n    <tr style=\"text-align: right;\">\n      <th></th>\n      <th>Qt_acertos_mat</th>\n      <th>Qt_acertos_fis</th>\n      <th>Qt_acertos_qui</th>\n    </tr>\n  </thead>\n  <tbody>\n    <tr>\n      <th>3</th>\n      <td>10</td>\n      <td>0</td>\n      <td>8</td>\n    </tr>\n    <tr>\n      <th>6</th>\n      <td>6</td>\n      <td>0</td>\n      <td>4</td>\n    </tr>\n    <tr>\n      <th>10</th>\n      <td>10</td>\n      <td>7</td>\n      <td>0</td>\n    </tr>\n    <tr>\n      <th>12</th>\n      <td>20</td>\n      <td>0</td>\n      <td>3</td>\n    </tr>\n    <tr>\n      <th>14</th>\n      <td>7</td>\n      <td>4</td>\n      <td>0</td>\n    </tr>\n    <tr>\n      <th>20</th>\n      <td>23</td>\n      <td>2</td>\n      <td>0</td>\n    </tr>\n    <tr>\n      <th>25</th>\n      <td>0</td>\n      <td>4</td>\n      <td>8</td>\n    </tr>\n    <tr>\n      <th>26</th>\n      <td>11</td>\n      <td>0</td>\n      <td>0</td>\n    </tr>\n    <tr>\n      <th>27</th>\n      <td>21</td>\n      <td>3</td>\n      <td>0</td>\n    </tr>\n    <tr>\n      <th>33</th>\n      <td>14</td>\n      <td>6</td>\n      <td>0</td>\n    </tr>\n    <tr>\n      <th>35</th>\n      <td>11</td>\n      <td>0</td>\n      <td>11</td>\n    </tr>\n    <tr>\n      <th>49</th>\n      <td>8</td>\n      <td>0</td>\n      <td>8</td>\n    </tr>\n    <tr>\n      <th>56</th>\n      <td>7</td>\n      <td>0</td>\n      <td>8</td>\n    </tr>\n    <tr>\n      <th>65</th>\n      <td>1</td>\n      <td>0</td>\n      <td>6</td>\n    </tr>\n    <tr>\n      <th>66</th>\n      <td>5</td>\n      <td>0</td>\n      <td>10</td>\n    </tr>\n    <tr>\n      <th>72</th>\n      <td>11</td>\n      <td>0</td>\n      <td>9</td>\n    </tr>\n    <tr>\n      <th>73</th>\n      <td>1</td>\n      <td>0</td>\n      <td>11</td>\n    </tr>\n    <tr>\n      <th>74</th>\n      <td>9</td>\n      <td>7</td>\n      <td>0</td>\n    </tr>\n    <tr>\n      <th>84</th>\n      <td>15</td>\n      <td>0</td>\n      <td>4</td>\n    </tr>\n    <tr>\n      <th>89</th>\n      <td>23</td>\n      <td>9</td>\n      <td>0</td>\n    </tr>\n    <tr>\n      <th>92</th>\n      <td>14</td>\n      <td>8</td>\n      <td>0</td>\n    </tr>\n    <tr>\n      <th>94</th>\n      <td>0</td>\n      <td>3</td>\n      <td>8</td>\n    </tr>\n    <tr>\n      <th>98</th>\n      <td>0</td>\n      <td>10</td>\n      <td>11</td>\n    </tr>\n  </tbody>\n</table>\n</div>"
     },
     "execution_count": 46,
     "metadata": {},
     "output_type": "execute_result"
    }
   ],
   "source": [
    "# passo 1\n",
    "df_eliminados = total[(df_mat['Qt_acertos_mat'] == 0) | \n",
    "                      (df_fis['Qt_acertos_fis'] == 0) | \n",
    "                      (df_qui['Qt_acertos_qui'] == 0)]\n",
    "df_eliminados[['Qt_acertos_mat', 'Qt_acertos_fis', 'Qt_acertos_qui']]\n"
   ]
  },
  {
   "cell_type": "code",
   "outputs": [
    {
     "data": {
      "text/plain": "23"
     },
     "execution_count": 49,
     "metadata": {},
     "output_type": "execute_result"
    }
   ],
   "source": [
    "#passo 2\n",
    "df_eliminados['Qt_acertos'].count().sum()"
   ],
   "metadata": {
    "collapsed": false,
    "ExecuteTime": {
     "end_time": "2023-12-28T06:08:00.923142400Z",
     "start_time": "2023-12-28T06:08:00.918691600Z"
    }
   },
   "execution_count": 49
  },
  {
   "cell_type": "code",
   "outputs": [
    {
     "data": {
      "text/plain": "    Qt_acertos_his  Qt_acertos_geo\n3                0               3\n6                5               7\n10               1               3\n12               1               3\n14               1               1\n20               6               6\n25               0               7\n26               7               6\n27               7               1\n33               6               0\n35               3               6\n49               1               1\n56               6               7\n65               3               2\n66               3               3\n72               7               3\n73               3               2\n74               5               0\n84               1               0\n89               6               7\n92               1               1\n94               1               2\n98               5               3",
      "text/html": "<div>\n<style scoped>\n    .dataframe tbody tr th:only-of-type {\n        vertical-align: middle;\n    }\n\n    .dataframe tbody tr th {\n        vertical-align: top;\n    }\n\n    .dataframe thead th {\n        text-align: right;\n    }\n</style>\n<table border=\"1\" class=\"dataframe\">\n  <thead>\n    <tr style=\"text-align: right;\">\n      <th></th>\n      <th>Qt_acertos_his</th>\n      <th>Qt_acertos_geo</th>\n    </tr>\n  </thead>\n  <tbody>\n    <tr>\n      <th>3</th>\n      <td>0</td>\n      <td>3</td>\n    </tr>\n    <tr>\n      <th>6</th>\n      <td>5</td>\n      <td>7</td>\n    </tr>\n    <tr>\n      <th>10</th>\n      <td>1</td>\n      <td>3</td>\n    </tr>\n    <tr>\n      <th>12</th>\n      <td>1</td>\n      <td>3</td>\n    </tr>\n    <tr>\n      <th>14</th>\n      <td>1</td>\n      <td>1</td>\n    </tr>\n    <tr>\n      <th>20</th>\n      <td>6</td>\n      <td>6</td>\n    </tr>\n    <tr>\n      <th>25</th>\n      <td>0</td>\n      <td>7</td>\n    </tr>\n    <tr>\n      <th>26</th>\n      <td>7</td>\n      <td>6</td>\n    </tr>\n    <tr>\n      <th>27</th>\n      <td>7</td>\n      <td>1</td>\n    </tr>\n    <tr>\n      <th>33</th>\n      <td>6</td>\n      <td>0</td>\n    </tr>\n    <tr>\n      <th>35</th>\n      <td>3</td>\n      <td>6</td>\n    </tr>\n    <tr>\n      <th>49</th>\n      <td>1</td>\n      <td>1</td>\n    </tr>\n    <tr>\n      <th>56</th>\n      <td>6</td>\n      <td>7</td>\n    </tr>\n    <tr>\n      <th>65</th>\n      <td>3</td>\n      <td>2</td>\n    </tr>\n    <tr>\n      <th>66</th>\n      <td>3</td>\n      <td>3</td>\n    </tr>\n    <tr>\n      <th>72</th>\n      <td>7</td>\n      <td>3</td>\n    </tr>\n    <tr>\n      <th>73</th>\n      <td>3</td>\n      <td>2</td>\n    </tr>\n    <tr>\n      <th>74</th>\n      <td>5</td>\n      <td>0</td>\n    </tr>\n    <tr>\n      <th>84</th>\n      <td>1</td>\n      <td>0</td>\n    </tr>\n    <tr>\n      <th>89</th>\n      <td>6</td>\n      <td>7</td>\n    </tr>\n    <tr>\n      <th>92</th>\n      <td>1</td>\n      <td>1</td>\n    </tr>\n    <tr>\n      <th>94</th>\n      <td>1</td>\n      <td>2</td>\n    </tr>\n    <tr>\n      <th>98</th>\n      <td>5</td>\n      <td>3</td>\n    </tr>\n  </tbody>\n</table>\n</div>"
     },
     "execution_count": 60,
     "metadata": {},
     "output_type": "execute_result"
    }
   ],
   "source": [
    "#passo 3\n",
    "\n",
    "df_eliminados[['Qt_acertos_his', 'Qt_acertos_geo']]"
   ],
   "metadata": {
    "collapsed": false,
    "ExecuteTime": {
     "end_time": "2023-12-28T06:16:03.231798100Z",
     "start_time": "2023-12-28T06:16:03.225180200Z"
    }
   },
   "execution_count": 60
  },
  {
   "cell_type": "code",
   "outputs": [
    {
     "data": {
      "text/plain": "    Qt_acertos_mat  Qt_acertos_por  Qt_acertos_geo  Qt_acertos_ing  \\\n1               19              10               0               0   \n2               14              16               0               5   \n5               20               2               5               3   \n7               18               4               4               7   \n8               22               9               2               7   \n17              21              15               2               2   \n18              20               4               3               5   \n24              20               2               7               5   \n31              15              13               3               1   \n36              22               9               6               6   \n37              19              12               5               7   \n39               4              16               2               4   \n40              18               3               6               3   \n42              20               6               7               7   \n45              17              10               0               2   \n48              17               6               0               7   \n60              16               8               0               4   \n62              17               6               2               4   \n67              21               0               7               2   \n70              21              14               0               3   \n71              17               8               7               6   \n77              15               2               5               7   \n78              14              16               7               2   \n81              22              16               2               0   \n88              20               1               1               5   \n93              12              16               5               5   \n\n    Qt_acertos_his  Qt_acertos_fis  Qt_acertos_qui  Qt_acertos  \n1                0              11               8          48  \n2                7               4               4          50  \n5                2               9               9          50  \n7                7               1               8          49  \n8                6               5               7          58  \n17               4               2               6          52  \n18               3              11               4          50  \n24               3              11               2          50  \n31               3               9              10          54  \n36               1               4               8          56  \n37               1               6               2          52  \n39               6               9               8          49  \n40               6               5               6          47  \n42               2               3               3          48  \n45               6               9               4          48  \n48               5               9              11          55  \n60               4               7               9          48  \n62               7               1               9          46  \n67               4               2              10          46  \n70               5              11               8          62  \n71               4               2               9          53  \n77               6              11               7          53  \n78               7              11               9          66  \n81               4               1              10          55  \n88               7               9               7          50  \n93               6               6               6          56  ",
      "text/html": "<div>\n<style scoped>\n    .dataframe tbody tr th:only-of-type {\n        vertical-align: middle;\n    }\n\n    .dataframe tbody tr th {\n        vertical-align: top;\n    }\n\n    .dataframe thead th {\n        text-align: right;\n    }\n</style>\n<table border=\"1\" class=\"dataframe\">\n  <thead>\n    <tr style=\"text-align: right;\">\n      <th></th>\n      <th>Qt_acertos_mat</th>\n      <th>Qt_acertos_por</th>\n      <th>Qt_acertos_geo</th>\n      <th>Qt_acertos_ing</th>\n      <th>Qt_acertos_his</th>\n      <th>Qt_acertos_fis</th>\n      <th>Qt_acertos_qui</th>\n      <th>Qt_acertos</th>\n    </tr>\n  </thead>\n  <tbody>\n    <tr>\n      <th>1</th>\n      <td>19</td>\n      <td>10</td>\n      <td>0</td>\n      <td>0</td>\n      <td>0</td>\n      <td>11</td>\n      <td>8</td>\n      <td>48</td>\n    </tr>\n    <tr>\n      <th>2</th>\n      <td>14</td>\n      <td>16</td>\n      <td>0</td>\n      <td>5</td>\n      <td>7</td>\n      <td>4</td>\n      <td>4</td>\n      <td>50</td>\n    </tr>\n    <tr>\n      <th>5</th>\n      <td>20</td>\n      <td>2</td>\n      <td>5</td>\n      <td>3</td>\n      <td>2</td>\n      <td>9</td>\n      <td>9</td>\n      <td>50</td>\n    </tr>\n    <tr>\n      <th>7</th>\n      <td>18</td>\n      <td>4</td>\n      <td>4</td>\n      <td>7</td>\n      <td>7</td>\n      <td>1</td>\n      <td>8</td>\n      <td>49</td>\n    </tr>\n    <tr>\n      <th>8</th>\n      <td>22</td>\n      <td>9</td>\n      <td>2</td>\n      <td>7</td>\n      <td>6</td>\n      <td>5</td>\n      <td>7</td>\n      <td>58</td>\n    </tr>\n    <tr>\n      <th>17</th>\n      <td>21</td>\n      <td>15</td>\n      <td>2</td>\n      <td>2</td>\n      <td>4</td>\n      <td>2</td>\n      <td>6</td>\n      <td>52</td>\n    </tr>\n    <tr>\n      <th>18</th>\n      <td>20</td>\n      <td>4</td>\n      <td>3</td>\n      <td>5</td>\n      <td>3</td>\n      <td>11</td>\n      <td>4</td>\n      <td>50</td>\n    </tr>\n    <tr>\n      <th>24</th>\n      <td>20</td>\n      <td>2</td>\n      <td>7</td>\n      <td>5</td>\n      <td>3</td>\n      <td>11</td>\n      <td>2</td>\n      <td>50</td>\n    </tr>\n    <tr>\n      <th>31</th>\n      <td>15</td>\n      <td>13</td>\n      <td>3</td>\n      <td>1</td>\n      <td>3</td>\n      <td>9</td>\n      <td>10</td>\n      <td>54</td>\n    </tr>\n    <tr>\n      <th>36</th>\n      <td>22</td>\n      <td>9</td>\n      <td>6</td>\n      <td>6</td>\n      <td>1</td>\n      <td>4</td>\n      <td>8</td>\n      <td>56</td>\n    </tr>\n    <tr>\n      <th>37</th>\n      <td>19</td>\n      <td>12</td>\n      <td>5</td>\n      <td>7</td>\n      <td>1</td>\n      <td>6</td>\n      <td>2</td>\n      <td>52</td>\n    </tr>\n    <tr>\n      <th>39</th>\n      <td>4</td>\n      <td>16</td>\n      <td>2</td>\n      <td>4</td>\n      <td>6</td>\n      <td>9</td>\n      <td>8</td>\n      <td>49</td>\n    </tr>\n    <tr>\n      <th>40</th>\n      <td>18</td>\n      <td>3</td>\n      <td>6</td>\n      <td>3</td>\n      <td>6</td>\n      <td>5</td>\n      <td>6</td>\n      <td>47</td>\n    </tr>\n    <tr>\n      <th>42</th>\n      <td>20</td>\n      <td>6</td>\n      <td>7</td>\n      <td>7</td>\n      <td>2</td>\n      <td>3</td>\n      <td>3</td>\n      <td>48</td>\n    </tr>\n    <tr>\n      <th>45</th>\n      <td>17</td>\n      <td>10</td>\n      <td>0</td>\n      <td>2</td>\n      <td>6</td>\n      <td>9</td>\n      <td>4</td>\n      <td>48</td>\n    </tr>\n    <tr>\n      <th>48</th>\n      <td>17</td>\n      <td>6</td>\n      <td>0</td>\n      <td>7</td>\n      <td>5</td>\n      <td>9</td>\n      <td>11</td>\n      <td>55</td>\n    </tr>\n    <tr>\n      <th>60</th>\n      <td>16</td>\n      <td>8</td>\n      <td>0</td>\n      <td>4</td>\n      <td>4</td>\n      <td>7</td>\n      <td>9</td>\n      <td>48</td>\n    </tr>\n    <tr>\n      <th>62</th>\n      <td>17</td>\n      <td>6</td>\n      <td>2</td>\n      <td>4</td>\n      <td>7</td>\n      <td>1</td>\n      <td>9</td>\n      <td>46</td>\n    </tr>\n    <tr>\n      <th>67</th>\n      <td>21</td>\n      <td>0</td>\n      <td>7</td>\n      <td>2</td>\n      <td>4</td>\n      <td>2</td>\n      <td>10</td>\n      <td>46</td>\n    </tr>\n    <tr>\n      <th>70</th>\n      <td>21</td>\n      <td>14</td>\n      <td>0</td>\n      <td>3</td>\n      <td>5</td>\n      <td>11</td>\n      <td>8</td>\n      <td>62</td>\n    </tr>\n    <tr>\n      <th>71</th>\n      <td>17</td>\n      <td>8</td>\n      <td>7</td>\n      <td>6</td>\n      <td>4</td>\n      <td>2</td>\n      <td>9</td>\n      <td>53</td>\n    </tr>\n    <tr>\n      <th>77</th>\n      <td>15</td>\n      <td>2</td>\n      <td>5</td>\n      <td>7</td>\n      <td>6</td>\n      <td>11</td>\n      <td>7</td>\n      <td>53</td>\n    </tr>\n    <tr>\n      <th>78</th>\n      <td>14</td>\n      <td>16</td>\n      <td>7</td>\n      <td>2</td>\n      <td>7</td>\n      <td>11</td>\n      <td>9</td>\n      <td>66</td>\n    </tr>\n    <tr>\n      <th>81</th>\n      <td>22</td>\n      <td>16</td>\n      <td>2</td>\n      <td>0</td>\n      <td>4</td>\n      <td>1</td>\n      <td>10</td>\n      <td>55</td>\n    </tr>\n    <tr>\n      <th>88</th>\n      <td>20</td>\n      <td>1</td>\n      <td>1</td>\n      <td>5</td>\n      <td>7</td>\n      <td>9</td>\n      <td>7</td>\n      <td>50</td>\n    </tr>\n    <tr>\n      <th>93</th>\n      <td>12</td>\n      <td>16</td>\n      <td>5</td>\n      <td>5</td>\n      <td>6</td>\n      <td>6</td>\n      <td>6</td>\n      <td>56</td>\n    </tr>\n  </tbody>\n</table>\n</div>"
     },
     "execution_count": 97,
     "metadata": {},
     "output_type": "execute_result"
    }
   ],
   "source": [
    "#passo 4\n",
    "df_aprovados = total[\n",
    "       (total[\"Qt_acertos\"] > 45) &\n",
    "       (total[\"Qt_acertos_mat\"] > 0) &\n",
    "       (total[\"Qt_acertos_fis\"] > 0) &\n",
    "       (total[\"Qt_acertos_qui\"] > 0)\n",
    "       ].copy()\n",
    "\n",
    "df_aprovados"
   ],
   "metadata": {
    "collapsed": false,
    "ExecuteTime": {
     "end_time": "2023-12-28T22:29:21.772916700Z",
     "start_time": "2023-12-28T22:29:21.762201700Z"
    }
   },
   "execution_count": 97
  },
  {
   "cell_type": "markdown",
   "metadata": {},
   "source": [
    "## 3) Vacinações no Acre\n",
    "Vamos trabalhar agora com a base de vacinações no Acre. Para facilitar a sua vida, copiamos o link do arquivo na célula abaixo.\n",
    "\n",
    "1. Quantas vacinas estão registradas nessa base?  \n",
    "2. Quantos pacientes foram vacinados? (considere um paciente para cada valor único de ```paciente_id```)  \n",
    "3. Quantos pacientes únicos tomaram a primeira dose? OBS: Há um caractere especial neste campo. Receba os valores do campo com o método ```.unique()```.   \n",
    "4. Quantos pacientes com menos de 18 anos foram vacinados?  \n",
    "5. Quantos estabelecimentos aplicaram vacina no Acre?\n",
    "\n",
    "\n",
    "**OBS:** O portal do DATASUS pode apresentar instabilidades, retornando um erro na segunda célula abaixo. Por este motivo está disponível uma base estática, que se for baixada para o seu *working directory* pode ser lida com este comando: ```df = pd.read_csv('registros de vacinacao covid ACRE.csv', sep=';')```.\n",
    "\n",
    "**OBS2:** Para saber qual é o seu working directory, rode no jupyter: ```!pwd```."
   ]
  },
  {
   "cell_type": "code",
   "execution_count": 68,
   "metadata": {
    "ExecuteTime": {
     "end_time": "2023-12-28T17:14:10.611496Z",
     "start_time": "2023-12-28T17:14:10.604565700Z"
    }
   },
   "outputs": [],
   "source": [
    "arquivo = 'https://s3.sa-east-1.amazonaws.com/ckan.saude.gov.br/SIPNI/COVID/uf/uf%3DAC/part-00000-f9aa69c5-6c18-440f-9254-3d1447929d6b.c000.csv'"
   ]
  },
  {
   "cell_type": "code",
   "execution_count": 69,
   "metadata": {
    "ExecuteTime": {
     "end_time": "2023-12-28T17:14:17.011505600Z",
     "start_time": "2023-12-28T17:14:12.304826100Z"
    }
   },
   "outputs": [],
   "source": [
    "# 1) Sua solução aqui\n",
    "df = pd.read_csv(arquivo, sep=';')\n"
   ]
  },
  {
   "cell_type": "code",
   "execution_count": 70,
   "metadata": {
    "ExecuteTime": {
     "end_time": "2023-12-28T17:14:17.886312800Z",
     "start_time": "2023-12-28T17:14:17.849341500Z"
    }
   },
   "outputs": [
    {
     "data": {
      "text/plain": "                                 document_id  \\\n0  e32715ba-bba3-4ccd-8e90-e8d930321f34-i0b0   \n1  66eb2b3e-40c9-4f25-8771-3222dd3e77b2-i0b0   \n2  03850c39-5c67-4e68-98af-96be50d9042b-i0b0   \n3  66ff3293-3ee5-4cfb-9425-6ef645d51b3f-i0b0   \n4  51a2b293-2d0a-4f0b-81b8-285afcfb84b2-i0b0   \n\n                                         paciente_id  paciente_idade  \\\n0  00158d713d239cf3ef860824ebf73d3eb9a9a5042d9569...              52   \n1  42c12b41b63291facf4c5dd887e1a7b857ebaac3c6ae4a...              56   \n2  f529b2a120cdf937144c6decfb5340d96e5a65df196363...              15   \n3  3dcc3b0528cba132b2f62317e18ffcfbad7a0e6aee7697...              45   \n4  b0f5c768054bbeb2658fbda71a3226d5bd4200dca52374...               5   \n\n  paciente_dataNascimento paciente_enumSexoBiologico  paciente_racaCor_codigo  \\\n0              1968-08-09                          M                        4   \n1              1965-07-25                          M                        3   \n2              2005-09-21                          F                        4   \n3              1975-12-19                          M                       99   \n4              2017-06-19                          M                        1   \n\n  paciente_racaCor_valor  paciente_endereco_coIbgeMunicipio  \\\n0                AMARELA                           120040.0   \n1                  PARDA                           120040.0   \n2                AMARELA                           120010.0   \n3         SEM INFORMACAO                           120040.0   \n4                 BRANCA                           120060.0   \n\n   paciente_endereco_coPais paciente_endereco_nmMunicipio  ...  \\\n0                      10.0                    RIO BRANCO  ...   \n1                      10.0                    RIO BRANCO  ...   \n2                      10.0                     BRASILEIA  ...   \n3                      10.0                    RIO BRANCO  ...   \n4                      10.0                      TARAUACA  ...   \n\n  vacina_categoria_codigo vacina_categoria_nome  vacina_lote  \\\n0                     1.0          Comorbidades       FA9096   \n1                     1.0          Comorbidades       FH8023   \n2                     2.0          Faixa Etária       FA9096   \n3                     2.0          Faixa Etária      1855836   \n4                     NaN                   NaN       210520   \n\n  vacina_fabricante_nome  vacina_fabricante_referencia vacina_dataAplicacao  \\\n0                 PFIZER   Organization/00394544000851           2021-08-07   \n1                 PFIZER            Organization/28290           2021-12-04   \n2                 PFIZER   Organization/00394544000851           2021-08-10   \n3                JANSSEN            Organization/30587           2021-12-14   \n4       SINOVAC/BUTANTAN                         29501           2022-09-21   \n\n  vacina_descricao_dose  vacina_codigo                            vacina_nome  \\\n0               2ª Dose             87            COVID-19 PFIZER - COMIRNATY   \n1        Dose Adicional             87            COVID-19 PFIZER - COMIRNATY   \n2               1ª Dose             87            COVID-19 PFIZER - COMIRNATY   \n3               Reforço             88         COVID-19 JANSSEN - Ad26.COV2.S   \n4               1ª Dose             86  COVID-19 SINOVAC/BUTANTAN - CORONAVAC   \n\n  sistema_origem  \n0       Novo PNI  \n1       Novo PNI  \n2       Novo PNI  \n3       Novo PNI  \n4       Novo PNI  \n\n[5 rows x 32 columns]",
      "text/html": "<div>\n<style scoped>\n    .dataframe tbody tr th:only-of-type {\n        vertical-align: middle;\n    }\n\n    .dataframe tbody tr th {\n        vertical-align: top;\n    }\n\n    .dataframe thead th {\n        text-align: right;\n    }\n</style>\n<table border=\"1\" class=\"dataframe\">\n  <thead>\n    <tr style=\"text-align: right;\">\n      <th></th>\n      <th>document_id</th>\n      <th>paciente_id</th>\n      <th>paciente_idade</th>\n      <th>paciente_dataNascimento</th>\n      <th>paciente_enumSexoBiologico</th>\n      <th>paciente_racaCor_codigo</th>\n      <th>paciente_racaCor_valor</th>\n      <th>paciente_endereco_coIbgeMunicipio</th>\n      <th>paciente_endereco_coPais</th>\n      <th>paciente_endereco_nmMunicipio</th>\n      <th>...</th>\n      <th>vacina_categoria_codigo</th>\n      <th>vacina_categoria_nome</th>\n      <th>vacina_lote</th>\n      <th>vacina_fabricante_nome</th>\n      <th>vacina_fabricante_referencia</th>\n      <th>vacina_dataAplicacao</th>\n      <th>vacina_descricao_dose</th>\n      <th>vacina_codigo</th>\n      <th>vacina_nome</th>\n      <th>sistema_origem</th>\n    </tr>\n  </thead>\n  <tbody>\n    <tr>\n      <th>0</th>\n      <td>e32715ba-bba3-4ccd-8e90-e8d930321f34-i0b0</td>\n      <td>00158d713d239cf3ef860824ebf73d3eb9a9a5042d9569...</td>\n      <td>52</td>\n      <td>1968-08-09</td>\n      <td>M</td>\n      <td>4</td>\n      <td>AMARELA</td>\n      <td>120040.0</td>\n      <td>10.0</td>\n      <td>RIO BRANCO</td>\n      <td>...</td>\n      <td>1.0</td>\n      <td>Comorbidades</td>\n      <td>FA9096</td>\n      <td>PFIZER</td>\n      <td>Organization/00394544000851</td>\n      <td>2021-08-07</td>\n      <td>2ª Dose</td>\n      <td>87</td>\n      <td>COVID-19 PFIZER - COMIRNATY</td>\n      <td>Novo PNI</td>\n    </tr>\n    <tr>\n      <th>1</th>\n      <td>66eb2b3e-40c9-4f25-8771-3222dd3e77b2-i0b0</td>\n      <td>42c12b41b63291facf4c5dd887e1a7b857ebaac3c6ae4a...</td>\n      <td>56</td>\n      <td>1965-07-25</td>\n      <td>M</td>\n      <td>3</td>\n      <td>PARDA</td>\n      <td>120040.0</td>\n      <td>10.0</td>\n      <td>RIO BRANCO</td>\n      <td>...</td>\n      <td>1.0</td>\n      <td>Comorbidades</td>\n      <td>FH8023</td>\n      <td>PFIZER</td>\n      <td>Organization/28290</td>\n      <td>2021-12-04</td>\n      <td>Dose Adicional</td>\n      <td>87</td>\n      <td>COVID-19 PFIZER - COMIRNATY</td>\n      <td>Novo PNI</td>\n    </tr>\n    <tr>\n      <th>2</th>\n      <td>03850c39-5c67-4e68-98af-96be50d9042b-i0b0</td>\n      <td>f529b2a120cdf937144c6decfb5340d96e5a65df196363...</td>\n      <td>15</td>\n      <td>2005-09-21</td>\n      <td>F</td>\n      <td>4</td>\n      <td>AMARELA</td>\n      <td>120010.0</td>\n      <td>10.0</td>\n      <td>BRASILEIA</td>\n      <td>...</td>\n      <td>2.0</td>\n      <td>Faixa Etária</td>\n      <td>FA9096</td>\n      <td>PFIZER</td>\n      <td>Organization/00394544000851</td>\n      <td>2021-08-10</td>\n      <td>1ª Dose</td>\n      <td>87</td>\n      <td>COVID-19 PFIZER - COMIRNATY</td>\n      <td>Novo PNI</td>\n    </tr>\n    <tr>\n      <th>3</th>\n      <td>66ff3293-3ee5-4cfb-9425-6ef645d51b3f-i0b0</td>\n      <td>3dcc3b0528cba132b2f62317e18ffcfbad7a0e6aee7697...</td>\n      <td>45</td>\n      <td>1975-12-19</td>\n      <td>M</td>\n      <td>99</td>\n      <td>SEM INFORMACAO</td>\n      <td>120040.0</td>\n      <td>10.0</td>\n      <td>RIO BRANCO</td>\n      <td>...</td>\n      <td>2.0</td>\n      <td>Faixa Etária</td>\n      <td>1855836</td>\n      <td>JANSSEN</td>\n      <td>Organization/30587</td>\n      <td>2021-12-14</td>\n      <td>Reforço</td>\n      <td>88</td>\n      <td>COVID-19 JANSSEN - Ad26.COV2.S</td>\n      <td>Novo PNI</td>\n    </tr>\n    <tr>\n      <th>4</th>\n      <td>51a2b293-2d0a-4f0b-81b8-285afcfb84b2-i0b0</td>\n      <td>b0f5c768054bbeb2658fbda71a3226d5bd4200dca52374...</td>\n      <td>5</td>\n      <td>2017-06-19</td>\n      <td>M</td>\n      <td>1</td>\n      <td>BRANCA</td>\n      <td>120060.0</td>\n      <td>10.0</td>\n      <td>TARAUACA</td>\n      <td>...</td>\n      <td>NaN</td>\n      <td>NaN</td>\n      <td>210520</td>\n      <td>SINOVAC/BUTANTAN</td>\n      <td>29501</td>\n      <td>2022-09-21</td>\n      <td>1ª Dose</td>\n      <td>86</td>\n      <td>COVID-19 SINOVAC/BUTANTAN - CORONAVAC</td>\n      <td>Novo PNI</td>\n    </tr>\n  </tbody>\n</table>\n<p>5 rows × 32 columns</p>\n</div>"
     },
     "execution_count": 70,
     "metadata": {},
     "output_type": "execute_result"
    }
   ],
   "source": [
    "df.head()"
   ]
  },
  {
   "cell_type": "code",
   "execution_count": 71,
   "metadata": {
    "ExecuteTime": {
     "end_time": "2023-12-28T21:15:38.452375700Z",
     "start_time": "2023-12-28T21:15:38.445372900Z"
    }
   },
   "outputs": [
    {
     "data": {
      "text/plain": "370371"
     },
     "execution_count": 71,
     "metadata": {},
     "output_type": "execute_result"
    }
   ],
   "source": [
    "df.shape[0]"
   ]
  },
  {
   "cell_type": "code",
   "execution_count": 67,
   "metadata": {
    "ExecuteTime": {
     "end_time": "2023-12-28T06:19:15.858640300Z",
     "start_time": "2023-12-28T06:19:15.781917500Z"
    }
   },
   "outputs": [
    {
     "data": {
      "text/plain": "305284"
     },
     "execution_count": 67,
     "metadata": {},
     "output_type": "execute_result"
    }
   ],
   "source": [
    "# 2) \n",
    "df['paciente_id'].nunique()"
   ]
  },
  {
   "cell_type": "code",
   "execution_count": 72,
   "metadata": {
    "ExecuteTime": {
     "end_time": "2023-12-28T21:34:44.123591300Z",
     "start_time": "2023-12-28T21:34:44.061905400Z"
    }
   },
   "outputs": [
    {
     "data": {
      "text/plain": "118643"
     },
     "execution_count": 72,
     "metadata": {},
     "output_type": "execute_result"
    }
   ],
   "source": [
    "# 3) \n",
    "primeira_dose = df['vacina_descricao_dose'].unique()[0]\n",
    "df['paciente_id'].loc[df['vacina_descricao_dose'] == primeira_dose].nunique()"
   ]
  },
  {
   "cell_type": "code",
   "execution_count": 73,
   "metadata": {
    "ExecuteTime": {
     "end_time": "2023-12-28T21:35:51.702698500Z",
     "start_time": "2023-12-28T21:35:51.613087Z"
    }
   },
   "outputs": [
    {
     "data": {
      "text/plain": "118643"
     },
     "execution_count": 73,
     "metadata": {},
     "output_type": "execute_result"
    }
   ],
   "source": [
    "# 3) solução alternativa\n",
    "primeira_dose = df['vacina_descricao_dose'].unique()[0]\n",
    "df_primeira_dose = df[df['vacina_descricao_dose'] == primeira_dose]\n",
    "df_primeira_dose['paciente_id'].nunique()"
   ]
  },
  {
   "cell_type": "code",
   "execution_count": 74,
   "metadata": {
    "ExecuteTime": {
     "end_time": "2023-12-28T21:48:52.109263200Z",
     "start_time": "2023-12-28T21:48:52.065500400Z"
    }
   },
   "outputs": [
    {
     "data": {
      "text/plain": "61000"
     },
     "execution_count": 74,
     "metadata": {},
     "output_type": "execute_result"
    }
   ],
   "source": [
    "# 4) \n",
    "df_menor = df[df[\"paciente_idade\"]<18]\n",
    "df_menor['paciente_id'].nunique()"
   ]
  },
  {
   "cell_type": "code",
   "execution_count": 77,
   "metadata": {
    "ExecuteTime": {
     "end_time": "2023-12-28T21:49:43.217327600Z",
     "start_time": "2023-12-28T21:49:43.182312200Z"
    }
   },
   "outputs": [
    {
     "data": {
      "text/plain": "55"
     },
     "execution_count": 77,
     "metadata": {},
     "output_type": "execute_result"
    }
   ],
   "source": [
    "# 5)\n",
    "df['estabelecimento_razaoSocial'].nunique()"
   ]
  },
  {
   "cell_type": "markdown",
   "metadata": {},
   "source": [
    "## 4) Vacinação II\n",
    "Gere um *DataFrame* que contenha somente os estabelecimentos que aplicaram vcinas a menores de 18 anos. Nesse *DataFrame* devem conter somente os dados dos estabelecimentos, mais uma coluna sendo a quantidade de vacinas que o estabelecimento aplicou a menores de 18 anos.  \n",
    "  \n",
    "1. crie uma cópia do *DataFrame* original, contendo somente os registros de vacinas realizadas a menores de 18 anos.  \n",
    "2. crie uma lista das colunas desse *DataFrame* com o atributo de *DataFrame* **.columns()**  \n",
    "3. Nesse *DataFrame* faça uma contagem do campo ```vacina_categoria_nome```.\n",
    "3. a partir da lista de colunas, escolha somente aquelas que são referentes ao estabelecimento, faça uma lista com esses valores.  \n",
    "4. usando o método *.loc*, selecione somente essas variáveis  \n",
    "5. Aplique o método **.drop_duplicates** e crie uma lista com uma linha para cada estabelecimento, com os dados do estabelecimento  "
   ]
  },
  {
   "cell_type": "code",
   "execution_count": 98,
   "metadata": {
    "ExecuteTime": {
     "end_time": "2023-12-28T22:30:01.584012700Z",
     "start_time": "2023-12-28T22:30:01.552547800Z"
    }
   },
   "outputs": [],
   "source": [
    "# 1) \n",
    "df_menor = df[df[\"paciente_idade\"]<18].copy()"
   ]
  },
  {
   "cell_type": "code",
   "execution_count": 99,
   "metadata": {
    "ExecuteTime": {
     "end_time": "2023-12-28T22:30:03.119855500Z",
     "start_time": "2023-12-28T22:30:03.111674400Z"
    }
   },
   "outputs": [
    {
     "data": {
      "text/plain": "Index(['document_id', 'paciente_id', 'paciente_idade',\n       'paciente_dataNascimento', 'paciente_enumSexoBiologico',\n       'paciente_racaCor_codigo', 'paciente_racaCor_valor',\n       'paciente_endereco_coIbgeMunicipio', 'paciente_endereco_coPais',\n       'paciente_endereco_nmMunicipio', 'paciente_endereco_nmPais',\n       'paciente_endereco_uf', 'paciente_endereco_cep',\n       'paciente_nacionalidade_enumNacionalidade', 'estabelecimento_valor',\n       'estabelecimento_razaoSocial', 'estalecimento_noFantasia',\n       'estabelecimento_municipio_codigo', 'estabelecimento_municipio_nome',\n       'estabelecimento_uf', 'vacina_grupoAtendimento_codigo',\n       'vacina_grupoAtendimento_nome', 'vacina_categoria_codigo',\n       'vacina_categoria_nome', 'vacina_lote', 'vacina_fabricante_nome',\n       'vacina_fabricante_referencia', 'vacina_dataAplicacao',\n       'vacina_descricao_dose', 'vacina_codigo', 'vacina_nome',\n       'sistema_origem'],\n      dtype='object')"
     },
     "execution_count": 99,
     "metadata": {},
     "output_type": "execute_result"
    }
   ],
   "source": [
    "# 2) \n",
    "df_menor.columns"
   ]
  },
  {
   "cell_type": "code",
   "execution_count": 80,
   "metadata": {
    "ExecuteTime": {
     "end_time": "2023-12-28T21:58:53.266456Z",
     "start_time": "2023-12-28T21:58:53.262207700Z"
    }
   },
   "outputs": [
    {
     "data": {
      "text/plain": "vacina_categoria_nome\nFaixa Etária                                      40077\nOutros                                             3701\nPovos Indígenas                                    3441\nPovos e Comunidades Tradicionais                    680\nTrabalhadores de Saúde                              238\nComorbidades                                         53\nPopulação Privada de Liberdade                       51\nGestantes                                            31\nPessoas com Deficiência                              10\nPessoas Institucionalizadas                           3\nPessoas de 60 anos ou mais institucionalizadas        1\nPuérperas                                             1\nTrabalhadores da Educação                             1\nName: count, dtype: int64"
     },
     "execution_count": 80,
     "metadata": {},
     "output_type": "execute_result"
    }
   ],
   "source": [
    "# 3)\n",
    "df_menor['vacina_categoria_nome'].value_counts()"
   ]
  },
  {
   "cell_type": "code",
   "execution_count": 100,
   "metadata": {
    "ExecuteTime": {
     "end_time": "2023-12-28T22:43:28.631562200Z",
     "start_time": "2023-12-28T22:43:28.619272700Z"
    }
   },
   "outputs": [],
   "source": [
    "# 4)\n",
    "lista_variaveis = ['estabelecimento_valor',\n",
    "       'estabelecimento_razaoSocial', 'estalecimento_noFantasia',\n",
    "       'estabelecimento_municipio_codigo', 'estabelecimento_municipio_nome',\n",
    "       'estabelecimento_uf']\n",
    "df_menor_lista = df_menor.loc[:,lista_variaveis]"
   ]
  },
  {
   "cell_type": "code",
   "execution_count": 84,
   "metadata": {
    "ExecuteTime": {
     "end_time": "2023-12-28T22:00:36.538137200Z",
     "start_time": "2023-12-28T22:00:36.535633800Z"
    }
   },
   "outputs": [
    {
     "data": {
      "text/plain": "        estabelecimento_valor                 estabelecimento_razaoSocial  \\\n2                     2001349           PREFEITURA MUNICIPAL DE BRASILEIA   \n4                     3810771            PREFEITURA MUNICIPAL DE TARAUACA   \n7                     2000482          PREFEITURA MUNICIPAL DE RIO BRANCO   \n12                    2003066        PREFEITURA MUNICIPAL DE ASSIS BRASIL   \n13                    2000040               PREFEITURA MUNICIPAL DE FEIJO   \n...                       ...                                         ...   \n219137                7123043              PREFEITURA MUNICIPAL DE JORDAO   \n223153                7565534                     MUNICIPIO DE RIO BRANCO   \n245926                3015483          PREFEITURA MUNICIPAL DE RIO BRANCO   \n250885                2001357  SECRETARIA MUNICIPAL DE SAUDE DE BRASILEIA   \n270326                3331784                     MUNICIPIO DE RIO BRANCO   \n\n                                 estalecimento_noFantasia  \\\n2                                  ESF TUFIC MIZAEL SAADY   \n4       UNIDADE DE S DA FAMILIA DR JOSE LEONCIO GOMES ...   \n7                                       URAP VILA IVONETE   \n12      UNIDADE BASICA DE SAUDE TEREZINHA BATISTA DOS ...   \n13                      CENTRO DE SAUDE DIAMANTINO MACEDO   \n...                                                   ...   \n219137                        SAUDE DA FAMILIA RIBEIRINHA   \n223153                                USF LUANA FREITAS I   \n245926                               USF ANTENOR RAMOS II   \n250885                        ESF PEDRO OLIVEIRA DE SOUZA   \n270326                              USF MARIA VERONICA II   \n\n        estabelecimento_municipio_codigo estabelecimento_municipio_nome  \\\n2                                 120010                      BRASILEIA   \n4                                 120060                       TARAUACA   \n7                                 120040                     RIO BRANCO   \n12                                120005                   ASSIS BRASIL   \n13                                120030                          FEIJO   \n...                                  ...                            ...   \n219137                            120032                         JORDAO   \n223153                            120040                     RIO BRANCO   \n245926                            120040                     RIO BRANCO   \n250885                            120010                      BRASILEIA   \n270326                            120040                     RIO BRANCO   \n\n       estabelecimento_uf  \n2                      AC  \n4                      AC  \n7                      AC  \n12                     AC  \n13                     AC  \n...                   ...  \n219137                 AC  \n223153                 AC  \n245926                 AC  \n250885                 AC  \n270326                 AC  \n\n[169 rows x 6 columns]",
      "text/html": "<div>\n<style scoped>\n    .dataframe tbody tr th:only-of-type {\n        vertical-align: middle;\n    }\n\n    .dataframe tbody tr th {\n        vertical-align: top;\n    }\n\n    .dataframe thead th {\n        text-align: right;\n    }\n</style>\n<table border=\"1\" class=\"dataframe\">\n  <thead>\n    <tr style=\"text-align: right;\">\n      <th></th>\n      <th>estabelecimento_valor</th>\n      <th>estabelecimento_razaoSocial</th>\n      <th>estalecimento_noFantasia</th>\n      <th>estabelecimento_municipio_codigo</th>\n      <th>estabelecimento_municipio_nome</th>\n      <th>estabelecimento_uf</th>\n    </tr>\n  </thead>\n  <tbody>\n    <tr>\n      <th>2</th>\n      <td>2001349</td>\n      <td>PREFEITURA MUNICIPAL DE BRASILEIA</td>\n      <td>ESF TUFIC MIZAEL SAADY</td>\n      <td>120010</td>\n      <td>BRASILEIA</td>\n      <td>AC</td>\n    </tr>\n    <tr>\n      <th>4</th>\n      <td>3810771</td>\n      <td>PREFEITURA MUNICIPAL DE TARAUACA</td>\n      <td>UNIDADE DE S DA FAMILIA DR JOSE LEONCIO GOMES ...</td>\n      <td>120060</td>\n      <td>TARAUACA</td>\n      <td>AC</td>\n    </tr>\n    <tr>\n      <th>7</th>\n      <td>2000482</td>\n      <td>PREFEITURA MUNICIPAL DE RIO BRANCO</td>\n      <td>URAP VILA IVONETE</td>\n      <td>120040</td>\n      <td>RIO BRANCO</td>\n      <td>AC</td>\n    </tr>\n    <tr>\n      <th>12</th>\n      <td>2003066</td>\n      <td>PREFEITURA MUNICIPAL DE ASSIS BRASIL</td>\n      <td>UNIDADE BASICA DE SAUDE TEREZINHA BATISTA DOS ...</td>\n      <td>120005</td>\n      <td>ASSIS BRASIL</td>\n      <td>AC</td>\n    </tr>\n    <tr>\n      <th>13</th>\n      <td>2000040</td>\n      <td>PREFEITURA MUNICIPAL DE FEIJO</td>\n      <td>CENTRO DE SAUDE DIAMANTINO MACEDO</td>\n      <td>120030</td>\n      <td>FEIJO</td>\n      <td>AC</td>\n    </tr>\n    <tr>\n      <th>...</th>\n      <td>...</td>\n      <td>...</td>\n      <td>...</td>\n      <td>...</td>\n      <td>...</td>\n      <td>...</td>\n    </tr>\n    <tr>\n      <th>219137</th>\n      <td>7123043</td>\n      <td>PREFEITURA MUNICIPAL DE JORDAO</td>\n      <td>SAUDE DA FAMILIA RIBEIRINHA</td>\n      <td>120032</td>\n      <td>JORDAO</td>\n      <td>AC</td>\n    </tr>\n    <tr>\n      <th>223153</th>\n      <td>7565534</td>\n      <td>MUNICIPIO DE RIO BRANCO</td>\n      <td>USF LUANA FREITAS I</td>\n      <td>120040</td>\n      <td>RIO BRANCO</td>\n      <td>AC</td>\n    </tr>\n    <tr>\n      <th>245926</th>\n      <td>3015483</td>\n      <td>PREFEITURA MUNICIPAL DE RIO BRANCO</td>\n      <td>USF ANTENOR RAMOS II</td>\n      <td>120040</td>\n      <td>RIO BRANCO</td>\n      <td>AC</td>\n    </tr>\n    <tr>\n      <th>250885</th>\n      <td>2001357</td>\n      <td>SECRETARIA MUNICIPAL DE SAUDE DE BRASILEIA</td>\n      <td>ESF PEDRO OLIVEIRA DE SOUZA</td>\n      <td>120010</td>\n      <td>BRASILEIA</td>\n      <td>AC</td>\n    </tr>\n    <tr>\n      <th>270326</th>\n      <td>3331784</td>\n      <td>MUNICIPIO DE RIO BRANCO</td>\n      <td>USF MARIA VERONICA II</td>\n      <td>120040</td>\n      <td>RIO BRANCO</td>\n      <td>AC</td>\n    </tr>\n  </tbody>\n</table>\n<p>169 rows × 6 columns</p>\n</div>"
     },
     "execution_count": 84,
     "metadata": {},
     "output_type": "execute_result"
    }
   ],
   "source": [
    "# 5)\n",
    "df_menor_lista = df_menor_lista.drop_duplicates()\n",
    "df_menor_lista"
   ]
  }
 ],
 "metadata": {
  "kernelspec": {
   "display_name": "Python 3",
   "language": "python",
   "name": "python3"
  },
  "language_info": {
   "codemirror_mode": {
    "name": "ipython",
    "version": 3
   },
   "file_extension": ".py",
   "mimetype": "text/x-python",
   "name": "python",
   "nbconvert_exporter": "python",
   "pygments_lexer": "ipython3",
   "version": "3.8.5"
  },
  "toc": {
   "base_numbering": 1,
   "nav_menu": {},
   "number_sections": false,
   "sideBar": true,
   "skip_h1_title": true,
   "title_cell": "Índice",
   "title_sidebar": "Conteúdo",
   "toc_cell": false,
   "toc_position": {},
   "toc_section_display": true,
   "toc_window_display": false
  },
  "varInspector": {
   "cols": {
    "lenName": 16,
    "lenType": 16,
    "lenVar": 40
   },
   "kernels_config": {
    "python": {
     "delete_cmd_postfix": "",
     "delete_cmd_prefix": "del ",
     "library": "var_list.py",
     "varRefreshCmd": "print(var_dic_list())"
    },
    "r": {
     "delete_cmd_postfix": ") ",
     "delete_cmd_prefix": "rm(",
     "library": "var_list.r",
     "varRefreshCmd": "cat(var_dic_list()) "
    }
   },
   "types_to_exclude": [
    "module",
    "function",
    "builtin_function_or_method",
    "instance",
    "_Feature"
   ],
   "window_display": false
  }
 },
 "nbformat": 4,
 "nbformat_minor": 4
}
