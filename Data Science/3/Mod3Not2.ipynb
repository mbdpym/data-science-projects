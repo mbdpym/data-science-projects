{
 "cells": [
  {
   "cell_type": "markdown",
   "metadata": {},
   "source": [
    "# MÓDULO 3 - JUPYTER NOTEBOOK 2"
   ]
  },
  {
   "cell_type": "markdown",
   "metadata": {},
   "source": [
    "# Aula 5 - Pacotes e NumPy"
   ]
  },
  {
   "cell_type": "markdown",
   "metadata": {},
   "source": [
    "## 1.1 Carregando módulos ``import``\n"
   ]
  },
  {
   "cell_type": "code",
   "execution_count": 1,
   "metadata": {
    "ExecuteTime": {
     "end_time": "2023-12-23T23:03:57.248553300Z",
     "start_time": "2023-12-23T23:03:57.223669800Z"
    }
   },
   "outputs": [
    {
     "data": {
      "text/plain": "-1.0"
     },
     "execution_count": 1,
     "metadata": {},
     "output_type": "execute_result"
    }
   ],
   "source": [
    "import math\n",
    "math.cos(math.pi)"
   ]
  },
  {
   "cell_type": "code",
   "execution_count": 2,
   "metadata": {
    "ExecuteTime": {
     "end_time": "2023-12-23T23:03:57.324835400Z",
     "start_time": "2023-12-23T23:03:57.229053100Z"
    }
   },
   "outputs": [
    {
     "data": {
      "text/plain": "-1.0"
     },
     "execution_count": 2,
     "metadata": {},
     "output_type": "execute_result"
    }
   ],
   "source": [
    "import numpy as np\n",
    "np.cos(np.pi)"
   ]
  },
  {
   "cell_type": "code",
   "execution_count": 3,
   "metadata": {
    "ExecuteTime": {
     "end_time": "2023-12-23T23:03:57.325839400Z",
     "start_time": "2023-12-23T23:03:57.315147500Z"
    }
   },
   "outputs": [
    {
     "data": {
      "text/plain": "-1.0"
     },
     "execution_count": 3,
     "metadata": {},
     "output_type": "execute_result"
    }
   ],
   "source": [
    "from math import cos, pi\n",
    "cos(pi)"
   ]
  },
  {
   "cell_type": "code",
   "execution_count": 4,
   "metadata": {
    "ExecuteTime": {
     "end_time": "2023-12-23T23:03:57.326839500Z",
     "start_time": "2023-12-23T23:03:57.316652600Z"
    }
   },
   "outputs": [
    {
     "data": {
      "text/plain": "1.0"
     },
     "execution_count": 4,
     "metadata": {},
     "output_type": "execute_result"
    }
   ],
   "source": [
    "from math import *\n",
    "sin(pi) ** 2 + cos(pi) ** 2"
   ]
  },
  {
   "cell_type": "code",
   "execution_count": 5,
   "metadata": {
    "ExecuteTime": {
     "end_time": "2023-12-23T23:03:57.345466Z",
     "start_time": "2023-12-23T23:03:57.324332600Z"
    }
   },
   "outputs": [],
   "source": [
    "from numpy import *"
   ]
  },
  {
   "cell_type": "markdown",
   "metadata": {},
   "source": [
    "Quando usamos o ``import *`` ele substitui todas as funções padrões do python pelas funções do módulo carregado, o que pode gerar um comportamento não esperado. Esse último comando ``from numpy import *`` substitui a função ``sum`` pela função ``numpy.sum`` e existe diferenças entre elas. Por isso o ``import *`` deve ser evitado."
   ]
  },
  {
   "cell_type": "markdown",
   "metadata": {},
   "source": [
    "## 1.2 Bibliotecas padrão do Python\n",
    "\n",
    "Documentação das bibliotecas padrão do Python: https://docs.python.org/pt-br/3/library/."
   ]
  },
  {
   "cell_type": "markdown",
   "metadata": {},
   "source": [
    "## 1.3 Instalando e importando módulos de terceiros\n",
    "\n",
    "Os módulos que não são padrão do Python podem ser usados da mesma forma que os módulos padrão, mas antes disso devem ser instalados na nossa máquina.\n",
    "\n",
    "Para isso, podemos utilizar o seguinte comando no CMD:\n",
    "``` \n",
    "$ pip install nome_do_pacote\n",
    "```\n",
    "``pip`` é um comando que automaticamente baixa e instala os pacotes listados no PyPI (*Python Package Index*), que contém um repositório de módulos.  \n",
    "\n",
    "Após a instalação do módulo, a utilização dentro do jupyter notebook é igual ao das bibliotecas padrão usando o ``import``\n",
    "\n",
    "Para mais informações sobre o PyPI, acesse o site: http://pypi.python.org/."
   ]
  },
  {
   "cell_type": "markdown",
   "metadata": {
    "ExecuteTime": {
     "end_time": "2021-04-29T00:15:49.568234Z",
     "start_time": "2021-04-29T00:15:49.564235Z"
    }
   },
   "source": [
    "## 2.0 NumPy"
   ]
  },
  {
   "cell_type": "markdown",
   "metadata": {},
   "source": [
    "Exemplo e texto adaptado de: https://numpy.org/"
   ]
  },
  {
   "cell_type": "markdown",
   "metadata": {},
   "source": [
    "NumPy é o pacote essencial para computação científica em Python. É uma biblioteca Python que fornece um objeto array multidimensional (vetores e matrizes) e uma variedade de rotinas para operações rápidas.\n",
    "\n",
    "A principal parte do pacote NumPy é o objeto NDArray, que é um conjunto de dados n-dimensional de tipos iguais. Possui um desempenho superior se comparado às sequencias padrão do Python (lista, tupla, etc), pois as operações são realizadas em códigos compilados. Outras diferenças são:\n",
    "\n",
    "Os arrays NumPy são de tamanho fixo e as listas não. \n",
    "\n",
    "Os elementos dos arrays NumPy devem ser todos do mesmo tipo e na lista podem ter tipos diferentes.\n",
    "\n",
    "Os arrays NumPy facilitam operações matemáticas em uma grande quantidade de dados. Normalmente, essas operações são executadas de forma mais eficiente e com menos código do que é possível usando as sequências do Python.\n",
    "\n",
    "**Exemplo simples**\n",
    "\n",
    "**Usando listas:**"
   ]
  },
  {
   "cell_type": "code",
   "execution_count": 6,
   "metadata": {
    "ExecuteTime": {
     "end_time": "2023-12-23T23:03:57.353290900Z",
     "start_time": "2023-12-23T23:03:57.326839500Z"
    }
   },
   "outputs": [],
   "source": [
    "lst_a = [1, 2, 3, 4, 5]\n",
    "lst_b = [6, 7, 8, 9, 10]"
   ]
  },
  {
   "cell_type": "code",
   "execution_count": 7,
   "metadata": {
    "ExecuteTime": {
     "end_time": "2023-12-23T23:03:57.354791100Z",
     "start_time": "2023-12-23T23:03:57.330057900Z"
    }
   },
   "outputs": [
    {
     "data": {
      "text/plain": "[6, 14, 24, 36, 50]"
     },
     "execution_count": 7,
     "metadata": {},
     "output_type": "execute_result"
    }
   ],
   "source": [
    "lst_c = []\n",
    "for i in range(len(lst_a)):\n",
    "    lst_c.append(lst_a[i]*lst_b[i])\n",
    "lst_c"
   ]
  },
  {
   "cell_type": "markdown",
   "metadata": {},
   "source": [
    "**Usando NumPy:**"
   ]
  },
  {
   "cell_type": "code",
   "execution_count": 8,
   "metadata": {
    "ExecuteTime": {
     "end_time": "2023-12-23T23:03:57.355790300Z",
     "start_time": "2023-12-23T23:03:57.334059300Z"
    }
   },
   "outputs": [],
   "source": [
    "array_a = np.array(lst_a)\n",
    "array_b = np.array(lst_b)"
   ]
  },
  {
   "cell_type": "code",
   "execution_count": 9,
   "metadata": {
    "ExecuteTime": {
     "end_time": "2023-12-23T23:03:57.409935Z",
     "start_time": "2023-12-23T23:03:57.336367400Z"
    }
   },
   "outputs": [
    {
     "data": {
      "text/plain": "array([ 6, 14, 24, 36, 50])"
     },
     "execution_count": 9,
     "metadata": {},
     "output_type": "execute_result"
    }
   ],
   "source": [
    "array_c = array_a * array_b\n",
    "array_c"
   ]
  },
  {
   "cell_type": "markdown",
   "metadata": {},
   "source": [
    "___"
   ]
  },
  {
   "cell_type": "markdown",
   "metadata": {},
   "source": [
    "# Aula 6 - NDArrays (*N-dimensional array*)"
   ]
  },
  {
   "cell_type": "markdown",
   "metadata": {
    "ExecuteTime": {
     "end_time": "2021-04-29T00:15:49.568234Z",
     "start_time": "2021-04-29T00:15:49.564235Z"
    }
   },
   "source": [
    "## 1.0 Criando NDarrays"
   ]
  },
  {
   "cell_type": "markdown",
   "metadata": {},
   "source": [
    "### 1.1 A partir de listas do Python ``np.array``\n"
   ]
  },
  {
   "cell_type": "code",
   "execution_count": 10,
   "metadata": {
    "ExecuteTime": {
     "end_time": "2023-12-23T23:03:57.412434700Z",
     "start_time": "2023-12-23T23:03:57.343460100Z"
    }
   },
   "outputs": [
    {
     "data": {
      "text/plain": "array([5, 2, 3, 4, 1])"
     },
     "execution_count": 10,
     "metadata": {},
     "output_type": "execute_result"
    }
   ],
   "source": [
    "np.array([5, 2, 3, 4, 1])"
   ]
  },
  {
   "cell_type": "code",
   "execution_count": 11,
   "metadata": {
    "ExecuteTime": {
     "end_time": "2023-12-23T23:03:57.414434300Z",
     "start_time": "2023-12-23T23:03:57.345466Z"
    }
   },
   "outputs": [
    {
     "data": {
      "text/plain": "array([5., 2., 3., 4., 1.])"
     },
     "execution_count": 11,
     "metadata": {},
     "output_type": "execute_result"
    }
   ],
   "source": [
    "# só aceita um tipo de dado, se houver diferentes tipos, é transformado em apenas 1.\n",
    "np.array([5, 2, 3, 4, 1.0])\n",
    "# np.array([5, 2, 3, 4, '1'])\n"
   ]
  },
  {
   "cell_type": "code",
   "execution_count": 12,
   "metadata": {
    "ExecuteTime": {
     "end_time": "2023-12-23T23:03:57.429093500Z",
     "start_time": "2023-12-23T23:03:57.350151600Z"
    }
   },
   "outputs": [
    {
     "data": {
      "text/plain": "array([5., 2., 3., 4., 1.], dtype=float32)"
     },
     "execution_count": 12,
     "metadata": {},
     "output_type": "execute_result"
    }
   ],
   "source": [
    "#podemos explicitar o tipo de dado na construção.\n",
    "np.array([5, 2, 3, 4, 1], dtype='float32')"
   ]
  },
  {
   "cell_type": "markdown",
   "metadata": {},
   "source": [
    "### 1.2 A partir de rotinas do NumPy ``np.zeros`` ``np.ones`` ``np.arrange`` ``np.random.randint``\n",
    "\n",
    "Nas aulas anteriores, para criarmos grandes listas do Python (todos os números pares até o 200), usamos as estruturas de repetição ``while`` e ``for``. \n",
    "\n",
    "Para criar grandes arrays podemos usar rotinas do NumPy."
   ]
  },
  {
   "cell_type": "code",
   "execution_count": 13,
   "metadata": {
    "ExecuteTime": {
     "end_time": "2023-12-23T23:03:57.432593Z",
     "start_time": "2023-12-23T23:03:57.354791100Z"
    }
   },
   "outputs": [
    {
     "data": {
      "text/plain": "array([0., 0., 0., 0., 0.])"
     },
     "execution_count": 13,
     "metadata": {},
     "output_type": "execute_result"
    }
   ],
   "source": [
    "#criando um vetor de zeros\n",
    "vetor_zeros = np.zeros(5)\n",
    "vetor_zeros"
   ]
  },
  {
   "cell_type": "code",
   "execution_count": 14,
   "metadata": {
    "scrolled": true,
    "ExecuteTime": {
     "end_time": "2023-12-23T23:03:57.442593800Z",
     "start_time": "2023-12-23T23:03:57.359695900Z"
    }
   },
   "outputs": [
    {
     "data": {
      "text/plain": "array([[0., 0., 0., 0., 0.],\n       [0., 0., 0., 0., 0.]])"
     },
     "execution_count": 14,
     "metadata": {},
     "output_type": "execute_result"
    }
   ],
   "source": [
    "#criando uma matriz de zeros\n",
    "matriz_zeros = np.zeros((2, 5))\n",
    "matriz_zeros"
   ]
  },
  {
   "cell_type": "code",
   "execution_count": 15,
   "metadata": {
    "ExecuteTime": {
     "end_time": "2023-12-23T23:03:57.444094Z",
     "start_time": "2023-12-23T23:03:57.366565700Z"
    }
   },
   "outputs": [
    {
     "data": {
      "text/plain": "array([ 2,  4,  6,  8, 10, 12, 14, 16, 18, 20])"
     },
     "execution_count": 15,
     "metadata": {},
     "output_type": "execute_result"
    }
   ],
   "source": [
    "#criando array dos numeros pares\n",
    "pares = np.arange(2, 22, 2)\n",
    "pares"
   ]
  },
  {
   "cell_type": "code",
   "execution_count": 16,
   "metadata": {
    "ExecuteTime": {
     "end_time": "2023-12-23T23:03:57.445092900Z",
     "start_time": "2023-12-23T23:03:57.370117900Z"
    }
   },
   "outputs": [
    {
     "data": {
      "text/plain": "array([[23.42505738, 88.75236244],\n       [74.09975084, 30.56098906],\n       [48.9774107 ,  6.182167  ]])"
     },
     "execution_count": 16,
     "metadata": {},
     "output_type": "execute_result"
    }
   ],
   "source": [
    "np.random.rand(3,2) * 100"
   ]
  },
  {
   "cell_type": "code",
   "execution_count": 17,
   "metadata": {
    "ExecuteTime": {
     "end_time": "2023-12-23T23:03:57.507267800Z",
     "start_time": "2023-12-23T23:03:57.416085800Z"
    }
   },
   "outputs": [
    {
     "data": {
      "text/plain": "array([[1, 2, 0],\n       [1, 4, 3],\n       [2, 3, 2]])"
     },
     "execution_count": 17,
     "metadata": {},
     "output_type": "execute_result"
    }
   ],
   "source": [
    "# Create a 3x3 array of random integers in the interval [0, 10)\n",
    "np.random.randint(5, size=(3, 3))"
   ]
  },
  {
   "cell_type": "markdown",
   "metadata": {},
   "source": [
    "More advanced type specification is possible, such as specifying big or little endian numbers; for more information, refer to the [NumPy documentation](http://numpy.org/).\n",
    "NumPy also supports compound data types, which will be covered in [Structured Data: NumPy's Structured Arrays](02.09-Structured-Data-NumPy.ipynb)."
   ]
  },
  {
   "cell_type": "markdown",
   "metadata": {
    "ExecuteTime": {
     "end_time": "2021-04-29T00:15:49.568234Z",
     "start_time": "2021-04-29T00:15:49.564235Z"
    }
   },
   "source": [
    "## 2.0 Aritmética com NDarrays "
   ]
  },
  {
   "cell_type": "code",
   "execution_count": 18,
   "metadata": {
    "ExecuteTime": {
     "end_time": "2023-12-23T23:03:57.528768300Z",
     "start_time": "2023-12-23T23:03:57.493760900Z"
    }
   },
   "outputs": [],
   "source": [
    "array_2 = np.array([2, 2, 2, 2, 2])\n",
    "array_10 = np.array([10, 10, 10, 10, 10])"
   ]
  },
  {
   "cell_type": "code",
   "execution_count": 19,
   "metadata": {
    "ExecuteTime": {
     "end_time": "2023-12-23T23:03:57.545185500Z",
     "start_time": "2023-12-23T23:03:57.530680Z"
    }
   },
   "outputs": [
    {
     "data": {
      "text/plain": "array([4, 4, 4, 4, 4])"
     },
     "execution_count": 19,
     "metadata": {},
     "output_type": "execute_result"
    }
   ],
   "source": [
    "array_2+2"
   ]
  },
  {
   "cell_type": "code",
   "execution_count": 20,
   "metadata": {
    "ExecuteTime": {
     "end_time": "2023-12-23T23:03:57.558021900Z",
     "start_time": "2023-12-23T23:03:57.546183900Z"
    }
   },
   "outputs": [
    {
     "data": {
      "text/plain": "array([12, 12, 12, 12, 12])"
     },
     "execution_count": 20,
     "metadata": {},
     "output_type": "execute_result"
    }
   ],
   "source": [
    "array_2+array_10"
   ]
  },
  {
   "cell_type": "code",
   "execution_count": 21,
   "metadata": {
    "ExecuteTime": {
     "end_time": "2023-12-23T23:03:57.578481300Z",
     "start_time": "2023-12-23T23:03:57.548695400Z"
    }
   },
   "outputs": [
    {
     "data": {
      "text/plain": "array([20, 20, 20, 20, 20])"
     },
     "execution_count": 21,
     "metadata": {},
     "output_type": "execute_result"
    }
   ],
   "source": [
    "array_2*array_10"
   ]
  },
  {
   "cell_type": "code",
   "execution_count": 22,
   "metadata": {
    "ExecuteTime": {
     "end_time": "2023-12-23T23:03:57.582989400Z",
     "start_time": "2023-12-23T23:03:57.560022300Z"
    }
   },
   "outputs": [
    {
     "data": {
      "text/plain": "array([5., 5., 5., 5., 5.])"
     },
     "execution_count": 22,
     "metadata": {},
     "output_type": "execute_result"
    }
   ],
   "source": [
    "array_10/array_2"
   ]
  },
  {
   "cell_type": "code",
   "execution_count": 23,
   "metadata": {
    "ExecuteTime": {
     "end_time": "2023-12-23T23:03:57.613402800Z",
     "start_time": "2023-12-23T23:03:57.584489200Z"
    }
   },
   "outputs": [
    {
     "data": {
      "text/plain": "array([100, 100, 100, 100, 100])"
     },
     "execution_count": 23,
     "metadata": {},
     "output_type": "execute_result"
    }
   ],
   "source": [
    "array_10**array_2"
   ]
  },
  {
   "cell_type": "code",
   "execution_count": 24,
   "metadata": {
    "ExecuteTime": {
     "end_time": "2023-12-23T23:03:57.625411100Z",
     "start_time": "2023-12-23T23:03:57.613402800Z"
    }
   },
   "outputs": [],
   "source": [
    "array_1a5 = np.array([1, 2, 3, 4, 5])"
   ]
  },
  {
   "cell_type": "code",
   "execution_count": 25,
   "metadata": {
    "ExecuteTime": {
     "end_time": "2023-12-23T23:03:57.636469800Z",
     "start_time": "2023-12-23T23:03:57.625665100Z"
    }
   },
   "outputs": [
    {
     "data": {
      "text/plain": "array([ 1,  4,  9, 16, 25])"
     },
     "execution_count": 25,
     "metadata": {},
     "output_type": "execute_result"
    }
   ],
   "source": [
    "array_1a5**array_2"
   ]
  },
  {
   "cell_type": "code",
   "execution_count": 26,
   "metadata": {
    "ExecuteTime": {
     "end_time": "2023-12-23T23:03:57.658612400Z",
     "start_time": "2023-12-23T23:03:57.628670500Z"
    }
   },
   "outputs": [
    {
     "data": {
      "text/plain": "array([ 1,  4,  9, 16, 25])"
     },
     "execution_count": 26,
     "metadata": {},
     "output_type": "execute_result"
    }
   ],
   "source": [
    "array_1a5**2"
   ]
  },
  {
   "cell_type": "markdown",
   "metadata": {},
   "source": [
    "# Aula 7 - Indexação e Matrizes"
   ]
  },
  {
   "cell_type": "markdown",
   "metadata": {
    "ExecuteTime": {
     "end_time": "2021-04-29T00:15:49.568234Z",
     "start_time": "2021-04-29T00:15:49.564235Z"
    }
   },
   "source": [
    "## 1.0 Indexação básica, indexação booleana e fatiamento "
   ]
  },
  {
   "cell_type": "code",
   "execution_count": 27,
   "metadata": {
    "ExecuteTime": {
     "end_time": "2023-12-23T23:03:57.673534200Z",
     "start_time": "2023-12-23T23:03:57.638971100Z"
    }
   },
   "outputs": [
    {
     "data": {
      "text/plain": "array([ 2,  3,  5,  7, 11])"
     },
     "execution_count": 27,
     "metadata": {},
     "output_type": "execute_result"
    }
   ],
   "source": [
    "array_primos = np.array([2, 3, 5, 7, 11])\n",
    "array_primos"
   ]
  },
  {
   "cell_type": "markdown",
   "metadata": {},
   "source": [
    "<img src=\"list-indexing.png\">\n",
    "\n",
    "https://github.com/jakevdp/WhirlwindTourOfPython/blob/master/fig/list-indexing.png"
   ]
  },
  {
   "cell_type": "code",
   "execution_count": 43,
   "metadata": {
    "ExecuteTime": {
     "end_time": "2023-12-23T23:04:45.705109800Z",
     "start_time": "2023-12-23T23:04:45.693092300Z"
    }
   },
   "outputs": [
    {
     "data": {
      "text/plain": "array([ 2,  3,  5,  7, 11])"
     },
     "execution_count": 43,
     "metadata": {},
     "output_type": "execute_result"
    }
   ],
   "source": [
    "#vamos praticar com alguns exemplos de indexação básica\n",
    "array_primos"
   ]
  },
  {
   "cell_type": "code",
   "execution_count": 52,
   "metadata": {
    "ExecuteTime": {
     "end_time": "2023-12-23T23:40:36.701969300Z",
     "start_time": "2023-12-23T23:40:36.663964200Z"
    }
   },
   "outputs": [
    {
     "data": {
      "text/plain": "[True, False, True, False, True]"
     },
     "execution_count": 52,
     "metadata": {},
     "output_type": "execute_result"
    }
   ],
   "source": [
    "bool_lista = [True, False, True, False, True]\n",
    "bool_lista"
   ]
  },
  {
   "cell_type": "code",
   "execution_count": 53,
   "metadata": {
    "ExecuteTime": {
     "end_time": "2023-12-23T23:40:37.856415400Z",
     "start_time": "2023-12-23T23:40:37.852882500Z"
    }
   },
   "outputs": [
    {
     "data": {
      "text/plain": "array([ 2,  5, 11])"
     },
     "execution_count": 53,
     "metadata": {},
     "output_type": "execute_result"
    }
   ],
   "source": [
    "# boolean list\n",
    "array_primos[bool_lista]"
   ]
  },
  {
   "cell_type": "code",
   "execution_count": 58,
   "metadata": {
    "ExecuteTime": {
     "end_time": "2023-12-23T23:41:36.509377Z",
     "start_time": "2023-12-23T23:41:36.476786600Z"
    }
   },
   "outputs": [
    {
     "data": {
      "text/plain": "array([5, 7])"
     },
     "execution_count": 58,
     "metadata": {},
     "output_type": "execute_result"
    }
   ],
   "source": [
    "#fatiamento\n",
    "array_primos[2:4]"
   ]
  },
  {
   "cell_type": "markdown",
   "metadata": {
    "ExecuteTime": {
     "end_time": "2021-04-29T00:15:49.568234Z",
     "start_time": "2021-04-29T00:15:49.564235Z"
    }
   },
   "source": [
    "## 2.0 Matrizes"
   ]
  },
  {
   "cell_type": "markdown",
   "metadata": {
    "ExecuteTime": {
     "end_time": "2021-05-18T01:33:28.094319Z",
     "start_time": "2021-05-18T01:33:28.086322Z"
    }
   },
   "source": [
    "|  Dívida financeira | Renda familiar |\n",
    "|:----:|:---|\n",
    "| 1000 | 6000 |\n",
    "| 2500 | 5500 |\n",
    "| 3000 | 7000 |"
   ]
  },
  {
   "cell_type": "code",
   "execution_count": 59,
   "metadata": {
    "ExecuteTime": {
     "end_time": "2023-12-23T23:44:15.892150400Z",
     "start_time": "2023-12-23T23:44:15.879416600Z"
    }
   },
   "outputs": [
    {
     "data": {
      "text/plain": "array([[1000, 6000],\n       [2500, 5500],\n       [3000, 7000]])"
     },
     "execution_count": 59,
     "metadata": {},
     "output_type": "execute_result"
    }
   ],
   "source": [
    "matriz_3x2 = np.array([[1000,6000], [2500, 5500], [3000, 7000]])\n",
    "matriz_3x2"
   ]
  },
  {
   "cell_type": "code",
   "execution_count": 60,
   "metadata": {
    "ExecuteTime": {
     "end_time": "2023-12-23T23:44:46.858437500Z",
     "start_time": "2023-12-23T23:44:46.846797300Z"
    }
   },
   "outputs": [
    {
     "data": {
      "text/plain": "array([6.        , 2.2       , 2.33333333])"
     },
     "execution_count": 60,
     "metadata": {},
     "output_type": "execute_result"
    }
   ],
   "source": [
    "matriz_3x2[:,1]/matriz_3x2[:,0]"
   ]
  },
  {
   "cell_type": "markdown",
   "metadata": {},
   "source": [
    "___"
   ]
  },
  {
   "cell_type": "markdown",
   "metadata": {},
   "source": [
    "# Aula 8 - Construindo e usando funções"
   ]
  },
  {
   "cell_type": "markdown",
   "metadata": {},
   "source": [
    "## 1.0 Algumas funções nativas\n",
    "\n",
    "Já utilizamos diversas funções nativas como: \n",
    "\n",
    "- A função **print()** que é útil para retornar resultados no output do *jupyter notebook*. \n",
    "- A função **len()** que retorna o tamanho de uma string ou lista.\n",
    "- A função **type()** que retorna o tipo de dado.\n",
    "- As funções **int(), float(), bool() e str()** retornam o argumento inserido na forma de um int, float, bool ou str, respectivamente."
   ]
  },
  {
   "cell_type": "markdown",
   "metadata": {},
   "source": [
    "### 1.1 A documentação do Python contém uma [lista](https://docs.python.org/pt-br/3/library/functions.html) de todas as funções nativas (built-in-functions)."
   ]
  },
  {
   "cell_type": "markdown",
   "metadata": {},
   "source": [
    "## 2.0 Escrevendo uma função ``def``"
   ]
  },
  {
   "cell_type": "markdown",
   "metadata": {},
   "source": [
    "Uma boa maneira de organizar, deixar mais legível e mais reutilizável os códigos em python é tornando-os uma função. Vamos cobrir esse tema agora e mostrar 2 maneiras de construir uma função."
   ]
  },
  {
   "cell_type": "markdown",
   "metadata": {},
   "source": [
    "### Fórmula IMC"
   ]
  },
  {
   "cell_type": "markdown",
   "metadata": {},
   "source": [
    "$$IMC = \\frac{PESO}{ALTURA*ALTURA}$$\n",
    "Sendo peso em kg e a altura em metro\n"
   ]
  },
  {
   "cell_type": "code",
   "execution_count": 61,
   "metadata": {
    "ExecuteTime": {
     "end_time": "2023-12-24T00:29:53.924130600Z",
     "start_time": "2023-12-24T00:29:53.885066200Z"
    }
   },
   "outputs": [
    {
     "data": {
      "text/plain": "24.930747922437675"
     },
     "execution_count": 61,
     "metadata": {},
     "output_type": "execute_result"
    }
   ],
   "source": [
    "90/(1.90*1.90)"
   ]
  },
  {
   "cell_type": "code",
   "execution_count": 62,
   "metadata": {
    "ExecuteTime": {
     "end_time": "2023-12-24T00:29:57.822832900Z",
     "start_time": "2023-12-24T00:29:57.812319100Z"
    }
   },
   "outputs": [],
   "source": [
    "def calcula_IMC_lucas():\n",
    "    return 90/(1.90*1.90)"
   ]
  },
  {
   "cell_type": "code",
   "execution_count": 36,
   "metadata": {
    "ExecuteTime": {
     "end_time": "2023-12-23T23:03:57.905497600Z",
     "start_time": "2023-12-23T23:03:57.870594600Z"
    }
   },
   "outputs": [
    {
     "data": {
      "text/plain": "24.930747922437675"
     },
     "execution_count": 36,
     "metadata": {},
     "output_type": "execute_result"
    }
   ],
   "source": [
    "calcula_IMC_lucas()"
   ]
  },
  {
   "cell_type": "code",
   "execution_count": 69,
   "metadata": {
    "ExecuteTime": {
     "end_time": "2023-12-24T00:31:52.893010Z",
     "start_time": "2023-12-24T00:31:52.854732600Z"
    }
   },
   "outputs": [],
   "source": [
    "def calcula_IMC(peso,altura):\n",
    "    imc = round(peso/(altura**2),2)\n",
    "    return imc"
   ]
  },
  {
   "cell_type": "code",
   "execution_count": 70,
   "metadata": {
    "ExecuteTime": {
     "end_time": "2023-12-24T00:31:54.367064700Z",
     "start_time": "2023-12-24T00:31:54.354366300Z"
    }
   },
   "outputs": [
    {
     "data": {
      "text/plain": "24.93"
     },
     "execution_count": 70,
     "metadata": {},
     "output_type": "execute_result"
    }
   ],
   "source": [
    "calcula_IMC(90,1.90)"
   ]
  },
  {
   "cell_type": "markdown",
   "metadata": {
    "ExecuteTime": {
     "end_time": "2021-05-08T07:09:55.490063Z",
     "start_time": "2021-05-08T07:09:55.482077Z"
    }
   },
   "source": [
    "- Muito abaixo do peso: 16 a 16,9 kg/m2\n",
    "- Abaixo do peso: 17 a 18,4 kg/m2\n",
    "- Peso normal: 18,5 a 24,9 kg/m2\n",
    "- Acima do peso: 25 a 29,9 kg/m2"
   ]
  },
  {
   "cell_type": "code",
   "execution_count": 71,
   "metadata": {
    "ExecuteTime": {
     "end_time": "2023-12-24T00:32:16.342217900Z",
     "start_time": "2023-12-24T00:32:16.329678900Z"
    }
   },
   "outputs": [],
   "source": [
    "def calcula_IMC(peso,altura):\n",
    "    imc = peso/(altura*altura)\n",
    "    if imc < 17:\n",
    "        print('Muito abaixo do peso')\n",
    "    elif imc < 18.5:\n",
    "        print('Abaixo do peso')\n",
    "    elif imc < 25:\n",
    "        print('Peso normal')\n",
    "    else:\n",
    "        print('Acima do peso')\n",
    "    return imc"
   ]
  },
  {
   "cell_type": "code",
   "execution_count": 74,
   "metadata": {
    "ExecuteTime": {
     "end_time": "2023-12-24T00:32:44.018551Z",
     "start_time": "2023-12-24T00:32:43.984017Z"
    }
   },
   "outputs": [
    {
     "name": "stdout",
     "output_type": "stream",
     "text": [
      "Acima do peso\n"
     ]
    }
   ],
   "source": [
    "resultado_imc = calcula_IMC(100, 1.90)"
   ]
  },
  {
   "cell_type": "code",
   "execution_count": 75,
   "metadata": {
    "ExecuteTime": {
     "end_time": "2023-12-24T00:37:19.241664600Z",
     "start_time": "2023-12-24T00:37:19.237158300Z"
    }
   },
   "outputs": [
    {
     "data": {
      "text/plain": "27.70083102493075"
     },
     "execution_count": 75,
     "metadata": {},
     "output_type": "execute_result"
    }
   ],
   "source": [
    "resultado_imc"
   ]
  },
  {
   "cell_type": "code",
   "execution_count": 42,
   "metadata": {
    "ExecuteTime": {
     "end_time": "2023-12-23T23:03:58.150474900Z",
     "start_time": "2023-12-23T23:03:57.981030900Z"
    }
   },
   "outputs": [
    {
     "ename": "TypeError",
     "evalue": "calcula_IMC() missing 2 required positional arguments: 'peso' and 'altura'",
     "output_type": "error",
     "traceback": [
      "\u001B[1;31m---------------------------------------------------------------------------\u001B[0m",
      "\u001B[1;31mTypeError\u001B[0m                                 Traceback (most recent call last)",
      "Cell \u001B[1;32mIn[42], line 1\u001B[0m\n\u001B[1;32m----> 1\u001B[0m \u001B[43mcalcula_IMC\u001B[49m\u001B[43m(\u001B[49m\u001B[43m)\u001B[49m\n",
      "\u001B[1;31mTypeError\u001B[0m: calcula_IMC() missing 2 required positional arguments: 'peso' and 'altura'"
     ]
    }
   ],
   "source": [
    "calcula_IMC() "
   ]
  },
  {
   "cell_type": "code",
   "execution_count": null,
   "metadata": {
    "ExecuteTime": {
     "end_time": "2023-12-23T23:03:58.167979400Z",
     "start_time": "2023-12-23T23:03:58.152475100Z"
    }
   },
   "outputs": [],
   "source": [
    "def calcula_IMC_com_default(peso=90, altura=1.90):\n",
    "    imc = peso / (altura * altura)\n",
    "    if imc < 17:\n",
    "        print('Muito abaixo do peso')\n",
    "    elif imc < 18.5:\n",
    "        print('Abaixo do peso')\n",
    "    elif imc < 25:\n",
    "        print('Peso normal')\n",
    "    else:\n",
    "        print('Acima do peso')\n",
    "    return imc"
   ]
  },
  {
   "cell_type": "code",
   "execution_count": null,
   "metadata": {
    "ExecuteTime": {
     "start_time": "2023-12-23T23:03:58.153976500Z"
    }
   },
   "outputs": [],
   "source": [
    "calcula_IMC_com_default()"
   ]
  },
  {
   "cell_type": "markdown",
   "metadata": {},
   "source": [
    "## 3.0 Escrevendo uma função ``lambda``"
   ]
  },
  {
   "cell_type": "code",
   "execution_count": 76,
   "metadata": {
    "ExecuteTime": {
     "end_time": "2023-12-24T00:41:22.759752400Z",
     "start_time": "2023-12-24T00:41:22.750686300Z"
    }
   },
   "outputs": [
    {
     "data": {
      "text/plain": "24.930747922437675"
     },
     "execution_count": 76,
     "metadata": {},
     "output_type": "execute_result"
    }
   ],
   "source": [
    "calcula_imc_lambda = lambda peso, altura: peso/(altura*altura)\n",
    "calcula_imc_lambda(90, 1.90)"
   ]
  },
  {
   "cell_type": "markdown",
   "metadata": {},
   "source": [
    "**Equivalente à:**"
   ]
  },
  {
   "cell_type": "code",
   "execution_count": 77,
   "metadata": {
    "ExecuteTime": {
     "end_time": "2023-12-24T00:42:39.805558500Z",
     "start_time": "2023-12-24T00:42:39.791930300Z"
    }
   },
   "outputs": [
    {
     "data": {
      "text/plain": "24.930747922437675"
     },
     "execution_count": 77,
     "metadata": {},
     "output_type": "execute_result"
    }
   ],
   "source": [
    "def calcula_IMC_def(peso,altura):\n",
    "    return peso/(altura*altura)\n",
    "calcula_IMC_def(90, 1.90)"
   ]
  },
  {
   "cell_type": "markdown",
   "metadata": {},
   "source": [
    "## 4.0 Métodos\n",
    "\n",
    "Métodos são funções associadas à classe do objeto, e são chamadas como ```<nome_do_objeto>.<nome_do_método>```. Por exemplo, se você tem uma variável que contém um string chamada exemplo_texto, você pode chamar o método ```lower()``` da seguinte forma: ```exemplo_texto.lower()```\n"
   ]
  },
  {
   "cell_type": "code",
   "execution_count": 78,
   "metadata": {
    "ExecuteTime": {
     "end_time": "2023-12-24T00:45:16.007570300Z",
     "start_time": "2023-12-24T00:45:16.000559200Z"
    }
   },
   "outputs": [
    {
     "data": {
      "text/plain": "'r. saturnino de brito, 74'"
     },
     "execution_count": 78,
     "metadata": {},
     "output_type": "execute_result"
    }
   ],
   "source": [
    "exemplo_texto = \"R. Saturnino de Brito, 74\"\n",
    "exemplo_texto.lower()"
   ]
  },
  {
   "cell_type": "markdown",
   "metadata": {},
   "source": [
    "### 4.1 Métodos de *str*\n",
    "\n",
    "Sendo ```meu_string```uma variável tipo string, todos os métodos abaixo são usados na forma ```meu_string.método()```. Alguns deles requerem ou têm como opcional um parâmetro dentro dos parêntesis, como o método ```meu_string.count('abc')```, que conta o número de ocorrências do string 'abc' dentro da variável ```meu_string```. \n",
    "\n",
    "Como os métodos e funções disponíveis são muitos, o aprendizado depende fortemente do contato e experiência com eles, então pratique sempre que tiver a oportunidade.\n",
    "\n",
    "\n",
    "Observe que strings são dados **imutáveis**, isso significa que seu conteúdo não pode ser alterado sem construir uma variável completamente nova. Portanto, métodos de strings sempre retornam uma cópia da variável original alterada. Abaixo listamos alguns métodos de string que selecionamos:\n",
    "\n",
    "- meu_string.**lower**(): retorna uma cópia de ```meu_string``` em letras minúsculas.\n",
    "- meu_string.**upper**(): retorna uma cópia de ```meu_string``` em letras maiúsculas.\n",
    "- meu_string.**capitalize**(): retorna uma cópia de ```meu_string``` com a primeira letra maiúscula.\n",
    "- meu_string.**count**(substring): conta quantas vezes a sequencia ```substring``` aparece em ```meu_string```\n",
    "- meu_string.**endswith**(sufixo): retorna um *boolean* conforme ```meu_string```inicia com a sequencia de ```sufixo```\n",
    "- meu_string.**find**(): retorna a posição em que ```sub``` ocorre dentro de ```meu_string```. **Nota:** Se você quer verificar se ```sub``` ocorre dentro de ```meu_string```, utilize a construção ```sub in meu_string```.\n",
    "\n",
    "**OBS:** Na [documentação do Python](https://docs.python.org/pt-br/3/library/stdtypes.html) você encontra todos os métodos de *str* nativos disponíveis. Além disso, haverão outros ainda que se mostrarão úteis e que serão carregados com pacotes específicos do Python."
   ]
  },
  {
   "cell_type": "code",
   "execution_count": 79,
   "metadata": {
    "ExecuteTime": {
     "end_time": "2023-12-24T00:46:38.308090800Z",
     "start_time": "2023-12-24T00:46:38.295580700Z"
    }
   },
   "outputs": [
    {
     "data": {
      "text/plain": "'NÃO SÃO PEDRAS'"
     },
     "execution_count": 79,
     "metadata": {},
     "output_type": "execute_result"
    }
   ],
   "source": [
    "meu_string = \"Não são pedras\"\n",
    "meu_string.upper()"
   ]
  },
  {
   "cell_type": "code",
   "execution_count": 81,
   "metadata": {
    "ExecuteTime": {
     "end_time": "2023-12-24T00:46:43.430782900Z",
     "start_time": "2023-12-24T00:46:43.418941500Z"
    }
   },
   "outputs": [
    {
     "data": {
      "text/plain": "'não são pedras'"
     },
     "execution_count": 81,
     "metadata": {},
     "output_type": "execute_result"
    }
   ],
   "source": [
    "meu_string = \"Não são pedras\"\n",
    "meu_string.casefold()"
   ]
  },
  {
   "cell_type": "code",
   "execution_count": 80,
   "metadata": {
    "ExecuteTime": {
     "end_time": "2023-12-24T00:46:41.276603300Z",
     "start_time": "2023-12-24T00:46:41.271594300Z"
    }
   },
   "outputs": [
    {
     "data": {
      "text/plain": "2"
     },
     "execution_count": 80,
     "metadata": {},
     "output_type": "execute_result"
    }
   ],
   "source": [
    "meu_string = \"Não são pedras\"\n",
    "meu_string.count('o')"
   ]
  },
  {
   "cell_type": "markdown",
   "metadata": {
    "heading_collapsed": true
   },
   "source": [
    "# ATIVIDADE 2"
   ]
  },
  {
   "cell_type": "markdown",
   "metadata": {
    "hidden": true
   },
   "source": [
    "Você tem duas strings: ```nome_campo``` e ```nome_cadastro```, uma delas veio através de um campo preenchido pelo usuário, e a outra veio de uma tabela cadastral do sistema. Escreva uma função que compara as duas retornando ```True``` caso sejam iguais e ```False```caso sejam diferentes, sem considerar diferenças de maiúsculas e minúsculas utilizando um dos métodos vistos."
   ]
  },
  {
   "cell_type": "code",
   "execution_count": null,
   "metadata": {
    "hidden": true,
    "ExecuteTime": {
     "start_time": "2023-12-23T23:03:58.162475700Z"
    }
   },
   "outputs": [],
   "source": [
    "def compara_nome(nome_campo, nome_sistema):\n",
    "    pass"
   ]
  },
  {
   "cell_type": "markdown",
   "metadata": {
    "hidden": true
   },
   "source": [
    "Tendo como input ```nome```, ```sobrenome``` e ```nome completo```, escreva duas funções que:\n",
    "a) identifiquem se o nome e sobrenome estão contidos no nome completo\n",
    "b) dado verdadeiro na anterior, retorne ```True``` se o nome completo está no formato de citação (sobrenome antes do nome) e ```False``` caso contrário."
   ]
  },
  {
   "cell_type": "code",
   "execution_count": null,
   "metadata": {
    "hidden": true,
    "ExecuteTime": {
     "start_time": "2023-12-23T23:03:58.163475800Z"
    }
   },
   "outputs": [],
   "source": []
  }
 ],
 "metadata": {
  "kernelspec": {
   "display_name": "Python 3",
   "language": "python",
   "name": "python3"
  },
  "language_info": {
   "codemirror_mode": {
    "name": "ipython",
    "version": 3
   },
   "file_extension": ".py",
   "mimetype": "text/x-python",
   "name": "python",
   "nbconvert_exporter": "python",
   "pygments_lexer": "ipython3",
   "version": "3.8.5"
  },
  "varInspector": {
   "cols": {
    "lenName": 16,
    "lenType": 16,
    "lenVar": 40
   },
   "kernels_config": {
    "python": {
     "delete_cmd_postfix": "",
     "delete_cmd_prefix": "del ",
     "library": "var_list.py",
     "varRefreshCmd": "print(var_dic_list())"
    },
    "r": {
     "delete_cmd_postfix": ") ",
     "delete_cmd_prefix": "rm(",
     "library": "var_list.r",
     "varRefreshCmd": "cat(var_dic_list()) "
    }
   },
   "types_to_exclude": [
    "module",
    "function",
    "builtin_function_or_method",
    "instance",
    "_Feature"
   ],
   "window_display": false
  }
 },
 "nbformat": 4,
 "nbformat_minor": 4
}
