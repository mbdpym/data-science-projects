{
 "cells": [
  {
   "cell_type": "markdown",
   "metadata": {},
   "source": [
    "# Valores únicos, contadores"
   ]
  },
  {
   "cell_type": "code",
   "execution_count": 1,
   "metadata": {
    "ExecuteTime": {
     "end_time": "2023-12-28T02:50:54.562384400Z",
     "start_time": "2023-12-28T02:50:54.028931900Z"
    }
   },
   "outputs": [],
   "source": [
    "import pandas as pd"
   ]
  },
  {
   "cell_type": "markdown",
   "metadata": {},
   "source": [
    "## Aprovações do Sistema BNDES por UF\n",
    "link antigo: https://dados.gov.br/dataset/aprovacoes/resource/bbe8210d-e3b1-4db9-94c5-66cfc8ee2a0f\n",
    "\n",
    "link atual: https://dados.gov.br/dataset/aprovacoes/resource/08f7a11c-48e0-4d3e-9a75-d95641657ebf"
   ]
  },
  {
   "cell_type": "code",
   "execution_count": 3,
   "metadata": {
    "scrolled": true,
    "ExecuteTime": {
     "end_time": "2023-12-28T02:52:12.938564200Z",
     "start_time": "2023-12-28T02:52:12.629103200Z"
    }
   },
   "outputs": [
    {
     "data": {
      "text/plain": "      ano  mes       acre     amapa   amazonas        para    rondonia  \\\n0    1995    1   0.418697  0.000000   2.234138    1.846492    1.044738   \n1    1995    2   0.045784  0.000000   2.745178   42.480852    0.369604   \n2    1995    3   0.587931  0.000000   4.250384    7.072017    1.884923   \n3    1995    4   0.893061  0.000000   3.385635    2.735549    1.964266   \n4    1995    5   0.000000  0.000000   7.201345    2.859487    1.758269   \n..    ...  ...        ...       ...        ...         ...         ...   \n340  2023    5   2.952693  1.842530  15.829201   52.180195   44.460456   \n341  2023    6   5.821148  4.458555  42.331443  199.123505   65.064049   \n342  2023    7   7.319634  1.349429  22.263883  181.338485  112.433254   \n343  2023    8   9.206834  0.466352  30.058636  166.292920  153.332492   \n344  2023    9  43.728899  4.482470  14.427895  110.996158  140.431942   \n\n       roraima   tocantins    alagoas  ...  minas_gerais  rio_de_janeiro  \\\n0     0.000000    0.435302   3.903460  ...     24.211613      121.274922   \n1     0.000000    0.642143   2.293343  ...     26.779819       43.421296   \n2     0.079669    2.903664  22.916848  ...     40.389299       79.260814   \n3     0.000000    0.455802   3.145561  ...     26.271117       27.595696   \n4     0.276053    1.270201   1.558083  ...     35.180446       63.302042   \n..         ...         ...        ...  ...           ...             ...   \n340   5.847002   34.649592   7.256439  ...    508.350276      243.496904   \n341  10.664399  107.613563  11.040633  ...    871.818455     2025.596609   \n342  26.032269   86.860119   4.902156  ...   1377.054716      147.024067   \n343  14.249008  140.391289  14.792230  ...   2089.740627     3101.044907   \n344  14.479892  143.064461   4.735133  ...    961.250310      241.697108   \n\n        sao_paulo       parana  rio_grande_do_sul  santa_catarina  \\\n0      160.955111    44.503625          37.595270       35.303492   \n1      150.042871    30.004889         127.624211       25.617710   \n2      195.143627    67.249840          79.493329       61.316904   \n3      125.440473    82.144081          32.500986       34.564313   \n4      222.393671    81.679989          49.014672       39.639887   \n..            ...          ...                ...             ...   \n340    759.871708   738.884844         296.787042      348.970849   \n341   3344.938703  1339.239906        1649.367037      703.154743   \n342   2371.040690  2648.774818        2355.194997     1642.552755   \n343   5739.874755  2254.497994        3751.085840     1682.413540   \n344  13487.305534  1295.015059        1259.511263      795.528510   \n\n     distrito_federal       goias  mato_grosso  mato_grosso_do_sul  \n0            1.943748    8.347732    16.279153           10.268135  \n1            6.737180    4.228323    17.336139            2.984955  \n2            4.322117   17.286406    40.588880           15.208084  \n3           12.238900   55.164136    27.229890            9.656906  \n4            4.587146   33.507515    14.406460            6.617256  \n..                ...         ...          ...                 ...  \n340         24.628127  160.424947   634.090005           98.257537  \n341         17.431011  385.306329  1198.642791          283.365500  \n342         16.149698  645.502545  1356.730156          235.721839  \n343         13.495026  543.344318  1217.883746          332.986169  \n344         20.829333  377.353411   967.092649          183.587286  \n\n[345 rows x 29 columns]",
      "text/html": "<div>\n<style scoped>\n    .dataframe tbody tr th:only-of-type {\n        vertical-align: middle;\n    }\n\n    .dataframe tbody tr th {\n        vertical-align: top;\n    }\n\n    .dataframe thead th {\n        text-align: right;\n    }\n</style>\n<table border=\"1\" class=\"dataframe\">\n  <thead>\n    <tr style=\"text-align: right;\">\n      <th></th>\n      <th>ano</th>\n      <th>mes</th>\n      <th>acre</th>\n      <th>amapa</th>\n      <th>amazonas</th>\n      <th>para</th>\n      <th>rondonia</th>\n      <th>roraima</th>\n      <th>tocantins</th>\n      <th>alagoas</th>\n      <th>...</th>\n      <th>minas_gerais</th>\n      <th>rio_de_janeiro</th>\n      <th>sao_paulo</th>\n      <th>parana</th>\n      <th>rio_grande_do_sul</th>\n      <th>santa_catarina</th>\n      <th>distrito_federal</th>\n      <th>goias</th>\n      <th>mato_grosso</th>\n      <th>mato_grosso_do_sul</th>\n    </tr>\n  </thead>\n  <tbody>\n    <tr>\n      <th>0</th>\n      <td>1995</td>\n      <td>1</td>\n      <td>0.418697</td>\n      <td>0.000000</td>\n      <td>2.234138</td>\n      <td>1.846492</td>\n      <td>1.044738</td>\n      <td>0.000000</td>\n      <td>0.435302</td>\n      <td>3.903460</td>\n      <td>...</td>\n      <td>24.211613</td>\n      <td>121.274922</td>\n      <td>160.955111</td>\n      <td>44.503625</td>\n      <td>37.595270</td>\n      <td>35.303492</td>\n      <td>1.943748</td>\n      <td>8.347732</td>\n      <td>16.279153</td>\n      <td>10.268135</td>\n    </tr>\n    <tr>\n      <th>1</th>\n      <td>1995</td>\n      <td>2</td>\n      <td>0.045784</td>\n      <td>0.000000</td>\n      <td>2.745178</td>\n      <td>42.480852</td>\n      <td>0.369604</td>\n      <td>0.000000</td>\n      <td>0.642143</td>\n      <td>2.293343</td>\n      <td>...</td>\n      <td>26.779819</td>\n      <td>43.421296</td>\n      <td>150.042871</td>\n      <td>30.004889</td>\n      <td>127.624211</td>\n      <td>25.617710</td>\n      <td>6.737180</td>\n      <td>4.228323</td>\n      <td>17.336139</td>\n      <td>2.984955</td>\n    </tr>\n    <tr>\n      <th>2</th>\n      <td>1995</td>\n      <td>3</td>\n      <td>0.587931</td>\n      <td>0.000000</td>\n      <td>4.250384</td>\n      <td>7.072017</td>\n      <td>1.884923</td>\n      <td>0.079669</td>\n      <td>2.903664</td>\n      <td>22.916848</td>\n      <td>...</td>\n      <td>40.389299</td>\n      <td>79.260814</td>\n      <td>195.143627</td>\n      <td>67.249840</td>\n      <td>79.493329</td>\n      <td>61.316904</td>\n      <td>4.322117</td>\n      <td>17.286406</td>\n      <td>40.588880</td>\n      <td>15.208084</td>\n    </tr>\n    <tr>\n      <th>3</th>\n      <td>1995</td>\n      <td>4</td>\n      <td>0.893061</td>\n      <td>0.000000</td>\n      <td>3.385635</td>\n      <td>2.735549</td>\n      <td>1.964266</td>\n      <td>0.000000</td>\n      <td>0.455802</td>\n      <td>3.145561</td>\n      <td>...</td>\n      <td>26.271117</td>\n      <td>27.595696</td>\n      <td>125.440473</td>\n      <td>82.144081</td>\n      <td>32.500986</td>\n      <td>34.564313</td>\n      <td>12.238900</td>\n      <td>55.164136</td>\n      <td>27.229890</td>\n      <td>9.656906</td>\n    </tr>\n    <tr>\n      <th>4</th>\n      <td>1995</td>\n      <td>5</td>\n      <td>0.000000</td>\n      <td>0.000000</td>\n      <td>7.201345</td>\n      <td>2.859487</td>\n      <td>1.758269</td>\n      <td>0.276053</td>\n      <td>1.270201</td>\n      <td>1.558083</td>\n      <td>...</td>\n      <td>35.180446</td>\n      <td>63.302042</td>\n      <td>222.393671</td>\n      <td>81.679989</td>\n      <td>49.014672</td>\n      <td>39.639887</td>\n      <td>4.587146</td>\n      <td>33.507515</td>\n      <td>14.406460</td>\n      <td>6.617256</td>\n    </tr>\n    <tr>\n      <th>...</th>\n      <td>...</td>\n      <td>...</td>\n      <td>...</td>\n      <td>...</td>\n      <td>...</td>\n      <td>...</td>\n      <td>...</td>\n      <td>...</td>\n      <td>...</td>\n      <td>...</td>\n      <td>...</td>\n      <td>...</td>\n      <td>...</td>\n      <td>...</td>\n      <td>...</td>\n      <td>...</td>\n      <td>...</td>\n      <td>...</td>\n      <td>...</td>\n      <td>...</td>\n      <td>...</td>\n    </tr>\n    <tr>\n      <th>340</th>\n      <td>2023</td>\n      <td>5</td>\n      <td>2.952693</td>\n      <td>1.842530</td>\n      <td>15.829201</td>\n      <td>52.180195</td>\n      <td>44.460456</td>\n      <td>5.847002</td>\n      <td>34.649592</td>\n      <td>7.256439</td>\n      <td>...</td>\n      <td>508.350276</td>\n      <td>243.496904</td>\n      <td>759.871708</td>\n      <td>738.884844</td>\n      <td>296.787042</td>\n      <td>348.970849</td>\n      <td>24.628127</td>\n      <td>160.424947</td>\n      <td>634.090005</td>\n      <td>98.257537</td>\n    </tr>\n    <tr>\n      <th>341</th>\n      <td>2023</td>\n      <td>6</td>\n      <td>5.821148</td>\n      <td>4.458555</td>\n      <td>42.331443</td>\n      <td>199.123505</td>\n      <td>65.064049</td>\n      <td>10.664399</td>\n      <td>107.613563</td>\n      <td>11.040633</td>\n      <td>...</td>\n      <td>871.818455</td>\n      <td>2025.596609</td>\n      <td>3344.938703</td>\n      <td>1339.239906</td>\n      <td>1649.367037</td>\n      <td>703.154743</td>\n      <td>17.431011</td>\n      <td>385.306329</td>\n      <td>1198.642791</td>\n      <td>283.365500</td>\n    </tr>\n    <tr>\n      <th>342</th>\n      <td>2023</td>\n      <td>7</td>\n      <td>7.319634</td>\n      <td>1.349429</td>\n      <td>22.263883</td>\n      <td>181.338485</td>\n      <td>112.433254</td>\n      <td>26.032269</td>\n      <td>86.860119</td>\n      <td>4.902156</td>\n      <td>...</td>\n      <td>1377.054716</td>\n      <td>147.024067</td>\n      <td>2371.040690</td>\n      <td>2648.774818</td>\n      <td>2355.194997</td>\n      <td>1642.552755</td>\n      <td>16.149698</td>\n      <td>645.502545</td>\n      <td>1356.730156</td>\n      <td>235.721839</td>\n    </tr>\n    <tr>\n      <th>343</th>\n      <td>2023</td>\n      <td>8</td>\n      <td>9.206834</td>\n      <td>0.466352</td>\n      <td>30.058636</td>\n      <td>166.292920</td>\n      <td>153.332492</td>\n      <td>14.249008</td>\n      <td>140.391289</td>\n      <td>14.792230</td>\n      <td>...</td>\n      <td>2089.740627</td>\n      <td>3101.044907</td>\n      <td>5739.874755</td>\n      <td>2254.497994</td>\n      <td>3751.085840</td>\n      <td>1682.413540</td>\n      <td>13.495026</td>\n      <td>543.344318</td>\n      <td>1217.883746</td>\n      <td>332.986169</td>\n    </tr>\n    <tr>\n      <th>344</th>\n      <td>2023</td>\n      <td>9</td>\n      <td>43.728899</td>\n      <td>4.482470</td>\n      <td>14.427895</td>\n      <td>110.996158</td>\n      <td>140.431942</td>\n      <td>14.479892</td>\n      <td>143.064461</td>\n      <td>4.735133</td>\n      <td>...</td>\n      <td>961.250310</td>\n      <td>241.697108</td>\n      <td>13487.305534</td>\n      <td>1295.015059</td>\n      <td>1259.511263</td>\n      <td>795.528510</td>\n      <td>20.829333</td>\n      <td>377.353411</td>\n      <td>967.092649</td>\n      <td>183.587286</td>\n    </tr>\n  </tbody>\n</table>\n<p>345 rows × 29 columns</p>\n</div>"
     },
     "execution_count": 3,
     "metadata": {},
     "output_type": "execute_result"
    }
   ],
   "source": [
    "# LINK ANTIGO\n",
    "# pd.read_csv('https://dadosabertos.bndes.gov.br/dataset/bce5a865-e766-4a7a-b537-9499c81275b6/resource/bbe8210d-e3b1-4db9-94c5-66cfc8ee2a0f/download/aprovacoes-por-uf.csv', sep=';')\n",
    "\n",
    "# LINK ATUAL\n",
    "pd.read_csv('https://dadosabertos.bndes.gov.br/dataset/bce5a865-e766-4a7a-b537-9499c81275b6/resource/08f7a11c-48e0-4d3e-9a75-d95641657ebf/download/aprovacoes-por-uf-aprovacoes.csv', sep=';', decimal=',', parse_dates=True)"
   ]
  },
  {
   "cell_type": "code",
   "execution_count": 4,
   "metadata": {
    "ExecuteTime": {
     "end_time": "2023-12-28T02:52:59.687187900Z",
     "start_time": "2023-12-28T02:52:59.341561200Z"
    }
   },
   "outputs": [
    {
     "data": {
      "text/plain": "    ano  mes      acre  amapa  amazonas       para  rondonia   roraima  \\\n0  1995    1  0.418697    0.0  2.234138   1.846492  1.044738  0.000000   \n1  1995    2  0.045784    0.0  2.745178  42.480852  0.369604  0.000000   \n2  1995    3  0.587931    0.0  4.250384   7.072017  1.884923  0.079669   \n3  1995    4  0.893061    0.0  3.385635   2.735549  1.964266  0.000000   \n4  1995    5  0.000000    0.0  7.201345   2.859487  1.758269  0.276053   \n\n   tocantins    alagoas  ...  minas_gerais  rio_de_janeiro   sao_paulo  \\\n0   0.435302   3.903460  ...     24.211613      121.274922  160.955111   \n1   0.642143   2.293343  ...     26.779819       43.421296  150.042871   \n2   2.903664  22.916848  ...     40.389299       79.260814  195.143627   \n3   0.455802   3.145561  ...     26.271117       27.595696  125.440473   \n4   1.270201   1.558083  ...     35.180446       63.302042  222.393671   \n\n      parana  rio_grande_do_sul  santa_catarina  distrito_federal      goias  \\\n0  44.503625          37.595270       35.303492          1.943748   8.347732   \n1  30.004889         127.624211       25.617710          6.737180   4.228323   \n2  67.249840          79.493329       61.316904          4.322117  17.286406   \n3  82.144081          32.500986       34.564313         12.238900  55.164136   \n4  81.679989          49.014672       39.639887          4.587146  33.507515   \n\n   mato_grosso  mato_grosso_do_sul  \n0    16.279153           10.268135  \n1    17.336139            2.984955  \n2    40.588880           15.208084  \n3    27.229890            9.656906  \n4    14.406460            6.617256  \n\n[5 rows x 29 columns]",
      "text/html": "<div>\n<style scoped>\n    .dataframe tbody tr th:only-of-type {\n        vertical-align: middle;\n    }\n\n    .dataframe tbody tr th {\n        vertical-align: top;\n    }\n\n    .dataframe thead th {\n        text-align: right;\n    }\n</style>\n<table border=\"1\" class=\"dataframe\">\n  <thead>\n    <tr style=\"text-align: right;\">\n      <th></th>\n      <th>ano</th>\n      <th>mes</th>\n      <th>acre</th>\n      <th>amapa</th>\n      <th>amazonas</th>\n      <th>para</th>\n      <th>rondonia</th>\n      <th>roraima</th>\n      <th>tocantins</th>\n      <th>alagoas</th>\n      <th>...</th>\n      <th>minas_gerais</th>\n      <th>rio_de_janeiro</th>\n      <th>sao_paulo</th>\n      <th>parana</th>\n      <th>rio_grande_do_sul</th>\n      <th>santa_catarina</th>\n      <th>distrito_federal</th>\n      <th>goias</th>\n      <th>mato_grosso</th>\n      <th>mato_grosso_do_sul</th>\n    </tr>\n  </thead>\n  <tbody>\n    <tr>\n      <th>0</th>\n      <td>1995</td>\n      <td>1</td>\n      <td>0.418697</td>\n      <td>0.0</td>\n      <td>2.234138</td>\n      <td>1.846492</td>\n      <td>1.044738</td>\n      <td>0.000000</td>\n      <td>0.435302</td>\n      <td>3.903460</td>\n      <td>...</td>\n      <td>24.211613</td>\n      <td>121.274922</td>\n      <td>160.955111</td>\n      <td>44.503625</td>\n      <td>37.595270</td>\n      <td>35.303492</td>\n      <td>1.943748</td>\n      <td>8.347732</td>\n      <td>16.279153</td>\n      <td>10.268135</td>\n    </tr>\n    <tr>\n      <th>1</th>\n      <td>1995</td>\n      <td>2</td>\n      <td>0.045784</td>\n      <td>0.0</td>\n      <td>2.745178</td>\n      <td>42.480852</td>\n      <td>0.369604</td>\n      <td>0.000000</td>\n      <td>0.642143</td>\n      <td>2.293343</td>\n      <td>...</td>\n      <td>26.779819</td>\n      <td>43.421296</td>\n      <td>150.042871</td>\n      <td>30.004889</td>\n      <td>127.624211</td>\n      <td>25.617710</td>\n      <td>6.737180</td>\n      <td>4.228323</td>\n      <td>17.336139</td>\n      <td>2.984955</td>\n    </tr>\n    <tr>\n      <th>2</th>\n      <td>1995</td>\n      <td>3</td>\n      <td>0.587931</td>\n      <td>0.0</td>\n      <td>4.250384</td>\n      <td>7.072017</td>\n      <td>1.884923</td>\n      <td>0.079669</td>\n      <td>2.903664</td>\n      <td>22.916848</td>\n      <td>...</td>\n      <td>40.389299</td>\n      <td>79.260814</td>\n      <td>195.143627</td>\n      <td>67.249840</td>\n      <td>79.493329</td>\n      <td>61.316904</td>\n      <td>4.322117</td>\n      <td>17.286406</td>\n      <td>40.588880</td>\n      <td>15.208084</td>\n    </tr>\n    <tr>\n      <th>3</th>\n      <td>1995</td>\n      <td>4</td>\n      <td>0.893061</td>\n      <td>0.0</td>\n      <td>3.385635</td>\n      <td>2.735549</td>\n      <td>1.964266</td>\n      <td>0.000000</td>\n      <td>0.455802</td>\n      <td>3.145561</td>\n      <td>...</td>\n      <td>26.271117</td>\n      <td>27.595696</td>\n      <td>125.440473</td>\n      <td>82.144081</td>\n      <td>32.500986</td>\n      <td>34.564313</td>\n      <td>12.238900</td>\n      <td>55.164136</td>\n      <td>27.229890</td>\n      <td>9.656906</td>\n    </tr>\n    <tr>\n      <th>4</th>\n      <td>1995</td>\n      <td>5</td>\n      <td>0.000000</td>\n      <td>0.0</td>\n      <td>7.201345</td>\n      <td>2.859487</td>\n      <td>1.758269</td>\n      <td>0.276053</td>\n      <td>1.270201</td>\n      <td>1.558083</td>\n      <td>...</td>\n      <td>35.180446</td>\n      <td>63.302042</td>\n      <td>222.393671</td>\n      <td>81.679989</td>\n      <td>49.014672</td>\n      <td>39.639887</td>\n      <td>4.587146</td>\n      <td>33.507515</td>\n      <td>14.406460</td>\n      <td>6.617256</td>\n    </tr>\n  </tbody>\n</table>\n<p>5 rows × 29 columns</p>\n</div>"
     },
     "execution_count": 4,
     "metadata": {},
     "output_type": "execute_result"
    }
   ],
   "source": [
    "# LINK ANTIGO\n",
    "# aprovacoes = pd.read_csv('https://dadosabertos.bndes.gov.br/dataset/bce5a865-e766-4a7a-b537-9499c81275b6/resource/bbe8210d-e3b1-4db9-94c5-66cfc8ee2a0f/download/aprovacoes-por-uf.csv', sep=';', decimal=',')\n",
    "\n",
    "# LINK ATUAL\n",
    "aprovacoes = pd.read_csv('https://dadosabertos.bndes.gov.br/dataset/bce5a865-e766-4a7a-b537-9499c81275b6/resource/08f7a11c-48e0-4d3e-9a75-d95641657ebf/download/aprovacoes-por-uf-aprovacoes.csv', sep=';', decimal=',')\n",
    "aprovacoes.head(5)"
   ]
  },
  {
   "cell_type": "markdown",
   "metadata": {},
   "source": [
    "### Identificando e contando valores únicos"
   ]
  },
  {
   "cell_type": "code",
   "execution_count": 5,
   "metadata": {
    "ExecuteTime": {
     "end_time": "2023-12-28T02:54:47.997710900Z",
     "start_time": "2023-12-28T02:54:47.990256Z"
    }
   },
   "outputs": [
    {
     "data": {
      "text/plain": "array([1995, 1996, 1997, 1998, 1999, 2000, 2001, 2002, 2003, 2004, 2005,\n       2006, 2007, 2008, 2009, 2010, 2011, 2012, 2013, 2014, 2015, 2016,\n       2017, 2018, 2019, 2020, 2021, 2022, 2023], dtype=int64)"
     },
     "execution_count": 5,
     "metadata": {},
     "output_type": "execute_result"
    }
   ],
   "source": [
    "aprovacoes['ano'].unique()"
   ]
  },
  {
   "cell_type": "code",
   "execution_count": 6,
   "metadata": {
    "ExecuteTime": {
     "end_time": "2023-12-28T02:55:12.216792500Z",
     "start_time": "2023-12-28T02:55:12.210305900Z"
    }
   },
   "outputs": [
    {
     "data": {
      "text/plain": "29"
     },
     "execution_count": 6,
     "metadata": {},
     "output_type": "execute_result"
    }
   ],
   "source": [
    "aprovacoes['ano'].nunique()"
   ]
  },
  {
   "cell_type": "code",
   "execution_count": 7,
   "metadata": {
    "ExecuteTime": {
     "end_time": "2023-12-28T02:55:23.754481300Z",
     "start_time": "2023-12-28T02:55:23.742099300Z"
    }
   },
   "outputs": [
    {
     "data": {
      "text/plain": "array([ 1,  2,  3,  4,  5,  6,  7,  8,  9, 10, 11, 12], dtype=int64)"
     },
     "execution_count": 7,
     "metadata": {},
     "output_type": "execute_result"
    }
   ],
   "source": [
    "aprovacoes['mes'].unique()"
   ]
  },
  {
   "cell_type": "code",
   "execution_count": 8,
   "metadata": {
    "ExecuteTime": {
     "end_time": "2023-12-28T02:55:27.792003100Z",
     "start_time": "2023-12-28T02:55:27.785238400Z"
    }
   },
   "outputs": [
    {
     "data": {
      "text/plain": "12"
     },
     "execution_count": 8,
     "metadata": {},
     "output_type": "execute_result"
    }
   ],
   "source": [
    "aprovacoes['mes'].nunique()"
   ]
  },
  {
   "cell_type": "code",
   "execution_count": 9,
   "metadata": {
    "ExecuteTime": {
     "end_time": "2023-12-28T02:55:30.125144400Z",
     "start_time": "2023-12-28T02:55:30.113633Z"
    }
   },
   "outputs": [
    {
     "data": {
      "text/plain": "Index(['ano', 'mes', 'acre', 'amapa', 'amazonas', 'para', 'rondonia',\n       'roraima', 'tocantins', 'alagoas', 'bahia', 'ceara', 'maranhao',\n       'paraiba', 'pernambuco', 'piaui', 'rio_grande_do_norte', 'sergipe',\n       'espirito_santo', 'minas_gerais', 'rio_de_janeiro', 'sao_paulo',\n       'parana', 'rio_grande_do_sul', 'santa_catarina', 'distrito_federal',\n       'goias', 'mato_grosso', 'mato_grosso_do_sul'],\n      dtype='object')"
     },
     "execution_count": 9,
     "metadata": {},
     "output_type": "execute_result"
    }
   ],
   "source": [
    "aprovacoes.columns.unique()"
   ]
  },
  {
   "cell_type": "code",
   "execution_count": 10,
   "metadata": {
    "ExecuteTime": {
     "end_time": "2023-12-28T02:55:41.264190100Z",
     "start_time": "2023-12-28T02:55:41.252746200Z"
    }
   },
   "outputs": [
    {
     "data": {
      "text/plain": "Index(['acre', 'amapa', 'amazonas', 'para', 'rondonia', 'roraima', 'tocantins',\n       'alagoas', 'bahia', 'ceara', 'maranhao', 'paraiba', 'pernambuco',\n       'piaui', 'rio_grande_do_norte', 'sergipe', 'espirito_santo',\n       'minas_gerais', 'rio_de_janeiro', 'sao_paulo', 'parana',\n       'rio_grande_do_sul', 'santa_catarina', 'distrito_federal', 'goias',\n       'mato_grosso', 'mato_grosso_do_sul'],\n      dtype='object')"
     },
     "execution_count": 10,
     "metadata": {},
     "output_type": "execute_result"
    }
   ],
   "source": [
    "aprovacoes.loc[:,'acre':].columns.unique()"
   ]
  },
  {
   "cell_type": "code",
   "execution_count": 11,
   "metadata": {
    "scrolled": true,
    "ExecuteTime": {
     "end_time": "2023-12-28T02:55:48.149731700Z",
     "start_time": "2023-12-28T02:55:48.143722Z"
    }
   },
   "outputs": [
    {
     "data": {
      "text/plain": "27"
     },
     "execution_count": 11,
     "metadata": {},
     "output_type": "execute_result"
    }
   ],
   "source": [
    "aprovacoes.loc[:,'acre':].columns.nunique()"
   ]
  },
  {
   "cell_type": "code",
   "execution_count": null,
   "metadata": {},
   "outputs": [],
   "source": []
  },
  {
   "cell_type": "markdown",
   "metadata": {},
   "source": [
    "### Gerando o total de aprovações"
   ]
  },
  {
   "cell_type": "code",
   "execution_count": null,
   "metadata": {
    "ExecuteTime": {
     "end_time": "2021-05-22T13:53:35.628457Z",
     "start_time": "2021-05-22T13:53:35.615465Z"
    }
   },
   "outputs": [],
   "source": [
    "aprovacoes.sum()"
   ]
  },
  {
   "cell_type": "code",
   "execution_count": null,
   "metadata": {
    "ExecuteTime": {
     "end_time": "2021-05-22T13:53:38.029476Z",
     "start_time": "2021-05-22T13:53:38.013470Z"
    }
   },
   "outputs": [],
   "source": [
    "aprovacoes.sum(axis=0)"
   ]
  },
  {
   "cell_type": "code",
   "execution_count": null,
   "metadata": {
    "ExecuteTime": {
     "end_time": "2021-05-22T13:54:21.588668Z",
     "start_time": "2021-05-22T13:54:21.582671Z"
    }
   },
   "outputs": [],
   "source": [
    "aprovacoes.sum(axis=1)"
   ]
  },
  {
   "cell_type": "code",
   "execution_count": null,
   "metadata": {
    "ExecuteTime": {
     "end_time": "2021-05-22T14:01:50.208173Z",
     "start_time": "2021-05-22T14:01:50.174177Z"
    },
    "scrolled": true
   },
   "outputs": [],
   "source": [
    "aprovacoes['total']  = aprovacoes.loc[:,'acre':].sum(axis=1)\n",
    "aprovacoes"
   ]
  },
  {
   "cell_type": "code",
   "execution_count": null,
   "metadata": {
    "ExecuteTime": {
     "end_time": "2021-05-22T14:02:01.279256Z",
     "start_time": "2021-05-22T14:02:01.132337Z"
    }
   },
   "outputs": [],
   "source": [
    "aprovacoes['total'].plot()"
   ]
  },
  {
   "cell_type": "code",
   "execution_count": null,
   "metadata": {
    "ExecuteTime": {
     "end_time": "2021-05-22T13:58:01.907541Z",
     "start_time": "2021-05-22T13:58:01.862482Z"
    }
   },
   "outputs": [],
   "source": [
    "aprovacoes.loc[:]"
   ]
  },
  {
   "cell_type": "code",
   "execution_count": null,
   "metadata": {
    "ExecuteTime": {
     "end_time": "2021-05-22T13:57:49.918211Z",
     "start_time": "2021-05-22T13:57:49.878222Z"
    }
   },
   "outputs": [],
   "source": [
    "aprovacoes.loc[:,'acre':]"
   ]
  },
  {
   "cell_type": "code",
   "execution_count": null,
   "metadata": {
    "ExecuteTime": {
     "end_time": "2021-05-22T13:58:59.363387Z",
     "start_time": "2021-05-22T13:58:59.053546Z"
    }
   },
   "outputs": [],
   "source": [
    "aprovacoes.loc[:,'acre':].sum().plot(kind='bar')"
   ]
  },
  {
   "cell_type": "code",
   "execution_count": null,
   "metadata": {
    "ExecuteTime": {
     "end_time": "2021-05-22T13:59:27.475613Z",
     "start_time": "2021-05-22T13:59:27.165792Z"
    }
   },
   "outputs": [],
   "source": [
    "aprovacoes.loc[:,'acre':'mato_grosso_do_sul'].sum().plot(kind='bar')"
   ]
  },
  {
   "cell_type": "code",
   "execution_count": null,
   "metadata": {
    "ExecuteTime": {
     "end_time": "2021-05-22T14:00:12.365858Z",
     "start_time": "2021-05-22T14:00:12.029050Z"
    }
   },
   "outputs": [],
   "source": [
    "aprovacoes.loc[:,'acre':'mato_grosso_do_sul'].sum().plot(kind='bar', figsize=(15,5))"
   ]
  }
 ],
 "metadata": {
  "kernelspec": {
   "display_name": "Python 3",
   "language": "python",
   "name": "python3"
  },
  "language_info": {
   "codemirror_mode": {
    "name": "ipython",
    "version": 3
   },
   "file_extension": ".py",
   "mimetype": "text/x-python",
   "name": "python",
   "nbconvert_exporter": "python",
   "pygments_lexer": "ipython3",
   "version": "3.8.5"
  },
  "varInspector": {
   "cols": {
    "lenName": 16,
    "lenType": 16,
    "lenVar": 40
   },
   "kernels_config": {
    "python": {
     "delete_cmd_postfix": "",
     "delete_cmd_prefix": "del ",
     "library": "var_list.py",
     "varRefreshCmd": "print(var_dic_list())"
    },
    "r": {
     "delete_cmd_postfix": ") ",
     "delete_cmd_prefix": "rm(",
     "library": "var_list.r",
     "varRefreshCmd": "cat(var_dic_list()) "
    }
   },
   "types_to_exclude": [
    "module",
    "function",
    "builtin_function_or_method",
    "instance",
    "_Feature"
   ],
   "window_display": false
  }
 },
 "nbformat": 4,
 "nbformat_minor": 4
}
