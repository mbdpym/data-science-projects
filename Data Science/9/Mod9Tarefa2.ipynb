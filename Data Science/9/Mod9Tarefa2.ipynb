{
 "cells": [
  {
   "cell_type": "markdown",
   "metadata": {},
   "source": [
    "# Livro para consulta:\n",
    "- https://jakevdp.github.io/PythonDataScienceHandbook/03.08-aggregation-and-grouping.html\n",
    "- https://jakevdp.github.io/PythonDataScienceHandbook/03.09-pivot-tables.html\n",
    "    "
   ]
  },
  {
   "cell_type": "markdown",
   "metadata": {},
   "source": [
    "# 1. Importando bibliotecas <a name=\"import\"></a>\n",
    "\n",
    "<div style=\"text-align: right\"\n",
    "     \n",
    "[Voltar ao índice](#Contents)"
   ]
  },
  {
   "cell_type": "code",
   "execution_count": 9,
   "metadata": {
    "ExecuteTime": {
     "end_time": "2024-01-21T06:54:21.969857Z",
     "start_time": "2024-01-21T06:54:21.914337700Z"
    }
   },
   "outputs": [],
   "source": [
    "import numpy as np\n",
    "import pandas as pd\n",
    "import seaborn as sns\n",
    "import matplotlib.pyplot as plt\n",
    "\n",
    "%matplotlib inline"
   ]
  },
  {
   "cell_type": "code",
   "execution_count": 9,
   "metadata": {
    "ExecuteTime": {
     "end_time": "2024-01-21T06:54:21.996515800Z",
     "start_time": "2024-01-21T06:54:21.972006500Z"
    }
   },
   "outputs": [],
   "source": []
  },
  {
   "cell_type": "markdown",
   "metadata": {},
   "source": [
    "# 2. Carregando o dataframe SINASC <a name=\"read\"></a>\n",
    "<div style=\"text-align: right\"\n",
    "     \n",
    "[Voltar ao índice](#Contents)"
   ]
  },
  {
   "cell_type": "code",
   "execution_count": 10,
   "metadata": {
    "scrolled": true,
    "ExecuteTime": {
     "end_time": "2024-01-21T06:54:22.146011700Z",
     "start_time": "2024-01-21T06:54:21.998519700Z"
    }
   },
   "outputs": [
    {
     "data": {
      "text/plain": "   ORIGEM   CODESTAB  CODMUNNASC  LOCNASC  IDADEMAE  ESTCIVMAE  \\\n0       1  2679477.0      110001        1        19        5.0   \n1       1  2679477.0      110001        1        29        2.0   \n2       1  2679477.0      110001        1        37        9.0   \n3       1  2516500.0      110001        1        30        5.0   \n4       1  2516500.0      110001        1        30        2.0   \n\n            ESCMAE  CODOCUPMAE  QTDFILVIVO  QTDFILMORT  ...  KOTELCHUCK  \\\n0      8 a 11 anos         NaN         0.0         0.0  ...           5   \n1      8 a 11 anos    999992.0         1.0         0.0  ...           5   \n2      8 a 11 anos    513205.0         2.0         0.0  ...           5   \n3  12 anos ou mais    231205.0         0.0         0.0  ...           4   \n4      8 a 11 anos    999992.0         1.0         0.0  ...           5   \n\n  CONTADOR munResStatus munResTipo               munResNome  munResUf  \\\n0        1        ATIVO      MUNIC    Alta Floresta D'Oeste  Rondônia   \n1        2        ATIVO      MUNIC    Alta Floresta D'Oeste  Rondônia   \n2        3        ATIVO      MUNIC    Alta Floresta D'Oeste  Rondônia   \n3        4        ATIVO      MUNIC  Alto Alegre dos Parecis  Rondônia   \n4        5        ATIVO      MUNIC    Alta Floresta D'Oeste  Rondônia   \n\n   munResLat munResLon  munResAlt  munResArea  \n0  -11.93554 -61.99982      338.0    7067.025  \n1  -11.93554 -61.99982      338.0    7067.025  \n2  -11.93554 -61.99982      338.0    7067.025  \n3  -12.13178 -61.85308      397.0    3958.273  \n4  -11.93554 -61.99982      338.0    7067.025  \n\n[5 rows x 69 columns]",
      "text/html": "<div>\n<style scoped>\n    .dataframe tbody tr th:only-of-type {\n        vertical-align: middle;\n    }\n\n    .dataframe tbody tr th {\n        vertical-align: top;\n    }\n\n    .dataframe thead th {\n        text-align: right;\n    }\n</style>\n<table border=\"1\" class=\"dataframe\">\n  <thead>\n    <tr style=\"text-align: right;\">\n      <th></th>\n      <th>ORIGEM</th>\n      <th>CODESTAB</th>\n      <th>CODMUNNASC</th>\n      <th>LOCNASC</th>\n      <th>IDADEMAE</th>\n      <th>ESTCIVMAE</th>\n      <th>ESCMAE</th>\n      <th>CODOCUPMAE</th>\n      <th>QTDFILVIVO</th>\n      <th>QTDFILMORT</th>\n      <th>...</th>\n      <th>KOTELCHUCK</th>\n      <th>CONTADOR</th>\n      <th>munResStatus</th>\n      <th>munResTipo</th>\n      <th>munResNome</th>\n      <th>munResUf</th>\n      <th>munResLat</th>\n      <th>munResLon</th>\n      <th>munResAlt</th>\n      <th>munResArea</th>\n    </tr>\n  </thead>\n  <tbody>\n    <tr>\n      <th>0</th>\n      <td>1</td>\n      <td>2679477.0</td>\n      <td>110001</td>\n      <td>1</td>\n      <td>19</td>\n      <td>5.0</td>\n      <td>8 a 11 anos</td>\n      <td>NaN</td>\n      <td>0.0</td>\n      <td>0.0</td>\n      <td>...</td>\n      <td>5</td>\n      <td>1</td>\n      <td>ATIVO</td>\n      <td>MUNIC</td>\n      <td>Alta Floresta D'Oeste</td>\n      <td>Rondônia</td>\n      <td>-11.93554</td>\n      <td>-61.99982</td>\n      <td>338.0</td>\n      <td>7067.025</td>\n    </tr>\n    <tr>\n      <th>1</th>\n      <td>1</td>\n      <td>2679477.0</td>\n      <td>110001</td>\n      <td>1</td>\n      <td>29</td>\n      <td>2.0</td>\n      <td>8 a 11 anos</td>\n      <td>999992.0</td>\n      <td>1.0</td>\n      <td>0.0</td>\n      <td>...</td>\n      <td>5</td>\n      <td>2</td>\n      <td>ATIVO</td>\n      <td>MUNIC</td>\n      <td>Alta Floresta D'Oeste</td>\n      <td>Rondônia</td>\n      <td>-11.93554</td>\n      <td>-61.99982</td>\n      <td>338.0</td>\n      <td>7067.025</td>\n    </tr>\n    <tr>\n      <th>2</th>\n      <td>1</td>\n      <td>2679477.0</td>\n      <td>110001</td>\n      <td>1</td>\n      <td>37</td>\n      <td>9.0</td>\n      <td>8 a 11 anos</td>\n      <td>513205.0</td>\n      <td>2.0</td>\n      <td>0.0</td>\n      <td>...</td>\n      <td>5</td>\n      <td>3</td>\n      <td>ATIVO</td>\n      <td>MUNIC</td>\n      <td>Alta Floresta D'Oeste</td>\n      <td>Rondônia</td>\n      <td>-11.93554</td>\n      <td>-61.99982</td>\n      <td>338.0</td>\n      <td>7067.025</td>\n    </tr>\n    <tr>\n      <th>3</th>\n      <td>1</td>\n      <td>2516500.0</td>\n      <td>110001</td>\n      <td>1</td>\n      <td>30</td>\n      <td>5.0</td>\n      <td>12 anos ou mais</td>\n      <td>231205.0</td>\n      <td>0.0</td>\n      <td>0.0</td>\n      <td>...</td>\n      <td>4</td>\n      <td>4</td>\n      <td>ATIVO</td>\n      <td>MUNIC</td>\n      <td>Alto Alegre dos Parecis</td>\n      <td>Rondônia</td>\n      <td>-12.13178</td>\n      <td>-61.85308</td>\n      <td>397.0</td>\n      <td>3958.273</td>\n    </tr>\n    <tr>\n      <th>4</th>\n      <td>1</td>\n      <td>2516500.0</td>\n      <td>110001</td>\n      <td>1</td>\n      <td>30</td>\n      <td>2.0</td>\n      <td>8 a 11 anos</td>\n      <td>999992.0</td>\n      <td>1.0</td>\n      <td>0.0</td>\n      <td>...</td>\n      <td>5</td>\n      <td>5</td>\n      <td>ATIVO</td>\n      <td>MUNIC</td>\n      <td>Alta Floresta D'Oeste</td>\n      <td>Rondônia</td>\n      <td>-11.93554</td>\n      <td>-61.99982</td>\n      <td>338.0</td>\n      <td>7067.025</td>\n    </tr>\n  </tbody>\n</table>\n<p>5 rows × 69 columns</p>\n</div>"
     },
     "execution_count": 10,
     "metadata": {},
     "output_type": "execute_result"
    }
   ],
   "source": [
    "sinasc_raw = pd.read_csv('SINASC_RO_2019.csv')\n",
    "sinasc_raw.head()"
   ]
  },
  {
   "cell_type": "code",
   "execution_count": 11,
   "metadata": {
    "ExecuteTime": {
     "end_time": "2024-01-21T06:54:22.147011400Z",
     "start_time": "2024-01-21T06:54:22.109068900Z"
    }
   },
   "outputs": [
    {
     "data": {
      "text/plain": "0       -11.93554\n1       -11.93554\n2       -11.93554\n3       -12.13178\n4       -11.93554\n           ...   \n27023   -12.74137\n27024   -12.55684\n27025   -12.74137\n27026   -12.74137\n27027   -11.70974\nName: munResLat, Length: 27028, dtype: float64"
     },
     "execution_count": 11,
     "metadata": {},
     "output_type": "execute_result"
    }
   ],
   "source": [
    "sinasc_raw['munResLat'].astype(float)"
   ]
  },
  {
   "cell_type": "code",
   "execution_count": 12,
   "metadata": {
    "ExecuteTime": {
     "end_time": "2024-01-21T06:54:22.148012600Z",
     "start_time": "2024-01-21T06:54:22.112728500Z"
    }
   },
   "outputs": [],
   "source": [
    "sinasc2 = sinasc_raw.copy()"
   ]
  },
  {
   "cell_type": "code",
   "execution_count": 13,
   "metadata": {
    "ExecuteTime": {
     "end_time": "2024-01-21T06:54:22.148512100Z",
     "start_time": "2024-01-21T06:54:22.119669700Z"
    }
   },
   "outputs": [],
   "source": [
    "#sinasc_raw['munResArea']"
   ]
  },
  {
   "cell_type": "markdown",
   "metadata": {},
   "source": [
    "# Tarefa 2"
   ]
  },
  {
   "cell_type": "markdown",
   "metadata": {},
   "source": [
    "### 1. Crie 2 faixas de Latitude do município (munResLat) sendo uma acima e outra abaixo de -10.5 e aplique o groupby usando essas faixas como chave e realize operações de soma, media, minimo, maximo, mediana, desvio padrao, variancia pra pelo menos 2 variáveis numéricas ainda não utilizadas"
   ]
  },
  {
   "cell_type": "code",
   "execution_count": 14,
   "metadata": {
    "ExecuteTime": {
     "end_time": "2024-01-21T06:54:22.182677900Z",
     "start_time": "2024-01-21T06:54:22.123099600Z"
    }
   },
   "outputs": [
    {
     "data": {
      "text/plain": "                               SEMAGESTAC                                  \\\n                                     mean       sum   max   min       std   \nabaixoMenos10.5 acimaMenos10.5                                              \nFalse           True            38.588302  511951.0  45.0  21.0  2.020722   \nTrue            False           38.545360  482665.0  45.0  19.0  2.012435   \n\n                                                 PESO                       \\\n                                     var         mean       sum   max  min   \nabaixoMenos10.5 acimaMenos10.5                                               \nFalse           True            4.083319  3246.055864  45555148  5190  295   \nTrue            False           4.049895  3240.098053  42098594  5985  258   \n\n                                                           \n                                       std            var  \nabaixoMenos10.5 acimaMenos10.5                             \nFalse           True            556.487709  309678.570242  \nTrue            False           531.815114  282827.315354  ",
      "text/html": "<div>\n<style scoped>\n    .dataframe tbody tr th:only-of-type {\n        vertical-align: middle;\n    }\n\n    .dataframe tbody tr th {\n        vertical-align: top;\n    }\n\n    .dataframe thead tr th {\n        text-align: left;\n    }\n\n    .dataframe thead tr:last-of-type th {\n        text-align: right;\n    }\n</style>\n<table border=\"1\" class=\"dataframe\">\n  <thead>\n    <tr>\n      <th></th>\n      <th></th>\n      <th colspan=\"6\" halign=\"left\">SEMAGESTAC</th>\n      <th colspan=\"6\" halign=\"left\">PESO</th>\n    </tr>\n    <tr>\n      <th></th>\n      <th></th>\n      <th>mean</th>\n      <th>sum</th>\n      <th>max</th>\n      <th>min</th>\n      <th>std</th>\n      <th>var</th>\n      <th>mean</th>\n      <th>sum</th>\n      <th>max</th>\n      <th>min</th>\n      <th>std</th>\n      <th>var</th>\n    </tr>\n    <tr>\n      <th>abaixoMenos10.5</th>\n      <th>acimaMenos10.5</th>\n      <th></th>\n      <th></th>\n      <th></th>\n      <th></th>\n      <th></th>\n      <th></th>\n      <th></th>\n      <th></th>\n      <th></th>\n      <th></th>\n      <th></th>\n      <th></th>\n    </tr>\n  </thead>\n  <tbody>\n    <tr>\n      <th>False</th>\n      <th>True</th>\n      <td>38.588302</td>\n      <td>511951.0</td>\n      <td>45.0</td>\n      <td>21.0</td>\n      <td>2.020722</td>\n      <td>4.083319</td>\n      <td>3246.055864</td>\n      <td>45555148</td>\n      <td>5190</td>\n      <td>295</td>\n      <td>556.487709</td>\n      <td>309678.570242</td>\n    </tr>\n    <tr>\n      <th>True</th>\n      <th>False</th>\n      <td>38.545360</td>\n      <td>482665.0</td>\n      <td>45.0</td>\n      <td>19.0</td>\n      <td>2.012435</td>\n      <td>4.049895</td>\n      <td>3240.098053</td>\n      <td>42098594</td>\n      <td>5985</td>\n      <td>258</td>\n      <td>531.815114</td>\n      <td>282827.315354</td>\n    </tr>\n  </tbody>\n</table>\n</div>"
     },
     "execution_count": 14,
     "metadata": {},
     "output_type": "execute_result"
    }
   ],
   "source": [
    "sinasc2['acimaMenos10.5'] = sinasc_raw['munResLat'] > -10.5\n",
    "sinasc2['abaixoMenos10.5'] = sinasc_raw['munResLat'] <= -10.5\n",
    "\n",
    "resultado = sinasc2.groupby(['abaixoMenos10.5','acimaMenos10.5']).agg({'SEMAGESTAC': ['mean', 'sum', 'max', 'min', 'std', 'var'],\n",
    "                                                                       'PESO': ['mean', 'sum', 'max', 'min', 'std', 'var']\n",
    "                                                                       }).reset_index().dropna()\n",
    "resultado.set_index(['abaixoMenos10.5', 'acimaMenos10.5'], inplace=True)\n",
    "resultado"
   ]
  },
  {
   "cell_type": "markdown",
   "metadata": {},
   "source": [
    "### 2. Crie 2 faixas da área dos municípios (munResArea) sendo uma acima e outra abaixo de 3000 e aplique o groupby usando essas faixas como chave e realize operações de soma, media, minimo, maximo, mediana, desvio padrao, variancia pra pelo menos 2 variáveis numéricas ainda não utilizadas\n"
   ]
  },
  {
   "cell_type": "code",
   "execution_count": 15,
   "metadata": {
    "ExecuteTime": {
     "end_time": "2024-01-21T06:54:22.184672500Z",
     "start_time": "2024-01-21T06:54:22.138010300Z"
    }
   },
   "outputs": [
    {
     "data": {
      "text/plain": "                      APGAR5                                           \\\n                        mean       sum   max  min       std       var   \nmunCategory                                                             \n1 - Acima de 3000   9.190836  199579.0  10.0  0.0  0.787591  0.620299   \n2 - Abaixo de 3000  9.130518   47570.0  10.0  0.0  0.801138  0.641821   \n\n                     IDADEMAE                                       \n                         mean     sum max min       std        var  \nmunCategory                                                         \n1 - Acima de 3000   26.038518  567848  53  12  6.405497  41.030387  \n2 - Abaixo de 3000  26.324330  137413  53  11  6.305013  39.753192  ",
      "text/html": "<div>\n<style scoped>\n    .dataframe tbody tr th:only-of-type {\n        vertical-align: middle;\n    }\n\n    .dataframe tbody tr th {\n        vertical-align: top;\n    }\n\n    .dataframe thead tr th {\n        text-align: left;\n    }\n\n    .dataframe thead tr:last-of-type th {\n        text-align: right;\n    }\n</style>\n<table border=\"1\" class=\"dataframe\">\n  <thead>\n    <tr>\n      <th></th>\n      <th colspan=\"6\" halign=\"left\">APGAR5</th>\n      <th colspan=\"6\" halign=\"left\">IDADEMAE</th>\n    </tr>\n    <tr>\n      <th></th>\n      <th>mean</th>\n      <th>sum</th>\n      <th>max</th>\n      <th>min</th>\n      <th>std</th>\n      <th>var</th>\n      <th>mean</th>\n      <th>sum</th>\n      <th>max</th>\n      <th>min</th>\n      <th>std</th>\n      <th>var</th>\n    </tr>\n    <tr>\n      <th>munCategory</th>\n      <th></th>\n      <th></th>\n      <th></th>\n      <th></th>\n      <th></th>\n      <th></th>\n      <th></th>\n      <th></th>\n      <th></th>\n      <th></th>\n      <th></th>\n      <th></th>\n    </tr>\n  </thead>\n  <tbody>\n    <tr>\n      <th>1 - Acima de 3000</th>\n      <td>9.190836</td>\n      <td>199579.0</td>\n      <td>10.0</td>\n      <td>0.0</td>\n      <td>0.787591</td>\n      <td>0.620299</td>\n      <td>26.038518</td>\n      <td>567848</td>\n      <td>53</td>\n      <td>12</td>\n      <td>6.405497</td>\n      <td>41.030387</td>\n    </tr>\n    <tr>\n      <th>2 - Abaixo de 3000</th>\n      <td>9.130518</td>\n      <td>47570.0</td>\n      <td>10.0</td>\n      <td>0.0</td>\n      <td>0.801138</td>\n      <td>0.641821</td>\n      <td>26.324330</td>\n      <td>137413</td>\n      <td>53</td>\n      <td>11</td>\n      <td>6.305013</td>\n      <td>39.753192</td>\n    </tr>\n  </tbody>\n</table>\n</div>"
     },
     "execution_count": 15,
     "metadata": {},
     "output_type": "execute_result"
    }
   ],
   "source": [
    "sinasc2['munAcima3000'] = sinasc_raw['munResArea'] > 3000\n",
    "\n",
    "sinasc2['munCategory'] = sinasc2['munAcima3000'].map({True: '1 - Acima de 3000', False: '2 - Abaixo de 3000'})\n",
    "\n",
    "resultado = sinasc2.groupby('munCategory').agg({'APGAR5': ['mean', 'sum', 'max', 'min', 'std', 'var'],\n",
    "                                                'IDADEMAE': ['mean', 'sum', 'max', 'min', 'std', 'var']}).reset_index().dropna()\n",
    "\n",
    "\n",
    "resultado.set_index('munCategory', inplace=True)\n",
    "resultado"
   ]
  },
  {
   "cell_type": "markdown",
   "metadata": {},
   "source": [
    "### 3. Determine faixas na variável munResAlt e aplique o groupby usando essas faixas como chave e realize operações de soma, media, minimo, maximo, mediana, desvio padrao, variancia pra pelo menos 2 variáveis numéricas ainda não utilizadas"
   ]
  },
  {
   "cell_type": "code",
   "outputs": [
    {
     "ename": "KeyError",
     "evalue": "'munAbaixo3000'",
     "output_type": "error",
     "traceback": [
      "\u001B[1;31m---------------------------------------------------------------------------\u001B[0m",
      "\u001B[1;31mKeyError\u001B[0m                                  Traceback (most recent call last)",
      "Cell \u001B[1;32mIn[16], line 1\u001B[0m\n\u001B[1;32m----> 1\u001B[0m resultado \u001B[38;5;241m=\u001B[39m \u001B[43msinasc2\u001B[49m\u001B[38;5;241;43m.\u001B[39;49m\u001B[43mgroupby\u001B[49m\u001B[43m(\u001B[49m\u001B[43m[\u001B[49m\u001B[38;5;124;43m'\u001B[39;49m\u001B[38;5;124;43mmunAcima3000\u001B[39;49m\u001B[38;5;124;43m'\u001B[39;49m\u001B[43m,\u001B[49m\u001B[43m \u001B[49m\u001B[38;5;124;43m'\u001B[39;49m\u001B[38;5;124;43mmunAbaixo3000\u001B[39;49m\u001B[38;5;124;43m'\u001B[39;49m\u001B[43m]\u001B[49m\u001B[43m)\u001B[49m\u001B[38;5;241m.\u001B[39magg({\u001B[38;5;124m'\u001B[39m\u001B[38;5;124mQTDFILVIVO\u001B[39m\u001B[38;5;124m'\u001B[39m: [\u001B[38;5;124m'\u001B[39m\u001B[38;5;124mmean\u001B[39m\u001B[38;5;124m'\u001B[39m, \u001B[38;5;124m'\u001B[39m\u001B[38;5;124msum\u001B[39m\u001B[38;5;124m'\u001B[39m, \u001B[38;5;124m'\u001B[39m\u001B[38;5;124mmax\u001B[39m\u001B[38;5;124m'\u001B[39m, \u001B[38;5;124m'\u001B[39m\u001B[38;5;124mmin\u001B[39m\u001B[38;5;124m'\u001B[39m, \u001B[38;5;124m'\u001B[39m\u001B[38;5;124mstd\u001B[39m\u001B[38;5;124m'\u001B[39m, \u001B[38;5;124m'\u001B[39m\u001B[38;5;124mvar\u001B[39m\u001B[38;5;124m'\u001B[39m],\n\u001B[0;32m      2\u001B[0m                                                                     \u001B[38;5;124m'\u001B[39m\u001B[38;5;124mQTDFILMORT\u001B[39m\u001B[38;5;124m'\u001B[39m: [\u001B[38;5;124m'\u001B[39m\u001B[38;5;124mmean\u001B[39m\u001B[38;5;124m'\u001B[39m, \u001B[38;5;124m'\u001B[39m\u001B[38;5;124msum\u001B[39m\u001B[38;5;124m'\u001B[39m, \u001B[38;5;124m'\u001B[39m\u001B[38;5;124mmax\u001B[39m\u001B[38;5;124m'\u001B[39m, \u001B[38;5;124m'\u001B[39m\u001B[38;5;124mmin\u001B[39m\u001B[38;5;124m'\u001B[39m, \u001B[38;5;124m'\u001B[39m\u001B[38;5;124mstd\u001B[39m\u001B[38;5;124m'\u001B[39m, \u001B[38;5;124m'\u001B[39m\u001B[38;5;124mvar\u001B[39m\u001B[38;5;124m'\u001B[39m]})\u001B[38;5;241m.\u001B[39mreset_index()\u001B[38;5;241m.\u001B[39mdropna()\n\u001B[0;32m      4\u001B[0m resultado\u001B[38;5;241m.\u001B[39mset_index([\u001B[38;5;124m'\u001B[39m\u001B[38;5;124mmunAcima3000\u001B[39m\u001B[38;5;124m'\u001B[39m, \u001B[38;5;124m'\u001B[39m\u001B[38;5;124mmunAbaixo3000\u001B[39m\u001B[38;5;124m'\u001B[39m], inplace\u001B[38;5;241m=\u001B[39m\u001B[38;5;28;01mTrue\u001B[39;00m)\n\u001B[0;32m      5\u001B[0m resultado\n",
      "File \u001B[1;32m~\\AppData\\Roaming\\Python\\Python311\\site-packages\\pandas\\core\\frame.py:8869\u001B[0m, in \u001B[0;36mDataFrame.groupby\u001B[1;34m(self, by, axis, level, as_index, sort, group_keys, observed, dropna)\u001B[0m\n\u001B[0;32m   8866\u001B[0m \u001B[38;5;28;01mif\u001B[39;00m level \u001B[38;5;129;01mis\u001B[39;00m \u001B[38;5;28;01mNone\u001B[39;00m \u001B[38;5;129;01mand\u001B[39;00m by \u001B[38;5;129;01mis\u001B[39;00m \u001B[38;5;28;01mNone\u001B[39;00m:\n\u001B[0;32m   8867\u001B[0m     \u001B[38;5;28;01mraise\u001B[39;00m \u001B[38;5;167;01mTypeError\u001B[39;00m(\u001B[38;5;124m\"\u001B[39m\u001B[38;5;124mYou have to supply one of \u001B[39m\u001B[38;5;124m'\u001B[39m\u001B[38;5;124mby\u001B[39m\u001B[38;5;124m'\u001B[39m\u001B[38;5;124m and \u001B[39m\u001B[38;5;124m'\u001B[39m\u001B[38;5;124mlevel\u001B[39m\u001B[38;5;124m'\u001B[39m\u001B[38;5;124m\"\u001B[39m)\n\u001B[1;32m-> 8869\u001B[0m \u001B[38;5;28;01mreturn\u001B[39;00m \u001B[43mDataFrameGroupBy\u001B[49m\u001B[43m(\u001B[49m\n\u001B[0;32m   8870\u001B[0m \u001B[43m    \u001B[49m\u001B[43mobj\u001B[49m\u001B[38;5;241;43m=\u001B[39;49m\u001B[38;5;28;43mself\u001B[39;49m\u001B[43m,\u001B[49m\n\u001B[0;32m   8871\u001B[0m \u001B[43m    \u001B[49m\u001B[43mkeys\u001B[49m\u001B[38;5;241;43m=\u001B[39;49m\u001B[43mby\u001B[49m\u001B[43m,\u001B[49m\n\u001B[0;32m   8872\u001B[0m \u001B[43m    \u001B[49m\u001B[43maxis\u001B[49m\u001B[38;5;241;43m=\u001B[39;49m\u001B[43maxis\u001B[49m\u001B[43m,\u001B[49m\n\u001B[0;32m   8873\u001B[0m \u001B[43m    \u001B[49m\u001B[43mlevel\u001B[49m\u001B[38;5;241;43m=\u001B[39;49m\u001B[43mlevel\u001B[49m\u001B[43m,\u001B[49m\n\u001B[0;32m   8874\u001B[0m \u001B[43m    \u001B[49m\u001B[43mas_index\u001B[49m\u001B[38;5;241;43m=\u001B[39;49m\u001B[43mas_index\u001B[49m\u001B[43m,\u001B[49m\n\u001B[0;32m   8875\u001B[0m \u001B[43m    \u001B[49m\u001B[43msort\u001B[49m\u001B[38;5;241;43m=\u001B[39;49m\u001B[43msort\u001B[49m\u001B[43m,\u001B[49m\n\u001B[0;32m   8876\u001B[0m \u001B[43m    \u001B[49m\u001B[43mgroup_keys\u001B[49m\u001B[38;5;241;43m=\u001B[39;49m\u001B[43mgroup_keys\u001B[49m\u001B[43m,\u001B[49m\n\u001B[0;32m   8877\u001B[0m \u001B[43m    \u001B[49m\u001B[43mobserved\u001B[49m\u001B[38;5;241;43m=\u001B[39;49m\u001B[43mobserved\u001B[49m\u001B[43m,\u001B[49m\n\u001B[0;32m   8878\u001B[0m \u001B[43m    \u001B[49m\u001B[43mdropna\u001B[49m\u001B[38;5;241;43m=\u001B[39;49m\u001B[43mdropna\u001B[49m\u001B[43m,\u001B[49m\n\u001B[0;32m   8879\u001B[0m \u001B[43m\u001B[49m\u001B[43m)\u001B[49m\n",
      "File \u001B[1;32m~\\AppData\\Roaming\\Python\\Python311\\site-packages\\pandas\\core\\groupby\\groupby.py:1278\u001B[0m, in \u001B[0;36mGroupBy.__init__\u001B[1;34m(self, obj, keys, axis, level, grouper, exclusions, selection, as_index, sort, group_keys, observed, dropna)\u001B[0m\n\u001B[0;32m   1275\u001B[0m \u001B[38;5;28mself\u001B[39m\u001B[38;5;241m.\u001B[39mdropna \u001B[38;5;241m=\u001B[39m dropna\n\u001B[0;32m   1277\u001B[0m \u001B[38;5;28;01mif\u001B[39;00m grouper \u001B[38;5;129;01mis\u001B[39;00m \u001B[38;5;28;01mNone\u001B[39;00m:\n\u001B[1;32m-> 1278\u001B[0m     grouper, exclusions, obj \u001B[38;5;241m=\u001B[39m \u001B[43mget_grouper\u001B[49m\u001B[43m(\u001B[49m\n\u001B[0;32m   1279\u001B[0m \u001B[43m        \u001B[49m\u001B[43mobj\u001B[49m\u001B[43m,\u001B[49m\n\u001B[0;32m   1280\u001B[0m \u001B[43m        \u001B[49m\u001B[43mkeys\u001B[49m\u001B[43m,\u001B[49m\n\u001B[0;32m   1281\u001B[0m \u001B[43m        \u001B[49m\u001B[43maxis\u001B[49m\u001B[38;5;241;43m=\u001B[39;49m\u001B[43maxis\u001B[49m\u001B[43m,\u001B[49m\n\u001B[0;32m   1282\u001B[0m \u001B[43m        \u001B[49m\u001B[43mlevel\u001B[49m\u001B[38;5;241;43m=\u001B[39;49m\u001B[43mlevel\u001B[49m\u001B[43m,\u001B[49m\n\u001B[0;32m   1283\u001B[0m \u001B[43m        \u001B[49m\u001B[43msort\u001B[49m\u001B[38;5;241;43m=\u001B[39;49m\u001B[43msort\u001B[49m\u001B[43m,\u001B[49m\n\u001B[0;32m   1284\u001B[0m \u001B[43m        \u001B[49m\u001B[43mobserved\u001B[49m\u001B[38;5;241;43m=\u001B[39;49m\u001B[38;5;28;43;01mFalse\u001B[39;49;00m\u001B[43m \u001B[49m\u001B[38;5;28;43;01mif\u001B[39;49;00m\u001B[43m \u001B[49m\u001B[43mobserved\u001B[49m\u001B[43m \u001B[49m\u001B[38;5;129;43;01mis\u001B[39;49;00m\u001B[43m \u001B[49m\u001B[43mlib\u001B[49m\u001B[38;5;241;43m.\u001B[39;49m\u001B[43mno_default\u001B[49m\u001B[43m \u001B[49m\u001B[38;5;28;43;01melse\u001B[39;49;00m\u001B[43m \u001B[49m\u001B[43mobserved\u001B[49m\u001B[43m,\u001B[49m\n\u001B[0;32m   1285\u001B[0m \u001B[43m        \u001B[49m\u001B[43mdropna\u001B[49m\u001B[38;5;241;43m=\u001B[39;49m\u001B[38;5;28;43mself\u001B[39;49m\u001B[38;5;241;43m.\u001B[39;49m\u001B[43mdropna\u001B[49m\u001B[43m,\u001B[49m\n\u001B[0;32m   1286\u001B[0m \u001B[43m    \u001B[49m\u001B[43m)\u001B[49m\n\u001B[0;32m   1288\u001B[0m \u001B[38;5;28;01mif\u001B[39;00m observed \u001B[38;5;129;01mis\u001B[39;00m lib\u001B[38;5;241m.\u001B[39mno_default:\n\u001B[0;32m   1289\u001B[0m     \u001B[38;5;28;01mif\u001B[39;00m \u001B[38;5;28many\u001B[39m(ping\u001B[38;5;241m.\u001B[39m_passed_categorical \u001B[38;5;28;01mfor\u001B[39;00m ping \u001B[38;5;129;01min\u001B[39;00m grouper\u001B[38;5;241m.\u001B[39mgroupings):\n",
      "File \u001B[1;32m~\\AppData\\Roaming\\Python\\Python311\\site-packages\\pandas\\core\\groupby\\grouper.py:1009\u001B[0m, in \u001B[0;36mget_grouper\u001B[1;34m(obj, key, axis, level, sort, observed, validate, dropna)\u001B[0m\n\u001B[0;32m   1007\u001B[0m         in_axis, level, gpr \u001B[38;5;241m=\u001B[39m \u001B[38;5;28;01mFalse\u001B[39;00m, gpr, \u001B[38;5;28;01mNone\u001B[39;00m\n\u001B[0;32m   1008\u001B[0m     \u001B[38;5;28;01melse\u001B[39;00m:\n\u001B[1;32m-> 1009\u001B[0m         \u001B[38;5;28;01mraise\u001B[39;00m \u001B[38;5;167;01mKeyError\u001B[39;00m(gpr)\n\u001B[0;32m   1010\u001B[0m \u001B[38;5;28;01melif\u001B[39;00m \u001B[38;5;28misinstance\u001B[39m(gpr, Grouper) \u001B[38;5;129;01mand\u001B[39;00m gpr\u001B[38;5;241m.\u001B[39mkey \u001B[38;5;129;01mis\u001B[39;00m \u001B[38;5;129;01mnot\u001B[39;00m \u001B[38;5;28;01mNone\u001B[39;00m:\n\u001B[0;32m   1011\u001B[0m     \u001B[38;5;66;03m# Add key to exclusions\u001B[39;00m\n\u001B[0;32m   1012\u001B[0m     exclusions\u001B[38;5;241m.\u001B[39madd(gpr\u001B[38;5;241m.\u001B[39mkey)\n",
      "\u001B[1;31mKeyError\u001B[0m: 'munAbaixo3000'"
     ]
    }
   ],
   "source": [
    "resultado = sinasc2.groupby(['munAcima3000', 'munAbaixo3000']).agg({'QTDFILVIVO': ['mean', 'sum', 'max', 'min', 'std', 'var'],\n",
    "                                                                    'QTDFILMORT': ['mean', 'sum', 'max', 'min', 'std', 'var']}).reset_index().dropna()\n",
    "\n",
    "resultado.set_index(['munAcima3000', 'munAbaixo3000'], inplace=True)\n",
    "resultado"
   ],
   "metadata": {
    "collapsed": false,
    "ExecuteTime": {
     "end_time": "2024-01-21T06:54:22.287596100Z",
     "start_time": "2024-01-21T06:54:22.155178100Z"
    }
   },
   "execution_count": 16
  },
  {
   "cell_type": "markdown",
   "metadata": {},
   "source": [
    "### 4. Plote no mesmo grafico ao longo do tempo a idade media das mulheres de cada regiao imediatas de rondonia\n",
    "https://pt.wikipedia.org/wiki/Lista_de_regi%C3%B5es_geogr%C3%A1ficas_intermedi%C3%A1rias_e_imediatas_de_Rond%C3%B4nia"
   ]
  },
  {
   "cell_type": "code",
   "outputs": [],
   "source": [
    "imediatas = {\n",
    "    \"Candeias do Jamari\": \"Porto Velho\",\n",
    "    \"Guajará-Mirim\": \"Porto Velho\",\n",
    "    \"Itapuã do Oeste\": \"Porto Velho\",\n",
    "    \"Nova Mamoré\": \"Porto Velho\",\n",
    "    \"Porto Velho\": \"Porto Velho\",\n",
    "    \"Ariquemes\": \"Ariquemes\",\n",
    "    \"Alto Paraíso\": \"Ariquemes\",\n",
    "    \"Ariquemes\": \"Ariquemes\",\n",
    "    \"Buritis\": \"Ariquemes\",\n",
    "    \"Cacaulândia\": \"Ariquemes\",\n",
    "    \"Campo Novo de Rondônia\": \"Ariquemes\",\n",
    "    \"Cujubim\": \"Ariquemes\",\n",
    "    \"Monte Negro\": \"Ariquemes\",\n",
    "    \"Rio Crespo\": \"Ariquemes\",\n",
    "    \"Jaru\": \"Jaru\",\n",
    "    \"Governador Jorge Teixeira\": \"Jaru\",\n",
    "    \"Machadinho D'Oeste\": \"Jaru\",\n",
    "    \"Theobroma\": \"Jaru\",\n",
    "    \"Vale do Anari\": \"Jaru\",\n",
    "    \"Alvorada D'Oeste\": \"Ji-Paraná\",\n",
    "    \"Costa Marques\": \"Ji-Paraná\",\n",
    "    \"Ji-Paraná\": \"Ji-Paraná\",\n",
    "    \"Mirante da Serra\": \"Ji-Paraná\",\n",
    "    \"Nova União\": \"Ji-Paraná\",\n",
    "    \"Ouro Preto do Oeste\": \"Ji-Paraná\",\n",
    "    \"Presidente Médici\": \"Ji-Paraná\",\n",
    "    \"São Francisco do Guaporé\": \"Ji-Paraná\",\n",
    "    \"São Miguel do Guaporé\": \"Ji-Paraná\",\n",
    "    \"Seringueiras\": \"Ji-Paraná\",\n",
    "    \"Teixeirópolis\": \"Ji-Paraná\",\n",
    "    \"Urupá\": \"Ji-Paraná\",\n",
    "    \"Vale do Paraíso\": \"Ji-Paraná\",\n",
    "    \"Cacoal\": \"Cacoal\",\n",
    "    \"Alta Floresta D'Oeste\": \"Cacoal\",\n",
    "    \"Alto Alegre dos Parecis\": \"Cacoal\",\n",
    "    \"Castanheiras\": \"Cacoal\",\n",
    "    \"Espigão D'Oeste\": \"Cacoal\",\n",
    "    \"Ministro Andreazza\": \"Cacoal\",\n",
    "    \"Nova Brasilândia D'Oeste\": \"Cacoal\",\n",
    "    \"Novo Horizonte do Oeste\": \"Cacoal\",\n",
    "    \"Parecis\": \"Cacoal\",\n",
    "    \"Pimenta Bueno\": \"Cacoal\",\n",
    "    \"Primavera de Rondônia\": \"Cacoal\",\n",
    "    \"Rolim de Moura\": \"Cacoal\",\n",
    "    \"Santa Luzia D'Oeste\": \"Cacoal\",\n",
    "    \"São Felipe D'Oeste\": \"Cacoal\",\n",
    "    \"Vilhena\": \"Vilhena\",\n",
    "    \"Cabixi\": \"Vilhena\",\n",
    "    \"Cerejeiras\": \"Vilhena\",\n",
    "    \"Chupinguaia\": \"Vilhena\",\n",
    "    \"Colorado do Oeste\": \"Vilhena\",\n",
    "    \"Corumbiara\": \"Vilhena\",\n",
    "    \"Pimenteiras do Oeste\": \"Vilhena\"\n",
    "}"
   ],
   "metadata": {
    "collapsed": false,
    "ExecuteTime": {
     "end_time": "2024-01-21T06:54:38.651302900Z",
     "start_time": "2024-01-21T06:54:38.638297Z"
    }
   },
   "execution_count": 21
  },
  {
   "cell_type": "code",
   "outputs": [],
   "source": [
    "sinasc3 = sinasc_raw[['munResNome', 'IDADEMAE','DTNASC']].dropna()\n",
    "sinasc3['regioesImediatas'] = sinasc3['munResNome'].map(imediatas)\n",
    "sinasc3['DTNASC'] = pd.to_datetime(sinasc3['DTNASC'], errors='coerce', format='%Y-%m-%d')\n",
    "sinasc3['MesAno'] = sinasc3['DTNASC'].dt.to_period('M')\n",
    "\n",
    "\n",
    "pivot_table = sinasc3.pivot_table(index='regioesImediatas',\n",
    "                                  columns='MesAno',\n",
    "                                  values='IDADEMAE',\n",
    "                                  aggfunc='mean')"
   ],
   "metadata": {
    "collapsed": false,
    "ExecuteTime": {
     "start_time": "2024-01-21T06:54:22.196084900Z"
    }
   },
   "execution_count": null
  },
  {
   "cell_type": "code",
   "outputs": [],
   "source": [
    "pivot_table.T.plot(kind='line', figsize=(14, 8), marker='o', linestyle='-')\n",
    "plt.xlabel('Ano-Mês de Nascimento')\n",
    "plt.ylabel('Idade Média da Mãe')\n",
    "plt.title('Idade Média das Mães ao Longo do Tempo por Região Imediata')\n",
    "plt.legend(title='Região Imediata', loc='upper left', bbox_to_anchor=(1, 1))\n",
    "plt.show()"
   ],
   "metadata": {
    "collapsed": false,
    "ExecuteTime": {
     "start_time": "2024-01-21T06:54:22.197086Z"
    }
   },
   "execution_count": null
  },
  {
   "cell_type": "markdown",
   "metadata": {},
   "source": [
    "### 5. Utilize a tabela do link abaixo e crie faixas utilizando o mapping e gere agrupamentos utilizando essas faixas como chave\n"
   ]
  },
  {
   "cell_type": "markdown",
   "metadata": {},
   "source": [
    "### 5.1 IDH\n",
    "A - https://pt.wikipedia.org/wiki/Lista_de_munic%C3%ADpios_de_Rond%C3%B4nia_por_IDH-M\n"
   ]
  },
  {
   "cell_type": "code",
   "execution_count": 20,
   "metadata": {
    "ExecuteTime": {
     "end_time": "2024-01-21T06:54:35.572582800Z",
     "start_time": "2024-01-21T06:54:35.560067200Z"
    }
   },
   "outputs": [],
   "source": [
    "IDH = {\n",
    "    \"Porto Velho\": 0.736,\n",
    "    \"Vilhena\": 0.731,\n",
    "    \"Cacoal\": 0.718,\n",
    "    \"Ji-Paraná\": 0.714,\n",
    "    \"Pimenta Bueno\": 0.710,\n",
    "    \"Ariquemes\": 0.702,\n",
    "    \"Rolim de Moura\": 0.700,\n",
    "    \"Cerejeiras\": 0.692,\n",
    "    \"Jaru\": 0.689,\n",
    "    \"Colorado do Oeste\": 0.685,\n",
    "    \"Ouro Preto do Oeste\": 0.682,\n",
    "    \"Espigão d'Oeste\": 0.672,\n",
    "    \"Santa Luzia d'Oeste\": 0.670,\n",
    "    \"Pimenteiras do Oeste\": 0.665,\n",
    "    \"Presidente Médici\": 0.664,\n",
    "    \"Castanheiras\": 0.658,\n",
    "    \"Guajará-Mirim\": 0.657,\n",
    "    \"Chupinguaia\": 0.652,\n",
    "    \"Cabixi\": 0.650,\n",
    "    \"Candeias do Jamari\": 0.649,\n",
    "    \"São Felipe d'Oeste\": 0.649,\n",
    "    \"Cacaulândia\": 0.646,\n",
    "    \"São Miguel do Guaporé\": 0.646,\n",
    "    \"Mirante da Serra\": 0.643,\n",
    "    \"Alvorada d'Oeste\": 0.643,\n",
    "    \"Teixeirópolis\": 0.643,\n",
    "    \"Nova Brasilândia d'Oeste\": 0.643,\n",
    "    \"Rio Crespo\": 0.643,\n",
    "    \"Primavera de Rondônia\": 0.641,\n",
    "    \"Alta Floresta d'Oeste\": 0.641,\n",
    "    \"Ministro Andreazza\": 0.638,\n",
    "    \"Novo Horizonte do Oeste\": 0.634,\n",
    "    \"Vale do Paraíso\": 0.627,\n",
    "    \"Alto Paraíso\": 0.625,\n",
    "    \"Parecis\": 0.617,\n",
    "    \"Buritis\": 0.616,\n",
    "    \"Itapuã do Oeste\": 0.614,\n",
    "    \"Corumbiara\": 0.613,\n",
    "    \"Cujubim\": 0.612,\n",
    "    \"Costa Marques\": 0.611,\n",
    "    \"São Francisco do Guaporé\": 0.611,\n",
    "    \"Urupá\": 0.609,\n",
    "    \"Monte Negro\": 0.607,\n",
    "    \"Seringueiras\": 0.598,\n",
    "    \"Governador Jorge Teixeira\": 0.596,\n",
    "    \"Machadinho d'Oeste\": 0.596,\n",
    "    \"Campo Novo de Rondônia\": 0.593,\n",
    "    \"Alto Alegre dos Parecis\": 0.592,\n",
    "    \"Theobroma\": 0.589,\n",
    "    \"Nova União\": 0.587,\n",
    "    \"Nova Mamoré\": 0.587,\n",
    "    \"Vale do Anari\": 0.584\n",
    "}"
   ]
  },
  {
   "cell_type": "code",
   "outputs": [],
   "source": [
    "sinasc4 = sinasc_raw[['munResNome', 'IDADEMAE','DTNASC']].dropna()\n",
    "sinasc4['IDH'] = sinasc4['munResNome'].map(IDH)\n",
    "sinasc4['regioesImediatas'] = sinasc4['munResNome'].map(imediatas)\n",
    "sinasc4 = sinasc4.dropna()\n",
    "\n",
    "resultado = sinasc4.groupby('regioesImediatas').agg({\n",
    "                                                    'IDH': ['mean', 'min', 'max'],\n",
    "                                                    'DTNASC': 'sum',\n",
    "                                                    'IDADEMAE': 'mean'})\n",
    "resultado"
   ],
   "metadata": {
    "collapsed": false,
    "ExecuteTime": {
     "start_time": "2024-01-21T06:54:22.198584Z"
    }
   },
   "execution_count": null
  },
  {
   "cell_type": "markdown",
   "metadata": {},
   "source": [
    "### 5.2 IFDM \n",
    "B - https://pt.wikipedia.org/wiki/Lista_de_munic%C3%ADpios_de_Rond%C3%B4nia_por_IFDM\n"
   ]
  },
  {
   "cell_type": "code",
   "execution_count": 19,
   "metadata": {
    "ExecuteTime": {
     "end_time": "2024-01-21T06:54:33.507603Z",
     "start_time": "2024-01-21T06:54:33.494528100Z"
    }
   },
   "outputs": [],
   "source": [
    "ifdm = {\n",
    "    \"Ariquemes\": 0.7746,\n",
    "    \"Vilhena\": 0.7465,\n",
    "    \"Pimenta Bueno\": 0.7383,\n",
    "    \"Porto Velho\": 0.7257,\n",
    "    \"Ji-Paraná\": 0.7117,\n",
    "    \"Cacoal\": 0.7111,\n",
    "    \"Santa Luzia d'Oeste\": 0.6850,\n",
    "    \"Rolim de Moura\": 0.6785,\n",
    "    \"Chupinguaia\": 0.6766,\n",
    "    \"São Miguel do Guaporé\": 0.6699,\n",
    "    \"Pimenteiras do Oeste\": 0.6501,\n",
    "    \"Teixeirópolis\": 0.6500,\n",
    "    \"Colorado do Oeste\": 0.6473,\n",
    "    \"Jaru\": 0.6450,\n",
    "    \"Rio Crespo\": 0.6430,\n",
    "    \"Primavera de Rondônia\": 0.6384,\n",
    "    \"Alta Floresta d'Oeste\": 0.6337,\n",
    "    \"Ouro Preto do Oeste\": 0.6261,\n",
    "    \"São Francisco do Guaporé\": 0.6214,\n",
    "    \"Candeias do Jamari\": 0.6199,\n",
    "    \"Buritis\": 0.6153,\n",
    "    \"São Felipe d'Oeste\": 0.6153,\n",
    "    \"Presidente Médici\": 0.6140,\n",
    "    \"Cerejeiras\": 0.6137,\n",
    "    \"Monte Negro\": 0.6016,\n",
    "    \"Urupá\": 0.6006,\n",
    "    \"Espigão d'Oeste\": 0.5973,\n",
    "    \"Seringueiras\": 0.5922,\n",
    "    \"Alvorada d'Oeste\": 0.5919,\n",
    "    \"Itapuã do Oeste\": 0.5903,\n",
    "    \"Cabixi\": 0.5887,\n",
    "    \"Novo Horizonte do Oeste\": 0.5858,\n",
    "    \"Nova Brasilândia d'Oeste\": 0.5857,\n",
    "    \"Vale do Paraíso\": 0.5818,\n",
    "    \"Corumbiara\": 0.5759,\n",
    "    \"Alto Paraíso\": 0.5735,\n",
    "    \"Cacaulândia\": 0.5721,\n",
    "    \"Vale do Anari\": 0.5710,\n",
    "    \"Ministro Andreazza\": 0.5657,\n",
    "    \"Costa Marques\": 0.5626,\n",
    "    \"Nova União\": 0.5571,\n",
    "    \"Guajará-Mirim\": 0.5541,\n",
    "    \"Mirante da Serra\": 0.5519,\n",
    "    \"Parecis\": 0.5502,\n",
    "    \"Castanheiras\": 0.5430,\n",
    "    \"Theobroma\": 0.5405,\n",
    "    \"Machadinho d'Oeste\": 0.5322,\n",
    "    \"Campo Novo de Rondônia\": 0.5272,\n",
    "    \"Nova Mamoré\": 0.5084,\n",
    "    \"Cujubim\": 0.5055,\n",
    "    \"Alto Alegre dos Parecis\": 0.5046,\n",
    "    \"Governador Jorge Teixeira\": 0.4562,\n",
    "}"
   ]
  },
  {
   "cell_type": "code",
   "outputs": [],
   "source": [
    "sinasc5 = sinasc_raw[['munResNome', 'IDADEMAE', 'DTNASC', 'APGAR5']]\n",
    "sinasc5['IFDM'] = sinasc5['munResNome'].map(ifdm)\n",
    "sinasc5['regioesImediatas'] = sinasc5['munResNome'].dropna().map(imediatas)\n",
    "sinasc5['IDH'] = sinasc4['IDH']\n",
    "\n",
    "resultado = sinasc5.pivot_table(index='regioesImediatas',\n",
    "                                values='IFDM',\n",
    "                                aggfunc='mean')\n",
    "\n",
    "resultado"
   ],
   "metadata": {
    "collapsed": false,
    "ExecuteTime": {
     "start_time": "2024-01-21T06:54:22.201085300Z"
    }
   },
   "execution_count": null
  },
  {
   "cell_type": "markdown",
   "metadata": {},
   "source": [
    "### 5.3 PIB\n",
    "C - https://pt.wikipedia.org/wiki/Lista_de_munic%C3%ADpios_de_Rond%C3%B4nia_por_PIB\n"
   ]
  },
  {
   "cell_type": "code",
   "outputs": [],
   "source": [
    "pib = {\n",
    "    \"Porto Velho\": 17912070,\n",
    "    \"Ji-Paraná\": 3783972,\n",
    "    \"Vilhena\": 2831175,\n",
    "    \"Ariquemes\": 2579830,\n",
    "    \"Cacoal\": 2261644,\n",
    "    \"Jaru\": 1500890,\n",
    "    \"Rolim de Moura\": 1283434,\n",
    "    \"Pimenta Bueno\": 1164877,\n",
    "    \"Guajará-Mirim\": 893000,\n",
    "    \"Ouro Preto do Oeste\": 834000,\n",
    "    \"Buritis\": 726000,\n",
    "    \"Machadinho do Oeste\": 633000,\n",
    "    \"Espigão d'Oeste\": 625000,\n",
    "    \"São Miguel do Guaporé\": 616000,\n",
    "    \"Candeias do Jamari\": 548000,\n",
    "    \"Nova Mamoré\": 529000,\n",
    "    \"Cerejeiras\": 507000,\n",
    "    \"Alta Floresta do Oeste\": 496000,\n",
    "    \"Presidente Médici\": 428000,\n",
    "    \"Cujubim\": 385000,\n",
    "    \"Nova Brasilândia do Oeste\": 360000,\n",
    "    \"Alto Paraíso\": 358000,\n",
    "    \"São Francisco do Guaporé\": 353000,\n",
    "    \"Colorado do Oeste\": 335000,\n",
    "    \"Monte Negro\": 219152,\n",
    "    \"Alto Alegre dos Parecis\": 213410,\n",
    "    \"Campo Novo de Rondônia\": 208821,\n",
    "    \"Alvorada do Oeste\": 204098,\n",
    "    \"Chupinguaia\": 190331,\n",
    "    \"Corumbiara\": 188218,\n",
    "    \"Ministro Andreazza\": 174633,\n",
    "    \"Urupá\": 172143,\n",
    "    \"Costa Marques\": 171878,\n",
    "    \"Seringueiras\": 169429,\n",
    "    \"Mirante da Serra\": 163955,\n",
    "    \"Governador Jorge Teixeira\": 148027,\n",
    "    \"Theobroma\": 140601,\n",
    "    \"Santa Luzia do Oeste\": 135934,\n",
    "    \"Novo Horizonte do Oeste\": 129399,\n",
    "    \"Itapuã do Oeste\": 129351,\n",
    "    \"Vale do Paraíso\": 116742,\n",
    "    \"Cacaulândia\": 116635,\n",
    "    \"Cabixi\": 113031,\n",
    "    \"Vale do Anari\": 105208,\n",
    "    \"Nova União\": 92346,\n",
    "    \"Parecis\": 80759,\n",
    "    \"Rio Crespo\": 76854,\n",
    "    \"Pimenteiras do Oeste\": 76756,\n",
    "    \"Teixeirópolis\": 72089,\n",
    "    \"São Felipe do Oeste\": 72084,\n",
    "    \"Castanheiras\": 59779,\n",
    "    \"Primavera de Rondônia\": 52908,\n",
    "}"
   ],
   "metadata": {
    "collapsed": false,
    "ExecuteTime": {
     "end_time": "2024-01-21T06:54:27.621435700Z",
     "start_time": "2024-01-21T06:54:27.612924300Z"
    }
   },
   "execution_count": 17
  },
  {
   "cell_type": "code",
   "outputs": [],
   "source": [
    "pd.set_option('display.float_format', '{:.0f}'.format)"
   ],
   "metadata": {
    "collapsed": false,
    "ExecuteTime": {
     "end_time": "2024-01-21T06:56:32.565371600Z",
     "start_time": "2024-01-21T06:56:32.513923300Z"
    }
   },
   "execution_count": 26
  },
  {
   "cell_type": "code",
   "outputs": [
    {
     "name": "stderr",
     "output_type": "stream",
     "text": [
      "C:\\Users\\thece\\AppData\\Local\\Temp\\ipykernel_15160\\3653733994.py:2: SettingWithCopyWarning: \n",
      "A value is trying to be set on a copy of a slice from a DataFrame.\n",
      "Try using .loc[row_indexer,col_indexer] = value instead\n",
      "\n",
      "See the caveats in the documentation: https://pandas.pydata.org/pandas-docs/stable/user_guide/indexing.html#returning-a-view-versus-a-copy\n",
      "  sinasc6['PIB'] = sinasc6['munResNome'].map(pib)\n",
      "C:\\Users\\thece\\AppData\\Local\\Temp\\ipykernel_15160\\3653733994.py:3: SettingWithCopyWarning: \n",
      "A value is trying to be set on a copy of a slice from a DataFrame.\n",
      "Try using .loc[row_indexer,col_indexer] = value instead\n",
      "\n",
      "See the caveats in the documentation: https://pandas.pydata.org/pandas-docs/stable/user_guide/indexing.html#returning-a-view-versus-a-copy\n",
      "  sinasc6['regioesImediatas'] = sinasc6['munResNome'].map(imediatas)\n"
     ]
    },
    {
     "data": {
      "text/plain": "                      PIB  QTDFILVIVO  QTDFILMORT\nregioesImediatas                                 \nAriquemes         1752413        2824         741\nCacoal            1511080        2967         801\nJaru              1155223        1055         260\nJi-Paraná         1980535        4417        1122\nPorto Velho      14840726       10149        2597\nVilhena           1945599        2257         604",
      "text/html": "<div>\n<style scoped>\n    .dataframe tbody tr th:only-of-type {\n        vertical-align: middle;\n    }\n\n    .dataframe tbody tr th {\n        vertical-align: top;\n    }\n\n    .dataframe thead th {\n        text-align: right;\n    }\n</style>\n<table border=\"1\" class=\"dataframe\">\n  <thead>\n    <tr style=\"text-align: right;\">\n      <th></th>\n      <th>PIB</th>\n      <th>QTDFILVIVO</th>\n      <th>QTDFILMORT</th>\n    </tr>\n    <tr>\n      <th>regioesImediatas</th>\n      <th></th>\n      <th></th>\n      <th></th>\n    </tr>\n  </thead>\n  <tbody>\n    <tr>\n      <th>Ariquemes</th>\n      <td>1752413</td>\n      <td>2824</td>\n      <td>741</td>\n    </tr>\n    <tr>\n      <th>Cacoal</th>\n      <td>1511080</td>\n      <td>2967</td>\n      <td>801</td>\n    </tr>\n    <tr>\n      <th>Jaru</th>\n      <td>1155223</td>\n      <td>1055</td>\n      <td>260</td>\n    </tr>\n    <tr>\n      <th>Ji-Paraná</th>\n      <td>1980535</td>\n      <td>4417</td>\n      <td>1122</td>\n    </tr>\n    <tr>\n      <th>Porto Velho</th>\n      <td>14840726</td>\n      <td>10149</td>\n      <td>2597</td>\n    </tr>\n    <tr>\n      <th>Vilhena</th>\n      <td>1945599</td>\n      <td>2257</td>\n      <td>604</td>\n    </tr>\n  </tbody>\n</table>\n</div>"
     },
     "execution_count": 49,
     "metadata": {},
     "output_type": "execute_result"
    }
   ],
   "source": [
    "sinasc6 = sinasc_raw[['munResNome','DTNASC','APGAR5','QTDFILVIVO','QTDFILMORT']]\n",
    "sinasc6['PIB'] = sinasc6['munResNome'].map(pib)\n",
    "sinasc6['regioesImediatas'] = sinasc6['munResNome'].map(imediatas)\n",
    "sinasc6 = sinasc6.dropna()\n",
    "\n",
    "resultado = sinasc6.groupby('regioesImediatas').agg({'PIB':'mean', 'QTDFILVIVO':'sum','QTDFILMORT':'sum'})\n",
    "resultado\n"
   ],
   "metadata": {
    "collapsed": false,
    "ExecuteTime": {
     "end_time": "2024-01-21T07:16:30.359477900Z",
     "start_time": "2024-01-21T07:16:30.336936100Z"
    }
   },
   "execution_count": 49
  },
  {
   "cell_type": "code",
   "outputs": [],
   "source": [],
   "metadata": {
    "collapsed": false,
    "ExecuteTime": {
     "end_time": "2024-01-21T07:16:14.835999Z",
     "start_time": "2024-01-21T07:16:14.820992400Z"
    }
   },
   "execution_count": 48
  },
  {
   "cell_type": "markdown",
   "metadata": {},
   "source": [
    "### Analise as respostas encontradas, tire algum insight delas, conte pra gente algo encontrado nos dados."
   ]
  },
  {
   "cell_type": "markdown",
   "metadata": {},
   "source": [
    "Exemplo:\n",
    "- Ah, descobri que a idade mediana das mulheres que deram a luz no ano de 2019 dos municipios com o PIB mais alto é a maior dentre todas."
   ]
  },
  {
   "cell_type": "markdown",
   "source": [
    "Quanto maior o PIB, maior a quantidade de filhos vivos, mas a quantidade de filhos mortos não é muito afetado"
   ],
   "metadata": {
    "collapsed": false
   }
  }
 ],
 "metadata": {
  "kernelspec": {
   "display_name": "Python 3",
   "language": "python",
   "name": "python3"
  },
  "language_info": {
   "codemirror_mode": {
    "name": "ipython",
    "version": 3
   },
   "file_extension": ".py",
   "mimetype": "text/x-python",
   "name": "python",
   "nbconvert_exporter": "python",
   "pygments_lexer": "ipython3",
   "version": "3.8.5"
  },
  "varInspector": {
   "cols": {
    "lenName": 16,
    "lenType": 16,
    "lenVar": 40
   },
   "kernels_config": {
    "python": {
     "delete_cmd_postfix": "",
     "delete_cmd_prefix": "del ",
     "library": "var_list.py",
     "varRefreshCmd": "print(var_dic_list())"
    },
    "r": {
     "delete_cmd_postfix": ") ",
     "delete_cmd_prefix": "rm(",
     "library": "var_list.r",
     "varRefreshCmd": "cat(var_dic_list()) "
    }
   },
   "types_to_exclude": [
    "module",
    "function",
    "builtin_function_or_method",
    "instance",
    "_Feature"
   ],
   "window_display": false
  }
 },
 "nbformat": 4,
 "nbformat_minor": 4
}
