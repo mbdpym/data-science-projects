{
 "cells": [
  {
   "cell_type": "markdown",
   "metadata": {},
   "source": [
    "# Índice <a name=\"Contents\"></a>\n",
    "1. [Importando bibliotecas](#import)\n",
    "2. [Construindo um dataframe ](#read)\n",
    "3. [Amostragem (sample)](#amostragem)\n",
    "3. [Intro sobre métodos de string](#strings)\n",
    "\n"
   ]
  },
  {
   "cell_type": "markdown",
   "metadata": {},
   "source": [
    "# 1. Importando bibliotecas <a name=\"import\"></a>\n",
    "\n",
    "<div style=\"text-align: right\"\n",
    "     \n",
    "[Voltar ao índice](#Contents)"
   ]
  },
  {
   "cell_type": "code",
   "execution_count": 1,
   "metadata": {
    "ExecuteTime": {
     "end_time": "2024-01-02T19:08:59.165416400Z",
     "start_time": "2024-01-02T19:08:58.913310600Z"
    }
   },
   "outputs": [],
   "source": [
    "import numpy  as np\n",
    "import pandas as pd"
   ]
  },
  {
   "cell_type": "markdown",
   "metadata": {},
   "source": [
    "# 2. Construindo um dataframe  <a name=\"read\"></a>\n",
    "<div style=\"text-align: right\"\n",
    "     \n",
    "[Voltar ao índice](#Contents)"
   ]
  },
  {
   "cell_type": "code",
   "execution_count": 5,
   "metadata": {
    "ExecuteTime": {
     "end_time": "2024-01-02T19:10:06.059342800Z",
     "start_time": "2024-01-02T19:10:06.022050600Z"
    }
   },
   "outputs": [],
   "source": [
    "df = pd.DataFrame(np.random.randint(1000000, size=(1000000, 10)),\n",
    "             columns=['A', 'B', 'C', 'D', 'E', 'F', 'G', 'H', 'I', 'J'])"
   ]
  },
  {
   "cell_type": "markdown",
   "metadata": {},
   "source": [
    "# 3. Amostragem <a name=\"amostragem\"></a>\n",
    "<div style=\"text-align: right\"\n",
    "     \n",
    "[Voltar ao índice](#Contents)"
   ]
  },
  {
   "cell_type": "code",
   "execution_count": 6,
   "metadata": {
    "ExecuteTime": {
     "end_time": "2024-01-02T19:10:07.894603200Z",
     "start_time": "2024-01-02T19:10:07.890463Z"
    }
   },
   "outputs": [
    {
     "data": {
      "text/plain": "(1000000, 10)"
     },
     "execution_count": 6,
     "metadata": {},
     "output_type": "execute_result"
    }
   ],
   "source": [
    "df.shape"
   ]
  },
  {
   "cell_type": "code",
   "execution_count": 7,
   "metadata": {
    "ExecuteTime": {
     "end_time": "2024-01-02T19:10:09.299206Z",
     "start_time": "2024-01-02T19:10:09.266907900Z"
    }
   },
   "outputs": [
    {
     "data": {
      "text/plain": "             A       B       C       D       E       F       G       H  \\\n451170  440669  160795  369530  207044  363430  246444  319031  102613   \n394484  956868   73585  839090  609087  885432  310703   77258  395052   \n355314  142411   15208  157242  590578  170802  476293  949990  376950   \n401689   41102  501996  619232  202844  830536  323225  217031  720965   \n748452  826757  102023   82866  431332   10892  925742    6427  152767   \n144432  710782  446911  380992  806541  269424  528367  323644  679884   \n151599  186487  721473  398056  585670  444726  344210  193391  217815   \n210132  519093  108236  401533  307196  806540  108916  681104  640236   \n996167  484931  901188  542731  603967  873625  930377  959378  551305   \n419792  257010  172421  112653  331256  460948   49261  119747  762658   \n\n             I       J  \n451170  170596  910831  \n394484  970246  929532  \n355314  151487  433248  \n401689   80558  232953  \n748452  388526  965663  \n144432   95039  531696  \n151599  616133  415004  \n210132   80618  192420  \n996167  932831  862114  \n419792  176795  848506  ",
      "text/html": "<div>\n<style scoped>\n    .dataframe tbody tr th:only-of-type {\n        vertical-align: middle;\n    }\n\n    .dataframe tbody tr th {\n        vertical-align: top;\n    }\n\n    .dataframe thead th {\n        text-align: right;\n    }\n</style>\n<table border=\"1\" class=\"dataframe\">\n  <thead>\n    <tr style=\"text-align: right;\">\n      <th></th>\n      <th>A</th>\n      <th>B</th>\n      <th>C</th>\n      <th>D</th>\n      <th>E</th>\n      <th>F</th>\n      <th>G</th>\n      <th>H</th>\n      <th>I</th>\n      <th>J</th>\n    </tr>\n  </thead>\n  <tbody>\n    <tr>\n      <th>451170</th>\n      <td>440669</td>\n      <td>160795</td>\n      <td>369530</td>\n      <td>207044</td>\n      <td>363430</td>\n      <td>246444</td>\n      <td>319031</td>\n      <td>102613</td>\n      <td>170596</td>\n      <td>910831</td>\n    </tr>\n    <tr>\n      <th>394484</th>\n      <td>956868</td>\n      <td>73585</td>\n      <td>839090</td>\n      <td>609087</td>\n      <td>885432</td>\n      <td>310703</td>\n      <td>77258</td>\n      <td>395052</td>\n      <td>970246</td>\n      <td>929532</td>\n    </tr>\n    <tr>\n      <th>355314</th>\n      <td>142411</td>\n      <td>15208</td>\n      <td>157242</td>\n      <td>590578</td>\n      <td>170802</td>\n      <td>476293</td>\n      <td>949990</td>\n      <td>376950</td>\n      <td>151487</td>\n      <td>433248</td>\n    </tr>\n    <tr>\n      <th>401689</th>\n      <td>41102</td>\n      <td>501996</td>\n      <td>619232</td>\n      <td>202844</td>\n      <td>830536</td>\n      <td>323225</td>\n      <td>217031</td>\n      <td>720965</td>\n      <td>80558</td>\n      <td>232953</td>\n    </tr>\n    <tr>\n      <th>748452</th>\n      <td>826757</td>\n      <td>102023</td>\n      <td>82866</td>\n      <td>431332</td>\n      <td>10892</td>\n      <td>925742</td>\n      <td>6427</td>\n      <td>152767</td>\n      <td>388526</td>\n      <td>965663</td>\n    </tr>\n    <tr>\n      <th>144432</th>\n      <td>710782</td>\n      <td>446911</td>\n      <td>380992</td>\n      <td>806541</td>\n      <td>269424</td>\n      <td>528367</td>\n      <td>323644</td>\n      <td>679884</td>\n      <td>95039</td>\n      <td>531696</td>\n    </tr>\n    <tr>\n      <th>151599</th>\n      <td>186487</td>\n      <td>721473</td>\n      <td>398056</td>\n      <td>585670</td>\n      <td>444726</td>\n      <td>344210</td>\n      <td>193391</td>\n      <td>217815</td>\n      <td>616133</td>\n      <td>415004</td>\n    </tr>\n    <tr>\n      <th>210132</th>\n      <td>519093</td>\n      <td>108236</td>\n      <td>401533</td>\n      <td>307196</td>\n      <td>806540</td>\n      <td>108916</td>\n      <td>681104</td>\n      <td>640236</td>\n      <td>80618</td>\n      <td>192420</td>\n    </tr>\n    <tr>\n      <th>996167</th>\n      <td>484931</td>\n      <td>901188</td>\n      <td>542731</td>\n      <td>603967</td>\n      <td>873625</td>\n      <td>930377</td>\n      <td>959378</td>\n      <td>551305</td>\n      <td>932831</td>\n      <td>862114</td>\n    </tr>\n    <tr>\n      <th>419792</th>\n      <td>257010</td>\n      <td>172421</td>\n      <td>112653</td>\n      <td>331256</td>\n      <td>460948</td>\n      <td>49261</td>\n      <td>119747</td>\n      <td>762658</td>\n      <td>176795</td>\n      <td>848506</td>\n    </tr>\n  </tbody>\n</table>\n</div>"
     },
     "execution_count": 7,
     "metadata": {},
     "output_type": "execute_result"
    }
   ],
   "source": [
    "df.sample(10)"
   ]
  },
  {
   "cell_type": "code",
   "execution_count": 9,
   "metadata": {
    "scrolled": true,
    "ExecuteTime": {
     "end_time": "2024-01-02T19:32:35.399025600Z",
     "start_time": "2024-01-02T19:32:35.358002200Z"
    }
   },
   "outputs": [
    {
     "data": {
      "text/plain": "             A       B       C       D       E       F       G       H  \\\n617759  142216  339012  331336  848627  799023  329349  535792  903409   \n693227  122716   94184  723644    9753  738224  383825   67087  934151   \n906065  416980  213901  698998  926561   88530  300295  148167  948215   \n828507  915226  395837  676073  989127  640000  846253  357663  141621   \n869730  337901  535506  897016  170066  130453  545679  117275  505650   \n147081  171617  143781  917327  371909  712788  328675  335361  821295   \n779428  228908  988090  683046  484697  218233  451854  505006  894177   \n485973   25357  206733  189348   42028  757032  162053  382641  181839   \n30697   485333  884844  861255  114489  583207  846407  472596  673494   \n306669  139506  802821  139927   29002  332267  375022  645989  587360   \n\n             I       J  \n617759  393501     816  \n693227  307448  750026  \n906065  276365  899527  \n828507  675007  623722  \n869730  994939  627786  \n147081    7719  939125  \n779428  731089  769598  \n485973  986620    2407  \n30697    67436  175141  \n306669  319183   83896  ",
      "text/html": "<div>\n<style scoped>\n    .dataframe tbody tr th:only-of-type {\n        vertical-align: middle;\n    }\n\n    .dataframe tbody tr th {\n        vertical-align: top;\n    }\n\n    .dataframe thead th {\n        text-align: right;\n    }\n</style>\n<table border=\"1\" class=\"dataframe\">\n  <thead>\n    <tr style=\"text-align: right;\">\n      <th></th>\n      <th>A</th>\n      <th>B</th>\n      <th>C</th>\n      <th>D</th>\n      <th>E</th>\n      <th>F</th>\n      <th>G</th>\n      <th>H</th>\n      <th>I</th>\n      <th>J</th>\n    </tr>\n  </thead>\n  <tbody>\n    <tr>\n      <th>617759</th>\n      <td>142216</td>\n      <td>339012</td>\n      <td>331336</td>\n      <td>848627</td>\n      <td>799023</td>\n      <td>329349</td>\n      <td>535792</td>\n      <td>903409</td>\n      <td>393501</td>\n      <td>816</td>\n    </tr>\n    <tr>\n      <th>693227</th>\n      <td>122716</td>\n      <td>94184</td>\n      <td>723644</td>\n      <td>9753</td>\n      <td>738224</td>\n      <td>383825</td>\n      <td>67087</td>\n      <td>934151</td>\n      <td>307448</td>\n      <td>750026</td>\n    </tr>\n    <tr>\n      <th>906065</th>\n      <td>416980</td>\n      <td>213901</td>\n      <td>698998</td>\n      <td>926561</td>\n      <td>88530</td>\n      <td>300295</td>\n      <td>148167</td>\n      <td>948215</td>\n      <td>276365</td>\n      <td>899527</td>\n    </tr>\n    <tr>\n      <th>828507</th>\n      <td>915226</td>\n      <td>395837</td>\n      <td>676073</td>\n      <td>989127</td>\n      <td>640000</td>\n      <td>846253</td>\n      <td>357663</td>\n      <td>141621</td>\n      <td>675007</td>\n      <td>623722</td>\n    </tr>\n    <tr>\n      <th>869730</th>\n      <td>337901</td>\n      <td>535506</td>\n      <td>897016</td>\n      <td>170066</td>\n      <td>130453</td>\n      <td>545679</td>\n      <td>117275</td>\n      <td>505650</td>\n      <td>994939</td>\n      <td>627786</td>\n    </tr>\n    <tr>\n      <th>147081</th>\n      <td>171617</td>\n      <td>143781</td>\n      <td>917327</td>\n      <td>371909</td>\n      <td>712788</td>\n      <td>328675</td>\n      <td>335361</td>\n      <td>821295</td>\n      <td>7719</td>\n      <td>939125</td>\n    </tr>\n    <tr>\n      <th>779428</th>\n      <td>228908</td>\n      <td>988090</td>\n      <td>683046</td>\n      <td>484697</td>\n      <td>218233</td>\n      <td>451854</td>\n      <td>505006</td>\n      <td>894177</td>\n      <td>731089</td>\n      <td>769598</td>\n    </tr>\n    <tr>\n      <th>485973</th>\n      <td>25357</td>\n      <td>206733</td>\n      <td>189348</td>\n      <td>42028</td>\n      <td>757032</td>\n      <td>162053</td>\n      <td>382641</td>\n      <td>181839</td>\n      <td>986620</td>\n      <td>2407</td>\n    </tr>\n    <tr>\n      <th>30697</th>\n      <td>485333</td>\n      <td>884844</td>\n      <td>861255</td>\n      <td>114489</td>\n      <td>583207</td>\n      <td>846407</td>\n      <td>472596</td>\n      <td>673494</td>\n      <td>67436</td>\n      <td>175141</td>\n    </tr>\n    <tr>\n      <th>306669</th>\n      <td>139506</td>\n      <td>802821</td>\n      <td>139927</td>\n      <td>29002</td>\n      <td>332267</td>\n      <td>375022</td>\n      <td>645989</td>\n      <td>587360</td>\n      <td>319183</td>\n      <td>83896</td>\n    </tr>\n  </tbody>\n</table>\n</div>"
     },
     "execution_count": 9,
     "metadata": {},
     "output_type": "execute_result"
    }
   ],
   "source": [
    "df.sample(10, random_state=100)"
   ]
  },
  {
   "cell_type": "code",
   "execution_count": 10,
   "metadata": {
    "scrolled": false,
    "ExecuteTime": {
     "end_time": "2024-01-02T19:32:44.107843Z",
     "start_time": "2024-01-02T19:32:44.083946100Z"
    }
   },
   "outputs": [
    {
     "data": {
      "text/plain": "             A       B       C       D       E       F       G       H  \\\n617759  142216  339012  331336  848627  799023  329349  535792  903409   \n693227  122716   94184  723644    9753  738224  383825   67087  934151   \n906065  416980  213901  698998  926561   88530  300295  148167  948215   \n828507  915226  395837  676073  989127  640000  846253  357663  141621   \n869730  337901  535506  897016  170066  130453  545679  117275  505650   \n...        ...     ...     ...     ...     ...     ...     ...     ...   \n599633  561389  392283  818782  227260  440528  722252  416650  412205   \n103907  186969  195316  622193  587406  579775  955126  636836   36015   \n536846  632029   26174   70011  832733  213861  144731  360757  419855   \n68354   409581   51475  119012  245164  635365  248138  701431  820980   \n762302  279180  619870  174890  976096  540366  658979  460208  138034   \n\n             I       J  \n617759  393501     816  \n693227  307448  750026  \n906065  276365  899527  \n828507  675007  623722  \n869730  994939  627786  \n...        ...     ...  \n599633  118869  399965  \n103907  366161  807776  \n536846  545082  524146  \n68354   113714  124701  \n762302  740316  148980  \n\n[100000 rows x 10 columns]",
      "text/html": "<div>\n<style scoped>\n    .dataframe tbody tr th:only-of-type {\n        vertical-align: middle;\n    }\n\n    .dataframe tbody tr th {\n        vertical-align: top;\n    }\n\n    .dataframe thead th {\n        text-align: right;\n    }\n</style>\n<table border=\"1\" class=\"dataframe\">\n  <thead>\n    <tr style=\"text-align: right;\">\n      <th></th>\n      <th>A</th>\n      <th>B</th>\n      <th>C</th>\n      <th>D</th>\n      <th>E</th>\n      <th>F</th>\n      <th>G</th>\n      <th>H</th>\n      <th>I</th>\n      <th>J</th>\n    </tr>\n  </thead>\n  <tbody>\n    <tr>\n      <th>617759</th>\n      <td>142216</td>\n      <td>339012</td>\n      <td>331336</td>\n      <td>848627</td>\n      <td>799023</td>\n      <td>329349</td>\n      <td>535792</td>\n      <td>903409</td>\n      <td>393501</td>\n      <td>816</td>\n    </tr>\n    <tr>\n      <th>693227</th>\n      <td>122716</td>\n      <td>94184</td>\n      <td>723644</td>\n      <td>9753</td>\n      <td>738224</td>\n      <td>383825</td>\n      <td>67087</td>\n      <td>934151</td>\n      <td>307448</td>\n      <td>750026</td>\n    </tr>\n    <tr>\n      <th>906065</th>\n      <td>416980</td>\n      <td>213901</td>\n      <td>698998</td>\n      <td>926561</td>\n      <td>88530</td>\n      <td>300295</td>\n      <td>148167</td>\n      <td>948215</td>\n      <td>276365</td>\n      <td>899527</td>\n    </tr>\n    <tr>\n      <th>828507</th>\n      <td>915226</td>\n      <td>395837</td>\n      <td>676073</td>\n      <td>989127</td>\n      <td>640000</td>\n      <td>846253</td>\n      <td>357663</td>\n      <td>141621</td>\n      <td>675007</td>\n      <td>623722</td>\n    </tr>\n    <tr>\n      <th>869730</th>\n      <td>337901</td>\n      <td>535506</td>\n      <td>897016</td>\n      <td>170066</td>\n      <td>130453</td>\n      <td>545679</td>\n      <td>117275</td>\n      <td>505650</td>\n      <td>994939</td>\n      <td>627786</td>\n    </tr>\n    <tr>\n      <th>...</th>\n      <td>...</td>\n      <td>...</td>\n      <td>...</td>\n      <td>...</td>\n      <td>...</td>\n      <td>...</td>\n      <td>...</td>\n      <td>...</td>\n      <td>...</td>\n      <td>...</td>\n    </tr>\n    <tr>\n      <th>599633</th>\n      <td>561389</td>\n      <td>392283</td>\n      <td>818782</td>\n      <td>227260</td>\n      <td>440528</td>\n      <td>722252</td>\n      <td>416650</td>\n      <td>412205</td>\n      <td>118869</td>\n      <td>399965</td>\n    </tr>\n    <tr>\n      <th>103907</th>\n      <td>186969</td>\n      <td>195316</td>\n      <td>622193</td>\n      <td>587406</td>\n      <td>579775</td>\n      <td>955126</td>\n      <td>636836</td>\n      <td>36015</td>\n      <td>366161</td>\n      <td>807776</td>\n    </tr>\n    <tr>\n      <th>536846</th>\n      <td>632029</td>\n      <td>26174</td>\n      <td>70011</td>\n      <td>832733</td>\n      <td>213861</td>\n      <td>144731</td>\n      <td>360757</td>\n      <td>419855</td>\n      <td>545082</td>\n      <td>524146</td>\n    </tr>\n    <tr>\n      <th>68354</th>\n      <td>409581</td>\n      <td>51475</td>\n      <td>119012</td>\n      <td>245164</td>\n      <td>635365</td>\n      <td>248138</td>\n      <td>701431</td>\n      <td>820980</td>\n      <td>113714</td>\n      <td>124701</td>\n    </tr>\n    <tr>\n      <th>762302</th>\n      <td>279180</td>\n      <td>619870</td>\n      <td>174890</td>\n      <td>976096</td>\n      <td>540366</td>\n      <td>658979</td>\n      <td>460208</td>\n      <td>138034</td>\n      <td>740316</td>\n      <td>148980</td>\n    </tr>\n  </tbody>\n</table>\n<p>100000 rows × 10 columns</p>\n</div>"
     },
     "execution_count": 10,
     "metadata": {},
     "output_type": "execute_result"
    }
   ],
   "source": [
    "df.sample(frac=0.1, random_state=100)"
   ]
  },
  {
   "cell_type": "markdown",
   "metadata": {},
   "source": [
    "# 4. Manipulação de strings - métodos <a name=\"strings\"></a>\n",
    "<div style=\"text-align: right\"\n",
    "     \n",
    "[Voltar ao índice](#Contents)"
   ]
  },
  {
   "cell_type": "code",
   "execution_count": 11,
   "metadata": {
    "ExecuteTime": {
     "end_time": "2024-01-02T19:36:53.835838100Z",
     "start_time": "2024-01-02T19:36:53.830966700Z"
    }
   },
   "outputs": [],
   "source": [
    "texto = 'texto'"
   ]
  },
  {
   "cell_type": "code",
   "execution_count": 12,
   "metadata": {
    "ExecuteTime": {
     "end_time": "2024-01-02T19:36:55.983228800Z",
     "start_time": "2024-01-02T19:36:55.965222500Z"
    }
   },
   "outputs": [
    {
     "data": {
      "text/plain": "'otxet'"
     },
     "execution_count": 12,
     "metadata": {},
     "output_type": "execute_result"
    }
   ],
   "source": [
    "texto[::-1]"
   ]
  },
  {
   "cell_type": "code",
   "execution_count": 13,
   "metadata": {
    "ExecuteTime": {
     "end_time": "2024-01-02T19:37:08.578711400Z",
     "start_time": "2024-01-02T19:37:08.565191700Z"
    }
   },
   "outputs": [],
   "source": [
    "palindromo = 'apos a sopa'"
   ]
  },
  {
   "cell_type": "code",
   "execution_count": 14,
   "metadata": {
    "ExecuteTime": {
     "end_time": "2024-01-02T19:37:10.092394900Z",
     "start_time": "2024-01-02T19:37:10.074471Z"
    }
   },
   "outputs": [
    {
     "data": {
      "text/plain": "'apos a sopa'"
     },
     "execution_count": 14,
     "metadata": {},
     "output_type": "execute_result"
    }
   ],
   "source": [
    "palindromo[::-1]"
   ]
  },
  {
   "cell_type": "code",
   "execution_count": 15,
   "metadata": {
    "ExecuteTime": {
     "end_time": "2024-01-02T19:37:27.187681500Z",
     "start_time": "2024-01-02T19:37:27.177569400Z"
    }
   },
   "outputs": [
    {
     "data": {
      "text/plain": "'Texto'"
     },
     "execution_count": 15,
     "metadata": {},
     "output_type": "execute_result"
    }
   ],
   "source": [
    "texto = 'teXTO'\n",
    "texto.capitalize()"
   ]
  },
  {
   "cell_type": "code",
   "execution_count": 16,
   "metadata": {
    "ExecuteTime": {
     "end_time": "2024-01-02T19:37:32.636432100Z",
     "start_time": "2024-01-02T19:37:32.623412700Z"
    }
   },
   "outputs": [
    {
     "data": {
      "text/plain": "'texto'"
     },
     "execution_count": 16,
     "metadata": {},
     "output_type": "execute_result"
    }
   ],
   "source": [
    "texto.lower()"
   ]
  },
  {
   "cell_type": "code",
   "execution_count": 17,
   "metadata": {
    "ExecuteTime": {
     "end_time": "2024-01-02T19:37:34.492601300Z",
     "start_time": "2024-01-02T19:37:34.485584800Z"
    }
   },
   "outputs": [
    {
     "data": {
      "text/plain": "'TEXTO'"
     },
     "execution_count": 17,
     "metadata": {},
     "output_type": "execute_result"
    }
   ],
   "source": [
    "texto.upper()"
   ]
  },
  {
   "cell_type": "code",
   "execution_count": 18,
   "metadata": {
    "ExecuteTime": {
     "end_time": "2024-01-02T19:37:36.177956700Z",
     "start_time": "2024-01-02T19:37:36.165525500Z"
    }
   },
   "outputs": [
    {
     "data": {
      "text/plain": "2"
     },
     "execution_count": 18,
     "metadata": {},
     "output_type": "execute_result"
    }
   ],
   "source": [
    "# S.find(sub[, start[, end]]) -> int\n",
    "texto.find('X')"
   ]
  },
  {
   "cell_type": "code",
   "execution_count": 19,
   "metadata": {
    "ExecuteTime": {
     "end_time": "2024-01-02T19:38:02.485577300Z",
     "start_time": "2024-01-02T19:38:02.468602Z"
    }
   },
   "outputs": [
    {
     "data": {
      "text/plain": "'X'"
     },
     "execution_count": 19,
     "metadata": {},
     "output_type": "execute_result"
    }
   ],
   "source": [
    "texto[2]"
   ]
  },
  {
   "cell_type": "code",
   "execution_count": 20,
   "metadata": {
    "ExecuteTime": {
     "end_time": "2024-01-02T19:38:04.840473Z",
     "start_time": "2024-01-02T19:38:04.830464600Z"
    }
   },
   "outputs": [
    {
     "data": {
      "text/plain": "-1"
     },
     "execution_count": 20,
     "metadata": {},
     "output_type": "execute_result"
    }
   ],
   "source": [
    "#S.find(sub[, start[, end]]) -> int\n",
    "texto.find('x')"
   ]
  },
  {
   "cell_type": "code",
   "execution_count": 21,
   "metadata": {
    "ExecuteTime": {
     "end_time": "2024-01-02T19:38:14.842241500Z",
     "start_time": "2024-01-02T19:38:14.833556500Z"
    }
   },
   "outputs": [
    {
     "data": {
      "text/plain": "'testa'"
     },
     "execution_count": 21,
     "metadata": {},
     "output_type": "execute_result"
    }
   ],
   "source": [
    "#texto.replace(antigo, novo)\n",
    "texto.replace('XTO','sta')"
   ]
  },
  {
   "cell_type": "code",
   "execution_count": null,
   "metadata": {},
   "outputs": [],
   "source": []
  },
  {
   "cell_type": "code",
   "execution_count": null,
   "metadata": {},
   "outputs": [],
   "source": []
  }
 ],
 "metadata": {
  "kernelspec": {
   "display_name": "Python 3",
   "language": "python",
   "name": "python3"
  },
  "language_info": {
   "codemirror_mode": {
    "name": "ipython",
    "version": 3
   },
   "file_extension": ".py",
   "mimetype": "text/x-python",
   "name": "python",
   "nbconvert_exporter": "python",
   "pygments_lexer": "ipython3",
   "version": "3.8.5"
  },
  "varInspector": {
   "cols": {
    "lenName": 16,
    "lenType": 16,
    "lenVar": 40
   },
   "kernels_config": {
    "python": {
     "delete_cmd_postfix": "",
     "delete_cmd_prefix": "del ",
     "library": "var_list.py",
     "varRefreshCmd": "print(var_dic_list())"
    },
    "r": {
     "delete_cmd_postfix": ") ",
     "delete_cmd_prefix": "rm(",
     "library": "var_list.r",
     "varRefreshCmd": "cat(var_dic_list()) "
    }
   },
   "types_to_exclude": [
    "module",
    "function",
    "builtin_function_or_method",
    "instance",
    "_Feature"
   ],
   "window_display": false
  }
 },
 "nbformat": 4,
 "nbformat_minor": 4
}
