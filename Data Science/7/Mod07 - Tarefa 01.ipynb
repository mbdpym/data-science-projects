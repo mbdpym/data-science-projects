{
 "cells": [
  {
   "cell_type": "markdown",
   "metadata": {},
   "source": [
    "# Módulo 07, Tarefa 01\n",
    "\n",
    "Vamos começar a mexer na nossa base de projeto? Já fizemos um exercício de montar a variável resposta, já pudemos perceber que essa atividade pode não ser trivial. Vamos agora trabalhar a base para que fique propícia ao *scikitlearn* para trabalharmos.\n",
    "\n",
    "Lembrando, a base se chama demo01.csv, e originalmente está publicada [aqui](https://www.kaggle.com/rikdifos/credit-card-approval-prediction)."
   ]
  },
  {
   "cell_type": "markdown",
   "metadata": {},
   "source": [
    "#### 1) Carregue a base e avalie:\n",
    "\n",
    "- As variáveis\n",
    "- Tipos de dados de cada variável\n",
    "- Quantidade de missings\n",
    "- Distribuição da variável resposta (mau)"
   ]
  },
  {
   "cell_type": "code",
   "execution_count": 4,
   "metadata": {
    "ExecuteTime": {
     "end_time": "2024-01-27T06:58:53.167637600Z",
     "start_time": "2024-01-27T06:58:53.117507700Z"
    }
   },
   "outputs": [
    {
     "data": {
      "text/plain": "  sexo posse_de_veiculo posse_de_imovel  qtd_filhos            tipo_renda  \\\n0    M                Y               Y           0               Working   \n1    F                N               Y           0  Commercial associate   \n2    F                N               Y           0  Commercial associate   \n3    M                Y               Y           0               Working   \n4    F                Y               N           0               Working   \n\n                        educacao          estado_civil    tipo_residencia  \\\n0  Secondary / secondary special               Married  House / apartment   \n1  Secondary / secondary special  Single / not married  House / apartment   \n2  Secondary / secondary special  Single / not married  House / apartment   \n3               Higher education               Married  House / apartment   \n4              Incomplete higher               Married  House / apartment   \n\n       idade  tempo_emprego  possui_celular  possui_fone_comercial  \\\n0  58.832877       3.106849               1                      0   \n1  52.356164       8.358904               1                      0   \n2  52.356164       8.358904               1                      0   \n3  46.224658       2.106849               1                      1   \n4  29.230137       3.021918               1                      0   \n\n   possui_fone  possui_email  qt_pessoas_residencia    mau  \n0            0             0                    2.0  False  \n1            1             1                    1.0  False  \n2            1             1                    1.0  False  \n3            1             1                    2.0  False  \n4            0             0                    2.0  False  ",
      "text/html": "<div>\n<style scoped>\n    .dataframe tbody tr th:only-of-type {\n        vertical-align: middle;\n    }\n\n    .dataframe tbody tr th {\n        vertical-align: top;\n    }\n\n    .dataframe thead th {\n        text-align: right;\n    }\n</style>\n<table border=\"1\" class=\"dataframe\">\n  <thead>\n    <tr style=\"text-align: right;\">\n      <th></th>\n      <th>sexo</th>\n      <th>posse_de_veiculo</th>\n      <th>posse_de_imovel</th>\n      <th>qtd_filhos</th>\n      <th>tipo_renda</th>\n      <th>educacao</th>\n      <th>estado_civil</th>\n      <th>tipo_residencia</th>\n      <th>idade</th>\n      <th>tempo_emprego</th>\n      <th>possui_celular</th>\n      <th>possui_fone_comercial</th>\n      <th>possui_fone</th>\n      <th>possui_email</th>\n      <th>qt_pessoas_residencia</th>\n      <th>mau</th>\n    </tr>\n  </thead>\n  <tbody>\n    <tr>\n      <th>0</th>\n      <td>M</td>\n      <td>Y</td>\n      <td>Y</td>\n      <td>0</td>\n      <td>Working</td>\n      <td>Secondary / secondary special</td>\n      <td>Married</td>\n      <td>House / apartment</td>\n      <td>58.832877</td>\n      <td>3.106849</td>\n      <td>1</td>\n      <td>0</td>\n      <td>0</td>\n      <td>0</td>\n      <td>2.0</td>\n      <td>False</td>\n    </tr>\n    <tr>\n      <th>1</th>\n      <td>F</td>\n      <td>N</td>\n      <td>Y</td>\n      <td>0</td>\n      <td>Commercial associate</td>\n      <td>Secondary / secondary special</td>\n      <td>Single / not married</td>\n      <td>House / apartment</td>\n      <td>52.356164</td>\n      <td>8.358904</td>\n      <td>1</td>\n      <td>0</td>\n      <td>1</td>\n      <td>1</td>\n      <td>1.0</td>\n      <td>False</td>\n    </tr>\n    <tr>\n      <th>2</th>\n      <td>F</td>\n      <td>N</td>\n      <td>Y</td>\n      <td>0</td>\n      <td>Commercial associate</td>\n      <td>Secondary / secondary special</td>\n      <td>Single / not married</td>\n      <td>House / apartment</td>\n      <td>52.356164</td>\n      <td>8.358904</td>\n      <td>1</td>\n      <td>0</td>\n      <td>1</td>\n      <td>1</td>\n      <td>1.0</td>\n      <td>False</td>\n    </tr>\n    <tr>\n      <th>3</th>\n      <td>M</td>\n      <td>Y</td>\n      <td>Y</td>\n      <td>0</td>\n      <td>Working</td>\n      <td>Higher education</td>\n      <td>Married</td>\n      <td>House / apartment</td>\n      <td>46.224658</td>\n      <td>2.106849</td>\n      <td>1</td>\n      <td>1</td>\n      <td>1</td>\n      <td>1</td>\n      <td>2.0</td>\n      <td>False</td>\n    </tr>\n    <tr>\n      <th>4</th>\n      <td>F</td>\n      <td>Y</td>\n      <td>N</td>\n      <td>0</td>\n      <td>Working</td>\n      <td>Incomplete higher</td>\n      <td>Married</td>\n      <td>House / apartment</td>\n      <td>29.230137</td>\n      <td>3.021918</td>\n      <td>1</td>\n      <td>0</td>\n      <td>0</td>\n      <td>0</td>\n      <td>2.0</td>\n      <td>False</td>\n    </tr>\n  </tbody>\n</table>\n</div>"
     },
     "execution_count": 4,
     "metadata": {},
     "output_type": "execute_result"
    }
   ],
   "source": [
    "import pandas as pd\n",
    "import numpy as np\n",
    "import seaborn as sns\n",
    "\n",
    "dados = pd.read_csv('demo01.csv')\n",
    "dados.head()"
   ]
  },
  {
   "cell_type": "code",
   "outputs": [
    {
     "data": {
      "text/plain": "(16650, 16)"
     },
     "execution_count": 5,
     "metadata": {},
     "output_type": "execute_result"
    }
   ],
   "source": [
    "dados.shape"
   ],
   "metadata": {
    "collapsed": false,
    "ExecuteTime": {
     "end_time": "2024-01-27T06:58:53.167637600Z",
     "start_time": "2024-01-27T06:58:53.149887600Z"
    }
   },
   "execution_count": 5
  },
  {
   "cell_type": "code",
   "outputs": [
    {
     "data": {
      "text/plain": "sexo                      object\nposse_de_veiculo          object\nposse_de_imovel           object\nqtd_filhos                 int64\ntipo_renda                object\neducacao                  object\nestado_civil              object\ntipo_residencia           object\nidade                    float64\ntempo_emprego            float64\npossui_celular             int64\npossui_fone_comercial      int64\npossui_fone                int64\npossui_email               int64\nqt_pessoas_residencia    float64\nmau                         bool\ndtype: object"
     },
     "execution_count": 6,
     "metadata": {},
     "output_type": "execute_result"
    }
   ],
   "source": [
    "dados.dtypes"
   ],
   "metadata": {
    "collapsed": false,
    "ExecuteTime": {
     "end_time": "2024-01-27T06:58:53.168137500Z",
     "start_time": "2024-01-27T06:58:53.153061100Z"
    }
   },
   "execution_count": 6
  },
  {
   "cell_type": "code",
   "outputs": [],
   "source": [
    "dados_limpo = dados.drop_duplicates()"
   ],
   "metadata": {
    "collapsed": false,
    "ExecuteTime": {
     "end_time": "2024-01-27T06:58:53.181733400Z",
     "start_time": "2024-01-27T06:58:53.170138900Z"
    }
   },
   "execution_count": 7
  },
  {
   "cell_type": "markdown",
   "metadata": {},
   "source": [
    "#### 2) Vamos montar um metadados\n",
    "\n",
    "1. Crie um dataframe com os nomes de cada variável e o tipo de dados de cada variável.\n",
    "2. Adicione uma coluna nesse *dataframe* chamada \"qtd_categorias\" e coloque nela o número de categorias correspondente de cada variável. \n",
    "    Dica: \n",
    "        1. inicie uma lista vazia\n",
    "        2. faça um for ao longo dos nomes das variáveis, \n",
    "        3. conte o número de categorias dessa variável \n",
    "        4. acumule essa informação de 3. na lista que você criou em 1. \n",
    "        5. No final, essa lista pode ser atribuída à nossa variável.\n",
    "3. Crie variáveis dummy para as variáveis necessárias (i.e. aquelas que são qualitativas e não estão armazenadas como {0, 1} ou {True, False}."
   ]
  },
  {
   "cell_type": "code",
   "execution_count": 8,
   "metadata": {
    "ExecuteTime": {
     "end_time": "2024-01-27T06:58:53.224771700Z",
     "start_time": "2024-01-27T06:58:53.182733400Z"
    }
   },
   "outputs": [
    {
     "data": {
      "text/plain": "                 variavel  qtd_categorias tipo_dados\n0                    sexo               2     object\n1        posse_de_veiculo               2     object\n2         posse_de_imovel               2     object\n3              qtd_filhos               8      int64\n4              tipo_renda               5     object\n5                educacao               5     object\n6            estado_civil               5     object\n7         tipo_residencia               6     object\n8                   idade            5298    float64\n9           tempo_emprego            3005    float64\n10         possui_celular               1      int64\n11  possui_fone_comercial               2      int64\n12            possui_fone               2      int64\n13           possui_email               2      int64\n14  qt_pessoas_residencia               9    float64\n15                    mau               2       bool",
      "text/html": "<div>\n<style scoped>\n    .dataframe tbody tr th:only-of-type {\n        vertical-align: middle;\n    }\n\n    .dataframe tbody tr th {\n        vertical-align: top;\n    }\n\n    .dataframe thead th {\n        text-align: right;\n    }\n</style>\n<table border=\"1\" class=\"dataframe\">\n  <thead>\n    <tr style=\"text-align: right;\">\n      <th></th>\n      <th>variavel</th>\n      <th>qtd_categorias</th>\n      <th>tipo_dados</th>\n    </tr>\n  </thead>\n  <tbody>\n    <tr>\n      <th>0</th>\n      <td>sexo</td>\n      <td>2</td>\n      <td>object</td>\n    </tr>\n    <tr>\n      <th>1</th>\n      <td>posse_de_veiculo</td>\n      <td>2</td>\n      <td>object</td>\n    </tr>\n    <tr>\n      <th>2</th>\n      <td>posse_de_imovel</td>\n      <td>2</td>\n      <td>object</td>\n    </tr>\n    <tr>\n      <th>3</th>\n      <td>qtd_filhos</td>\n      <td>8</td>\n      <td>int64</td>\n    </tr>\n    <tr>\n      <th>4</th>\n      <td>tipo_renda</td>\n      <td>5</td>\n      <td>object</td>\n    </tr>\n    <tr>\n      <th>5</th>\n      <td>educacao</td>\n      <td>5</td>\n      <td>object</td>\n    </tr>\n    <tr>\n      <th>6</th>\n      <td>estado_civil</td>\n      <td>5</td>\n      <td>object</td>\n    </tr>\n    <tr>\n      <th>7</th>\n      <td>tipo_residencia</td>\n      <td>6</td>\n      <td>object</td>\n    </tr>\n    <tr>\n      <th>8</th>\n      <td>idade</td>\n      <td>5298</td>\n      <td>float64</td>\n    </tr>\n    <tr>\n      <th>9</th>\n      <td>tempo_emprego</td>\n      <td>3005</td>\n      <td>float64</td>\n    </tr>\n    <tr>\n      <th>10</th>\n      <td>possui_celular</td>\n      <td>1</td>\n      <td>int64</td>\n    </tr>\n    <tr>\n      <th>11</th>\n      <td>possui_fone_comercial</td>\n      <td>2</td>\n      <td>int64</td>\n    </tr>\n    <tr>\n      <th>12</th>\n      <td>possui_fone</td>\n      <td>2</td>\n      <td>int64</td>\n    </tr>\n    <tr>\n      <th>13</th>\n      <td>possui_email</td>\n      <td>2</td>\n      <td>int64</td>\n    </tr>\n    <tr>\n      <th>14</th>\n      <td>qt_pessoas_residencia</td>\n      <td>9</td>\n      <td>float64</td>\n    </tr>\n    <tr>\n      <th>15</th>\n      <td>mau</td>\n      <td>2</td>\n      <td>bool</td>\n    </tr>\n  </tbody>\n</table>\n</div>"
     },
     "execution_count": 8,
     "metadata": {},
     "output_type": "execute_result"
    }
   ],
   "source": [
    "# etapa 1 e 2\n",
    "\n",
    "#criando dataframe\n",
    "metadata_df = pd.DataFrame(dados_limpo.columns, columns=['variavel'])\n",
    "\n",
    "#contando categorias, tipos de dados e gerando colunas\n",
    "metadata_df['qtd_categorias'] = [dados_limpo[column].nunique() for column in dados_limpo.columns]\n",
    "metadata_df['tipo_dados'] = [dados_limpo[column].dtype for column in dados_limpo.columns]\n",
    "\n",
    "metadata_df\n"
   ]
  },
  {
   "cell_type": "code",
   "outputs": [
    {
     "data": {
      "text/plain": "array(['Married', 'Single / not married', 'Civil marriage', 'Widow',\n       'Separated'], dtype=object)"
     },
     "execution_count": 9,
     "metadata": {},
     "output_type": "execute_result"
    }
   ],
   "source": [
    "dados_limpo['estado_civil'].unique()"
   ],
   "metadata": {
    "collapsed": false,
    "ExecuteTime": {
     "end_time": "2024-01-27T06:58:53.225273400Z",
     "start_time": "2024-01-27T06:58:53.190276600Z"
    }
   },
   "execution_count": 9
  },
  {
   "cell_type": "code",
   "outputs": [],
   "source": [
    "df_com_dummies = dados_limpo.copy()\n",
    "#tipo de renda\n",
    "tipo_renda_dummies = pd.get_dummies(df_com_dummies['tipo_renda'], prefix='tipo_renda')\n",
    "df_com_dummies = pd.concat([df_com_dummies.drop('tipo_renda', axis=1), tipo_renda_dummies], axis=1)\n",
    "#educacao\n",
    "educacao_dummies = pd.get_dummies(df_com_dummies['educacao'], prefix='educacao')\n",
    "df_com_dummies = pd.concat([df_com_dummies.drop('educacao', axis=1), educacao_dummies], axis=1)\n",
    "#estado civil\n",
    "estado_civil_dummies = pd.get_dummies(df_com_dummies['estado_civil'], prefix='estado_civil')\n",
    "df_com_dummies = pd.concat([df_com_dummies.drop('estado_civil', axis=1), estado_civil_dummies], axis=1)\n",
    "#tipo de residencia\n",
    "tipo_residencia_dummies = pd.get_dummies(df_com_dummies['tipo_residencia'], prefix='tipo_residencia')\n",
    "df_com_dummies = pd.concat([df_com_dummies.drop('tipo_residencia', axis=1), tipo_residencia_dummies], axis=1)"
   ],
   "metadata": {
    "collapsed": false,
    "ExecuteTime": {
     "end_time": "2024-01-27T06:58:53.238459700Z",
     "start_time": "2024-01-27T06:58:53.193907400Z"
    }
   },
   "execution_count": 10
  },
  {
   "cell_type": "code",
   "outputs": [],
   "source": [
    "#sexo\n",
    "df_com_dummies['sexo'] = df_com_dummies['sexo'].map({'F': 1, 'M': 0})"
   ],
   "metadata": {
    "collapsed": false,
    "ExecuteTime": {
     "end_time": "2024-01-27T06:58:53.238758500Z",
     "start_time": "2024-01-27T06:58:53.206294200Z"
    }
   },
   "execution_count": 11
  },
  {
   "cell_type": "code",
   "outputs": [],
   "source": [
    "#posse de veiculo, posse de imovel\n",
    "df_com_dummies['posse_de_imovel'] = df_com_dummies['posse_de_imovel'].map({'Y': 1, 'N': 0})\n",
    "df_com_dummies['posse_de_veiculo'] = df_com_dummies['posse_de_veiculo'].map({'Y': 1, 'N': 0})"
   ],
   "metadata": {
    "collapsed": false,
    "ExecuteTime": {
     "end_time": "2024-01-27T06:58:53.273266900Z",
     "start_time": "2024-01-27T06:58:53.208300500Z"
    }
   },
   "execution_count": 12
  },
  {
   "cell_type": "code",
   "outputs": [
    {
     "data": {
      "text/plain": "                                  variavel  qtd_categorias tipo_dados\n0                                     sexo               2      int64\n1                         posse_de_veiculo               2      int64\n2                          posse_de_imovel               2      int64\n3                               qtd_filhos               8      int64\n4                                    idade            5298    float64\n5                            tempo_emprego            3005    float64\n6                           possui_celular               1      int64\n7                    possui_fone_comercial               2      int64\n8                              possui_fone               2      int64\n9                             possui_email               2      int64\n10                   qt_pessoas_residencia               9    float64\n11                                     mau               2       bool\n12         tipo_renda_Commercial associate               2       bool\n13                    tipo_renda_Pensioner               2       bool\n14                tipo_renda_State servant               2       bool\n15                      tipo_renda_Student               2       bool\n16                      tipo_renda_Working               2       bool\n17                educacao_Academic degree               2       bool\n18               educacao_Higher education               2       bool\n19              educacao_Incomplete higher               2       bool\n20                educacao_Lower secondary               2       bool\n21  educacao_Secondary / secondary special               2       bool\n22             estado_civil_Civil marriage               2       bool\n23                    estado_civil_Married               2       bool\n24                  estado_civil_Separated               2       bool\n25       estado_civil_Single / not married               2       bool\n26                      estado_civil_Widow               2       bool\n27         tipo_residencia_Co-op apartment               2       bool\n28       tipo_residencia_House / apartment               2       bool\n29     tipo_residencia_Municipal apartment               2       bool\n30        tipo_residencia_Office apartment               2       bool\n31        tipo_residencia_Rented apartment               2       bool\n32            tipo_residencia_With parents               2       bool",
      "text/html": "<div>\n<style scoped>\n    .dataframe tbody tr th:only-of-type {\n        vertical-align: middle;\n    }\n\n    .dataframe tbody tr th {\n        vertical-align: top;\n    }\n\n    .dataframe thead th {\n        text-align: right;\n    }\n</style>\n<table border=\"1\" class=\"dataframe\">\n  <thead>\n    <tr style=\"text-align: right;\">\n      <th></th>\n      <th>variavel</th>\n      <th>qtd_categorias</th>\n      <th>tipo_dados</th>\n    </tr>\n  </thead>\n  <tbody>\n    <tr>\n      <th>0</th>\n      <td>sexo</td>\n      <td>2</td>\n      <td>int64</td>\n    </tr>\n    <tr>\n      <th>1</th>\n      <td>posse_de_veiculo</td>\n      <td>2</td>\n      <td>int64</td>\n    </tr>\n    <tr>\n      <th>2</th>\n      <td>posse_de_imovel</td>\n      <td>2</td>\n      <td>int64</td>\n    </tr>\n    <tr>\n      <th>3</th>\n      <td>qtd_filhos</td>\n      <td>8</td>\n      <td>int64</td>\n    </tr>\n    <tr>\n      <th>4</th>\n      <td>idade</td>\n      <td>5298</td>\n      <td>float64</td>\n    </tr>\n    <tr>\n      <th>5</th>\n      <td>tempo_emprego</td>\n      <td>3005</td>\n      <td>float64</td>\n    </tr>\n    <tr>\n      <th>6</th>\n      <td>possui_celular</td>\n      <td>1</td>\n      <td>int64</td>\n    </tr>\n    <tr>\n      <th>7</th>\n      <td>possui_fone_comercial</td>\n      <td>2</td>\n      <td>int64</td>\n    </tr>\n    <tr>\n      <th>8</th>\n      <td>possui_fone</td>\n      <td>2</td>\n      <td>int64</td>\n    </tr>\n    <tr>\n      <th>9</th>\n      <td>possui_email</td>\n      <td>2</td>\n      <td>int64</td>\n    </tr>\n    <tr>\n      <th>10</th>\n      <td>qt_pessoas_residencia</td>\n      <td>9</td>\n      <td>float64</td>\n    </tr>\n    <tr>\n      <th>11</th>\n      <td>mau</td>\n      <td>2</td>\n      <td>bool</td>\n    </tr>\n    <tr>\n      <th>12</th>\n      <td>tipo_renda_Commercial associate</td>\n      <td>2</td>\n      <td>bool</td>\n    </tr>\n    <tr>\n      <th>13</th>\n      <td>tipo_renda_Pensioner</td>\n      <td>2</td>\n      <td>bool</td>\n    </tr>\n    <tr>\n      <th>14</th>\n      <td>tipo_renda_State servant</td>\n      <td>2</td>\n      <td>bool</td>\n    </tr>\n    <tr>\n      <th>15</th>\n      <td>tipo_renda_Student</td>\n      <td>2</td>\n      <td>bool</td>\n    </tr>\n    <tr>\n      <th>16</th>\n      <td>tipo_renda_Working</td>\n      <td>2</td>\n      <td>bool</td>\n    </tr>\n    <tr>\n      <th>17</th>\n      <td>educacao_Academic degree</td>\n      <td>2</td>\n      <td>bool</td>\n    </tr>\n    <tr>\n      <th>18</th>\n      <td>educacao_Higher education</td>\n      <td>2</td>\n      <td>bool</td>\n    </tr>\n    <tr>\n      <th>19</th>\n      <td>educacao_Incomplete higher</td>\n      <td>2</td>\n      <td>bool</td>\n    </tr>\n    <tr>\n      <th>20</th>\n      <td>educacao_Lower secondary</td>\n      <td>2</td>\n      <td>bool</td>\n    </tr>\n    <tr>\n      <th>21</th>\n      <td>educacao_Secondary / secondary special</td>\n      <td>2</td>\n      <td>bool</td>\n    </tr>\n    <tr>\n      <th>22</th>\n      <td>estado_civil_Civil marriage</td>\n      <td>2</td>\n      <td>bool</td>\n    </tr>\n    <tr>\n      <th>23</th>\n      <td>estado_civil_Married</td>\n      <td>2</td>\n      <td>bool</td>\n    </tr>\n    <tr>\n      <th>24</th>\n      <td>estado_civil_Separated</td>\n      <td>2</td>\n      <td>bool</td>\n    </tr>\n    <tr>\n      <th>25</th>\n      <td>estado_civil_Single / not married</td>\n      <td>2</td>\n      <td>bool</td>\n    </tr>\n    <tr>\n      <th>26</th>\n      <td>estado_civil_Widow</td>\n      <td>2</td>\n      <td>bool</td>\n    </tr>\n    <tr>\n      <th>27</th>\n      <td>tipo_residencia_Co-op apartment</td>\n      <td>2</td>\n      <td>bool</td>\n    </tr>\n    <tr>\n      <th>28</th>\n      <td>tipo_residencia_House / apartment</td>\n      <td>2</td>\n      <td>bool</td>\n    </tr>\n    <tr>\n      <th>29</th>\n      <td>tipo_residencia_Municipal apartment</td>\n      <td>2</td>\n      <td>bool</td>\n    </tr>\n    <tr>\n      <th>30</th>\n      <td>tipo_residencia_Office apartment</td>\n      <td>2</td>\n      <td>bool</td>\n    </tr>\n    <tr>\n      <th>31</th>\n      <td>tipo_residencia_Rented apartment</td>\n      <td>2</td>\n      <td>bool</td>\n    </tr>\n    <tr>\n      <th>32</th>\n      <td>tipo_residencia_With parents</td>\n      <td>2</td>\n      <td>bool</td>\n    </tr>\n  </tbody>\n</table>\n</div>"
     },
     "execution_count": 13,
     "metadata": {},
     "output_type": "execute_result"
    }
   ],
   "source": [
    "#conferindo resultado\n",
    "metadata_df_dummies = pd.DataFrame(df_com_dummies.columns, columns=['variavel'])\n",
    "\n",
    "metadata_df_dummies['qtd_categorias'] = [df_com_dummies[column].nunique() for column in df_com_dummies.columns]\n",
    "metadata_df_dummies['tipo_dados'] = [df_com_dummies[column].dtype for column in df_com_dummies.columns]\n",
    "\n",
    "metadata_df_dummies"
   ],
   "metadata": {
    "collapsed": false,
    "ExecuteTime": {
     "end_time": "2024-01-27T06:58:53.273266900Z",
     "start_time": "2024-01-27T06:58:53.214582300Z"
    }
   },
   "execution_count": 13
  },
  {
   "cell_type": "markdown",
   "metadata": {},
   "source": [
    "#### 3) Crie variáveis dummy para as variáveis necessárias (i.e. aquelas que são qualitativas e não estão armazenadas como {0, 1} ou {True, False}. Crie um *dataframe* apenas com as variáveis apropriadas para entrada no scikitlearn - elimine as variáveis tipo *str*, mantendo apenas suas versões *dummy*."
   ]
  },
  {
   "cell_type": "code",
   "execution_count": 14,
   "metadata": {
    "ExecuteTime": {
     "end_time": "2024-01-27T06:58:53.307771500Z",
     "start_time": "2024-01-27T06:58:53.222272300Z"
    }
   },
   "outputs": [
    {
     "data": {
      "text/plain": "   sexo  posse_de_veiculo  posse_de_imovel  qtd_filhos      idade  \\\n0     0                 1                1           0  58.832877   \n1     1                 0                1           0  52.356164   \n3     0                 1                1           0  46.224658   \n4     1                 1                0           0  29.230137   \n6     1                 0                1           0  27.482192   \n\n   tempo_emprego  possui_celular  possui_fone_comercial  possui_fone  \\\n0       3.106849               1                      0            0   \n1       8.358904               1                      0            1   \n3       2.106849               1                      1            1   \n4       3.021918               1                      0            0   \n6       4.024658               1                      0            1   \n\n   possui_email  ...  estado_civil_Married  estado_civil_Separated  \\\n0             0  ...                  True                   False   \n1             1  ...                 False                   False   \n3             1  ...                  True                   False   \n4             0  ...                  True                   False   \n6             0  ...                  True                   False   \n\n   estado_civil_Single / not married  estado_civil_Widow  \\\n0                              False               False   \n1                               True               False   \n3                              False               False   \n4                              False               False   \n6                              False               False   \n\n   tipo_residencia_Co-op apartment  tipo_residencia_House / apartment  \\\n0                            False                               True   \n1                            False                               True   \n3                            False                               True   \n4                            False                               True   \n6                            False                               True   \n\n   tipo_residencia_Municipal apartment  tipo_residencia_Office apartment  \\\n0                                False                             False   \n1                                False                             False   \n3                                False                             False   \n4                                False                             False   \n6                                False                             False   \n\n   tipo_residencia_Rented apartment  tipo_residencia_With parents  \n0                             False                         False  \n1                             False                         False  \n3                             False                         False  \n4                             False                         False  \n6                             False                         False  \n\n[5 rows x 33 columns]",
      "text/html": "<div>\n<style scoped>\n    .dataframe tbody tr th:only-of-type {\n        vertical-align: middle;\n    }\n\n    .dataframe tbody tr th {\n        vertical-align: top;\n    }\n\n    .dataframe thead th {\n        text-align: right;\n    }\n</style>\n<table border=\"1\" class=\"dataframe\">\n  <thead>\n    <tr style=\"text-align: right;\">\n      <th></th>\n      <th>sexo</th>\n      <th>posse_de_veiculo</th>\n      <th>posse_de_imovel</th>\n      <th>qtd_filhos</th>\n      <th>idade</th>\n      <th>tempo_emprego</th>\n      <th>possui_celular</th>\n      <th>possui_fone_comercial</th>\n      <th>possui_fone</th>\n      <th>possui_email</th>\n      <th>...</th>\n      <th>estado_civil_Married</th>\n      <th>estado_civil_Separated</th>\n      <th>estado_civil_Single / not married</th>\n      <th>estado_civil_Widow</th>\n      <th>tipo_residencia_Co-op apartment</th>\n      <th>tipo_residencia_House / apartment</th>\n      <th>tipo_residencia_Municipal apartment</th>\n      <th>tipo_residencia_Office apartment</th>\n      <th>tipo_residencia_Rented apartment</th>\n      <th>tipo_residencia_With parents</th>\n    </tr>\n  </thead>\n  <tbody>\n    <tr>\n      <th>0</th>\n      <td>0</td>\n      <td>1</td>\n      <td>1</td>\n      <td>0</td>\n      <td>58.832877</td>\n      <td>3.106849</td>\n      <td>1</td>\n      <td>0</td>\n      <td>0</td>\n      <td>0</td>\n      <td>...</td>\n      <td>True</td>\n      <td>False</td>\n      <td>False</td>\n      <td>False</td>\n      <td>False</td>\n      <td>True</td>\n      <td>False</td>\n      <td>False</td>\n      <td>False</td>\n      <td>False</td>\n    </tr>\n    <tr>\n      <th>1</th>\n      <td>1</td>\n      <td>0</td>\n      <td>1</td>\n      <td>0</td>\n      <td>52.356164</td>\n      <td>8.358904</td>\n      <td>1</td>\n      <td>0</td>\n      <td>1</td>\n      <td>1</td>\n      <td>...</td>\n      <td>False</td>\n      <td>False</td>\n      <td>True</td>\n      <td>False</td>\n      <td>False</td>\n      <td>True</td>\n      <td>False</td>\n      <td>False</td>\n      <td>False</td>\n      <td>False</td>\n    </tr>\n    <tr>\n      <th>3</th>\n      <td>0</td>\n      <td>1</td>\n      <td>1</td>\n      <td>0</td>\n      <td>46.224658</td>\n      <td>2.106849</td>\n      <td>1</td>\n      <td>1</td>\n      <td>1</td>\n      <td>1</td>\n      <td>...</td>\n      <td>True</td>\n      <td>False</td>\n      <td>False</td>\n      <td>False</td>\n      <td>False</td>\n      <td>True</td>\n      <td>False</td>\n      <td>False</td>\n      <td>False</td>\n      <td>False</td>\n    </tr>\n    <tr>\n      <th>4</th>\n      <td>1</td>\n      <td>1</td>\n      <td>0</td>\n      <td>0</td>\n      <td>29.230137</td>\n      <td>3.021918</td>\n      <td>1</td>\n      <td>0</td>\n      <td>0</td>\n      <td>0</td>\n      <td>...</td>\n      <td>True</td>\n      <td>False</td>\n      <td>False</td>\n      <td>False</td>\n      <td>False</td>\n      <td>True</td>\n      <td>False</td>\n      <td>False</td>\n      <td>False</td>\n      <td>False</td>\n    </tr>\n    <tr>\n      <th>6</th>\n      <td>1</td>\n      <td>0</td>\n      <td>1</td>\n      <td>0</td>\n      <td>27.482192</td>\n      <td>4.024658</td>\n      <td>1</td>\n      <td>0</td>\n      <td>1</td>\n      <td>0</td>\n      <td>...</td>\n      <td>True</td>\n      <td>False</td>\n      <td>False</td>\n      <td>False</td>\n      <td>False</td>\n      <td>True</td>\n      <td>False</td>\n      <td>False</td>\n      <td>False</td>\n      <td>False</td>\n    </tr>\n  </tbody>\n</table>\n<p>5 rows × 33 columns</p>\n</div>"
     },
     "execution_count": 14,
     "metadata": {},
     "output_type": "execute_result"
    }
   ],
   "source": [
    "df_com_dummies.head()"
   ]
  },
  {
   "cell_type": "markdown",
   "metadata": {},
   "source": [
    "#### 4) Qual variável é mais poderosa?\n",
    "\n",
    "Considere as variáveis ```possui_email``` e ```posse_de_veiculo```. Faça uma tabela cruzada entre elas e responda qual delas te parece mais poderosa para prever a probabilidade de ```mau = 1```?"
   ]
  },
  {
   "cell_type": "code",
   "execution_count": 15,
   "metadata": {
    "ExecuteTime": {
     "end_time": "2024-01-27T06:58:53.318042800Z",
     "start_time": "2024-01-27T06:58:53.231459700Z"
    }
   },
   "outputs": [
    {
     "data": {
      "text/plain": "posse_de_veiculo  possui_email  posse_de_veiculo\npossui_email                                    \n0                         3878              2327\n1                          333               232",
      "text/html": "<div>\n<style scoped>\n    .dataframe tbody tr th:only-of-type {\n        vertical-align: middle;\n    }\n\n    .dataframe tbody tr th {\n        vertical-align: top;\n    }\n\n    .dataframe thead th {\n        text-align: right;\n    }\n</style>\n<table border=\"1\" class=\"dataframe\">\n  <thead>\n    <tr style=\"text-align: right;\">\n      <th>posse_de_veiculo</th>\n      <th>possui_email</th>\n      <th>posse_de_veiculo</th>\n    </tr>\n    <tr>\n      <th>possui_email</th>\n      <th></th>\n      <th></th>\n    </tr>\n  </thead>\n  <tbody>\n    <tr>\n      <th>0</th>\n      <td>3878</td>\n      <td>2327</td>\n    </tr>\n    <tr>\n      <th>1</th>\n      <td>333</td>\n      <td>232</td>\n    </tr>\n  </tbody>\n</table>\n</div>"
     },
     "execution_count": 15,
     "metadata": {},
     "output_type": "execute_result"
    }
   ],
   "source": [
    "cross_table = pd.crosstab(df_com_dummies['possui_email'] , df_com_dummies['posse_de_veiculo'])\n",
    "cross_table = cross_table.rename(columns={0: 'possui_email', 1: 'posse_de_veiculo'})\n",
    "cross_table"
   ]
  },
  {
   "cell_type": "markdown",
   "source": [
    "possui_email pois tem uma quantidade de valores muito maior que posse_de_veiculo, logo irá influenciar mais"
   ],
   "metadata": {
    "collapsed": false
   }
  },
  {
   "cell_type": "markdown",
   "metadata": {},
   "source": [
    "#### 5) Salve a base, pois ela será utilizada no final deste módulo."
   ]
  },
  {
   "cell_type": "code",
   "execution_count": 16,
   "metadata": {
    "ExecuteTime": {
     "end_time": "2024-01-27T06:58:53.382049300Z",
     "start_time": "2024-01-27T06:58:53.242766Z"
    }
   },
   "outputs": [],
   "source": [
    "df_com_dummies.reset_index(drop=True, inplace=True)\n",
    "df_com_dummies.to_csv('dataframe_com_dummies.csv')"
   ]
  }
 ],
 "metadata": {
  "kernelspec": {
   "display_name": "Python 3",
   "language": "python",
   "name": "python3"
  },
  "language_info": {
   "codemirror_mode": {
    "name": "ipython",
    "version": 3
   },
   "file_extension": ".py",
   "mimetype": "text/x-python",
   "name": "python",
   "nbconvert_exporter": "python",
   "pygments_lexer": "ipython3",
   "version": "3.8.5"
  }
 },
 "nbformat": 4,
 "nbformat_minor": 4
}
