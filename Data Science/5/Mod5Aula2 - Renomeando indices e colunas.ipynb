{
 "cells": [
  {
   "cell_type": "markdown",
   "metadata": {},
   "source": [
    "# Índice <a name=\"Contents\"></a>\n",
    "1. [Importando bibliotecas](#import)\n",
    "2. [Construindo um dataframe](#read)\n",
    "3. [Renomeando colunas](#colunas)\n",
    "4. [Renomeando índices](#indices)\n"
   ]
  },
  {
   "cell_type": "markdown",
   "metadata": {},
   "source": [
    "# 1. Importando bibliotecas <a name=\"import\"></a>\n",
    "\n",
    "<div style=\"text-align: right\"\n",
    "     \n",
    "[Voltar ao índice](#Contents)"
   ]
  },
  {
   "cell_type": "code",
   "execution_count": 1,
   "metadata": {
    "ExecuteTime": {
     "end_time": "2024-01-01T01:25:03.208243300Z",
     "start_time": "2024-01-01T01:25:01.881206600Z"
    }
   },
   "outputs": [],
   "source": [
    "import pandas as pd\n",
    "import numpy  as np"
   ]
  },
  {
   "cell_type": "markdown",
   "metadata": {},
   "source": [
    "# 2. Construindo um dataframe <a name=\"read\"></a>\n",
    "<div style=\"text-align: right\"\n",
    "     \n",
    "[Voltar ao índice](#Contents)"
   ]
  },
  {
   "cell_type": "code",
   "execution_count": 17,
   "metadata": {
    "ExecuteTime": {
     "end_time": "2024-01-01T02:46:37.873395100Z",
     "start_time": "2024-01-01T02:46:37.871389Z"
    }
   },
   "outputs": [
    {
     "data": {
      "text/plain": "      coluna1     coluna2     coluna3     coluna4\nA  -68.614927  -29.782478 -102.085533  -68.033801\nB  -50.713220   47.513252  -64.372967    8.603846\nC -124.278295   45.177542  -28.362668   33.823789\nD  -87.685035 -121.012600    9.851646  103.883626\nE   61.557917 -115.591889    7.591063    0.925163\nF   68.432203  -20.547590  -93.994145   60.848024\nG   37.608402 -166.555662  -40.197482  199.302900\nH    6.230237 -137.947229  110.723294   45.738695\nI  206.588896  -71.368585 -235.579132 -116.022767",
      "text/html": "<div>\n<style scoped>\n    .dataframe tbody tr th:only-of-type {\n        vertical-align: middle;\n    }\n\n    .dataframe tbody tr th {\n        vertical-align: top;\n    }\n\n    .dataframe thead th {\n        text-align: right;\n    }\n</style>\n<table border=\"1\" class=\"dataframe\">\n  <thead>\n    <tr style=\"text-align: right;\">\n      <th></th>\n      <th>coluna1</th>\n      <th>coluna2</th>\n      <th>coluna3</th>\n      <th>coluna4</th>\n    </tr>\n  </thead>\n  <tbody>\n    <tr>\n      <th>A</th>\n      <td>-68.614927</td>\n      <td>-29.782478</td>\n      <td>-102.085533</td>\n      <td>-68.033801</td>\n    </tr>\n    <tr>\n      <th>B</th>\n      <td>-50.713220</td>\n      <td>47.513252</td>\n      <td>-64.372967</td>\n      <td>8.603846</td>\n    </tr>\n    <tr>\n      <th>C</th>\n      <td>-124.278295</td>\n      <td>45.177542</td>\n      <td>-28.362668</td>\n      <td>33.823789</td>\n    </tr>\n    <tr>\n      <th>D</th>\n      <td>-87.685035</td>\n      <td>-121.012600</td>\n      <td>9.851646</td>\n      <td>103.883626</td>\n    </tr>\n    <tr>\n      <th>E</th>\n      <td>61.557917</td>\n      <td>-115.591889</td>\n      <td>7.591063</td>\n      <td>0.925163</td>\n    </tr>\n    <tr>\n      <th>F</th>\n      <td>68.432203</td>\n      <td>-20.547590</td>\n      <td>-93.994145</td>\n      <td>60.848024</td>\n    </tr>\n    <tr>\n      <th>G</th>\n      <td>37.608402</td>\n      <td>-166.555662</td>\n      <td>-40.197482</td>\n      <td>199.302900</td>\n    </tr>\n    <tr>\n      <th>H</th>\n      <td>6.230237</td>\n      <td>-137.947229</td>\n      <td>110.723294</td>\n      <td>45.738695</td>\n    </tr>\n    <tr>\n      <th>I</th>\n      <td>206.588896</td>\n      <td>-71.368585</td>\n      <td>-235.579132</td>\n      <td>-116.022767</td>\n    </tr>\n  </tbody>\n</table>\n</div>"
     },
     "execution_count": 17,
     "metadata": {},
     "output_type": "execute_result"
    }
   ],
   "source": [
    "df = pd.DataFrame(\n",
    "    np.random.randn(9, 4)*100,\n",
    "    index=[\"A\", \"B\", \"C\", \"D\", \"E\", \"F\", \"G\", \"H\", \"I\"],\n",
    "    columns=[\"coluna1\", \"coluna2\", \"coluna3\",\"coluna4\"],\n",
    ")\n",
    "df"
   ]
  },
  {
   "cell_type": "markdown",
   "metadata": {},
   "source": [
    "# 3. Renomeando colunas <a name=\"colunas\"></a>\n",
    "<div style=\"text-align: right\"\n",
    "     \n",
    "[Voltar ao índice](#Contents)"
   ]
  },
  {
   "cell_type": "code",
   "execution_count": 8,
   "metadata": {
    "ExecuteTime": {
     "end_time": "2024-01-01T02:45:09.949379900Z",
     "start_time": "2024-01-01T02:45:09.936824Z"
    }
   },
   "outputs": [
    {
     "data": {
      "text/plain": "Index(['coluna1', 'coluna2', 'coluna3', 'coluna4'], dtype='object')"
     },
     "execution_count": 8,
     "metadata": {},
     "output_type": "execute_result"
    }
   ],
   "source": [
    "df.columns"
   ]
  },
  {
   "cell_type": "code",
   "execution_count": 9,
   "metadata": {
    "ExecuteTime": {
     "end_time": "2024-01-01T02:45:11.174580400Z",
     "start_time": "2024-01-01T02:45:11.156562200Z"
    }
   },
   "outputs": [],
   "source": [
    "df.columns = ['segunda', 'terça', 'quarta', 'quinta']"
   ]
  },
  {
   "cell_type": "code",
   "execution_count": 10,
   "metadata": {
    "ExecuteTime": {
     "end_time": "2024-01-01T02:45:12.355822800Z",
     "start_time": "2024-01-01T02:45:12.336525Z"
    }
   },
   "outputs": [
    {
     "data": {
      "text/plain": "Index(['segunda', 'terça', 'quarta', 'quinta'], dtype='object')"
     },
     "execution_count": 10,
     "metadata": {},
     "output_type": "execute_result"
    }
   ],
   "source": [
    "df.columns"
   ]
  },
  {
   "cell_type": "code",
   "execution_count": 11,
   "metadata": {
    "ExecuteTime": {
     "end_time": "2024-01-01T02:45:28.645913200Z",
     "start_time": "2024-01-01T02:45:28.628395200Z"
    }
   },
   "outputs": [
    {
     "data": {
      "text/plain": "      segunda       terça      quarta      quinta\nA   20.965878  -35.105029  -87.832818   34.716740\nB   -3.995714  -86.964021   14.683675 -136.109163\nC -163.751117 -130.172054    6.071049 -161.435908\nD   97.882060 -121.905729 -227.737474  -18.288670\nE   15.952308 -205.005230   37.806262   77.941550\nF -164.497655  -60.788470  -68.732043   74.184420\nG  118.796303  177.459675  119.268501  -52.436025\nH  -30.584227   63.444995  -92.318032   29.055350\nI  -61.211823 -140.293120    4.523502  -35.814893",
      "text/html": "<div>\n<style scoped>\n    .dataframe tbody tr th:only-of-type {\n        vertical-align: middle;\n    }\n\n    .dataframe tbody tr th {\n        vertical-align: top;\n    }\n\n    .dataframe thead th {\n        text-align: right;\n    }\n</style>\n<table border=\"1\" class=\"dataframe\">\n  <thead>\n    <tr style=\"text-align: right;\">\n      <th></th>\n      <th>segunda</th>\n      <th>terça</th>\n      <th>quarta</th>\n      <th>quinta</th>\n    </tr>\n  </thead>\n  <tbody>\n    <tr>\n      <th>A</th>\n      <td>20.965878</td>\n      <td>-35.105029</td>\n      <td>-87.832818</td>\n      <td>34.716740</td>\n    </tr>\n    <tr>\n      <th>B</th>\n      <td>-3.995714</td>\n      <td>-86.964021</td>\n      <td>14.683675</td>\n      <td>-136.109163</td>\n    </tr>\n    <tr>\n      <th>C</th>\n      <td>-163.751117</td>\n      <td>-130.172054</td>\n      <td>6.071049</td>\n      <td>-161.435908</td>\n    </tr>\n    <tr>\n      <th>D</th>\n      <td>97.882060</td>\n      <td>-121.905729</td>\n      <td>-227.737474</td>\n      <td>-18.288670</td>\n    </tr>\n    <tr>\n      <th>E</th>\n      <td>15.952308</td>\n      <td>-205.005230</td>\n      <td>37.806262</td>\n      <td>77.941550</td>\n    </tr>\n    <tr>\n      <th>F</th>\n      <td>-164.497655</td>\n      <td>-60.788470</td>\n      <td>-68.732043</td>\n      <td>74.184420</td>\n    </tr>\n    <tr>\n      <th>G</th>\n      <td>118.796303</td>\n      <td>177.459675</td>\n      <td>119.268501</td>\n      <td>-52.436025</td>\n    </tr>\n    <tr>\n      <th>H</th>\n      <td>-30.584227</td>\n      <td>63.444995</td>\n      <td>-92.318032</td>\n      <td>29.055350</td>\n    </tr>\n    <tr>\n      <th>I</th>\n      <td>-61.211823</td>\n      <td>-140.293120</td>\n      <td>4.523502</td>\n      <td>-35.814893</td>\n    </tr>\n  </tbody>\n</table>\n</div>"
     },
     "execution_count": 11,
     "metadata": {},
     "output_type": "execute_result"
    }
   ],
   "source": [
    "df"
   ]
  },
  {
   "cell_type": "markdown",
   "metadata": {},
   "source": [
    "# 4. Renomeando índices <a name=\"indices\"></a>\n",
    "<div style=\"text-align: right\"\n",
    "     \n",
    "[Voltar ao índice](#Contents)"
   ]
  },
  {
   "cell_type": "code",
   "execution_count": 22,
   "metadata": {
    "ExecuteTime": {
     "end_time": "2024-01-01T02:54:52.333164700Z",
     "start_time": "2024-01-01T02:54:52.318154700Z"
    }
   },
   "outputs": [],
   "source": [
    "df['index'] = ['letraA','letraB','letraC','letraD','letraE','letraF','letraG','letraH','letraI']"
   ]
  },
  {
   "cell_type": "code",
   "execution_count": 23,
   "metadata": {
    "ExecuteTime": {
     "end_time": "2024-01-01T02:54:53.392056300Z",
     "start_time": "2024-01-01T02:54:53.370539100Z"
    }
   },
   "outputs": [
    {
     "data": {
      "text/plain": "      coluna1     coluna2     coluna3     coluna4 coluna5   index\nA  -68.614927  -29.782478 -102.085533  -68.033801  letraA  letraA\nB  -50.713220   47.513252  -64.372967    8.603846  letraB  letraB\nC -124.278295   45.177542  -28.362668   33.823789  letraC  letraC\nD  -87.685035 -121.012600    9.851646  103.883626  letraD  letraD\nE   61.557917 -115.591889    7.591063    0.925163  letraE  letraE\nF   68.432203  -20.547590  -93.994145   60.848024  letraF  letraF\nG   37.608402 -166.555662  -40.197482  199.302900  letraG  letraG\nH    6.230237 -137.947229  110.723294   45.738695  letraH  letraH\nI  206.588896  -71.368585 -235.579132 -116.022767  letraI  letraI",
      "text/html": "<div>\n<style scoped>\n    .dataframe tbody tr th:only-of-type {\n        vertical-align: middle;\n    }\n\n    .dataframe tbody tr th {\n        vertical-align: top;\n    }\n\n    .dataframe thead th {\n        text-align: right;\n    }\n</style>\n<table border=\"1\" class=\"dataframe\">\n  <thead>\n    <tr style=\"text-align: right;\">\n      <th></th>\n      <th>coluna1</th>\n      <th>coluna2</th>\n      <th>coluna3</th>\n      <th>coluna4</th>\n      <th>coluna5</th>\n      <th>index</th>\n    </tr>\n  </thead>\n  <tbody>\n    <tr>\n      <th>A</th>\n      <td>-68.614927</td>\n      <td>-29.782478</td>\n      <td>-102.085533</td>\n      <td>-68.033801</td>\n      <td>letraA</td>\n      <td>letraA</td>\n    </tr>\n    <tr>\n      <th>B</th>\n      <td>-50.713220</td>\n      <td>47.513252</td>\n      <td>-64.372967</td>\n      <td>8.603846</td>\n      <td>letraB</td>\n      <td>letraB</td>\n    </tr>\n    <tr>\n      <th>C</th>\n      <td>-124.278295</td>\n      <td>45.177542</td>\n      <td>-28.362668</td>\n      <td>33.823789</td>\n      <td>letraC</td>\n      <td>letraC</td>\n    </tr>\n    <tr>\n      <th>D</th>\n      <td>-87.685035</td>\n      <td>-121.012600</td>\n      <td>9.851646</td>\n      <td>103.883626</td>\n      <td>letraD</td>\n      <td>letraD</td>\n    </tr>\n    <tr>\n      <th>E</th>\n      <td>61.557917</td>\n      <td>-115.591889</td>\n      <td>7.591063</td>\n      <td>0.925163</td>\n      <td>letraE</td>\n      <td>letraE</td>\n    </tr>\n    <tr>\n      <th>F</th>\n      <td>68.432203</td>\n      <td>-20.547590</td>\n      <td>-93.994145</td>\n      <td>60.848024</td>\n      <td>letraF</td>\n      <td>letraF</td>\n    </tr>\n    <tr>\n      <th>G</th>\n      <td>37.608402</td>\n      <td>-166.555662</td>\n      <td>-40.197482</td>\n      <td>199.302900</td>\n      <td>letraG</td>\n      <td>letraG</td>\n    </tr>\n    <tr>\n      <th>H</th>\n      <td>6.230237</td>\n      <td>-137.947229</td>\n      <td>110.723294</td>\n      <td>45.738695</td>\n      <td>letraH</td>\n      <td>letraH</td>\n    </tr>\n    <tr>\n      <th>I</th>\n      <td>206.588896</td>\n      <td>-71.368585</td>\n      <td>-235.579132</td>\n      <td>-116.022767</td>\n      <td>letraI</td>\n      <td>letraI</td>\n    </tr>\n  </tbody>\n</table>\n</div>"
     },
     "execution_count": 23,
     "metadata": {},
     "output_type": "execute_result"
    }
   ],
   "source": [
    "df"
   ]
  },
  {
   "cell_type": "code",
   "execution_count": 25,
   "metadata": {
    "ExecuteTime": {
     "end_time": "2024-01-01T02:55:03.432553300Z",
     "start_time": "2024-01-01T02:55:03.422847Z"
    }
   },
   "outputs": [
    {
     "data": {
      "text/plain": "           coluna1     coluna2     coluna3     coluna4 coluna5\nindex                                                         \nletraA  -68.614927  -29.782478 -102.085533  -68.033801  letraA\nletraB  -50.713220   47.513252  -64.372967    8.603846  letraB\nletraC -124.278295   45.177542  -28.362668   33.823789  letraC\nletraD  -87.685035 -121.012600    9.851646  103.883626  letraD\nletraE   61.557917 -115.591889    7.591063    0.925163  letraE\nletraF   68.432203  -20.547590  -93.994145   60.848024  letraF\nletraG   37.608402 -166.555662  -40.197482  199.302900  letraG\nletraH    6.230237 -137.947229  110.723294   45.738695  letraH\nletraI  206.588896  -71.368585 -235.579132 -116.022767  letraI",
      "text/html": "<div>\n<style scoped>\n    .dataframe tbody tr th:only-of-type {\n        vertical-align: middle;\n    }\n\n    .dataframe tbody tr th {\n        vertical-align: top;\n    }\n\n    .dataframe thead th {\n        text-align: right;\n    }\n</style>\n<table border=\"1\" class=\"dataframe\">\n  <thead>\n    <tr style=\"text-align: right;\">\n      <th></th>\n      <th>coluna1</th>\n      <th>coluna2</th>\n      <th>coluna3</th>\n      <th>coluna4</th>\n      <th>coluna5</th>\n    </tr>\n    <tr>\n      <th>index</th>\n      <th></th>\n      <th></th>\n      <th></th>\n      <th></th>\n      <th></th>\n    </tr>\n  </thead>\n  <tbody>\n    <tr>\n      <th>letraA</th>\n      <td>-68.614927</td>\n      <td>-29.782478</td>\n      <td>-102.085533</td>\n      <td>-68.033801</td>\n      <td>letraA</td>\n    </tr>\n    <tr>\n      <th>letraB</th>\n      <td>-50.713220</td>\n      <td>47.513252</td>\n      <td>-64.372967</td>\n      <td>8.603846</td>\n      <td>letraB</td>\n    </tr>\n    <tr>\n      <th>letraC</th>\n      <td>-124.278295</td>\n      <td>45.177542</td>\n      <td>-28.362668</td>\n      <td>33.823789</td>\n      <td>letraC</td>\n    </tr>\n    <tr>\n      <th>letraD</th>\n      <td>-87.685035</td>\n      <td>-121.012600</td>\n      <td>9.851646</td>\n      <td>103.883626</td>\n      <td>letraD</td>\n    </tr>\n    <tr>\n      <th>letraE</th>\n      <td>61.557917</td>\n      <td>-115.591889</td>\n      <td>7.591063</td>\n      <td>0.925163</td>\n      <td>letraE</td>\n    </tr>\n    <tr>\n      <th>letraF</th>\n      <td>68.432203</td>\n      <td>-20.547590</td>\n      <td>-93.994145</td>\n      <td>60.848024</td>\n      <td>letraF</td>\n    </tr>\n    <tr>\n      <th>letraG</th>\n      <td>37.608402</td>\n      <td>-166.555662</td>\n      <td>-40.197482</td>\n      <td>199.302900</td>\n      <td>letraG</td>\n    </tr>\n    <tr>\n      <th>letraH</th>\n      <td>6.230237</td>\n      <td>-137.947229</td>\n      <td>110.723294</td>\n      <td>45.738695</td>\n      <td>letraH</td>\n    </tr>\n    <tr>\n      <th>letraI</th>\n      <td>206.588896</td>\n      <td>-71.368585</td>\n      <td>-235.579132</td>\n      <td>-116.022767</td>\n      <td>letraI</td>\n    </tr>\n  </tbody>\n</table>\n</div>"
     },
     "execution_count": 25,
     "metadata": {},
     "output_type": "execute_result"
    }
   ],
   "source": [
    "df.set_index('index')"
   ]
  },
  {
   "cell_type": "code",
   "execution_count": 26,
   "metadata": {
    "ExecuteTime": {
     "end_time": "2024-01-01T02:57:15.119581700Z",
     "start_time": "2024-01-01T02:57:15.096763Z"
    }
   },
   "outputs": [
    {
     "data": {
      "text/plain": "      coluna1     coluna2     coluna3     coluna4 coluna5   index\nA  -68.614927  -29.782478 -102.085533  -68.033801  letraA  letraA\nB  -50.713220   47.513252  -64.372967    8.603846  letraB  letraB\nC -124.278295   45.177542  -28.362668   33.823789  letraC  letraC\nD  -87.685035 -121.012600    9.851646  103.883626  letraD  letraD\nE   61.557917 -115.591889    7.591063    0.925163  letraE  letraE\nF   68.432203  -20.547590  -93.994145   60.848024  letraF  letraF\nG   37.608402 -166.555662  -40.197482  199.302900  letraG  letraG\nH    6.230237 -137.947229  110.723294   45.738695  letraH  letraH\nI  206.588896  -71.368585 -235.579132 -116.022767  letraI  letraI",
      "text/html": "<div>\n<style scoped>\n    .dataframe tbody tr th:only-of-type {\n        vertical-align: middle;\n    }\n\n    .dataframe tbody tr th {\n        vertical-align: top;\n    }\n\n    .dataframe thead th {\n        text-align: right;\n    }\n</style>\n<table border=\"1\" class=\"dataframe\">\n  <thead>\n    <tr style=\"text-align: right;\">\n      <th></th>\n      <th>coluna1</th>\n      <th>coluna2</th>\n      <th>coluna3</th>\n      <th>coluna4</th>\n      <th>coluna5</th>\n      <th>index</th>\n    </tr>\n  </thead>\n  <tbody>\n    <tr>\n      <th>A</th>\n      <td>-68.614927</td>\n      <td>-29.782478</td>\n      <td>-102.085533</td>\n      <td>-68.033801</td>\n      <td>letraA</td>\n      <td>letraA</td>\n    </tr>\n    <tr>\n      <th>B</th>\n      <td>-50.713220</td>\n      <td>47.513252</td>\n      <td>-64.372967</td>\n      <td>8.603846</td>\n      <td>letraB</td>\n      <td>letraB</td>\n    </tr>\n    <tr>\n      <th>C</th>\n      <td>-124.278295</td>\n      <td>45.177542</td>\n      <td>-28.362668</td>\n      <td>33.823789</td>\n      <td>letraC</td>\n      <td>letraC</td>\n    </tr>\n    <tr>\n      <th>D</th>\n      <td>-87.685035</td>\n      <td>-121.012600</td>\n      <td>9.851646</td>\n      <td>103.883626</td>\n      <td>letraD</td>\n      <td>letraD</td>\n    </tr>\n    <tr>\n      <th>E</th>\n      <td>61.557917</td>\n      <td>-115.591889</td>\n      <td>7.591063</td>\n      <td>0.925163</td>\n      <td>letraE</td>\n      <td>letraE</td>\n    </tr>\n    <tr>\n      <th>F</th>\n      <td>68.432203</td>\n      <td>-20.547590</td>\n      <td>-93.994145</td>\n      <td>60.848024</td>\n      <td>letraF</td>\n      <td>letraF</td>\n    </tr>\n    <tr>\n      <th>G</th>\n      <td>37.608402</td>\n      <td>-166.555662</td>\n      <td>-40.197482</td>\n      <td>199.302900</td>\n      <td>letraG</td>\n      <td>letraG</td>\n    </tr>\n    <tr>\n      <th>H</th>\n      <td>6.230237</td>\n      <td>-137.947229</td>\n      <td>110.723294</td>\n      <td>45.738695</td>\n      <td>letraH</td>\n      <td>letraH</td>\n    </tr>\n    <tr>\n      <th>I</th>\n      <td>206.588896</td>\n      <td>-71.368585</td>\n      <td>-235.579132</td>\n      <td>-116.022767</td>\n      <td>letraI</td>\n      <td>letraI</td>\n    </tr>\n  </tbody>\n</table>\n</div>"
     },
     "execution_count": 26,
     "metadata": {},
     "output_type": "execute_result"
    }
   ],
   "source": [
    "df"
   ]
  },
  {
   "cell_type": "code",
   "execution_count": 27,
   "metadata": {
    "ExecuteTime": {
     "end_time": "2024-01-01T02:57:23.856675200Z",
     "start_time": "2024-01-01T02:57:23.836155100Z"
    }
   },
   "outputs": [
    {
     "data": {
      "text/plain": "  level_0     coluna1     coluna2     coluna3     coluna4 coluna5   index\n0       A  -68.614927  -29.782478 -102.085533  -68.033801  letraA  letraA\n1       B  -50.713220   47.513252  -64.372967    8.603846  letraB  letraB\n2       C -124.278295   45.177542  -28.362668   33.823789  letraC  letraC\n3       D  -87.685035 -121.012600    9.851646  103.883626  letraD  letraD\n4       E   61.557917 -115.591889    7.591063    0.925163  letraE  letraE\n5       F   68.432203  -20.547590  -93.994145   60.848024  letraF  letraF\n6       G   37.608402 -166.555662  -40.197482  199.302900  letraG  letraG\n7       H    6.230237 -137.947229  110.723294   45.738695  letraH  letraH\n8       I  206.588896  -71.368585 -235.579132 -116.022767  letraI  letraI",
      "text/html": "<div>\n<style scoped>\n    .dataframe tbody tr th:only-of-type {\n        vertical-align: middle;\n    }\n\n    .dataframe tbody tr th {\n        vertical-align: top;\n    }\n\n    .dataframe thead th {\n        text-align: right;\n    }\n</style>\n<table border=\"1\" class=\"dataframe\">\n  <thead>\n    <tr style=\"text-align: right;\">\n      <th></th>\n      <th>level_0</th>\n      <th>coluna1</th>\n      <th>coluna2</th>\n      <th>coluna3</th>\n      <th>coluna4</th>\n      <th>coluna5</th>\n      <th>index</th>\n    </tr>\n  </thead>\n  <tbody>\n    <tr>\n      <th>0</th>\n      <td>A</td>\n      <td>-68.614927</td>\n      <td>-29.782478</td>\n      <td>-102.085533</td>\n      <td>-68.033801</td>\n      <td>letraA</td>\n      <td>letraA</td>\n    </tr>\n    <tr>\n      <th>1</th>\n      <td>B</td>\n      <td>-50.713220</td>\n      <td>47.513252</td>\n      <td>-64.372967</td>\n      <td>8.603846</td>\n      <td>letraB</td>\n      <td>letraB</td>\n    </tr>\n    <tr>\n      <th>2</th>\n      <td>C</td>\n      <td>-124.278295</td>\n      <td>45.177542</td>\n      <td>-28.362668</td>\n      <td>33.823789</td>\n      <td>letraC</td>\n      <td>letraC</td>\n    </tr>\n    <tr>\n      <th>3</th>\n      <td>D</td>\n      <td>-87.685035</td>\n      <td>-121.012600</td>\n      <td>9.851646</td>\n      <td>103.883626</td>\n      <td>letraD</td>\n      <td>letraD</td>\n    </tr>\n    <tr>\n      <th>4</th>\n      <td>E</td>\n      <td>61.557917</td>\n      <td>-115.591889</td>\n      <td>7.591063</td>\n      <td>0.925163</td>\n      <td>letraE</td>\n      <td>letraE</td>\n    </tr>\n    <tr>\n      <th>5</th>\n      <td>F</td>\n      <td>68.432203</td>\n      <td>-20.547590</td>\n      <td>-93.994145</td>\n      <td>60.848024</td>\n      <td>letraF</td>\n      <td>letraF</td>\n    </tr>\n    <tr>\n      <th>6</th>\n      <td>G</td>\n      <td>37.608402</td>\n      <td>-166.555662</td>\n      <td>-40.197482</td>\n      <td>199.302900</td>\n      <td>letraG</td>\n      <td>letraG</td>\n    </tr>\n    <tr>\n      <th>7</th>\n      <td>H</td>\n      <td>6.230237</td>\n      <td>-137.947229</td>\n      <td>110.723294</td>\n      <td>45.738695</td>\n      <td>letraH</td>\n      <td>letraH</td>\n    </tr>\n    <tr>\n      <th>8</th>\n      <td>I</td>\n      <td>206.588896</td>\n      <td>-71.368585</td>\n      <td>-235.579132</td>\n      <td>-116.022767</td>\n      <td>letraI</td>\n      <td>letraI</td>\n    </tr>\n  </tbody>\n</table>\n</div>"
     },
     "execution_count": 27,
     "metadata": {},
     "output_type": "execute_result"
    }
   ],
   "source": [
    "df.reset_index()"
   ]
  },
  {
   "cell_type": "code",
   "execution_count": 28,
   "metadata": {
    "ExecuteTime": {
     "end_time": "2024-01-01T02:57:27.727740500Z",
     "start_time": "2024-01-01T02:57:27.706935600Z"
    }
   },
   "outputs": [
    {
     "data": {
      "text/plain": "      coluna1     coluna2     coluna3     coluna4 coluna5   index\n0  -68.614927  -29.782478 -102.085533  -68.033801  letraA  letraA\n1  -50.713220   47.513252  -64.372967    8.603846  letraB  letraB\n2 -124.278295   45.177542  -28.362668   33.823789  letraC  letraC\n3  -87.685035 -121.012600    9.851646  103.883626  letraD  letraD\n4   61.557917 -115.591889    7.591063    0.925163  letraE  letraE\n5   68.432203  -20.547590  -93.994145   60.848024  letraF  letraF\n6   37.608402 -166.555662  -40.197482  199.302900  letraG  letraG\n7    6.230237 -137.947229  110.723294   45.738695  letraH  letraH\n8  206.588896  -71.368585 -235.579132 -116.022767  letraI  letraI",
      "text/html": "<div>\n<style scoped>\n    .dataframe tbody tr th:only-of-type {\n        vertical-align: middle;\n    }\n\n    .dataframe tbody tr th {\n        vertical-align: top;\n    }\n\n    .dataframe thead th {\n        text-align: right;\n    }\n</style>\n<table border=\"1\" class=\"dataframe\">\n  <thead>\n    <tr style=\"text-align: right;\">\n      <th></th>\n      <th>coluna1</th>\n      <th>coluna2</th>\n      <th>coluna3</th>\n      <th>coluna4</th>\n      <th>coluna5</th>\n      <th>index</th>\n    </tr>\n  </thead>\n  <tbody>\n    <tr>\n      <th>0</th>\n      <td>-68.614927</td>\n      <td>-29.782478</td>\n      <td>-102.085533</td>\n      <td>-68.033801</td>\n      <td>letraA</td>\n      <td>letraA</td>\n    </tr>\n    <tr>\n      <th>1</th>\n      <td>-50.713220</td>\n      <td>47.513252</td>\n      <td>-64.372967</td>\n      <td>8.603846</td>\n      <td>letraB</td>\n      <td>letraB</td>\n    </tr>\n    <tr>\n      <th>2</th>\n      <td>-124.278295</td>\n      <td>45.177542</td>\n      <td>-28.362668</td>\n      <td>33.823789</td>\n      <td>letraC</td>\n      <td>letraC</td>\n    </tr>\n    <tr>\n      <th>3</th>\n      <td>-87.685035</td>\n      <td>-121.012600</td>\n      <td>9.851646</td>\n      <td>103.883626</td>\n      <td>letraD</td>\n      <td>letraD</td>\n    </tr>\n    <tr>\n      <th>4</th>\n      <td>61.557917</td>\n      <td>-115.591889</td>\n      <td>7.591063</td>\n      <td>0.925163</td>\n      <td>letraE</td>\n      <td>letraE</td>\n    </tr>\n    <tr>\n      <th>5</th>\n      <td>68.432203</td>\n      <td>-20.547590</td>\n      <td>-93.994145</td>\n      <td>60.848024</td>\n      <td>letraF</td>\n      <td>letraF</td>\n    </tr>\n    <tr>\n      <th>6</th>\n      <td>37.608402</td>\n      <td>-166.555662</td>\n      <td>-40.197482</td>\n      <td>199.302900</td>\n      <td>letraG</td>\n      <td>letraG</td>\n    </tr>\n    <tr>\n      <th>7</th>\n      <td>6.230237</td>\n      <td>-137.947229</td>\n      <td>110.723294</td>\n      <td>45.738695</td>\n      <td>letraH</td>\n      <td>letraH</td>\n    </tr>\n    <tr>\n      <th>8</th>\n      <td>206.588896</td>\n      <td>-71.368585</td>\n      <td>-235.579132</td>\n      <td>-116.022767</td>\n      <td>letraI</td>\n      <td>letraI</td>\n    </tr>\n  </tbody>\n</table>\n</div>"
     },
     "execution_count": 28,
     "metadata": {},
     "output_type": "execute_result"
    }
   ],
   "source": [
    "df.reset_index(drop=True)"
   ]
  },
  {
   "cell_type": "code",
   "execution_count": null,
   "metadata": {},
   "outputs": [],
   "source": []
  },
  {
   "cell_type": "code",
   "execution_count": null,
   "metadata": {},
   "outputs": [],
   "source": []
  },
  {
   "cell_type": "code",
   "execution_count": null,
   "metadata": {},
   "outputs": [],
   "source": []
  },
  {
   "cell_type": "code",
   "execution_count": null,
   "metadata": {},
   "outputs": [],
   "source": []
  }
 ],
 "metadata": {
  "kernelspec": {
   "display_name": "Python 3",
   "language": "python",
   "name": "python3"
  },
  "language_info": {
   "codemirror_mode": {
    "name": "ipython",
    "version": 3
   },
   "file_extension": ".py",
   "mimetype": "text/x-python",
   "name": "python",
   "nbconvert_exporter": "python",
   "pygments_lexer": "ipython3",
   "version": "3.8.5"
  },
  "varInspector": {
   "cols": {
    "lenName": 16,
    "lenType": 16,
    "lenVar": 40
   },
   "kernels_config": {
    "python": {
     "delete_cmd_postfix": "",
     "delete_cmd_prefix": "del ",
     "library": "var_list.py",
     "varRefreshCmd": "print(var_dic_list())"
    },
    "r": {
     "delete_cmd_postfix": ") ",
     "delete_cmd_prefix": "rm(",
     "library": "var_list.r",
     "varRefreshCmd": "cat(var_dic_list()) "
    }
   },
   "types_to_exclude": [
    "module",
    "function",
    "builtin_function_or_method",
    "instance",
    "_Feature"
   ],
   "window_display": false
  }
 },
 "nbformat": 4,
 "nbformat_minor": 4
}
