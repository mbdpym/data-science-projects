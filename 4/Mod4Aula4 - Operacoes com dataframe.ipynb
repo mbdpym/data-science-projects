{
 "cells": [
  {
   "cell_type": "code",
   "execution_count": 2,
   "metadata": {
    "ExecuteTime": {
     "end_time": "2023-12-28T05:16:32.678454600Z",
     "start_time": "2023-12-28T05:16:32.281727300Z"
    }
   },
   "outputs": [],
   "source": [
    "import numpy  as np\n",
    "import pandas as pd"
   ]
  },
  {
   "cell_type": "markdown",
   "metadata": {},
   "source": [
    "# Operações com ``DataFrame``"
   ]
  },
  {
   "cell_type": "markdown",
   "metadata": {},
   "source": [
    "## Criando 2 dataframes (3 x 5)"
   ]
  },
  {
   "cell_type": "code",
   "execution_count": 3,
   "metadata": {
    "ExecuteTime": {
     "end_time": "2023-12-28T05:16:32.678954500Z",
     "start_time": "2023-12-28T05:16:32.673439800Z"
    }
   },
   "outputs": [
    {
     "data": {
      "text/plain": "array([[9, 3, 0, 5, 1],\n       [7, 8, 7, 1, 2],\n       [0, 5, 7, 1, 6]])"
     },
     "execution_count": 3,
     "metadata": {},
     "output_type": "execute_result"
    }
   ],
   "source": [
    "np.random.randint(10, size=(3, 5))"
   ]
  },
  {
   "cell_type": "code",
   "execution_count": 4,
   "metadata": {
    "ExecuteTime": {
     "end_time": "2023-12-28T05:16:32.696914600Z",
     "start_time": "2023-12-28T05:16:32.678954500Z"
    }
   },
   "outputs": [
    {
     "data": {
      "text/plain": "   A  B  C  D  E\n0  6  0  9  0  8\n1  0  4  4  0  9\n2  2  4  2  6  1",
      "text/html": "<div>\n<style scoped>\n    .dataframe tbody tr th:only-of-type {\n        vertical-align: middle;\n    }\n\n    .dataframe tbody tr th {\n        vertical-align: top;\n    }\n\n    .dataframe thead th {\n        text-align: right;\n    }\n</style>\n<table border=\"1\" class=\"dataframe\">\n  <thead>\n    <tr style=\"text-align: right;\">\n      <th></th>\n      <th>A</th>\n      <th>B</th>\n      <th>C</th>\n      <th>D</th>\n      <th>E</th>\n    </tr>\n  </thead>\n  <tbody>\n    <tr>\n      <th>0</th>\n      <td>6</td>\n      <td>0</td>\n      <td>9</td>\n      <td>0</td>\n      <td>8</td>\n    </tr>\n    <tr>\n      <th>1</th>\n      <td>0</td>\n      <td>4</td>\n      <td>4</td>\n      <td>0</td>\n      <td>9</td>\n    </tr>\n    <tr>\n      <th>2</th>\n      <td>2</td>\n      <td>4</td>\n      <td>2</td>\n      <td>6</td>\n      <td>1</td>\n    </tr>\n  </tbody>\n</table>\n</div>"
     },
     "execution_count": 4,
     "metadata": {},
     "output_type": "execute_result"
    }
   ],
   "source": [
    "df1 = pd.DataFrame(np.random.randint(10, size=(3, 5)), columns=['A','B','C','D','E'])\n",
    "df1"
   ]
  },
  {
   "cell_type": "code",
   "execution_count": 5,
   "metadata": {
    "ExecuteTime": {
     "end_time": "2023-12-28T05:16:32.697859Z",
     "start_time": "2023-12-28T05:16:32.684545900Z"
    }
   },
   "outputs": [
    {
     "data": {
      "text/plain": "   A  B  C  D  E\n0  3  4  0  0  5\n1  8  4  7  2  0\n2  4  5  9  2  4",
      "text/html": "<div>\n<style scoped>\n    .dataframe tbody tr th:only-of-type {\n        vertical-align: middle;\n    }\n\n    .dataframe tbody tr th {\n        vertical-align: top;\n    }\n\n    .dataframe thead th {\n        text-align: right;\n    }\n</style>\n<table border=\"1\" class=\"dataframe\">\n  <thead>\n    <tr style=\"text-align: right;\">\n      <th></th>\n      <th>A</th>\n      <th>B</th>\n      <th>C</th>\n      <th>D</th>\n      <th>E</th>\n    </tr>\n  </thead>\n  <tbody>\n    <tr>\n      <th>0</th>\n      <td>3</td>\n      <td>4</td>\n      <td>0</td>\n      <td>0</td>\n      <td>5</td>\n    </tr>\n    <tr>\n      <th>1</th>\n      <td>8</td>\n      <td>4</td>\n      <td>7</td>\n      <td>2</td>\n      <td>0</td>\n    </tr>\n    <tr>\n      <th>2</th>\n      <td>4</td>\n      <td>5</td>\n      <td>9</td>\n      <td>2</td>\n      <td>4</td>\n    </tr>\n  </tbody>\n</table>\n</div>"
     },
     "execution_count": 5,
     "metadata": {},
     "output_type": "execute_result"
    }
   ],
   "source": [
    "df2 = pd.DataFrame(np.random.randint(10, size=(3, 5)), columns=['A','B','C','D','E'])\n",
    "df2"
   ]
  },
  {
   "cell_type": "code",
   "execution_count": 5,
   "metadata": {
    "ExecuteTime": {
     "end_time": "2023-12-28T05:16:32.698361900Z",
     "start_time": "2023-12-28T05:16:32.689482300Z"
    }
   },
   "outputs": [],
   "source": []
  },
  {
   "cell_type": "markdown",
   "metadata": {},
   "source": [
    "## Somando 2 dataframes (3 x 5)"
   ]
  },
  {
   "cell_type": "code",
   "execution_count": 6,
   "metadata": {
    "ExecuteTime": {
     "end_time": "2023-12-28T05:16:32.698865200Z",
     "start_time": "2023-12-28T05:16:32.690987700Z"
    }
   },
   "outputs": [
    {
     "data": {
      "text/plain": "   A  B   C  D   E\n0  9  4   9  0  13\n1  8  8  11  2   9\n2  6  9  11  8   5",
      "text/html": "<div>\n<style scoped>\n    .dataframe tbody tr th:only-of-type {\n        vertical-align: middle;\n    }\n\n    .dataframe tbody tr th {\n        vertical-align: top;\n    }\n\n    .dataframe thead th {\n        text-align: right;\n    }\n</style>\n<table border=\"1\" class=\"dataframe\">\n  <thead>\n    <tr style=\"text-align: right;\">\n      <th></th>\n      <th>A</th>\n      <th>B</th>\n      <th>C</th>\n      <th>D</th>\n      <th>E</th>\n    </tr>\n  </thead>\n  <tbody>\n    <tr>\n      <th>0</th>\n      <td>9</td>\n      <td>4</td>\n      <td>9</td>\n      <td>0</td>\n      <td>13</td>\n    </tr>\n    <tr>\n      <th>1</th>\n      <td>8</td>\n      <td>8</td>\n      <td>11</td>\n      <td>2</td>\n      <td>9</td>\n    </tr>\n    <tr>\n      <th>2</th>\n      <td>6</td>\n      <td>9</td>\n      <td>11</td>\n      <td>8</td>\n      <td>5</td>\n    </tr>\n  </tbody>\n</table>\n</div>"
     },
     "execution_count": 6,
     "metadata": {},
     "output_type": "execute_result"
    }
   ],
   "source": [
    "df1 + df2"
   ]
  },
  {
   "cell_type": "code",
   "execution_count": 6,
   "metadata": {
    "ExecuteTime": {
     "end_time": "2023-12-28T05:16:32.718640800Z",
     "start_time": "2023-12-28T05:16:32.695908900Z"
    }
   },
   "outputs": [],
   "source": []
  },
  {
   "cell_type": "code",
   "execution_count": 6,
   "metadata": {
    "ExecuteTime": {
     "end_time": "2023-12-28T05:16:32.721299500Z",
     "start_time": "2023-12-28T05:16:32.697859Z"
    }
   },
   "outputs": [],
   "source": []
  },
  {
   "cell_type": "markdown",
   "metadata": {},
   "source": [
    "## Criando 1 dataframe (1 x 5)"
   ]
  },
  {
   "cell_type": "code",
   "execution_count": 7,
   "metadata": {
    "ExecuteTime": {
     "end_time": "2023-12-28T05:16:32.721799400Z",
     "start_time": "2023-12-28T05:16:32.702366500Z"
    }
   },
   "outputs": [
    {
     "data": {
      "text/plain": "   A  B  C  D  E\n0  5  2  0  6  4",
      "text/html": "<div>\n<style scoped>\n    .dataframe tbody tr th:only-of-type {\n        vertical-align: middle;\n    }\n\n    .dataframe tbody tr th {\n        vertical-align: top;\n    }\n\n    .dataframe thead th {\n        text-align: right;\n    }\n</style>\n<table border=\"1\" class=\"dataframe\">\n  <thead>\n    <tr style=\"text-align: right;\">\n      <th></th>\n      <th>A</th>\n      <th>B</th>\n      <th>C</th>\n      <th>D</th>\n      <th>E</th>\n    </tr>\n  </thead>\n  <tbody>\n    <tr>\n      <th>0</th>\n      <td>5</td>\n      <td>2</td>\n      <td>0</td>\n      <td>6</td>\n      <td>4</td>\n    </tr>\n  </tbody>\n</table>\n</div>"
     },
     "execution_count": 7,
     "metadata": {},
     "output_type": "execute_result"
    }
   ],
   "source": [
    "df3 = pd.DataFrame(np.random.randint(10, size=(1, 5)), columns=['A','B','C','D','E'])\n",
    "df3"
   ]
  },
  {
   "cell_type": "markdown",
   "metadata": {},
   "source": [
    "## Somando 2 dataframes (3 x 5 e 1 x 5)"
   ]
  },
  {
   "cell_type": "code",
   "execution_count": 8,
   "metadata": {
    "ExecuteTime": {
     "end_time": "2023-12-28T05:16:32.758871200Z",
     "start_time": "2023-12-28T05:16:32.705530100Z"
    }
   },
   "outputs": [
    {
     "data": {
      "text/plain": "      A    B    C    D     E\n0  11.0  2.0  9.0  6.0  12.0\n1   NaN  NaN  NaN  NaN   NaN\n2   NaN  NaN  NaN  NaN   NaN",
      "text/html": "<div>\n<style scoped>\n    .dataframe tbody tr th:only-of-type {\n        vertical-align: middle;\n    }\n\n    .dataframe tbody tr th {\n        vertical-align: top;\n    }\n\n    .dataframe thead th {\n        text-align: right;\n    }\n</style>\n<table border=\"1\" class=\"dataframe\">\n  <thead>\n    <tr style=\"text-align: right;\">\n      <th></th>\n      <th>A</th>\n      <th>B</th>\n      <th>C</th>\n      <th>D</th>\n      <th>E</th>\n    </tr>\n  </thead>\n  <tbody>\n    <tr>\n      <th>0</th>\n      <td>11.0</td>\n      <td>2.0</td>\n      <td>9.0</td>\n      <td>6.0</td>\n      <td>12.0</td>\n    </tr>\n    <tr>\n      <th>1</th>\n      <td>NaN</td>\n      <td>NaN</td>\n      <td>NaN</td>\n      <td>NaN</td>\n      <td>NaN</td>\n    </tr>\n    <tr>\n      <th>2</th>\n      <td>NaN</td>\n      <td>NaN</td>\n      <td>NaN</td>\n      <td>NaN</td>\n      <td>NaN</td>\n    </tr>\n  </tbody>\n</table>\n</div>"
     },
     "execution_count": 8,
     "metadata": {},
     "output_type": "execute_result"
    }
   ],
   "source": [
    "df1 + df3"
   ]
  },
  {
   "cell_type": "code",
   "execution_count": 8,
   "metadata": {
    "ExecuteTime": {
     "end_time": "2023-12-28T05:16:32.774871700Z",
     "start_time": "2023-12-28T05:16:32.715134400Z"
    }
   },
   "outputs": [],
   "source": []
  },
  {
   "cell_type": "markdown",
   "metadata": {
    "ExecuteTime": {
     "end_time": "2021-05-23T20:30:38.365481Z",
     "start_time": "2021-05-23T20:30:38.354485Z"
    }
   },
   "source": [
    "## Zerando uma linha"
   ]
  },
  {
   "cell_type": "code",
   "execution_count": 9,
   "metadata": {
    "ExecuteTime": {
     "end_time": "2023-12-28T05:16:32.776371400Z",
     "start_time": "2023-12-28T05:16:32.717141500Z"
    }
   },
   "outputs": [
    {
     "data": {
      "text/plain": "   A  B  C  D  E\n0  6  0  9  0  8\n1  0  4  4  0  9\n2  2  4  2  6  1",
      "text/html": "<div>\n<style scoped>\n    .dataframe tbody tr th:only-of-type {\n        vertical-align: middle;\n    }\n\n    .dataframe tbody tr th {\n        vertical-align: top;\n    }\n\n    .dataframe thead th {\n        text-align: right;\n    }\n</style>\n<table border=\"1\" class=\"dataframe\">\n  <thead>\n    <tr style=\"text-align: right;\">\n      <th></th>\n      <th>A</th>\n      <th>B</th>\n      <th>C</th>\n      <th>D</th>\n      <th>E</th>\n    </tr>\n  </thead>\n  <tbody>\n    <tr>\n      <th>0</th>\n      <td>6</td>\n      <td>0</td>\n      <td>9</td>\n      <td>0</td>\n      <td>8</td>\n    </tr>\n    <tr>\n      <th>1</th>\n      <td>0</td>\n      <td>4</td>\n      <td>4</td>\n      <td>0</td>\n      <td>9</td>\n    </tr>\n    <tr>\n      <th>2</th>\n      <td>2</td>\n      <td>4</td>\n      <td>2</td>\n      <td>6</td>\n      <td>1</td>\n    </tr>\n  </tbody>\n</table>\n</div>"
     },
     "execution_count": 9,
     "metadata": {},
     "output_type": "execute_result"
    }
   ],
   "source": [
    "df1"
   ]
  },
  {
   "cell_type": "code",
   "execution_count": 10,
   "metadata": {
    "ExecuteTime": {
     "end_time": "2023-12-28T05:16:32.778371600Z",
     "start_time": "2023-12-28T05:16:32.721299500Z"
    }
   },
   "outputs": [
    {
     "data": {
      "text/plain": "A    6\nB    0\nC    9\nD    0\nE    8\nName: 0, dtype: int32"
     },
     "execution_count": 10,
     "metadata": {},
     "output_type": "execute_result"
    }
   ],
   "source": [
    "df1.iloc[0]"
   ]
  },
  {
   "cell_type": "code",
   "execution_count": 11,
   "metadata": {
    "ExecuteTime": {
     "end_time": "2023-12-28T05:16:32.854880Z",
     "start_time": "2023-12-28T05:16:32.727696100Z"
    }
   },
   "outputs": [
    {
     "data": {
      "text/plain": "   A  B  C  D  E\n0  0  0  0  0  0\n1 -6  4 -5  0  1\n2 -4  4 -7  6 -7",
      "text/html": "<div>\n<style scoped>\n    .dataframe tbody tr th:only-of-type {\n        vertical-align: middle;\n    }\n\n    .dataframe tbody tr th {\n        vertical-align: top;\n    }\n\n    .dataframe thead th {\n        text-align: right;\n    }\n</style>\n<table border=\"1\" class=\"dataframe\">\n  <thead>\n    <tr style=\"text-align: right;\">\n      <th></th>\n      <th>A</th>\n      <th>B</th>\n      <th>C</th>\n      <th>D</th>\n      <th>E</th>\n    </tr>\n  </thead>\n  <tbody>\n    <tr>\n      <th>0</th>\n      <td>0</td>\n      <td>0</td>\n      <td>0</td>\n      <td>0</td>\n      <td>0</td>\n    </tr>\n    <tr>\n      <th>1</th>\n      <td>-6</td>\n      <td>4</td>\n      <td>-5</td>\n      <td>0</td>\n      <td>1</td>\n    </tr>\n    <tr>\n      <th>2</th>\n      <td>-4</td>\n      <td>4</td>\n      <td>-7</td>\n      <td>6</td>\n      <td>-7</td>\n    </tr>\n  </tbody>\n</table>\n</div>"
     },
     "execution_count": 11,
     "metadata": {},
     "output_type": "execute_result"
    }
   ],
   "source": [
    "df1 - df1.iloc[0]"
   ]
  },
  {
   "cell_type": "markdown",
   "metadata": {},
   "source": [
    "## Operação com escalar"
   ]
  },
  {
   "cell_type": "code",
   "execution_count": 12,
   "metadata": {
    "ExecuteTime": {
     "end_time": "2023-12-28T05:16:32.858879500Z",
     "start_time": "2023-12-28T05:16:32.731889100Z"
    }
   },
   "outputs": [
    {
     "data": {
      "text/plain": "   A  B  C  D  E\n0  6  0  9  0  8\n1  0  4  4  0  9\n2  2  4  2  6  1",
      "text/html": "<div>\n<style scoped>\n    .dataframe tbody tr th:only-of-type {\n        vertical-align: middle;\n    }\n\n    .dataframe tbody tr th {\n        vertical-align: top;\n    }\n\n    .dataframe thead th {\n        text-align: right;\n    }\n</style>\n<table border=\"1\" class=\"dataframe\">\n  <thead>\n    <tr style=\"text-align: right;\">\n      <th></th>\n      <th>A</th>\n      <th>B</th>\n      <th>C</th>\n      <th>D</th>\n      <th>E</th>\n    </tr>\n  </thead>\n  <tbody>\n    <tr>\n      <th>0</th>\n      <td>6</td>\n      <td>0</td>\n      <td>9</td>\n      <td>0</td>\n      <td>8</td>\n    </tr>\n    <tr>\n      <th>1</th>\n      <td>0</td>\n      <td>4</td>\n      <td>4</td>\n      <td>0</td>\n      <td>9</td>\n    </tr>\n    <tr>\n      <th>2</th>\n      <td>2</td>\n      <td>4</td>\n      <td>2</td>\n      <td>6</td>\n      <td>1</td>\n    </tr>\n  </tbody>\n</table>\n</div>"
     },
     "execution_count": 12,
     "metadata": {},
     "output_type": "execute_result"
    }
   ],
   "source": [
    "df1"
   ]
  },
  {
   "cell_type": "code",
   "execution_count": 13,
   "metadata": {
    "ExecuteTime": {
     "end_time": "2023-12-28T05:16:32.884380300Z",
     "start_time": "2023-12-28T05:16:32.734005800Z"
    }
   },
   "outputs": [
    {
     "data": {
      "text/plain": "     A    B    C    D    E\n0  600    0  900    0  800\n1    0  400  400    0  900\n2  200  400  200  600  100",
      "text/html": "<div>\n<style scoped>\n    .dataframe tbody tr th:only-of-type {\n        vertical-align: middle;\n    }\n\n    .dataframe tbody tr th {\n        vertical-align: top;\n    }\n\n    .dataframe thead th {\n        text-align: right;\n    }\n</style>\n<table border=\"1\" class=\"dataframe\">\n  <thead>\n    <tr style=\"text-align: right;\">\n      <th></th>\n      <th>A</th>\n      <th>B</th>\n      <th>C</th>\n      <th>D</th>\n      <th>E</th>\n    </tr>\n  </thead>\n  <tbody>\n    <tr>\n      <th>0</th>\n      <td>600</td>\n      <td>0</td>\n      <td>900</td>\n      <td>0</td>\n      <td>800</td>\n    </tr>\n    <tr>\n      <th>1</th>\n      <td>0</td>\n      <td>400</td>\n      <td>400</td>\n      <td>0</td>\n      <td>900</td>\n    </tr>\n    <tr>\n      <th>2</th>\n      <td>200</td>\n      <td>400</td>\n      <td>200</td>\n      <td>600</td>\n      <td>100</td>\n    </tr>\n  </tbody>\n</table>\n</div>"
     },
     "execution_count": 13,
     "metadata": {},
     "output_type": "execute_result"
    }
   ],
   "source": [
    "df1 * 100"
   ]
  },
  {
   "cell_type": "code",
   "execution_count": 14,
   "metadata": {
    "ExecuteTime": {
     "end_time": "2023-12-28T05:16:32.885380Z",
     "start_time": "2023-12-28T05:16:32.738724Z"
    }
   },
   "outputs": [
    {
     "data": {
      "text/plain": "     A    B     C    D     E\n0  800  200  1100  200  1000\n1  200  600   600  200  1100\n2  400  600   400  800   300",
      "text/html": "<div>\n<style scoped>\n    .dataframe tbody tr th:only-of-type {\n        vertical-align: middle;\n    }\n\n    .dataframe tbody tr th {\n        vertical-align: top;\n    }\n\n    .dataframe thead th {\n        text-align: right;\n    }\n</style>\n<table border=\"1\" class=\"dataframe\">\n  <thead>\n    <tr style=\"text-align: right;\">\n      <th></th>\n      <th>A</th>\n      <th>B</th>\n      <th>C</th>\n      <th>D</th>\n      <th>E</th>\n    </tr>\n  </thead>\n  <tbody>\n    <tr>\n      <th>0</th>\n      <td>800</td>\n      <td>200</td>\n      <td>1100</td>\n      <td>200</td>\n      <td>1000</td>\n    </tr>\n    <tr>\n      <th>1</th>\n      <td>200</td>\n      <td>600</td>\n      <td>600</td>\n      <td>200</td>\n      <td>1100</td>\n    </tr>\n    <tr>\n      <th>2</th>\n      <td>400</td>\n      <td>600</td>\n      <td>400</td>\n      <td>800</td>\n      <td>300</td>\n    </tr>\n  </tbody>\n</table>\n</div>"
     },
     "execution_count": 14,
     "metadata": {},
     "output_type": "execute_result"
    }
   ],
   "source": [
    "df1 * 100 + 200"
   ]
  },
  {
   "cell_type": "code",
   "execution_count": 14,
   "metadata": {
    "ExecuteTime": {
     "end_time": "2023-12-28T05:16:32.887880100Z",
     "start_time": "2023-12-28T05:16:32.743213300Z"
    }
   },
   "outputs": [],
   "source": []
  },
  {
   "cell_type": "markdown",
   "metadata": {},
   "source": [
    "## Transpondo df"
   ]
  },
  {
   "cell_type": "code",
   "execution_count": 15,
   "metadata": {
    "ExecuteTime": {
     "end_time": "2023-12-28T05:16:32.888380400Z",
     "start_time": "2023-12-28T05:16:32.745719100Z"
    }
   },
   "outputs": [
    {
     "data": {
      "text/plain": "   A  B  C  D  E\n0  6  0  9  0  8\n1  0  4  4  0  9\n2  2  4  2  6  1",
      "text/html": "<div>\n<style scoped>\n    .dataframe tbody tr th:only-of-type {\n        vertical-align: middle;\n    }\n\n    .dataframe tbody tr th {\n        vertical-align: top;\n    }\n\n    .dataframe thead th {\n        text-align: right;\n    }\n</style>\n<table border=\"1\" class=\"dataframe\">\n  <thead>\n    <tr style=\"text-align: right;\">\n      <th></th>\n      <th>A</th>\n      <th>B</th>\n      <th>C</th>\n      <th>D</th>\n      <th>E</th>\n    </tr>\n  </thead>\n  <tbody>\n    <tr>\n      <th>0</th>\n      <td>6</td>\n      <td>0</td>\n      <td>9</td>\n      <td>0</td>\n      <td>8</td>\n    </tr>\n    <tr>\n      <th>1</th>\n      <td>0</td>\n      <td>4</td>\n      <td>4</td>\n      <td>0</td>\n      <td>9</td>\n    </tr>\n    <tr>\n      <th>2</th>\n      <td>2</td>\n      <td>4</td>\n      <td>2</td>\n      <td>6</td>\n      <td>1</td>\n    </tr>\n  </tbody>\n</table>\n</div>"
     },
     "execution_count": 15,
     "metadata": {},
     "output_type": "execute_result"
    }
   ],
   "source": [
    "df1"
   ]
  },
  {
   "cell_type": "code",
   "execution_count": 16,
   "metadata": {
    "ExecuteTime": {
     "end_time": "2023-12-28T05:16:32.889380300Z",
     "start_time": "2023-12-28T05:16:32.750315600Z"
    }
   },
   "outputs": [
    {
     "data": {
      "text/plain": "   0  1  2\nA  6  0  2\nB  0  4  4\nC  9  4  2\nD  0  0  6\nE  8  9  1",
      "text/html": "<div>\n<style scoped>\n    .dataframe tbody tr th:only-of-type {\n        vertical-align: middle;\n    }\n\n    .dataframe tbody tr th {\n        vertical-align: top;\n    }\n\n    .dataframe thead th {\n        text-align: right;\n    }\n</style>\n<table border=\"1\" class=\"dataframe\">\n  <thead>\n    <tr style=\"text-align: right;\">\n      <th></th>\n      <th>0</th>\n      <th>1</th>\n      <th>2</th>\n    </tr>\n  </thead>\n  <tbody>\n    <tr>\n      <th>A</th>\n      <td>6</td>\n      <td>0</td>\n      <td>2</td>\n    </tr>\n    <tr>\n      <th>B</th>\n      <td>0</td>\n      <td>4</td>\n      <td>4</td>\n    </tr>\n    <tr>\n      <th>C</th>\n      <td>9</td>\n      <td>4</td>\n      <td>2</td>\n    </tr>\n    <tr>\n      <th>D</th>\n      <td>0</td>\n      <td>0</td>\n      <td>6</td>\n    </tr>\n    <tr>\n      <th>E</th>\n      <td>8</td>\n      <td>9</td>\n      <td>1</td>\n    </tr>\n  </tbody>\n</table>\n</div>"
     },
     "execution_count": 16,
     "metadata": {},
     "output_type": "execute_result"
    }
   ],
   "source": [
    "df1.T"
   ]
  },
  {
   "cell_type": "markdown",
   "metadata": {
    "ExecuteTime": {
     "end_time": "2021-05-23T20:32:22.382777Z",
     "start_time": "2021-05-23T20:32:22.377781Z"
    }
   },
   "source": [
    "## Calculando exponencial dos valores"
   ]
  },
  {
   "cell_type": "code",
   "execution_count": 17,
   "metadata": {
    "ExecuteTime": {
     "end_time": "2023-12-28T05:16:32.903880800Z",
     "start_time": "2023-12-28T05:16:32.754221900Z"
    }
   },
   "outputs": [
    {
     "data": {
      "text/plain": "            A         B            C           D            E\n0  403.428793   1.00000  8103.083928    1.000000  2980.957987\n1    1.000000  54.59815    54.598150    1.000000  8103.083928\n2    7.389056  54.59815     7.389056  403.428793     2.718282",
      "text/html": "<div>\n<style scoped>\n    .dataframe tbody tr th:only-of-type {\n        vertical-align: middle;\n    }\n\n    .dataframe tbody tr th {\n        vertical-align: top;\n    }\n\n    .dataframe thead th {\n        text-align: right;\n    }\n</style>\n<table border=\"1\" class=\"dataframe\">\n  <thead>\n    <tr style=\"text-align: right;\">\n      <th></th>\n      <th>A</th>\n      <th>B</th>\n      <th>C</th>\n      <th>D</th>\n      <th>E</th>\n    </tr>\n  </thead>\n  <tbody>\n    <tr>\n      <th>0</th>\n      <td>403.428793</td>\n      <td>1.00000</td>\n      <td>8103.083928</td>\n      <td>1.000000</td>\n      <td>2980.957987</td>\n    </tr>\n    <tr>\n      <th>1</th>\n      <td>1.000000</td>\n      <td>54.59815</td>\n      <td>54.598150</td>\n      <td>1.000000</td>\n      <td>8103.083928</td>\n    </tr>\n    <tr>\n      <th>2</th>\n      <td>7.389056</td>\n      <td>54.59815</td>\n      <td>7.389056</td>\n      <td>403.428793</td>\n      <td>2.718282</td>\n    </tr>\n  </tbody>\n</table>\n</div>"
     },
     "execution_count": 17,
     "metadata": {},
     "output_type": "execute_result"
    }
   ],
   "source": [
    "np.exp(df1)"
   ]
  },
  {
   "cell_type": "markdown",
   "metadata": {},
   "source": [
    "# Registros de Vacinação COVID19 (Acre)\n",
    "\n",
    "link: https://opendatasus.saude.gov.br/dataset/covid-19-vacinacao/resource/ef3bd0b8-b605-474b-9ae5-c97390c197a8"
   ]
  },
  {
   "cell_type": "markdown",
   "metadata": {},
   "source": [
    "## Lendo CSV"
   ]
  },
  {
   "cell_type": "code",
   "execution_count": 18,
   "metadata": {
    "scrolled": true,
    "ExecuteTime": {
     "end_time": "2023-12-28T05:16:38.621099700Z",
     "start_time": "2023-12-28T05:16:32.759371700Z"
    }
   },
   "outputs": [
    {
     "data": {
      "text/plain": "                                      document_id  \\\n0       e32715ba-bba3-4ccd-8e90-e8d930321f34-i0b0   \n1       66eb2b3e-40c9-4f25-8771-3222dd3e77b2-i0b0   \n2       03850c39-5c67-4e68-98af-96be50d9042b-i0b0   \n3       66ff3293-3ee5-4cfb-9425-6ef645d51b3f-i0b0   \n4       51a2b293-2d0a-4f0b-81b8-285afcfb84b2-i0b0   \n...                                           ...   \n370366  8826a9d6-9e46-4832-b580-22680ffe8920-i0b0   \n370367  885fd6ff-4acc-4fa8-b5ab-517f8fe4f063-i0b0   \n370368  8869d7c6-15c5-4967-b7eb-985618d9267b-i0b0   \n370369  888c2f27-5696-4c40-a8b2-44e9f4e10181-i0b0   \n370370  88979016-11e8-456f-ba03-b417ea1aa609-i0b0   \n\n                                              paciente_id  paciente_idade  \\\n0       00158d713d239cf3ef860824ebf73d3eb9a9a5042d9569...              52   \n1       42c12b41b63291facf4c5dd887e1a7b857ebaac3c6ae4a...              56   \n2       f529b2a120cdf937144c6decfb5340d96e5a65df196363...              15   \n3       3dcc3b0528cba132b2f62317e18ffcfbad7a0e6aee7697...              45   \n4       b0f5c768054bbeb2658fbda71a3226d5bd4200dca52374...               5   \n...                                                   ...             ...   \n370366  cd24ff1404409e17c77c3c1b20a5340825c5af689da3d9...               7   \n370367  6a15ff4a65bf156e6b88f4b2e1143e1329d31d591306d6...              43   \n370368  d98fe49ab681c359eec34c69c5c9382818cfebd82b5c31...              20   \n370369  9356333fa4617e5e80d716477fc5730a6abfabed888c31...              42   \n370370  643b1e70cc8eb253d520ab0b57272295fb1f26a372525b...              39   \n\n       paciente_dataNascimento paciente_enumSexoBiologico  \\\n0                   1968-08-09                          M   \n1                   1965-07-25                          M   \n2                   2005-09-21                          F   \n3                   1975-12-19                          M   \n4                   2017-06-19                          M   \n...                        ...                        ...   \n370366              2015-09-08                          M   \n370367              1978-02-14                          F   \n370368              2001-11-10                          M   \n370369              1979-03-03                          M   \n370370              1982-05-18                          M   \n\n        paciente_racaCor_codigo paciente_racaCor_valor  \\\n0                             4                AMARELA   \n1                             3                  PARDA   \n2                             4                AMARELA   \n3                            99         SEM INFORMACAO   \n4                             1                 BRANCA   \n...                         ...                    ...   \n370366                       99         SEM INFORMACAO   \n370367                        3                  PARDA   \n370368                        3                  PARDA   \n370369                        4                AMARELA   \n370370                       99         SEM INFORMACAO   \n\n        paciente_endereco_coIbgeMunicipio  paciente_endereco_coPais  \\\n0                                120040.0                      10.0   \n1                                120040.0                      10.0   \n2                                120010.0                      10.0   \n3                                120040.0                      10.0   \n4                                120060.0                      10.0   \n...                                   ...                       ...   \n370366                           120060.0                      10.0   \n370367                           120040.0                      10.0   \n370368                           120040.0                      10.0   \n370369                           120050.0                      10.0   \n370370                           120005.0                      10.0   \n\n       paciente_endereco_nmMunicipio  ... vacina_categoria_codigo  \\\n0                         RIO BRANCO  ...                     1.0   \n1                         RIO BRANCO  ...                     1.0   \n2                          BRASILEIA  ...                     2.0   \n3                         RIO BRANCO  ...                     2.0   \n4                           TARAUACA  ...                     NaN   \n...                              ...  ...                     ...   \n370366                      TARAUACA  ...                     6.0   \n370367                    RIO BRANCO  ...                     2.0   \n370368                    RIO BRANCO  ...                     2.0   \n370369                SENA MADUREIRA  ...                     2.0   \n370370                  ASSIS BRASIL  ...                     2.0   \n\n                   vacina_categoria_nome    vacina_lote  \\\n0                           Comorbidades         FA9096   \n1                           Comorbidades         FH8023   \n2                           Faixa Etária         FA9096   \n3                           Faixa Etária        1855836   \n4                                    NaN         210520   \n...                                  ...            ...   \n370366  Povos e Comunidades Tradicionais         220301   \n370367                      Faixa Etária     215VCD116W   \n370368                      Faixa Etária         FH4750   \n370369                      Faixa Etária     219VCD288Z   \n370370                      Faixa Etária  212VCD003ZVAA   \n\n       vacina_fabricante_nome  vacina_fabricante_referencia  \\\n0                      PFIZER   Organization/00394544000851   \n1                      PFIZER            Organization/28290   \n2                      PFIZER   Organization/00394544000851   \n3                     JANSSEN            Organization/30587   \n4            SINOVAC/BUTANTAN                         29501   \n...                       ...                           ...   \n370366       SINOVAC/BUTANTAN                           152   \n370367    ASTRAZENECA/FIOCRUZ   Organization/33781055000135   \n370368                 PFIZER            Organization/28290   \n370369    ASTRAZENECA/FIOCRUZ              Organization/149   \n370370    ASTRAZENECA/FIOCRUZ   Organization/33781055000135   \n\n       vacina_dataAplicacao vacina_descricao_dose  vacina_codigo  \\\n0                2021-08-07               2ª Dose             87   \n1                2021-12-04        Dose Adicional             87   \n2                2021-08-10               1ª Dose             87   \n3                2021-12-14               Reforço             88   \n4                2022-09-21               1ª Dose             86   \n...                     ...                   ...            ...   \n370366           2023-03-25               1ª Dose             86   \n370367           2021-06-18               1ª Dose             85   \n370368           2021-12-09               2ª Dose             87   \n370369           2022-02-01               2ª Dose             85   \n370370           2021-06-26               1ª Dose             85   \n\n                                      vacina_nome sistema_origem  \n0                     COVID-19 PFIZER - COMIRNATY       Novo PNI  \n1                     COVID-19 PFIZER - COMIRNATY       Novo PNI  \n2                     COVID-19 PFIZER - COMIRNATY       Novo PNI  \n3                  COVID-19 JANSSEN - Ad26.COV2.S       Novo PNI  \n4           COVID-19 SINOVAC/BUTANTAN - CORONAVAC       Novo PNI  \n...                                           ...            ...  \n370366      COVID-19 SINOVAC/BUTANTAN - CORONAVAC       Novo PNI  \n370367  COVID-19 ASTRAZENECA/FIOCRUZ - COVISHIELD       Novo PNI  \n370368                COVID-19 PFIZER - COMIRNATY       Novo PNI  \n370369  COVID-19 ASTRAZENECA/FIOCRUZ - COVISHIELD       Novo PNI  \n370370  COVID-19 ASTRAZENECA/FIOCRUZ - COVISHIELD       Novo PNI  \n\n[370371 rows x 32 columns]",
      "text/html": "<div>\n<style scoped>\n    .dataframe tbody tr th:only-of-type {\n        vertical-align: middle;\n    }\n\n    .dataframe tbody tr th {\n        vertical-align: top;\n    }\n\n    .dataframe thead th {\n        text-align: right;\n    }\n</style>\n<table border=\"1\" class=\"dataframe\">\n  <thead>\n    <tr style=\"text-align: right;\">\n      <th></th>\n      <th>document_id</th>\n      <th>paciente_id</th>\n      <th>paciente_idade</th>\n      <th>paciente_dataNascimento</th>\n      <th>paciente_enumSexoBiologico</th>\n      <th>paciente_racaCor_codigo</th>\n      <th>paciente_racaCor_valor</th>\n      <th>paciente_endereco_coIbgeMunicipio</th>\n      <th>paciente_endereco_coPais</th>\n      <th>paciente_endereco_nmMunicipio</th>\n      <th>...</th>\n      <th>vacina_categoria_codigo</th>\n      <th>vacina_categoria_nome</th>\n      <th>vacina_lote</th>\n      <th>vacina_fabricante_nome</th>\n      <th>vacina_fabricante_referencia</th>\n      <th>vacina_dataAplicacao</th>\n      <th>vacina_descricao_dose</th>\n      <th>vacina_codigo</th>\n      <th>vacina_nome</th>\n      <th>sistema_origem</th>\n    </tr>\n  </thead>\n  <tbody>\n    <tr>\n      <th>0</th>\n      <td>e32715ba-bba3-4ccd-8e90-e8d930321f34-i0b0</td>\n      <td>00158d713d239cf3ef860824ebf73d3eb9a9a5042d9569...</td>\n      <td>52</td>\n      <td>1968-08-09</td>\n      <td>M</td>\n      <td>4</td>\n      <td>AMARELA</td>\n      <td>120040.0</td>\n      <td>10.0</td>\n      <td>RIO BRANCO</td>\n      <td>...</td>\n      <td>1.0</td>\n      <td>Comorbidades</td>\n      <td>FA9096</td>\n      <td>PFIZER</td>\n      <td>Organization/00394544000851</td>\n      <td>2021-08-07</td>\n      <td>2ª Dose</td>\n      <td>87</td>\n      <td>COVID-19 PFIZER - COMIRNATY</td>\n      <td>Novo PNI</td>\n    </tr>\n    <tr>\n      <th>1</th>\n      <td>66eb2b3e-40c9-4f25-8771-3222dd3e77b2-i0b0</td>\n      <td>42c12b41b63291facf4c5dd887e1a7b857ebaac3c6ae4a...</td>\n      <td>56</td>\n      <td>1965-07-25</td>\n      <td>M</td>\n      <td>3</td>\n      <td>PARDA</td>\n      <td>120040.0</td>\n      <td>10.0</td>\n      <td>RIO BRANCO</td>\n      <td>...</td>\n      <td>1.0</td>\n      <td>Comorbidades</td>\n      <td>FH8023</td>\n      <td>PFIZER</td>\n      <td>Organization/28290</td>\n      <td>2021-12-04</td>\n      <td>Dose Adicional</td>\n      <td>87</td>\n      <td>COVID-19 PFIZER - COMIRNATY</td>\n      <td>Novo PNI</td>\n    </tr>\n    <tr>\n      <th>2</th>\n      <td>03850c39-5c67-4e68-98af-96be50d9042b-i0b0</td>\n      <td>f529b2a120cdf937144c6decfb5340d96e5a65df196363...</td>\n      <td>15</td>\n      <td>2005-09-21</td>\n      <td>F</td>\n      <td>4</td>\n      <td>AMARELA</td>\n      <td>120010.0</td>\n      <td>10.0</td>\n      <td>BRASILEIA</td>\n      <td>...</td>\n      <td>2.0</td>\n      <td>Faixa Etária</td>\n      <td>FA9096</td>\n      <td>PFIZER</td>\n      <td>Organization/00394544000851</td>\n      <td>2021-08-10</td>\n      <td>1ª Dose</td>\n      <td>87</td>\n      <td>COVID-19 PFIZER - COMIRNATY</td>\n      <td>Novo PNI</td>\n    </tr>\n    <tr>\n      <th>3</th>\n      <td>66ff3293-3ee5-4cfb-9425-6ef645d51b3f-i0b0</td>\n      <td>3dcc3b0528cba132b2f62317e18ffcfbad7a0e6aee7697...</td>\n      <td>45</td>\n      <td>1975-12-19</td>\n      <td>M</td>\n      <td>99</td>\n      <td>SEM INFORMACAO</td>\n      <td>120040.0</td>\n      <td>10.0</td>\n      <td>RIO BRANCO</td>\n      <td>...</td>\n      <td>2.0</td>\n      <td>Faixa Etária</td>\n      <td>1855836</td>\n      <td>JANSSEN</td>\n      <td>Organization/30587</td>\n      <td>2021-12-14</td>\n      <td>Reforço</td>\n      <td>88</td>\n      <td>COVID-19 JANSSEN - Ad26.COV2.S</td>\n      <td>Novo PNI</td>\n    </tr>\n    <tr>\n      <th>4</th>\n      <td>51a2b293-2d0a-4f0b-81b8-285afcfb84b2-i0b0</td>\n      <td>b0f5c768054bbeb2658fbda71a3226d5bd4200dca52374...</td>\n      <td>5</td>\n      <td>2017-06-19</td>\n      <td>M</td>\n      <td>1</td>\n      <td>BRANCA</td>\n      <td>120060.0</td>\n      <td>10.0</td>\n      <td>TARAUACA</td>\n      <td>...</td>\n      <td>NaN</td>\n      <td>NaN</td>\n      <td>210520</td>\n      <td>SINOVAC/BUTANTAN</td>\n      <td>29501</td>\n      <td>2022-09-21</td>\n      <td>1ª Dose</td>\n      <td>86</td>\n      <td>COVID-19 SINOVAC/BUTANTAN - CORONAVAC</td>\n      <td>Novo PNI</td>\n    </tr>\n    <tr>\n      <th>...</th>\n      <td>...</td>\n      <td>...</td>\n      <td>...</td>\n      <td>...</td>\n      <td>...</td>\n      <td>...</td>\n      <td>...</td>\n      <td>...</td>\n      <td>...</td>\n      <td>...</td>\n      <td>...</td>\n      <td>...</td>\n      <td>...</td>\n      <td>...</td>\n      <td>...</td>\n      <td>...</td>\n      <td>...</td>\n      <td>...</td>\n      <td>...</td>\n      <td>...</td>\n      <td>...</td>\n    </tr>\n    <tr>\n      <th>370366</th>\n      <td>8826a9d6-9e46-4832-b580-22680ffe8920-i0b0</td>\n      <td>cd24ff1404409e17c77c3c1b20a5340825c5af689da3d9...</td>\n      <td>7</td>\n      <td>2015-09-08</td>\n      <td>M</td>\n      <td>99</td>\n      <td>SEM INFORMACAO</td>\n      <td>120060.0</td>\n      <td>10.0</td>\n      <td>TARAUACA</td>\n      <td>...</td>\n      <td>6.0</td>\n      <td>Povos e Comunidades Tradicionais</td>\n      <td>220301</td>\n      <td>SINOVAC/BUTANTAN</td>\n      <td>152</td>\n      <td>2023-03-25</td>\n      <td>1ª Dose</td>\n      <td>86</td>\n      <td>COVID-19 SINOVAC/BUTANTAN - CORONAVAC</td>\n      <td>Novo PNI</td>\n    </tr>\n    <tr>\n      <th>370367</th>\n      <td>885fd6ff-4acc-4fa8-b5ab-517f8fe4f063-i0b0</td>\n      <td>6a15ff4a65bf156e6b88f4b2e1143e1329d31d591306d6...</td>\n      <td>43</td>\n      <td>1978-02-14</td>\n      <td>F</td>\n      <td>3</td>\n      <td>PARDA</td>\n      <td>120040.0</td>\n      <td>10.0</td>\n      <td>RIO BRANCO</td>\n      <td>...</td>\n      <td>2.0</td>\n      <td>Faixa Etária</td>\n      <td>215VCD116W</td>\n      <td>ASTRAZENECA/FIOCRUZ</td>\n      <td>Organization/33781055000135</td>\n      <td>2021-06-18</td>\n      <td>1ª Dose</td>\n      <td>85</td>\n      <td>COVID-19 ASTRAZENECA/FIOCRUZ - COVISHIELD</td>\n      <td>Novo PNI</td>\n    </tr>\n    <tr>\n      <th>370368</th>\n      <td>8869d7c6-15c5-4967-b7eb-985618d9267b-i0b0</td>\n      <td>d98fe49ab681c359eec34c69c5c9382818cfebd82b5c31...</td>\n      <td>20</td>\n      <td>2001-11-10</td>\n      <td>M</td>\n      <td>3</td>\n      <td>PARDA</td>\n      <td>120040.0</td>\n      <td>10.0</td>\n      <td>RIO BRANCO</td>\n      <td>...</td>\n      <td>2.0</td>\n      <td>Faixa Etária</td>\n      <td>FH4750</td>\n      <td>PFIZER</td>\n      <td>Organization/28290</td>\n      <td>2021-12-09</td>\n      <td>2ª Dose</td>\n      <td>87</td>\n      <td>COVID-19 PFIZER - COMIRNATY</td>\n      <td>Novo PNI</td>\n    </tr>\n    <tr>\n      <th>370369</th>\n      <td>888c2f27-5696-4c40-a8b2-44e9f4e10181-i0b0</td>\n      <td>9356333fa4617e5e80d716477fc5730a6abfabed888c31...</td>\n      <td>42</td>\n      <td>1979-03-03</td>\n      <td>M</td>\n      <td>4</td>\n      <td>AMARELA</td>\n      <td>120050.0</td>\n      <td>10.0</td>\n      <td>SENA MADUREIRA</td>\n      <td>...</td>\n      <td>2.0</td>\n      <td>Faixa Etária</td>\n      <td>219VCD288Z</td>\n      <td>ASTRAZENECA/FIOCRUZ</td>\n      <td>Organization/149</td>\n      <td>2022-02-01</td>\n      <td>2ª Dose</td>\n      <td>85</td>\n      <td>COVID-19 ASTRAZENECA/FIOCRUZ - COVISHIELD</td>\n      <td>Novo PNI</td>\n    </tr>\n    <tr>\n      <th>370370</th>\n      <td>88979016-11e8-456f-ba03-b417ea1aa609-i0b0</td>\n      <td>643b1e70cc8eb253d520ab0b57272295fb1f26a372525b...</td>\n      <td>39</td>\n      <td>1982-05-18</td>\n      <td>M</td>\n      <td>99</td>\n      <td>SEM INFORMACAO</td>\n      <td>120005.0</td>\n      <td>10.0</td>\n      <td>ASSIS BRASIL</td>\n      <td>...</td>\n      <td>2.0</td>\n      <td>Faixa Etária</td>\n      <td>212VCD003ZVAA</td>\n      <td>ASTRAZENECA/FIOCRUZ</td>\n      <td>Organization/33781055000135</td>\n      <td>2021-06-26</td>\n      <td>1ª Dose</td>\n      <td>85</td>\n      <td>COVID-19 ASTRAZENECA/FIOCRUZ - COVISHIELD</td>\n      <td>Novo PNI</td>\n    </tr>\n  </tbody>\n</table>\n<p>370371 rows × 32 columns</p>\n</div>"
     },
     "execution_count": 18,
     "metadata": {},
     "output_type": "execute_result"
    }
   ],
   "source": [
    "vacAcre = pd.read_csv(\n",
    "    'https://s3.sa-east-1.amazonaws.com/ckan.saude.gov.br/SIPNI/COVID/uf/uf%3DAC/part-00000-f9aa69c5-6c18-440f-9254-3d1447929d6b.c000.csv',\n",
    "    sep=';')\n",
    "vacAcre"
   ]
  },
  {
   "cell_type": "code",
   "execution_count": 19,
   "metadata": {
    "ExecuteTime": {
     "end_time": "2023-12-28T05:16:38.630251900Z",
     "start_time": "2023-12-28T05:16:38.621600200Z"
    }
   },
   "outputs": [
    {
     "data": {
      "text/plain": "                                 document_id  \\\n0  e32715ba-bba3-4ccd-8e90-e8d930321f34-i0b0   \n1  66eb2b3e-40c9-4f25-8771-3222dd3e77b2-i0b0   \n2  03850c39-5c67-4e68-98af-96be50d9042b-i0b0   \n3  66ff3293-3ee5-4cfb-9425-6ef645d51b3f-i0b0   \n4  51a2b293-2d0a-4f0b-81b8-285afcfb84b2-i0b0   \n\n                                         paciente_id  paciente_idade  \\\n0  00158d713d239cf3ef860824ebf73d3eb9a9a5042d9569...              52   \n1  42c12b41b63291facf4c5dd887e1a7b857ebaac3c6ae4a...              56   \n2  f529b2a120cdf937144c6decfb5340d96e5a65df196363...              15   \n3  3dcc3b0528cba132b2f62317e18ffcfbad7a0e6aee7697...              45   \n4  b0f5c768054bbeb2658fbda71a3226d5bd4200dca52374...               5   \n\n  paciente_dataNascimento paciente_enumSexoBiologico  paciente_racaCor_codigo  \\\n0              1968-08-09                          M                        4   \n1              1965-07-25                          M                        3   \n2              2005-09-21                          F                        4   \n3              1975-12-19                          M                       99   \n4              2017-06-19                          M                        1   \n\n  paciente_racaCor_valor  paciente_endereco_coIbgeMunicipio  \\\n0                AMARELA                           120040.0   \n1                  PARDA                           120040.0   \n2                AMARELA                           120010.0   \n3         SEM INFORMACAO                           120040.0   \n4                 BRANCA                           120060.0   \n\n   paciente_endereco_coPais paciente_endereco_nmMunicipio  ...  \\\n0                      10.0                    RIO BRANCO  ...   \n1                      10.0                    RIO BRANCO  ...   \n2                      10.0                     BRASILEIA  ...   \n3                      10.0                    RIO BRANCO  ...   \n4                      10.0                      TARAUACA  ...   \n\n  vacina_categoria_codigo vacina_categoria_nome  vacina_lote  \\\n0                     1.0          Comorbidades       FA9096   \n1                     1.0          Comorbidades       FH8023   \n2                     2.0          Faixa Etária       FA9096   \n3                     2.0          Faixa Etária      1855836   \n4                     NaN                   NaN       210520   \n\n  vacina_fabricante_nome  vacina_fabricante_referencia vacina_dataAplicacao  \\\n0                 PFIZER   Organization/00394544000851           2021-08-07   \n1                 PFIZER            Organization/28290           2021-12-04   \n2                 PFIZER   Organization/00394544000851           2021-08-10   \n3                JANSSEN            Organization/30587           2021-12-14   \n4       SINOVAC/BUTANTAN                         29501           2022-09-21   \n\n  vacina_descricao_dose  vacina_codigo                            vacina_nome  \\\n0               2ª Dose             87            COVID-19 PFIZER - COMIRNATY   \n1        Dose Adicional             87            COVID-19 PFIZER - COMIRNATY   \n2               1ª Dose             87            COVID-19 PFIZER - COMIRNATY   \n3               Reforço             88         COVID-19 JANSSEN - Ad26.COV2.S   \n4               1ª Dose             86  COVID-19 SINOVAC/BUTANTAN - CORONAVAC   \n\n  sistema_origem  \n0       Novo PNI  \n1       Novo PNI  \n2       Novo PNI  \n3       Novo PNI  \n4       Novo PNI  \n\n[5 rows x 32 columns]",
      "text/html": "<div>\n<style scoped>\n    .dataframe tbody tr th:only-of-type {\n        vertical-align: middle;\n    }\n\n    .dataframe tbody tr th {\n        vertical-align: top;\n    }\n\n    .dataframe thead th {\n        text-align: right;\n    }\n</style>\n<table border=\"1\" class=\"dataframe\">\n  <thead>\n    <tr style=\"text-align: right;\">\n      <th></th>\n      <th>document_id</th>\n      <th>paciente_id</th>\n      <th>paciente_idade</th>\n      <th>paciente_dataNascimento</th>\n      <th>paciente_enumSexoBiologico</th>\n      <th>paciente_racaCor_codigo</th>\n      <th>paciente_racaCor_valor</th>\n      <th>paciente_endereco_coIbgeMunicipio</th>\n      <th>paciente_endereco_coPais</th>\n      <th>paciente_endereco_nmMunicipio</th>\n      <th>...</th>\n      <th>vacina_categoria_codigo</th>\n      <th>vacina_categoria_nome</th>\n      <th>vacina_lote</th>\n      <th>vacina_fabricante_nome</th>\n      <th>vacina_fabricante_referencia</th>\n      <th>vacina_dataAplicacao</th>\n      <th>vacina_descricao_dose</th>\n      <th>vacina_codigo</th>\n      <th>vacina_nome</th>\n      <th>sistema_origem</th>\n    </tr>\n  </thead>\n  <tbody>\n    <tr>\n      <th>0</th>\n      <td>e32715ba-bba3-4ccd-8e90-e8d930321f34-i0b0</td>\n      <td>00158d713d239cf3ef860824ebf73d3eb9a9a5042d9569...</td>\n      <td>52</td>\n      <td>1968-08-09</td>\n      <td>M</td>\n      <td>4</td>\n      <td>AMARELA</td>\n      <td>120040.0</td>\n      <td>10.0</td>\n      <td>RIO BRANCO</td>\n      <td>...</td>\n      <td>1.0</td>\n      <td>Comorbidades</td>\n      <td>FA9096</td>\n      <td>PFIZER</td>\n      <td>Organization/00394544000851</td>\n      <td>2021-08-07</td>\n      <td>2ª Dose</td>\n      <td>87</td>\n      <td>COVID-19 PFIZER - COMIRNATY</td>\n      <td>Novo PNI</td>\n    </tr>\n    <tr>\n      <th>1</th>\n      <td>66eb2b3e-40c9-4f25-8771-3222dd3e77b2-i0b0</td>\n      <td>42c12b41b63291facf4c5dd887e1a7b857ebaac3c6ae4a...</td>\n      <td>56</td>\n      <td>1965-07-25</td>\n      <td>M</td>\n      <td>3</td>\n      <td>PARDA</td>\n      <td>120040.0</td>\n      <td>10.0</td>\n      <td>RIO BRANCO</td>\n      <td>...</td>\n      <td>1.0</td>\n      <td>Comorbidades</td>\n      <td>FH8023</td>\n      <td>PFIZER</td>\n      <td>Organization/28290</td>\n      <td>2021-12-04</td>\n      <td>Dose Adicional</td>\n      <td>87</td>\n      <td>COVID-19 PFIZER - COMIRNATY</td>\n      <td>Novo PNI</td>\n    </tr>\n    <tr>\n      <th>2</th>\n      <td>03850c39-5c67-4e68-98af-96be50d9042b-i0b0</td>\n      <td>f529b2a120cdf937144c6decfb5340d96e5a65df196363...</td>\n      <td>15</td>\n      <td>2005-09-21</td>\n      <td>F</td>\n      <td>4</td>\n      <td>AMARELA</td>\n      <td>120010.0</td>\n      <td>10.0</td>\n      <td>BRASILEIA</td>\n      <td>...</td>\n      <td>2.0</td>\n      <td>Faixa Etária</td>\n      <td>FA9096</td>\n      <td>PFIZER</td>\n      <td>Organization/00394544000851</td>\n      <td>2021-08-10</td>\n      <td>1ª Dose</td>\n      <td>87</td>\n      <td>COVID-19 PFIZER - COMIRNATY</td>\n      <td>Novo PNI</td>\n    </tr>\n    <tr>\n      <th>3</th>\n      <td>66ff3293-3ee5-4cfb-9425-6ef645d51b3f-i0b0</td>\n      <td>3dcc3b0528cba132b2f62317e18ffcfbad7a0e6aee7697...</td>\n      <td>45</td>\n      <td>1975-12-19</td>\n      <td>M</td>\n      <td>99</td>\n      <td>SEM INFORMACAO</td>\n      <td>120040.0</td>\n      <td>10.0</td>\n      <td>RIO BRANCO</td>\n      <td>...</td>\n      <td>2.0</td>\n      <td>Faixa Etária</td>\n      <td>1855836</td>\n      <td>JANSSEN</td>\n      <td>Organization/30587</td>\n      <td>2021-12-14</td>\n      <td>Reforço</td>\n      <td>88</td>\n      <td>COVID-19 JANSSEN - Ad26.COV2.S</td>\n      <td>Novo PNI</td>\n    </tr>\n    <tr>\n      <th>4</th>\n      <td>51a2b293-2d0a-4f0b-81b8-285afcfb84b2-i0b0</td>\n      <td>b0f5c768054bbeb2658fbda71a3226d5bd4200dca52374...</td>\n      <td>5</td>\n      <td>2017-06-19</td>\n      <td>M</td>\n      <td>1</td>\n      <td>BRANCA</td>\n      <td>120060.0</td>\n      <td>10.0</td>\n      <td>TARAUACA</td>\n      <td>...</td>\n      <td>NaN</td>\n      <td>NaN</td>\n      <td>210520</td>\n      <td>SINOVAC/BUTANTAN</td>\n      <td>29501</td>\n      <td>2022-09-21</td>\n      <td>1ª Dose</td>\n      <td>86</td>\n      <td>COVID-19 SINOVAC/BUTANTAN - CORONAVAC</td>\n      <td>Novo PNI</td>\n    </tr>\n  </tbody>\n</table>\n<p>5 rows × 32 columns</p>\n</div>"
     },
     "execution_count": 19,
     "metadata": {},
     "output_type": "execute_result"
    }
   ],
   "source": [
    "vacAcre.head()"
   ]
  },
  {
   "cell_type": "markdown",
   "metadata": {},
   "source": [
    "## Verificando dataframe"
   ]
  },
  {
   "cell_type": "code",
   "execution_count": 20,
   "metadata": {
    "ExecuteTime": {
     "end_time": "2023-12-28T05:16:38.759531800Z",
     "start_time": "2023-12-28T05:16:38.629252400Z"
    }
   },
   "outputs": [
    {
     "name": "stdout",
     "output_type": "stream",
     "text": [
      "<class 'pandas.core.frame.DataFrame'>\n",
      "RangeIndex: 370371 entries, 0 to 370370\n",
      "Data columns (total 32 columns):\n",
      " #   Column                                    Non-Null Count   Dtype  \n",
      "---  ------                                    --------------   -----  \n",
      " 0   document_id                               370371 non-null  object \n",
      " 1   paciente_id                               370371 non-null  object \n",
      " 2   paciente_idade                            370371 non-null  int64  \n",
      " 3   paciente_dataNascimento                   370371 non-null  object \n",
      " 4   paciente_enumSexoBiologico                370371 non-null  object \n",
      " 5   paciente_racaCor_codigo                   370371 non-null  int64  \n",
      " 6   paciente_racaCor_valor                    370371 non-null  object \n",
      " 7   paciente_endereco_coIbgeMunicipio         368082 non-null  float64\n",
      " 8   paciente_endereco_coPais                  368088 non-null  float64\n",
      " 9   paciente_endereco_nmMunicipio             368087 non-null  object \n",
      " 10  paciente_endereco_nmPais                  368088 non-null  object \n",
      " 11  paciente_endereco_uf                      368082 non-null  object \n",
      " 12  paciente_endereco_cep                     316303 non-null  float64\n",
      " 13  paciente_nacionalidade_enumNacionalidade  370195 non-null  object \n",
      " 14  estabelecimento_valor                     370371 non-null  int64  \n",
      " 15  estabelecimento_razaoSocial               370371 non-null  object \n",
      " 16  estalecimento_noFantasia                  370371 non-null  object \n",
      " 17  estabelecimento_municipio_codigo          370371 non-null  int64  \n",
      " 18  estabelecimento_municipio_nome            370371 non-null  object \n",
      " 19  estabelecimento_uf                        370371 non-null  object \n",
      " 20  vacina_grupoAtendimento_codigo            370358 non-null  float64\n",
      " 21  vacina_grupoAtendimento_nome              369392 non-null  object \n",
      " 22  vacina_categoria_codigo                   349980 non-null  float64\n",
      " 23  vacina_categoria_nome                     349980 non-null  object \n",
      " 24  vacina_lote                               370371 non-null  object \n",
      " 25  vacina_fabricante_nome                    370371 non-null  object \n",
      " 26  vacina_fabricante_referencia              368195 non-null  object \n",
      " 27  vacina_dataAplicacao                      370371 non-null  object \n",
      " 28  vacina_descricao_dose                     370371 non-null  object \n",
      " 29  vacina_codigo                             370371 non-null  int64  \n",
      " 30  vacina_nome                               370362 non-null  object \n",
      " 31  sistema_origem                            369972 non-null  object \n",
      "dtypes: float64(5), int64(5), object(22)\n",
      "memory usage: 90.4+ MB\n"
     ]
    }
   ],
   "source": [
    "vacAcre.info()"
   ]
  },
  {
   "cell_type": "markdown",
   "metadata": {},
   "source": [
    "## Copiando parte do dataframe"
   ]
  },
  {
   "cell_type": "code",
   "execution_count": 21,
   "metadata": {
    "scrolled": true,
    "ExecuteTime": {
     "end_time": "2023-12-28T05:16:38.773245200Z",
     "start_time": "2023-12-28T05:16:38.753031700Z"
    }
   },
   "outputs": [
    {
     "data": {
      "text/plain": "                                     document_id  \\\n0      e32715ba-bba3-4ccd-8e90-e8d930321f34-i0b0   \n1      66eb2b3e-40c9-4f25-8771-3222dd3e77b2-i0b0   \n2      03850c39-5c67-4e68-98af-96be50d9042b-i0b0   \n3      66ff3293-3ee5-4cfb-9425-6ef645d51b3f-i0b0   \n4      51a2b293-2d0a-4f0b-81b8-285afcfb84b2-i0b0   \n...                                          ...   \n19995  8f5c5c98-85c0-4b21-a31d-5191ab10a820-i0b0   \n19996  4f145f85-5998-4aec-b35f-8e0796160132-i0b0   \n19997  f662c3c8-c1da-4d34-8efd-453505ef7b0e-i0b0   \n19998  7aa0bfc6-0722-4a0a-a503-557df052572c-i0b0   \n19999  48383dbe-94e9-45d1-ba62-590cc70de764-i0b0   \n\n                                             paciente_id  paciente_idade  \\\n0      00158d713d239cf3ef860824ebf73d3eb9a9a5042d9569...              52   \n1      42c12b41b63291facf4c5dd887e1a7b857ebaac3c6ae4a...              56   \n2      f529b2a120cdf937144c6decfb5340d96e5a65df196363...              15   \n3      3dcc3b0528cba132b2f62317e18ffcfbad7a0e6aee7697...              45   \n4      b0f5c768054bbeb2658fbda71a3226d5bd4200dca52374...               5   \n...                                                  ...             ...   \n19995  2599f5b74597f5d88b4c7cfd340e3e811fd9b07233d934...              35   \n19996  b0a033e5a9703a06f3a903291e53366e3f3f7638b907c2...              37   \n19997  37a1b468f22d179d3333f6d31632536dc980dfe367a8bf...              45   \n19998  54e3a3f92eb6d83673781c313f38e6b119b4dc83825474...              26   \n19999  e49a38bdc9a0b584d43af5b923e83de9471e3095341525...              32   \n\n      paciente_dataNascimento paciente_enumSexoBiologico  \\\n0                  1968-08-09                          M   \n1                  1965-07-25                          M   \n2                  2005-09-21                          F   \n3                  1975-12-19                          M   \n4                  2017-06-19                          M   \n...                       ...                        ...   \n19995              1985-10-26                          F   \n19996              1984-02-21                          F   \n19997              1976-06-03                          M   \n19998              1996-04-03                          M   \n19999              1989-03-29                          M   \n\n       paciente_racaCor_codigo paciente_racaCor_valor  \\\n0                            4                AMARELA   \n1                            3                  PARDA   \n2                            4                AMARELA   \n3                           99         SEM INFORMACAO   \n4                            1                 BRANCA   \n...                        ...                    ...   \n19995                        3                  PARDA   \n19996                        4                AMARELA   \n19997                        4                AMARELA   \n19998                        3                  PARDA   \n19999                        3                  PARDA   \n\n       paciente_endereco_coIbgeMunicipio  paciente_endereco_coPais  \\\n0                               120040.0                      10.0   \n1                               120040.0                      10.0   \n2                               120010.0                      10.0   \n3                               120040.0                      10.0   \n4                               120060.0                      10.0   \n...                                  ...                       ...   \n19995                           120040.0                      10.0   \n19996                           120020.0                      10.0   \n19997                           120040.0                      10.0   \n19998                           110020.0                      10.0   \n19999                           120040.0                      10.0   \n\n      paciente_endereco_nmMunicipio  ... vacina_categoria_codigo  \\\n0                        RIO BRANCO  ...                     1.0   \n1                        RIO BRANCO  ...                     1.0   \n2                         BRASILEIA  ...                     2.0   \n3                        RIO BRANCO  ...                     2.0   \n4                          TARAUACA  ...                     NaN   \n...                             ...  ...                     ...   \n19995                    RIO BRANCO  ...                     2.0   \n19996               CRUZEIRO DO SUL  ...                     2.0   \n19997                    RIO BRANCO  ...                     2.0   \n19998                   PORTO VELHO  ...                     2.0   \n19999                    RIO BRANCO  ...                     9.0   \n\n        vacina_categoria_nome  vacina_lote vacina_fabricante_nome  \\\n0                Comorbidades       FA9096                 PFIZER   \n1                Comorbidades       FH8023                 PFIZER   \n2                Faixa Etária       FA9096                 PFIZER   \n3                Faixa Etária      1855836                JANSSEN   \n4                         NaN       210520       SINOVAC/BUTANTAN   \n...                       ...          ...                    ...   \n19995            Faixa Etária       FF8848                 PFIZER   \n19996            Faixa Etária   217VCD239Z    ASTRAZENECA/FIOCRUZ   \n19997            Faixa Etária       FM3355                 PFIZER   \n19998            Faixa Etária       FP7498                 PFIZER   \n19999  Trabalhadores de Saúde       FF8848                 PFIZER   \n\n       vacina_fabricante_referencia vacina_dataAplicacao  \\\n0       Organization/00394544000851           2021-08-07   \n1                Organization/28290           2021-12-04   \n2       Organization/00394544000851           2021-08-10   \n3                Organization/30587           2021-12-14   \n4                             29501           2022-09-21   \n...                             ...                  ...   \n19995   Organization/00394544000851           2021-10-11   \n19996   Organization/33781055000135           2021-10-04   \n19997            Organization/28290           2022-02-14   \n19998                         28290           2022-08-19   \n19999            Organization/28290           2022-03-17   \n\n      vacina_descricao_dose  vacina_codigo  \\\n0                   2ª Dose             87   \n1            Dose Adicional             87   \n2                   1ª Dose             87   \n3                   Reforço             88   \n4                   1ª Dose             86   \n...                     ...            ...   \n19995               2ª Dose             87   \n19996               2ª Dose             85   \n19997               Reforço             87   \n19998               2ª Dose             87   \n19999               Reforço             87   \n\n                                     vacina_nome sistema_origem  \n0                    COVID-19 PFIZER - COMIRNATY       Novo PNI  \n1                    COVID-19 PFIZER - COMIRNATY       Novo PNI  \n2                    COVID-19 PFIZER - COMIRNATY       Novo PNI  \n3                 COVID-19 JANSSEN - Ad26.COV2.S       Novo PNI  \n4          COVID-19 SINOVAC/BUTANTAN - CORONAVAC       Novo PNI  \n...                                          ...            ...  \n19995                COVID-19 PFIZER - COMIRNATY       Novo PNI  \n19996  COVID-19 ASTRAZENECA/FIOCRUZ - COVISHIELD       Novo PNI  \n19997                COVID-19 PFIZER - COMIRNATY       Novo PNI  \n19998                COVID-19 PFIZER - COMIRNATY       Novo PNI  \n19999                COVID-19 PFIZER - COMIRNATY       Novo PNI  \n\n[20000 rows x 32 columns]",
      "text/html": "<div>\n<style scoped>\n    .dataframe tbody tr th:only-of-type {\n        vertical-align: middle;\n    }\n\n    .dataframe tbody tr th {\n        vertical-align: top;\n    }\n\n    .dataframe thead th {\n        text-align: right;\n    }\n</style>\n<table border=\"1\" class=\"dataframe\">\n  <thead>\n    <tr style=\"text-align: right;\">\n      <th></th>\n      <th>document_id</th>\n      <th>paciente_id</th>\n      <th>paciente_idade</th>\n      <th>paciente_dataNascimento</th>\n      <th>paciente_enumSexoBiologico</th>\n      <th>paciente_racaCor_codigo</th>\n      <th>paciente_racaCor_valor</th>\n      <th>paciente_endereco_coIbgeMunicipio</th>\n      <th>paciente_endereco_coPais</th>\n      <th>paciente_endereco_nmMunicipio</th>\n      <th>...</th>\n      <th>vacina_categoria_codigo</th>\n      <th>vacina_categoria_nome</th>\n      <th>vacina_lote</th>\n      <th>vacina_fabricante_nome</th>\n      <th>vacina_fabricante_referencia</th>\n      <th>vacina_dataAplicacao</th>\n      <th>vacina_descricao_dose</th>\n      <th>vacina_codigo</th>\n      <th>vacina_nome</th>\n      <th>sistema_origem</th>\n    </tr>\n  </thead>\n  <tbody>\n    <tr>\n      <th>0</th>\n      <td>e32715ba-bba3-4ccd-8e90-e8d930321f34-i0b0</td>\n      <td>00158d713d239cf3ef860824ebf73d3eb9a9a5042d9569...</td>\n      <td>52</td>\n      <td>1968-08-09</td>\n      <td>M</td>\n      <td>4</td>\n      <td>AMARELA</td>\n      <td>120040.0</td>\n      <td>10.0</td>\n      <td>RIO BRANCO</td>\n      <td>...</td>\n      <td>1.0</td>\n      <td>Comorbidades</td>\n      <td>FA9096</td>\n      <td>PFIZER</td>\n      <td>Organization/00394544000851</td>\n      <td>2021-08-07</td>\n      <td>2ª Dose</td>\n      <td>87</td>\n      <td>COVID-19 PFIZER - COMIRNATY</td>\n      <td>Novo PNI</td>\n    </tr>\n    <tr>\n      <th>1</th>\n      <td>66eb2b3e-40c9-4f25-8771-3222dd3e77b2-i0b0</td>\n      <td>42c12b41b63291facf4c5dd887e1a7b857ebaac3c6ae4a...</td>\n      <td>56</td>\n      <td>1965-07-25</td>\n      <td>M</td>\n      <td>3</td>\n      <td>PARDA</td>\n      <td>120040.0</td>\n      <td>10.0</td>\n      <td>RIO BRANCO</td>\n      <td>...</td>\n      <td>1.0</td>\n      <td>Comorbidades</td>\n      <td>FH8023</td>\n      <td>PFIZER</td>\n      <td>Organization/28290</td>\n      <td>2021-12-04</td>\n      <td>Dose Adicional</td>\n      <td>87</td>\n      <td>COVID-19 PFIZER - COMIRNATY</td>\n      <td>Novo PNI</td>\n    </tr>\n    <tr>\n      <th>2</th>\n      <td>03850c39-5c67-4e68-98af-96be50d9042b-i0b0</td>\n      <td>f529b2a120cdf937144c6decfb5340d96e5a65df196363...</td>\n      <td>15</td>\n      <td>2005-09-21</td>\n      <td>F</td>\n      <td>4</td>\n      <td>AMARELA</td>\n      <td>120010.0</td>\n      <td>10.0</td>\n      <td>BRASILEIA</td>\n      <td>...</td>\n      <td>2.0</td>\n      <td>Faixa Etária</td>\n      <td>FA9096</td>\n      <td>PFIZER</td>\n      <td>Organization/00394544000851</td>\n      <td>2021-08-10</td>\n      <td>1ª Dose</td>\n      <td>87</td>\n      <td>COVID-19 PFIZER - COMIRNATY</td>\n      <td>Novo PNI</td>\n    </tr>\n    <tr>\n      <th>3</th>\n      <td>66ff3293-3ee5-4cfb-9425-6ef645d51b3f-i0b0</td>\n      <td>3dcc3b0528cba132b2f62317e18ffcfbad7a0e6aee7697...</td>\n      <td>45</td>\n      <td>1975-12-19</td>\n      <td>M</td>\n      <td>99</td>\n      <td>SEM INFORMACAO</td>\n      <td>120040.0</td>\n      <td>10.0</td>\n      <td>RIO BRANCO</td>\n      <td>...</td>\n      <td>2.0</td>\n      <td>Faixa Etária</td>\n      <td>1855836</td>\n      <td>JANSSEN</td>\n      <td>Organization/30587</td>\n      <td>2021-12-14</td>\n      <td>Reforço</td>\n      <td>88</td>\n      <td>COVID-19 JANSSEN - Ad26.COV2.S</td>\n      <td>Novo PNI</td>\n    </tr>\n    <tr>\n      <th>4</th>\n      <td>51a2b293-2d0a-4f0b-81b8-285afcfb84b2-i0b0</td>\n      <td>b0f5c768054bbeb2658fbda71a3226d5bd4200dca52374...</td>\n      <td>5</td>\n      <td>2017-06-19</td>\n      <td>M</td>\n      <td>1</td>\n      <td>BRANCA</td>\n      <td>120060.0</td>\n      <td>10.0</td>\n      <td>TARAUACA</td>\n      <td>...</td>\n      <td>NaN</td>\n      <td>NaN</td>\n      <td>210520</td>\n      <td>SINOVAC/BUTANTAN</td>\n      <td>29501</td>\n      <td>2022-09-21</td>\n      <td>1ª Dose</td>\n      <td>86</td>\n      <td>COVID-19 SINOVAC/BUTANTAN - CORONAVAC</td>\n      <td>Novo PNI</td>\n    </tr>\n    <tr>\n      <th>...</th>\n      <td>...</td>\n      <td>...</td>\n      <td>...</td>\n      <td>...</td>\n      <td>...</td>\n      <td>...</td>\n      <td>...</td>\n      <td>...</td>\n      <td>...</td>\n      <td>...</td>\n      <td>...</td>\n      <td>...</td>\n      <td>...</td>\n      <td>...</td>\n      <td>...</td>\n      <td>...</td>\n      <td>...</td>\n      <td>...</td>\n      <td>...</td>\n      <td>...</td>\n      <td>...</td>\n    </tr>\n    <tr>\n      <th>19995</th>\n      <td>8f5c5c98-85c0-4b21-a31d-5191ab10a820-i0b0</td>\n      <td>2599f5b74597f5d88b4c7cfd340e3e811fd9b07233d934...</td>\n      <td>35</td>\n      <td>1985-10-26</td>\n      <td>F</td>\n      <td>3</td>\n      <td>PARDA</td>\n      <td>120040.0</td>\n      <td>10.0</td>\n      <td>RIO BRANCO</td>\n      <td>...</td>\n      <td>2.0</td>\n      <td>Faixa Etária</td>\n      <td>FF8848</td>\n      <td>PFIZER</td>\n      <td>Organization/00394544000851</td>\n      <td>2021-10-11</td>\n      <td>2ª Dose</td>\n      <td>87</td>\n      <td>COVID-19 PFIZER - COMIRNATY</td>\n      <td>Novo PNI</td>\n    </tr>\n    <tr>\n      <th>19996</th>\n      <td>4f145f85-5998-4aec-b35f-8e0796160132-i0b0</td>\n      <td>b0a033e5a9703a06f3a903291e53366e3f3f7638b907c2...</td>\n      <td>37</td>\n      <td>1984-02-21</td>\n      <td>F</td>\n      <td>4</td>\n      <td>AMARELA</td>\n      <td>120020.0</td>\n      <td>10.0</td>\n      <td>CRUZEIRO DO SUL</td>\n      <td>...</td>\n      <td>2.0</td>\n      <td>Faixa Etária</td>\n      <td>217VCD239Z</td>\n      <td>ASTRAZENECA/FIOCRUZ</td>\n      <td>Organization/33781055000135</td>\n      <td>2021-10-04</td>\n      <td>2ª Dose</td>\n      <td>85</td>\n      <td>COVID-19 ASTRAZENECA/FIOCRUZ - COVISHIELD</td>\n      <td>Novo PNI</td>\n    </tr>\n    <tr>\n      <th>19997</th>\n      <td>f662c3c8-c1da-4d34-8efd-453505ef7b0e-i0b0</td>\n      <td>37a1b468f22d179d3333f6d31632536dc980dfe367a8bf...</td>\n      <td>45</td>\n      <td>1976-06-03</td>\n      <td>M</td>\n      <td>4</td>\n      <td>AMARELA</td>\n      <td>120040.0</td>\n      <td>10.0</td>\n      <td>RIO BRANCO</td>\n      <td>...</td>\n      <td>2.0</td>\n      <td>Faixa Etária</td>\n      <td>FM3355</td>\n      <td>PFIZER</td>\n      <td>Organization/28290</td>\n      <td>2022-02-14</td>\n      <td>Reforço</td>\n      <td>87</td>\n      <td>COVID-19 PFIZER - COMIRNATY</td>\n      <td>Novo PNI</td>\n    </tr>\n    <tr>\n      <th>19998</th>\n      <td>7aa0bfc6-0722-4a0a-a503-557df052572c-i0b0</td>\n      <td>54e3a3f92eb6d83673781c313f38e6b119b4dc83825474...</td>\n      <td>26</td>\n      <td>1996-04-03</td>\n      <td>M</td>\n      <td>3</td>\n      <td>PARDA</td>\n      <td>110020.0</td>\n      <td>10.0</td>\n      <td>PORTO VELHO</td>\n      <td>...</td>\n      <td>2.0</td>\n      <td>Faixa Etária</td>\n      <td>FP7498</td>\n      <td>PFIZER</td>\n      <td>28290</td>\n      <td>2022-08-19</td>\n      <td>2ª Dose</td>\n      <td>87</td>\n      <td>COVID-19 PFIZER - COMIRNATY</td>\n      <td>Novo PNI</td>\n    </tr>\n    <tr>\n      <th>19999</th>\n      <td>48383dbe-94e9-45d1-ba62-590cc70de764-i0b0</td>\n      <td>e49a38bdc9a0b584d43af5b923e83de9471e3095341525...</td>\n      <td>32</td>\n      <td>1989-03-29</td>\n      <td>M</td>\n      <td>3</td>\n      <td>PARDA</td>\n      <td>120040.0</td>\n      <td>10.0</td>\n      <td>RIO BRANCO</td>\n      <td>...</td>\n      <td>9.0</td>\n      <td>Trabalhadores de Saúde</td>\n      <td>FF8848</td>\n      <td>PFIZER</td>\n      <td>Organization/28290</td>\n      <td>2022-03-17</td>\n      <td>Reforço</td>\n      <td>87</td>\n      <td>COVID-19 PFIZER - COMIRNATY</td>\n      <td>Novo PNI</td>\n    </tr>\n  </tbody>\n</table>\n<p>20000 rows × 32 columns</p>\n</div>"
     },
     "execution_count": 21,
     "metadata": {},
     "output_type": "execute_result"
    }
   ],
   "source": [
    "vacAcre_copy = vacAcre[:20000].copy()\n",
    "vacAcre_copy"
   ]
  },
  {
   "cell_type": "markdown",
   "metadata": {},
   "source": [
    "## Qual o percentual das vacinas aplicadas foram na capital???"
   ]
  },
  {
   "cell_type": "code",
   "execution_count": 22,
   "metadata": {
    "ExecuteTime": {
     "end_time": "2023-12-28T05:16:38.795141Z",
     "start_time": "2023-12-28T05:16:38.772958400Z"
    }
   },
   "outputs": [],
   "source": [
    "vacAcre_copy['fl_capital'] = 0"
   ]
  },
  {
   "cell_type": "code",
   "execution_count": 23,
   "metadata": {
    "ExecuteTime": {
     "end_time": "2023-12-28T05:16:38.796640Z",
     "start_time": "2023-12-28T05:16:38.775251200Z"
    }
   },
   "outputs": [
    {
     "data": {
      "text/plain": "                                 document_id  \\\n0  e32715ba-bba3-4ccd-8e90-e8d930321f34-i0b0   \n1  66eb2b3e-40c9-4f25-8771-3222dd3e77b2-i0b0   \n\n                                         paciente_id  paciente_idade  \\\n0  00158d713d239cf3ef860824ebf73d3eb9a9a5042d9569...              52   \n1  42c12b41b63291facf4c5dd887e1a7b857ebaac3c6ae4a...              56   \n\n  paciente_dataNascimento paciente_enumSexoBiologico  paciente_racaCor_codigo  \\\n0              1968-08-09                          M                        4   \n1              1965-07-25                          M                        3   \n\n  paciente_racaCor_valor  paciente_endereco_coIbgeMunicipio  \\\n0                AMARELA                           120040.0   \n1                  PARDA                           120040.0   \n\n   paciente_endereco_coPais paciente_endereco_nmMunicipio  ...  \\\n0                      10.0                    RIO BRANCO  ...   \n1                      10.0                    RIO BRANCO  ...   \n\n  vacina_categoria_nome vacina_lote  vacina_fabricante_nome  \\\n0          Comorbidades      FA9096                  PFIZER   \n1          Comorbidades      FH8023                  PFIZER   \n\n  vacina_fabricante_referencia  vacina_dataAplicacao vacina_descricao_dose  \\\n0  Organization/00394544000851            2021-08-07               2ª Dose   \n1           Organization/28290            2021-12-04        Dose Adicional   \n\n  vacina_codigo                  vacina_nome sistema_origem fl_capital  \n0            87  COVID-19 PFIZER - COMIRNATY       Novo PNI          0  \n1            87  COVID-19 PFIZER - COMIRNATY       Novo PNI          0  \n\n[2 rows x 33 columns]",
      "text/html": "<div>\n<style scoped>\n    .dataframe tbody tr th:only-of-type {\n        vertical-align: middle;\n    }\n\n    .dataframe tbody tr th {\n        vertical-align: top;\n    }\n\n    .dataframe thead th {\n        text-align: right;\n    }\n</style>\n<table border=\"1\" class=\"dataframe\">\n  <thead>\n    <tr style=\"text-align: right;\">\n      <th></th>\n      <th>document_id</th>\n      <th>paciente_id</th>\n      <th>paciente_idade</th>\n      <th>paciente_dataNascimento</th>\n      <th>paciente_enumSexoBiologico</th>\n      <th>paciente_racaCor_codigo</th>\n      <th>paciente_racaCor_valor</th>\n      <th>paciente_endereco_coIbgeMunicipio</th>\n      <th>paciente_endereco_coPais</th>\n      <th>paciente_endereco_nmMunicipio</th>\n      <th>...</th>\n      <th>vacina_categoria_nome</th>\n      <th>vacina_lote</th>\n      <th>vacina_fabricante_nome</th>\n      <th>vacina_fabricante_referencia</th>\n      <th>vacina_dataAplicacao</th>\n      <th>vacina_descricao_dose</th>\n      <th>vacina_codigo</th>\n      <th>vacina_nome</th>\n      <th>sistema_origem</th>\n      <th>fl_capital</th>\n    </tr>\n  </thead>\n  <tbody>\n    <tr>\n      <th>0</th>\n      <td>e32715ba-bba3-4ccd-8e90-e8d930321f34-i0b0</td>\n      <td>00158d713d239cf3ef860824ebf73d3eb9a9a5042d9569...</td>\n      <td>52</td>\n      <td>1968-08-09</td>\n      <td>M</td>\n      <td>4</td>\n      <td>AMARELA</td>\n      <td>120040.0</td>\n      <td>10.0</td>\n      <td>RIO BRANCO</td>\n      <td>...</td>\n      <td>Comorbidades</td>\n      <td>FA9096</td>\n      <td>PFIZER</td>\n      <td>Organization/00394544000851</td>\n      <td>2021-08-07</td>\n      <td>2ª Dose</td>\n      <td>87</td>\n      <td>COVID-19 PFIZER - COMIRNATY</td>\n      <td>Novo PNI</td>\n      <td>0</td>\n    </tr>\n    <tr>\n      <th>1</th>\n      <td>66eb2b3e-40c9-4f25-8771-3222dd3e77b2-i0b0</td>\n      <td>42c12b41b63291facf4c5dd887e1a7b857ebaac3c6ae4a...</td>\n      <td>56</td>\n      <td>1965-07-25</td>\n      <td>M</td>\n      <td>3</td>\n      <td>PARDA</td>\n      <td>120040.0</td>\n      <td>10.0</td>\n      <td>RIO BRANCO</td>\n      <td>...</td>\n      <td>Comorbidades</td>\n      <td>FH8023</td>\n      <td>PFIZER</td>\n      <td>Organization/28290</td>\n      <td>2021-12-04</td>\n      <td>Dose Adicional</td>\n      <td>87</td>\n      <td>COVID-19 PFIZER - COMIRNATY</td>\n      <td>Novo PNI</td>\n      <td>0</td>\n    </tr>\n  </tbody>\n</table>\n<p>2 rows × 33 columns</p>\n</div>"
     },
     "execution_count": 23,
     "metadata": {},
     "output_type": "execute_result"
    }
   ],
   "source": [
    "vacAcre_copy.head(2)"
   ]
  },
  {
   "cell_type": "code",
   "execution_count": 24,
   "metadata": {
    "ExecuteTime": {
     "end_time": "2023-12-28T05:16:38.808819100Z",
     "start_time": "2023-12-28T05:16:38.785612500Z"
    }
   },
   "outputs": [],
   "source": [
    "vacAcre_copy.loc[vacAcre_copy['paciente_endereco_nmMunicipio'] == 'RIO BRANCO', 'fl_capital'] = 1"
   ]
  },
  {
   "cell_type": "code",
   "execution_count": 25,
   "metadata": {
    "scrolled": true,
    "ExecuteTime": {
     "end_time": "2023-12-28T05:16:38.850329200Z",
     "start_time": "2023-12-28T05:16:38.790641Z"
    }
   },
   "outputs": [
    {
     "data": {
      "text/plain": "                                 document_id  \\\n0  e32715ba-bba3-4ccd-8e90-e8d930321f34-i0b0   \n1  66eb2b3e-40c9-4f25-8771-3222dd3e77b2-i0b0   \n2  03850c39-5c67-4e68-98af-96be50d9042b-i0b0   \n3  66ff3293-3ee5-4cfb-9425-6ef645d51b3f-i0b0   \n4  51a2b293-2d0a-4f0b-81b8-285afcfb84b2-i0b0   \n5  67349635-731f-4fb2-a854-4b4fda0bed61-i0b0   \n6  23277e20-eb32-40e8-9a69-3afd60dab7e4-i0b0   \n7  6749240d-966e-46b5-aeb2-9d35891870eb-i0b0   \n8  3ad4f8d2-4fdc-4144-96bd-b896a0bf9f99-i0b0   \n9  67ca41f9-84ef-49bd-88c9-fc80285cbccb-i0b0   \n\n                                         paciente_id  paciente_idade  \\\n0  00158d713d239cf3ef860824ebf73d3eb9a9a5042d9569...              52   \n1  42c12b41b63291facf4c5dd887e1a7b857ebaac3c6ae4a...              56   \n2  f529b2a120cdf937144c6decfb5340d96e5a65df196363...              15   \n3  3dcc3b0528cba132b2f62317e18ffcfbad7a0e6aee7697...              45   \n4  b0f5c768054bbeb2658fbda71a3226d5bd4200dca52374...               5   \n5  24ee9e10ac6dc30ea9567b7988f3fbc4f5adcf876ca770...              22   \n6  cc083c1a67e961a31cafd3a98a41528507069697c506c0...              19   \n7  04663b06a73a00e630236d9b20641761facbf7b511063c...               2   \n8  24ca8149a3bc4f7e3b3a59ec7a95678eec9c6cefdf09df...              58   \n9  3ced2415e7c6449aeaa1152d3c7ec7721a2bfe6a7fd48d...              42   \n\n  paciente_dataNascimento paciente_enumSexoBiologico  paciente_racaCor_codigo  \\\n0              1968-08-09                          M                        4   \n1              1965-07-25                          M                        3   \n2              2005-09-21                          F                        4   \n3              1975-12-19                          M                       99   \n4              2017-06-19                          M                        1   \n5              1999-06-07                          F                        4   \n6              2003-01-17                          F                        4   \n7              2021-02-12                          F                       99   \n8              1963-11-05                          M                        1   \n9              1978-09-20                          F                        3   \n\n  paciente_racaCor_valor  paciente_endereco_coIbgeMunicipio  \\\n0                AMARELA                           120040.0   \n1                  PARDA                           120040.0   \n2                AMARELA                           120010.0   \n3         SEM INFORMACAO                           120040.0   \n4                 BRANCA                           120060.0   \n5                AMARELA                           120060.0   \n6                AMARELA                           120040.0   \n7         SEM INFORMACAO                           120070.0   \n8                 BRANCA                           120020.0   \n9                  PARDA                           120045.0   \n\n   paciente_endereco_coPais paciente_endereco_nmMunicipio  ...  \\\n0                      10.0                    RIO BRANCO  ...   \n1                      10.0                    RIO BRANCO  ...   \n2                      10.0                     BRASILEIA  ...   \n3                      10.0                    RIO BRANCO  ...   \n4                      10.0                      TARAUACA  ...   \n5                      10.0                      TARAUACA  ...   \n6                      10.0                    RIO BRANCO  ...   \n7                      10.0                        XAPURI  ...   \n8                      10.0               CRUZEIRO DO SUL  ...   \n9                      10.0              SENADOR GUIOMARD  ...   \n\n  vacina_categoria_nome vacina_lote  vacina_fabricante_nome  \\\n0          Comorbidades      FA9096                  PFIZER   \n1          Comorbidades      FH8023                  PFIZER   \n2          Faixa Etária      FA9096                  PFIZER   \n3          Faixa Etária     1855836                 JANSSEN   \n4                   NaN      210520        SINOVAC/BUTANTAN   \n5          Faixa Etária  217VCD239Z     ASTRAZENECA/FIOCRUZ   \n6          Faixa Etária  21PVCD368Z     ASTRAZENECA/FIOCRUZ   \n7          Faixa Etária      230165                BUTANTAN   \n8          Faixa Etária      FM3355                  PFIZER   \n9          Faixa Etária  214VCD053W     ASTRAZENECA/FIOCRUZ   \n\n  vacina_fabricante_referencia  vacina_dataAplicacao vacina_descricao_dose  \\\n0  Organization/00394544000851            2021-08-07               2ª Dose   \n1           Organization/28290            2021-12-04        Dose Adicional   \n2  Organization/00394544000851            2021-08-10               1ª Dose   \n3           Organization/30587            2021-12-14               Reforço   \n4                        29501            2022-09-21               1ª Dose   \n5  Organization/33781055000135            2021-11-05               1ª Dose   \n6                          149            2022-07-28               Reforço   \n7                          152            2023-12-14                 Única   \n8           Organization/28290            2022-02-04               2ª Dose   \n9  Organization/33781055000135            2021-06-22               1ª Dose   \n\n  vacina_codigo                                vacina_nome sistema_origem  \\\n0            87                COVID-19 PFIZER - COMIRNATY       Novo PNI   \n1            87                COVID-19 PFIZER - COMIRNATY       Novo PNI   \n2            87                COVID-19 PFIZER - COMIRNATY       Novo PNI   \n3            88             COVID-19 JANSSEN - Ad26.COV2.S       Novo PNI   \n4            86      COVID-19 SINOVAC/BUTANTAN - CORONAVAC       Novo PNI   \n5            85  COVID-19 ASTRAZENECA/FIOCRUZ - COVISHIELD       Novo PNI   \n6            85  COVID-19 ASTRAZENECA/FIOCRUZ - COVISHIELD       Novo PNI   \n7            33                                       INF3       Novo PNI   \n8            87                COVID-19 PFIZER - COMIRNATY       Novo PNI   \n9            85  COVID-19 ASTRAZENECA/FIOCRUZ - COVISHIELD       Novo PNI   \n\n  fl_capital  \n0          1  \n1          1  \n2          0  \n3          1  \n4          0  \n5          0  \n6          1  \n7          0  \n8          0  \n9          0  \n\n[10 rows x 33 columns]",
      "text/html": "<div>\n<style scoped>\n    .dataframe tbody tr th:only-of-type {\n        vertical-align: middle;\n    }\n\n    .dataframe tbody tr th {\n        vertical-align: top;\n    }\n\n    .dataframe thead th {\n        text-align: right;\n    }\n</style>\n<table border=\"1\" class=\"dataframe\">\n  <thead>\n    <tr style=\"text-align: right;\">\n      <th></th>\n      <th>document_id</th>\n      <th>paciente_id</th>\n      <th>paciente_idade</th>\n      <th>paciente_dataNascimento</th>\n      <th>paciente_enumSexoBiologico</th>\n      <th>paciente_racaCor_codigo</th>\n      <th>paciente_racaCor_valor</th>\n      <th>paciente_endereco_coIbgeMunicipio</th>\n      <th>paciente_endereco_coPais</th>\n      <th>paciente_endereco_nmMunicipio</th>\n      <th>...</th>\n      <th>vacina_categoria_nome</th>\n      <th>vacina_lote</th>\n      <th>vacina_fabricante_nome</th>\n      <th>vacina_fabricante_referencia</th>\n      <th>vacina_dataAplicacao</th>\n      <th>vacina_descricao_dose</th>\n      <th>vacina_codigo</th>\n      <th>vacina_nome</th>\n      <th>sistema_origem</th>\n      <th>fl_capital</th>\n    </tr>\n  </thead>\n  <tbody>\n    <tr>\n      <th>0</th>\n      <td>e32715ba-bba3-4ccd-8e90-e8d930321f34-i0b0</td>\n      <td>00158d713d239cf3ef860824ebf73d3eb9a9a5042d9569...</td>\n      <td>52</td>\n      <td>1968-08-09</td>\n      <td>M</td>\n      <td>4</td>\n      <td>AMARELA</td>\n      <td>120040.0</td>\n      <td>10.0</td>\n      <td>RIO BRANCO</td>\n      <td>...</td>\n      <td>Comorbidades</td>\n      <td>FA9096</td>\n      <td>PFIZER</td>\n      <td>Organization/00394544000851</td>\n      <td>2021-08-07</td>\n      <td>2ª Dose</td>\n      <td>87</td>\n      <td>COVID-19 PFIZER - COMIRNATY</td>\n      <td>Novo PNI</td>\n      <td>1</td>\n    </tr>\n    <tr>\n      <th>1</th>\n      <td>66eb2b3e-40c9-4f25-8771-3222dd3e77b2-i0b0</td>\n      <td>42c12b41b63291facf4c5dd887e1a7b857ebaac3c6ae4a...</td>\n      <td>56</td>\n      <td>1965-07-25</td>\n      <td>M</td>\n      <td>3</td>\n      <td>PARDA</td>\n      <td>120040.0</td>\n      <td>10.0</td>\n      <td>RIO BRANCO</td>\n      <td>...</td>\n      <td>Comorbidades</td>\n      <td>FH8023</td>\n      <td>PFIZER</td>\n      <td>Organization/28290</td>\n      <td>2021-12-04</td>\n      <td>Dose Adicional</td>\n      <td>87</td>\n      <td>COVID-19 PFIZER - COMIRNATY</td>\n      <td>Novo PNI</td>\n      <td>1</td>\n    </tr>\n    <tr>\n      <th>2</th>\n      <td>03850c39-5c67-4e68-98af-96be50d9042b-i0b0</td>\n      <td>f529b2a120cdf937144c6decfb5340d96e5a65df196363...</td>\n      <td>15</td>\n      <td>2005-09-21</td>\n      <td>F</td>\n      <td>4</td>\n      <td>AMARELA</td>\n      <td>120010.0</td>\n      <td>10.0</td>\n      <td>BRASILEIA</td>\n      <td>...</td>\n      <td>Faixa Etária</td>\n      <td>FA9096</td>\n      <td>PFIZER</td>\n      <td>Organization/00394544000851</td>\n      <td>2021-08-10</td>\n      <td>1ª Dose</td>\n      <td>87</td>\n      <td>COVID-19 PFIZER - COMIRNATY</td>\n      <td>Novo PNI</td>\n      <td>0</td>\n    </tr>\n    <tr>\n      <th>3</th>\n      <td>66ff3293-3ee5-4cfb-9425-6ef645d51b3f-i0b0</td>\n      <td>3dcc3b0528cba132b2f62317e18ffcfbad7a0e6aee7697...</td>\n      <td>45</td>\n      <td>1975-12-19</td>\n      <td>M</td>\n      <td>99</td>\n      <td>SEM INFORMACAO</td>\n      <td>120040.0</td>\n      <td>10.0</td>\n      <td>RIO BRANCO</td>\n      <td>...</td>\n      <td>Faixa Etária</td>\n      <td>1855836</td>\n      <td>JANSSEN</td>\n      <td>Organization/30587</td>\n      <td>2021-12-14</td>\n      <td>Reforço</td>\n      <td>88</td>\n      <td>COVID-19 JANSSEN - Ad26.COV2.S</td>\n      <td>Novo PNI</td>\n      <td>1</td>\n    </tr>\n    <tr>\n      <th>4</th>\n      <td>51a2b293-2d0a-4f0b-81b8-285afcfb84b2-i0b0</td>\n      <td>b0f5c768054bbeb2658fbda71a3226d5bd4200dca52374...</td>\n      <td>5</td>\n      <td>2017-06-19</td>\n      <td>M</td>\n      <td>1</td>\n      <td>BRANCA</td>\n      <td>120060.0</td>\n      <td>10.0</td>\n      <td>TARAUACA</td>\n      <td>...</td>\n      <td>NaN</td>\n      <td>210520</td>\n      <td>SINOVAC/BUTANTAN</td>\n      <td>29501</td>\n      <td>2022-09-21</td>\n      <td>1ª Dose</td>\n      <td>86</td>\n      <td>COVID-19 SINOVAC/BUTANTAN - CORONAVAC</td>\n      <td>Novo PNI</td>\n      <td>0</td>\n    </tr>\n    <tr>\n      <th>5</th>\n      <td>67349635-731f-4fb2-a854-4b4fda0bed61-i0b0</td>\n      <td>24ee9e10ac6dc30ea9567b7988f3fbc4f5adcf876ca770...</td>\n      <td>22</td>\n      <td>1999-06-07</td>\n      <td>F</td>\n      <td>4</td>\n      <td>AMARELA</td>\n      <td>120060.0</td>\n      <td>10.0</td>\n      <td>TARAUACA</td>\n      <td>...</td>\n      <td>Faixa Etária</td>\n      <td>217VCD239Z</td>\n      <td>ASTRAZENECA/FIOCRUZ</td>\n      <td>Organization/33781055000135</td>\n      <td>2021-11-05</td>\n      <td>1ª Dose</td>\n      <td>85</td>\n      <td>COVID-19 ASTRAZENECA/FIOCRUZ - COVISHIELD</td>\n      <td>Novo PNI</td>\n      <td>0</td>\n    </tr>\n    <tr>\n      <th>6</th>\n      <td>23277e20-eb32-40e8-9a69-3afd60dab7e4-i0b0</td>\n      <td>cc083c1a67e961a31cafd3a98a41528507069697c506c0...</td>\n      <td>19</td>\n      <td>2003-01-17</td>\n      <td>F</td>\n      <td>4</td>\n      <td>AMARELA</td>\n      <td>120040.0</td>\n      <td>10.0</td>\n      <td>RIO BRANCO</td>\n      <td>...</td>\n      <td>Faixa Etária</td>\n      <td>21PVCD368Z</td>\n      <td>ASTRAZENECA/FIOCRUZ</td>\n      <td>149</td>\n      <td>2022-07-28</td>\n      <td>Reforço</td>\n      <td>85</td>\n      <td>COVID-19 ASTRAZENECA/FIOCRUZ - COVISHIELD</td>\n      <td>Novo PNI</td>\n      <td>1</td>\n    </tr>\n    <tr>\n      <th>7</th>\n      <td>6749240d-966e-46b5-aeb2-9d35891870eb-i0b0</td>\n      <td>04663b06a73a00e630236d9b20641761facbf7b511063c...</td>\n      <td>2</td>\n      <td>2021-02-12</td>\n      <td>F</td>\n      <td>99</td>\n      <td>SEM INFORMACAO</td>\n      <td>120070.0</td>\n      <td>10.0</td>\n      <td>XAPURI</td>\n      <td>...</td>\n      <td>Faixa Etária</td>\n      <td>230165</td>\n      <td>BUTANTAN</td>\n      <td>152</td>\n      <td>2023-12-14</td>\n      <td>Única</td>\n      <td>33</td>\n      <td>INF3</td>\n      <td>Novo PNI</td>\n      <td>0</td>\n    </tr>\n    <tr>\n      <th>8</th>\n      <td>3ad4f8d2-4fdc-4144-96bd-b896a0bf9f99-i0b0</td>\n      <td>24ca8149a3bc4f7e3b3a59ec7a95678eec9c6cefdf09df...</td>\n      <td>58</td>\n      <td>1963-11-05</td>\n      <td>M</td>\n      <td>1</td>\n      <td>BRANCA</td>\n      <td>120020.0</td>\n      <td>10.0</td>\n      <td>CRUZEIRO DO SUL</td>\n      <td>...</td>\n      <td>Faixa Etária</td>\n      <td>FM3355</td>\n      <td>PFIZER</td>\n      <td>Organization/28290</td>\n      <td>2022-02-04</td>\n      <td>2ª Dose</td>\n      <td>87</td>\n      <td>COVID-19 PFIZER - COMIRNATY</td>\n      <td>Novo PNI</td>\n      <td>0</td>\n    </tr>\n    <tr>\n      <th>9</th>\n      <td>67ca41f9-84ef-49bd-88c9-fc80285cbccb-i0b0</td>\n      <td>3ced2415e7c6449aeaa1152d3c7ec7721a2bfe6a7fd48d...</td>\n      <td>42</td>\n      <td>1978-09-20</td>\n      <td>F</td>\n      <td>3</td>\n      <td>PARDA</td>\n      <td>120045.0</td>\n      <td>10.0</td>\n      <td>SENADOR GUIOMARD</td>\n      <td>...</td>\n      <td>Faixa Etária</td>\n      <td>214VCD053W</td>\n      <td>ASTRAZENECA/FIOCRUZ</td>\n      <td>Organization/33781055000135</td>\n      <td>2021-06-22</td>\n      <td>1ª Dose</td>\n      <td>85</td>\n      <td>COVID-19 ASTRAZENECA/FIOCRUZ - COVISHIELD</td>\n      <td>Novo PNI</td>\n      <td>0</td>\n    </tr>\n  </tbody>\n</table>\n<p>10 rows × 33 columns</p>\n</div>"
     },
     "execution_count": 25,
     "metadata": {},
     "output_type": "execute_result"
    }
   ],
   "source": [
    "vacAcre_copy.head(10)"
   ]
  },
  {
   "cell_type": "code",
   "execution_count": 26,
   "metadata": {
    "ExecuteTime": {
     "end_time": "2023-12-28T05:16:38.876830200Z",
     "start_time": "2023-12-28T05:16:38.800179700Z"
    }
   },
   "outputs": [
    {
     "data": {
      "text/plain": "      paciente_endereco_nmMunicipio  fl_capital\n0                        RIO BRANCO           1\n1                        RIO BRANCO           1\n2                         BRASILEIA           0\n3                        RIO BRANCO           1\n4                          TARAUACA           0\n...                             ...         ...\n19995                    RIO BRANCO           1\n19996               CRUZEIRO DO SUL           0\n19997                    RIO BRANCO           1\n19998                   PORTO VELHO           0\n19999                    RIO BRANCO           1\n\n[20000 rows x 2 columns]",
      "text/html": "<div>\n<style scoped>\n    .dataframe tbody tr th:only-of-type {\n        vertical-align: middle;\n    }\n\n    .dataframe tbody tr th {\n        vertical-align: top;\n    }\n\n    .dataframe thead th {\n        text-align: right;\n    }\n</style>\n<table border=\"1\" class=\"dataframe\">\n  <thead>\n    <tr style=\"text-align: right;\">\n      <th></th>\n      <th>paciente_endereco_nmMunicipio</th>\n      <th>fl_capital</th>\n    </tr>\n  </thead>\n  <tbody>\n    <tr>\n      <th>0</th>\n      <td>RIO BRANCO</td>\n      <td>1</td>\n    </tr>\n    <tr>\n      <th>1</th>\n      <td>RIO BRANCO</td>\n      <td>1</td>\n    </tr>\n    <tr>\n      <th>2</th>\n      <td>BRASILEIA</td>\n      <td>0</td>\n    </tr>\n    <tr>\n      <th>3</th>\n      <td>RIO BRANCO</td>\n      <td>1</td>\n    </tr>\n    <tr>\n      <th>4</th>\n      <td>TARAUACA</td>\n      <td>0</td>\n    </tr>\n    <tr>\n      <th>...</th>\n      <td>...</td>\n      <td>...</td>\n    </tr>\n    <tr>\n      <th>19995</th>\n      <td>RIO BRANCO</td>\n      <td>1</td>\n    </tr>\n    <tr>\n      <th>19996</th>\n      <td>CRUZEIRO DO SUL</td>\n      <td>0</td>\n    </tr>\n    <tr>\n      <th>19997</th>\n      <td>RIO BRANCO</td>\n      <td>1</td>\n    </tr>\n    <tr>\n      <th>19998</th>\n      <td>PORTO VELHO</td>\n      <td>0</td>\n    </tr>\n    <tr>\n      <th>19999</th>\n      <td>RIO BRANCO</td>\n      <td>1</td>\n    </tr>\n  </tbody>\n</table>\n<p>20000 rows × 2 columns</p>\n</div>"
     },
     "execution_count": 26,
     "metadata": {},
     "output_type": "execute_result"
    }
   ],
   "source": [
    "vacAcre_copy[['paciente_endereco_nmMunicipio','fl_capital']]"
   ]
  },
  {
   "cell_type": "code",
   "execution_count": 30,
   "metadata": {
    "ExecuteTime": {
     "end_time": "2023-12-28T05:16:51.150175100Z",
     "start_time": "2023-12-28T05:16:51.138268400Z"
    }
   },
   "outputs": [
    {
     "data": {
      "text/plain": "9806"
     },
     "execution_count": 30,
     "metadata": {},
     "output_type": "execute_result"
    }
   ],
   "source": [
    "vacAcre_copy['fl_capital'].sum()"
   ]
  },
  {
   "cell_type": "code",
   "execution_count": 28,
   "metadata": {
    "ExecuteTime": {
     "end_time": "2023-12-28T05:16:38.893329100Z",
     "start_time": "2023-12-28T05:16:38.808319200Z"
    }
   },
   "outputs": [
    {
     "data": {
      "text/plain": "46.47"
     },
     "execution_count": 28,
     "metadata": {},
     "output_type": "execute_result"
    }
   ],
   "source": [
    "(9294/20000)*100"
   ]
  },
  {
   "cell_type": "code",
   "execution_count": 28,
   "metadata": {
    "ExecuteTime": {
     "end_time": "2023-12-28T05:16:38.894329200Z",
     "start_time": "2023-12-28T05:16:38.811682400Z"
    }
   },
   "outputs": [],
   "source": []
  },
  {
   "cell_type": "markdown",
   "metadata": {},
   "source": [
    "## Qual a idade média dos pacientes???"
   ]
  },
  {
   "cell_type": "code",
   "execution_count": 29,
   "metadata": {
    "ExecuteTime": {
     "end_time": "2023-12-28T05:16:38.894828900Z",
     "start_time": "2023-12-28T05:16:38.814189200Z"
    }
   },
   "outputs": [
    {
     "data": {
      "text/plain": "36.3649"
     },
     "execution_count": 29,
     "metadata": {},
     "output_type": "execute_result"
    }
   ],
   "source": [
    "vacAcre_copy['paciente_idade'].mean()"
   ]
  },
  {
   "cell_type": "code",
   "execution_count": 29,
   "metadata": {
    "ExecuteTime": {
     "end_time": "2023-12-28T05:16:38.895329200Z",
     "start_time": "2023-12-28T05:16:38.816860Z"
    }
   },
   "outputs": [],
   "source": []
  },
  {
   "cell_type": "code",
   "execution_count": 29,
   "metadata": {
    "ExecuteTime": {
     "end_time": "2023-12-28T05:16:38.895828800Z",
     "start_time": "2023-12-28T05:16:38.818802600Z"
    }
   },
   "outputs": [],
   "source": []
  }
 ],
 "metadata": {
  "kernelspec": {
   "display_name": "Python 3",
   "language": "python",
   "name": "python3"
  },
  "language_info": {
   "codemirror_mode": {
    "name": "ipython",
    "version": 3
   },
   "file_extension": ".py",
   "mimetype": "text/x-python",
   "name": "python",
   "nbconvert_exporter": "python",
   "pygments_lexer": "ipython3",
   "version": "3.8.5"
  },
  "varInspector": {
   "cols": {
    "lenName": 16,
    "lenType": 16,
    "lenVar": 40
   },
   "kernels_config": {
    "python": {
     "delete_cmd_postfix": "",
     "delete_cmd_prefix": "del ",
     "library": "var_list.py",
     "varRefreshCmd": "print(var_dic_list())"
    },
    "r": {
     "delete_cmd_postfix": ") ",
     "delete_cmd_prefix": "rm(",
     "library": "var_list.r",
     "varRefreshCmd": "cat(var_dic_list()) "
    }
   },
   "types_to_exclude": [
    "module",
    "function",
    "builtin_function_or_method",
    "instance",
    "_Feature"
   ],
   "window_display": false
  }
 },
 "nbformat": 4,
 "nbformat_minor": 4
}
