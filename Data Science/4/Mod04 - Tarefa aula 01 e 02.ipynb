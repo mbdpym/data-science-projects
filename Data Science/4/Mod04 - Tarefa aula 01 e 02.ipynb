{
 "cells": [
  {
   "cell_type": "markdown",
   "metadata": {},
   "source": [
    "# Tarefa 01\n",
    "\n",
    "- Leia os enunciados com atenção\n",
    "- Saiba que pode haver mais de uma resposta correta\n",
    "- Insira novas células de código sempre que achar necessário\n",
    "- Em caso de dúvidas, procure os tutores\n",
    "- Divirta-se :)\n",
    "\n",
    "#### 1)  crie uma série do pandas a partir de uma lista com os dados abaixo:\n",
    "\n",
    "Em um estudo sobre alteração na tempreatura global, A NASA disponibiliza dados de diferenças de de temperatura média da superfície terrestre relativos às médias de temperatura entre 1951 e 1980. Os dados originais podem ser vistos no site da NASA/GISS, e estão dispostos a cada década na tabela abaixo.\n",
    "\n",
    "|ano|anomalia termica|\n",
    "|:-:|:----:|\n",
    "| 1900 | -0.08 |\n",
    "| 1920 | -0.27 |\n",
    "| 1940 | 0.12 |\n",
    "| 1960 | -0.03 |\n",
    "| 1980 | 0.26 |\n",
    "| 2000 | 0.40 |\n",
    "| 2020 | 1.02 |\n",
    "\n",
    "Crie uma séries do Pandas a partir de uma lista com esses dados."
   ]
  },
  {
   "cell_type": "code",
   "execution_count": 1,
   "metadata": {
    "ExecuteTime": {
     "end_time": "2023-12-28T00:06:57.909130600Z",
     "start_time": "2023-12-28T00:06:56.958394900Z"
    }
   },
   "outputs": [
    {
     "data": {
      "text/plain": "1900   -0.08\n1920   -0.27\n1940    0.12\n1960   -0.03\n1980    0.26\n2000    0.40\n2020    1.02\ndtype: float64"
     },
     "execution_count": 1,
     "metadata": {},
     "output_type": "execute_result"
    }
   ],
   "source": [
    "import pandas as pd\n",
    "import numpy as np\n",
    "\n",
    "# Seu código aqui\n",
    "anomaliaDict = {\n",
    "    '1900': -0.08,\n",
    "    '1920': -0.27,\n",
    "    '1940': 0.12,\n",
    "    '1960': -0.03,\n",
    "    '1980': 0.26,\n",
    "    '2000': 0.40,\n",
    "    '2020': 1.02\n",
    "}\n",
    "\n",
    "anomaliaSeries = pd.Series(anomaliaDict)\n",
    "anomaliaSeries"
   ]
  },
  {
   "cell_type": "markdown",
   "metadata": {},
   "source": [
    "#### 2) Coloque os anos nos índices conforme a tabela."
   ]
  },
  {
   "cell_type": "code",
   "execution_count": 2,
   "metadata": {
    "ExecuteTime": {
     "end_time": "2023-12-28T00:06:57.910631100Z",
     "start_time": "2023-12-28T00:06:57.906828500Z"
    }
   },
   "outputs": [
    {
     "data": {
      "text/plain": "1900   -0.08\n1920   -0.27\n1940    0.12\n1960   -0.03\n1980    0.26\n2000    0.40\n2020    1.02\ndtype: float64"
     },
     "execution_count": 2,
     "metadata": {},
     "output_type": "execute_result"
    }
   ],
   "source": [
    "\n",
    "# seu código aqui\n",
    "anomaliaDict = {\n",
    "    '1900': -0.08,\n",
    "    '1920': -0.27,\n",
    "    '1940': 0.12,\n",
    "    '1960': -0.03,\n",
    "    '1980': 0.26,\n",
    "    '2000': 0.40,\n",
    "    '2020': 1.02\n",
    "}\n",
    "\n",
    "anomaliaSeries = pd.Series(anomaliaDict)\n",
    "anomaliaSeries"
   ]
  },
  {
   "cell_type": "markdown",
   "metadata": {},
   "source": [
    "#### 3) A partir do dicionário abaixo, crie uma séries do Pandas:"
   ]
  },
  {
   "cell_type": "code",
   "execution_count": 3,
   "metadata": {
    "ExecuteTime": {
     "end_time": "2023-12-28T00:06:57.916639800Z",
     "start_time": "2023-12-28T00:06:57.910130500Z"
    }
   },
   "outputs": [
    {
     "data": {
      "text/plain": "1900   -0.08\n1920   -0.27\n1940    0.12\n1960   -0.03\n1980    0.26\n2000    0.40\n2020    1.02\ndtype: float64"
     },
     "execution_count": 3,
     "metadata": {},
     "output_type": "execute_result"
    }
   ],
   "source": [
    "dic_temperaturas = {1900: -.08, 1920: -.27, 1940: .12, 1960: -.03, 1980: .26, 2000: .40, 2020: 1.02}\n",
    "\n",
    "# seu código aqui\n",
    "temperaturasSeries = pd.Series(dic_temperaturas)\n",
    "temperaturasSeries"
   ]
  },
  {
   "cell_type": "markdown",
   "metadata": {},
   "source": [
    "#### 4) Transforme o ndarray abaixo em um dataframe. \n",
    "O numpy é capaz de gerar arrays n-dimensionais com números pseudo-aleatórios de acordo com uma variedade de distribuições, como no exemplo abaixo. Transforme esse nd-array em um DataFrame."
   ]
  },
  {
   "cell_type": "code",
   "execution_count": 4,
   "metadata": {
    "ExecuteTime": {
     "end_time": "2023-12-28T00:06:57.951988400Z",
     "start_time": "2023-12-28T00:06:57.917638Z"
    }
   },
   "outputs": [
    {
     "data": {
      "text/plain": "             0           1           2\n0    95.872355   93.455598  115.313408\n1   101.646379  101.110184  111.626015\n2    89.371259  105.296010  106.407400\n3    90.535968  104.885918   94.007556\n4    88.019790  108.016135  109.330463\n5    86.772050   98.128190  100.907255\n6    99.915340   86.493657  101.932990\n7   106.407164   82.946575   98.632012\n8   112.151940  110.781306  105.957950\n9   108.636643  105.919674   88.170643\n10   96.817211  104.253212   96.176381\n11  113.174169  103.922888   96.253400\n12  112.824461  102.636759  114.290774\n13   92.472313  106.374719  109.780500\n14  102.939873   99.460821  101.586018\n15  101.991143  104.478080   94.645459\n16   87.881730  107.191818   94.792504\n17  107.972282   85.442277   84.360822\n18  125.282754   89.660441  105.524727\n19   99.830897   95.432929  113.440577",
      "text/html": "<div>\n<style scoped>\n    .dataframe tbody tr th:only-of-type {\n        vertical-align: middle;\n    }\n\n    .dataframe tbody tr th {\n        vertical-align: top;\n    }\n\n    .dataframe thead th {\n        text-align: right;\n    }\n</style>\n<table border=\"1\" class=\"dataframe\">\n  <thead>\n    <tr style=\"text-align: right;\">\n      <th></th>\n      <th>0</th>\n      <th>1</th>\n      <th>2</th>\n    </tr>\n  </thead>\n  <tbody>\n    <tr>\n      <th>0</th>\n      <td>95.872355</td>\n      <td>93.455598</td>\n      <td>115.313408</td>\n    </tr>\n    <tr>\n      <th>1</th>\n      <td>101.646379</td>\n      <td>101.110184</td>\n      <td>111.626015</td>\n    </tr>\n    <tr>\n      <th>2</th>\n      <td>89.371259</td>\n      <td>105.296010</td>\n      <td>106.407400</td>\n    </tr>\n    <tr>\n      <th>3</th>\n      <td>90.535968</td>\n      <td>104.885918</td>\n      <td>94.007556</td>\n    </tr>\n    <tr>\n      <th>4</th>\n      <td>88.019790</td>\n      <td>108.016135</td>\n      <td>109.330463</td>\n    </tr>\n    <tr>\n      <th>5</th>\n      <td>86.772050</td>\n      <td>98.128190</td>\n      <td>100.907255</td>\n    </tr>\n    <tr>\n      <th>6</th>\n      <td>99.915340</td>\n      <td>86.493657</td>\n      <td>101.932990</td>\n    </tr>\n    <tr>\n      <th>7</th>\n      <td>106.407164</td>\n      <td>82.946575</td>\n      <td>98.632012</td>\n    </tr>\n    <tr>\n      <th>8</th>\n      <td>112.151940</td>\n      <td>110.781306</td>\n      <td>105.957950</td>\n    </tr>\n    <tr>\n      <th>9</th>\n      <td>108.636643</td>\n      <td>105.919674</td>\n      <td>88.170643</td>\n    </tr>\n    <tr>\n      <th>10</th>\n      <td>96.817211</td>\n      <td>104.253212</td>\n      <td>96.176381</td>\n    </tr>\n    <tr>\n      <th>11</th>\n      <td>113.174169</td>\n      <td>103.922888</td>\n      <td>96.253400</td>\n    </tr>\n    <tr>\n      <th>12</th>\n      <td>112.824461</td>\n      <td>102.636759</td>\n      <td>114.290774</td>\n    </tr>\n    <tr>\n      <th>13</th>\n      <td>92.472313</td>\n      <td>106.374719</td>\n      <td>109.780500</td>\n    </tr>\n    <tr>\n      <th>14</th>\n      <td>102.939873</td>\n      <td>99.460821</td>\n      <td>101.586018</td>\n    </tr>\n    <tr>\n      <th>15</th>\n      <td>101.991143</td>\n      <td>104.478080</td>\n      <td>94.645459</td>\n    </tr>\n    <tr>\n      <th>16</th>\n      <td>87.881730</td>\n      <td>107.191818</td>\n      <td>94.792504</td>\n    </tr>\n    <tr>\n      <th>17</th>\n      <td>107.972282</td>\n      <td>85.442277</td>\n      <td>84.360822</td>\n    </tr>\n    <tr>\n      <th>18</th>\n      <td>125.282754</td>\n      <td>89.660441</td>\n      <td>105.524727</td>\n    </tr>\n    <tr>\n      <th>19</th>\n      <td>99.830897</td>\n      <td>95.432929</td>\n      <td>113.440577</td>\n    </tr>\n  </tbody>\n</table>\n</div>"
     },
     "execution_count": 4,
     "metadata": {},
     "output_type": "execute_result"
    }
   ],
   "source": [
    "arr = np.random.normal(100, 10, (20,3))\n",
    "\n",
    "# seu código aqui\n",
    "arrDf = pd.DataFrame(arr)\n",
    "arrDf"
   ]
  },
  {
   "cell_type": "markdown",
   "metadata": {},
   "source": [
    "#### 5) Nomeie os índices das linhas com inteiros de 1 a 20, e as colunas com os nomes \"x1\", \"x2\", e \"x3\" respectivamente."
   ]
  },
  {
   "cell_type": "code",
   "execution_count": 5,
   "metadata": {
    "ExecuteTime": {
     "end_time": "2023-12-28T00:06:57.953238300Z",
     "start_time": "2023-12-28T00:06:57.931660300Z"
    }
   },
   "outputs": [
    {
     "data": {
      "text/plain": "            x1          x2          x3\n1    95.872355   93.455598  115.313408\n2   101.646379  101.110184  111.626015\n3    89.371259  105.296010  106.407400\n4    90.535968  104.885918   94.007556\n5    88.019790  108.016135  109.330463\n6    86.772050   98.128190  100.907255\n7    99.915340   86.493657  101.932990\n8   106.407164   82.946575   98.632012\n9   112.151940  110.781306  105.957950\n10  108.636643  105.919674   88.170643\n11   96.817211  104.253212   96.176381\n12  113.174169  103.922888   96.253400\n13  112.824461  102.636759  114.290774\n14   92.472313  106.374719  109.780500\n15  102.939873   99.460821  101.586018\n16  101.991143  104.478080   94.645459\n17   87.881730  107.191818   94.792504\n18  107.972282   85.442277   84.360822\n19  125.282754   89.660441  105.524727\n20   99.830897   95.432929  113.440577",
      "text/html": "<div>\n<style scoped>\n    .dataframe tbody tr th:only-of-type {\n        vertical-align: middle;\n    }\n\n    .dataframe tbody tr th {\n        vertical-align: top;\n    }\n\n    .dataframe thead th {\n        text-align: right;\n    }\n</style>\n<table border=\"1\" class=\"dataframe\">\n  <thead>\n    <tr style=\"text-align: right;\">\n      <th></th>\n      <th>x1</th>\n      <th>x2</th>\n      <th>x3</th>\n    </tr>\n  </thead>\n  <tbody>\n    <tr>\n      <th>1</th>\n      <td>95.872355</td>\n      <td>93.455598</td>\n      <td>115.313408</td>\n    </tr>\n    <tr>\n      <th>2</th>\n      <td>101.646379</td>\n      <td>101.110184</td>\n      <td>111.626015</td>\n    </tr>\n    <tr>\n      <th>3</th>\n      <td>89.371259</td>\n      <td>105.296010</td>\n      <td>106.407400</td>\n    </tr>\n    <tr>\n      <th>4</th>\n      <td>90.535968</td>\n      <td>104.885918</td>\n      <td>94.007556</td>\n    </tr>\n    <tr>\n      <th>5</th>\n      <td>88.019790</td>\n      <td>108.016135</td>\n      <td>109.330463</td>\n    </tr>\n    <tr>\n      <th>6</th>\n      <td>86.772050</td>\n      <td>98.128190</td>\n      <td>100.907255</td>\n    </tr>\n    <tr>\n      <th>7</th>\n      <td>99.915340</td>\n      <td>86.493657</td>\n      <td>101.932990</td>\n    </tr>\n    <tr>\n      <th>8</th>\n      <td>106.407164</td>\n      <td>82.946575</td>\n      <td>98.632012</td>\n    </tr>\n    <tr>\n      <th>9</th>\n      <td>112.151940</td>\n      <td>110.781306</td>\n      <td>105.957950</td>\n    </tr>\n    <tr>\n      <th>10</th>\n      <td>108.636643</td>\n      <td>105.919674</td>\n      <td>88.170643</td>\n    </tr>\n    <tr>\n      <th>11</th>\n      <td>96.817211</td>\n      <td>104.253212</td>\n      <td>96.176381</td>\n    </tr>\n    <tr>\n      <th>12</th>\n      <td>113.174169</td>\n      <td>103.922888</td>\n      <td>96.253400</td>\n    </tr>\n    <tr>\n      <th>13</th>\n      <td>112.824461</td>\n      <td>102.636759</td>\n      <td>114.290774</td>\n    </tr>\n    <tr>\n      <th>14</th>\n      <td>92.472313</td>\n      <td>106.374719</td>\n      <td>109.780500</td>\n    </tr>\n    <tr>\n      <th>15</th>\n      <td>102.939873</td>\n      <td>99.460821</td>\n      <td>101.586018</td>\n    </tr>\n    <tr>\n      <th>16</th>\n      <td>101.991143</td>\n      <td>104.478080</td>\n      <td>94.645459</td>\n    </tr>\n    <tr>\n      <th>17</th>\n      <td>87.881730</td>\n      <td>107.191818</td>\n      <td>94.792504</td>\n    </tr>\n    <tr>\n      <th>18</th>\n      <td>107.972282</td>\n      <td>85.442277</td>\n      <td>84.360822</td>\n    </tr>\n    <tr>\n      <th>19</th>\n      <td>125.282754</td>\n      <td>89.660441</td>\n      <td>105.524727</td>\n    </tr>\n    <tr>\n      <th>20</th>\n      <td>99.830897</td>\n      <td>95.432929</td>\n      <td>113.440577</td>\n    </tr>\n  </tbody>\n</table>\n</div>"
     },
     "execution_count": 5,
     "metadata": {},
     "output_type": "execute_result"
    }
   ],
   "source": [
    "#seu código aqui\n",
    "arrIndex = [1,2,3,4,5,6,7,8,9,10,11,12,13,14,15,16,17,18,19,20]\n",
    "arrColumns = ['x1','x2','x3']\n",
    "\n",
    "arrDf = pd.DataFrame(arr, index=arrIndex, columns=arrColumns)\n",
    "arrDf"
   ]
  },
  {
   "cell_type": "markdown",
   "metadata": {},
   "source": [
    "#### 6) No DataFrame do exercício 5, crie uma nova coluna como sendo a média das três colunas, e dê a ela o nome de \"media\" (não recomendo colocar acentos em nomes de variáveis)."
   ]
  },
  {
   "cell_type": "code",
   "execution_count": 13,
   "metadata": {
    "ExecuteTime": {
     "end_time": "2023-12-28T00:08:53.824392500Z",
     "start_time": "2023-12-28T00:08:53.742961400Z"
    }
   },
   "outputs": [
    {
     "data": {
      "text/plain": "            x1          x2          x3       media  log_average\n1    95.872355   93.455598  115.313408  101.547120     4.620523\n2   101.646379  101.110184  111.626015  104.794192     4.651998\n3    89.371259  105.296010  106.407400  100.358223     4.608746\n4    90.535968  104.885918   94.007556   96.476481     4.569299\n5    88.019790  108.016135  109.330463  101.788796     4.622900\n6    86.772050   98.128190  100.907255   95.269165     4.556706\n7    99.915340   86.493657  101.932990   96.113996     4.565535\n8   106.407164   82.946575   98.632012   95.995250     4.564299\n9   112.151940  110.781306  105.957950  109.630399     4.697115\n10  108.636643  105.919674   88.170643  100.908986     4.614219\n11   96.817211  104.253212   96.176381   99.082268     4.595950\n12  113.174169  103.922888   96.253400  104.450152     4.648710\n13  112.824461  102.636759  114.290774  109.917331     4.699729\n14   92.472313  106.374719  109.780500  102.875844     4.633523\n15  102.939873   99.460821  101.586018  101.328904     4.618372\n16  101.991143  104.478080   94.645459  100.371561     4.608879\n17   87.881730  107.191818   94.792504   96.622017     4.570807\n18  107.972282   85.442277   84.360822   92.591794     4.528201\n19  125.282754   89.660441  105.524727  106.822641     4.671170\n20   99.830897   95.432929  113.440577  102.901468     4.633772",
      "text/html": "<div>\n<style scoped>\n    .dataframe tbody tr th:only-of-type {\n        vertical-align: middle;\n    }\n\n    .dataframe tbody tr th {\n        vertical-align: top;\n    }\n\n    .dataframe thead th {\n        text-align: right;\n    }\n</style>\n<table border=\"1\" class=\"dataframe\">\n  <thead>\n    <tr style=\"text-align: right;\">\n      <th></th>\n      <th>x1</th>\n      <th>x2</th>\n      <th>x3</th>\n      <th>media</th>\n      <th>log_average</th>\n    </tr>\n  </thead>\n  <tbody>\n    <tr>\n      <th>1</th>\n      <td>95.872355</td>\n      <td>93.455598</td>\n      <td>115.313408</td>\n      <td>101.547120</td>\n      <td>4.620523</td>\n    </tr>\n    <tr>\n      <th>2</th>\n      <td>101.646379</td>\n      <td>101.110184</td>\n      <td>111.626015</td>\n      <td>104.794192</td>\n      <td>4.651998</td>\n    </tr>\n    <tr>\n      <th>3</th>\n      <td>89.371259</td>\n      <td>105.296010</td>\n      <td>106.407400</td>\n      <td>100.358223</td>\n      <td>4.608746</td>\n    </tr>\n    <tr>\n      <th>4</th>\n      <td>90.535968</td>\n      <td>104.885918</td>\n      <td>94.007556</td>\n      <td>96.476481</td>\n      <td>4.569299</td>\n    </tr>\n    <tr>\n      <th>5</th>\n      <td>88.019790</td>\n      <td>108.016135</td>\n      <td>109.330463</td>\n      <td>101.788796</td>\n      <td>4.622900</td>\n    </tr>\n    <tr>\n      <th>6</th>\n      <td>86.772050</td>\n      <td>98.128190</td>\n      <td>100.907255</td>\n      <td>95.269165</td>\n      <td>4.556706</td>\n    </tr>\n    <tr>\n      <th>7</th>\n      <td>99.915340</td>\n      <td>86.493657</td>\n      <td>101.932990</td>\n      <td>96.113996</td>\n      <td>4.565535</td>\n    </tr>\n    <tr>\n      <th>8</th>\n      <td>106.407164</td>\n      <td>82.946575</td>\n      <td>98.632012</td>\n      <td>95.995250</td>\n      <td>4.564299</td>\n    </tr>\n    <tr>\n      <th>9</th>\n      <td>112.151940</td>\n      <td>110.781306</td>\n      <td>105.957950</td>\n      <td>109.630399</td>\n      <td>4.697115</td>\n    </tr>\n    <tr>\n      <th>10</th>\n      <td>108.636643</td>\n      <td>105.919674</td>\n      <td>88.170643</td>\n      <td>100.908986</td>\n      <td>4.614219</td>\n    </tr>\n    <tr>\n      <th>11</th>\n      <td>96.817211</td>\n      <td>104.253212</td>\n      <td>96.176381</td>\n      <td>99.082268</td>\n      <td>4.595950</td>\n    </tr>\n    <tr>\n      <th>12</th>\n      <td>113.174169</td>\n      <td>103.922888</td>\n      <td>96.253400</td>\n      <td>104.450152</td>\n      <td>4.648710</td>\n    </tr>\n    <tr>\n      <th>13</th>\n      <td>112.824461</td>\n      <td>102.636759</td>\n      <td>114.290774</td>\n      <td>109.917331</td>\n      <td>4.699729</td>\n    </tr>\n    <tr>\n      <th>14</th>\n      <td>92.472313</td>\n      <td>106.374719</td>\n      <td>109.780500</td>\n      <td>102.875844</td>\n      <td>4.633523</td>\n    </tr>\n    <tr>\n      <th>15</th>\n      <td>102.939873</td>\n      <td>99.460821</td>\n      <td>101.586018</td>\n      <td>101.328904</td>\n      <td>4.618372</td>\n    </tr>\n    <tr>\n      <th>16</th>\n      <td>101.991143</td>\n      <td>104.478080</td>\n      <td>94.645459</td>\n      <td>100.371561</td>\n      <td>4.608879</td>\n    </tr>\n    <tr>\n      <th>17</th>\n      <td>87.881730</td>\n      <td>107.191818</td>\n      <td>94.792504</td>\n      <td>96.622017</td>\n      <td>4.570807</td>\n    </tr>\n    <tr>\n      <th>18</th>\n      <td>107.972282</td>\n      <td>85.442277</td>\n      <td>84.360822</td>\n      <td>92.591794</td>\n      <td>4.528201</td>\n    </tr>\n    <tr>\n      <th>19</th>\n      <td>125.282754</td>\n      <td>89.660441</td>\n      <td>105.524727</td>\n      <td>106.822641</td>\n      <td>4.671170</td>\n    </tr>\n    <tr>\n      <th>20</th>\n      <td>99.830897</td>\n      <td>95.432929</td>\n      <td>113.440577</td>\n      <td>102.901468</td>\n      <td>4.633772</td>\n    </tr>\n  </tbody>\n</table>\n</div>"
     },
     "execution_count": 13,
     "metadata": {},
     "output_type": "execute_result"
    }
   ],
   "source": [
    "# seu código aqui\n",
    "arrDf['media'] = arrDf[['x1', 'x2', 'x3']].mean(axis=1)\n",
    "arrDf"
   ]
  },
  {
   "cell_type": "markdown",
   "metadata": {},
   "source": [
    "#### 7) No DataFrame do exercício 6, crie uma nova coluna chamada \"log_med\", contendo o logaritmo natural da média calculada no exercício 6 <br>"
   ]
  },
  {
   "cell_type": "code",
   "execution_count": 7,
   "metadata": {
    "ExecuteTime": {
     "end_time": "2023-12-28T00:06:57.975785700Z",
     "start_time": "2023-12-28T00:06:57.948989900Z"
    }
   },
   "outputs": [
    {
     "data": {
      "text/plain": "            x1          x2          x3       media  log_average\n1    95.872355   93.455598  115.313408  101.547120     4.620523\n2   101.646379  101.110184  111.626015  104.794192     4.651998\n3    89.371259  105.296010  106.407400  100.358223     4.608746\n4    90.535968  104.885918   94.007556   96.476481     4.569299\n5    88.019790  108.016135  109.330463  101.788796     4.622900\n6    86.772050   98.128190  100.907255   95.269165     4.556706\n7    99.915340   86.493657  101.932990   96.113996     4.565535\n8   106.407164   82.946575   98.632012   95.995250     4.564299\n9   112.151940  110.781306  105.957950  109.630399     4.697115\n10  108.636643  105.919674   88.170643  100.908986     4.614219\n11   96.817211  104.253212   96.176381   99.082268     4.595950\n12  113.174169  103.922888   96.253400  104.450152     4.648710\n13  112.824461  102.636759  114.290774  109.917331     4.699729\n14   92.472313  106.374719  109.780500  102.875844     4.633523\n15  102.939873   99.460821  101.586018  101.328904     4.618372\n16  101.991143  104.478080   94.645459  100.371561     4.608879\n17   87.881730  107.191818   94.792504   96.622017     4.570807\n18  107.972282   85.442277   84.360822   92.591794     4.528201\n19  125.282754   89.660441  105.524727  106.822641     4.671170\n20   99.830897   95.432929  113.440577  102.901468     4.633772",
      "text/html": "<div>\n<style scoped>\n    .dataframe tbody tr th:only-of-type {\n        vertical-align: middle;\n    }\n\n    .dataframe tbody tr th {\n        vertical-align: top;\n    }\n\n    .dataframe thead th {\n        text-align: right;\n    }\n</style>\n<table border=\"1\" class=\"dataframe\">\n  <thead>\n    <tr style=\"text-align: right;\">\n      <th></th>\n      <th>x1</th>\n      <th>x2</th>\n      <th>x3</th>\n      <th>media</th>\n      <th>log_average</th>\n    </tr>\n  </thead>\n  <tbody>\n    <tr>\n      <th>1</th>\n      <td>95.872355</td>\n      <td>93.455598</td>\n      <td>115.313408</td>\n      <td>101.547120</td>\n      <td>4.620523</td>\n    </tr>\n    <tr>\n      <th>2</th>\n      <td>101.646379</td>\n      <td>101.110184</td>\n      <td>111.626015</td>\n      <td>104.794192</td>\n      <td>4.651998</td>\n    </tr>\n    <tr>\n      <th>3</th>\n      <td>89.371259</td>\n      <td>105.296010</td>\n      <td>106.407400</td>\n      <td>100.358223</td>\n      <td>4.608746</td>\n    </tr>\n    <tr>\n      <th>4</th>\n      <td>90.535968</td>\n      <td>104.885918</td>\n      <td>94.007556</td>\n      <td>96.476481</td>\n      <td>4.569299</td>\n    </tr>\n    <tr>\n      <th>5</th>\n      <td>88.019790</td>\n      <td>108.016135</td>\n      <td>109.330463</td>\n      <td>101.788796</td>\n      <td>4.622900</td>\n    </tr>\n    <tr>\n      <th>6</th>\n      <td>86.772050</td>\n      <td>98.128190</td>\n      <td>100.907255</td>\n      <td>95.269165</td>\n      <td>4.556706</td>\n    </tr>\n    <tr>\n      <th>7</th>\n      <td>99.915340</td>\n      <td>86.493657</td>\n      <td>101.932990</td>\n      <td>96.113996</td>\n      <td>4.565535</td>\n    </tr>\n    <tr>\n      <th>8</th>\n      <td>106.407164</td>\n      <td>82.946575</td>\n      <td>98.632012</td>\n      <td>95.995250</td>\n      <td>4.564299</td>\n    </tr>\n    <tr>\n      <th>9</th>\n      <td>112.151940</td>\n      <td>110.781306</td>\n      <td>105.957950</td>\n      <td>109.630399</td>\n      <td>4.697115</td>\n    </tr>\n    <tr>\n      <th>10</th>\n      <td>108.636643</td>\n      <td>105.919674</td>\n      <td>88.170643</td>\n      <td>100.908986</td>\n      <td>4.614219</td>\n    </tr>\n    <tr>\n      <th>11</th>\n      <td>96.817211</td>\n      <td>104.253212</td>\n      <td>96.176381</td>\n      <td>99.082268</td>\n      <td>4.595950</td>\n    </tr>\n    <tr>\n      <th>12</th>\n      <td>113.174169</td>\n      <td>103.922888</td>\n      <td>96.253400</td>\n      <td>104.450152</td>\n      <td>4.648710</td>\n    </tr>\n    <tr>\n      <th>13</th>\n      <td>112.824461</td>\n      <td>102.636759</td>\n      <td>114.290774</td>\n      <td>109.917331</td>\n      <td>4.699729</td>\n    </tr>\n    <tr>\n      <th>14</th>\n      <td>92.472313</td>\n      <td>106.374719</td>\n      <td>109.780500</td>\n      <td>102.875844</td>\n      <td>4.633523</td>\n    </tr>\n    <tr>\n      <th>15</th>\n      <td>102.939873</td>\n      <td>99.460821</td>\n      <td>101.586018</td>\n      <td>101.328904</td>\n      <td>4.618372</td>\n    </tr>\n    <tr>\n      <th>16</th>\n      <td>101.991143</td>\n      <td>104.478080</td>\n      <td>94.645459</td>\n      <td>100.371561</td>\n      <td>4.608879</td>\n    </tr>\n    <tr>\n      <th>17</th>\n      <td>87.881730</td>\n      <td>107.191818</td>\n      <td>94.792504</td>\n      <td>96.622017</td>\n      <td>4.570807</td>\n    </tr>\n    <tr>\n      <th>18</th>\n      <td>107.972282</td>\n      <td>85.442277</td>\n      <td>84.360822</td>\n      <td>92.591794</td>\n      <td>4.528201</td>\n    </tr>\n    <tr>\n      <th>19</th>\n      <td>125.282754</td>\n      <td>89.660441</td>\n      <td>105.524727</td>\n      <td>106.822641</td>\n      <td>4.671170</td>\n    </tr>\n    <tr>\n      <th>20</th>\n      <td>99.830897</td>\n      <td>95.432929</td>\n      <td>113.440577</td>\n      <td>102.901468</td>\n      <td>4.633772</td>\n    </tr>\n  </tbody>\n</table>\n</div>"
     },
     "execution_count": 7,
     "metadata": {},
     "output_type": "execute_result"
    }
   ],
   "source": [
    "# seu código aqui\n",
    "arrDf['log_average'] = np.log(arrDf['media'])\n",
    "arrDf"
   ]
  }
 ],
 "metadata": {
  "kernelspec": {
   "display_name": "Python 3",
   "language": "python",
   "name": "python3"
  },
  "language_info": {
   "codemirror_mode": {
    "name": "ipython",
    "version": 3
   },
   "file_extension": ".py",
   "mimetype": "text/x-python",
   "name": "python",
   "nbconvert_exporter": "python",
   "pygments_lexer": "ipython3",
   "version": "3.8.5"
  }
 },
 "nbformat": 4,
 "nbformat_minor": 4
}
