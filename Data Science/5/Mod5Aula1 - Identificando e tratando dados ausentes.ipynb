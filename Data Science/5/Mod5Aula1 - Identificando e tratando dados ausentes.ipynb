{
 "cells": [
  {
   "cell_type": "markdown",
   "metadata": {},
   "source": [
    "# 0. Índice <a name=\"Contents\"></a>\n",
    "1. [Importando bibliotecas](#import)\n",
    "2. [Construindo um dataframe](#read)\n",
    "3. [Identificando dados ausentes/missing](#identificando)\n",
    "4. [Tratando dados ausentes/missing](#tratando)\n",
    "5. [Dados duplicados](#duplicados)\n",
    "6. [Mapeamento](#map)\n",
    "\n"
   ]
  },
  {
   "cell_type": "markdown",
   "metadata": {},
   "source": [
    "# 1. Importando bibliotecas <a name=\"import\"></a>\n",
    "\n",
    "<div style=\"text-align: right\"\n",
    "     \n",
    "[Voltar ao índice](#Contents)"
   ]
  },
  {
   "cell_type": "code",
   "execution_count": 2,
   "metadata": {
    "ExecuteTime": {
     "end_time": "2023-12-31T22:52:15.779439Z",
     "start_time": "2023-12-31T22:52:15.755916800Z"
    }
   },
   "outputs": [],
   "source": [
    "import pandas as pd\n",
    "import numpy as np"
   ]
  },
  {
   "cell_type": "markdown",
   "metadata": {},
   "source": [
    "# 2. Construindo um dataframe <a name=\"read\"></a>\n",
    "<div style=\"text-align: right\"\n",
    "     \n",
    "[Voltar ao índice](#Contents)"
   ]
  },
  {
   "cell_type": "code",
   "execution_count": 3,
   "metadata": {
    "ExecuteTime": {
     "end_time": "2023-12-31T22:52:45.709179600Z",
     "start_time": "2023-12-31T22:52:45.683730700Z"
    }
   },
   "outputs": [
    {
     "data": {
      "text/plain": "      coluna1     coluna2     coluna3     coluna4\nA   11.047837 -182.083323  -77.477229  131.067487\nB    7.278472  113.412316   26.547409   34.861424\nC -112.557868   45.420209  -31.481888   30.921867\nD   73.721429  -43.951188  -55.134293  124.563170\nE    7.034644  130.787701 -163.966694  -88.949333\nF  -14.914063   45.933517 -125.360557   11.079864\nG  -21.866303 -120.563491  -83.812971  -35.633110\nH   -3.018402   74.270218    0.165396  -51.777984\nI  -61.052009  -75.152729  -52.908545  -56.825408",
      "text/html": "<div>\n<style scoped>\n    .dataframe tbody tr th:only-of-type {\n        vertical-align: middle;\n    }\n\n    .dataframe tbody tr th {\n        vertical-align: top;\n    }\n\n    .dataframe thead th {\n        text-align: right;\n    }\n</style>\n<table border=\"1\" class=\"dataframe\">\n  <thead>\n    <tr style=\"text-align: right;\">\n      <th></th>\n      <th>coluna1</th>\n      <th>coluna2</th>\n      <th>coluna3</th>\n      <th>coluna4</th>\n    </tr>\n  </thead>\n  <tbody>\n    <tr>\n      <th>A</th>\n      <td>11.047837</td>\n      <td>-182.083323</td>\n      <td>-77.477229</td>\n      <td>131.067487</td>\n    </tr>\n    <tr>\n      <th>B</th>\n      <td>7.278472</td>\n      <td>113.412316</td>\n      <td>26.547409</td>\n      <td>34.861424</td>\n    </tr>\n    <tr>\n      <th>C</th>\n      <td>-112.557868</td>\n      <td>45.420209</td>\n      <td>-31.481888</td>\n      <td>30.921867</td>\n    </tr>\n    <tr>\n      <th>D</th>\n      <td>73.721429</td>\n      <td>-43.951188</td>\n      <td>-55.134293</td>\n      <td>124.563170</td>\n    </tr>\n    <tr>\n      <th>E</th>\n      <td>7.034644</td>\n      <td>130.787701</td>\n      <td>-163.966694</td>\n      <td>-88.949333</td>\n    </tr>\n    <tr>\n      <th>F</th>\n      <td>-14.914063</td>\n      <td>45.933517</td>\n      <td>-125.360557</td>\n      <td>11.079864</td>\n    </tr>\n    <tr>\n      <th>G</th>\n      <td>-21.866303</td>\n      <td>-120.563491</td>\n      <td>-83.812971</td>\n      <td>-35.633110</td>\n    </tr>\n    <tr>\n      <th>H</th>\n      <td>-3.018402</td>\n      <td>74.270218</td>\n      <td>0.165396</td>\n      <td>-51.777984</td>\n    </tr>\n    <tr>\n      <th>I</th>\n      <td>-61.052009</td>\n      <td>-75.152729</td>\n      <td>-52.908545</td>\n      <td>-56.825408</td>\n    </tr>\n  </tbody>\n</table>\n</div>"
     },
     "execution_count": 3,
     "metadata": {},
     "output_type": "execute_result"
    }
   ],
   "source": [
    "df = pd.DataFrame(\n",
    "    np.random.randn(9, 4)*100,\n",
    "    index=[\"A\", \"B\", \"C\", \"D\", \"E\", \"F\", \"G\", \"H\", \"I\"],\n",
    "    columns=[\"coluna1\", \"coluna2\", \"coluna3\",\"coluna4\"],\n",
    ")\n",
    "df"
   ]
  },
  {
   "cell_type": "code",
   "execution_count": 4,
   "metadata": {
    "ExecuteTime": {
     "end_time": "2023-12-31T22:53:09.479296800Z",
     "start_time": "2023-12-31T22:53:09.464080300Z"
    }
   },
   "outputs": [
    {
     "data": {
      "text/plain": "coluna1    float64\ncoluna2    float64\ncoluna3    float64\ncoluna4    float64\ndtype: object"
     },
     "execution_count": 4,
     "metadata": {},
     "output_type": "execute_result"
    }
   ],
   "source": [
    "df.dtypes"
   ]
  },
  {
   "cell_type": "markdown",
   "metadata": {},
   "source": [
    "## Alterando os tipos de dados"
   ]
  },
  {
   "cell_type": "code",
   "execution_count": 5,
   "metadata": {
    "ExecuteTime": {
     "end_time": "2023-12-31T22:53:38.262805300Z",
     "start_time": "2023-12-31T22:53:38.253988600Z"
    }
   },
   "outputs": [],
   "source": [
    "df['coluna1'] = df['coluna1'].astype(int)"
   ]
  },
  {
   "cell_type": "code",
   "execution_count": 6,
   "metadata": {
    "ExecuteTime": {
     "end_time": "2023-12-31T22:53:40.163894200Z",
     "start_time": "2023-12-31T22:53:40.149261900Z"
    }
   },
   "outputs": [
    {
     "data": {
      "text/plain": "coluna1      int32\ncoluna2    float64\ncoluna3    float64\ncoluna4    float64\ndtype: object"
     },
     "execution_count": 6,
     "metadata": {},
     "output_type": "execute_result"
    }
   ],
   "source": [
    "df.dtypes"
   ]
  },
  {
   "cell_type": "code",
   "execution_count": 7,
   "metadata": {
    "ExecuteTime": {
     "end_time": "2023-12-31T22:53:53.300742800Z",
     "start_time": "2023-12-31T22:53:53.292507700Z"
    }
   },
   "outputs": [],
   "source": [
    "df['coluna3'] = df['coluna3'].astype(str)"
   ]
  },
  {
   "cell_type": "code",
   "execution_count": 8,
   "metadata": {
    "ExecuteTime": {
     "end_time": "2023-12-31T22:53:54.567365700Z",
     "start_time": "2023-12-31T22:53:54.543352100Z"
    }
   },
   "outputs": [
    {
     "data": {
      "text/plain": "coluna1      int32\ncoluna2    float64\ncoluna3     object\ncoluna4    float64\ndtype: object"
     },
     "execution_count": 8,
     "metadata": {},
     "output_type": "execute_result"
    }
   ],
   "source": [
    "df.dtypes"
   ]
  },
  {
   "cell_type": "code",
   "execution_count": 9,
   "metadata": {
    "scrolled": true,
    "ExecuteTime": {
     "end_time": "2023-12-31T22:53:57.855066600Z",
     "start_time": "2023-12-31T22:53:57.845538400Z"
    }
   },
   "outputs": [
    {
     "data": {
      "text/plain": "   coluna1     coluna2              coluna3     coluna4\nA       11 -182.083323    -77.4772286185917  131.067487\nB        7  113.412316   26.547408828966507   34.861424\nC     -112   45.420209   -31.48188828367129   30.921867\nD       73  -43.951188   -55.13429261145909  124.563170\nE        7  130.787701  -163.96669374855247  -88.949333\nF      -14   45.933517  -125.36055745579114   11.079864\nG      -21 -120.563491   -83.81297109488155  -35.633110\nH       -3   74.270218   0.1653956314272216  -51.777984\nI      -61  -75.152729  -52.908545008724616  -56.825408",
      "text/html": "<div>\n<style scoped>\n    .dataframe tbody tr th:only-of-type {\n        vertical-align: middle;\n    }\n\n    .dataframe tbody tr th {\n        vertical-align: top;\n    }\n\n    .dataframe thead th {\n        text-align: right;\n    }\n</style>\n<table border=\"1\" class=\"dataframe\">\n  <thead>\n    <tr style=\"text-align: right;\">\n      <th></th>\n      <th>coluna1</th>\n      <th>coluna2</th>\n      <th>coluna3</th>\n      <th>coluna4</th>\n    </tr>\n  </thead>\n  <tbody>\n    <tr>\n      <th>A</th>\n      <td>11</td>\n      <td>-182.083323</td>\n      <td>-77.4772286185917</td>\n      <td>131.067487</td>\n    </tr>\n    <tr>\n      <th>B</th>\n      <td>7</td>\n      <td>113.412316</td>\n      <td>26.547408828966507</td>\n      <td>34.861424</td>\n    </tr>\n    <tr>\n      <th>C</th>\n      <td>-112</td>\n      <td>45.420209</td>\n      <td>-31.48188828367129</td>\n      <td>30.921867</td>\n    </tr>\n    <tr>\n      <th>D</th>\n      <td>73</td>\n      <td>-43.951188</td>\n      <td>-55.13429261145909</td>\n      <td>124.563170</td>\n    </tr>\n    <tr>\n      <th>E</th>\n      <td>7</td>\n      <td>130.787701</td>\n      <td>-163.96669374855247</td>\n      <td>-88.949333</td>\n    </tr>\n    <tr>\n      <th>F</th>\n      <td>-14</td>\n      <td>45.933517</td>\n      <td>-125.36055745579114</td>\n      <td>11.079864</td>\n    </tr>\n    <tr>\n      <th>G</th>\n      <td>-21</td>\n      <td>-120.563491</td>\n      <td>-83.81297109488155</td>\n      <td>-35.633110</td>\n    </tr>\n    <tr>\n      <th>H</th>\n      <td>-3</td>\n      <td>74.270218</td>\n      <td>0.1653956314272216</td>\n      <td>-51.777984</td>\n    </tr>\n    <tr>\n      <th>I</th>\n      <td>-61</td>\n      <td>-75.152729</td>\n      <td>-52.908545008724616</td>\n      <td>-56.825408</td>\n    </tr>\n  </tbody>\n</table>\n</div>"
     },
     "execution_count": 9,
     "metadata": {},
     "output_type": "execute_result"
    }
   ],
   "source": [
    "df"
   ]
  },
  {
   "cell_type": "markdown",
   "metadata": {},
   "source": [
    "## Acrescentando dados faltantes na tabela"
   ]
  },
  {
   "cell_type": "code",
   "execution_count": 12,
   "metadata": {
    "ExecuteTime": {
     "end_time": "2023-12-31T22:56:25.949007500Z",
     "start_time": "2023-12-31T22:56:25.925984100Z"
    }
   },
   "outputs": [
    {
     "data": {
      "text/plain": "nan"
     },
     "execution_count": 12,
     "metadata": {},
     "output_type": "execute_result"
    }
   ],
   "source": [
    "df.iloc[4,2]"
   ]
  },
  {
   "cell_type": "code",
   "execution_count": 13,
   "metadata": {
    "ExecuteTime": {
     "end_time": "2023-12-31T22:56:27.887326600Z",
     "start_time": "2023-12-31T22:56:27.864297700Z"
    }
   },
   "outputs": [],
   "source": [
    "df.iloc[4,2] = np.nan"
   ]
  },
  {
   "cell_type": "code",
   "execution_count": 14,
   "metadata": {
    "ExecuteTime": {
     "end_time": "2023-12-31T22:56:31.272356800Z",
     "start_time": "2023-12-31T22:56:31.259993700Z"
    }
   },
   "outputs": [
    {
     "data": {
      "text/plain": "   coluna1     coluna2              coluna3     coluna4\nA       11 -182.083323    -77.4772286185917  131.067487\nB        7  113.412316   26.547408828966507   34.861424\nC     -112   45.420209   -31.48188828367129   30.921867\nD       73  -43.951188   -55.13429261145909  124.563170\nE        7  130.787701                  NaN  -88.949333\nF      -14   45.933517  -125.36055745579114   11.079864\nG      -21 -120.563491   -83.81297109488155  -35.633110\nH       -3   74.270218   0.1653956314272216  -51.777984\nI      -61  -75.152729  -52.908545008724616  -56.825408",
      "text/html": "<div>\n<style scoped>\n    .dataframe tbody tr th:only-of-type {\n        vertical-align: middle;\n    }\n\n    .dataframe tbody tr th {\n        vertical-align: top;\n    }\n\n    .dataframe thead th {\n        text-align: right;\n    }\n</style>\n<table border=\"1\" class=\"dataframe\">\n  <thead>\n    <tr style=\"text-align: right;\">\n      <th></th>\n      <th>coluna1</th>\n      <th>coluna2</th>\n      <th>coluna3</th>\n      <th>coluna4</th>\n    </tr>\n  </thead>\n  <tbody>\n    <tr>\n      <th>A</th>\n      <td>11</td>\n      <td>-182.083323</td>\n      <td>-77.4772286185917</td>\n      <td>131.067487</td>\n    </tr>\n    <tr>\n      <th>B</th>\n      <td>7</td>\n      <td>113.412316</td>\n      <td>26.547408828966507</td>\n      <td>34.861424</td>\n    </tr>\n    <tr>\n      <th>C</th>\n      <td>-112</td>\n      <td>45.420209</td>\n      <td>-31.48188828367129</td>\n      <td>30.921867</td>\n    </tr>\n    <tr>\n      <th>D</th>\n      <td>73</td>\n      <td>-43.951188</td>\n      <td>-55.13429261145909</td>\n      <td>124.563170</td>\n    </tr>\n    <tr>\n      <th>E</th>\n      <td>7</td>\n      <td>130.787701</td>\n      <td>NaN</td>\n      <td>-88.949333</td>\n    </tr>\n    <tr>\n      <th>F</th>\n      <td>-14</td>\n      <td>45.933517</td>\n      <td>-125.36055745579114</td>\n      <td>11.079864</td>\n    </tr>\n    <tr>\n      <th>G</th>\n      <td>-21</td>\n      <td>-120.563491</td>\n      <td>-83.81297109488155</td>\n      <td>-35.633110</td>\n    </tr>\n    <tr>\n      <th>H</th>\n      <td>-3</td>\n      <td>74.270218</td>\n      <td>0.1653956314272216</td>\n      <td>-51.777984</td>\n    </tr>\n    <tr>\n      <th>I</th>\n      <td>-61</td>\n      <td>-75.152729</td>\n      <td>-52.908545008724616</td>\n      <td>-56.825408</td>\n    </tr>\n  </tbody>\n</table>\n</div>"
     },
     "execution_count": 14,
     "metadata": {},
     "output_type": "execute_result"
    }
   ],
   "source": [
    "df"
   ]
  },
  {
   "cell_type": "code",
   "execution_count": 15,
   "metadata": {
    "ExecuteTime": {
     "end_time": "2023-12-31T22:56:35.709094800Z",
     "start_time": "2023-12-31T22:56:35.703091600Z"
    }
   },
   "outputs": [],
   "source": [
    "df.iloc[1,0] = np.nan\n",
    "df.iloc[4,0] = np.nan\n",
    "df.iloc[3,0] = np.nan\n",
    "df.iloc[8,0] = np.nan\n",
    "df.iloc[6,0] = np.nan\n",
    "df.iloc[4,3] = np.nan\n",
    "df.iloc[4,3] = np.nan\n",
    "df.iloc[8,3] = np.nan"
   ]
  },
  {
   "cell_type": "code",
   "execution_count": 16,
   "metadata": {
    "ExecuteTime": {
     "end_time": "2023-12-31T22:56:39.257687200Z",
     "start_time": "2023-12-31T22:56:39.245143Z"
    }
   },
   "outputs": [
    {
     "data": {
      "text/plain": "   coluna1     coluna2              coluna3     coluna4\nA     11.0 -182.083323    -77.4772286185917  131.067487\nB      NaN  113.412316   26.547408828966507   34.861424\nC   -112.0   45.420209   -31.48188828367129   30.921867\nD      NaN  -43.951188   -55.13429261145909  124.563170\nE      NaN  130.787701                  NaN         NaN\nF    -14.0   45.933517  -125.36055745579114   11.079864\nG      NaN -120.563491   -83.81297109488155  -35.633110\nH     -3.0   74.270218   0.1653956314272216  -51.777984\nI      NaN  -75.152729  -52.908545008724616         NaN",
      "text/html": "<div>\n<style scoped>\n    .dataframe tbody tr th:only-of-type {\n        vertical-align: middle;\n    }\n\n    .dataframe tbody tr th {\n        vertical-align: top;\n    }\n\n    .dataframe thead th {\n        text-align: right;\n    }\n</style>\n<table border=\"1\" class=\"dataframe\">\n  <thead>\n    <tr style=\"text-align: right;\">\n      <th></th>\n      <th>coluna1</th>\n      <th>coluna2</th>\n      <th>coluna3</th>\n      <th>coluna4</th>\n    </tr>\n  </thead>\n  <tbody>\n    <tr>\n      <th>A</th>\n      <td>11.0</td>\n      <td>-182.083323</td>\n      <td>-77.4772286185917</td>\n      <td>131.067487</td>\n    </tr>\n    <tr>\n      <th>B</th>\n      <td>NaN</td>\n      <td>113.412316</td>\n      <td>26.547408828966507</td>\n      <td>34.861424</td>\n    </tr>\n    <tr>\n      <th>C</th>\n      <td>-112.0</td>\n      <td>45.420209</td>\n      <td>-31.48188828367129</td>\n      <td>30.921867</td>\n    </tr>\n    <tr>\n      <th>D</th>\n      <td>NaN</td>\n      <td>-43.951188</td>\n      <td>-55.13429261145909</td>\n      <td>124.563170</td>\n    </tr>\n    <tr>\n      <th>E</th>\n      <td>NaN</td>\n      <td>130.787701</td>\n      <td>NaN</td>\n      <td>NaN</td>\n    </tr>\n    <tr>\n      <th>F</th>\n      <td>-14.0</td>\n      <td>45.933517</td>\n      <td>-125.36055745579114</td>\n      <td>11.079864</td>\n    </tr>\n    <tr>\n      <th>G</th>\n      <td>NaN</td>\n      <td>-120.563491</td>\n      <td>-83.81297109488155</td>\n      <td>-35.633110</td>\n    </tr>\n    <tr>\n      <th>H</th>\n      <td>-3.0</td>\n      <td>74.270218</td>\n      <td>0.1653956314272216</td>\n      <td>-51.777984</td>\n    </tr>\n    <tr>\n      <th>I</th>\n      <td>NaN</td>\n      <td>-75.152729</td>\n      <td>-52.908545008724616</td>\n      <td>NaN</td>\n    </tr>\n  </tbody>\n</table>\n</div>"
     },
     "execution_count": 16,
     "metadata": {},
     "output_type": "execute_result"
    }
   ],
   "source": [
    "df"
   ]
  },
  {
   "cell_type": "code",
   "execution_count": 14,
   "metadata": {
    "ExecuteTime": {
     "end_time": "2021-06-06T21:12:40.830082Z",
     "start_time": "2021-06-06T21:12:40.811093Z"
    }
   },
   "outputs": [
    {
     "data": {
      "text/plain": [
       "coluna1    float64\n",
       "coluna2    float64\n",
       "coluna3     object\n",
       "coluna4    float64\n",
       "dtype: object"
      ]
     },
     "execution_count": 14,
     "metadata": {},
     "output_type": "execute_result"
    }
   ],
   "source": [
    "# Os tipos de dados podem mudar após acrescentar um dado faltante\n",
    "df.dtypes"
   ]
  },
  {
   "cell_type": "code",
   "execution_count": null,
   "metadata": {},
   "outputs": [],
   "source": []
  },
  {
   "cell_type": "code",
   "execution_count": null,
   "metadata": {},
   "outputs": [],
   "source": []
  },
  {
   "cell_type": "markdown",
   "metadata": {},
   "source": [
    "# 3. Identificando dados ausentes <a name=\"identificando\"></a>\n",
    "<div style=\"text-align: right\"\n",
    "     \n",
    "[Voltar ao índice](#Contents)"
   ]
  },
  {
   "cell_type": "code",
   "execution_count": 17,
   "metadata": {
    "ExecuteTime": {
     "end_time": "2023-12-31T22:59:55.554861600Z",
     "start_time": "2023-12-31T22:59:55.547263Z"
    }
   },
   "outputs": [
    {
     "data": {
      "text/plain": "   coluna1  coluna2  coluna3  coluna4\nA    False    False    False    False\nB     True    False    False    False\nC    False    False    False    False\nD     True    False    False    False\nE     True    False     True     True\nF    False    False    False    False\nG     True    False    False    False\nH    False    False    False    False\nI     True    False    False     True",
      "text/html": "<div>\n<style scoped>\n    .dataframe tbody tr th:only-of-type {\n        vertical-align: middle;\n    }\n\n    .dataframe tbody tr th {\n        vertical-align: top;\n    }\n\n    .dataframe thead th {\n        text-align: right;\n    }\n</style>\n<table border=\"1\" class=\"dataframe\">\n  <thead>\n    <tr style=\"text-align: right;\">\n      <th></th>\n      <th>coluna1</th>\n      <th>coluna2</th>\n      <th>coluna3</th>\n      <th>coluna4</th>\n    </tr>\n  </thead>\n  <tbody>\n    <tr>\n      <th>A</th>\n      <td>False</td>\n      <td>False</td>\n      <td>False</td>\n      <td>False</td>\n    </tr>\n    <tr>\n      <th>B</th>\n      <td>True</td>\n      <td>False</td>\n      <td>False</td>\n      <td>False</td>\n    </tr>\n    <tr>\n      <th>C</th>\n      <td>False</td>\n      <td>False</td>\n      <td>False</td>\n      <td>False</td>\n    </tr>\n    <tr>\n      <th>D</th>\n      <td>True</td>\n      <td>False</td>\n      <td>False</td>\n      <td>False</td>\n    </tr>\n    <tr>\n      <th>E</th>\n      <td>True</td>\n      <td>False</td>\n      <td>True</td>\n      <td>True</td>\n    </tr>\n    <tr>\n      <th>F</th>\n      <td>False</td>\n      <td>False</td>\n      <td>False</td>\n      <td>False</td>\n    </tr>\n    <tr>\n      <th>G</th>\n      <td>True</td>\n      <td>False</td>\n      <td>False</td>\n      <td>False</td>\n    </tr>\n    <tr>\n      <th>H</th>\n      <td>False</td>\n      <td>False</td>\n      <td>False</td>\n      <td>False</td>\n    </tr>\n    <tr>\n      <th>I</th>\n      <td>True</td>\n      <td>False</td>\n      <td>False</td>\n      <td>True</td>\n    </tr>\n  </tbody>\n</table>\n</div>"
     },
     "execution_count": 17,
     "metadata": {},
     "output_type": "execute_result"
    }
   ],
   "source": [
    "df.isna()"
   ]
  },
  {
   "cell_type": "code",
   "execution_count": 18,
   "metadata": {
    "ExecuteTime": {
     "end_time": "2023-12-31T23:02:00.384758100Z",
     "start_time": "2023-12-31T23:02:00.361391900Z"
    }
   },
   "outputs": [
    {
     "data": {
      "text/plain": "   coluna1  coluna2  coluna3  coluna4\nA    False    False    False    False\nB     True    False    False    False\nC    False    False    False    False\nD     True    False    False    False\nE     True    False     True     True\nF    False    False    False    False\nG     True    False    False    False\nH    False    False    False    False\nI     True    False    False     True",
      "text/html": "<div>\n<style scoped>\n    .dataframe tbody tr th:only-of-type {\n        vertical-align: middle;\n    }\n\n    .dataframe tbody tr th {\n        vertical-align: top;\n    }\n\n    .dataframe thead th {\n        text-align: right;\n    }\n</style>\n<table border=\"1\" class=\"dataframe\">\n  <thead>\n    <tr style=\"text-align: right;\">\n      <th></th>\n      <th>coluna1</th>\n      <th>coluna2</th>\n      <th>coluna3</th>\n      <th>coluna4</th>\n    </tr>\n  </thead>\n  <tbody>\n    <tr>\n      <th>A</th>\n      <td>False</td>\n      <td>False</td>\n      <td>False</td>\n      <td>False</td>\n    </tr>\n    <tr>\n      <th>B</th>\n      <td>True</td>\n      <td>False</td>\n      <td>False</td>\n      <td>False</td>\n    </tr>\n    <tr>\n      <th>C</th>\n      <td>False</td>\n      <td>False</td>\n      <td>False</td>\n      <td>False</td>\n    </tr>\n    <tr>\n      <th>D</th>\n      <td>True</td>\n      <td>False</td>\n      <td>False</td>\n      <td>False</td>\n    </tr>\n    <tr>\n      <th>E</th>\n      <td>True</td>\n      <td>False</td>\n      <td>True</td>\n      <td>True</td>\n    </tr>\n    <tr>\n      <th>F</th>\n      <td>False</td>\n      <td>False</td>\n      <td>False</td>\n      <td>False</td>\n    </tr>\n    <tr>\n      <th>G</th>\n      <td>True</td>\n      <td>False</td>\n      <td>False</td>\n      <td>False</td>\n    </tr>\n    <tr>\n      <th>H</th>\n      <td>False</td>\n      <td>False</td>\n      <td>False</td>\n      <td>False</td>\n    </tr>\n    <tr>\n      <th>I</th>\n      <td>True</td>\n      <td>False</td>\n      <td>False</td>\n      <td>True</td>\n    </tr>\n  </tbody>\n</table>\n</div>"
     },
     "execution_count": 18,
     "metadata": {},
     "output_type": "execute_result"
    }
   ],
   "source": [
    "# Alias do isna\n",
    "df.isnull()"
   ]
  },
  {
   "cell_type": "code",
   "execution_count": 19,
   "metadata": {
    "ExecuteTime": {
     "end_time": "2023-12-31T23:02:03.307006500Z",
     "start_time": "2023-12-31T23:02:03.280483900Z"
    }
   },
   "outputs": [
    {
     "data": {
      "text/plain": "A    False\nB     True\nC    False\nD     True\nE     True\nF    False\nG     True\nH    False\nI     True\nName: coluna1, dtype: bool"
     },
     "execution_count": 19,
     "metadata": {},
     "output_type": "execute_result"
    }
   ],
   "source": [
    "df['coluna1'].isna()"
   ]
  },
  {
   "cell_type": "code",
   "execution_count": 20,
   "metadata": {
    "ExecuteTime": {
     "end_time": "2023-12-31T23:02:10.909996700Z",
     "start_time": "2023-12-31T23:02:10.898770500Z"
    }
   },
   "outputs": [
    {
     "data": {
      "text/plain": "   coluna1     coluna2              coluna3     coluna4\nB      NaN  113.412316   26.547408828966507   34.861424\nD      NaN  -43.951188   -55.13429261145909  124.563170\nE      NaN  130.787701                  NaN         NaN\nG      NaN -120.563491   -83.81297109488155  -35.633110\nI      NaN  -75.152729  -52.908545008724616         NaN",
      "text/html": "<div>\n<style scoped>\n    .dataframe tbody tr th:only-of-type {\n        vertical-align: middle;\n    }\n\n    .dataframe tbody tr th {\n        vertical-align: top;\n    }\n\n    .dataframe thead th {\n        text-align: right;\n    }\n</style>\n<table border=\"1\" class=\"dataframe\">\n  <thead>\n    <tr style=\"text-align: right;\">\n      <th></th>\n      <th>coluna1</th>\n      <th>coluna2</th>\n      <th>coluna3</th>\n      <th>coluna4</th>\n    </tr>\n  </thead>\n  <tbody>\n    <tr>\n      <th>B</th>\n      <td>NaN</td>\n      <td>113.412316</td>\n      <td>26.547408828966507</td>\n      <td>34.861424</td>\n    </tr>\n    <tr>\n      <th>D</th>\n      <td>NaN</td>\n      <td>-43.951188</td>\n      <td>-55.13429261145909</td>\n      <td>124.563170</td>\n    </tr>\n    <tr>\n      <th>E</th>\n      <td>NaN</td>\n      <td>130.787701</td>\n      <td>NaN</td>\n      <td>NaN</td>\n    </tr>\n    <tr>\n      <th>G</th>\n      <td>NaN</td>\n      <td>-120.563491</td>\n      <td>-83.81297109488155</td>\n      <td>-35.633110</td>\n    </tr>\n    <tr>\n      <th>I</th>\n      <td>NaN</td>\n      <td>-75.152729</td>\n      <td>-52.908545008724616</td>\n      <td>NaN</td>\n    </tr>\n  </tbody>\n</table>\n</div>"
     },
     "execution_count": 20,
     "metadata": {},
     "output_type": "execute_result"
    }
   ],
   "source": [
    "df[df['coluna1'].isna()]"
   ]
  },
  {
   "cell_type": "code",
   "execution_count": 21,
   "metadata": {
    "ExecuteTime": {
     "end_time": "2023-12-31T23:02:30.772308500Z",
     "start_time": "2023-12-31T23:02:30.760824500Z"
    }
   },
   "outputs": [
    {
     "data": {
      "text/plain": "   coluna1     coluna2              coluna3     coluna4\nA     11.0 -182.083323    -77.4772286185917  131.067487\nC   -112.0   45.420209   -31.48188828367129   30.921867\nF    -14.0   45.933517  -125.36055745579114   11.079864\nH     -3.0   74.270218   0.1653956314272216  -51.777984",
      "text/html": "<div>\n<style scoped>\n    .dataframe tbody tr th:only-of-type {\n        vertical-align: middle;\n    }\n\n    .dataframe tbody tr th {\n        vertical-align: top;\n    }\n\n    .dataframe thead th {\n        text-align: right;\n    }\n</style>\n<table border=\"1\" class=\"dataframe\">\n  <thead>\n    <tr style=\"text-align: right;\">\n      <th></th>\n      <th>coluna1</th>\n      <th>coluna2</th>\n      <th>coluna3</th>\n      <th>coluna4</th>\n    </tr>\n  </thead>\n  <tbody>\n    <tr>\n      <th>A</th>\n      <td>11.0</td>\n      <td>-182.083323</td>\n      <td>-77.4772286185917</td>\n      <td>131.067487</td>\n    </tr>\n    <tr>\n      <th>C</th>\n      <td>-112.0</td>\n      <td>45.420209</td>\n      <td>-31.48188828367129</td>\n      <td>30.921867</td>\n    </tr>\n    <tr>\n      <th>F</th>\n      <td>-14.0</td>\n      <td>45.933517</td>\n      <td>-125.36055745579114</td>\n      <td>11.079864</td>\n    </tr>\n    <tr>\n      <th>H</th>\n      <td>-3.0</td>\n      <td>74.270218</td>\n      <td>0.1653956314272216</td>\n      <td>-51.777984</td>\n    </tr>\n  </tbody>\n</table>\n</div>"
     },
     "execution_count": 21,
     "metadata": {},
     "output_type": "execute_result"
    }
   ],
   "source": [
    "df[~df['coluna1'].isna()]"
   ]
  },
  {
   "cell_type": "code",
   "execution_count": 22,
   "metadata": {
    "ExecuteTime": {
     "end_time": "2023-12-31T23:02:34.543057500Z",
     "start_time": "2023-12-31T23:02:34.533821600Z"
    }
   },
   "outputs": [
    {
     "data": {
      "text/plain": "A     11.0\nB      NaN\nC   -112.0\nD      NaN\nE      NaN\nF    -14.0\nG      NaN\nH     -3.0\nI      NaN\nName: coluna1, dtype: float64"
     },
     "execution_count": 22,
     "metadata": {},
     "output_type": "execute_result"
    }
   ],
   "source": [
    "df['coluna1']"
   ]
  },
  {
   "cell_type": "code",
   "execution_count": 23,
   "metadata": {
    "ExecuteTime": {
     "end_time": "2023-12-31T23:03:17.998965900Z",
     "start_time": "2023-12-31T23:03:17.988635900Z"
    }
   },
   "outputs": [
    {
     "data": {
      "text/plain": "A    False\nB     True\nC    False\nD     True\nE     True\nF    False\nG     True\nH    False\nI     True\nName: coluna1, dtype: bool"
     },
     "execution_count": 23,
     "metadata": {},
     "output_type": "execute_result"
    }
   ],
   "source": [
    "df['coluna1'].isna()"
   ]
  },
  {
   "cell_type": "code",
   "execution_count": 24,
   "metadata": {
    "ExecuteTime": {
     "end_time": "2023-12-31T23:03:20.692542Z",
     "start_time": "2023-12-31T23:03:20.682773300Z"
    }
   },
   "outputs": [
    {
     "data": {
      "text/plain": "5"
     },
     "execution_count": 24,
     "metadata": {},
     "output_type": "execute_result"
    }
   ],
   "source": [
    "df['coluna1'].isna().sum()"
   ]
  },
  {
   "cell_type": "code",
   "execution_count": 25,
   "metadata": {
    "ExecuteTime": {
     "end_time": "2023-12-31T23:03:26.908828100Z",
     "start_time": "2023-12-31T23:03:26.890915900Z"
    }
   },
   "outputs": [
    {
     "data": {
      "text/plain": "coluna1    5\ncoluna2    0\ncoluna3    1\ncoluna4    2\ndtype: int64"
     },
     "execution_count": 25,
     "metadata": {},
     "output_type": "execute_result"
    }
   ],
   "source": [
    "df.isna().sum()"
   ]
  },
  {
   "cell_type": "code",
   "execution_count": 97,
   "metadata": {
    "ExecuteTime": {
     "end_time": "2021-05-29T10:36:46.574041Z",
     "start_time": "2021-05-29T10:36:46.567015Z"
    }
   },
   "outputs": [
    {
     "data": {
      "text/plain": [
       "A    -29.152840\n",
       "B     98.455629\n",
       "C    -23.929166\n",
       "D    -21.026139\n",
       "E    192.406008\n",
       "F     27.891742\n",
       "G    -96.661886\n",
       "H    -63.401987\n",
       "I   -131.551463\n",
       "Name: coluna2, dtype: float64"
      ]
     },
     "execution_count": 97,
     "metadata": {},
     "output_type": "execute_result"
    }
   ],
   "source": [
    "df['coluna2']"
   ]
  },
  {
   "cell_type": "code",
   "execution_count": 27,
   "metadata": {
    "ExecuteTime": {
     "end_time": "2023-12-31T23:06:10.867610400Z",
     "start_time": "2023-12-31T23:06:10.849974Z"
    }
   },
   "outputs": [
    {
     "data": {
      "text/plain": "0"
     },
     "execution_count": 27,
     "metadata": {},
     "output_type": "execute_result"
    }
   ],
   "source": [
    "df['coluna2'].isna().sum()"
   ]
  },
  {
   "cell_type": "code",
   "execution_count": 26,
   "metadata": {
    "ExecuteTime": {
     "end_time": "2023-12-31T23:05:54.365409500Z",
     "start_time": "2023-12-31T23:05:54.348377100Z"
    }
   },
   "outputs": [
    {
     "data": {
      "text/plain": "coluna1    55.555556\ncoluna2     0.000000\ncoluna3    11.111111\ncoluna4    22.222222\ndtype: float64"
     },
     "execution_count": 26,
     "metadata": {},
     "output_type": "execute_result"
    }
   ],
   "source": [
    "percentage = (df.isnull().sum() / len(df)) * 100\n",
    "percentage"
   ]
  },
  {
   "cell_type": "code",
   "execution_count": null,
   "metadata": {},
   "outputs": [],
   "source": []
  },
  {
   "cell_type": "markdown",
   "metadata": {},
   "source": [
    "# 4. Tratando dados ausentes <a name=\"tratando\"></a>\n",
    "<div style=\"text-align: right\"\n",
    "     \n",
    "[Voltar ao índice](#Contents)"
   ]
  },
  {
   "cell_type": "code",
   "execution_count": 28,
   "metadata": {
    "ExecuteTime": {
     "end_time": "2023-12-31T23:06:50.842549100Z",
     "start_time": "2023-12-31T23:06:50.827942700Z"
    }
   },
   "outputs": [
    {
     "data": {
      "text/plain": "A     11.0\nB      NaN\nC   -112.0\nD      NaN\nE      NaN\nF    -14.0\nG      NaN\nH     -3.0\nI      NaN\nName: coluna1, dtype: float64"
     },
     "execution_count": 28,
     "metadata": {},
     "output_type": "execute_result"
    }
   ],
   "source": [
    "df['coluna1']"
   ]
  },
  {
   "cell_type": "markdown",
   "metadata": {},
   "source": [
    "## Substituindo por 0"
   ]
  },
  {
   "cell_type": "code",
   "execution_count": 29,
   "metadata": {
    "scrolled": true,
    "ExecuteTime": {
     "end_time": "2023-12-31T23:06:53.313408100Z",
     "start_time": "2023-12-31T23:06:53.297593Z"
    }
   },
   "outputs": [
    {
     "data": {
      "text/plain": "A     11.0\nB      0.0\nC   -112.0\nD      0.0\nE      0.0\nF    -14.0\nG      0.0\nH     -3.0\nI      0.0\nName: coluna1, dtype: float64"
     },
     "execution_count": 29,
     "metadata": {},
     "output_type": "execute_result"
    }
   ],
   "source": [
    "df['coluna1'].fillna(0)"
   ]
  },
  {
   "cell_type": "markdown",
   "metadata": {},
   "source": [
    "## Substituindo pela média"
   ]
  },
  {
   "cell_type": "code",
   "execution_count": 30,
   "metadata": {
    "ExecuteTime": {
     "end_time": "2023-12-31T23:08:37.856742600Z",
     "start_time": "2023-12-31T23:08:37.843725800Z"
    }
   },
   "outputs": [
    {
     "data": {
      "text/plain": "A     11.0\nB      NaN\nC   -112.0\nD      NaN\nE      NaN\nF    -14.0\nG      NaN\nH     -3.0\nI      NaN\nName: coluna1, dtype: float64"
     },
     "execution_count": 30,
     "metadata": {},
     "output_type": "execute_result"
    }
   ],
   "source": [
    "df['coluna1']"
   ]
  },
  {
   "cell_type": "code",
   "execution_count": 31,
   "metadata": {
    "ExecuteTime": {
     "end_time": "2023-12-31T23:08:42.243694800Z",
     "start_time": "2023-12-31T23:08:42.225348800Z"
    }
   },
   "outputs": [
    {
     "data": {
      "text/plain": "-15.25"
     },
     "execution_count": 31,
     "metadata": {},
     "output_type": "execute_result"
    }
   ],
   "source": [
    "(-23.0-132.0+94.0+0)/4"
   ]
  },
  {
   "cell_type": "code",
   "execution_count": 32,
   "metadata": {
    "ExecuteTime": {
     "end_time": "2023-12-31T23:08:45.962919200Z",
     "start_time": "2023-12-31T23:08:45.942845400Z"
    }
   },
   "outputs": [
    {
     "data": {
      "text/plain": "-29.5"
     },
     "execution_count": 32,
     "metadata": {},
     "output_type": "execute_result"
    }
   ],
   "source": [
    "df['coluna1'].mean()"
   ]
  },
  {
   "cell_type": "code",
   "execution_count": 33,
   "metadata": {
    "ExecuteTime": {
     "end_time": "2023-12-31T23:08:53.232026900Z",
     "start_time": "2023-12-31T23:08:53.230020300Z"
    }
   },
   "outputs": [],
   "source": [
    "med_col1 = df['coluna1'].mean()"
   ]
  },
  {
   "cell_type": "code",
   "execution_count": 34,
   "metadata": {
    "ExecuteTime": {
     "end_time": "2023-12-31T23:08:56.345235700Z",
     "start_time": "2023-12-31T23:08:56.325202900Z"
    }
   },
   "outputs": [
    {
     "data": {
      "text/plain": "A     11.0\nB    -29.5\nC   -112.0\nD    -29.5\nE    -29.5\nF    -14.0\nG    -29.5\nH     -3.0\nI    -29.5\nName: coluna1, dtype: float64"
     },
     "execution_count": 34,
     "metadata": {},
     "output_type": "execute_result"
    }
   ],
   "source": [
    "df['coluna1'].fillna(med_col1)"
   ]
  },
  {
   "cell_type": "markdown",
   "metadata": {},
   "source": [
    "## Substituindo pela mediana"
   ]
  },
  {
   "cell_type": "code",
   "execution_count": 35,
   "metadata": {
    "ExecuteTime": {
     "end_time": "2023-12-31T23:09:59.257509400Z",
     "start_time": "2023-12-31T23:09:59.240497700Z"
    }
   },
   "outputs": [
    {
     "data": {
      "text/plain": "A     11.0\nB      NaN\nC   -112.0\nD      NaN\nE      NaN\nF    -14.0\nG      NaN\nH     -3.0\nI      NaN\nName: coluna1, dtype: float64"
     },
     "execution_count": 35,
     "metadata": {},
     "output_type": "execute_result"
    }
   ],
   "source": [
    "df['coluna1']"
   ]
  },
  {
   "cell_type": "code",
   "execution_count": 36,
   "metadata": {
    "ExecuteTime": {
     "end_time": "2023-12-31T23:10:09.769580500Z",
     "start_time": "2023-12-31T23:10:09.759579200Z"
    }
   },
   "outputs": [
    {
     "data": {
      "text/plain": "C   -112.0\nF    -14.0\nH     -3.0\nA     11.0\nB      NaN\nD      NaN\nE      NaN\nG      NaN\nI      NaN\nName: coluna1, dtype: float64"
     },
     "execution_count": 36,
     "metadata": {},
     "output_type": "execute_result"
    }
   ],
   "source": [
    "df['coluna1'].sort_values()"
   ]
  },
  {
   "cell_type": "code",
   "execution_count": 39,
   "metadata": {
    "ExecuteTime": {
     "end_time": "2023-12-31T23:10:31.491017200Z",
     "start_time": "2023-12-31T23:10:31.471499200Z"
    }
   },
   "outputs": [
    {
     "data": {
      "text/plain": "-55.0"
     },
     "execution_count": 39,
     "metadata": {},
     "output_type": "execute_result"
    }
   ],
   "source": [
    "(-77-33)/2"
   ]
  },
  {
   "cell_type": "code",
   "execution_count": 38,
   "metadata": {
    "ExecuteTime": {
     "end_time": "2023-12-31T23:10:23.870372500Z",
     "start_time": "2023-12-31T23:10:23.861621800Z"
    }
   },
   "outputs": [
    {
     "data": {
      "text/plain": "-8.5"
     },
     "execution_count": 38,
     "metadata": {},
     "output_type": "execute_result"
    }
   ],
   "source": [
    "df['coluna1'].median()"
   ]
  },
  {
   "cell_type": "code",
   "execution_count": 40,
   "metadata": {
    "ExecuteTime": {
     "end_time": "2023-12-31T23:11:24.531422Z",
     "start_time": "2023-12-31T23:11:24.512901700Z"
    }
   },
   "outputs": [],
   "source": [
    "mediana_col1 = df['coluna1'].median()"
   ]
  },
  {
   "cell_type": "code",
   "execution_count": 41,
   "metadata": {
    "ExecuteTime": {
     "end_time": "2023-12-31T23:11:28.709616200Z",
     "start_time": "2023-12-31T23:11:28.700604700Z"
    }
   },
   "outputs": [
    {
     "data": {
      "text/plain": "A     11.0\nB     -8.5\nC   -112.0\nD     -8.5\nE     -8.5\nF    -14.0\nG     -8.5\nH     -3.0\nI     -8.5\nName: coluna1, dtype: float64"
     },
     "execution_count": 41,
     "metadata": {},
     "output_type": "execute_result"
    }
   ],
   "source": [
    "df['coluna1'].fillna(mediana_col1)"
   ]
  },
  {
   "cell_type": "code",
   "execution_count": null,
   "metadata": {},
   "outputs": [],
   "source": []
  },
  {
   "cell_type": "code",
   "execution_count": 43,
   "metadata": {
    "ExecuteTime": {
     "end_time": "2023-12-31T23:14:14.725224200Z",
     "start_time": "2023-12-31T23:14:14.707712Z"
    }
   },
   "outputs": [
    {
     "data": {
      "text/plain": "A     11.0\nB     11.0\nC   -112.0\nD   -112.0\nE   -112.0\nF    -14.0\nG    -14.0\nH     -3.0\nI     -3.0\nName: coluna1, dtype: float64"
     },
     "execution_count": 43,
     "metadata": {},
     "output_type": "execute_result"
    }
   ],
   "source": [
    "df['coluna1'].ffill()"
   ]
  },
  {
   "cell_type": "code",
   "execution_count": 44,
   "metadata": {
    "ExecuteTime": {
     "end_time": "2023-12-31T23:15:04.884924Z",
     "start_time": "2023-12-31T23:15:04.875875600Z"
    }
   },
   "outputs": [
    {
     "data": {
      "text/plain": "A     11.0\nC   -112.0\nF    -14.0\nH     -3.0\nName: coluna1, dtype: float64"
     },
     "execution_count": 44,
     "metadata": {},
     "output_type": "execute_result"
    }
   ],
   "source": [
    "df['coluna1'].dropna()"
   ]
  },
  {
   "cell_type": "code",
   "execution_count": 45,
   "metadata": {
    "ExecuteTime": {
     "end_time": "2023-12-31T23:15:48.610579500Z",
     "start_time": "2023-12-31T23:15:48.601368600Z"
    }
   },
   "outputs": [
    {
     "data": {
      "text/plain": "   coluna1     coluna2              coluna3     coluna4\nA     11.0 -182.083323    -77.4772286185917  131.067487\nC   -112.0   45.420209   -31.48188828367129   30.921867\nF    -14.0   45.933517  -125.36055745579114   11.079864\nH     -3.0   74.270218   0.1653956314272216  -51.777984",
      "text/html": "<div>\n<style scoped>\n    .dataframe tbody tr th:only-of-type {\n        vertical-align: middle;\n    }\n\n    .dataframe tbody tr th {\n        vertical-align: top;\n    }\n\n    .dataframe thead th {\n        text-align: right;\n    }\n</style>\n<table border=\"1\" class=\"dataframe\">\n  <thead>\n    <tr style=\"text-align: right;\">\n      <th></th>\n      <th>coluna1</th>\n      <th>coluna2</th>\n      <th>coluna3</th>\n      <th>coluna4</th>\n    </tr>\n  </thead>\n  <tbody>\n    <tr>\n      <th>A</th>\n      <td>11.0</td>\n      <td>-182.083323</td>\n      <td>-77.4772286185917</td>\n      <td>131.067487</td>\n    </tr>\n    <tr>\n      <th>C</th>\n      <td>-112.0</td>\n      <td>45.420209</td>\n      <td>-31.48188828367129</td>\n      <td>30.921867</td>\n    </tr>\n    <tr>\n      <th>F</th>\n      <td>-14.0</td>\n      <td>45.933517</td>\n      <td>-125.36055745579114</td>\n      <td>11.079864</td>\n    </tr>\n    <tr>\n      <th>H</th>\n      <td>-3.0</td>\n      <td>74.270218</td>\n      <td>0.1653956314272216</td>\n      <td>-51.777984</td>\n    </tr>\n  </tbody>\n</table>\n</div>"
     },
     "execution_count": 45,
     "metadata": {},
     "output_type": "execute_result"
    }
   ],
   "source": [
    "# dropar todas as linhas que tenha pelo menos 1 NA\n",
    "df.dropna()"
   ]
  },
  {
   "cell_type": "markdown",
   "metadata": {},
   "source": [
    "# 5. Dados duplicados <a name=\"duplicados\"></a>\n",
    "<div style=\"text-align: right\"\n",
    "     \n",
    "[Voltar ao índice](#Contents)"
   ]
  },
  {
   "cell_type": "code",
   "execution_count": 50,
   "metadata": {
    "ExecuteTime": {
     "end_time": "2023-12-31T23:22:07.210059200Z",
     "start_time": "2023-12-31T23:22:07.197040Z"
    }
   },
   "outputs": [
    {
     "data": {
      "text/plain": "   coluna1     coluna2              coluna3     coluna4\nA     11.0 -182.083323    -77.4772286185917  131.067487\nB      NaN  113.412316   26.547408828966507   34.861424\nC   -112.0   45.420209   -31.48188828367129   30.921867\nD      NaN  -43.951188   -55.13429261145909  124.563170\nD      NaN  -43.951188   -55.13429261145909  124.563170\nE      NaN  130.787701                  NaN         NaN\nE      NaN  130.787701                  NaN         NaN\nF    -14.0   45.933517  -125.36055745579114   11.079864\nF    -14.0   45.933517  -125.36055745579114   11.079864\nG      NaN -120.563491   -83.81297109488155  -35.633110\nG      NaN -120.563491   -83.81297109488155  -35.633110\nH     -3.0   74.270218   0.1653956314272216  -51.777984\nH     -3.0   74.270218   0.1653956314272216  -51.777984\nI      NaN  -75.152729  -52.908545008724616         NaN",
      "text/html": "<div>\n<style scoped>\n    .dataframe tbody tr th:only-of-type {\n        vertical-align: middle;\n    }\n\n    .dataframe tbody tr th {\n        vertical-align: top;\n    }\n\n    .dataframe thead th {\n        text-align: right;\n    }\n</style>\n<table border=\"1\" class=\"dataframe\">\n  <thead>\n    <tr style=\"text-align: right;\">\n      <th></th>\n      <th>coluna1</th>\n      <th>coluna2</th>\n      <th>coluna3</th>\n      <th>coluna4</th>\n    </tr>\n  </thead>\n  <tbody>\n    <tr>\n      <th>A</th>\n      <td>11.0</td>\n      <td>-182.083323</td>\n      <td>-77.4772286185917</td>\n      <td>131.067487</td>\n    </tr>\n    <tr>\n      <th>B</th>\n      <td>NaN</td>\n      <td>113.412316</td>\n      <td>26.547408828966507</td>\n      <td>34.861424</td>\n    </tr>\n    <tr>\n      <th>C</th>\n      <td>-112.0</td>\n      <td>45.420209</td>\n      <td>-31.48188828367129</td>\n      <td>30.921867</td>\n    </tr>\n    <tr>\n      <th>D</th>\n      <td>NaN</td>\n      <td>-43.951188</td>\n      <td>-55.13429261145909</td>\n      <td>124.563170</td>\n    </tr>\n    <tr>\n      <th>D</th>\n      <td>NaN</td>\n      <td>-43.951188</td>\n      <td>-55.13429261145909</td>\n      <td>124.563170</td>\n    </tr>\n    <tr>\n      <th>E</th>\n      <td>NaN</td>\n      <td>130.787701</td>\n      <td>NaN</td>\n      <td>NaN</td>\n    </tr>\n    <tr>\n      <th>E</th>\n      <td>NaN</td>\n      <td>130.787701</td>\n      <td>NaN</td>\n      <td>NaN</td>\n    </tr>\n    <tr>\n      <th>F</th>\n      <td>-14.0</td>\n      <td>45.933517</td>\n      <td>-125.36055745579114</td>\n      <td>11.079864</td>\n    </tr>\n    <tr>\n      <th>F</th>\n      <td>-14.0</td>\n      <td>45.933517</td>\n      <td>-125.36055745579114</td>\n      <td>11.079864</td>\n    </tr>\n    <tr>\n      <th>G</th>\n      <td>NaN</td>\n      <td>-120.563491</td>\n      <td>-83.81297109488155</td>\n      <td>-35.633110</td>\n    </tr>\n    <tr>\n      <th>G</th>\n      <td>NaN</td>\n      <td>-120.563491</td>\n      <td>-83.81297109488155</td>\n      <td>-35.633110</td>\n    </tr>\n    <tr>\n      <th>H</th>\n      <td>-3.0</td>\n      <td>74.270218</td>\n      <td>0.1653956314272216</td>\n      <td>-51.777984</td>\n    </tr>\n    <tr>\n      <th>H</th>\n      <td>-3.0</td>\n      <td>74.270218</td>\n      <td>0.1653956314272216</td>\n      <td>-51.777984</td>\n    </tr>\n    <tr>\n      <th>I</th>\n      <td>NaN</td>\n      <td>-75.152729</td>\n      <td>-52.908545008724616</td>\n      <td>NaN</td>\n    </tr>\n  </tbody>\n</table>\n</div>"
     },
     "execution_count": 50,
     "metadata": {},
     "output_type": "execute_result"
    }
   ],
   "source": [
    "df_dup = pd.concat([df, df.loc['D':'H', :]]).sort_index()\n",
    "df_dup"
   ]
  },
  {
   "cell_type": "code",
   "execution_count": 51,
   "metadata": {
    "ExecuteTime": {
     "end_time": "2023-12-31T23:22:17.993692200Z",
     "start_time": "2023-12-31T23:22:17.965602600Z"
    }
   },
   "outputs": [
    {
     "data": {
      "text/plain": "   coluna1     coluna2              coluna3     coluna4\nA     11.0 -182.083323    -77.4772286185917  131.067487\nB      NaN  113.412316   26.547408828966507   34.861424\nC   -112.0   45.420209   -31.48188828367129   30.921867\nD      NaN  -43.951188   -55.13429261145909  124.563170\nE      NaN  130.787701                  NaN         NaN\nF    -14.0   45.933517  -125.36055745579114   11.079864\nG      NaN -120.563491   -83.81297109488155  -35.633110\nH     -3.0   74.270218   0.1653956314272216  -51.777984\nI      NaN  -75.152729  -52.908545008724616         NaN",
      "text/html": "<div>\n<style scoped>\n    .dataframe tbody tr th:only-of-type {\n        vertical-align: middle;\n    }\n\n    .dataframe tbody tr th {\n        vertical-align: top;\n    }\n\n    .dataframe thead th {\n        text-align: right;\n    }\n</style>\n<table border=\"1\" class=\"dataframe\">\n  <thead>\n    <tr style=\"text-align: right;\">\n      <th></th>\n      <th>coluna1</th>\n      <th>coluna2</th>\n      <th>coluna3</th>\n      <th>coluna4</th>\n    </tr>\n  </thead>\n  <tbody>\n    <tr>\n      <th>A</th>\n      <td>11.0</td>\n      <td>-182.083323</td>\n      <td>-77.4772286185917</td>\n      <td>131.067487</td>\n    </tr>\n    <tr>\n      <th>B</th>\n      <td>NaN</td>\n      <td>113.412316</td>\n      <td>26.547408828966507</td>\n      <td>34.861424</td>\n    </tr>\n    <tr>\n      <th>C</th>\n      <td>-112.0</td>\n      <td>45.420209</td>\n      <td>-31.48188828367129</td>\n      <td>30.921867</td>\n    </tr>\n    <tr>\n      <th>D</th>\n      <td>NaN</td>\n      <td>-43.951188</td>\n      <td>-55.13429261145909</td>\n      <td>124.563170</td>\n    </tr>\n    <tr>\n      <th>E</th>\n      <td>NaN</td>\n      <td>130.787701</td>\n      <td>NaN</td>\n      <td>NaN</td>\n    </tr>\n    <tr>\n      <th>F</th>\n      <td>-14.0</td>\n      <td>45.933517</td>\n      <td>-125.36055745579114</td>\n      <td>11.079864</td>\n    </tr>\n    <tr>\n      <th>G</th>\n      <td>NaN</td>\n      <td>-120.563491</td>\n      <td>-83.81297109488155</td>\n      <td>-35.633110</td>\n    </tr>\n    <tr>\n      <th>H</th>\n      <td>-3.0</td>\n      <td>74.270218</td>\n      <td>0.1653956314272216</td>\n      <td>-51.777984</td>\n    </tr>\n    <tr>\n      <th>I</th>\n      <td>NaN</td>\n      <td>-75.152729</td>\n      <td>-52.908545008724616</td>\n      <td>NaN</td>\n    </tr>\n  </tbody>\n</table>\n</div>"
     },
     "execution_count": 51,
     "metadata": {},
     "output_type": "execute_result"
    }
   ],
   "source": [
    "df_dup.drop_duplicates()"
   ]
  },
  {
   "cell_type": "code",
   "execution_count": 49,
   "metadata": {
    "ExecuteTime": {
     "end_time": "2023-12-31T23:21:51.270129200Z",
     "start_time": "2023-12-31T23:21:51.247603200Z"
    }
   },
   "outputs": [
    {
     "data": {
      "text/plain": "   coluna1     coluna2              coluna3     coluna4\nA     11.0 -182.083323    -77.4772286185917  131.067487\nB      NaN  113.412316   26.547408828966507   34.861424\nC   -112.0   45.420209   -31.48188828367129   30.921867\nF    -14.0   45.933517  -125.36055745579114   11.079864\nH     -3.0   74.270218   0.1653956314272216  -51.777984",
      "text/html": "<div>\n<style scoped>\n    .dataframe tbody tr th:only-of-type {\n        vertical-align: middle;\n    }\n\n    .dataframe tbody tr th {\n        vertical-align: top;\n    }\n\n    .dataframe thead th {\n        text-align: right;\n    }\n</style>\n<table border=\"1\" class=\"dataframe\">\n  <thead>\n    <tr style=\"text-align: right;\">\n      <th></th>\n      <th>coluna1</th>\n      <th>coluna2</th>\n      <th>coluna3</th>\n      <th>coluna4</th>\n    </tr>\n  </thead>\n  <tbody>\n    <tr>\n      <th>A</th>\n      <td>11.0</td>\n      <td>-182.083323</td>\n      <td>-77.4772286185917</td>\n      <td>131.067487</td>\n    </tr>\n    <tr>\n      <th>B</th>\n      <td>NaN</td>\n      <td>113.412316</td>\n      <td>26.547408828966507</td>\n      <td>34.861424</td>\n    </tr>\n    <tr>\n      <th>C</th>\n      <td>-112.0</td>\n      <td>45.420209</td>\n      <td>-31.48188828367129</td>\n      <td>30.921867</td>\n    </tr>\n    <tr>\n      <th>F</th>\n      <td>-14.0</td>\n      <td>45.933517</td>\n      <td>-125.36055745579114</td>\n      <td>11.079864</td>\n    </tr>\n    <tr>\n      <th>H</th>\n      <td>-3.0</td>\n      <td>74.270218</td>\n      <td>0.1653956314272216</td>\n      <td>-51.777984</td>\n    </tr>\n  </tbody>\n</table>\n</div>"
     },
     "execution_count": 49,
     "metadata": {},
     "output_type": "execute_result"
    }
   ],
   "source": [
    "df_dup.drop_duplicates(subset=['coluna1'])"
   ]
  },
  {
   "cell_type": "code",
   "execution_count": 52,
   "metadata": {
    "ExecuteTime": {
     "end_time": "2023-12-31T23:22:28.845909500Z",
     "start_time": "2023-12-31T23:22:28.818867900Z"
    }
   },
   "outputs": [
    {
     "data": {
      "text/plain": "A    False\nB    False\nC    False\nD    False\nD     True\nE    False\nE     True\nF    False\nF     True\nG    False\nG     True\nH    False\nH     True\nI    False\ndtype: bool"
     },
     "execution_count": 52,
     "metadata": {},
     "output_type": "execute_result"
    }
   ],
   "source": [
    "df_dup.duplicated()"
   ]
  },
  {
   "cell_type": "code",
   "execution_count": 53,
   "metadata": {
    "ExecuteTime": {
     "end_time": "2023-12-31T23:22:36.137830600Z",
     "start_time": "2023-12-31T23:22:36.119165500Z"
    }
   },
   "outputs": [
    {
     "data": {
      "text/plain": "   coluna1     coluna2              coluna3     coluna4\nD      NaN  -43.951188   -55.13429261145909  124.563170\nE      NaN  130.787701                  NaN         NaN\nF    -14.0   45.933517  -125.36055745579114   11.079864\nG      NaN -120.563491   -83.81297109488155  -35.633110\nH     -3.0   74.270218   0.1653956314272216  -51.777984",
      "text/html": "<div>\n<style scoped>\n    .dataframe tbody tr th:only-of-type {\n        vertical-align: middle;\n    }\n\n    .dataframe tbody tr th {\n        vertical-align: top;\n    }\n\n    .dataframe thead th {\n        text-align: right;\n    }\n</style>\n<table border=\"1\" class=\"dataframe\">\n  <thead>\n    <tr style=\"text-align: right;\">\n      <th></th>\n      <th>coluna1</th>\n      <th>coluna2</th>\n      <th>coluna3</th>\n      <th>coluna4</th>\n    </tr>\n  </thead>\n  <tbody>\n    <tr>\n      <th>D</th>\n      <td>NaN</td>\n      <td>-43.951188</td>\n      <td>-55.13429261145909</td>\n      <td>124.563170</td>\n    </tr>\n    <tr>\n      <th>E</th>\n      <td>NaN</td>\n      <td>130.787701</td>\n      <td>NaN</td>\n      <td>NaN</td>\n    </tr>\n    <tr>\n      <th>F</th>\n      <td>-14.0</td>\n      <td>45.933517</td>\n      <td>-125.36055745579114</td>\n      <td>11.079864</td>\n    </tr>\n    <tr>\n      <th>G</th>\n      <td>NaN</td>\n      <td>-120.563491</td>\n      <td>-83.81297109488155</td>\n      <td>-35.633110</td>\n    </tr>\n    <tr>\n      <th>H</th>\n      <td>-3.0</td>\n      <td>74.270218</td>\n      <td>0.1653956314272216</td>\n      <td>-51.777984</td>\n    </tr>\n  </tbody>\n</table>\n</div>"
     },
     "execution_count": 53,
     "metadata": {},
     "output_type": "execute_result"
    }
   ],
   "source": [
    "df_dup[df_dup.duplicated()]"
   ]
  },
  {
   "cell_type": "markdown",
   "metadata": {},
   "source": [
    "# 6. Mapeamentos <a name=\"map\"></a>\n",
    "<div style=\"text-align: right\"\n",
    "     \n",
    "[Voltar ao índice](#Contents)"
   ]
  },
  {
   "cell_type": "code",
   "execution_count": 54,
   "metadata": {
    "ExecuteTime": {
     "end_time": "2023-12-31T23:22:57.964612800Z",
     "start_time": "2023-12-31T23:22:57.949078900Z"
    }
   },
   "outputs": [
    {
     "data": {
      "text/plain": "0     1\n1     0\n2     1\n3     1\n4     1\n5     1\n6     0\n7     0\n8     0\n9     1\n10    1\n11    0\ndtype: int64"
     },
     "execution_count": 54,
     "metadata": {},
     "output_type": "execute_result"
    }
   ],
   "source": [
    "# 1 feminino, 0 masculino\n",
    "genero = pd.Series([1,0,1,1,1,1,0,0,0,1,1,0])\n",
    "genero"
   ]
  },
  {
   "cell_type": "code",
   "execution_count": 55,
   "metadata": {
    "ExecuteTime": {
     "end_time": "2023-12-31T23:23:04.955417200Z",
     "start_time": "2023-12-31T23:23:04.934393400Z"
    }
   },
   "outputs": [
    {
     "data": {
      "text/plain": "0      Feminino\n1     Masculino\n2      Feminino\n3      Feminino\n4      Feminino\n5      Feminino\n6     Masculino\n7     Masculino\n8     Masculino\n9      Feminino\n10     Feminino\n11    Masculino\ndtype: object"
     },
     "execution_count": 55,
     "metadata": {},
     "output_type": "execute_result"
    }
   ],
   "source": [
    "genero.map({1:'Feminino', 0:'Masculino'})"
   ]
  },
  {
   "cell_type": "code",
   "execution_count": 56,
   "metadata": {
    "ExecuteTime": {
     "end_time": "2023-12-31T23:23:13.665563800Z",
     "start_time": "2023-12-31T23:23:13.641226200Z"
    }
   },
   "outputs": [],
   "source": [
    "genero_2 = genero.map({1:'Feminino', 0:'Masculino'})"
   ]
  },
  {
   "cell_type": "code",
   "execution_count": 57,
   "metadata": {
    "ExecuteTime": {
     "end_time": "2023-12-31T23:23:17.540435100Z",
     "start_time": "2023-12-31T23:23:17.514650600Z"
    }
   },
   "outputs": [
    {
     "data": {
      "text/plain": "0     Feminino\n1          NaN\n2     Feminino\n3     Feminino\n4     Feminino\n5     Feminino\n6          NaN\n7          NaN\n8          NaN\n9     Feminino\n10    Feminino\n11         NaN\ndtype: object"
     },
     "execution_count": 57,
     "metadata": {},
     "output_type": "execute_result"
    }
   ],
   "source": [
    "genero.map({1:'Feminino', 2:'Masculino'})"
   ]
  },
  {
   "cell_type": "code",
   "execution_count": 58,
   "metadata": {
    "ExecuteTime": {
     "end_time": "2023-12-31T23:23:30.864844400Z",
     "start_time": "2023-12-31T23:23:30.845497300Z"
    }
   },
   "outputs": [
    {
     "data": {
      "text/plain": "0      Genero: Feminino\n1     Genero: Masculino\n2      Genero: Feminino\n3      Genero: Feminino\n4      Genero: Feminino\n5      Genero: Feminino\n6     Genero: Masculino\n7     Genero: Masculino\n8     Genero: Masculino\n9      Genero: Feminino\n10     Genero: Feminino\n11    Genero: Masculino\ndtype: object"
     },
     "execution_count": 58,
     "metadata": {},
     "output_type": "execute_result"
    }
   ],
   "source": [
    "genero_2.map('Genero: {}'.format)"
   ]
  },
  {
   "cell_type": "code",
   "execution_count": null,
   "metadata": {},
   "outputs": [],
   "source": []
  },
  {
   "cell_type": "code",
   "execution_count": null,
   "metadata": {},
   "outputs": [],
   "source": []
  },
  {
   "cell_type": "code",
   "execution_count": null,
   "metadata": {},
   "outputs": [],
   "source": []
  },
  {
   "cell_type": "code",
   "execution_count": null,
   "metadata": {},
   "outputs": [],
   "source": []
  },
  {
   "cell_type": "code",
   "execution_count": null,
   "metadata": {},
   "outputs": [],
   "source": []
  },
  {
   "cell_type": "code",
   "execution_count": null,
   "metadata": {},
   "outputs": [],
   "source": []
  },
  {
   "cell_type": "code",
   "execution_count": null,
   "metadata": {},
   "outputs": [],
   "source": []
  }
 ],
 "metadata": {
  "kernelspec": {
   "display_name": "Python 3",
   "language": "python",
   "name": "python3"
  },
  "language_info": {
   "codemirror_mode": {
    "name": "ipython",
    "version": 3
   },
   "file_extension": ".py",
   "mimetype": "text/x-python",
   "name": "python",
   "nbconvert_exporter": "python",
   "pygments_lexer": "ipython3",
   "version": "3.8.5"
  },
  "varInspector": {
   "cols": {
    "lenName": 16,
    "lenType": 16,
    "lenVar": 40
   },
   "kernels_config": {
    "python": {
     "delete_cmd_postfix": "",
     "delete_cmd_prefix": "del ",
     "library": "var_list.py",
     "varRefreshCmd": "print(var_dic_list())"
    },
    "r": {
     "delete_cmd_postfix": ") ",
     "delete_cmd_prefix": "rm(",
     "library": "var_list.r",
     "varRefreshCmd": "cat(var_dic_list()) "
    }
   },
   "types_to_exclude": [
    "module",
    "function",
    "builtin_function_or_method",
    "instance",
    "_Feature"
   ],
   "window_display": false
  }
 },
 "nbformat": 4,
 "nbformat_minor": 4
}
