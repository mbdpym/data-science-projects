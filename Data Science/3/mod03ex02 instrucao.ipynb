{
 "cells": [
  {
   "cell_type": "code",
   "execution_count": 15,
   "metadata": {
    "id": "fFhFteHV695k",
    "ExecuteTime": {
     "end_time": "2023-12-24T22:27:07.408807800Z",
     "start_time": "2023-12-24T22:27:07.336743200Z"
    }
   },
   "outputs": [],
   "source": [
    "import numpy as np"
   ]
  },
  {
   "cell_type": "markdown",
   "metadata": {
    "id": "YLWEzg3N695m"
   },
   "source": [
    "### 1) Alturas  \n",
    "i. No trecho de código abaixo, crie um ndarray chamado ```altura_em_centimetros``` transformando a lista ```lista_de_alturas``` em um ndarray do numpy com a função ```np.array()```  \n",
    "ii. Crie um outro objeto ```altura_em_metros```, com os valores de ```altura_em_centimetros``` convertidos para metros."
   ]
  },
  {
   "cell_type": "code",
   "execution_count": 16,
   "metadata": {
    "id": "tx6DbJk7695o",
    "ExecuteTime": {
     "end_time": "2023-12-24T22:27:07.425515900Z",
     "start_time": "2023-12-24T22:27:07.411307100Z"
    }
   },
   "outputs": [
    {
     "data": {
      "text/plain": "[170, 175, 180, 185]"
     },
     "execution_count": 16,
     "metadata": {},
     "output_type": "execute_result"
    }
   ],
   "source": [
    "lista_de_centimetros = list(range(170, 190, 5))\n",
    "lista_de_centimetros"
   ]
  },
  {
   "cell_type": "code",
   "execution_count": 17,
   "metadata": {
    "id": "-tXC4lyT695o",
    "ExecuteTime": {
     "end_time": "2023-12-24T22:27:07.435538500Z",
     "start_time": "2023-12-24T22:27:07.428020200Z"
    }
   },
   "outputs": [
    {
     "data": {
      "text/plain": "array([170, 175, 180, 185])"
     },
     "execution_count": 17,
     "metadata": {},
     "output_type": "execute_result"
    }
   ],
   "source": [
    "altura_em_centimetros = np.array(lista_de_centimetros)\n",
    "altura_em_centimetros"
   ]
  },
  {
   "cell_type": "code",
   "execution_count": 18,
   "metadata": {
    "id": "zFDQt9_K695p",
    "ExecuteTime": {
     "end_time": "2023-12-24T22:27:07.462563500Z",
     "start_time": "2023-12-24T22:27:07.430929800Z"
    }
   },
   "outputs": [
    {
     "data": {
      "text/plain": "array([1.7 , 1.75, 1.8 , 1.85])"
     },
     "execution_count": 18,
     "metadata": {},
     "output_type": "execute_result"
    }
   ],
   "source": [
    "altura_em_metros = altura_em_centimetros / 100\n",
    "altura_em_metros"
   ]
  },
  {
   "cell_type": "markdown",
   "metadata": {
    "id": "hlsDzubv695p"
   },
   "source": [
    "### 2) IMC  \n",
    "i. Considere que pesos em Kg dessas pessoas, na mesma ortem, estão na lista pesos ```lista_pesos = [70, 75, 80, 85]```. Crie um **ndarray** chamado ```pesos``` com a função ```np.array()``` que contenha esses valores.  \n",
    "ii. Utilizando o objeto que contém as alturas em metros e esse objeto que contém os respectivos pesos em quilos, calcule o IMC desses indivíduos utilizando a aritmética de arrays e guarde os resultados em um objeto chamado ```imc```."
   ]
  },
  {
   "cell_type": "code",
   "execution_count": 19,
   "metadata": {
    "id": "YL87C0It695p",
    "outputId": "f147f2f0-c5e8-407c-a708-914ddc99fa6d",
    "ExecuteTime": {
     "end_time": "2023-12-24T22:27:07.464062500Z",
     "start_time": "2023-12-24T22:27:07.435538500Z"
    }
   },
   "outputs": [
    {
     "data": {
      "text/plain": "array([70, 75, 80, 85])"
     },
     "execution_count": 19,
     "metadata": {},
     "output_type": "execute_result"
    }
   ],
   "source": [
    "lista_pesos = [70, 75, 80, 85]\n",
    "lista_pesos\n",
    "# seu código aqui\n",
    "pesos = np.array(lista_pesos)\n",
    "pesos"
   ]
  },
  {
   "cell_type": "code",
   "execution_count": 20,
   "metadata": {
    "id": "WgZtY2Ox695q",
    "ExecuteTime": {
     "end_time": "2023-12-24T22:27:07.465066200Z",
     "start_time": "2023-12-24T22:27:07.438686600Z"
    }
   },
   "outputs": [
    {
     "data": {
      "text/plain": "array([24.22, 24.49, 24.69, 24.84])"
     },
     "execution_count": 20,
     "metadata": {},
     "output_type": "execute_result"
    }
   ],
   "source": [
    "# calcule o IMC dessas pessoas\n",
    "IMC = (pesos / altura_em_metros**2).round(2)\n",
    "IMC"
   ]
  },
  {
   "cell_type": "markdown",
   "metadata": {
    "id": "k1JIBxZb695r"
   },
   "source": [
    "### 3) Endividamento\n",
    "\n",
    "Cálculos de novas variáveis como endividamento total e comprometimento de renda são essenciais para a construção de modelos financeiros em ciência de dados. Áreas não financeiras terão cálculos semelhantes também. Vamos praticar:\n",
    "\n",
    "Considere que o seguinte ndarray contém os dados de 4 pessoas, total a ser pago a empréstimos mensalmente e renda familiar:\n",
    "\n",
    "| custo fixo | dívida financeira | renda familiar |\n",
    "|:----:|:----:|:---|\n",
    "| 3000  | 1000 | 6000 |\n",
    "| 2500  | 2500 | 5500 |\n",
    "| 1000  | 3000 | 7000 |\n",
    "| 10000 | 5000 | 16000 |\n",
    "\n",
    "i. Transforme a lista de listas ```dados_financeiros``` no ndarray ```nd_financeiros```.\n",
    "> ``` dados_financeiros[[3000, 2500, 1000, 10000],[1000, 2500, 3000, 5000],[6000, 5500, 7000, 16000]] ```\n",
    "\n",
    "ii. Utilize o método ```.transpose ``` e certifique-se de que esse ndarray tenha uma linha por indivíduo e uma coluna por informação. Utilizando a indexação do numpy, imprima no output a segunda linha do array, depois a segunda coluna.\n",
    "\n",
    "iii. Pratique aritmética com nearrays e calcule o endividamento total como:\n",
    "$$endividamento\\hspace{.2cm}total = \\frac{custo \\hspace{.2cm}fixo + dívida\\hspace{.2cm}financeira}{renda\\hspace{.2cm}familiar}$$\n",
    "Guarde os resultados em uma variável chamada ```endividamento_total``` e verifique os resultados imprimindo o conteúdo dessa variável no output.\n",
    "\n",
    "iv. Considere que há um erro de digitação que precisa ser corrigido: 3o indivíduo na verdade não possui renda familiar de R\\\\$7.000,00, mas sim R\\\\$ 10.000,00. Corrija esse valor e refaça os cálculos."
   ]
  },
  {
   "cell_type": "code",
   "execution_count": 21,
   "metadata": {
    "id": "k17jw6kT695r",
    "ExecuteTime": {
     "end_time": "2023-12-24T22:27:07.465570500Z",
     "start_time": "2023-12-24T22:27:07.443046500Z"
    }
   },
   "outputs": [
    {
     "data": {
      "text/plain": "array([[ 3000,  1000,  6000],\n       [ 2500,  2500,  5500],\n       [ 1000,  3000,  7000],\n       [10000,  5000, 16000]])"
     },
     "execution_count": 21,
     "metadata": {},
     "output_type": "execute_result"
    }
   ],
   "source": [
    "# lista dados_financeiros\n",
    "dados_financeiros = [[3000, 2500, 1000, 10000],[1000, 2500, 3000, 5000],[6000, 5500, 7000, 16000]]\n",
    "dados_financeiros\n",
    "#i) transforme essa lista em um ndarray\n",
    "nd_financeiros = np.array(dados_financeiros).transpose()\n",
    "nd_financeiros\n"
   ]
  },
  {
   "cell_type": "code",
   "execution_count": 22,
   "metadata": {
    "id": "ecRsPjml695r",
    "ExecuteTime": {
     "end_time": "2023-12-24T22:27:07.465570500Z",
     "start_time": "2023-12-24T22:27:07.447556Z"
    }
   },
   "outputs": [
    {
     "data": {
      "text/plain": "array([1000, 3000, 7000])"
     },
     "execution_count": 22,
     "metadata": {},
     "output_type": "execute_result"
    }
   ],
   "source": [
    "# ii) \n",
    "linha2 = nd_financeiros[2,:]\n",
    "coluna2 = nd_financeiros[:, 2]\n",
    "\n",
    "linha2"
   ]
  },
  {
   "cell_type": "code",
   "outputs": [
    {
     "data": {
      "text/plain": "array([ 6000,  5500,  7000, 16000])"
     },
     "execution_count": 23,
     "metadata": {},
     "output_type": "execute_result"
    }
   ],
   "source": [
    "#ii)\n",
    "coluna2"
   ],
   "metadata": {
    "collapsed": false,
    "ExecuteTime": {
     "end_time": "2023-12-24T22:27:07.499482700Z",
     "start_time": "2023-12-24T22:27:07.466569800Z"
    }
   },
   "execution_count": 23
  },
  {
   "cell_type": "code",
   "execution_count": 24,
   "metadata": {
    "id": "RgMG-t9-695s",
    "ExecuteTime": {
     "end_time": "2023-12-24T22:27:07.519195500Z",
     "start_time": "2023-12-24T22:27:07.500980900Z"
    }
   },
   "outputs": [
    {
     "data": {
      "text/plain": "array([5.5       , 1.16666667, 1.64285714])"
     },
     "execution_count": 24,
     "metadata": {},
     "output_type": "execute_result"
    }
   ],
   "source": [
    "# iii) Calcule o endividamento total\n",
    "endividamento_total = (nd_financeiros[0, :] + nd_financeiros[1, :]) / nd_financeiros[2, :]\n",
    "endividamento_total"
   ]
  },
  {
   "cell_type": "code",
   "execution_count": 25,
   "metadata": {
    "id": "FxaSHRgy695t",
    "ExecuteTime": {
     "end_time": "2023-12-24T22:27:07.530677500Z",
     "start_time": "2023-12-24T22:27:07.521195300Z"
    }
   },
   "outputs": [
    {
     "data": {
      "text/plain": "array([[ 3000,  1000,  6000],\n       [ 2500,  2500,  5500],\n       [ 1000,  3000, 10000],\n       [10000,  5000, 16000]])"
     },
     "execution_count": 25,
     "metadata": {},
     "output_type": "execute_result"
    }
   ],
   "source": [
    "# iv) corrigindo um valor específico\n",
    "nd_financeiros[2,2] = 10000\n",
    "nd_financeiros"
   ]
  },
  {
   "cell_type": "code",
   "execution_count": 25,
   "metadata": {
    "id": "OYxfd00O695t",
    "ExecuteTime": {
     "end_time": "2023-12-24T22:27:07.531120600Z",
     "start_time": "2023-12-24T22:27:07.523821500Z"
    }
   },
   "outputs": [],
   "source": []
  },
  {
   "cell_type": "markdown",
   "metadata": {
    "id": "RghMgSOX695t"
   },
   "source": [
    "### 4) É muito comum precisarmos identificar valores especiais e darmos tratamento a eles quer seja alterando-os quer seja descartando-os. \n",
    "\n",
    "O trecho de código abaixo gera um ndarray com números pseudo aleatórios. Considere que para efeitos do estudo que virá, devemos desconsiderar valores iguais a zero. Sendo assim:\n",
    "\n",
    "i) crie um objeto ```bool_zero``` que traga uma sequencia de booleanos do mesmo tamanho que o objeto poi, e que vale ```True``` quando o valor de ```poi``` é zero, e ```False``` caso contrário.\n",
    "\n",
    "ii) Conte quantos valores zero existem. Lembre-se de que no final das contas, ```True``` vale 1 para o Python, e ```False``` vale zero, então uma boa dica seria usar a função ```sum()```.\n",
    "\n",
    "iii) Utilize a indexação booleana que você aprendeu para criar uma variável ```poi_nao_zero``` que aponta para os elementos de ```poi``` diferentes de zero. Dica: você vai pode inverter os elementos do objeto que criou em *ii)* ou escrever a comparação adequada."
   ]
  },
  {
   "cell_type": "code",
   "execution_count": 31,
   "metadata": {
    "id": "Y6JUhNiT695t",
    "outputId": "06ceb3b7-5eb0-45d0-f3b3-ea6ff6f0df2a",
    "ExecuteTime": {
     "end_time": "2023-12-24T22:27:25.347615Z",
     "start_time": "2023-12-24T22:27:25.344110700Z"
    }
   },
   "outputs": [],
   "source": [
    "# objeto poi - obs: o comando np.random.seed(1234) garante que o mesmo resultado será gerado sempre\n",
    "np.random.seed(1234)\n",
    "poi = np.random.poisson(3, 100)\n"
   ]
  },
  {
   "cell_type": "code",
   "execution_count": 38,
   "metadata": {
    "id": "dWElD2MJ695u",
    "ExecuteTime": {
     "end_time": "2023-12-24T22:28:15.178698300Z",
     "start_time": "2023-12-24T22:28:15.149682500Z"
    }
   },
   "outputs": [
    {
     "data": {
      "text/plain": "array([False, False, False, False, False, False, False, False, False,\n        True, False, False, False, False, False, False, False, False,\n        True, False, False, False, False, False,  True, False, False,\n       False, False, False, False, False, False, False, False, False,\n       False, False, False, False, False, False, False, False, False,\n       False, False, False, False, False, False, False, False, False,\n       False, False,  True, False, False, False, False, False, False,\n       False, False, False, False, False, False, False, False, False,\n       False, False, False, False, False, False, False, False, False,\n       False,  True, False, False,  True, False, False, False, False,\n       False, False, False, False, False, False, False, False, False,\n       False])"
     },
     "execution_count": 38,
     "metadata": {},
     "output_type": "execute_result"
    }
   ],
   "source": [
    "# i) crie o objeto bool_zero através do operador ==\n",
    "bool_zero = np.zeros(len(poi), dtype=bool)\n",
    "\n",
    "for i, item in enumerate (poi):\n",
    "    if item == 0:\n",
    "        bool_zero[i] = True\n",
    "    else:\n",
    "        bool_zero[i] = False\n",
    "\n",
    "bool_zero"
   ]
  },
  {
   "cell_type": "code",
   "execution_count": 39,
   "metadata": {
    "id": "hr-knXzs695u",
    "ExecuteTime": {
     "end_time": "2023-12-24T22:28:38.704106800Z",
     "start_time": "2023-12-24T22:28:38.702595200Z"
    }
   },
   "outputs": [
    {
     "data": {
      "text/plain": "6"
     },
     "execution_count": 39,
     "metadata": {},
     "output_type": "execute_result"
    }
   ],
   "source": [
    "# ii) Conte a quantidade de zeros (ou some os elementos de bool_zero)\n",
    "qtd_zeros = np.sum(bool_zero)\n",
    "\n",
    "qtd_zeros"
   ]
  },
  {
   "cell_type": "code",
   "execution_count": 40,
   "metadata": {
    "id": "5s3DqCup695u",
    "ExecuteTime": {
     "end_time": "2023-12-24T22:28:46.498756100Z",
     "start_time": "2023-12-24T22:28:46.495805300Z"
    }
   },
   "outputs": [
    {
     "data": {
      "text/plain": "94"
     },
     "execution_count": 40,
     "metadata": {},
     "output_type": "execute_result"
    }
   ],
   "source": [
    "# iii) utilize a indexação booleana para criar uma seleção de não-zeros\n",
    "# dica: inverta o objeto bool_zero\n",
    "\n",
    "non_zeros = np.sum(bool_zero.__invert__())\n",
    "non_zeros"
   ]
  }
 ],
 "metadata": {
  "kernelspec": {
   "display_name": "Python 3",
   "language": "python",
   "name": "python3"
  },
  "language_info": {
   "codemirror_mode": {
    "name": "ipython",
    "version": 3
   },
   "file_extension": ".py",
   "mimetype": "text/x-python",
   "name": "python",
   "nbconvert_exporter": "python",
   "pygments_lexer": "ipython3",
   "version": "3.8.5"
  },
  "colab": {
   "provenance": [],
   "collapsed_sections": []
  }
 },
 "nbformat": 4,
 "nbformat_minor": 0
}
