{
 "cells": [
  {
   "cell_type": "code",
   "execution_count": 2,
   "id": "initial_id",
   "metadata": {
    "collapsed": true,
    "ExecuteTime": {
     "end_time": "2024-01-18T19:06:06.999919400Z",
     "start_time": "2024-01-18T19:06:06.976091300Z"
    }
   },
   "outputs": [],
   "source": [
    "import numpy as np\n",
    "import pandas as pd\n",
    "import seaborn as sns\n",
    "import matplotlib.pyplot as plt\n",
    "\n",
    "sns.set_theme()\n",
    "%matplotlib inline"
   ]
  },
  {
   "cell_type": "code",
   "outputs": [
    {
     "data": {
      "text/plain": "         ORIGEM   CODESTAB  CODMUNNASC  LOCNASC  IDADEMAE  ESTCIVMAE  ESCMAE  \\\n0             1  2516500.0      110001        1      40.0        1.0     5.0   \n1             1  2516500.0      110001        1      32.0        2.0     4.0   \n2             1  2516500.0      110001        1      26.0        5.0     3.0   \n3             1  2516500.0      110001        1      31.0        2.0     5.0   \n4             1  2516500.0      110001        1      27.0        5.0     5.0   \n...         ...        ...         ...      ...       ...        ...     ...   \n2561917       2  2079887.0      353440        1      23.0        1.0     4.0   \n2561918       2  5101654.0      353440        1      39.0        2.0     4.0   \n2561919       2  5101654.0      353440        1      32.0        2.0     5.0   \n2561920       2  2079887.0      353440        1      28.0        1.0     4.0   \n2561921       2  5101654.0      353440        1      28.0        2.0     5.0   \n\n         CODOCUPMAE  QTDFILVIVO  QTDFILMORT  ...  TPDOCRESP  DTDECLARAC  \\\n0          231210.0         2.0         1.0  ...        5.0   3012022.0   \n1          999992.0         0.0         0.0  ...        3.0   7012022.0   \n2          999992.0         1.0         1.0  ...        3.0  12012022.0   \n3          999992.0         1.0         0.0  ...        3.0  12012022.0   \n4          241005.0         0.0         0.0  ...        3.0  17012022.0   \n...             ...         ...         ...  ...        ...         ...   \n2561917         NaN         1.0         0.0  ...        3.0  24052022.0   \n2561918    422105.0         3.0         1.0  ...        3.0  25052022.0   \n2561919    252515.0         0.0         0.0  ...        3.0  26052022.0   \n2561920    411010.0         1.0         0.0  ...        3.0  24052022.0   \n2561921    521110.0         1.0         0.0  ...        3.0  26052022.0   \n\n         ESCMAEAGR1  STDNEPIDEM  STDNNOVA  CODPAISRES  TPROBSON  PARIDADE  \\\n0               8.0         0.0         1         1.0         7         1   \n1               6.0         0.0         1         1.0         1         0   \n2               3.0         0.0         1         1.0         5         1   \n3               8.0         0.0         1         1.0         5         1   \n4               8.0         0.0         1         1.0         2         0   \n...             ...         ...       ...         ...       ...       ...   \n2561917         6.0         0.0         1         1.0         3         1   \n2561918         6.0         0.0         1         1.0        10         1   \n2561919         8.0         0.0         1         1.0         2         0   \n2561920         6.0         0.0         1         1.0         5         1   \n2561921         8.0         0.0         1         1.0        10         1   \n\n         KOTELCHUCK  CONTADOR  \n0                 5         1  \n1                 5         2  \n2                 5         3  \n3                 5         4  \n4                 5         5  \n...             ...       ...  \n2561917           2   2561918  \n2561918           5   2561919  \n2561919           5   2561920  \n2561920           5   2561921  \n2561921           5   2561922  \n\n[2561922 rows x 61 columns]",
      "text/html": "<div>\n<style scoped>\n    .dataframe tbody tr th:only-of-type {\n        vertical-align: middle;\n    }\n\n    .dataframe tbody tr th {\n        vertical-align: top;\n    }\n\n    .dataframe thead th {\n        text-align: right;\n    }\n</style>\n<table border=\"1\" class=\"dataframe\">\n  <thead>\n    <tr style=\"text-align: right;\">\n      <th></th>\n      <th>ORIGEM</th>\n      <th>CODESTAB</th>\n      <th>CODMUNNASC</th>\n      <th>LOCNASC</th>\n      <th>IDADEMAE</th>\n      <th>ESTCIVMAE</th>\n      <th>ESCMAE</th>\n      <th>CODOCUPMAE</th>\n      <th>QTDFILVIVO</th>\n      <th>QTDFILMORT</th>\n      <th>...</th>\n      <th>TPDOCRESP</th>\n      <th>DTDECLARAC</th>\n      <th>ESCMAEAGR1</th>\n      <th>STDNEPIDEM</th>\n      <th>STDNNOVA</th>\n      <th>CODPAISRES</th>\n      <th>TPROBSON</th>\n      <th>PARIDADE</th>\n      <th>KOTELCHUCK</th>\n      <th>CONTADOR</th>\n    </tr>\n  </thead>\n  <tbody>\n    <tr>\n      <th>0</th>\n      <td>1</td>\n      <td>2516500.0</td>\n      <td>110001</td>\n      <td>1</td>\n      <td>40.0</td>\n      <td>1.0</td>\n      <td>5.0</td>\n      <td>231210.0</td>\n      <td>2.0</td>\n      <td>1.0</td>\n      <td>...</td>\n      <td>5.0</td>\n      <td>3012022.0</td>\n      <td>8.0</td>\n      <td>0.0</td>\n      <td>1</td>\n      <td>1.0</td>\n      <td>7</td>\n      <td>1</td>\n      <td>5</td>\n      <td>1</td>\n    </tr>\n    <tr>\n      <th>1</th>\n      <td>1</td>\n      <td>2516500.0</td>\n      <td>110001</td>\n      <td>1</td>\n      <td>32.0</td>\n      <td>2.0</td>\n      <td>4.0</td>\n      <td>999992.0</td>\n      <td>0.0</td>\n      <td>0.0</td>\n      <td>...</td>\n      <td>3.0</td>\n      <td>7012022.0</td>\n      <td>6.0</td>\n      <td>0.0</td>\n      <td>1</td>\n      <td>1.0</td>\n      <td>1</td>\n      <td>0</td>\n      <td>5</td>\n      <td>2</td>\n    </tr>\n    <tr>\n      <th>2</th>\n      <td>1</td>\n      <td>2516500.0</td>\n      <td>110001</td>\n      <td>1</td>\n      <td>26.0</td>\n      <td>5.0</td>\n      <td>3.0</td>\n      <td>999992.0</td>\n      <td>1.0</td>\n      <td>1.0</td>\n      <td>...</td>\n      <td>3.0</td>\n      <td>12012022.0</td>\n      <td>3.0</td>\n      <td>0.0</td>\n      <td>1</td>\n      <td>1.0</td>\n      <td>5</td>\n      <td>1</td>\n      <td>5</td>\n      <td>3</td>\n    </tr>\n    <tr>\n      <th>3</th>\n      <td>1</td>\n      <td>2516500.0</td>\n      <td>110001</td>\n      <td>1</td>\n      <td>31.0</td>\n      <td>2.0</td>\n      <td>5.0</td>\n      <td>999992.0</td>\n      <td>1.0</td>\n      <td>0.0</td>\n      <td>...</td>\n      <td>3.0</td>\n      <td>12012022.0</td>\n      <td>8.0</td>\n      <td>0.0</td>\n      <td>1</td>\n      <td>1.0</td>\n      <td>5</td>\n      <td>1</td>\n      <td>5</td>\n      <td>4</td>\n    </tr>\n    <tr>\n      <th>4</th>\n      <td>1</td>\n      <td>2516500.0</td>\n      <td>110001</td>\n      <td>1</td>\n      <td>27.0</td>\n      <td>5.0</td>\n      <td>5.0</td>\n      <td>241005.0</td>\n      <td>0.0</td>\n      <td>0.0</td>\n      <td>...</td>\n      <td>3.0</td>\n      <td>17012022.0</td>\n      <td>8.0</td>\n      <td>0.0</td>\n      <td>1</td>\n      <td>1.0</td>\n      <td>2</td>\n      <td>0</td>\n      <td>5</td>\n      <td>5</td>\n    </tr>\n    <tr>\n      <th>...</th>\n      <td>...</td>\n      <td>...</td>\n      <td>...</td>\n      <td>...</td>\n      <td>...</td>\n      <td>...</td>\n      <td>...</td>\n      <td>...</td>\n      <td>...</td>\n      <td>...</td>\n      <td>...</td>\n      <td>...</td>\n      <td>...</td>\n      <td>...</td>\n      <td>...</td>\n      <td>...</td>\n      <td>...</td>\n      <td>...</td>\n      <td>...</td>\n      <td>...</td>\n      <td>...</td>\n    </tr>\n    <tr>\n      <th>2561917</th>\n      <td>2</td>\n      <td>2079887.0</td>\n      <td>353440</td>\n      <td>1</td>\n      <td>23.0</td>\n      <td>1.0</td>\n      <td>4.0</td>\n      <td>NaN</td>\n      <td>1.0</td>\n      <td>0.0</td>\n      <td>...</td>\n      <td>3.0</td>\n      <td>24052022.0</td>\n      <td>6.0</td>\n      <td>0.0</td>\n      <td>1</td>\n      <td>1.0</td>\n      <td>3</td>\n      <td>1</td>\n      <td>2</td>\n      <td>2561918</td>\n    </tr>\n    <tr>\n      <th>2561918</th>\n      <td>2</td>\n      <td>5101654.0</td>\n      <td>353440</td>\n      <td>1</td>\n      <td>39.0</td>\n      <td>2.0</td>\n      <td>4.0</td>\n      <td>422105.0</td>\n      <td>3.0</td>\n      <td>1.0</td>\n      <td>...</td>\n      <td>3.0</td>\n      <td>25052022.0</td>\n      <td>6.0</td>\n      <td>0.0</td>\n      <td>1</td>\n      <td>1.0</td>\n      <td>10</td>\n      <td>1</td>\n      <td>5</td>\n      <td>2561919</td>\n    </tr>\n    <tr>\n      <th>2561919</th>\n      <td>2</td>\n      <td>5101654.0</td>\n      <td>353440</td>\n      <td>1</td>\n      <td>32.0</td>\n      <td>2.0</td>\n      <td>5.0</td>\n      <td>252515.0</td>\n      <td>0.0</td>\n      <td>0.0</td>\n      <td>...</td>\n      <td>3.0</td>\n      <td>26052022.0</td>\n      <td>8.0</td>\n      <td>0.0</td>\n      <td>1</td>\n      <td>1.0</td>\n      <td>2</td>\n      <td>0</td>\n      <td>5</td>\n      <td>2561920</td>\n    </tr>\n    <tr>\n      <th>2561920</th>\n      <td>2</td>\n      <td>2079887.0</td>\n      <td>353440</td>\n      <td>1</td>\n      <td>28.0</td>\n      <td>1.0</td>\n      <td>4.0</td>\n      <td>411010.0</td>\n      <td>1.0</td>\n      <td>0.0</td>\n      <td>...</td>\n      <td>3.0</td>\n      <td>24052022.0</td>\n      <td>6.0</td>\n      <td>0.0</td>\n      <td>1</td>\n      <td>1.0</td>\n      <td>5</td>\n      <td>1</td>\n      <td>5</td>\n      <td>2561921</td>\n    </tr>\n    <tr>\n      <th>2561921</th>\n      <td>2</td>\n      <td>5101654.0</td>\n      <td>353440</td>\n      <td>1</td>\n      <td>28.0</td>\n      <td>2.0</td>\n      <td>5.0</td>\n      <td>521110.0</td>\n      <td>1.0</td>\n      <td>0.0</td>\n      <td>...</td>\n      <td>3.0</td>\n      <td>26052022.0</td>\n      <td>8.0</td>\n      <td>0.0</td>\n      <td>1</td>\n      <td>1.0</td>\n      <td>10</td>\n      <td>1</td>\n      <td>5</td>\n      <td>2561922</td>\n    </tr>\n  </tbody>\n</table>\n<p>2561922 rows × 61 columns</p>\n</div>"
     },
     "execution_count": 7,
     "metadata": {},
     "output_type": "execute_result"
    }
   ],
   "source": [
    "file = pd.read_csv('DNOPEN22.csv', sep=';', low_memory=False)\n",
    "file"
   ],
   "metadata": {
    "collapsed": false,
    "ExecuteTime": {
     "end_time": "2024-01-18T19:08:22.055204600Z",
     "start_time": "2024-01-18T19:08:13.583470400Z"
    }
   },
   "id": "93df6e25ccd4b9ce",
   "execution_count": 7
  },
  {
   "cell_type": "code",
   "outputs": [
    {
     "data": {
      "text/plain": "(2561922, 61)"
     },
     "execution_count": 8,
     "metadata": {},
     "output_type": "execute_result"
    }
   ],
   "source": [
    "file.shape"
   ],
   "metadata": {
    "collapsed": false,
    "ExecuteTime": {
     "end_time": "2024-01-18T19:08:51.392227400Z",
     "start_time": "2024-01-18T19:08:51.381048200Z"
    }
   },
   "id": "faaca46b51c66586",
   "execution_count": 8
  }
 ],
 "metadata": {
  "kernelspec": {
   "display_name": "Python 3",
   "language": "python",
   "name": "python3"
  },
  "language_info": {
   "codemirror_mode": {
    "name": "ipython",
    "version": 2
   },
   "file_extension": ".py",
   "mimetype": "text/x-python",
   "name": "python",
   "nbconvert_exporter": "python",
   "pygments_lexer": "ipython2",
   "version": "2.7.6"
  }
 },
 "nbformat": 4,
 "nbformat_minor": 5
}
