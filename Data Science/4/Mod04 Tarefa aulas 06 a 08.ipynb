{
 "cells": [
  {
   "cell_type": "markdown",
   "metadata": {},
   "source": [
    "# Tarefa 03\n",
    "\n",
    "- Leia os enunciados com atenção\n",
    "- Saiba que pode haver mais de uma resposta correta\n",
    "- Insira novas células de código sempre que achar necessário\n",
    "- Em caso de dúvidas, procure os Tutores\n",
    "- Divirta-se :)"
   ]
  },
  {
   "cell_type": "code",
   "execution_count": 2,
   "metadata": {
    "ExecuteTime": {
     "end_time": "2023-12-31T19:23:35.865339500Z",
     "start_time": "2023-12-31T19:23:34.806047800Z"
    }
   },
   "outputs": [],
   "source": [
    "import pandas as pd\n",
    "import requests\n",
    "from urllib.parse import quote"
   ]
  },
  {
   "cell_type": "markdown",
   "metadata": {},
   "source": [
    "####  1) Lendo de APIs\n",
    "Vimos em aula como carregar dados públicos do governo através de um API (*Application Programming Interface*). No exemplo de aula, baixamos os dados de pedidos de verificação de limites (PVL) realizados por estados, e selecionamos apenas aqueles referentes ao estado de São Paulo.\n",
    "\n",
    "1. Repita os mesmos passos feitos em aula, mas selecione os PVLs realizados por municípios no estado do Rio de Janeiro.\n",
    "2. Quais são os três *status* das solicitações mais frequentes na base? Quais são suas frequências?\n",
    "3. Construa uma nova variável que contenha o ano do **status**. Observe que ```data_status``` vem como tipo *object* no **DataFrame**. Dica: você pode usar o método ```.str``` para transformar o tipo da variável em string, em seguida um método como [**slice()**](https://pandas.pydata.org/docs/reference/api/pandas.Series.str.slice.html) ou [**split()**](https://pandas.pydata.org/pandas-docs/stable/reference/api/pandas.Series.str.split.html).\n",
    "4. Indique a frequência de cada ano do campo construído no item (3)."
   ]
  },
  {
   "cell_type": "markdown",
   "source": [
    "* https://apidatalake.tesouro.gov.br/ords/sadipem/tt/pvl?uf=RJ&tipo_interessado=Estado"
   ],
   "metadata": {
    "collapsed": false
   }
  },
  {
   "cell_type": "code",
   "execution_count": 11,
   "metadata": {
    "ExecuteTime": {
     "end_time": "2023-12-31T19:26:41.873881200Z",
     "start_time": "2023-12-31T19:26:41.456279900Z"
    }
   },
   "outputs": [
    {
     "data": {
      "text/plain": "200"
     },
     "execution_count": 11,
     "metadata": {},
     "output_type": "execute_result"
    }
   ],
   "source": [
    "# 1) Seu código aqui\n",
    "url = 'https://apidatalake.tesouro.gov.br/ords/sadipem/tt/pvl?uf=RJ&tipo_interessado=Munic%c3%adpio'\n",
    "\n",
    "r = requests.get(url)\n",
    "data_json = r.json()\n",
    "r.status_code"
   ]
  },
  {
   "cell_type": "code",
   "outputs": [
    {
     "data": {
      "text/plain": "   id_pleito tipo_interessado          interessado  cod_ibge  uf  \\\n0       5290        Município    Casimiro de Abreu   3301306  RJ   \n1      61009        Município       Rio das Flores   3304508  RJ   \n2      66228        Município  São Pedro da Aldeia   3305208  RJ   \n3       6363        Município            Rio Claro   3304409  RJ   \n4       7907        Município             Mesquita   3302858  RJ   \n\n                num_pvl                          status          num_processo  \\\n0                  None                        Deferido  17944.000078/2014-81   \n1  PVL02.007214/2022-19  Arquivado por decurso de prazo  17944.103071/2022-20   \n2  PVL02.003177/2023-42               Deferido (PVL-IF)                  None   \n3                  None                    Regularizado  17944.000328/2008-34   \n4                  None                        Deferido  17944.000675/2010-81   \n\n         data_protocolo                tipo_operacao  \\\n0  2014-11-28T02:00:00Z  Operação contratual interna   \n1  2022-08-12T18:48:50Z  Operação contratual interna   \n2                  None  Operação contratual interna   \n3  2011-06-01T03:00:00Z  Operação contratual interna   \n4  2010-09-06T03:00:00Z  Operação contratual interna   \n\n                                          finalidade  \\\n0  PAC 2 - Pró-Transporte - Pavimentação e Qualif...   \n1                                     Infraestrutura   \n2                                     Infraestrutura   \n3         Regularização de Dívida - Energia Elétrica   \n4                                              PNAFM   \n\n                       tipo_credor                                credor  \\\n0  Instituição Financeira Nacional               Caixa Econômica Federal   \n1  Instituição Financeira Nacional               Caixa Econômica Federal   \n2  Instituição Financeira Nacional                   Banco do Brasil S/A   \n3              Empresa Não Estatal  Light - Serviços de Eletricidade S/A   \n4  Instituição Financeira Nacional               Caixa Econômica Federal   \n\n  moeda        valor  pvl_assoc_divida  pvl_contradado_credor data_status  \n0  Real  15024627.28                 1                      0  12/12/2014  \n1  Real   6000000.00                 0                      0  10/02/2023  \n2  Real   5500000.00                 0                      0  12/09/2023  \n3  Real   6733230.99                 0                      0  22/07/2011  \n4  Real   5106563.00                 1                      0  20/09/2010  ",
      "text/html": "<div>\n<style scoped>\n    .dataframe tbody tr th:only-of-type {\n        vertical-align: middle;\n    }\n\n    .dataframe tbody tr th {\n        vertical-align: top;\n    }\n\n    .dataframe thead th {\n        text-align: right;\n    }\n</style>\n<table border=\"1\" class=\"dataframe\">\n  <thead>\n    <tr style=\"text-align: right;\">\n      <th></th>\n      <th>id_pleito</th>\n      <th>tipo_interessado</th>\n      <th>interessado</th>\n      <th>cod_ibge</th>\n      <th>uf</th>\n      <th>num_pvl</th>\n      <th>status</th>\n      <th>num_processo</th>\n      <th>data_protocolo</th>\n      <th>tipo_operacao</th>\n      <th>finalidade</th>\n      <th>tipo_credor</th>\n      <th>credor</th>\n      <th>moeda</th>\n      <th>valor</th>\n      <th>pvl_assoc_divida</th>\n      <th>pvl_contradado_credor</th>\n      <th>data_status</th>\n    </tr>\n  </thead>\n  <tbody>\n    <tr>\n      <th>0</th>\n      <td>5290</td>\n      <td>Município</td>\n      <td>Casimiro de Abreu</td>\n      <td>3301306</td>\n      <td>RJ</td>\n      <td>None</td>\n      <td>Deferido</td>\n      <td>17944.000078/2014-81</td>\n      <td>2014-11-28T02:00:00Z</td>\n      <td>Operação contratual interna</td>\n      <td>PAC 2 - Pró-Transporte - Pavimentação e Qualif...</td>\n      <td>Instituição Financeira Nacional</td>\n      <td>Caixa Econômica Federal</td>\n      <td>Real</td>\n      <td>15024627.28</td>\n      <td>1</td>\n      <td>0</td>\n      <td>12/12/2014</td>\n    </tr>\n    <tr>\n      <th>1</th>\n      <td>61009</td>\n      <td>Município</td>\n      <td>Rio das Flores</td>\n      <td>3304508</td>\n      <td>RJ</td>\n      <td>PVL02.007214/2022-19</td>\n      <td>Arquivado por decurso de prazo</td>\n      <td>17944.103071/2022-20</td>\n      <td>2022-08-12T18:48:50Z</td>\n      <td>Operação contratual interna</td>\n      <td>Infraestrutura</td>\n      <td>Instituição Financeira Nacional</td>\n      <td>Caixa Econômica Federal</td>\n      <td>Real</td>\n      <td>6000000.00</td>\n      <td>0</td>\n      <td>0</td>\n      <td>10/02/2023</td>\n    </tr>\n    <tr>\n      <th>2</th>\n      <td>66228</td>\n      <td>Município</td>\n      <td>São Pedro da Aldeia</td>\n      <td>3305208</td>\n      <td>RJ</td>\n      <td>PVL02.003177/2023-42</td>\n      <td>Deferido (PVL-IF)</td>\n      <td>None</td>\n      <td>None</td>\n      <td>Operação contratual interna</td>\n      <td>Infraestrutura</td>\n      <td>Instituição Financeira Nacional</td>\n      <td>Banco do Brasil S/A</td>\n      <td>Real</td>\n      <td>5500000.00</td>\n      <td>0</td>\n      <td>0</td>\n      <td>12/09/2023</td>\n    </tr>\n    <tr>\n      <th>3</th>\n      <td>6363</td>\n      <td>Município</td>\n      <td>Rio Claro</td>\n      <td>3304409</td>\n      <td>RJ</td>\n      <td>None</td>\n      <td>Regularizado</td>\n      <td>17944.000328/2008-34</td>\n      <td>2011-06-01T03:00:00Z</td>\n      <td>Operação contratual interna</td>\n      <td>Regularização de Dívida - Energia Elétrica</td>\n      <td>Empresa Não Estatal</td>\n      <td>Light - Serviços de Eletricidade S/A</td>\n      <td>Real</td>\n      <td>6733230.99</td>\n      <td>0</td>\n      <td>0</td>\n      <td>22/07/2011</td>\n    </tr>\n    <tr>\n      <th>4</th>\n      <td>7907</td>\n      <td>Município</td>\n      <td>Mesquita</td>\n      <td>3302858</td>\n      <td>RJ</td>\n      <td>None</td>\n      <td>Deferido</td>\n      <td>17944.000675/2010-81</td>\n      <td>2010-09-06T03:00:00Z</td>\n      <td>Operação contratual interna</td>\n      <td>PNAFM</td>\n      <td>Instituição Financeira Nacional</td>\n      <td>Caixa Econômica Federal</td>\n      <td>Real</td>\n      <td>5106563.00</td>\n      <td>1</td>\n      <td>0</td>\n      <td>20/09/2010</td>\n    </tr>\n  </tbody>\n</table>\n</div>"
     },
     "execution_count": 12,
     "metadata": {},
     "output_type": "execute_result"
    }
   ],
   "source": [
    "df = pd.DataFrame(data_json['items'])\n",
    "df.head(5)"
   ],
   "metadata": {
    "collapsed": false,
    "ExecuteTime": {
     "end_time": "2023-12-31T19:26:43.657084Z",
     "start_time": "2023-12-31T19:26:43.645031900Z"
    }
   },
   "execution_count": 12
  },
  {
   "cell_type": "code",
   "execution_count": 13,
   "metadata": {
    "ExecuteTime": {
     "end_time": "2023-12-31T19:26:49.615542Z",
     "start_time": "2023-12-31T19:26:49.607759800Z"
    }
   },
   "outputs": [
    {
     "data": {
      "text/plain": "status\nDeferido                                                 105\nArquivado                                                 53\nRegularizado                                              26\nArquivado por decurso de prazo                            24\nDeferido (PVL-IF)                                         24\nEncaminhado à PGFN com manifestação técnica favorável     14\nArquivado a pedido                                         7\nEm retificação pelo interessado                            3\nArquivado a pedido (PVL-IF)                                1\nArquivado pela STN                                         1\nEm análise                                                 1\nName: count, dtype: int64"
     },
     "execution_count": 13,
     "metadata": {},
     "output_type": "execute_result"
    }
   ],
   "source": [
    "# 2) Seu código aqui\n",
    "\n",
    "df['status'].value_counts()\n",
    "#resposta: Deferido, Arquivado e Regularizado com 105, 53 e 26 incidências"
   ]
  },
  {
   "cell_type": "code",
   "execution_count": 14,
   "metadata": {
    "ExecuteTime": {
     "end_time": "2023-12-31T19:27:54.137957Z",
     "start_time": "2023-12-31T19:27:54.125201800Z"
    }
   },
   "outputs": [
    {
     "data": {
      "text/plain": "0      2014\n1      2023\n2      2023\n3      2011\n4      2010\n       ... \n254    2014\n255    2019\n256    2019\n257    2017\n258    2007\nName: ano_status, Length: 259, dtype: object"
     },
     "execution_count": 14,
     "metadata": {},
     "output_type": "execute_result"
    }
   ],
   "source": [
    "# 3) Seu código aqui\n",
    "\n",
    "df['data_status'].astype(str)\n",
    "\n",
    "df['ano_status'] = df['data_status'].str.slice(-4)\n",
    "df['ano_status']"
   ]
  },
  {
   "cell_type": "code",
   "outputs": [
    {
     "data": {
      "text/plain": "ano_status\n2008    37\n2007    29\n2023    29\n2014    20\n2010    19\n2019    16\n2020    15\n2013    15\n2012    13\n2022    11\n2011    10\n2009     9\n2015     8\n2017     5\n2021     5\n2002     4\n2016     4\n2018     4\n2006     4\n2003     1\n2004     1\nName: count, dtype: int64"
     },
     "execution_count": 15,
     "metadata": {},
     "output_type": "execute_result"
    }
   ],
   "source": [
    "# 4)\n",
    "df['ano_status'].value_counts()"
   ],
   "metadata": {
    "collapsed": false,
    "ExecuteTime": {
     "end_time": "2023-12-31T19:28:08.781212700Z",
     "start_time": "2023-12-31T19:28:08.768647300Z"
    }
   },
   "execution_count": 15
  },
  {
   "cell_type": "markdown",
   "metadata": {},
   "source": [
    "####  2) Melhorando a interação com o API\n",
    "Observe dois URLs de consultas diferentes, por exemplo o URL utilizado em aula, e o URL feito no exercício anterior. Compare-os e observe as diferenças.\n",
    "\n",
    "1. Faça uma função em Python que recebe como argumento o UF da consulta e o tipo de interessado (```'Estado'```ou ```Município```), e que devolve os dados da consulta no formato *DataFrame*.\n",
    "2. Quantas solicitações para o Estado podem ser consultadas para Minas Gerais com *status* em 'Arquivado por decurso de prazo' estão registradas?\n",
    "3. Qual é o município da Bahia com mais solicitações deferidas?\n",
    "4. Salve um arquivo .csv com os dados de solicitações da Bahia, com interessado = 'Estado'"
   ]
  },
  {
   "cell_type": "code",
   "execution_count": 8,
   "metadata": {
    "ExecuteTime": {
     "end_time": "2023-12-31T19:25:55.356484100Z",
     "start_time": "2023-12-31T19:25:55.334957500Z"
    }
   },
   "outputs": [],
   "source": [
    "#1) Seu código aqui\n",
    "\n",
    "def query_sadipem(uf = str, tipo_interessado = str):\n",
    "\n",
    "    # Definindo variações da palavra município para que digitar sem acento também funcione, assim como uma opção padrão\n",
    "    tipo_interessado_variations = ['município', 'estado']\n",
    "\n",
    "    if tipo_interessado.lower() not in tipo_interessado_variations:\n",
    "        tipo_interessado = 'município'\n",
    "    #usando função quote do urrlib.parse para resolver de forma elegante a codificação do i com acento da palavra 'município' que pode causar problemas na URL\n",
    "    tipo_interessado_encoded = quote(tipo_interessado)\n",
    "    \n",
    "    #definição de variáveis\n",
    "    url = f'https://apidatalake.tesouro.gov.br/ords/sadipem/tt/pvl?uf={uf.upper()}&tipo_interessado={tipo_interessado_encoded.capitalize()}'\n",
    "    \n",
    "    #puxando dados da url\n",
    "    r = requests.get(url)\n",
    "    \n",
    "    #preparando json para manipulação\n",
    "    data_json = r.json()\n",
    "    \n",
    "    #criação do DataFrame e exibição do mesmo\n",
    "    if r.status_code == 200:\n",
    "        df = pd.DataFrame(data_json['items'])\n",
    "        print(url)\n",
    "        return df\n",
    "    else:\n",
    "        print(f'Erro: Código {r.status_code}')"
   ]
  },
  {
   "cell_type": "code",
   "execution_count": 48,
   "metadata": {
    "ExecuteTime": {
     "end_time": "2023-12-31T05:07:36.035194200Z",
     "start_time": "2023-12-31T05:07:35.663641100Z"
    }
   },
   "outputs": [
    {
     "data": {
      "text/plain": "status\nEncaminhado à PGFN com manifestação técnica favorável    20\nDeferido                                                  7\nArquivado a pedido                                        5\nArquivado                                                 3\nArquivado pela STN                                        3\nArquivado por decurso de prazo                            1\nIndeferido                                                1\nName: count, dtype: int64"
     },
     "execution_count": 48,
     "metadata": {},
     "output_type": "execute_result"
    }
   ],
   "source": [
    "# 2) Seu código aqui\n",
    "\n",
    "query_mg = query_sadipem('mg', 'estado')\n",
    "\n",
    "query_mg['status'].value_counts()\n",
    "\n",
    "#resposta: 1"
   ]
  },
  {
   "cell_type": "code",
   "execution_count": 55,
   "metadata": {
    "ExecuteTime": {
     "end_time": "2023-12-31T05:12:54.066718400Z",
     "start_time": "2023-12-31T05:12:53.674494Z"
    }
   },
   "outputs": [
    {
     "data": {
      "text/plain": "interessado\nCamaçari                  19\nLuís Eduardo Magalhães    18\nSalvador                  18\nVitória da Conquista      15\nIrecê                     14\n                          ..\nSerrolândia                1\nCrisópolis                 1\nBarro Alto                 1\nQuijingue                  1\nSanta Brígida              1\nName: count, Length: 297, dtype: int64"
     },
     "execution_count": 55,
     "metadata": {},
     "output_type": "execute_result"
    }
   ],
   "source": [
    "# 3) Seu código aqui\n",
    "\n",
    "query_ba = query_sadipem('ba', 'municipio')\n",
    "query_ba['interessado'].value_counts()\n",
    "\n",
    "#resposta: Camaçari"
   ]
  },
  {
   "cell_type": "code",
   "execution_count": 57,
   "metadata": {
    "ExecuteTime": {
     "end_time": "2023-12-31T05:15:23.486645100Z",
     "start_time": "2023-12-31T05:15:23.090666300Z"
    }
   },
   "outputs": [],
   "source": [
    "# 4) Seu código aqui\n",
    "\n",
    "query_ba = query_sadipem('ba', 'estado')\n",
    "query_ba.to_csv('./output/query_bahia_estado.csv', index= False, sep=';', decimal=',')"
   ]
  }
 ],
 "metadata": {
  "kernelspec": {
   "display_name": "Python 3",
   "language": "python",
   "name": "python3"
  },
  "language_info": {
   "codemirror_mode": {
    "name": "ipython",
    "version": 3
   },
   "file_extension": ".py",
   "mimetype": "text/x-python",
   "name": "python",
   "nbconvert_exporter": "python",
   "pygments_lexer": "ipython3",
   "version": "3.8.5"
  }
 },
 "nbformat": 4,
 "nbformat_minor": 4
}
