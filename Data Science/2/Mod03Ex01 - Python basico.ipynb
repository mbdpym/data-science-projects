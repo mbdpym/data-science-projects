{
 "cells": [
  {
   "cell_type": "markdown",
   "metadata": {
    "id": "SEE0vQsW83yB"
   },
   "source": [
    "### 01 - Teste de gravidez\n",
    "Escreva uma célula com controle de fluxos que tem como premissa a existência das seguintes variáveis:\n",
    "\n",
    "- ```sexo``` como ```str``` indicando os valores '**M**' para masculino e '**F**' para feminino  \n",
    "- ```beta_hcg``` que indica a quantidade do beta-HCG no sangue em mUI/mL.\n",
    "\n",
    "A sua tarefa é escrever um código que imprima como resultado \"indivíduo do sexo masculino\" quando sexo = 'M', caso sexo = 'F', se o valor de beta-HCG for maior que 5, retorne \"Positivo\" indicando que a paciente está grávida, e retorne \"Negativo\" caso contrário.\n",
    "\n",
    "Não mexa nos valores da variável ```sexo``` nem em ```beta_hcg```, e escreva um código que funcione para quaisquer valores possíveis de ambos: ```sexo``` = '**M**' ou '**F**' e ```beta_hcg``` assumindo valores inteiros positivos."
   ]
  },
  {
   "cell_type": "code",
   "execution_count": 1,
   "metadata": {
    "id": "cTOc4LG683yE",
    "ExecuteTime": {
     "end_time": "2023-12-24T22:26:09.256559800Z",
     "start_time": "2023-12-24T22:26:09.245583200Z"
    }
   },
   "outputs": [
    {
     "name": "stdout",
     "output_type": "stream",
     "text": [
      "Individuo do sexo Feminino\n",
      "Positivo, beta_hcg = 6\n"
     ]
    }
   ],
   "source": [
    "sexo = 'F'\n",
    "beta_hcg = 6\n",
    "\n",
    "# seu código vem abaixo desta linha\n",
    "if sexo == 'M':\n",
    "    print('Indivíduo do sexo Masculino')\n",
    "elif sexo == 'F':\n",
    "    print('Individuo do sexo Feminino')\n",
    "    if beta_hcg <= 5:\n",
    "        print(f'Negativo, beta_hcg = {beta_hcg}')\n",
    "    else:\n",
    "        print(f'Positivo, beta_hcg = {beta_hcg}')"
   ]
  },
  {
   "cell_type": "markdown",
   "metadata": {
    "id": "uCoIZDE383yF"
   },
   "source": [
    "### 02 - Renomeando variáveis\n",
    "\n",
    "Vamos ver adiante que uma forma de renomear variáveis de um conjunto de dados é através de dicionários - o dicionário deve conter como chave o nome original, associando a cada chave um único valor (tipo *str*) que contenha o nome novo.\n",
    "\n",
    "A sua tarefa é escrever um dicionário que possa ser utilizado para traduzir as variáveis ```name``` (nome), ```age``` (idade) e ```income``` (renda). Ou seja, esse dicionário deve relacionar as chaves *name, age* e *income* às suas respectivas traduções."
   ]
  },
  {
   "cell_type": "code",
   "execution_count": 2,
   "metadata": {
    "id": "Bh6ijpbu83yG",
    "outputId": "58fbd8da-ed1d-4e05-df85-041c821948f2",
    "ExecuteTime": {
     "end_time": "2023-12-24T22:26:09.259568800Z",
     "start_time": "2023-12-24T22:26:09.253191600Z"
    }
   },
   "outputs": [
    {
     "data": {
      "text/plain": "{'name': 'nome', 'age': 'idade', 'income': 'renda'}"
     },
     "execution_count": 2,
     "metadata": {},
     "output_type": "execute_result"
    }
   ],
   "source": [
    "dic_renomeacao = {'name': 'nome','age': 'idade', 'income': 'renda'}\n",
    "dic_renomeacao"
   ]
  },
  {
   "cell_type": "markdown",
   "metadata": {
    "id": "95zumO5g83yH"
   },
   "source": [
    "### 03 - É divisível?\n",
    "A sua tarefa é escrever um código que indique se um número ```N``` é divisível por um número P. Escreva um programa que faça essa verificação para quaisquer combinações de ```N``` e ```M``` e devolva uma mensagem indicativa no output."
   ]
  },
  {
   "cell_type": "code",
   "execution_count": 3,
   "metadata": {
    "id": "BR2zOhmN83yI",
    "ExecuteTime": {
     "end_time": "2023-12-24T22:26:09.295941600Z",
     "start_time": "2023-12-24T22:26:09.256559800Z"
    }
   },
   "outputs": [
    {
     "name": "stdout",
     "output_type": "stream",
     "text": [
      "42 é divisível por 7\n"
     ]
    }
   ],
   "source": [
    "N = 42\n",
    "M = 7\n",
    "\n",
    "#O seu código\n",
    "if N % M == 0:\n",
    "    print(f'{N} é divisível por {M}')\n",
    "else:\n",
    "    print(f'{N} não é divisível por {M}')"
   ]
  },
  {
   "cell_type": "markdown",
   "metadata": {
    "id": "0d5Kdrz283yJ"
   },
   "source": [
    "### 04 - Números primos\n",
    "> Um número **N** é primo se e somente se é divisível por 1, -1, por **N** e por -**N**.  \n",
    "\n",
    "Escreva um script que verifica se ```N``` é um número primo, verificando se ```N``` é divisível por todos os números de ```1``` a ```N-1```. Você vai precisar usar alguma ferramenta de *loop* que você aprendeu para isto. No final, devolva uma mensagem no output indicando se o número é primo ou não."
   ]
  },
  {
   "cell_type": "code",
   "execution_count": 4,
   "metadata": {
    "id": "h_lFO-EO83yJ",
    "ExecuteTime": {
     "end_time": "2023-12-24T22:26:09.296441600Z",
     "start_time": "2023-12-24T22:26:09.259568800Z"
    }
   },
   "outputs": [
    {
     "name": "stdout",
     "output_type": "stream",
     "text": [
      "3 é primo\n"
     ]
    }
   ],
   "source": [
    "N = 3\n",
    "\n",
    "# seu código abaixo\n",
    "while N > 1:\n",
    "    isNotPrime = False\n",
    "    for i in range (2, N):\n",
    "        if N % i == 0:\n",
    "            isNotPrime = True\n",
    "            break\n",
    "    if isNotPrime:\n",
    "        print (f'{N} não é primo')\n",
    "        break\n",
    "    else:\n",
    "        print (f'{N} é primo')\n",
    "        break\n",
    "            "
   ]
  },
  {
   "cell_type": "markdown",
   "metadata": {
    "id": "zHwDnURO83yK"
   },
   "source": [
    "### 05 - Desafio\n",
    "O algorítmo do exercício anterior não é o mais eficiente. O que você pode fazer para deixá-lo mais eficiente? Ou seja, executar menos comparações, portanto consumir menos tempo.\n",
    "1. Será que precisamos correr o loop até o final sempre?\n",
    "2. Será que precisamos mesmo verificar **todos** os números?\n",
    "3. Será que precisamos ir até N-1?\n",
    "\n",
    "Essas perguntas levam ao tipo de pensamento voltado a deixar um algoritmo mais eficiente. Veja se você consegue melhorar o seu."
   ]
  },
  {
   "cell_type": "code",
   "execution_count": 5,
   "metadata": {
    "id": "DDdwfZOL83yM",
    "ExecuteTime": {
     "end_time": "2023-12-24T22:26:09.296941900Z",
     "start_time": "2023-12-24T22:26:09.264692100Z"
    }
   },
   "outputs": [
    {
     "name": "stdout",
     "output_type": "stream",
     "text": [
      "44 não é primo\n"
     ]
    }
   ],
   "source": [
    "# seu código aqui\n",
    "def primecheck(N):\n",
    "    if N <= 1:\n",
    "        print (f'{N} não é primo')\n",
    "    else:\n",
    "        is_prime = True\n",
    "        for i in range (2, int(N**0.5) + 1): #calcular até a raíz quadrada já garante o estado de primo ou não primo\n",
    "            if N % i == 0:\n",
    "                is_prime = False\n",
    "                break\n",
    "        if is_prime:\n",
    "            print(f'{N} é primo')\n",
    "        else:\n",
    "            print(f'{N} não é primo')\n",
    "\n",
    "primecheck(44)"
   ]
  },
  {
   "cell_type": "markdown",
   "metadata": {
    "id": "4zhVSQan83yN"
   },
   "source": [
    "### 06 - Peso ideal 1\n",
    "O IMC (índice de massa corpórea) é um indicador de saúde mais bem aceito que o peso. Ele é calculado como:\n",
    "\n",
    "$$ IMC = \\dfrac{peso}{altura^2}$$\n",
    "\n",
    "Segundo a OMS, valores *normais* são entre 18.5 e 24.9.\n",
    "\n",
    "Sua tarefa é encontrar o ponto médio dessa faixa."
   ]
  },
  {
   "cell_type": "code",
   "execution_count": 6,
   "metadata": {
    "id": "3DzxicN983yO",
    "outputId": "6a947e58-88b2-4764-a9ca-717b971adb3d",
    "ExecuteTime": {
     "end_time": "2023-12-24T22:26:09.297945400Z",
     "start_time": "2023-12-24T22:26:09.266997100Z"
    }
   },
   "outputs": [
    {
     "data": {
      "text/plain": "21.7"
     },
     "execution_count": 6,
     "metadata": {},
     "output_type": "execute_result"
    }
   ],
   "source": [
    "imc_ideal = (18.5 + 24.9) / 2\n",
    "imc_ideal"
   ]
  },
  {
   "cell_type": "markdown",
   "metadata": {
    "id": "Z8uBOym483yP"
   },
   "source": [
    "### 07 - Peso ideal 2\n",
    "Recebendo um valor de altura, encontre o peso '*ideal*' dessa pessoa, que fornece o IMC encontrado acima"
   ]
  },
  {
   "cell_type": "code",
   "execution_count": 7,
   "metadata": {
    "id": "rrNwycte83yP",
    "outputId": "0e63b2ff-3743-48c7-a472-b48a450a0867",
    "ExecuteTime": {
     "end_time": "2023-12-24T22:26:09.297945400Z",
     "start_time": "2023-12-24T22:26:09.271466300Z"
    }
   },
   "outputs": [
    {
     "data": {
      "text/plain": "62.71"
     },
     "execution_count": 7,
     "metadata": {},
     "output_type": "execute_result"
    }
   ],
   "source": [
    "altura = 1.70\n",
    "\n",
    "# Seu código\n",
    "peso_ideal = (altura**2) * imc_ideal\n",
    "round(peso_ideal, 2)"
   ]
  },
  {
   "cell_type": "markdown",
   "metadata": {
    "id": "zEdM6J_i83yP"
   },
   "source": [
    "### 08 - Peso ideal 3\n",
    "Dada uma lista contendo as alturas de pacientes, crie uma nova lista que contenha o peso '*ideal*' (que fornece o IMC calculado em **Peso ideal 1**) desses pacientes."
   ]
  },
  {
   "cell_type": "code",
   "execution_count": 8,
   "metadata": {
    "id": "KN1mB_My83yQ",
    "outputId": "f070d54d-c156-4546-e3c7-b5bc500059d9",
    "ExecuteTime": {
     "end_time": "2023-12-24T22:26:09.298449500Z",
     "start_time": "2023-12-24T22:26:09.274935900Z"
    }
   },
   "outputs": [
    {
     "data": {
      "text/plain": "[82.51, 91.19, 62.71, 59.08]"
     },
     "execution_count": 8,
     "metadata": {},
     "output_type": "execute_result"
    }
   ],
   "source": [
    "lista_alturas = [1.95, 2.05, 1.70, 1.65]\n",
    "\n",
    "lista_peso_ideal = []\n",
    "\n",
    "# seu código\n",
    "for altura in lista_alturas:\n",
    "    peso = (altura**2) * imc_ideal\n",
    "    lista_peso_ideal.append(round(peso, 2))\n",
    "\n",
    "lista_peso_ideal"
   ]
  },
  {
   "cell_type": "markdown",
   "metadata": {
    "id": "8OKAtYQM83yQ"
   },
   "source": [
    "### 09 - Peso ideal 4\n",
    "Dada uma lista de tuplas - cada elemento da lista é uma tupla contendo altura e peso de um paciente - crie uma nova lista com o IMC desses pacientes."
   ]
  },
  {
   "cell_type": "code",
   "execution_count": 9,
   "metadata": {
    "id": "FaXgkjzI83yQ",
    "outputId": "8adc5e59-8a72-42db-db6b-6895587e875e",
    "ExecuteTime": {
     "end_time": "2023-12-24T22:26:09.380518700Z",
     "start_time": "2023-12-24T22:26:09.279716300Z"
    }
   },
   "outputs": [
    {
     "data": {
      "text/plain": "[27.78, 27.55, 19.19]"
     },
     "execution_count": 9,
     "metadata": {},
     "output_type": "execute_result"
    }
   ],
   "source": [
    "altura_peso = [(1.80, 90), (1.65, 75), (1.91, 70)]\n",
    "\n",
    "imc = []\n",
    "\n",
    "# seu código\n",
    "for element in altura_peso:\n",
    "    imc_pessoa = (element[1] / (element[0]**2))\n",
    "    imc.append(round(imc_pessoa, 2))\n",
    "imc"
   ]
  },
  {
   "cell_type": "markdown",
   "metadata": {
    "id": "kZdSJqJq83yR"
   },
   "source": [
    "### 10 - Peso ideal 5\n",
    "Dada uma lista de **listas** - cada elemento da lista é uma **lista** contendo altura e peso de um paciente, adicione mais um elemento à lista de cada paciente contendo o IMC do paciente. Verifique também se é 'baixo', 'normal' ou 'alto' segundo os padrões da OMS em que normal é entre 18.5 e 24.9.\n",
    "\n",
    "Reflexão: por que no problema anterior temos que criar uma nova lista, e não podemos adicionar os dados de cada indivíduo à tupla?"
   ]
  },
  {
   "cell_type": "markdown",
   "source": [
    "**Resposta: Não podemos modificar tuplas pois elas foram criadas com o propósito de serem imutáveis. Caso mutabilidade seja necessária, devemos usar listas.**"
   ],
   "metadata": {
    "collapsed": false
   }
  },
  {
   "cell_type": "code",
   "execution_count": 10,
   "metadata": {
    "id": "EwszojP283yR",
    "ExecuteTime": {
     "end_time": "2023-12-24T22:26:09.381018600Z",
     "start_time": "2023-12-24T22:26:09.283389100Z"
    }
   },
   "outputs": [
    {
     "data": {
      "text/plain": "[[1.8, 90, 27.78], [1.65, 75, 27.55], [1.91, 70, 19.19]]"
     },
     "execution_count": 10,
     "metadata": {},
     "output_type": "execute_result"
    }
   ],
   "source": [
    "altura_peso = [[1.80, 90], [1.65, 75], [1.91, 70]]\n",
    "\n",
    "# seu código\n",
    "for element in altura_peso:\n",
    "    imc_pessoa = (element[1] / (element[0]**2))\n",
    "    element.append(round(imc_pessoa, 2))\n",
    "    \n",
    "altura_peso"
   ]
  }
 ],
 "metadata": {
  "kernelspec": {
   "display_name": "Python 3",
   "language": "python",
   "name": "python3"
  },
  "language_info": {
   "codemirror_mode": {
    "name": "ipython",
    "version": 3
   },
   "file_extension": ".py",
   "mimetype": "text/x-python",
   "name": "python",
   "nbconvert_exporter": "python",
   "pygments_lexer": "ipython3",
   "version": "3.8.5"
  },
  "colab": {
   "provenance": [],
   "collapsed_sections": []
  }
 },
 "nbformat": 4,
 "nbformat_minor": 0
}
