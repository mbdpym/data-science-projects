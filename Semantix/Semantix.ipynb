{
 "cells": [
  {
   "cell_type": "code",
   "execution_count": 2,
   "id": "initial_id",
   "metadata": {
    "collapsed": true,
    "ExecuteTime": {
     "end_time": "2024-01-03T15:52:52.395543500Z",
     "start_time": "2024-01-03T15:52:51.207033Z"
    }
   },
   "outputs": [],
   "source": [
    "import pandas as pd\n",
    "import numpy as np"
   ]
  },
  {
   "cell_type": "code",
   "outputs": [
    {
     "data": {
      "text/plain": "             date                category                        name  change  \\\n348    2008-11-01  Video Card Description             ATI Radeon 9200 -0.0020   \n349    2008-11-01  Video Card Description             ATI Radeon 9550 -0.0004   \n350    2008-11-01  Video Card Description             ATI Radeon 9600 -0.0009   \n351    2008-11-01  Video Card Description             ATI Radeon 9800 -0.0004   \n352    2008-11-01  Video Card Description          ATI Radeon HD 2400 -0.0003   \n...           ...                     ...                         ...     ...   \n56139  2023-12-01  Video Card Description  NVIDIA GeForce RTX 4070 Ti  0.0006   \n56140  2023-12-01  Video Card Description     NVIDIA GeForce RTX 4080  0.0004   \n56141  2023-12-01  Video Card Description     NVIDIA GeForce RTX 4090 -0.0001   \n56142  2023-12-01  Video Card Description                       Other  0.0022   \n56143  2023-12-01  Video Card Description            RDPDD Chained DD  0.0059   \n\n       percentage  \n348        0.0149  \n349        0.0082  \n350        0.0173  \n351        0.0055  \n352        0.0065  \n...           ...  \n56139      0.0112  \n56140      0.0071  \n56141      0.0087  \n56142      0.1033  \n56143      0.0074  \n\n[12862 rows x 5 columns]",
      "text/html": "<div>\n<style scoped>\n    .dataframe tbody tr th:only-of-type {\n        vertical-align: middle;\n    }\n\n    .dataframe tbody tr th {\n        vertical-align: top;\n    }\n\n    .dataframe thead th {\n        text-align: right;\n    }\n</style>\n<table border=\"1\" class=\"dataframe\">\n  <thead>\n    <tr style=\"text-align: right;\">\n      <th></th>\n      <th>date</th>\n      <th>category</th>\n      <th>name</th>\n      <th>change</th>\n      <th>percentage</th>\n    </tr>\n  </thead>\n  <tbody>\n    <tr>\n      <th>348</th>\n      <td>2008-11-01</td>\n      <td>Video Card Description</td>\n      <td>ATI Radeon 9200</td>\n      <td>-0.0020</td>\n      <td>0.0149</td>\n    </tr>\n    <tr>\n      <th>349</th>\n      <td>2008-11-01</td>\n      <td>Video Card Description</td>\n      <td>ATI Radeon 9550</td>\n      <td>-0.0004</td>\n      <td>0.0082</td>\n    </tr>\n    <tr>\n      <th>350</th>\n      <td>2008-11-01</td>\n      <td>Video Card Description</td>\n      <td>ATI Radeon 9600</td>\n      <td>-0.0009</td>\n      <td>0.0173</td>\n    </tr>\n    <tr>\n      <th>351</th>\n      <td>2008-11-01</td>\n      <td>Video Card Description</td>\n      <td>ATI Radeon 9800</td>\n      <td>-0.0004</td>\n      <td>0.0055</td>\n    </tr>\n    <tr>\n      <th>352</th>\n      <td>2008-11-01</td>\n      <td>Video Card Description</td>\n      <td>ATI Radeon HD 2400</td>\n      <td>-0.0003</td>\n      <td>0.0065</td>\n    </tr>\n    <tr>\n      <th>...</th>\n      <td>...</td>\n      <td>...</td>\n      <td>...</td>\n      <td>...</td>\n      <td>...</td>\n    </tr>\n    <tr>\n      <th>56139</th>\n      <td>2023-12-01</td>\n      <td>Video Card Description</td>\n      <td>NVIDIA GeForce RTX 4070 Ti</td>\n      <td>0.0006</td>\n      <td>0.0112</td>\n    </tr>\n    <tr>\n      <th>56140</th>\n      <td>2023-12-01</td>\n      <td>Video Card Description</td>\n      <td>NVIDIA GeForce RTX 4080</td>\n      <td>0.0004</td>\n      <td>0.0071</td>\n    </tr>\n    <tr>\n      <th>56141</th>\n      <td>2023-12-01</td>\n      <td>Video Card Description</td>\n      <td>NVIDIA GeForce RTX 4090</td>\n      <td>-0.0001</td>\n      <td>0.0087</td>\n    </tr>\n    <tr>\n      <th>56142</th>\n      <td>2023-12-01</td>\n      <td>Video Card Description</td>\n      <td>Other</td>\n      <td>0.0022</td>\n      <td>0.1033</td>\n    </tr>\n    <tr>\n      <th>56143</th>\n      <td>2023-12-01</td>\n      <td>Video Card Description</td>\n      <td>RDPDD Chained DD</td>\n      <td>0.0059</td>\n      <td>0.0074</td>\n    </tr>\n  </tbody>\n</table>\n<p>12862 rows × 5 columns</p>\n</div>"
     },
     "execution_count": 44,
     "metadata": {},
     "output_type": "execute_result"
    }
   ],
   "source": [
    "shs = pd.read_csv('https://raw.githubusercontent.com/jdegene/steamHWsurvey/master/shs.csv', sep=',',decimal='.')\n",
    "shs[shs['category'] == 'Video Card Description']"
   ],
   "metadata": {
    "collapsed": false,
    "ExecuteTime": {
     "end_time": "2024-01-03T17:45:14.424235700Z",
     "start_time": "2024-01-03T17:45:13.603940400Z"
    }
   },
   "id": "2f7e14b7a86521be",
   "execution_count": 44
  },
  {
   "cell_type": "code",
   "outputs": [
    {
     "data": {
      "text/plain": "category\nVideo Card Description                            12862\nMulti-Monitor Desktop Resolution                   9862\nPrimary Display Resolution                         4526\nLanguage                                           4285\nOS Version                                         2908\nPhysical CPUs                                      2900\nVRAM                                               2165\nOther Settings                                     2150\nSystem RAM                                         2055\nIntel CPU Speeds                                   1638\nFree Hard Drive Space                              1406\nDirectX 10 Systems (Vista with DirectX 10 GPU)     1320\nVR Headsets                                        1230\nTotal Hard Drive Space                             1220\nNetwork Speed                                      1142\nDirectX 10 GPUs                                     686\nDirectX 9 Shader Model 2b and 3.0 GPUs              600\nATI Drivers                                         493\nDirectX 10 Systems (Vista/Win7 & DX 10 GPU)         478\nMicrophones                                         393\nNVIDIA Drivers                                      356\nDirectX 9 Shader Model 2.0 GPUs                     334\nVideo Card Driver Name                              263\nAudio Devices                                       256\nAMD CPU Speeds                                      170\nWindows Version                                     146\nMSAA Support Level                                   68\nMulti-GPU Systems                                    68\nDrive Type                                           51\nProcessor Vendor                                     42\nDirectX 11 Systems (Vista/Win7 & DX 11 GPU)          37\nDirectX 11 GPUs                                      34\nName: count, dtype: int64"
     },
     "execution_count": 11,
     "metadata": {},
     "output_type": "execute_result"
    }
   ],
   "source": [
    "shs['category'].value_counts()"
   ],
   "metadata": {
    "collapsed": false,
    "ExecuteTime": {
     "end_time": "2024-01-03T16:42:50.578205100Z",
     "start_time": "2024-01-03T16:42:50.545276500Z"
    }
   },
   "id": "2d2a87cc0e4a038f",
   "execution_count": 11
  },
  {
   "cell_type": "code",
   "outputs": [],
   "source": [
    "#selecting graphics cards\n",
    "graphics_cards = shs[(shs['category'] == 'Video Card Description')].copy()"
   ],
   "metadata": {
    "collapsed": false,
    "ExecuteTime": {
     "end_time": "2024-01-03T17:52:15.342617700Z",
     "start_time": "2024-01-03T17:52:15.322081600Z"
    }
   },
   "id": "8627daeda3adb377",
   "execution_count": 69
  },
  {
   "cell_type": "code",
   "outputs": [],
   "source": [
    "#informing the date format\n",
    "graphics_cards['date'] = pd.to_datetime(graphics_cards['date'], format='%Y-%m-%d')"
   ],
   "metadata": {
    "collapsed": false,
    "ExecuteTime": {
     "end_time": "2024-01-03T17:52:16.449365Z",
     "start_time": "2024-01-03T17:52:16.440956600Z"
    }
   },
   "id": "828b014de91eadf8",
   "execution_count": 70
  },
  {
   "cell_type": "code",
   "outputs": [],
   "source": [
    "#multiplying percentage column for ease of viewing\n",
    "graphics_cards['percentage'] *= 100\n",
    "graphics_cards['change'] *= 100"
   ],
   "metadata": {
    "collapsed": false,
    "ExecuteTime": {
     "end_time": "2024-01-03T17:52:17.370376400Z",
     "start_time": "2024-01-03T17:52:17.355353300Z"
    }
   },
   "id": "164235d6cf03cade",
   "execution_count": 71
  },
  {
   "cell_type": "code",
   "outputs": [
    {
     "data": {
      "text/plain": "            date                category                     name  change  \\\n52447 2023-01-01  Video Card Description  NVIDIA GeForce RTX 4090    0.23   \n52783 2023-02-01  Video Card Description  NVIDIA GeForce RTX 4090    0.07   \n53086 2023-03-01  Video Card Description  NVIDIA GeForce RTX 4090    0.02   \n53427 2023-04-01  Video Card Description  NVIDIA GeForce RTX 4090    0.17   \n53772 2023-05-01  Video Card Description  NVIDIA GeForce RTX 4090    0.01   \n54115 2023-06-01  Video Card Description  NVIDIA GeForce RTX 4090    0.11   \n54455 2023-07-01  Video Card Description  NVIDIA GeForce RTX 4090    0.10   \n54800 2023-08-01  Video Card Description  NVIDIA GeForce RTX 4090    0.12   \n55139 2023-09-01  Video Card Description  NVIDIA GeForce RTX 4090   -0.05   \n55456 2023-10-01  Video Card Description  NVIDIA GeForce RTX 4090   -0.10   \n55796 2023-11-01  Video Card Description  NVIDIA GeForce RTX 4090    0.27   \n56141 2023-12-01  Video Card Description  NVIDIA GeForce RTX 4090   -0.01   \n\n       percentage  \n52447        0.23  \n52783        0.30  \n53086        0.25  \n53427        0.42  \n53772        0.43  \n54115        0.54  \n54455        0.64  \n54800        0.76  \n55139        0.71  \n55456        0.61  \n55796        0.88  \n56141        0.87  ",
      "text/html": "<div>\n<style scoped>\n    .dataframe tbody tr th:only-of-type {\n        vertical-align: middle;\n    }\n\n    .dataframe tbody tr th {\n        vertical-align: top;\n    }\n\n    .dataframe thead th {\n        text-align: right;\n    }\n</style>\n<table border=\"1\" class=\"dataframe\">\n  <thead>\n    <tr style=\"text-align: right;\">\n      <th></th>\n      <th>date</th>\n      <th>category</th>\n      <th>name</th>\n      <th>change</th>\n      <th>percentage</th>\n    </tr>\n  </thead>\n  <tbody>\n    <tr>\n      <th>52447</th>\n      <td>2023-01-01</td>\n      <td>Video Card Description</td>\n      <td>NVIDIA GeForce RTX 4090</td>\n      <td>0.23</td>\n      <td>0.23</td>\n    </tr>\n    <tr>\n      <th>52783</th>\n      <td>2023-02-01</td>\n      <td>Video Card Description</td>\n      <td>NVIDIA GeForce RTX 4090</td>\n      <td>0.07</td>\n      <td>0.30</td>\n    </tr>\n    <tr>\n      <th>53086</th>\n      <td>2023-03-01</td>\n      <td>Video Card Description</td>\n      <td>NVIDIA GeForce RTX 4090</td>\n      <td>0.02</td>\n      <td>0.25</td>\n    </tr>\n    <tr>\n      <th>53427</th>\n      <td>2023-04-01</td>\n      <td>Video Card Description</td>\n      <td>NVIDIA GeForce RTX 4090</td>\n      <td>0.17</td>\n      <td>0.42</td>\n    </tr>\n    <tr>\n      <th>53772</th>\n      <td>2023-05-01</td>\n      <td>Video Card Description</td>\n      <td>NVIDIA GeForce RTX 4090</td>\n      <td>0.01</td>\n      <td>0.43</td>\n    </tr>\n    <tr>\n      <th>54115</th>\n      <td>2023-06-01</td>\n      <td>Video Card Description</td>\n      <td>NVIDIA GeForce RTX 4090</td>\n      <td>0.11</td>\n      <td>0.54</td>\n    </tr>\n    <tr>\n      <th>54455</th>\n      <td>2023-07-01</td>\n      <td>Video Card Description</td>\n      <td>NVIDIA GeForce RTX 4090</td>\n      <td>0.10</td>\n      <td>0.64</td>\n    </tr>\n    <tr>\n      <th>54800</th>\n      <td>2023-08-01</td>\n      <td>Video Card Description</td>\n      <td>NVIDIA GeForce RTX 4090</td>\n      <td>0.12</td>\n      <td>0.76</td>\n    </tr>\n    <tr>\n      <th>55139</th>\n      <td>2023-09-01</td>\n      <td>Video Card Description</td>\n      <td>NVIDIA GeForce RTX 4090</td>\n      <td>-0.05</td>\n      <td>0.71</td>\n    </tr>\n    <tr>\n      <th>55456</th>\n      <td>2023-10-01</td>\n      <td>Video Card Description</td>\n      <td>NVIDIA GeForce RTX 4090</td>\n      <td>-0.10</td>\n      <td>0.61</td>\n    </tr>\n    <tr>\n      <th>55796</th>\n      <td>2023-11-01</td>\n      <td>Video Card Description</td>\n      <td>NVIDIA GeForce RTX 4090</td>\n      <td>0.27</td>\n      <td>0.88</td>\n    </tr>\n    <tr>\n      <th>56141</th>\n      <td>2023-12-01</td>\n      <td>Video Card Description</td>\n      <td>NVIDIA GeForce RTX 4090</td>\n      <td>-0.01</td>\n      <td>0.87</td>\n    </tr>\n  </tbody>\n</table>\n</div>"
     },
     "execution_count": 72,
     "metadata": {},
     "output_type": "execute_result"
    }
   ],
   "source": [
    "#selecting desired columns\n",
    "graphics_cards = graphics_cards[(graphics_cards['category'] == 'Video Card Description') &\n",
    "                                (graphics_cards['date'].dt.year == 2023) &\n",
    "                                #(graphics_cards['date'].dt.month == 12) &\n",
    "                                (graphics_cards['name'] == 'NVIDIA GeForce RTX 4090')].copy()\n",
    "\n",
    "graphics_cards"
   ],
   "metadata": {
    "collapsed": false,
    "ExecuteTime": {
     "end_time": "2024-01-03T17:52:18.907776600Z",
     "start_time": "2024-01-03T17:52:18.893640900Z"
    }
   },
   "id": "f47252fa83e0f97",
   "execution_count": 72
  }
 ],
 "metadata": {
  "kernelspec": {
   "display_name": "Python 3",
   "language": "python",
   "name": "python3"
  },
  "language_info": {
   "codemirror_mode": {
    "name": "ipython",
    "version": 2
   },
   "file_extension": ".py",
   "mimetype": "text/x-python",
   "name": "python",
   "nbconvert_exporter": "python",
   "pygments_lexer": "ipython2",
   "version": "2.7.6"
  }
 },
 "nbformat": 4,
 "nbformat_minor": 5
}
