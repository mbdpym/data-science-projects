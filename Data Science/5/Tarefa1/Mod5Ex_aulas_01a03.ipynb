{
 "cells": [
  {
   "cell_type": "markdown",
   "metadata": {},
   "source": [
    "# Módulo 5 Tarefa 1\n",
    "## Base de nascidos vivos do DataSUS\n",
    "O DataSUS disponibiliza diversos arquivos de dados com relação a seus segurados, conforme a [lei da transparência de informações públicas](https://www.sisgov.com/transparencia-acesso-informacao/#:~:text=A%20Lei%20da%20Transpar%C3%AAncia%20(LC,em%20um%20site%20na%20internet.). \n",
    "\n",
    "Essas informações podem ser obtidas pela internet [aqui](http://www2.datasus.gov.br/DATASUS/index.php?area=0901&item=1). Como o processo de obtenção desses arquivos foge um pouco do nosso escopo, deixamos o arquivo ```SINASC_RO_2019.csv``` já como vai ser encontrado no DataSUS. O dicionário de dados está no arquivo ```estrutura_sinasc_para_CD.pdf``` (o nome do arquivo tal qual no portal do DataSUS).\n",
    "\n",
    "### Nosso objetivo\n",
    "Queremos deixar uma base organizada para podermos estudar a relação entre partos com risco para o bebê e algumas condições como tempo de parto, consultas de pré-natal etc.\n",
    "\n",
    "#### Preparação da base\n",
    "1. Carregue a base 'SINASC_RO_2019.csv'. Conte o número de registros e o número de registros não duplicados da base. Dica: você aprendeu um método que remove duplicados, encadeie este método com um outro método que conta o número de linhas. **Há linhas duplicadas?**  \n",
    "\n",
    "2. Conte o número de valores *missing* por variável.  \n",
    "\n",
    "3. Ok, no item anterior você deve ter achado pouco prático ler a informação de tantas variáveis, muitas delas nem devem ser interesantes. Então crie uma seleção dessa base somente com as colunas que interessam. São elas:\n",
    "``` \n",
    "['LOCNASC', 'IDADEMAE', 'ESTCIVMAE', 'ESCMAE', 'QTDFILVIVO', \n",
    "    'GESTACAO', 'GRAVIDEZ', 'CONSULTAS', 'APGAR5'] \n",
    "```\n",
    "Refaça a contagem de valores *missings*.  \n",
    "\n",
    "4. Apgar é uma *nota* que o pediatra dá ao bebê quando nasce de acordo com algumas características associadas principalmente à respiração. Apgar 1 e Apgar 5 são as notas 1 e 5 minutos do nascimento. Apgar5 será a nossa variável de interesse principal. Então remova todos os registros com Apgar5 não preenchido. Para esta seleção, conte novamente o número de linhas e o número de *missings*.  \n",
    "\n",
    "5. observe que as variáveis ```['ESTCIVMAE', 'CONSULTAS']``` possuem o código ```9```, que significa *ignorado*. Vamos assumir que o não preenchido é o mesmo que o código ```9```.<br>\n",
    "6. Substitua os valores faltantes da quantitativa (```QTDFILVIVO```) por zero.  \n",
    "7. Das restantes, decida que valore te parece mais adequado (um 'não preenchido' ou um valor 'mais provável' como no item anterior) e preencha. Justifique. Lembre-se de que tratamento de dados é trabalho do cientista, e que estamos tomando decisões a todo o momento - não há necessariamente certo e errado aqui.  \n",
    "8. O Apgar possui uma classificação indicando se o bebê passou por asfixia:\n",
    "- Entre 8 e 10 está em uma faixa 'normal'. \n",
    "- Entre 6 e 7, significa que o recém-nascido passou por 'asfixia leve'. \n",
    "- Entre 4 e 5 significa 'asfixia moderada'.\n",
    "- Entre 0 e 3 significa 'asfixia severa'.  \n",
    "\n",
    "Crie uma categorização dessa variável com essa codificação e calcule as frequências dessa categorização.  \n",
    "<br>\n",
    "9. Renomeie as variáveis para que fiquem no *snake case*, ou seja, em letras minúsculas, com um *underscore* entre as palávras. Dica: repare que se você não quiser criar um *dataframe* novo, você vai precisar usar a opção ```inplace = True```."
   ]
  },
  {
   "cell_type": "code",
   "execution_count": 1,
   "metadata": {
    "ExecuteTime": {
     "end_time": "2024-01-02T19:00:56.442615700Z",
     "start_time": "2024-01-02T19:00:55.287717400Z"
    }
   },
   "outputs": [
    {
     "name": "stdout",
     "output_type": "stream",
     "text": [
      "(27028, 69)\n"
     ]
    },
    {
     "data": {
      "text/plain": "(27028, 69)"
     },
     "execution_count": 1,
     "metadata": {},
     "output_type": "execute_result"
    }
   ],
   "source": [
    "import numpy as np\n",
    "import pandas as pd\n",
    "import requests\n",
    "\n",
    "# 1) seu código aqui\n",
    "sinasc = pd.read_csv('SINASC_RO_2019.csv')\n",
    "print(sinasc.shape)\n",
    "sinasc.drop_duplicates().shape\n",
    "# Não há duplicados"
   ]
  },
  {
   "cell_type": "code",
   "execution_count": 5,
   "metadata": {
    "ExecuteTime": {
     "end_time": "2024-01-01T03:59:07.497660400Z",
     "start_time": "2024-01-01T03:59:07.484648100Z"
    }
   },
   "outputs": [
    {
     "data": {
      "text/plain": "ORIGEM          0\nCODESTAB      115\nCODMUNNASC      0\nLOCNASC         0\nIDADEMAE        0\n             ... \nmunResUf        0\nmunResLat       1\nmunResLon       1\nmunResAlt       1\nmunResArea      1\nLength: 69, dtype: int64"
     },
     "execution_count": 5,
     "metadata": {},
     "output_type": "execute_result"
    }
   ],
   "source": [
    "# 2) seu código aqui\n",
    "sinasc.isna().sum()"
   ]
  },
  {
   "cell_type": "code",
   "execution_count": 8,
   "metadata": {
    "ExecuteTime": {
     "end_time": "2024-01-01T04:17:12.597650700Z",
     "start_time": "2024-01-01T04:17:12.585115100Z"
    }
   },
   "outputs": [
    {
     "data": {
      "text/plain": "LOCNASC          0\nIDADEMAE         0\nESTCIVMAE      317\nESCMAE         312\nQTDFILVIVO    1573\nGESTACAO      1232\nGRAVIDEZ        79\nCONSULTAS        0\nAPGAR5         103\ndtype: int64"
     },
     "execution_count": 8,
     "metadata": {},
     "output_type": "execute_result"
    }
   ],
   "source": [
    "# 3) seu código aqui\n",
    "lista_colunas = ['LOCNASC', 'IDADEMAE', 'ESTCIVMAE', 'ESCMAE', 'QTDFILVIVO',\n",
    "                 'GESTACAO', 'GRAVIDEZ', 'CONSULTAS', 'APGAR5']\n",
    "\n",
    "sinasc[lista_colunas].isna().sum()"
   ]
  },
  {
   "cell_type": "code",
   "execution_count": 59,
   "metadata": {
    "ExecuteTime": {
     "end_time": "2024-01-01T05:06:23.659519700Z",
     "start_time": "2024-01-01T05:06:23.646075300Z"
    }
   },
   "outputs": [
    {
     "data": {
      "text/plain": "APGAR5\n9.0     16076\n10.0     8393\n8.0      1994\n7.0       241\n6.0        79\n5.0        45\n1.0        24\n4.0        23\n2.0        18\n0.0        17\n3.0        15\nName: count, dtype: int64"
     },
     "execution_count": 59,
     "metadata": {},
     "output_type": "execute_result"
    }
   ],
   "source": [
    "# 4) seu código aqui\n",
    "\n",
    "apgar5 = sinasc['APGAR5'].dropna().value_counts()\n",
    "apgar5"
   ]
  },
  {
   "cell_type": "code",
   "outputs": [
    {
     "data": {
      "text/plain": "0"
     },
     "execution_count": 14,
     "metadata": {},
     "output_type": "execute_result"
    }
   ],
   "source": [
    "apgar5.isna().sum()"
   ],
   "metadata": {
    "collapsed": false,
    "ExecuteTime": {
     "end_time": "2024-01-01T04:22:34.719638700Z",
     "start_time": "2024-01-01T04:22:34.702444600Z"
    }
   },
   "execution_count": 14
  },
  {
   "cell_type": "code",
   "execution_count": 22,
   "metadata": {
    "ExecuteTime": {
     "end_time": "2024-01-01T04:28:41.180649200Z",
     "start_time": "2024-01-01T04:28:41.167980600Z"
    }
   },
   "outputs": [
    {
     "data": {
      "text/plain": "       ESTCIVMAE  CONSULTAS\n0            5.0        4.0\n1            2.0        4.0\n2            NaN        4.0\n3            5.0        3.0\n4            2.0        4.0\n...          ...        ...\n27023        2.0        4.0\n27024        1.0        4.0\n27025        2.0        4.0\n27026        2.0        4.0\n27027        5.0        4.0\n\n[27028 rows x 2 columns]",
      "text/html": "<div>\n<style scoped>\n    .dataframe tbody tr th:only-of-type {\n        vertical-align: middle;\n    }\n\n    .dataframe tbody tr th {\n        vertical-align: top;\n    }\n\n    .dataframe thead th {\n        text-align: right;\n    }\n</style>\n<table border=\"1\" class=\"dataframe\">\n  <thead>\n    <tr style=\"text-align: right;\">\n      <th></th>\n      <th>ESTCIVMAE</th>\n      <th>CONSULTAS</th>\n    </tr>\n  </thead>\n  <tbody>\n    <tr>\n      <th>0</th>\n      <td>5.0</td>\n      <td>4.0</td>\n    </tr>\n    <tr>\n      <th>1</th>\n      <td>2.0</td>\n      <td>4.0</td>\n    </tr>\n    <tr>\n      <th>2</th>\n      <td>NaN</td>\n      <td>4.0</td>\n    </tr>\n    <tr>\n      <th>3</th>\n      <td>5.0</td>\n      <td>3.0</td>\n    </tr>\n    <tr>\n      <th>4</th>\n      <td>2.0</td>\n      <td>4.0</td>\n    </tr>\n    <tr>\n      <th>...</th>\n      <td>...</td>\n      <td>...</td>\n    </tr>\n    <tr>\n      <th>27023</th>\n      <td>2.0</td>\n      <td>4.0</td>\n    </tr>\n    <tr>\n      <th>27024</th>\n      <td>1.0</td>\n      <td>4.0</td>\n    </tr>\n    <tr>\n      <th>27025</th>\n      <td>2.0</td>\n      <td>4.0</td>\n    </tr>\n    <tr>\n      <th>27026</th>\n      <td>2.0</td>\n      <td>4.0</td>\n    </tr>\n    <tr>\n      <th>27027</th>\n      <td>5.0</td>\n      <td>4.0</td>\n    </tr>\n  </tbody>\n</table>\n<p>27028 rows × 2 columns</p>\n</div>"
     },
     "execution_count": 22,
     "metadata": {},
     "output_type": "execute_result"
    }
   ],
   "source": [
    "# 5) seu código aqui\n",
    "\n",
    "lista_colunas = ['ESTCIVMAE','CONSULTAS']\n",
    "colunas5 = sinasc[lista_colunas].replace(9, np.nan)\n",
    "colunas5"
   ]
  },
  {
   "cell_type": "code",
   "execution_count": 30,
   "metadata": {
    "ExecuteTime": {
     "end_time": "2024-01-01T04:35:08.649554500Z",
     "start_time": "2024-01-01T04:35:08.632547300Z"
    }
   },
   "outputs": [
    {
     "data": {
      "text/plain": "0        0.0\n1        1.0\n2        2.0\n3        0.0\n4        1.0\n        ... \n27023    1.0\n27024    0.0\n27025    0.0\n27026    1.0\n27027    1.0\nName: QTDFILVIVO, Length: 27028, dtype: float64"
     },
     "execution_count": 30,
     "metadata": {},
     "output_type": "execute_result"
    }
   ],
   "source": [
    "# 6) Seu código aqui\n",
    "sinasc['QTDFILVIVO'].fillna(0)"
   ]
  },
  {
   "cell_type": "code",
   "execution_count": 35,
   "metadata": {
    "ExecuteTime": {
     "end_time": "2024-01-01T04:42:07.628138400Z",
     "start_time": "2024-01-01T04:42:07.616000500Z"
    }
   },
   "outputs": [
    {
     "data": {
      "text/plain": "0        5.0\n1        2.0\n2        0.0\n3        5.0\n4        2.0\n        ... \n27023    2.0\n27024    1.0\n27025    2.0\n27026    2.0\n27027    5.0\nName: ESTCIVMAE, Length: 27028, dtype: float64"
     },
     "execution_count": 35,
     "metadata": {},
     "output_type": "execute_result"
    }
   ],
   "source": [
    "# 7) seu código aqui\n",
    "\n",
    "# Pensei em preencher por média, mas não faz sentido um valor decimal neste caso\n",
    "sinasc['ESTCIVMAE'].fillna(0)"
   ]
  },
  {
   "cell_type": "code",
   "outputs": [
    {
     "data": {
      "text/plain": "0            8 a 11 anos\n1            8 a 11 anos\n2            8 a 11 anos\n3        12 anos ou mais\n4            8 a 11 anos\n              ...       \n27023    12 anos ou mais\n27024        8 a 11 anos\n27025        8 a 11 anos\n27026        8 a 11 anos\n27027        8 a 11 anos\nName: ESCMAE, Length: 27028, dtype: object"
     },
     "execution_count": 38,
     "metadata": {},
     "output_type": "execute_result"
    }
   ],
   "source": [
    "# Optei por 'Não preenchido', pois valor faltante não significa ausência de escolaridade\n",
    "sinasc['ESCMAE'].fillna('Não preenchido')"
   ],
   "metadata": {
    "collapsed": false,
    "ExecuteTime": {
     "end_time": "2024-01-01T04:43:57.335047100Z",
     "start_time": "2024-01-01T04:43:57.322593200Z"
    }
   },
   "execution_count": 38
  },
  {
   "cell_type": "code",
   "outputs": [
    {
     "data": {
      "text/plain": "0        37 a 41 semanas\n1        37 a 41 semanas\n2        37 a 41 semanas\n3        37 a 41 semanas\n4        37 a 41 semanas\n              ...       \n27023    32 a 36 semanas\n27024    37 a 41 semanas\n27025    37 a 41 semanas\n27026    32 a 36 semanas\n27027    37 a 41 semanas\nName: GESTACAO, Length: 27028, dtype: object"
     },
     "execution_count": 47,
     "metadata": {},
     "output_type": "execute_result"
    }
   ],
   "source": [
    "# Mesmo motivo do anterior\n",
    "sinasc['GESTACAO'].fillna('Não preenchido')"
   ],
   "metadata": {
    "collapsed": false,
    "ExecuteTime": {
     "end_time": "2024-01-01T04:52:10.706633600Z",
     "start_time": "2024-01-01T04:52:10.697387500Z"
    }
   },
   "execution_count": 47
  },
  {
   "cell_type": "code",
   "outputs": [
    {
     "data": {
      "text/plain": "0        Única\n1        Única\n2        Única\n3        Única\n4        Única\n         ...  \n27023    Única\n27024    Única\n27025    Única\n27026    Única\n27027    Única\nName: GRAVIDEZ, Length: 27028, dtype: object"
     },
     "execution_count": 41,
     "metadata": {},
     "output_type": "execute_result"
    }
   ],
   "source": [
    "# Observando que a maioria esmagante de gestações corresponde a 'Única', faz sentido preencher dados faltantes por esse valor.\n",
    "sinasc['GRAVIDEZ'].fillna('Única')"
   ],
   "metadata": {
    "collapsed": false,
    "ExecuteTime": {
     "end_time": "2024-01-01T04:47:53.070520600Z",
     "start_time": "2024-01-01T04:47:53.051243600Z"
    }
   },
   "execution_count": 41
  },
  {
   "cell_type": "code",
   "outputs": [
    {
     "data": {
      "text/plain": "0        4.0\n1        4.0\n2        4.0\n3        3.0\n4        4.0\n        ... \n27023    4.0\n27024    4.0\n27025    4.0\n27026    4.0\n27027    4.0\nName: CONSULTAS, Length: 27028, dtype: float64"
     },
     "execution_count": 44,
     "metadata": {},
     "output_type": "execute_result"
    }
   ],
   "source": [
    "# Pensei em utilizar média, mas não faz sentido um valor quebrado para quantidade de consultas.\n",
    "sinasc['CONSULTAS'].ffill()"
   ],
   "metadata": {
    "collapsed": false,
    "ExecuteTime": {
     "end_time": "2024-01-01T04:50:13.913745900Z",
     "start_time": "2024-01-01T04:50:13.886176700Z"
    }
   },
   "execution_count": 44
  },
  {
   "cell_type": "code",
   "outputs": [
    {
     "data": {
      "text/plain": "0        10.0\n1         9.0\n2        10.0\n3        10.0\n4        10.0\n         ... \n27023     9.0\n27024     9.0\n27025    10.0\n27026     9.0\n27027     8.0\nName: APGAR5, Length: 27028, dtype: float64"
     },
     "execution_count": 46,
     "metadata": {},
     "output_type": "execute_result"
    }
   ],
   "source": [
    "# Mesmo motivo que anterior, mas neste caso optei por utilizar o método inverso para praticar\n",
    "sinasc['APGAR5'].bfill()"
   ],
   "metadata": {
    "collapsed": false,
    "ExecuteTime": {
     "end_time": "2024-01-01T04:52:00.734921400Z",
     "start_time": "2024-01-01T04:52:00.721914800Z"
    }
   },
   "execution_count": 46
  },
  {
   "cell_type": "markdown",
   "source": [
    "- Entre 8 e 10 está em uma faixa 'normal'. \n",
    "- Entre 6 e 7, significa que o recém-nascido passou por 'asfixia leve'. \n",
    "- Entre 4 e 5 significa 'asfixia moderada'.\n",
    "- Entre 0 e 3 significa 'asfixia severa'. "
   ],
   "metadata": {
    "collapsed": false
   }
  },
  {
   "cell_type": "code",
   "execution_count": 2,
   "metadata": {
    "ExecuteTime": {
     "end_time": "2024-01-03T00:12:39.885210600Z",
     "start_time": "2024-01-03T00:12:39.825687300Z"
    }
   },
   "outputs": [
    {
     "data": {
      "text/plain": "asfixia\nNormal              26566\nAsfixia leve          320\nAsfixia severa         74\nAsfixia moderada       68\nName: count, dtype: int64"
     },
     "execution_count": 2,
     "metadata": {},
     "output_type": "execute_result"
    }
   ],
   "source": [
    "# 8) seu código aqui\n",
    "sinasc['asfixia'] = 'Normal'\n",
    "\n",
    "sinasc.loc[sinasc['APGAR5'] <= 3, 'asfixia'] = 'Asfixia severa'\n",
    "sinasc.loc[(sinasc['APGAR5'] > 3) & (sinasc['APGAR5'] <= 5), 'asfixia'] = 'Asfixia moderada'\n",
    "sinasc.loc[(sinasc['APGAR5'] > 5) & (sinasc['APGAR5'] <= 7), 'asfixia'] = 'Asfixia leve'\n",
    "sinasc.loc[(sinasc['APGAR5'] > 7), 'asfixia'] = 'Normal'\n",
    "\n",
    "sinasc['asfixia'].value_counts()"
   ]
  },
  {
   "cell_type": "code",
   "execution_count": 3,
   "metadata": {
    "ExecuteTime": {
     "end_time": "2024-01-03T00:12:55.786080900Z",
     "start_time": "2024-01-03T00:12:55.777073800Z"
    }
   },
   "outputs": [
    {
     "data": {
      "text/plain": "asfixia\nnormal              26566\nasfixia_leve          320\nasfixia_severa         74\nasfixia_moderada       68\nName: count, dtype: int64"
     },
     "execution_count": 3,
     "metadata": {},
     "output_type": "execute_result"
    }
   ],
   "source": [
    "# 9) seu código aqui\n",
    "asfixia_renomeado = sinasc['asfixia'].replace({\n",
    "                                                'Asfixia severa': 'asfixia_severa',\n",
    "                                                'Asfixia moderada': 'asfixia_moderada',\n",
    "                                                'Asfixia leve': 'asfixia_leve',\n",
    "                                                'Normal': 'normal'\n",
    "                                            })\n",
    "\n",
    "asfixia_renomeado.dropna().value_counts()"
   ]
  }
 ],
 "metadata": {
  "kernelspec": {
   "display_name": "Python 3",
   "language": "python",
   "name": "python3"
  },
  "language_info": {
   "codemirror_mode": {
    "name": "ipython",
    "version": 3
   },
   "file_extension": ".py",
   "mimetype": "text/x-python",
   "name": "python",
   "nbconvert_exporter": "python",
   "pygments_lexer": "ipython3",
   "version": "3.8.5"
  }
 },
 "nbformat": 4,
 "nbformat_minor": 4
}
