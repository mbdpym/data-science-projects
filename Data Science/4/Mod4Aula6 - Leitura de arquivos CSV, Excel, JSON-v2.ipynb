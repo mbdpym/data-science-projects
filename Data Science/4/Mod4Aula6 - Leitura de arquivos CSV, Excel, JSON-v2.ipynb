{
 "cells": [
  {
   "cell_type": "markdown",
   "metadata": {},
   "source": [
    "# Leitura de arquivos CSV, Excel, JSON"
   ]
  },
  {
   "cell_type": "markdown",
   "metadata": {},
   "source": [
    "# Lendo CSV"
   ]
  },
  {
   "cell_type": "markdown",
   "metadata": {},
   "source": [
    "## BNDESPar\n",
    "- https://pt.wikipedia.org/wiki/Banco_Nacional_de_Desenvolvimento_Econ%C3%B4mico_e_Social\n",
    "- https://pt.wikipedia.org/wiki/BNDESPAR\n",
    "- https://dados.gov.br/dataset/renda-variavel\n",
    "    - https://dadosabertos.bndes.gov.br/dataset/68a85772-df73-4c8b-8b8c-398f494fcca8/resource/10ff2d60-02d1-4619-8e42-24fc2a5927dd/download/renda-variavel-participacoes-acionarias-historico-da-carteira.csv\n",
    "- https://www.bndes.gov.br/wps/portal/site/home/transparencia/consulta-operacoes-bndes/carteira-acionaria\n",
    "\n",
    "-    'https://dadosabertos.bndes.gov.br/dataset/68a85772-df73-4c8b-8b8c-398f494fcca8/resource/10ff2d60-02d1-4619-8e42-24fc2a5927dd/download/renda-variavel-participacoes-acionarias-historico-da-carteira.csv'"
   ]
  },
  {
   "cell_type": "code",
   "execution_count": 2,
   "metadata": {
    "ExecuteTime": {
     "end_time": "2023-12-31T03:07:55.999367Z",
     "start_time": "2023-12-31T03:07:55.034177200Z"
    }
   },
   "outputs": [],
   "source": [
    "import pandas as pd"
   ]
  },
  {
   "cell_type": "code",
   "execution_count": 19,
   "metadata": {
    "scrolled": true,
    "ExecuteTime": {
     "end_time": "2023-12-31T04:02:18.967543200Z",
     "start_time": "2023-12-31T04:02:18.620783800Z"
    }
   },
   "outputs": [
    {
     "data": {
      "text/plain": "   sigla                                      razao_social  \\\n0  ABICO  ABICO - CIA. DE INVESTIMENTOS ÁRABE E BRASILEIRO   \n1  ABICO  ABICO - CIA. DE INVESTIMENTOS ÁRABE E BRASILEIRO   \n2  ABICO  ABICO - CIA. DE INVESTIMENTOS ÁRABE E BRASILEIRO   \n3  ABICO  ABICO - CIA. DE INVESTIMENTOS ÁRABE E BRASILEIRO   \n4  ABICO  ABICO - CIA. DE INVESTIMENTOS ÁRABE E BRASILEIRO   \n\n                 cnpj           tipo_de_ativo   ano setor_de_atividade  \\\n0  42.470.443/0001-96  PARTICIPAÇÃO ACIONÁRIA  2023     OUTROS SETORES   \n1  42.470.443/0001-96  PARTICIPAÇÃO ACIONÁRIA  2022     OUTROS SETORES   \n2  42.470.443/0001-96  PARTICIPAÇÃO ACIONÁRIA  2021     OUTROS SETORES   \n3  42.470.443/0001-96  PARTICIPAÇÃO ACIONÁRIA  2020     OUTROS SETORES   \n4  42.470.443/0001-96  PARTICIPAÇÃO ACIONÁRIA  2019     OUTROS SETORES   \n\n   total_pp  on_pp  pn_pp aberta_fechada acordo_de_acionistas_em_vigor  \\\n0      35.0   35.0    0.0        FECHADA                           NÃO   \n1      35.0   35.0    0.0        FECHADA                           NÃO   \n2      35.0   35.0    0.0        FECHADA                           NÃO   \n3      35.0   35.0    0.0        FECHADA                           NÃO   \n4      35.0   35.0    0.0        FECHADA                           NÃO   \n\n  indicado_para_conselho_de_administracao indicado_para_conselho_fiscal  \n0                                     NÃO                           NÃO  \n1                                     NÃO                           NÃO  \n2                                     NÃO                           NÃO  \n3                                     NÃO                           NÃO  \n4                                     NÃO                           NÃO  ",
      "text/html": "<div>\n<style scoped>\n    .dataframe tbody tr th:only-of-type {\n        vertical-align: middle;\n    }\n\n    .dataframe tbody tr th {\n        vertical-align: top;\n    }\n\n    .dataframe thead th {\n        text-align: right;\n    }\n</style>\n<table border=\"1\" class=\"dataframe\">\n  <thead>\n    <tr style=\"text-align: right;\">\n      <th></th>\n      <th>sigla</th>\n      <th>razao_social</th>\n      <th>cnpj</th>\n      <th>tipo_de_ativo</th>\n      <th>ano</th>\n      <th>setor_de_atividade</th>\n      <th>total_pp</th>\n      <th>on_pp</th>\n      <th>pn_pp</th>\n      <th>aberta_fechada</th>\n      <th>acordo_de_acionistas_em_vigor</th>\n      <th>indicado_para_conselho_de_administracao</th>\n      <th>indicado_para_conselho_fiscal</th>\n    </tr>\n  </thead>\n  <tbody>\n    <tr>\n      <th>0</th>\n      <td>ABICO</td>\n      <td>ABICO - CIA. DE INVESTIMENTOS ÁRABE E BRASILEIRO</td>\n      <td>42.470.443/0001-96</td>\n      <td>PARTICIPAÇÃO ACIONÁRIA</td>\n      <td>2023</td>\n      <td>OUTROS SETORES</td>\n      <td>35.0</td>\n      <td>35.0</td>\n      <td>0.0</td>\n      <td>FECHADA</td>\n      <td>NÃO</td>\n      <td>NÃO</td>\n      <td>NÃO</td>\n    </tr>\n    <tr>\n      <th>1</th>\n      <td>ABICO</td>\n      <td>ABICO - CIA. DE INVESTIMENTOS ÁRABE E BRASILEIRO</td>\n      <td>42.470.443/0001-96</td>\n      <td>PARTICIPAÇÃO ACIONÁRIA</td>\n      <td>2022</td>\n      <td>OUTROS SETORES</td>\n      <td>35.0</td>\n      <td>35.0</td>\n      <td>0.0</td>\n      <td>FECHADA</td>\n      <td>NÃO</td>\n      <td>NÃO</td>\n      <td>NÃO</td>\n    </tr>\n    <tr>\n      <th>2</th>\n      <td>ABICO</td>\n      <td>ABICO - CIA. DE INVESTIMENTOS ÁRABE E BRASILEIRO</td>\n      <td>42.470.443/0001-96</td>\n      <td>PARTICIPAÇÃO ACIONÁRIA</td>\n      <td>2021</td>\n      <td>OUTROS SETORES</td>\n      <td>35.0</td>\n      <td>35.0</td>\n      <td>0.0</td>\n      <td>FECHADA</td>\n      <td>NÃO</td>\n      <td>NÃO</td>\n      <td>NÃO</td>\n    </tr>\n    <tr>\n      <th>3</th>\n      <td>ABICO</td>\n      <td>ABICO - CIA. DE INVESTIMENTOS ÁRABE E BRASILEIRO</td>\n      <td>42.470.443/0001-96</td>\n      <td>PARTICIPAÇÃO ACIONÁRIA</td>\n      <td>2020</td>\n      <td>OUTROS SETORES</td>\n      <td>35.0</td>\n      <td>35.0</td>\n      <td>0.0</td>\n      <td>FECHADA</td>\n      <td>NÃO</td>\n      <td>NÃO</td>\n      <td>NÃO</td>\n    </tr>\n    <tr>\n      <th>4</th>\n      <td>ABICO</td>\n      <td>ABICO - CIA. DE INVESTIMENTOS ÁRABE E BRASILEIRO</td>\n      <td>42.470.443/0001-96</td>\n      <td>PARTICIPAÇÃO ACIONÁRIA</td>\n      <td>2019</td>\n      <td>OUTROS SETORES</td>\n      <td>35.0</td>\n      <td>35.0</td>\n      <td>0.0</td>\n      <td>FECHADA</td>\n      <td>NÃO</td>\n      <td>NÃO</td>\n      <td>NÃO</td>\n    </tr>\n  </tbody>\n</table>\n</div>"
     },
     "execution_count": 19,
     "metadata": {},
     "output_type": "execute_result"
    }
   ],
   "source": [
    "participacoes_acionarias = pd.read_csv(\n",
    "    'https://dadosabertos.bndes.gov.br/dataset/68a85772-df73-4c8b-8b8c-398f494fcca8/resource/10ff2d60-02d1-4619-8e42-24fc2a5927dd/download/renda-variavel-participacoes-acionarias-historico-da-carteira.csv',\n",
    "    sep=';',\n",
    "    decimal=',')\n",
    "participacoes_acionarias.head()"
   ]
  },
  {
   "cell_type": "code",
   "execution_count": 7,
   "metadata": {
    "ExecuteTime": {
     "end_time": "2023-12-30T18:28:37.721989500Z",
     "start_time": "2023-12-30T18:28:37.710479Z"
    }
   },
   "outputs": [
    {
     "name": "stdout",
     "output_type": "stream",
     "text": [
      "<class 'pandas.core.frame.DataFrame'>\n",
      "RangeIndex: 2213 entries, 0 to 2212\n",
      "Data columns (total 13 columns):\n",
      " #   Column                                   Non-Null Count  Dtype  \n",
      "---  ------                                   --------------  -----  \n",
      " 0   sigla                                    2213 non-null   object \n",
      " 1   razao_social                             2213 non-null   object \n",
      " 2   cnpj                                     2212 non-null   object \n",
      " 3   tipo_de_ativo                            2213 non-null   object \n",
      " 4   ano                                      2213 non-null   int64  \n",
      " 5   setor_de_atividade                       2209 non-null   object \n",
      " 6   total_pp                                 2190 non-null   float64\n",
      " 7   on_pp                                    2190 non-null   float64\n",
      " 8   pn_pp                                    2190 non-null   float64\n",
      " 9   aberta_fechada                           2212 non-null   object \n",
      " 10  acordo_de_acionistas_em_vigor            2213 non-null   object \n",
      " 11  indicado_para_conselho_de_administracao  2213 non-null   object \n",
      " 12  indicado_para_conselho_fiscal            2213 non-null   object \n",
      "dtypes: float64(3), int64(1), object(9)\n",
      "memory usage: 224.9+ KB\n"
     ]
    }
   ],
   "source": [
    "participacoes_acionarias.info()"
   ]
  },
  {
   "cell_type": "code",
   "execution_count": 3,
   "metadata": {
    "ExecuteTime": {
     "end_time": "2023-12-30T05:39:30.493632900Z",
     "start_time": "2023-12-30T05:39:30.467246200Z"
    }
   },
   "outputs": [],
   "source": []
  },
  {
   "cell_type": "markdown",
   "metadata": {},
   "source": [
    "### Qual a quantidade de participações em cada ano?"
   ]
  },
  {
   "cell_type": "code",
   "execution_count": 8,
   "metadata": {
    "ExecuteTime": {
     "end_time": "2023-12-30T18:29:41.443622900Z",
     "start_time": "2023-12-30T18:29:41.434481100Z"
    }
   },
   "outputs": [
    {
     "data": {
      "text/plain": "ano\n2011    172\n2009    158\n2012    157\n2013    155\n2010    154\n2008    145\n2007    143\n2014    133\n2006    130\n2015    125\n2016    124\n2017    108\n2018    101\n2019     87\n2020     87\n2021     83\n2023     76\n2022     75\nName: count, dtype: int64"
     },
     "execution_count": 8,
     "metadata": {},
     "output_type": "execute_result"
    }
   ],
   "source": [
    "participacoes_acionarias['ano'].value_counts()"
   ]
  },
  {
   "cell_type": "markdown",
   "metadata": {},
   "source": [
    "### Em quais empresas o BNDESP já teve participação?"
   ]
  },
  {
   "cell_type": "code",
   "execution_count": 9,
   "metadata": {
    "ExecuteTime": {
     "end_time": "2023-12-30T18:32:10.577190800Z",
     "start_time": "2023-12-30T18:32:10.566006Z"
    }
   },
   "outputs": [
    {
     "data": {
      "text/plain": "array(['ABICO', 'AÇOS VILLARES', 'AES BRASIL ENER', 'AES COMM RJ',\n       'AES ELPA', 'AES TE', 'AES TH', 'AES TIETÊ', 'AES TIETÊ ENERG',\n       'AES URUGUAIANA', 'ÁGUIA', 'ALCOOLQUÍMICA', 'ALFATEST', 'ALTUS',\n       'ALUPAR', 'AMATA', 'AMATA URBEM', 'AMBEV', 'AMERICANAS',\n       'AMERICEL', 'ARACRUZ', 'ARCELORMITTAL', 'AUTEL', 'BANCO DO BRASIL',\n       'BCPAR', 'BEMATECH', 'BERTIN', 'BIO FILL', 'BIOMM', 'BIONNOVATION',\n       'BLOCKBIT', 'BM&F BOVESPA', 'BNB', 'BOM GOSTO', 'BOMBRIL',\n       'BR MALLS', 'BRADESCO', 'BRADESPAR', 'BRASAGRO', 'BRASIL FOODS',\n       'BRASIL TEL PART', 'BRASILIANA PART', 'BRASILINTERPART', 'BRASKEM',\n       'BRASPÉROLA', 'BRICLOG', 'BRQ', 'CADAM', 'CARBOMIL', 'CASA ANGLO',\n       'CASAL', 'CBD', 'CBO HOLDING', 'CBPAK', 'CCR', 'CCX', 'CEAL',\n       'CEG', 'CEMIG', 'CEMIG DISTRIB.', 'CEMIG GT', 'CESP', 'CETIP S.A.',\n       'CHAPECÓ', 'CI&T', 'CIELO', 'CIMETAL', 'CIPHER', 'CLAMPER',\n       'CLARO', 'COMTEX', 'COMTRAFO', 'COPASA', 'COPEL', 'COSAN',\n       'COSAN LOG', 'COTEMINAS', 'CPFL ENERGIA', 'CRP CADERI', 'CRSEC',\n       'CSN', 'CTC', 'CTC/RJ', 'CTTU/RECIFE', 'CTX', 'CYRELA REALTY',\n       'DETEN', 'DIGITEL', 'EBP', 'ECORODOVIAS INF', 'ELEBRA',\n       'ELETROACRE', 'ELETROBRÁS', 'ELETROPAULO', 'ELETROPAULO TEL',\n       'EMAE', 'EMBRAER', 'EMBRATEL OPER.', 'EMBRATEL PART.', 'ENAUTA',\n       'ENB', 'ENERGISA', 'ENERGISA MT', 'ENEVA', 'ENGIE BRASIL',\n       'EQUATORIAL', 'ERB', 'FD ETF ICO2', 'FIAGRIL PART.', 'FIBRIA',\n       'FOTON', 'GAFISA', 'GENOA', 'GERDAU', 'GERDAU MET.', 'GOL',\n       'GRANBIO', 'GRANO', 'GRAÚNA', 'GRUPO A', 'HIDROVIAS',\n       'HIGH BRIDGE', 'HOSPITAL FÊMINA', 'HYPERA', 'IBEMA',\n       'IGUA SANEAMENTO', 'INDEPENDÊNCIA', 'INEPAR', 'INEPAR ENERGIA',\n       'IOCHPE', 'ITAITUBA', 'ITAÚ UNIBANCO', 'ITAUCORP', 'ITAÚSA',\n       'ITAUTINGA', 'IVESA', 'JBS', 'KEPLER WEBER', 'KLABIN', 'KLICK NET',\n       'KOBLITZ', 'KOSMOS', 'LATINA', 'LBR', 'LDC-BIOENERGIA', 'LDC-SEV',\n       'LIFEMED', 'LIGHT', 'LINX', 'LIQ. PART', 'LLX', 'LOG', 'LORENZ',\n       'LUPATECH', 'MADEF', 'MAGNESITA REFR.', 'MAGNESITA S.A.',\n       'MANGELS', 'MARCOPOLO', 'MARFRIG', 'MARLIM', 'MARLIMPAR',\n       'MECTRON', 'METALFRIO', 'METANOR', 'METRÔ/SP', 'MMX MINERAÇÃO',\n       'MOBIGROUP', 'MRV', 'MUNDIAL S.A.', 'MWI (ZUM NET)', 'NANOCORE',\n       'NATURA', 'NESBER', 'NET', 'NETUNO', 'NILZA', 'NORTEC',\n       'NOVA AMERICA', 'NOVADATA', 'NOVAMARLIMPAR', 'NUTRELLA',\n       'NUTRIPLANT', 'OCEANA', 'ODEBRECHT AGRO', 'OGP', 'OI',\n       'OPENCOMMERCE', 'ORBISAT', 'OTP', 'OURO FINO PAR',\n       'OURO FINO SAUDE', 'PADTEC', 'PADTEC HOLDING', 'PARANAPANEMA',\n       'PDG REALTY', 'PETROBRAS', 'POLY EASY', 'PORTX', 'PRATICA',\n       'PRÁTICA PAR', 'PROCABLE', 'PROGEN', 'PRONOR', 'QUALITY SOFT',\n       'RECEPTA', 'REDE ENERGIA', 'REDECARD', 'REIVAX', 'RELASTOMER',\n       'RENNER', 'RENOVA', 'RFFSA', 'RIOPOL', 'ROCHA', 'ROMI', 'ROOSTER',\n       'ROSSI', 'RUMO', 'RUMO LOGÍSTICA', 'SAM', 'SANTANDER',\n       'SÃO MARTINHO', 'SAPORE', 'SBCE', 'SETAL', 'SINQIA', 'SISA',\n       'SOROSISTEM', 'SOUZA CRUZ', 'SPRINGER', 'SPRINGS GLOBAL', 'STARA',\n       'SUNEW', 'SUZANO', 'TAESA', 'TAUM CHEMIE', 'TBM', 'TECNORED',\n       'TECPAR', 'TECSIS', 'TEIKON', 'TELEBRÁS', 'TELEFÔNICA BR',\n       'TELEMAR N LESTE', 'TELEMAR PART', 'TELEMIG CEL PAR',\n       'TELEMIG CELULAR', 'TIM PARTICIP.', 'TNLP (TELEMAR)', 'TOPSPORTS',\n       'TOTVS', 'TRANS. PAULISTA', 'TRANSNORDESTINA', 'TRANSURB',\n       'TREVISA', 'TRIUNFO', 'TUPY', 'UNITEC', 'USIMINAS', 'VALE',\n       'VALEPAR', 'VALLÉE', 'VBC ENERGIA', 'VICUNHA TÊXTIL', 'VIGOR',\n       'VIVO', 'VLI', 'VSE', 'VULCABRÁS', 'ZENVIA'], dtype=object)"
     },
     "execution_count": 9,
     "metadata": {},
     "output_type": "execute_result"
    }
   ],
   "source": [
    "participacoes_acionarias.sigla.unique()"
   ]
  },
  {
   "cell_type": "markdown",
   "metadata": {},
   "source": [
    "### Em quais empresas o BNDESP tem participação em 2021?"
   ]
  },
  {
   "cell_type": "code",
   "execution_count": 10,
   "metadata": {
    "ExecuteTime": {
     "end_time": "2023-12-30T18:33:33.247044900Z",
     "start_time": "2023-12-30T18:33:33.240538200Z"
    }
   },
   "outputs": [
    {
     "data": {
      "text/plain": "array(['ABICO', 'AES BRASIL ENER', 'AES ELPA', 'ALCOOLQUÍMICA', 'AMATA',\n       'AMATA URBEM', 'BIOMM', 'BLOCKBIT', 'BOMBRIL', 'BRASAGRO',\n       'BRASILIANA PART', 'BRASILINTERPART', 'BRASPÉROLA', 'BRQ', 'CADAM',\n       'CARBOMIL', 'CASA ANGLO', 'CASAL', 'CEG', 'CEMIG', 'CHAPECÓ',\n       'COPASA', 'COPEL', 'COTEMINAS', 'CSN', 'CTC', 'CTC/RJ',\n       'CTTU/RECIFE', 'DETEN', 'EBP', 'ELEBRA', 'ELETROBRÁS', 'EMBRAER',\n       'ENERGISA', 'ENGIE BRASIL', 'ERB', 'GRANBIO', 'HIDROVIAS',\n       'IGUA SANEAMENTO', 'INDEPENDÊNCIA', 'IOCHPE', 'ITAITUBA',\n       'ITAUTINGA', 'JBS', 'KOSMOS', 'LBR', 'LIFEMED', 'LORENZ', 'MADEF',\n       'METANOR', 'METRÔ/SP', 'NESBER', 'NETUNO', 'NILZA', 'NOVA AMERICA',\n       'NOVADATA', 'OCEANA', 'OI', 'OTP', 'OURO FINO SAUDE',\n       'PADTEC HOLDING', 'PARANAPANEMA', 'PETROBRAS', 'PRATICA', 'PROGEN',\n       'QUALITY SOFT', 'RECEPTA', 'RENOVA', 'ROCHA', 'SAM', 'SPRINGER',\n       'SPRINGS GLOBAL', 'STARA', 'SUNEW', 'TAUM CHEMIE', 'TBM',\n       'TRANSNORDESTINA', 'TREVISA', 'TRIUNFO', 'TUPY', 'UNITEC', 'VLI',\n       'VULCABRÁS'], dtype=object)"
     },
     "execution_count": 10,
     "metadata": {},
     "output_type": "execute_result"
    }
   ],
   "source": [
    "participacoes_acionarias[participacoes_acionarias['ano'] == 2021].sigla.unique()"
   ]
  },
  {
   "cell_type": "code",
   "execution_count": 6,
   "metadata": {
    "ExecuteTime": {
     "end_time": "2023-12-30T05:39:30.549698500Z",
     "start_time": "2023-12-30T05:39:30.488722600Z"
    }
   },
   "outputs": [],
   "source": []
  },
  {
   "cell_type": "code",
   "execution_count": 6,
   "metadata": {
    "ExecuteTime": {
     "end_time": "2023-12-30T05:39:30.550198700Z",
     "start_time": "2023-12-30T05:39:30.490821Z"
    }
   },
   "outputs": [],
   "source": []
  },
  {
   "cell_type": "markdown",
   "metadata": {},
   "source": [
    "# Lendo Excel"
   ]
  },
  {
   "cell_type": "markdown",
   "metadata": {},
   "source": [
    "\n",
    "## Brasileirão\n",
    "- https://github.com/adaoduque/Brasileirao_Dataset\n",
    "- https://github.com/adaoduque/Brasileirao_Dataset/raw/master/campeonato-brasileiro-full.xlsx\n",
    "- https://raw.githubusercontent.com/adaoduque/Brasileirao_Dataset/master/campeonato-brasileiro-estatisticas-full.csv"
   ]
  },
  {
   "cell_type": "code",
   "execution_count": 7,
   "metadata": {
    "ExecuteTime": {
     "end_time": "2023-12-30T05:39:30.570778900Z",
     "start_time": "2023-12-30T05:39:30.492827Z"
    }
   },
   "outputs": [],
   "source": [
    "# o responsável pelo repositório arquivou o excel. Portanto basta usar a célula abaixo.\n",
    "# brasileirao = pd.read_excel('https://github.com/adaoduque/Brasileirao_Dataset/raw/master/campeonato-brasileiro-full.xlsx')"
   ]
  },
  {
   "cell_type": "code",
   "execution_count": 19,
   "metadata": {
    "ExecuteTime": {
     "end_time": "2023-12-30T18:48:11.445056800Z",
     "start_time": "2023-12-30T18:48:09.577678800Z"
    }
   },
   "outputs": [],
   "source": [
    "brasileirao = pd.read_excel('https://github.com/LucasSerra/EBAC-parte-1/raw/main/mod-4/input/campeonato-brasileiro-full.xlsx')"
   ]
  },
  {
   "cell_type": "code",
   "execution_count": 20,
   "metadata": {
    "scrolled": true,
    "ExecuteTime": {
     "end_time": "2023-12-30T18:48:11.446057Z",
     "start_time": "2023-12-30T18:48:11.432548200Z"
    }
   },
   "outputs": [
    {
     "data": {
      "text/plain": "  Rodada       Data Horário      Dia     Mandante    Visitante    Vencedor  \\\n0      1 2000-07-29   16h00   Sábado   Fluminense        Bahia  Fluminense   \n1      1 2000-07-29   16h00   Sábado        Vasco        Sport       Sport   \n2      1 2000-07-29   16h00   Sábado      Vitória    Palmeiras     Vitória   \n3      1 2000-07-30   17h00  Domingo  Botafogo-RJ  Atlético-MG           -   \n4      1 2000-07-30   18h30  Domingo    Juventude     Flamengo           -   \n\n            Arena  Mandante Placar  Visitante Placar Estado Mandante  \\\n0        Maracanã                2                 0              RJ   \n1    São Januário                0                 2              RJ   \n2        Barradão                4                 1              ES   \n3    Caio Martins                0                 0              RJ   \n4  Alfredo Jaconi                1                 1              RS   \n\n  Estado Visitante Estado Vencedor  \n0               BA              RJ  \n1               PE              PE  \n2               SP              ES  \n3               MG               -  \n4               RJ               -  ",
      "text/html": "<div>\n<style scoped>\n    .dataframe tbody tr th:only-of-type {\n        vertical-align: middle;\n    }\n\n    .dataframe tbody tr th {\n        vertical-align: top;\n    }\n\n    .dataframe thead th {\n        text-align: right;\n    }\n</style>\n<table border=\"1\" class=\"dataframe\">\n  <thead>\n    <tr style=\"text-align: right;\">\n      <th></th>\n      <th>Rodada</th>\n      <th>Data</th>\n      <th>Horário</th>\n      <th>Dia</th>\n      <th>Mandante</th>\n      <th>Visitante</th>\n      <th>Vencedor</th>\n      <th>Arena</th>\n      <th>Mandante Placar</th>\n      <th>Visitante Placar</th>\n      <th>Estado Mandante</th>\n      <th>Estado Visitante</th>\n      <th>Estado Vencedor</th>\n    </tr>\n  </thead>\n  <tbody>\n    <tr>\n      <th>0</th>\n      <td>1</td>\n      <td>2000-07-29</td>\n      <td>16h00</td>\n      <td>Sábado</td>\n      <td>Fluminense</td>\n      <td>Bahia</td>\n      <td>Fluminense</td>\n      <td>Maracanã</td>\n      <td>2</td>\n      <td>0</td>\n      <td>RJ</td>\n      <td>BA</td>\n      <td>RJ</td>\n    </tr>\n    <tr>\n      <th>1</th>\n      <td>1</td>\n      <td>2000-07-29</td>\n      <td>16h00</td>\n      <td>Sábado</td>\n      <td>Vasco</td>\n      <td>Sport</td>\n      <td>Sport</td>\n      <td>São Januário</td>\n      <td>0</td>\n      <td>2</td>\n      <td>RJ</td>\n      <td>PE</td>\n      <td>PE</td>\n    </tr>\n    <tr>\n      <th>2</th>\n      <td>1</td>\n      <td>2000-07-29</td>\n      <td>16h00</td>\n      <td>Sábado</td>\n      <td>Vitória</td>\n      <td>Palmeiras</td>\n      <td>Vitória</td>\n      <td>Barradão</td>\n      <td>4</td>\n      <td>1</td>\n      <td>ES</td>\n      <td>SP</td>\n      <td>ES</td>\n    </tr>\n    <tr>\n      <th>3</th>\n      <td>1</td>\n      <td>2000-07-30</td>\n      <td>17h00</td>\n      <td>Domingo</td>\n      <td>Botafogo-RJ</td>\n      <td>Atlético-MG</td>\n      <td>-</td>\n      <td>Caio Martins</td>\n      <td>0</td>\n      <td>0</td>\n      <td>RJ</td>\n      <td>MG</td>\n      <td>-</td>\n    </tr>\n    <tr>\n      <th>4</th>\n      <td>1</td>\n      <td>2000-07-30</td>\n      <td>18h30</td>\n      <td>Domingo</td>\n      <td>Juventude</td>\n      <td>Flamengo</td>\n      <td>-</td>\n      <td>Alfredo Jaconi</td>\n      <td>1</td>\n      <td>1</td>\n      <td>RS</td>\n      <td>RJ</td>\n      <td>-</td>\n    </tr>\n  </tbody>\n</table>\n</div>"
     },
     "execution_count": 20,
     "metadata": {},
     "output_type": "execute_result"
    }
   ],
   "source": [
    "brasileirao.head()"
   ]
  },
  {
   "cell_type": "code",
   "execution_count": 21,
   "metadata": {
    "ExecuteTime": {
     "end_time": "2023-12-30T18:48:14.178377500Z",
     "start_time": "2023-12-30T18:48:14.170762400Z"
    }
   },
   "outputs": [
    {
     "data": {
      "text/plain": "Rodada                      object\nData                datetime64[ns]\nHorário                     object\nDia                         object\nMandante                    object\nVisitante                   object\nVencedor                    object\nArena                       object\nMandante Placar              int64\nVisitante Placar             int64\nEstado Mandante             object\nEstado Visitante            object\nEstado Vencedor             object\ndtype: object"
     },
     "execution_count": 21,
     "metadata": {},
     "output_type": "execute_result"
    }
   ],
   "source": [
    "brasileirao.dtypes"
   ]
  },
  {
   "cell_type": "markdown",
   "metadata": {},
   "source": [
    "### Qual o maior vencedor de jogos?"
   ]
  },
  {
   "cell_type": "code",
   "outputs": [
    {
     "data": {
      "text/plain": "Horário\n16h00       1804\n20h30        683\n18h30        643\n18h10        506\n16:00:00     495\n17h00        351\n19h30        351\n18h00        306\n19:00:00     304\n21h00        267\n21:00:00     239\n17:00:00     192\n20:00:00     171\n19:30:00     165\n21h50        144\n18:30:00     134\n22h00        130\n21h45        119\n11:00:00     102\n20:30:00      83\n21:30:00      78\n21:45:00      76\n18:00:00      70\n18h20         59\n21h40         49\n19:15:00      44\n16h           39\n15h00         37\n18:15:00      35\n11h00         34\n19h00         29\n21:50:00      27\n22:00:00      22\n16h20         21\n14h30         17\n15h45         17\n18h           14\n17h           13\n19h10         12\n16h10         12\n16:30:00      11\n22:30:00      10\n21h30          7\n15h30          6\n16:20:00       5\n20h00          4\n16:15:00       3\n17:30:00       3\n22h            3\n20:15:00       3\n22:50:00       3\n19:45:00       2\n16h30          2\n21:46:00       1\n15:00:00       1\n21h10          1\n22h30          1\n09h00          1\n18:45:00       1\nName: count, dtype: int64"
     },
     "execution_count": 24,
     "metadata": {},
     "output_type": "execute_result"
    }
   ],
   "source": [
    "brasileirao.Horário.value_counts()"
   ],
   "metadata": {
    "collapsed": false,
    "ExecuteTime": {
     "end_time": "2023-12-30T18:48:29.848764200Z",
     "start_time": "2023-12-30T18:48:29.793341Z"
    }
   },
   "execution_count": 24
  },
  {
   "cell_type": "code",
   "execution_count": 17,
   "metadata": {
    "scrolled": true,
    "ExecuteTime": {
     "end_time": "2023-12-30T18:45:56.373450300Z",
     "start_time": "2023-12-30T18:45:56.346064300Z"
    }
   },
   "outputs": [
    {
     "data": {
      "text/plain": "Vencedor\n-                  2148\nSão Paulo           366\nSantos              333\nGrêmio              322\nInternacional       322\nCruzeiro            322\nFlamengo            319\nCorinthians         306\nAthlético-PR        306\nFluminense          306\nAtlético-MG         302\nPalmeiras           294\nVasco               226\nGoiás               223\nBotafogo-RJ         210\nCoritiba            194\nVitória             152\nFigueirense         151\nPonte Preta         149\nSport               139\nBahia               135\nParaná              104\nSão Caetano         103\nJuventude            96\nChapecoense          69\nGuarani              63\nFortaleza            61\nPortuguesa           57\nAvaí                 57\nCeará                54\nNáutico              54\nAtlético-GO          51\nCriciúma             50\nPaysandu             50\nAmérica-MG           38\nBotafogo-rj          26\nSanta Cruz           25\nGama                 21\nBragantino           13\nBarueri              12\nSanto André          11\nBrasiliense          10\nIpatinga              9\nCSA                   8\nGrêmio Prudente       7\nJoinville             7\nSANTOS                6\nBotafogo-SP           6\nCRUZEIRO              4\nVASCO                 4\nFLUMINENSE            4\nAmérica-RN            4\nCORINTHIANS           3\nSPORT                 2\nFLAMENGO              1\nPONTE PRETA           1\nINTERNACIONAL         1\nPALMEIRAS             1\nportuguesa            1\nName: count, dtype: int64"
     },
     "execution_count": 17,
     "metadata": {},
     "output_type": "execute_result"
    }
   ],
   "source": [
    "brasileirao.Vencedor.value_counts()"
   ]
  },
  {
   "cell_type": "markdown",
   "metadata": {},
   "source": [
    "### Qual a tabela de jogos vencidos por clube na temporada de 2020? \n",
    "(periodo temp = '2020-01-01' a '2021-02-26')"
   ]
  },
  {
   "cell_type": "code",
   "execution_count": 25,
   "metadata": {
    "ExecuteTime": {
     "end_time": "2023-12-30T18:49:04.958784Z",
     "start_time": "2023-12-30T18:49:04.955246500Z"
    }
   },
   "outputs": [
    {
     "data": {
      "text/plain": "0       False\n1       False\n2       False\n3       False\n4       False\n        ...  \n8314     True\n8315     True\n8316     True\n8317     True\n8318     True\nName: Data, Length: 8319, dtype: bool"
     },
     "execution_count": 25,
     "metadata": {},
     "output_type": "execute_result"
    }
   ],
   "source": [
    "cond = (brasileirao['Data'] >= '2020-01-01')& (brasileirao['Data'] <= '2021-02-26')\n",
    "cond"
   ]
  },
  {
   "cell_type": "code",
   "execution_count": 26,
   "metadata": {
    "ExecuteTime": {
     "end_time": "2023-12-30T18:49:50.899785600Z",
     "start_time": "2023-12-30T18:49:50.894357800Z"
    }
   },
   "outputs": [
    {
     "data": {
      "text/plain": "Vencedor\n-                108\nFlamengo          21\nAtlético-MG       20\nInternacional     20\nSão Paulo         18\nFluminense        18\nPalmeiras         15\nAthlético-PR      15\nGrêmio            14\nSantos            14\nCeará             14\nBragantino        13\nCorinthians       13\nAtlético-GO       12\nBahia             12\nSport             12\nVasco             10\nFortaleza         10\nGoiás              9\nCoritiba           7\nBotafogo-RJ        5\nName: count, dtype: int64"
     },
     "execution_count": 26,
     "metadata": {},
     "output_type": "execute_result"
    }
   ],
   "source": [
    "brasileirao[cond]['Vencedor'].value_counts()"
   ]
  },
  {
   "cell_type": "markdown",
   "metadata": {},
   "source": [
    "### Qual a quantidade de partidas realizadas em cada estádio?"
   ]
  },
  {
   "cell_type": "code",
   "execution_count": 32,
   "metadata": {
    "ExecuteTime": {
     "end_time": "2023-12-30T18:58:49.630921800Z",
     "start_time": "2023-12-30T18:58:49.584390800Z"
    }
   },
   "outputs": [
    {
     "data": {
      "text/plain": "Arena\nMaracanã             626\nMineirão             466\nMorumbi              407\nBeira Rio            352\nVila Belmiro         340\n                    ... \nRomildo Ferreira       1\nVivaldo Lima           1\nPedro Pedrossian       1\nAntônio Guimarães      1\nPlácido Castelo        1\nName: count, Length: 114, dtype: int64"
     },
     "execution_count": 32,
     "metadata": {},
     "output_type": "execute_result"
    }
   ],
   "source": [
    "brasileirao['Arena'].value_counts()"
   ]
  },
  {
   "cell_type": "code",
   "execution_count": 14,
   "metadata": {
    "ExecuteTime": {
     "end_time": "2023-12-30T05:39:33.232107800Z",
     "start_time": "2023-12-30T05:39:33.176917400Z"
    }
   },
   "outputs": [],
   "source": []
  },
  {
   "cell_type": "markdown",
   "metadata": {},
   "source": [
    "# Lendo JSON"
   ]
  },
  {
   "cell_type": "markdown",
   "metadata": {},
   "source": [
    "## MeiliSearch\n",
    "- https://github.com/meilisearch/MeiliSearch\n",
    "- https://raw.githubusercontent.com/meilisearch/MeiliSearch/main/datasets/movies/movies.json"
   ]
  },
  {
   "cell_type": "code",
   "execution_count": 15,
   "metadata": {
    "ExecuteTime": {
     "end_time": "2023-12-31T03:24:30.984759800Z",
     "start_time": "2023-12-31T03:24:30.357142600Z"
    }
   },
   "outputs": [],
   "source": [
    "movies = pd.read_json('https://www.meilisearch.com/movies.json')"
   ]
  },
  {
   "cell_type": "code",
   "execution_count": 16,
   "metadata": {
    "ExecuteTime": {
     "end_time": "2023-12-31T03:24:32.426359500Z",
     "start_time": "2023-12-31T03:24:32.415631200Z"
    }
   },
   "outputs": [
    {
     "data": {
      "text/plain": "   id           title                                           overview  \\\n0   2           Ariel  Taisto Kasurinen is a Finnish coal miner whose...   \n1   5      Four Rooms  It's Ted the Bellhop's first night on the job....   \n2   6  Judgment Night  While racing to a boxing match, Frank, Mike, J...   \n3  11       Star Wars  Princess Leia is captured and held hostage by ...   \n4  12    Finding Nemo  Nemo, an adventurous young clownfish, is unexp...   \n\n                                 genres  \\\n0                [Drama, Crime, Comedy]   \n1                       [Crime, Comedy]   \n2             [Action, Thriller, Crime]   \n3  [Adventure, Action, Science Fiction]   \n4                   [Animation, Family]   \n\n                                              poster  release_date  \n0  https://image.tmdb.org/t/p/w500/ojDg0PGvs6R9xY...     593395200  \n1  https://image.tmdb.org/t/p/w500/75aHn1NOYXh4M7...     818467200  \n2  https://image.tmdb.org/t/p/w500/rYFAvSPlQUCeba...     750643200  \n3  https://image.tmdb.org/t/p/w500/6FfCtAuVAW8XJj...     233366400  \n4  https://image.tmdb.org/t/p/w500/eHuGQ10FUzK1md...    1054252800  ",
      "text/html": "<div>\n<style scoped>\n    .dataframe tbody tr th:only-of-type {\n        vertical-align: middle;\n    }\n\n    .dataframe tbody tr th {\n        vertical-align: top;\n    }\n\n    .dataframe thead th {\n        text-align: right;\n    }\n</style>\n<table border=\"1\" class=\"dataframe\">\n  <thead>\n    <tr style=\"text-align: right;\">\n      <th></th>\n      <th>id</th>\n      <th>title</th>\n      <th>overview</th>\n      <th>genres</th>\n      <th>poster</th>\n      <th>release_date</th>\n    </tr>\n  </thead>\n  <tbody>\n    <tr>\n      <th>0</th>\n      <td>2</td>\n      <td>Ariel</td>\n      <td>Taisto Kasurinen is a Finnish coal miner whose...</td>\n      <td>[Drama, Crime, Comedy]</td>\n      <td>https://image.tmdb.org/t/p/w500/ojDg0PGvs6R9xY...</td>\n      <td>593395200</td>\n    </tr>\n    <tr>\n      <th>1</th>\n      <td>5</td>\n      <td>Four Rooms</td>\n      <td>It's Ted the Bellhop's first night on the job....</td>\n      <td>[Crime, Comedy]</td>\n      <td>https://image.tmdb.org/t/p/w500/75aHn1NOYXh4M7...</td>\n      <td>818467200</td>\n    </tr>\n    <tr>\n      <th>2</th>\n      <td>6</td>\n      <td>Judgment Night</td>\n      <td>While racing to a boxing match, Frank, Mike, J...</td>\n      <td>[Action, Thriller, Crime]</td>\n      <td>https://image.tmdb.org/t/p/w500/rYFAvSPlQUCeba...</td>\n      <td>750643200</td>\n    </tr>\n    <tr>\n      <th>3</th>\n      <td>11</td>\n      <td>Star Wars</td>\n      <td>Princess Leia is captured and held hostage by ...</td>\n      <td>[Adventure, Action, Science Fiction]</td>\n      <td>https://image.tmdb.org/t/p/w500/6FfCtAuVAW8XJj...</td>\n      <td>233366400</td>\n    </tr>\n    <tr>\n      <th>4</th>\n      <td>12</td>\n      <td>Finding Nemo</td>\n      <td>Nemo, an adventurous young clownfish, is unexp...</td>\n      <td>[Animation, Family]</td>\n      <td>https://image.tmdb.org/t/p/w500/eHuGQ10FUzK1md...</td>\n      <td>1054252800</td>\n    </tr>\n  </tbody>\n</table>\n</div>"
     },
     "execution_count": 16,
     "metadata": {},
     "output_type": "execute_result"
    }
   ],
   "source": [
    "movies.head()"
   ]
  },
  {
   "cell_type": "markdown",
   "metadata": {},
   "source": [
    "### Quais são os tipos de dados das colunas?"
   ]
  },
  {
   "cell_type": "code",
   "execution_count": 17,
   "metadata": {
    "ExecuteTime": {
     "end_time": "2023-12-31T03:24:35.162034800Z",
     "start_time": "2023-12-31T03:24:35.155038Z"
    }
   },
   "outputs": [
    {
     "data": {
      "text/plain": "id               int64\ntitle           object\noverview        object\ngenres          object\nposter          object\nrelease_date     int64\ndtype: object"
     },
     "execution_count": 17,
     "metadata": {},
     "output_type": "execute_result"
    }
   ],
   "source": [
    "movies.dtypes"
   ]
  },
  {
   "cell_type": "markdown",
   "metadata": {},
   "source": [
    "### Qual genêro predominante no conjunto de dados?"
   ]
  },
  {
   "cell_type": "code",
   "execution_count": 18,
   "metadata": {
    "ExecuteTime": {
     "end_time": "2023-12-31T03:24:37.892462600Z",
     "start_time": "2023-12-31T03:24:37.873412800Z"
    }
   },
   "outputs": [
    {
     "data": {
      "text/plain": "genres\nDrama              12408\nComedy              9331\nThriller            6503\nAction              5404\nHorror              4592\nRomance             4406\nDocumentary         3352\nCrime               3121\nAdventure           3020\nScience Fiction     2845\nFamily              2820\nMystery             2080\nFantasy             2071\nAnimation           1969\nTV Movie            1943\nMusic               1711\nHistory             1005\nWar                  740\nWestern              570\nName: count, dtype: int64"
     },
     "execution_count": 18,
     "metadata": {},
     "output_type": "execute_result"
    }
   ],
   "source": [
    "movies['genres'].explode().value_counts()"
   ]
  },
  {
   "cell_type": "markdown",
   "metadata": {},
   "source": [
    "### Qual o ano de lançamento predominante da base??"
   ]
  },
  {
   "cell_type": "code",
   "execution_count": 73,
   "metadata": {
    "ExecuteTime": {
     "end_time": "2023-12-30T19:16:18.118084200Z",
     "start_time": "2023-12-30T19:16:18.108070700Z"
    }
   },
   "outputs": [
    {
     "data": {
      "text/plain": "[593395200,\n 818467200,\n 750643200,\n 233366400,\n 1054252800,\n 773452800,\n 937353600,\n -905990400,\n 958521600,\n 1127865600,\n 862531200,\n -1353888000,\n 1046995200,\n -111974400,\n 1057708800,\n 1065744000,\n 1131062400,\n 1084665600,\n 303523200,\n 819676800,\n 713145600,\n 1185321600,\n 1079654400,\n 961113600,\n 1152144000,\n 1127433600,\n -55209600,\n 820195200,\n 1016064000,\n 1036713600,\n 855878400,\n 1108339200,\n 477705600,\n 1126569600,\n 1103068800,\n 958608000,\n 909705600,\n 1119916800,\n 850348800,\n 791164800,\n 971222400,\n 393811200,\n 1027296000,\n 1076371200,\n 447811200,\n 1153958400,\n 1091750400,\n 361152000,\n 1139529600,\n 454118400,\n 556502400,\n 611971200,\n 470620800,\n -331516800,\n 899251200,\n 548294400,\n 395020800,\n 957139200,\n 924480000,\n 889056000,\n 779500800,\n 192672000,\n 888883200,\n 489196800,\n 550454400,\n 967766400,\n 747446400,\n 759542400,\n 769996800,\n 439776000,\n 1063929600,\n 638150400,\n 889142400,\n 1130284800,\n 549676800,\n 1121212800,\n 1008633600,\n 1040169600,\n 1070236800,\n 279936000,\n 868665600,\n 995587200,\n 29289600,\n 967593600,\n -82944000,\n -1195603200,\n 729388800,\n -1227139200,\n 1004054400,\n 1126310400,\n -1252108800,\n 548208000,\n 831945600,\n 962841600,\n -333936000,\n 1134604800,\n 585014400,\n 408067200,\n 313372800,\n 1063843200,\n 391996800,\n 1216166400,\n 454896000,\n 856396800,\n 1007683200,\n 660355200,\n 1102550400,\n -259977600,\n 627696000,\n 345859200,\n 1003708800,\n 533347200,\n 659059200,\n 1036022400,\n 408153600,\n 613353600,\n -474163200,\n 691977600,\n 579225600,\n 1096588800,\n 685324800,\n 773020800,\n 1112918400,\n 1024531200,\n 1165536000,\n 629683200,\n 860630400,\n 61948800,\n 1140739200,\n 1112313600,\n 1408492800,\n 527904000,\n 785116800,\n 988156800,\n -1173052800,\n 643593600,\n 801273600,\n -878169600,\n 848620800,\n 913334400,\n 1039737600,\n 118368000,\n -526867200,\n 1078358400,\n 612748800,\n -799459200,\n -330912000,\n 1161907200,\n 1130457600,\n 139622400,\n 1211328000,\n 467596800,\n 1142467200,\n -467596800,\n -447379200,\n -939686400,\n 936230400,\n 417398400,\n -1254528000,\n -1095120000,\n 1132704000,\n 435456000,\n 300672000,\n -1572998400,\n 523843200,\n 777513600,\n 1064534400,\n 69379200,\n -340502400,\n 156729600,\n 777772800,\n 662083200,\n 953251200,\n -1161302400,\n 1019779200,\n 1062806400,\n -428284800,\n -253670400,\n 629078400,\n 647740800,\n 47001600,\n 110678400,\n 1134345600,\n -41817600,\n 1127433600,\n 21686400,\n 285984000,\n -1091059200,\n -357955200,\n 409017600,\n -194918400,\n 877996800,\n 614563200,\n -309139200,\n 471830400,\n 1118361600,\n 665366400,\n 826243200,\n 1098662400,\n 1063929600,\n 780278400,\n 463276800,\n 678499200,\n 813542400,\n -300758400,\n 1179532800,\n 582336000,\n -554256000,\n -855187200,\n 681004800,\n 1089331200,\n 1126483200,\n 718588800,\n 496972800,\n 1057104000,\n 910828800,\n 1181088000,\n -296438400,\n 1139616000,\n -340675200,\n 1053475200,\n -737337600,\n 769737600,\n -765676800,\n 1123200000,\n 898214400,\n 1053648000,\n 454118400,\n 1157673600,\n 1090454400,\n -139017600,\n 950054400,\n 747532800,\n 1022198400,\n 1054857600,\n 1041379200,\n 1154822400,\n 968457600,\n 739756800,\n 932688000,\n 1009843200,\n 944784000,\n -32486400,\n 56764800,\n 1044748800,\n 692496000,\n 1126828800,\n 1157932800,\n 1094083200,\n 62035200,\n 932083200,\n -494985600,\n 296438400,\n 1151625600,\n 1078963200,\n 708912000,\n 469238400,\n 541555200,\n 653875200,\n 597801600,\n -454896000,\n 507945600,\n 369446400,\n 1142553600,\n -401673600,\n 787536000,\n -187920000,\n 951955200,\n 1082073600,\n 1092268800,\n -111369600,\n 799632000,\n 1128038400,\n 817776000,\n 1090972800,\n 701049600,\n 629510400,\n 939945600,\n -482025600,\n 801878400,\n -1010793600,\n 847152000,\n 1133913600,\n 803260800,\n 866764800,\n 1102636800,\n -217123200,\n 1032220800,\n 754617600,\n 1015718400,\n -365990400,\n -367545600,\n -95472000,\n -253929600,\n 873763200,\n -168739200,\n 1085529600,\n 1074384000,\n 1018828800,\n 1097798400,\n -312595200,\n 1198540800,\n 1000252800,\n 1128470400,\n 814752000,\n 893721600,\n 1008028800,\n 846806400,\n 1018483200,\n -442713600,\n -412905600,\n -379900800,\n 953251200,\n 46483200,\n 987724800,\n 665366400,\n 465436800,\n 1046822400,\n 900028800,\n -77587200,\n 624844800,\n 961027200,\n 999129600,\n 46656000,\n 650851200,\n -567561600,\n 881280000,\n -406252800,\n 941155200,\n 108864000,\n 1162339200,\n 944784000,\n -243820800,\n 715392000,\n 1123804800,\n -165196800,\n 1147219200,\n 1072224000,\n 621561600,\n -172281600,\n 1062892800,\n 926553600,\n 185500800,\n 1153958400,\n 872208000,\n -492134400,\n 780624000,\n 816998400,\n 329961600,\n 480729600,\n 778464000,\n 642988800,\n 756086400,\n 797472000,\n 1125792000,\n 1242777600,\n 419126400,\n -300672000,\n 1074643200,\n -442368000,\n 1033430400,\n -1275868800,\n 900460800,\n 1135296000,\n 895104000,\n -610675200,\n 839548800,\n 939945600,\n 93052800,\n 952041600,\n 1053302400,\n 1020211200,\n 1088121600,\n 1177977600,\n -694569600,\n 1107820800,\n 584928000,\n 878860800,\n 924220800,\n 1034899200,\n -483926400,\n 804470400,\n -213494400,\n 72057600,\n -430099200,\n -17107200,\n 811728000,\n 172281600,\n 266803200,\n 553478400,\n 638755200,\n 1142380800,\n 303696000,\n 1004572800,\n 883008000,\n 1072310400,\n 1145577600,\n 1040947200,\n 1147824000,\n 134524800,\n 69897600,\n 1087430400,\n -221529600,\n -940377600,\n 879811200,\n 1012867200,\n -612057600,\n 551664000,\n 392601600,\n 835660800,\n 922752000,\n 1052956800,\n 1067817600,\n 503884800,\n 867801600,\n 1025654400,\n 391996800,\n 1135296000,\n 1094601600,\n -379209600,\n 1077667200,\n 1042070400,\n 890352000,\n -1732406400,\n 722649600,\n 455500800,\n 268617600,\n 935539200,\n 584928000,\n -20649600,\n 468201600,\n 825033600,\n 784512000,\n 806112000,\n -958780800,\n -1330473600,\n -523670400,\n 243734400,\n 987120000,\n 541987200,\n 37497600,\n 882576000,\n 853286400,\n 600566400,\n 1040774400,\n 970790400,\n -8640000,\n -1389225600,\n 993772800,\n -228355200,\n 1121299200,\n -731376000,\n -82339200,\n 679276800,\n 4147200,\n 1083542400,\n -1510704000,\n -490060800,\n 462067200,\n -196473600,\n -166665600,\n 294451200,\n -128044800,\n 290995200,\n -248486400,\n 1193270400,\n 831686400,\n -316137600,\n 911520000,\n -80611200,\n -1728000,\n -1500854400,\n 1069372800,\n 1005868800,\n 1037145600,\n 1085961600,\n 1132099200,\n 1182988800,\n 990403200,\n -1000425600,\n -697507200,\n 522028800,\n 779155200,\n 61430400,\n 155088000,\n 868579200,\n 820195200,\n 801619200,\n -317001600,\n 237081600,\n 1103673600,\n 327888000,\n 747187200,\n 293846400,\n 299203200,\n 362102400,\n 423619200,\n -1455408000,\n -577152000,\n 230256000,\n -173145600,\n -607132800,\n 485740800,\n 551923200,\n 615772800,\n 816480000,\n 977356800,\n 763171200,\n 737769600,\n 881798400,\n 967161600,\n 516585600,\n 933897600,\n 549072000,\n 1081468800,\n -260841600,\n -205891200,\n 1140652800,\n -34819200,\n 867369600,\n 822009600,\n -919382400,\n -184204800,\n -166492800,\n -519696000,\n 119664000,\n 215222400,\n 170208000,\n 713664000,\n 368928000,\n 542592000,\n 720489600,\n 1246924800,\n 981590400,\n 653097600,\n -948240000,\n 722131200,\n 1153872000,\n -2136758400,\n -961977600,\n -1028073600,\n -531705600,\n -1188345600,\n -1315872000,\n 873590400,\n 407462400,\n 831254400,\n 968976000,\n 1118102400,\n 754099200,\n -98496000,\n 318816000,\n 1129248000,\n 535334400,\n 527472000,\n 202867200,\n 892166400,\n 920592000,\n -101174400,\n -601603200,\n 567216000,\n -237686400,\n -431568000,\n -515980800,\n 1149552000,\n 811728000,\n 990144000,\n 1084924800,\n 1179360000,\n 68947200,\n 722649600,\n 331344000,\n 367200000,\n 938908800,\n 862531200,\n 928800000,\n 1027641600,\n 845596800,\n 693187200,\n -255139200,\n 942796800,\n 990662400,\n 914976000,\n -385776000,\n -470966400,\n -576288000,\n 140918400,\n -434764800,\n -460339200,\n -1219536000,\n -566438400,\n 1137024000,\n 413164800,\n 113011200,\n 58838400,\n 248659200,\n 471830400,\n 1084752000,\n 1085011200,\n -584323200,\n 898214400,\n 580089600,\n 362361600,\n 428284800,\n 437961600,\n -760665600,\n 984528000,\n 775440000,\n 1009497600,\n 582854400,\n 901238400,\n 740880000,\n 598665600,\n 423446400,\n 644198400,\n 815011200,\n 941241600,\n 749433600,\n 563760000,\n 1097971200,\n 737942400,\n 1124323200,\n 996019200,\n 1031184000,\n -59961600,\n -559526400,\n 503712000,\n -96422400,\n -1196380800,\n -1190678400,\n -818208000,\n 671241600,\n 724032000,\n 1062720000,\n -1303084800,\n -132969600,\n -726451200,\n 769910400,\n 956880000,\n 197424000,\n 671846400,\n -96076800,\n -417312000,\n -236563200,\n -1598054400,\n -1005696000,\n -1228089600,\n 808617600,\n -79833600,\n -1291334400,\n -127094400,\n -791856000,\n -737164800,\n -918000000,\n -47865600,\n 933897600,\n -921196800,\n -32659200,\n 543801600,\n 974505600,\n 1149724800,\n 1117670400,\n 819676800,\n 273542400,\n 1079654400,\n 613785600,\n 945907200,\n 455414400,\n 645408000,\n 895622400,\n 123724800,\n -464572800,\n -186969600,\n -190598400,\n -146620800,\n -1332979200,\n -985737600,\n 541987200,\n 615772800,\n 705888000,\n 900028800,\n -684115200,\n -222739200,\n 278035200,\n 818985600,\n 1143590400,\n 661737600,\n 1116979200,\n 832723200,\n 959126400,\n 1146614400,\n 551491200,\n -1357603200,\n -1403481600,\n -890092800,\n -1397260800,\n -867196800,\n -306633600,\n -290908800,\n 180489600,\n -387763200,\n -394329600,\n -1212451200,\n 874022400,\n -846115200,\n -917481600,\n -228873600,\n 186796800,\n 48297600,\n 255312000,\n -151372800,\n 155088000,\n 290390400,\n -932515200,\n -260928000,\n 195955200,\n -1442448000,\n 92793600,\n 62294400,\n -973036800,\n -806284800,\n 991785600,\n 1113523200,\n 779328000,\n -213494400,\n 728870400,\n 55814400,\n -95904000,\n 421632000,\n -347500800,\n 921801600,\n 896659200,\n 1043884800,\n 665280000,\n 924220800,\n 393811200,\n -641779200,\n -376272000,\n 359424000,\n 1143158400,\n 1161907200,\n 1161216000,\n 1167004800,\n -240192000,\n 973987200,\n 1157673600,\n 1158278400,\n 946080000,\n 752457600,\n 1166572800,\n 1165795200,\n 1156982400,\n 1171584000,\n 1166486400,\n 1146355200,\n 1166140800,\n 1157500800,\n 1153958400,\n 1170374400,\n 1167004800,\n 1157760000,\n 1171497600,\n 1207785600,\n 1174608000,\n 1174521600,\n 1173225600,\n 1175731200,\n 1174608000,\n 1078444800,\n 1097798400,\n 867888000,\n 979776000,\n 889747200,\n 985910400,\n 1128038400,\n 1151020800,\n 686275200,\n 955584000,\n 1030579200,\n 326851200,\n 249436800,\n 914976000,\n 998611200,\n 991872000,\n 217382400,\n 298252800,\n 404092800,\n 485481600,\n 580435200,\n 391392000,\n 1138233600,\n 1001894400,\n 501379200,\n 658713600,\n 1021939200,\n -350870400,\n 600652800,\n 1157500800,\n 1118966400,\n 898819200,\n 991958400,\n 1102464000,\n 420595200,\n 163382400,\n 296438400,\n 1166054400,\n -111974400,\n 1076630400,\n -1417910400,\n 676252800,\n 1171411200,\n 819590400,\n 134006400,\n 686534400,\n 618192000,\n 747532800,\n 904867200,\n 1062720000,\n 1156464000,\n 1065571200,\n 1125705600,\n 230947200,\n 1160006400,\n 1121990400,\n 1158105600,\n 1063238400,\n 1039996800,\n 1034121600,\n 987724800,\n 1066521600,\n 999820800,\n 945302400,\n 1160092800,\n 1144195200,\n 946598400,\n 1123027200,\n 912124800,\n 1238630400,\n 1151452800,\n 747187200,\n -371088000,\n 676080000,\n 36806400,\n 1080864000,\n 1155859200,\n 718588800,\n 977443200,\n 1166054400,\n 1115078400,\n 687744000,\n 669600000,\n 638755200,\n 732326400,\n 1137024000,\n 1168473600,\n 1006041600,\n 1018137600,\n 1091577600,\n 675043200,\n 919382400,\n 1107216000,\n 1106438400,\n 554688000,\n 995587200,\n 1066348800,\n 650246400,\n 617846400,\n 1110931200,\n 527558400,\n 1021593600,\n -9504000,\n 899337600,\n 140227200,\n -87264000,\n 1177545600,\n 414115200,\n -321840000,\n 1182297600,\n 800841600,\n 646876800,\n 1040860800,\n 1016150400,\n 1094774400,\n 343008000,\n 1165449600,\n -688262400,\n 1165536000,\n 998524800,\n 1065139200,\n -726883200,\n 1079049600,\n 756086400,\n 967161600,\n 1063324800,\n 1157846400,\n 1008028800,\n 826070400,\n 1161302400,\n -174355200,\n 1094774400,\n 1151971200,\n 970790400,\n 690163200,\n 1094774400,\n 674265600,\n 747964800,\n 967161600,\n 860112000,\n 1007683200,\n 909705600,\n 968371200,\n 1195603200,\n 423792000,\n 330307200,\n 858902400,\n -231811200,\n 4838400,\n -250560000,\n 851472000,\n 597542400,\n 693792000,\n 742780800,\n 1121904000,\n 971913600,\n 771120000,\n 866160000,\n 1115337600,\n 921196800,\n 806889600,\n 728870400,\n 838166400,\n 1167955200,\n 1043971200,\n 603676800,\n 679881600,\n -17020800,\n 1076025600,\n -80438400,\n 1130112000,\n 195868800,\n 653270400,\n 1115942400,\n 1161907200,\n 1106697600,\n 636336000,\n 372470400,\n -310435200,\n 107049600,\n -64281600,\n 1099008000,\n -478483200,\n -463622400,\n -233280000,\n -179107200,\n 1175731200,\n 9676800,\n 43545600,\n 78624000,\n 754704000,\n 1136505600,\n 1181260800,\n 498441600,\n 1121990400,\n 949536000,\n 659923200,\n 865468800,\n 108950400,\n 799459200,\n 907200000,\n -413510400,\n 676252800,\n -104716800,\n 945388800,\n 337996800,\n 1157846400,\n -179884800,\n 93830400,\n 987552000,\n 211766400,\n 1213228800,\n -254102400,\n 1209513600,\n 642988800,\n 1208476800,\n 1157500800,\n 1232064000,\n 988934400,\n 1214870400,\n 1177372800,\n 846201600,\n 1311292800,\n 873504000,\n 802569600,\n 1158278400,\n 1088121600,\n 620611200,\n 1148428800,\n 1222819200,\n 999388800,\n 560563200,\n ...]"
     },
     "execution_count": 73,
     "metadata": {},
     "output_type": "execute_result"
    }
   ],
   "source": [
    "import datetime\n",
    "import numpy as np\n",
    "\n",
    "movies['release_date'].to_list()\n"
   ]
  },
  {
   "cell_type": "code",
   "execution_count": 81,
   "metadata": {
    "ExecuteTime": {
     "end_time": "2023-12-30T19:18:24.920700800Z",
     "start_time": "2023-12-30T19:18:24.898181900Z"
    }
   },
   "outputs": [],
   "source": [
    "lst = []\n",
    "for movie in movies['release_date'].to_list():\n",
    "    #print(movie)\n",
    "    try:\n",
    "        lst.append(datetime.date.fromtimestamp(movie).year)\n",
    "    except:\n",
    "        lst.append(np.nan)"
   ]
  },
  {
   "cell_type": "code",
   "execution_count": 82,
   "metadata": {
    "ExecuteTime": {
     "end_time": "2023-12-30T19:18:27.032022Z",
     "start_time": "2023-12-30T19:18:27.016342300Z"
    }
   },
   "outputs": [],
   "source": [
    "movies['ano'] = lst"
   ]
  },
  {
   "cell_type": "code",
   "execution_count": 83,
   "metadata": {
    "ExecuteTime": {
     "end_time": "2023-12-30T19:18:28.233360200Z",
     "start_time": "2023-12-30T19:18:28.230846500Z"
    }
   },
   "outputs": [
    {
     "data": {
      "text/plain": "ano\n2016.0    1907\n2015.0    1841\n2014.0    1733\n2013.0    1657\n2012.0    1468\n2011.0    1426\n2017.0    1400\n2009.0    1316\n2008.0    1241\n2007.0    1230\n2010.0    1190\n2006.0    1125\n2005.0    1030\n2004.0     896\n2003.0     800\n2002.0     759\n2000.0     716\n2001.0     714\n1999.0     489\n2018.0     449\n1998.0     448\n1996.0     417\n1997.0     411\n1995.0     400\n1994.0     388\n1993.0     347\n1992.0     306\n1991.0     299\n1990.0     297\n1988.0     277\n1989.0     247\n1987.0     245\n1986.0     201\n1985.0     193\n1984.0     178\n1981.0     164\n1983.0     157\n1982.0     149\n1980.0     149\n2019.0     135\n1978.0     116\n1973.0     113\n1979.0     110\n1977.0     107\n1971.0     107\n1972.0     103\n1974.0     101\n1976.0      94\n1970.0      88\n1975.0      86\n2020.0      42\n2021.0      27\n2022.0       9\n1969.0       2\nName: count, dtype: int64"
     },
     "execution_count": 83,
     "metadata": {},
     "output_type": "execute_result"
    }
   ],
   "source": [
    "movies['ano'].value_counts()"
   ]
  }
 ],
 "metadata": {
  "kernelspec": {
   "display_name": "Python 3",
   "language": "python",
   "name": "python3"
  },
  "language_info": {
   "codemirror_mode": {
    "name": "ipython",
    "version": 3
   },
   "file_extension": ".py",
   "mimetype": "text/x-python",
   "name": "python",
   "nbconvert_exporter": "python",
   "pygments_lexer": "ipython3",
   "version": "3.8.5"
  },
  "varInspector": {
   "cols": {
    "lenName": 16,
    "lenType": 16,
    "lenVar": 40
   },
   "kernels_config": {
    "python": {
     "delete_cmd_postfix": "",
     "delete_cmd_prefix": "del ",
     "library": "var_list.py",
     "varRefreshCmd": "print(var_dic_list())"
    },
    "r": {
     "delete_cmd_postfix": ") ",
     "delete_cmd_prefix": "rm(",
     "library": "var_list.r",
     "varRefreshCmd": "cat(var_dic_list()) "
    }
   },
   "types_to_exclude": [
    "module",
    "function",
    "builtin_function_or_method",
    "instance",
    "_Feature"
   ],
   "window_display": false
  }
 },
 "nbformat": 4,
 "nbformat_minor": 4
}
